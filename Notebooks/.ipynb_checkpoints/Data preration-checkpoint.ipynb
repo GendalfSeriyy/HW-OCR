{
 "cells": [
  {
   "cell_type": "markdown",
   "metadata": {},
   "source": [
    "# Create Dataset pickle files  \n",
    "Import required modules"
   ]
  },
  {
   "cell_type": "code",
   "execution_count": 31,
   "metadata": {},
   "outputs": [],
   "source": [
    "import csv\n",
    "import cv2\n",
    "import glob\n",
    "import json\n",
    "import pickle\n",
    "import random\n",
    "import matplotlib.pyplot as plt\n",
    "import matplotlib\n",
    "%matplotlib inline\n",
    "\n",
    "from tqdm import tqdm"
   ]
  },
  {
   "cell_type": "markdown",
   "metadata": {},
   "source": [
    "Input paths to folders with .json and .jpg files of dataset.  \n",
    "Also specify path to [dataset split file](https://github.com/bosskairat/Dataset/blob/main/HKR_splitting.csv) path and path to resulting .pickle files.  \n",
    "\n",
    "! Warning ! \n",
    "\n",
    "If next assert fails, it means that dataset was downloaded incorrectly, as number of images and jsons does not match."
   ]
  },
  {
   "cell_type": "code",
   "execution_count": 42,
   "metadata": {},
   "outputs": [
    {
     "name": "stdout",
     "output_type": "stream",
     "text": [
      "Number of jsons:  64943\n",
      "Number of images: 64943\n"
     ]
    }
   ],
   "source": [
    "json_path = '/home/storage/3020/KrivorotovI/db/HKR/ann/'\n",
    "imgs_path = '/home/storage/3020/KrivorotovI/db/HKR/img/'\n",
    "dataset_split_path = '/home/storage/3020/KrivorotovI/db/HKR/HKR_splitting.csv'\n",
    "pickle_path = '/home/storage/3020/KrivorotovI/db/HKR/datasets/'\n",
    "\n",
    "jsons = glob.glob(json_path + '*.json')\n",
    "images = glob.glob(imgs_path + '*.jpg')\n",
    "\n",
    "print(f'Number of jsons:  {len(jsons)}')\n",
    "print(f'Number of images: {len(images)}')\n",
    "\n",
    "assert len(jsons) == len(images), \"Number of jsons and images does not match! Redownload dataset please.\""
   ]
  },
  {
   "cell_type": "markdown",
   "metadata": {},
   "source": [
    "This line parses dataset split .csv file"
   ]
  },
  {
   "cell_type": "code",
   "execution_count": 21,
   "metadata": {},
   "outputs": [
    {
     "name": "stdout",
     "output_type": "stream",
     "text": [
      "{'val', 'test2', 'train', 'test1'}\n"
     ]
    }
   ],
   "source": [
    "debug = False\n",
    "keys_set = set()\n",
    "with open(dataset_split_path, newline='') as csvfile:\n",
    "    reader = csv.reader(csvfile)\n",
    "    next(reader, None)\n",
    "    for row in reader:\n",
    "        keys_set.add(row[1])\n",
    "        if debug:\n",
    "            print(row)\n",
    "            break\n",
    "\n",
    "print(keys_set)"
   ]
  },
  {
   "cell_type": "markdown",
   "metadata": {},
   "source": [
    "Create dictionary with dataset splits for **train / val / test1 / test2**"
   ]
  },
  {
   "cell_type": "code",
   "execution_count": 34,
   "metadata": {},
   "outputs": [
    {
     "name": "stdout",
     "output_type": "stream",
     "text": [
      "{'val': [], 'test2': [], 'train': [], 'test1': []}\n"
     ]
    }
   ],
   "source": [
    "total_dict = dict((key, []) for key in keys_set)\n",
    "print(total_dict)"
   ]
  },
  {
   "cell_type": "markdown",
   "metadata": {},
   "source": [
    "Test reading one image with .csv file"
   ]
  },
  {
   "cell_type": "code",
   "execution_count": 27,
   "metadata": {},
   "outputs": [
    {
     "data": {
      "text/plain": [
       "<matplotlib.image.AxesImage at 0x7f49752b7490>"
      ]
     },
     "execution_count": 27,
     "metadata": {},
     "output_type": "execute_result"
    },
    {
     "data": {
      "image/png": "[encoded data removed]",
      "text/plain": [
       "<Figure size 432x288 with 1 Axes>"
      ]
     },
     "metadata": {
      "needs_background": "light"
     },
     "output_type": "display_data"
    }
   ],
   "source": [
    "img = cv2.cvtColor(cv2.imread(imgs_path + row[0] + '.jpg'), cv2.COLOR_BGR2RGB)\n",
    "plt.imshow(img)"
   ]
  },
  {
   "cell_type": "markdown",
   "metadata": {},
   "source": [
    "Analyze json file"
   ]
  },
  {
   "cell_type": "code",
   "execution_count": 28,
   "metadata": {},
   "outputs": [
    {
     "name": "stdout",
     "output_type": "stream",
     "text": [
      "{'size': {'width': 381, 'height': 60}, 'moderation': {'isModerated': 1, 'moderatedBy': 'Norlist', 'predicted': ''}, 'description': 'Белоруссия', 'name': '10_1_408'}\n",
      "Белоруссия\n",
      "{'width': 381, 'height': 60}\n"
     ]
    }
   ],
   "source": [
    "idx = 0\n",
    "with open(jsons[idx], 'rb') as f:\n",
    "    file = json.load(f)\n",
    "print(file)\n",
    "print(file['description'])\n",
    "print(file['size'])"
   ]
  },
  {
   "cell_type": "markdown",
   "metadata": {},
   "source": [
    "Create final dictionaries with dataset splits and info from json files"
   ]
  },
  {
   "cell_type": "code",
   "execution_count": 35,
   "metadata": {},
   "outputs": [
    {
     "name": "stderr",
     "output_type": "stream",
     "text": [
      "64943it [00:38, 1681.00it/s]\n"
     ]
    }
   ],
   "source": [
    "with open(dataset_split_path, newline='') as csvfile:\n",
    "    reader = csv.reader(csvfile)\n",
    "    next(reader, None)\n",
    "    for row in tqdm(reader):\n",
    "        with open(json_path + row[0] + '.json', 'rb') as f:\n",
    "            file = json.load(f)\n",
    "        result = {'img_path': imgs_path + row[0] + '.jpg',\n",
    "                  'description': file['description'],\n",
    "                  'width': file['size']['width'],\n",
    "                  'height': file['size']['height']}\n",
    "        total_dict[row[1]].append(result)"
   ]
  },
  {
   "cell_type": "markdown",
   "metadata": {},
   "source": [
    "Evaluate result"
   ]
  },
  {
   "cell_type": "code",
   "execution_count": 41,
   "metadata": {},
   "outputs": [
    {
     "name": "stdout",
     "output_type": "stream",
     "text": [
      "val\n",
      "{'img_path': '/home/storage/3020/KrivorotovI/db/HKR/img/7_44_425.jpg', 'description': 'сознания бессилья', 'width': 597, 'height': 80}\n",
      "Total size of val is 9375 images\n",
      "--------------------------------------\n",
      "test2\n",
      "{'img_path': '/home/storage/3020/KrivorotovI/db/HKR/img/11_17_40_.jpg', 'description': 'Поселок', 'width': 246, 'height': 60}\n",
      "Total size of test2 is 5043 images\n",
      "--------------------------------------\n",
      "train\n",
      "{'img_path': '/home/storage/3020/KrivorotovI/db/HKR/img/4_49_256.jpg', 'description': 'мои ямщик,', 'width': 517, 'height': 64}\n",
      "Total size of train is 45559 images\n",
      "--------------------------------------\n",
      "test1\n",
      "{'img_path': '/home/storage/3020/KrivorotovI/db/HKR/img/10_28_78.jpg', 'description': 'Мангистауская', 'width': 497, 'height': 76}\n",
      "Total size of test1 is 4966 images\n",
      "--------------------------------------\n"
     ]
    }
   ],
   "source": [
    "for key in keys_set:\n",
    "    print(key)\n",
    "    sample = random.sample(total_dict[key], 1)[0]\n",
    "    print(sample)\n",
    "    print(f'Total size of {key} is {len(total_dict[key])} images')\n",
    "    print('--------------------------------------')"
   ]
  },
  {
   "cell_type": "markdown",
   "metadata": {},
   "source": [
    "Look at one interesting picture and annotation(in uppercase for some reason)"
   ]
  },
  {
   "cell_type": "code",
   "execution_count": 46,
   "metadata": {},
   "outputs": [
    {
     "name": "stdout",
     "output_type": "stream",
     "text": [
      "ЖАМБЫЛСКАЯ\n"
     ]
    },
    {
     "data": {
      "text/plain": [
       "<matplotlib.image.AxesImage at 0x7f4975474210>"
      ]
     },
     "execution_count": 46,
     "metadata": {},
     "output_type": "execute_result"
    },
    {
     "data": {
      "image/png": "[encoded data removed]",
      "text/plain": [
       "<Figure size 432x288 with 1 Axes>"
      ]
     },
     "metadata": {
      "needs_background": "light"
     },
     "output_type": "display_data"
    }
   ],
   "source": [
    "path = '/home/storage/3020/KrivorotovI/db/HKR/img/10_37_326.jpg'\n",
    "img = cv2.cvtColor(cv2.imread(path), cv2.COLOR_BGR2RGB)\n",
    "with open(path.replace('img', 'ann').replace('.jpg', '.json'), 'rb') as f:\n",
    "    file = json.load(f)\n",
    "    print(file['description'])\n",
    "plt.imshow(img)"
   ]
  },
  {
   "cell_type": "markdown",
   "metadata": {},
   "source": [
    "Save pickle files of dataset splits"
   ]
  },
  {
   "cell_type": "code",
   "execution_count": 44,
   "metadata": {},
   "outputs": [],
   "source": [
    "for key in total_dict.keys():\n",
    "    with open(pickle_path + key + '.pkl', 'wb') as f:\n",
    "        pickle.dump(total_dict[key], f)"
   ]
  }
 ],
 "metadata": {
  "kernelspec": {
   "display_name": "Python 3",
   "language": "python",
   "name": "python3"
  },
  "language_info": {
   "codemirror_mode": {
    "name": "ipython",
    "version": 3
   },
   "file_extension": ".py",
   "mimetype": "text/x-python",
   "name": "python",
   "nbconvert_exporter": "python",
   "pygments_lexer": "ipython3",
   "version": "3.7.7"
  }
 },
 "nbformat": 4,
 "nbformat_minor": 4
}
