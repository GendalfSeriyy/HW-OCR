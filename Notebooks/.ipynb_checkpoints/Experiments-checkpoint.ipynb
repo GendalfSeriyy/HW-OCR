{
 "cells": [
  {
   "cell_type": "code",
   "execution_count": 1,
   "metadata": {},
   "outputs": [],
   "source": [
    "import sys\n",
    "sys.path.append('/home/storage/3020/KrivorotovI/db/HKR/')\n",
    "from htrl.trainer import Trainer"
   ]
  },
  {
   "cell_type": "markdown",
   "metadata": {},
   "source": [
    "# Experiment CRNN"
   ]
  },
  {
   "cell_type": "code",
   "execution_count": 2,
   "metadata": {},
   "outputs": [
    {
     "data": {
      "application/vnd.jupyter.widget-view+json": {
       "model_id": "a2ab51047fdb4dd786e42f6d177a32d8",
       "version_major": 2,
       "version_minor": 0
      },
      "text/plain": [
       "HBox(children=(FloatProgress(value=0.0, max=711.0), HTML(value='')))"
      ]
     },
     "metadata": {},
     "output_type": "display_data"
    },
    {
     "name": "stdout",
     "output_type": "stream",
     "text": [
      "\n",
      "Stopped training\n",
      "Saving trainer to /home/storage/3020/KrivorotovI/db/HKR/test.\n",
      "Trainer is saved.\n"
     ]
    }
   ],
   "source": [
    "init_dict = {'device': 'cuda:3',\n",
    "             'save_folder': '/home/storage/3020/KrivorotovI/db/HKR/test',\n",
    "             \n",
    "             'train_dataset':{'pickle_file': '/home/storage/3020/KrivorotovI/db/HKR/datasets/train.pkl',\n",
    "                              'meta': False,\n",
    "                              'num_imgs': -1\n",
    "                              'rescale_mode': True,\n",
    "                              'padding_mode': False},\n",
    "             'valid_dataset': {'pickle_file': '/home/storage/3020/KrivorotovI/db/HKR/datasets/val.pkl',\n",
    "                               'meta': False,\n",
    "                               'num_imgs': -1\n",
    "                               'rescale_mode': True,\n",
    "                               'padding_mode': False},\n",
    "             'test1_dataset': {'pickle_file': '/home/storage/3020/KrivorotovI/db/HKR/datasets/test1.pkl',\n",
    "                               'meta': False,\n",
    "                               'num_imgs': -1\n",
    "                               'rescale_mode': True,\n",
    "                               'padding_mode': False},\n",
    "             'test2_dataset': {'pickle_file': '/home/storage/3020/KrivorotovI/db/HKR/datasets/test2.pkl',\n",
    "                               'meta': False,\n",
    "                               'num_imgs': -1\n",
    "                               'rescale_mode': True,\n",
    "                               'padding_mode': False},\n",
    "             pickle_file=self.valid_dataset,\n",
    "                                     meta=False, num_imgs=self.num_imgs\n",
    "             'num_imgs': -1, 'num_workers': 1, 'batch_size': 64, 'seed': 34, 'max_epochs': 10, 'model_pretrain': '',\n",
    "             \n",
    "             'model_params':{'name': 'CRNN',\n",
    "                             'imgH': 32,\n",
    "                             'nc': 3,\n",
    "                             'nclass': 80,\n",
    "                             'nh': 256,\n",
    "                             'n_rnn': 2,\n",
    "                             'leakyRelu': False\n",
    "                             },\n",
    "             \n",
    "             'optimizer_params':{'lr': 0.001},\n",
    "             'scheduler_params':{'milestones':[40, 70],\n",
    "                                 'gamma': 0.1}}\n",
    "trainer = Trainer(**init_dict)\n",
    "trainer.train()"
   ]
  },
  {
   "cell_type": "markdown",
   "metadata": {},
   "source": [
    "# Experiment FCNN"
   ]
  },
  {
   "cell_type": "code",
   "execution_count": 3,
   "metadata": {},
   "outputs": [
    {
     "data": {
      "application/vnd.jupyter.widget-view+json": {
       "model_id": "3bc61d25fbda4ac4911e63bbc5dd37a4",
       "version_major": 2,
       "version_minor": 0
      },
      "text/plain": [
       "HBox(children=(FloatProgress(value=0.0, max=711.0), HTML(value='')))"
      ]
     },
     "metadata": {},
     "output_type": "display_data"
    },
    {
     "name": "stdout",
     "output_type": "stream",
     "text": [
      "\n",
      "Stopped training\n",
      "Saving trainer to /home/storage/3020/KrivorotovI/db/HKR/test.\n",
      "Trainer is saved.\n"
     ]
    }
   ],
   "source": [
    "init_dict = {'device': 'cuda:3',\n",
    "             'save_folder': '/home/storage/3020/KrivorotovI/db/HKR/test',\n",
    "             \n",
    "             'train_dataset': '/home/storage/3020/KrivorotovI/db/HKR/datasets/train.pkl',\n",
    "             'valid_dataset': '/home/storage/3020/KrivorotovI/db/HKR/datasets/val.pkl',\n",
    "             'test1_dataset': '/home/storage/3020/KrivorotovI/db/HKR/datasets/test1.pkl',\n",
    "             'test2_dataset': '/home/storage/3020/KrivorotovI/db/HKR/datasets/test2.pkl',\n",
    "             \n",
    "             'num_imgs': -1, 'num_workers': 1, 'batch_size': 64, 'seed': 34, 'max_epochs': 10, 'model_pretrain': '',\n",
    "             \n",
    "             'model_params':{'name': 'FCNN',\n",
    "                             'nc': 3,\n",
    "                             },\n",
    "             \n",
    "             'optimizer_params':{'lr': 0.001},\n",
    "             'scheduler_params':{'milestones':[40, 70],\n",
    "                                 'gamma': 0.1}}\n",
    "trainer = Trainer(**init_dict)\n",
    "trainer.train()"
   ]
  },
  {
   "cell_type": "code",
   "execution_count": null,
   "metadata": {},
   "outputs": [],
   "source": []
  }
 ],
 "metadata": {
  "kernelspec": {
   "display_name": "Python 3",
   "language": "python",
   "name": "python3"
  },
  "language_info": {
   "codemirror_mode": {
    "name": "ipython",
    "version": 3
   },
   "file_extension": ".py",
   "mimetype": "text/x-python",
   "name": "python",
   "nbconvert_exporter": "python",
   "pygments_lexer": "ipython3",
   "version": "3.7.7"
  }
 },
 "nbformat": 4,
 "nbformat_minor": 4
}
