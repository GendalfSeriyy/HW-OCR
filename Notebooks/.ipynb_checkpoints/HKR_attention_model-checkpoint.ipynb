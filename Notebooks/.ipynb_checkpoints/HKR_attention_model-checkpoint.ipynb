{
 "cells": [
  {
   "cell_type": "code",
   "execution_count": 1,
   "metadata": {},
   "outputs": [],
   "source": [
    "import logging\n",
    "import torch.nn as nn\n",
    "import numpy as np\n",
    "from matplotlib import pyplot as plt\n",
    "import cv2\n",
    "import torch\n",
    "import torch.nn.functional as F\n",
    "import math\n",
    "import pandas as pd\n",
    "import PIL.Image as Image\n",
    "from torchvision.transforms import ToTensor, ToPILImage\n",
    "import torch.nn.functional as F\n",
    "import segmentation_models_pytorch as smp\n",
    "from collections import OrderedDict\n",
    "import torch\n",
    "import torch.nn as nn\n",
    "import PIL.Image as Image\n",
    "from torchvision.transforms import ToTensor, ToPILImage\n",
    "import torch.nn.functional as F\n",
    "import pickle\n",
    "from tqdm import tqdm_notebook as tqdm\n",
    "import torchvision\n",
    "import time\n",
    "from collections import defaultdict\n",
    "from torch.nn import CTCLoss\n",
    "from Levenshtein import distance\n",
    "import random\n",
    "from torch.utils import data\n",
    "from torch.utils.data import DataLoader"
   ]
  },
  {
   "cell_type": "code",
   "execution_count": 2,
   "metadata": {},
   "outputs": [],
   "source": [
    "class ImageDataset(data.Dataset):\n",
    "    \"\"\"\n",
    "    Dataset class for handwritten lines.\n",
    "\n",
    "    Parameters\n",
    "    ----------\n",
    "    pickle_file : str\n",
    "        Path to a dataset pickle file.\n",
    "    meta : bool\n",
    "        If True, meta data about files is provided.\n",
    "    num_imgs : int, optional (default=-1)\n",
    "        Choose only `num_imgs` imgs for processing. If set to -1, uses all available images.\n",
    "\n",
    "    \"\"\"\n",
    "\n",
    "    def __init__(self, pickle_file, meta=False, num_imgs=-1):\n",
    "        with open(pickle_file, 'rb') as f:\n",
    "            dataset = pickle.load(f)\n",
    "        self.reference_dataset = dataset\n",
    "        self.num_imgs = num_imgs\n",
    "        if (self.num_imgs > 0) and (self.num_imgs < len(self.reference_dataset)):\n",
    "            inds = np.random.choice(np.arange(len(self.reference_dataset)),\n",
    "                                    self.num_imgs, replace=False)\n",
    "            self.reference_dataset = [self.reference_dataset[i] for i in inds]\n",
    "        self.meta = meta\n",
    "\n",
    "    def __getitem__(self, idx):\n",
    "        data = self.reference_dataset[idx]\n",
    "        #img = cv2.imread(data['img_path'], cv2.IMREAD_UNCHANGED) / 255.\n",
    "        img = cv2.resize(cv2.cvtColor(cv2.imread(data['img_path']), cv2.COLOR_BGR2RGB), (442, 64)) / 255.\n",
    "        img = torch.from_numpy(img).permute(2,0,1).float()\n",
    "        text = data['description']\n",
    "        width = data['width']\n",
    "        height = data['height']\n",
    "\n",
    "        if self.meta:\n",
    "            return img, text, data, width, height\n",
    "        else:\n",
    "            return img, text\n",
    "\n",
    "    def __len__(self):\n",
    "        return len(self.reference_dataset)\n",
    "    \n",
    "class strLabelConverter(object):\n",
    "    \"\"\"Convert between str and label.\n",
    "    NOTE:\n",
    "        Insert `blank` to the alphabet for CTC.\n",
    "    Args:\n",
    "        alphabet (str): set of the possible characters.\n",
    "        ignore_case (bool, default=True): whether or not to ignore all of the case.\n",
    "    \"\"\"\n",
    "\n",
    "    def __init__(self, alphabet, ignore_case=False):\n",
    "        self._ignore_case = ignore_case\n",
    "        if self._ignore_case:\n",
    "            alphabet = alphabet.lower()\n",
    "        self.alphabet = alphabet + '-'  # for `-1` index\n",
    "        #self.alphabet = alphabet\n",
    "\n",
    "        self.dict = {}\n",
    "        for i, char in enumerate(alphabet):\n",
    "            # NOTE: 0 is reserved for 'blank' required by wrap_ctc\n",
    "            self.dict[char] = i + 1\n",
    "    \n",
    "    def encode(self, text):\n",
    "        \"\"\"Support batch or single str.\n",
    "        Args:\n",
    "            text (str or list of str): texts to convert.\n",
    "        Returns:\n",
    "            torch.LongTensor [length_0 + length_1 + ... length_{n - 1}]: encoded texts.\n",
    "            torch.LongTensor [n]: length of each text.\n",
    "        \"\"\"\n",
    "\n",
    "        length = []\n",
    "        result = []\n",
    "        for item in text:            \n",
    "#             item = item.decode('utf-8','strict')\n",
    "            length.append(len(item))\n",
    "            r = []\n",
    "            for char in item:\n",
    "                index = self.dict[char]\n",
    "                # result.append(index)\n",
    "                r.append(index)\n",
    "            result.append(r)\n",
    "        \n",
    "        max_len = 0\n",
    "        for r in result:\n",
    "            if len(r) > max_len:\n",
    "                max_len = len(r)\n",
    "        \n",
    "        result_temp = []\n",
    "        for r in result:\n",
    "            for i in range(max_len - len(r)):\n",
    "                r.append(0)\n",
    "            result_temp.append(r)\n",
    "\n",
    "        text = result_temp\n",
    "        return (torch.LongTensor(text), torch.LongTensor(length))\n",
    "\n",
    "\n",
    "    def decode(self, t, length, raw=False):\n",
    "        \"\"\"Decode encoded texts back into strs.\n",
    "        Args:\n",
    "            torch.LongTensor [length_0 + length_1 + ... length_{n - 1}]: encoded texts.\n",
    "            torch.LongTensor [n]: length of each text.\n",
    "        Raises:\n",
    "            AssertionError: when the texts and its length does not match.\n",
    "        Returns:\n",
    "            text (str or list of str): texts to convert.\n",
    "        \"\"\"\n",
    "        if length.numel() == 1:\n",
    "            length = length[0]\n",
    "            assert t.numel() == length, \"text with length: {} does not match declared length: {}\".format(t.numel(), length)\n",
    "            if raw:\n",
    "                return ''.join([self.alphabet[i - 1] for i in t])\n",
    "            else:\n",
    "                char_list = []\n",
    "                for i in range(length):\n",
    "                    if t[i] != 0 and (not (i > 0 and t[i - 1] == t[i])):\n",
    "                        char_list.append(self.alphabet[t[i] - 1])\n",
    "                return ''.join(char_list)\n",
    "        else:\n",
    "            # batch mode\n",
    "            assert t.numel() == length.sum(), \"texts with length: {} does not match declared length: {}\".format(t.numel(), length.sum())\n",
    "            texts = []\n",
    "            index = 0\n",
    "            for i in range(length.numel()):\n",
    "                l = length[i]\n",
    "                texts.append(\n",
    "                    self.decode(\n",
    "                        t[index:index + l], torch.LongTensor([l]), raw=raw))\n",
    "                index += l\n",
    "            return texts"
   ]
  },
  {
   "cell_type": "code",
   "execution_count": 3,
   "metadata": {},
   "outputs": [],
   "source": [
    "class BidirectionalLSTM(nn.Module):\n",
    "\n",
    "    def __init__(self, nIn, nHidden, nOut):\n",
    "        super(BidirectionalLSTM, self).__init__()\n",
    "\n",
    "        self.rnn = nn.LSTM(nIn, nHidden, bidirectional=True)\n",
    "        self.embedding = nn.Linear(nHidden * 2, nOut)\n",
    "\n",
    "    def forward(self, input):\n",
    "        recurrent, _ = self.rnn(input)\n",
    "        T, b, h = recurrent.size()\n",
    "        t_rec = recurrent.view(T * b, h)\n",
    "\n",
    "        output = self.embedding(t_rec)  # [T * b, nOut]\n",
    "        output = output.view(T, b, -1)\n",
    "\n",
    "        return output\n",
    "    \n",
    "class CRNN(nn.Module):\n",
    "\n",
    "    def __init__(self, imgH, nc, nclass, nh, n_rnn=2, leakyRelu=False):\n",
    "        super(CRNN, self).__init__()\n",
    "        assert imgH % 16 == 0, 'imgH has to be a multiple of 16'\n",
    "\n",
    "        ks = [3, 3, 3, 3, 3, 3, 3, 2]\n",
    "        ps = [1, 1, 1, 1, 1, 1, 0, 0]\n",
    "        ss = [1, 1, 1, 1, 1, 1, 1, 2]\n",
    "        nm = [16, 32, 128, 256, 512, 512, 512, 512]\n",
    "\n",
    "        cnn = nn.Sequential()\n",
    "\n",
    "        def convRelu(i, batchNormalization=False):\n",
    "            nIn = nc if i == 0 else nm[i - 1]\n",
    "            nOut = nm[i]\n",
    "            cnn.add_module('conv{0}'.format(i),\n",
    "                           nn.Conv2d(nIn, nOut, ks[i], ss[i], ps[i]),)\n",
    "            if batchNormalization:\n",
    "                cnn.add_module('batchnorm{0}'.format(i), nn.BatchNorm2d(nOut))\n",
    "            if leakyRelu:\n",
    "                cnn.add_module('relu{0}'.format(i),\n",
    "                               nn.LeakyReLU(0.2, inplace=True))\n",
    "            else:\n",
    "                cnn.add_module('relu{0}'.format(i), nn.ReLU(True))\n",
    "\n",
    "        convRelu(0)\n",
    "        cnn.add_module('pooling{0}'.format(0), nn.MaxPool2d(2, 2))  # 64x16x64\n",
    "        \n",
    "        convRelu(1)\n",
    "        cnn.add_module('dropout{0}'.format(0), nn.Dropout2d(p=0.1))\n",
    "        cnn.add_module('pooling{0}'.format(1), nn.MaxPool2d(2, 2))  # 128x8x32\n",
    "        \n",
    "        convRelu(2, True)\n",
    "        cnn.add_module('dropout{0}'.format(1), nn.Dropout2d(p=0.1))\n",
    "        \n",
    "        convRelu(3)\n",
    "        cnn.add_module('pooling{0}'.format(2),\n",
    "                       nn.MaxPool2d((2, 2), (2, 1), (0, 1)))  # 256x4x16\n",
    "        \n",
    "        convRelu(4, True)\n",
    "        cnn.add_module('dropout{0}'.format(2), nn.Dropout2d(p=0.1))\n",
    "        \n",
    "        convRelu(5)\n",
    "        cnn.add_module('dropout{0}'.format(3), nn.Dropout2d(p=0.1))   \n",
    "        cnn.add_module('pooling{0}'.format(3),\n",
    "                       nn.MaxPool2d((2, 2), (2, 1), (0, 1)))  # 512x2x16\n",
    "        \n",
    "        convRelu(6, True)  # 512x1x16\n",
    "        \n",
    "        convRelu(7, True)\n",
    "        \n",
    "\n",
    "        self.cnn = cnn\n",
    "        self.rnn = nn.Sequential(\n",
    "            BidirectionalLSTM(512, nh, nh),\n",
    "            BidirectionalLSTM(nh, nh, nclass))\n",
    "\n",
    "\n",
    "    def forward(self, input):\n",
    "        # conv features\n",
    "        conv = self.cnn(input)\n",
    "        b, c, h, w = conv.size()\n",
    "        assert h == 1, \"the height of conv must be 1\"\n",
    "        conv = conv.squeeze(2)\n",
    "        conv = conv.permute(2, 0, 1)  # [w, b, c]\n",
    "\n",
    "        # rnn features\n",
    "        output = self.rnn(conv)\n",
    "        \n",
    "        # add log_softmax to converge output\n",
    "        output = F.log_softmax(output, dim=2)\n",
    "\n",
    "        return output\n",
    "\n",
    "\n",
    "    def backward_hook(self, module, grad_input, grad_output):\n",
    "        for g in grad_input:\n",
    "            g[g != g] = 0   # replace all nan/inf in gradients to zero"
   ]
  },
  {
   "cell_type": "code",
   "execution_count": 4,
   "metadata": {},
   "outputs": [],
   "source": [
    "def train_on_batch_rec(images, gt_text, model_crnn, ocr_loss, optimizer, device, batch_size, converter):\n",
    "\n",
    "    model_crnn.train()\n",
    "    \n",
    "    pred_text = model_crnn(images.to(device))\n",
    "    \n",
    "    preds_size = torch.LongTensor([pred_text.size(0)] * batch_size)\n",
    "    \n",
    "    t_text, l_text = converter.encode(list(gt_text))\n",
    "    \n",
    "    loss = ocr_loss(pred_text, t_text, preds_size, l_text)\n",
    "    \n",
    "    optimizer.zero_grad()\n",
    "    loss.backward()\n",
    "    optimizer.step()\n",
    "    \n",
    "    _, decode_text = pred_text.max(2)\n",
    "    decode_text = decode_text.transpose(1, 0).contiguous().view(-1)\n",
    "    decode_text = converter.decode(decode_text.data, preds_size, raw=False)\n",
    "    \n",
    "    char_correct = 0\n",
    "    total_char = 0\n",
    "    for pred, gt in zip(decode_text, gt_text):\n",
    "        for i, pred_char in enumerate(pred):\n",
    "            if i<len(gt):\n",
    "                if pred_char == gt[i]:\n",
    "                    char_correct += 1\n",
    "        total_char += len(gt)\n",
    "            \n",
    "    acc_char = (char_correct)/float(total_char)\n",
    "    \n",
    "    total_str = 0\n",
    "    n_correct = 0\n",
    "    cer = 0\n",
    "    for pred, target in zip(decode_text, gt_text):\n",
    "        if pred == target:\n",
    "            n_correct += 1\n",
    "        else:\n",
    "            cer += distance(pred, target)/len(target)\n",
    "        total_str+=1\n",
    "            \n",
    "    acc_str = (n_correct)/total_str\n",
    "    cer = cer/total_str\n",
    "    \n",
    "    return (loss.item(), acc_char, acc_str, cer)\n",
    "\n",
    "def val_on_batch_rec(images, gt_text, model_crnn, ocr_loss, device, batch_size, converter):\n",
    "\n",
    "    model_crnn.eval()\n",
    "    \n",
    "    pred_text = model_crnn(images.to(device))\n",
    "    \n",
    "    preds_size = torch.LongTensor([pred_text.size(0)] * batch_size)\n",
    "    \n",
    "    t_text, l_text = converter.encode(list(gt_text))\n",
    "    \n",
    "    loss = ocr_loss(pred_text, t_text, preds_size, l_text)\n",
    "    \n",
    "    _, decode_text = pred_text.max(2)\n",
    "    decode_text = decode_text.transpose(1, 0).contiguous().view(-1)\n",
    "    decode_text = converter.decode(decode_text.data, preds_size, raw=False)\n",
    "    \n",
    "    char_correct = 0\n",
    "    total_char = 0\n",
    "    for pred, gt in zip(decode_text, gt_text):\n",
    "        for i, pred_char in enumerate(pred):\n",
    "            if i<len(gt):\n",
    "                if pred_char == gt[i]:\n",
    "                    char_correct += 1\n",
    "        total_char += len(gt)\n",
    "            \n",
    "    acc_char = (char_correct)/float(total_char)\n",
    "    \n",
    "    total_str = 0\n",
    "    n_correct = 0\n",
    "    cer = 0\n",
    "    for pred, target in zip(decode_text, gt_text):\n",
    "        if pred == target:\n",
    "            n_correct += 1\n",
    "        else:\n",
    "            cer += distance(pred, target)/len(target)\n",
    "        total_str+=1\n",
    "            \n",
    "    acc_str = (n_correct)/total_str\n",
    "    cer = cer/total_str\n",
    "    \n",
    "    _, preds = pred_text.max(2)\n",
    "    preds = preds.transpose(1, 0).contiguous().view(-1)\n",
    "    raw_preds = converter.decode(preds.data, preds_size, raw=True)\n",
    "    \n",
    "    return (loss.item(), acc_char, acc_str, cer, decode_text[:5], gt_text[:5], raw_preds[:5])"
   ]
  },
  {
   "cell_type": "code",
   "execution_count": 5,
   "metadata": {},
   "outputs": [
    {
     "data": {
      "text/plain": [
       "79"
      ]
     },
     "execution_count": 5,
     "metadata": {},
     "output_type": "execute_result"
    }
   ],
   "source": [
    "pickle_path_train = '/home/storage/3020/KrivorotovI/db/HKR/datasets/train.pkl'\n",
    "pickle_path_val = '/home/storage/3020/KrivorotovI/db/HKR/datasets/val.pkl'\n",
    "with open(pickle_path_train, 'rb') as f:\n",
    "    full_dataset = pickle.load(f)\n",
    "alphabet = ''\n",
    "for example in full_dataset:\n",
    "    alphabet += example['description']\n",
    "alphabet = list(set(alphabet))\n",
    "alphabet =''.join(alphabet)\n",
    "len(alphabet)"
   ]
  },
  {
   "cell_type": "code",
   "execution_count": 6,
   "metadata": {},
   "outputs": [],
   "source": [
    "imgH = 32 # the height of the input image to network\n",
    "imgW = 100 # the width of the input image to network\n",
    "nh = 256 # size of the lstm hidden state\n",
    "nc = 3\n",
    "nclass = len(alphabet)+1\n",
    "batch_size = 64"
   ]
  },
  {
   "cell_type": "code",
   "execution_count": 7,
   "metadata": {},
   "outputs": [],
   "source": [
    "device = torch.device(\"cuda:3\")\n",
    "converter = strLabelConverter(alphabet)\n",
    "net = CRNN(imgH, nc, nclass, nh)\n",
    "net.to(device)\n",
    "ocr_loss = CTCLoss()\n",
    "optimizer = torch.optim.RMSprop(net.parameters(), lr=0.001)\n",
    "train_dataset = ImageDataset(pickle_path_train, num_imgs=-1)\n",
    "val_dataset = ImageDataset(pickle_path_val, num_imgs=-1)\n",
    "\n",
    "train_dataloader = DataLoader(train_dataset, batch_size=batch_size,\n",
    "                        shuffle=True, num_workers=1, drop_last = True)\n",
    "val_dataloader = DataLoader(val_dataset, batch_size=batch_size,\n",
    "                        shuffle=True, num_workers=1, drop_last = True)"
   ]
  },
  {
   "cell_type": "code",
   "execution_count": 8,
   "metadata": {},
   "outputs": [
    {
     "name": "stdout",
     "output_type": "stream",
     "text": [
      "torch.Size([64, 3, 64, 442])\n",
      "Сарыозек\n"
     ]
    },
    {
     "data": {
      "image/png": "[encoded data removed]",
      "text/plain": [
       "<Figure size 432x288 with 1 Axes>"
      ]
     },
     "metadata": {
      "needs_background": "light"
     },
     "output_type": "display_data"
    }
   ],
   "source": [
    "for imgs, text in train_dataloader:\n",
    "    print(imgs.shape)\n",
    "    plt.imshow(imgs[0].permute(1,2,0))\n",
    "    print(text[0])\n",
    "    break"
   ]
  },
  {
   "cell_type": "code",
   "execution_count": null,
   "metadata": {},
   "outputs": [
    {
     "name": "stderr",
     "output_type": "stream",
     "text": [
      "/usr/local/lib/python3.7/site-packages/ipykernel_launcher.py:22: TqdmDeprecationWarning: This function will be removed in tqdm==5.0.0\n",
      "Please use `tqdm.notebook.tqdm` instead of `tqdm.tqdm_notebook`\n"
     ]
    },
    {
     "data": {
      "application/vnd.jupyter.widget-view+json": {
       "model_id": "93b9829c81054113bb767afd232ed14a",
       "version_major": 2,
       "version_minor": 0
      },
      "text/plain": [
       "HBox(children=(FloatProgress(value=0.0, layout=Layout(flex='2'), max=711.0), HTML(value='')), layout=Layout(di…"
      ]
     },
     "metadata": {},
     "output_type": "display_data"
    },
    {
     "name": "stdout",
     "output_type": "stream",
     "text": [
      "\n"
     ]
    },
    {
     "name": "stderr",
     "output_type": "stream",
     "text": [
      "/usr/local/lib/python3.7/site-packages/ipykernel_launcher.py:53: TqdmDeprecationWarning: This function will be removed in tqdm==5.0.0\n",
      "Please use `tqdm.notebook.tqdm` instead of `tqdm.tqdm_notebook`\n"
     ]
    },
    {
     "data": {
      "application/vnd.jupyter.widget-view+json": {
       "model_id": "1a959cc3eb1b461ba29e7f42b7fb9b34",
       "version_major": 2,
       "version_minor": 0
      },
      "text/plain": [
       "HBox(children=(FloatProgress(value=0.0, layout=Layout(flex='2'), max=146.0), HTML(value='')), layout=Layout(di…"
      ]
     },
     "metadata": {},
     "output_type": "display_data"
    },
    {
     "name": "stdout",
     "output_type": "stream",
     "text": [
      "\n",
      "Lr now: 0.001\n",
      "Ка----------------------------------------------------- => Ка                  , gt: Акмолинская         \n",
      "Ко----------------------------------------------------- => Ко                  , gt: выжигал свой        \n",
      "Ко----------------------------------------------------, => Ко,                 , gt: был рожден,         \n",
      "А------------------------------------------------------ => А                   , gt: Атырауская          \n",
      "------------------------------------------------------- =>                     , gt: поселок             \n"
     ]
    },
    {
     "data": {
      "application/vnd.jupyter.widget-view+json": {
       "model_id": "9ac436583f6f4b57988eeae4f74127eb",
       "version_major": 2,
       "version_minor": 0
      },
      "text/plain": [
       "HBox(children=(FloatProgress(value=0.0, layout=Layout(flex='2'), max=711.0), HTML(value='')), layout=Layout(di…"
      ]
     },
     "metadata": {},
     "output_type": "display_data"
    },
    {
     "name": "stdout",
     "output_type": "stream",
     "text": [
      "\n"
     ]
    },
    {
     "data": {
      "application/vnd.jupyter.widget-view+json": {
       "model_id": "9ef23a957b8d4ec685922c9ab4bb4558",
       "version_major": 2,
       "version_minor": 0
      },
      "text/plain": [
       "HBox(children=(FloatProgress(value=0.0, layout=Layout(flex='2'), max=146.0), HTML(value='')), layout=Layout(di…"
      ]
     },
     "metadata": {},
     "output_type": "display_data"
    },
    {
     "name": "stdout",
     "output_type": "stream",
     "text": [
      "\n",
      "Lr now: 0.001\n",
      "Акы----------------------------з---------------------а- => Акыза               , gt: Абхазия             \n",
      "К-------------------Ка---------------К--------------КАЯ => ККаККАЯ             , gt: ЮЖНО-КАЗАХСТАНСКАЯ  \n",
      "Я  ---------------------  ----------т-----------у-----. => Я  ту.              , gt: Я люблю тебя,       \n",
      "не    ---------------з-------------------------------ая => не зая              , gt: И складывают        \n",
      "Ак---------------------------------------------------АЯ => АкАЯ                , gt: АБХАЗИЯ             \n"
     ]
    },
    {
     "data": {
      "application/vnd.jupyter.widget-view+json": {
       "model_id": "3e77bbb0ac1d49e889483f2126558041",
       "version_major": 2,
       "version_minor": 0
      },
      "text/plain": [
       "HBox(children=(FloatProgress(value=0.0, layout=Layout(flex='2'), max=711.0), HTML(value='')), layout=Layout(di…"
      ]
     },
     "metadata": {},
     "output_type": "display_data"
    },
    {
     "name": "stdout",
     "output_type": "stream",
     "text": [
      "\n"
     ]
    },
    {
     "data": {
      "application/vnd.jupyter.widget-view+json": {
       "model_id": "7c951fc31654450fac7cc87bedf9f019",
       "version_major": 2,
       "version_minor": 0
      },
      "text/plain": [
       "HBox(children=(FloatProgress(value=0.0, layout=Layout(flex='2'), max=146.0), HTML(value='')), layout=Layout(di…"
      ]
     },
     "metadata": {},
     "output_type": "display_data"
    },
    {
     "name": "stdout",
     "output_type": "stream",
     "text": [
      "\n",
      "Lr now: 0.001\n",
      "Тур-----------------к-----------------------------с-тан => Туркстан            , gt: Туркестан           \n",
      "б--у--у---у---тт-  -------мо----с--т---и-----тт-------. => бууут мостит.       , gt: будут мстить.       \n",
      "Рос--------------------------------------------------ау => Росау               , gt: Россия              \n",
      "Бо-----------------и-------------------д-------------а- => Боида               , gt: Большую             \n",
      "по-----л----в---т--и--  ----но-----ро----д---к--------й => полвти нородкй      , gt: памяти народной     \n"
     ]
    },
    {
     "data": {
      "application/vnd.jupyter.widget-view+json": {
       "model_id": "6820fdf8340a4529a5b0d9cdb28010da",
       "version_major": 2,
       "version_minor": 0
      },
      "text/plain": [
       "HBox(children=(FloatProgress(value=0.0, layout=Layout(flex='2'), max=711.0), HTML(value='')), layout=Layout(di…"
      ]
     },
     "metadata": {},
     "output_type": "display_data"
    },
    {
     "name": "stdout",
     "output_type": "stream",
     "text": [
      "\n"
     ]
    },
    {
     "data": {
      "application/vnd.jupyter.widget-view+json": {
       "model_id": "5d01bb9cd87b44faaecc409fdd0384cb",
       "version_major": 2,
       "version_minor": 0
      },
      "text/plain": [
       "HBox(children=(FloatProgress(value=0.0, layout=Layout(flex='2'), max=146.0), HTML(value='')), layout=Layout(di…"
      ]
     },
     "metadata": {},
     "output_type": "display_data"
    },
    {
     "name": "stdout",
     "output_type": "stream",
     "text": [
      "\n",
      "Lr now: 0.001\n",
      "Но-------   ---------------жи-------  -------в----ы--ы- => Но жи выы           , gt: Но живы             \n",
      "на---к  ---вв -д---ри--р--жо-------н---ее- --о--ч-и---, => нак в дриржоне очи, , gt: как в дружеские очи,\n",
      "В-   --------с----ввоо------и-  --------с---н--------ы- => В свои сны          , gt: в свои сны          \n",
      "Ус-----т---ь-----Ка------мме-----но-----го----н----сск- => Усть-Каменогонск    , gt: Усть-Каменогорск    \n",
      "КА------Р-------------Н---А---------Н--------------СКАЯ => КАРНАНСКАЯ          , gt: КАРАГАНДИНСКАЯ      \n"
     ]
    },
    {
     "data": {
      "application/vnd.jupyter.widget-view+json": {
       "model_id": "f1e4aba9cce043f6984b951d71e36faa",
       "version_major": 2,
       "version_minor": 0
      },
      "text/plain": [
       "HBox(children=(FloatProgress(value=0.0, layout=Layout(flex='2'), max=711.0), HTML(value='')), layout=Layout(di…"
      ]
     },
     "metadata": {},
     "output_type": "display_data"
    },
    {
     "name": "stdout",
     "output_type": "stream",
     "text": [
      "\n"
     ]
    },
    {
     "data": {
      "application/vnd.jupyter.widget-view+json": {
       "model_id": "291853c26ae94cb3b62a840383ff20fb",
       "version_major": 2,
       "version_minor": 0
      },
      "text/plain": [
       "HBox(children=(FloatProgress(value=0.0, layout=Layout(flex='2'), max=146.0), HTML(value='')), layout=Layout(di…"
      ]
     },
     "metadata": {},
     "output_type": "display_data"
    },
    {
     "name": "stdout",
     "output_type": "stream",
     "text": [
      "\n",
      "Lr now: 0.001\n",
      "На----к ------в--аа---с--т-ч-ноо-  ---по----л--не----т- => Нак вастчно полнет  , gt: Как властно пахнет  \n",
      "И-  -----не---  ----п-и-------л  -----тоо----л--ь----й- => И не пил тольй      , gt: и не пил только     \n",
      "АСТ------------------------------------Н-------------ИЯ => АСТНИЯ              , gt: АСТАНА              \n",
      "Ак---------------------------------------------------су => Аксу                , gt: Аксу                \n",
      "же-----------л-  -------у  -------моо------р----яя----, => жел у моря,         , gt: жил у моря,         \n"
     ]
    },
    {
     "data": {
      "application/vnd.jupyter.widget-view+json": {
       "model_id": "1d0ca1c57a494a52b94f151f7000929c",
       "version_major": 2,
       "version_minor": 0
      },
      "text/plain": [
       "HBox(children=(FloatProgress(value=0.0, layout=Layout(flex='2'), max=711.0), HTML(value='')), layout=Layout(di…"
      ]
     },
     "metadata": {},
     "output_type": "display_data"
    },
    {
     "name": "stdout",
     "output_type": "stream",
     "text": [
      "\n"
     ]
    },
    {
     "data": {
      "application/vnd.jupyter.widget-view+json": {
       "model_id": "9f6485f91eab40008487640821d52315",
       "version_major": 2,
       "version_minor": 0
      },
      "text/plain": [
       "HBox(children=(FloatProgress(value=0.0, layout=Layout(flex='2'), max=146.0), HTML(value='')), layout=Layout(di…"
      ]
     },
     "metadata": {},
     "output_type": "display_data"
    },
    {
     "name": "stdout",
     "output_type": "stream",
     "text": [
      "\n",
      "Lr now: 0.001\n",
      "д--------роо---------------жии---------------тт-------- => дрожит              , gt: дрожит              \n",
      "с-----------------р-е--------ко----------з-----------ы- => срекозы             , gt: стрекозы            \n",
      "За----па----д--но-----ККа----за--хс--ттаа---н-----сская => Западно-Казахстанская, gt: Западно-Казахстанская\n",
      "но-----------------------лее------------гг-----------а- => нолега              , gt: ночлега             \n",
      "пе--рее---х-вва--че--н--ноо---го--  ----п--л-ы----л--е- => перехваченного плыле, gt: перехваченного плыла\n"
     ]
    },
    {
     "data": {
      "application/vnd.jupyter.widget-view+json": {
       "model_id": "fa407b7f74e24a9f8a0b3c3afadba1fb",
       "version_major": 2,
       "version_minor": 0
      },
      "text/plain": [
       "HBox(children=(FloatProgress(value=0.0, layout=Layout(flex='2'), max=711.0), HTML(value='')), layout=Layout(di…"
      ]
     },
     "metadata": {},
     "output_type": "display_data"
    },
    {
     "name": "stdout",
     "output_type": "stream",
     "text": [
      "\n"
     ]
    },
    {
     "data": {
      "application/vnd.jupyter.widget-view+json": {
       "model_id": "d35b2dcd1b6e425dab0d932b2113edc2",
       "version_major": 2,
       "version_minor": 0
      },
      "text/plain": [
       "HBox(children=(FloatProgress(value=0.0, layout=Layout(flex='2'), max=146.0), HTML(value='')), layout=Layout(di…"
      ]
     },
     "metadata": {},
     "output_type": "display_data"
    },
    {
     "name": "stdout",
     "output_type": "stream",
     "text": [
      "\n",
      "Lr now: 0.001\n",
      "АЛм-------------------------а-------------Т----------ы- => АЛмаТы              , gt: АЛМАТЫ              \n",
      "П---ро----шш---ло--  -----п--я---т--ьь  ----ле---т----, => Прошло пять лет,    , gt: Прошло пять лет,    \n",
      "о  -----жо---д--ни---га----хх,   --о  ---с-ла-----в--е- => о жоднигах, о славе , gt: о подвигах, о славе \n",
      "обл---------------------------------------------------- => обл                 , gt: обл                 \n",
      "Ка-----раа----га------н---д--и-----н--------------сская => Карагандинская      , gt: Карагандинская      \n"
     ]
    },
    {
     "data": {
      "application/vnd.jupyter.widget-view+json": {
       "model_id": "504f0c3321134e179d05c11889840e6d",
       "version_major": 2,
       "version_minor": 0
      },
      "text/plain": [
       "HBox(children=(FloatProgress(value=0.0, layout=Layout(flex='2'), max=711.0), HTML(value='')), layout=Layout(di…"
      ]
     },
     "metadata": {},
     "output_type": "display_data"
    },
    {
     "name": "stdout",
     "output_type": "stream",
     "text": [
      "\n"
     ]
    },
    {
     "data": {
      "application/vnd.jupyter.widget-view+json": {
       "model_id": "973a1b7b422a4f5baf7932076190ef33",
       "version_major": 2,
       "version_minor": 0
      },
      "text/plain": [
       "HBox(children=(FloatProgress(value=0.0, layout=Layout(flex='2'), max=146.0), HTML(value='')), layout=Layout(di…"
      ]
     },
     "metadata": {},
     "output_type": "display_data"
    },
    {
     "name": "stdout",
     "output_type": "stream",
     "text": [
      "\n",
      "Lr now: 0.001\n",
      "ре---------с-----п-----у----б--лли----------к--------а- => республика          , gt: республика          \n",
      "Кы-------з-ыы-----ло-----р----д-и-----н------------ская => Кызылординская      , gt: Кызылординская      \n",
      "Ю--------ж----н-а----я   ----О----се-----т-----------яя => Южная Осетя         , gt: Южная Осетия        \n",
      "не----  ----------оо----с--т-а-----л----л----я-------яя => не осталляя         , gt: не оставляя         \n",
      "оп----------------------ыы-------------т--------------- => опыт                , gt: опыт                \n"
     ]
    },
    {
     "data": {
      "application/vnd.jupyter.widget-view+json": {
       "model_id": "8f9c16b2283846d2ad8cce6e40d007de",
       "version_major": 2,
       "version_minor": 0
      },
      "text/plain": [
       "HBox(children=(FloatProgress(value=0.0, layout=Layout(flex='2'), max=711.0), HTML(value='')), layout=Layout(di…"
      ]
     },
     "metadata": {},
     "output_type": "display_data"
    },
    {
     "name": "stdout",
     "output_type": "stream",
     "text": [
      "\n"
     ]
    },
    {
     "data": {
      "application/vnd.jupyter.widget-view+json": {
       "model_id": "168a94ca4c974a0daa7e21df5d6a7c84",
       "version_major": 2,
       "version_minor": 0
      },
      "text/plain": [
       "HBox(children=(FloatProgress(value=0.0, layout=Layout(flex='2'), max=146.0), HTML(value='')), layout=Layout(di…"
      ]
     },
     "metadata": {},
     "output_type": "display_data"
    },
    {
     "name": "stdout",
     "output_type": "stream",
     "text": [
      "\n",
      "Lr now: 0.001\n",
      "Жа-----------т------б---ы-----л-------------------сская => Жатбылская          , gt: Жамбылская          \n",
      "б-----у-----д------у---т-  -------лии-----шшшшшш-----ь- => будут лишь          , gt: будут лишь          \n",
      "на------  -----------з-а--------ка---------т---------е- => на закате           , gt: на закате           \n",
      "Ка--------------заа------хх------------------------стан => Казахстан           , gt: Қазахстан           \n",
      "Аты----------------р--а-------у------------------ссская => Атырауская          , gt: Атырауская          \n"
     ]
    },
    {
     "data": {
      "application/vnd.jupyter.widget-view+json": {
       "model_id": "93b39fdd9b56447a930d058cf7501864",
       "version_major": 2,
       "version_minor": 0
      },
      "text/plain": [
       "HBox(children=(FloatProgress(value=0.0, layout=Layout(flex='2'), max=711.0), HTML(value='')), layout=Layout(di…"
      ]
     },
     "metadata": {},
     "output_type": "display_data"
    },
    {
     "name": "stdout",
     "output_type": "stream",
     "text": [
      "\n"
     ]
    },
    {
     "data": {
      "application/vnd.jupyter.widget-view+json": {
       "model_id": "af94885e5f3e46bfa1e76a4d8ae5f3a3",
       "version_major": 2,
       "version_minor": 0
      },
      "text/plain": [
       "HBox(children=(FloatProgress(value=0.0, layout=Layout(flex='2'), max=146.0), HTML(value='')), layout=Layout(di…"
      ]
     },
     "metadata": {},
     "output_type": "display_data"
    },
    {
     "name": "stdout",
     "output_type": "stream",
     "text": [
      "\n",
      "Lr now: 0.001\n",
      "Та------------------------р-а----------------т-------аз => Таратаз             , gt: Тараз               \n",
      "АБХ----------------------А---------З-----------------ИЯ => АБХАЗИЯ             , gt: АБХАЗИЯ             \n",
      "д-------------вввооо-----------р---------------------а, => двора,              , gt: двора,              \n",
      "Но--- ---т-------щее--т---нн--ыы  ----мее----ч-н-----ы- => Но тщетны мечны     , gt: Но тщетны мечты     \n",
      "ка--------кк-  -------оо---б---ла---------к-аа--------, => как облака,         , gt: как облака,         \n"
     ]
    },
    {
     "data": {
      "application/vnd.jupyter.widget-view+json": {
       "model_id": "efd69246ad0d47948c03c9715ff938b9",
       "version_major": 2,
       "version_minor": 0
      },
      "text/plain": [
       "HBox(children=(FloatProgress(value=0.0, layout=Layout(flex='2'), max=711.0), HTML(value='')), layout=Layout(di…"
      ]
     },
     "metadata": {},
     "output_type": "display_data"
    },
    {
     "name": "stdout",
     "output_type": "stream",
     "text": [
      "\n"
     ]
    },
    {
     "data": {
      "application/vnd.jupyter.widget-view+json": {
       "model_id": "f0207a08804c4c6d9ebdac9a128e6510",
       "version_major": 2,
       "version_minor": 0
      },
      "text/plain": [
       "HBox(children=(FloatProgress(value=0.0, layout=Layout(flex='2'), max=146.0), HTML(value='')), layout=Layout(di…"
      ]
     },
     "metadata": {},
     "output_type": "display_data"
    },
    {
     "name": "stdout",
     "output_type": "stream",
     "text": [
      "\n",
      "Lr now: 0.001\n",
      "л-------------у-------------нн-----------------------а- => луна                , gt: луна,               \n",
      "Абх----------------аа---------------з----------------ия => Абхазия             , gt: Абхазия             \n",
      "зе------лее---н-е-----е---т----   ------е-----л-ьь----, => зеленеет ель,       , gt: зеленеет ель,       \n",
      "Бо----------л----ь------шш---------у-----------------ю- => Большую             , gt: Большую             \n",
      "го---р-е---с-т--ноо-----й  -------з-е---мм-----лее----, => горестной земле,    , gt: горестной земле,    \n"
     ]
    },
    {
     "data": {
      "application/vnd.jupyter.widget-view+json": {
       "model_id": "2279c62312e040fd9b15c95ee937f8d7",
       "version_major": 2,
       "version_minor": 0
      },
      "text/plain": [
       "HBox(children=(FloatProgress(value=0.0, layout=Layout(flex='2'), max=711.0), HTML(value='')), layout=Layout(di…"
      ]
     },
     "metadata": {},
     "output_type": "display_data"
    },
    {
     "name": "stdout",
     "output_type": "stream",
     "text": [
      "\n"
     ]
    },
    {
     "data": {
      "application/vnd.jupyter.widget-view+json": {
       "model_id": "c12cf60c88ca4596b7a4ae3bfa59fafc",
       "version_major": 2,
       "version_minor": 0
      },
      "text/plain": [
       "HBox(children=(FloatProgress(value=0.0, layout=Layout(flex='2'), max=146.0), HTML(value='')), layout=Layout(di…"
      ]
     },
     "metadata": {},
     "output_type": "display_data"
    },
    {
     "name": "stdout",
     "output_type": "stream",
     "text": [
      "\n",
      "Lr now: 0.001\n",
      "Акт--------------------------------------------------ау => Актау               , gt: Актау               \n",
      "Те---------------------кее---------------л-----------и- => Текели              , gt: Текели              \n",
      "ч---т-о-   ---меи-----ми- ---в-с--жж---р----ми----л--м- => что меими всжрмилм  , gt: что меня вскормила  \n",
      "Че------м-- ---с--вее--т--   -----т-ее----ле----г----а- => Чем свет телега     , gt: Чем свет телега     \n",
      "КО-------сС--Т----А---Н-----А----Й-----------------СКАЯ => КОсСТАНАЙСКАЯ       , gt: КОСТАНАЙСКАЯ        \n"
     ]
    },
    {
     "data": {
      "application/vnd.jupyter.widget-view+json": {
       "model_id": "907617a5982c43749abfea2ec1741937",
       "version_major": 2,
       "version_minor": 0
      },
      "text/plain": [
       "HBox(children=(FloatProgress(value=0.0, layout=Layout(flex='2'), max=711.0), HTML(value='')), layout=Layout(di…"
      ]
     },
     "metadata": {},
     "output_type": "display_data"
    },
    {
     "name": "stdout",
     "output_type": "stream",
     "text": [
      "\n"
     ]
    },
    {
     "data": {
      "application/vnd.jupyter.widget-view+json": {
       "model_id": "76ff678801b346b18086ed3f5133dd6d",
       "version_major": 2,
       "version_minor": 0
      },
      "text/plain": [
       "HBox(children=(FloatProgress(value=0.0, layout=Layout(flex='2'), max=146.0), HTML(value='')), layout=Layout(di…"
      ]
     },
     "metadata": {},
     "output_type": "display_data"
    },
    {
     "name": "stdout",
     "output_type": "stream",
     "text": [
      "\n",
      "Lr now: 0.001\n",
      "Ка-------------с------рке----------г-----------------ан => Касркеган           , gt: Каскелен            \n",
      "б---ыы-----лл   ----рр-о--------жж---------д-е----н---, => был рожден,         , gt: был рожден,         \n",
      "Мо-----------------и-   -------д-------у----к--------и- => Мои дуки            , gt: Мои руки            \n",
      "ка-------кки------х  ----у----ж--   -----не-----т----т- => каких уж нетт       , gt: каких уж нет;       \n",
      "За---паа---д-но------Ка----за---ххс-тт-аа----н-----ская => Западно-Казахстанская, gt: Западно-Казахстанская\n"
     ]
    },
    {
     "data": {
      "application/vnd.jupyter.widget-view+json": {
       "model_id": "e8fcc38a163a47519c0e16fd0a171090",
       "version_major": 2,
       "version_minor": 0
      },
      "text/plain": [
       "HBox(children=(FloatProgress(value=0.0, layout=Layout(flex='2'), max=711.0), HTML(value='')), layout=Layout(di…"
      ]
     },
     "metadata": {},
     "output_type": "display_data"
    },
    {
     "name": "stdout",
     "output_type": "stream",
     "text": [
      "\n"
     ]
    },
    {
     "data": {
      "application/vnd.jupyter.widget-view+json": {
       "model_id": "beabb243e6114fb193f371d9574b6b60",
       "version_major": 2,
       "version_minor": 0
      },
      "text/plain": [
       "HBox(children=(FloatProgress(value=0.0, layout=Layout(flex='2'), max=146.0), HTML(value='')), layout=Layout(di…"
      ]
     },
     "metadata": {},
     "output_type": "display_data"
    },
    {
     "name": "stdout",
     "output_type": "stream",
     "text": [
      "\n",
      "Lr now: 0.001\n",
      "с-----мо------л--к---н---у---л  ----б--о--  ----о----нн => смолкнул бо он      , gt: смолкнул бо он      \n",
      "с-т---ре--но---зы-------------------------------------- => стренозы            , gt: стрекозы            \n",
      "АСТ------------------------А-------Н-----------------А- => АСТАНА              , gt: АСТАНА              \n",
      "Я---------   ---------л--е---зз---ы--  ------лл------л- => Я лезы лл           , gt: Я слезы лил         \n",
      "Ка------р-а-----гга-----н--дд-и-----н-------------сская => Карагандинская      , gt: Карагандинская      \n"
     ]
    },
    {
     "data": {
      "application/vnd.jupyter.widget-view+json": {
       "model_id": "29b1aa2748df4be09f6c037d6264c1cc",
       "version_major": 2,
       "version_minor": 0
      },
      "text/plain": [
       "HBox(children=(FloatProgress(value=0.0, layout=Layout(flex='2'), max=711.0), HTML(value='')), layout=Layout(di…"
      ]
     },
     "metadata": {},
     "output_type": "display_data"
    },
    {
     "name": "stdout",
     "output_type": "stream",
     "text": [
      "\n"
     ]
    },
    {
     "data": {
      "application/vnd.jupyter.widget-view+json": {
       "model_id": "bdc673c38d4447ca9b2a37fda1e3836a",
       "version_major": 2,
       "version_minor": 0
      },
      "text/plain": [
       "HBox(children=(FloatProgress(value=0.0, layout=Layout(flex='2'), max=146.0), HTML(value='')), layout=Layout(di…"
      ]
     },
     "metadata": {},
     "output_type": "display_data"
    },
    {
     "name": "stdout",
     "output_type": "stream",
     "text": [
      "\n",
      "Lr now: 0.001\n",
      "Са------------р------ыы-------коо----------лл-------ьь- => Сарыколь            , gt: Сарыколь            \n",
      "А------------рр------------ыы-----------с------------ь- => Арысь               , gt: Арысь               \n",
      "ча---------------ссоо----------вв--------------------ая => часовая             , gt: часовая             \n",
      "Се--р--з-а----лии--  ---жжиии----з--н--ь  --м-о------к- => Серзали жизнь мок   , gt: терзали жизнь мою   \n",
      "Ка-----------р-а--------гга--------н-------д---------а- => Караганда           , gt: Караганда           \n"
     ]
    },
    {
     "data": {
      "application/vnd.jupyter.widget-view+json": {
       "model_id": "7ff02cc7e81f4dc8a5159cc2341ca203",
       "version_major": 2,
       "version_minor": 0
      },
      "text/plain": [
       "HBox(children=(FloatProgress(value=0.0, layout=Layout(flex='2'), max=711.0), HTML(value='')), layout=Layout(di…"
      ]
     },
     "metadata": {},
     "output_type": "display_data"
    },
    {
     "name": "stdout",
     "output_type": "stream",
     "text": [
      "\n"
     ]
    },
    {
     "data": {
      "application/vnd.jupyter.widget-view+json": {
       "model_id": "3c1a7b7a0ea24894ae4de3f72978869a",
       "version_major": 2,
       "version_minor": 0
      },
      "text/plain": [
       "HBox(children=(FloatProgress(value=0.0, layout=Layout(flex='2'), max=146.0), HTML(value='')), layout=Layout(di…"
      ]
     },
     "metadata": {},
     "output_type": "display_data"
    },
    {
     "name": "stdout",
     "output_type": "stream",
     "text": [
      "\n",
      "Lr now: 0.001\n",
      "нее---  ----------уу---зз---н-а----------т------ьь----. => не узнать.          , gt: не узнать.          \n",
      "у---------ддд-а------------лл--------яя--------------яя => удаляя              , gt: удаляя              \n",
      "Жа---------------------й--------рее------------------мм => Жайрем              , gt: Жайрем              \n",
      "дж--------------иии-------------ггиии-----------т-----. => джигит.             , gt: джигит.             \n",
      "за-----ко-----но------в  -----с---у---дд---ь--бб-----ы- => законов судьбы      , gt: законов судьбы      \n"
     ]
    },
    {
     "data": {
      "application/vnd.jupyter.widget-view+json": {
       "model_id": "0bf2214b77014ef5a3098c4448a4230b",
       "version_major": 2,
       "version_minor": 0
      },
      "text/plain": [
       "HBox(children=(FloatProgress(value=0.0, layout=Layout(flex='2'), max=711.0), HTML(value='')), layout=Layout(di…"
      ]
     },
     "metadata": {},
     "output_type": "display_data"
    },
    {
     "name": "stdout",
     "output_type": "stream",
     "text": [
      "\n"
     ]
    },
    {
     "data": {
      "application/vnd.jupyter.widget-view+json": {
       "model_id": "fe991a8b4cec4eada2fc49bcb3fc27a9",
       "version_major": 2,
       "version_minor": 0
      },
      "text/plain": [
       "HBox(children=(FloatProgress(value=0.0, layout=Layout(flex='2'), max=146.0), HTML(value='')), layout=Layout(di…"
      ]
     },
     "metadata": {},
     "output_type": "display_data"
    },
    {
     "name": "stdout",
     "output_type": "stream",
     "text": [
      "\n",
      "Lr now: 0.001\n",
      "ро------------------------у-----н--------------------и- => роуни               , gt: родное              \n",
      "Во------------------йй-------н----оо-----------------йй => Войной              , gt: Войной              \n",
      "Се-вее-р-ноо-----ККа---за--хсс--т--а---н----------сская => Северно-Казахстанская, gt: Северно-Казахстанская\n",
      "до-----------бб--ее---------жжииии-----------тт-------- => добежит             , gt: добежит             \n",
      "та----------м----   -------н--------ы------н---------е- => там ныне            , gt: там ныне            \n"
     ]
    },
    {
     "data": {
      "application/vnd.jupyter.widget-view+json": {
       "model_id": "273d1738a2034a4c88fb9676da941171",
       "version_major": 2,
       "version_minor": 0
      },
      "text/plain": [
       "HBox(children=(FloatProgress(value=0.0, layout=Layout(flex='2'), max=711.0), HTML(value='')), layout=Layout(di…"
      ]
     },
     "metadata": {},
     "output_type": "display_data"
    },
    {
     "name": "stdout",
     "output_type": "stream",
     "text": [
      "\n"
     ]
    },
    {
     "data": {
      "application/vnd.jupyter.widget-view+json": {
       "model_id": "a858ff3384744fe887b7c306d15f0f3e",
       "version_major": 2,
       "version_minor": 0
      },
      "text/plain": [
       "HBox(children=(FloatProgress(value=0.0, layout=Layout(flex='2'), max=146.0), HTML(value='')), layout=Layout(di…"
      ]
     },
     "metadata": {},
     "output_type": "display_data"
    },
    {
     "name": "stdout",
     "output_type": "stream",
     "text": [
      "\n",
      "Lr now: 0.001\n",
      "Ка---------------р--а------------тт------------------ау => Каратау             , gt: Каратау             \n",
      "д-ваа--ж--д-ы- ----б-ы--вва---л---ра---с-по--р-оо--т--- => дважды бывалраспорот, gt: дважды бывал распорот\n",
      "и-----------н--о------------ггг----ддд---------------а, => иногда,             , gt: иногда,             \n",
      "Коо------ггдд-аа-  ----т----ввоо--е----л-и-------ц---о- => Когда твоелицо      , gt: Когда твое лицо     \n",
      "И--   -сс--м-а------хх--н---уу--лл  -----б-ыы   -----я- => И смахнул бы я      , gt: И смахнул бы я      \n"
     ]
    },
    {
     "data": {
      "application/vnd.jupyter.widget-view+json": {
       "model_id": "4efc307df32f4d8a9187ef4f07ae878e",
       "version_major": 2,
       "version_minor": 0
      },
      "text/plain": [
       "HBox(children=(FloatProgress(value=0.0, layout=Layout(flex='2'), max=711.0), HTML(value='')), layout=Layout(di…"
      ]
     },
     "metadata": {},
     "output_type": "display_data"
    },
    {
     "name": "stdout",
     "output_type": "stream",
     "text": [
      "\n"
     ]
    },
    {
     "data": {
      "application/vnd.jupyter.widget-view+json": {
       "model_id": "aca9c2b05e5f4e7d8ba97f0af3ee7b20",
       "version_major": 2,
       "version_minor": 0
      },
      "text/plain": [
       "HBox(children=(FloatProgress(value=0.0, layout=Layout(flex='2'), max=146.0), HTML(value='')), layout=Layout(di…"
      ]
     },
     "metadata": {},
     "output_type": "display_data"
    },
    {
     "name": "stdout",
     "output_type": "stream",
     "text": [
      "\n",
      "Lr now: 0.001\n",
      "обл---------------------------------------------------. => обл.                , gt: обл.                \n",
      "С  ---вв-ыы---со---т-ы   ------ле----д---нии----к----а- => С высоты ледника    , gt: С высоты ледника    \n",
      "Ро-----------------сс------ссс-----------------------ия => Россия              , gt: Россия              \n",
      "на----------------в-----ссее-------гггг--дд----------а- => навсегда            , gt: навсегда            \n",
      "по-----------зз-аа--------б-----ыы-----л--иии---------, => позабыли,           , gt: позабыли,           \n"
     ]
    },
    {
     "data": {
      "application/vnd.jupyter.widget-view+json": {
       "model_id": "e724733684e14b56972f477725fe8537",
       "version_major": 2,
       "version_minor": 0
      },
      "text/plain": [
       "HBox(children=(FloatProgress(value=0.0, layout=Layout(flex='2'), max=711.0), HTML(value='')), layout=Layout(di…"
      ]
     },
     "metadata": {},
     "output_type": "display_data"
    },
    {
     "name": "stdout",
     "output_type": "stream",
     "text": [
      "\n"
     ]
    },
    {
     "data": {
      "application/vnd.jupyter.widget-view+json": {
       "model_id": "bfa9fcf5f69c4c06b7aac7fe0413f17f",
       "version_major": 2,
       "version_minor": 0
      },
      "text/plain": [
       "HBox(children=(FloatProgress(value=0.0, layout=Layout(flex='2'), max=146.0), HTML(value='')), layout=Layout(di…"
      ]
     },
     "metadata": {},
     "output_type": "display_data"
    },
    {
     "name": "stdout",
     "output_type": "stream",
     "text": [
      "\n",
      "Lr now: 0.001\n",
      "с--------коо--------р---оо---    -------лии-----------, => скоро ли,           , gt: скоро ли,           \n",
      "п----рее----дд--коо---в   -------поо-----л---яяя------, => предков поля,       , gt: предков поля,       \n",
      "Х--------рр-о-------------м--------тт----------------ау => Хромтау             , gt: Хромтау             \n",
      "с  ----ке-----м--  ----ввоо  -----ффф---раа-----кее---, => с кем во фраке,     , gt: с кем во фраке,     \n",
      "Ко------------к-----шшшш-------е-------т-------------ау => Кокшетау            , gt: Кокшетау            \n"
     ]
    },
    {
     "data": {
      "application/vnd.jupyter.widget-view+json": {
       "model_id": "586f53b0229247a78480c4bbd84502d7",
       "version_major": 2,
       "version_minor": 0
      },
      "text/plain": [
       "HBox(children=(FloatProgress(value=0.0, layout=Layout(flex='2'), max=711.0), HTML(value='')), layout=Layout(di…"
      ]
     },
     "metadata": {},
     "output_type": "display_data"
    },
    {
     "name": "stdout",
     "output_type": "stream",
     "text": [
      "\n"
     ]
    },
    {
     "data": {
      "application/vnd.jupyter.widget-view+json": {
       "model_id": "da7ca67566d04bde8993c76fea237796",
       "version_major": 2,
       "version_minor": 0
      },
      "text/plain": [
       "HBox(children=(FloatProgress(value=0.0, layout=Layout(flex='2'), max=146.0), HTML(value='')), layout=Layout(di…"
      ]
     },
     "metadata": {},
     "output_type": "display_data"
    },
    {
     "name": "stdout",
     "output_type": "stream",
     "text": [
      "\n",
      "Lr now: 0.001\n",
      "за-------щщии----щща---л-аа-   ---мм--а----тт--ьь.--.-. => защищала мать...    , gt: защищала мать...    \n",
      "Ка--------------зз-аа---хх------------------------сстан => Казахстан           , gt: Казахстан           \n",
      "И---  ---с--м-а------х---н----у--лл  -----б--ы-  ----я- => И смахнул бы я      , gt: И смахнул бы я      \n",
      "и---   ---------уу-----л------ы-----бб-----кк--------и- => и улыбки            , gt: и улыбки            \n",
      "На---  -----д---ре---в--нне----й  ----с-тт--ее---н---е- => На древней стене    , gt: На древней стене    \n"
     ]
    },
    {
     "data": {
      "application/vnd.jupyter.widget-view+json": {
       "model_id": "29cfcdbda0084735ab9973fcfa3edec9",
       "version_major": 2,
       "version_minor": 0
      },
      "text/plain": [
       "HBox(children=(FloatProgress(value=0.0, layout=Layout(flex='2'), max=711.0), HTML(value='')), layout=Layout(di…"
      ]
     },
     "metadata": {},
     "output_type": "display_data"
    },
    {
     "name": "stdout",
     "output_type": "stream",
     "text": [
      "\n"
     ]
    },
    {
     "data": {
      "application/vnd.jupyter.widget-view+json": {
       "model_id": "9c598f629e0e45dfabe3194d0f09b813",
       "version_major": 2,
       "version_minor": 0
      },
      "text/plain": [
       "HBox(children=(FloatProgress(value=0.0, layout=Layout(flex='2'), max=146.0), HTML(value='')), layout=Layout(di…"
      ]
     },
     "metadata": {},
     "output_type": "display_data"
    },
    {
     "name": "stdout",
     "output_type": "stream",
     "text": [
      "\n",
      "Lr now: 0.001\n",
      "оп--------------------------ыыы-----------тт----------- => опыт                , gt: опыт                \n",
      "Ка------к  ---раа----з-да----ллссс--яя,, ---т-а------к- => Как раздался, так   , gt: Как раздался, так   \n",
      "по----кко----ии--тт--ссс--яя   -----п--рра------х-----. => покоится прах.      , gt: покоится прах.      \n",
      "Аты-----------------------------р--------------------ау => Атырау              , gt: Атырау              \n",
      "облл--------------------------------------------------. => обл.                , gt: обл.                \n"
     ]
    },
    {
     "data": {
      "application/vnd.jupyter.widget-view+json": {
       "model_id": "4ff1551ec0e742c19611f7960141c88b",
       "version_major": 2,
       "version_minor": 0
      },
      "text/plain": [
       "HBox(children=(FloatProgress(value=0.0, layout=Layout(flex='2'), max=711.0), HTML(value='')), layout=Layout(di…"
      ]
     },
     "metadata": {},
     "output_type": "display_data"
    },
    {
     "name": "stdout",
     "output_type": "stream",
     "text": [
      "\n"
     ]
    },
    {
     "data": {
      "application/vnd.jupyter.widget-view+json": {
       "model_id": "3f7b3fb8565046ac9b734b497b455113",
       "version_major": 2,
       "version_minor": 0
      },
      "text/plain": [
       "HBox(children=(FloatProgress(value=0.0, layout=Layout(flex='2'), max=146.0), HTML(value='')), layout=Layout(di…"
      ]
     },
     "metadata": {},
     "output_type": "display_data"
    },
    {
     "name": "stdout",
     "output_type": "stream",
     "text": [
      "\n",
      "Lr now: 0.001\n",
      "О---нни----,,    -----тоо----лл----к-а-------яя--с---ь- => Они, толкаясь       , gt: Они, толкаясь       \n",
      "А--------рр-а-------------лл---------ьь---сс---------к- => Аральск             , gt: Аральск             \n",
      "Л----ьье-----т--  -----пе-----чса-------л--ьь---н----о- => Льет печсально      , gt: Льет печально       \n",
      "АКТ--------------------------------------------------АУ => АКТАУ               , gt: АКТАУ               \n",
      "Сее-------------------ммееее------------------------ййй => Семей               , gt: Семей               \n"
     ]
    },
    {
     "data": {
      "application/vnd.jupyter.widget-view+json": {
       "model_id": "7a4dd0960cf540db9f04d68e1606b070",
       "version_major": 2,
       "version_minor": 0
      },
      "text/plain": [
       "HBox(children=(FloatProgress(value=0.0, layout=Layout(flex='2'), max=711.0), HTML(value='')), layout=Layout(di…"
      ]
     },
     "metadata": {},
     "output_type": "display_data"
    },
    {
     "name": "stdout",
     "output_type": "stream",
     "text": [
      "\n"
     ]
    },
    {
     "data": {
      "application/vnd.jupyter.widget-view+json": {
       "model_id": "040a94702a1a488aa775f9ce153e730b",
       "version_major": 2,
       "version_minor": 0
      },
      "text/plain": [
       "HBox(children=(FloatProgress(value=0.0, layout=Layout(flex='2'), max=146.0), HTML(value='')), layout=Layout(di…"
      ]
     },
     "metadata": {},
     "output_type": "display_data"
    },
    {
     "name": "stdout",
     "output_type": "stream",
     "text": [
      "\n",
      "Lr now: 0.001\n",
      "По----------------ццее---------л-------у-------------йй => Поцелуй             , gt: Поцелуй             \n",
      "Ка---------------рр-а-----------т--------------------ау => Каратау             , gt: Каратау             \n",
      "Ту------------р------ке---------с------т-------------ан => Туркестан           , gt: ТУРКЕСТАН           \n",
      "д------------у-----шш--ооо------------ии-------------…… => душои…              , gt: душои…              \n",
      "Ки----------------рр-----ггии---------зз-------------ия => Киргизия            , gt: Киргизия            \n"
     ]
    },
    {
     "data": {
      "application/vnd.jupyter.widget-view+json": {
       "model_id": "72e8d6924fd84f76903c3658e715ec83",
       "version_major": 2,
       "version_minor": 0
      },
      "text/plain": [
       "HBox(children=(FloatProgress(value=0.0, layout=Layout(flex='2'), max=711.0), HTML(value='')), layout=Layout(di…"
      ]
     },
     "metadata": {},
     "output_type": "display_data"
    },
    {
     "name": "stdout",
     "output_type": "stream",
     "text": [
      "\n"
     ]
    },
    {
     "data": {
      "application/vnd.jupyter.widget-view+json": {
       "model_id": "1a758da8a1d84ab59d06262833431df5",
       "version_major": 2,
       "version_minor": 0
      },
      "text/plain": [
       "HBox(children=(FloatProgress(value=0.0, layout=Layout(flex='2'), max=146.0), HTML(value='')), layout=Layout(di…"
      ]
     },
     "metadata": {},
     "output_type": "display_data"
    },
    {
     "name": "stdout",
     "output_type": "stream",
     "text": [
      "\n",
      "Lr now: 0.001\n",
      "На----  -----ча----с  ------на-----сс--т--а------л----, => На час настал,      , gt: Но час настал,      \n",
      "Акт--------------------------оо-----------ббб--------е- => Актобе              , gt: Актобе              \n",
      "Не--  ---з--на---ююю,  --гг-д-ее  ----п-рри---юю---тт-- => Не знаю, где приют  , gt: Не знаю, где приют  \n",
      "заа-------щи---------щаа---л-а--  -----м--а-----тьь---. => защищала мать.      , gt: защищала мать.      \n",
      "Ро-------------------с------с------------------------ия => Россия              , gt: Россия              \n"
     ]
    },
    {
     "data": {
      "application/vnd.jupyter.widget-view+json": {
       "model_id": "f00f928c3c14400987870c2e55ac45a1",
       "version_major": 2,
       "version_minor": 0
      },
      "text/plain": [
       "HBox(children=(FloatProgress(value=0.0, layout=Layout(flex='2'), max=711.0), HTML(value='')), layout=Layout(di…"
      ]
     },
     "metadata": {},
     "output_type": "display_data"
    },
    {
     "name": "stdout",
     "output_type": "stream",
     "text": [
      "\n"
     ]
    },
    {
     "data": {
      "application/vnd.jupyter.widget-view+json": {
       "model_id": "7f4dcbd22a0643848bb1a3fcb900d89d",
       "version_major": 2,
       "version_minor": 0
      },
      "text/plain": [
       "HBox(children=(FloatProgress(value=0.0, layout=Layout(flex='2'), max=146.0), HTML(value='')), layout=Layout(di…"
      ]
     },
     "metadata": {},
     "output_type": "display_data"
    },
    {
     "name": "stdout",
     "output_type": "stream",
     "text": [
      "\n",
      "Lr now: 0.001\n",
      "го----ре---сс-т--но-------йй  -----з-е----м-----л----е- => горестной земле     , gt: горестной земле     \n",
      "дж------------ии-----------ггии-------ттт-------------! => джигит!             , gt: джигит!             \n",
      "КО-----------к------ш----------С------т--------------ау => КОкшСтау            , gt: КОКШЕТАУ            \n",
      "Ч---ттоо- ------б---ллиии-------ж------нниии---------х- => Что ближних         , gt: Что ближних         \n",
      "те-----------------п---------я-------о---------------и- => тепяои              , gt: теплои              \n"
     ]
    },
    {
     "data": {
      "application/vnd.jupyter.widget-view+json": {
       "model_id": "2030a4084bcf40c3a244d407128d013e",
       "version_major": 2,
       "version_minor": 0
      },
      "text/plain": [
       "HBox(children=(FloatProgress(value=0.0, layout=Layout(flex='2'), max=711.0), HTML(value='')), layout=Layout(di…"
      ]
     },
     "metadata": {},
     "output_type": "display_data"
    },
    {
     "name": "stdout",
     "output_type": "stream",
     "text": [
      "\n"
     ]
    },
    {
     "data": {
      "application/vnd.jupyter.widget-view+json": {
       "model_id": "8e316dca4a084d078d617287c3ea53f8",
       "version_major": 2,
       "version_minor": 0
      },
      "text/plain": [
       "HBox(children=(FloatProgress(value=0.0, layout=Layout(flex='2'), max=146.0), HTML(value='')), layout=Layout(di…"
      ]
     },
     "metadata": {},
     "output_type": "display_data"
    },
    {
     "name": "stdout",
     "output_type": "stream",
     "text": [
      "\n",
      "Lr now: 0.001\n",
      "АТЫ----------------------------Р---------------------АУ => АТЫРАУ              , gt: АТЫРАУ              \n",
      "Я------    ------------сс------тт--------------------аи => Я стаи              , gt: Я стал              \n",
      "бе--сс--по----ле--з--н--ыыы  ------м-оо-----л-ьь--б--ы- => бесполезны мольбы   , gt: бесполезны мольбы   \n",
      "Жа-------------мм------б-ыы------л----------------сская => Жамбылская          , gt: Жамтылская          \n",
      "РК----------------------------------------------------- => РК                  , gt: РК                  \n"
     ]
    },
    {
     "data": {
      "application/vnd.jupyter.widget-view+json": {
       "model_id": "df3707519f0142c78720943ccf78188b",
       "version_major": 2,
       "version_minor": 0
      },
      "text/plain": [
       "HBox(children=(FloatProgress(value=0.0, layout=Layout(flex='2'), max=711.0), HTML(value='')), layout=Layout(di…"
      ]
     },
     "metadata": {},
     "output_type": "display_data"
    },
    {
     "name": "stdout",
     "output_type": "stream",
     "text": [
      "\n"
     ]
    },
    {
     "data": {
      "application/vnd.jupyter.widget-view+json": {
       "model_id": "d390d06cb6e14bf6ba46182e5e71c458",
       "version_major": 2,
       "version_minor": 0
      },
      "text/plain": [
       "HBox(children=(FloatProgress(value=0.0, layout=Layout(flex='2'), max=146.0), HTML(value='')), layout=Layout(di…"
      ]
     },
     "metadata": {},
     "output_type": "display_data"
    },
    {
     "name": "stdout",
     "output_type": "stream",
     "text": [
      "\n",
      "Lr now: 0.001\n",
      "Т----ыы-----вв  --сии---ни----й   -------п-лла-------щщ => Тыв синий плащ      , gt: Ты в синий плащ     \n",
      "Ро--------------------сс-----ссс---------------------ия => Россия              , gt: Россия              \n",
      "В-   --г--уу-сс-тт-о-----й  ---л-о-------щщии----н---е- => В густой лощине     , gt: В густой лощине     \n",
      "ЗА-----П--А-Д---НО-----КАА--ЗАА-ХС-С--ТАА-Н--------СКАЯ => ЗАПАДНО-КАЗАХССТАНСКАЯ, gt: ЗАПАДНО-КАЗАХСТАНСКАЯ\n",
      "За----------гг---лл---яяя------ж---------уу----с-----ь- => Загляжусь           , gt: Загляжусь           \n"
     ]
    },
    {
     "data": {
      "application/vnd.jupyter.widget-view+json": {
       "model_id": "a5fd56653d594a7290f395284542e4c9",
       "version_major": 2,
       "version_minor": 0
      },
      "text/plain": [
       "HBox(children=(FloatProgress(value=0.0, layout=Layout(flex='2'), max=711.0), HTML(value='')), layout=Layout(di…"
      ]
     },
     "metadata": {},
     "output_type": "display_data"
    },
    {
     "name": "stdout",
     "output_type": "stream",
     "text": [
      "\n"
     ]
    },
    {
     "data": {
      "application/vnd.jupyter.widget-view+json": {
       "model_id": "a152afd5b8dc4aa4aed2f4608260c0f6",
       "version_major": 2,
       "version_minor": 0
      },
      "text/plain": [
       "HBox(children=(FloatProgress(value=0.0, layout=Layout(flex='2'), max=146.0), HTML(value='')), layout=Layout(di…"
      ]
     },
     "metadata": {},
     "output_type": "display_data"
    },
    {
     "name": "stdout",
     "output_type": "stream",
     "text": [
      "\n",
      "Lr now: 0.001\n",
      "Вс---еее  -----ж--   -----м-----у-ччии----тт--ссс---яя- => Все ж мучится       , gt: Все ж мучится       \n",
      "Акт-----------------------оо-------------бб----------е- => Актобе              , gt: Актобе              \n",
      "Не---  ---ж-а------м-ее----й   ----кко-------н---яе---, => Не жамей коняе,     , gt: Не жалей коня,      \n",
      "Мо-------------------л----д-а-------вв---------------ия => Молдавия            , gt: Молдавия            \n",
      "Акт------------------------оо------------бб----------е- => Актобе              , gt: Актобе              \n"
     ]
    },
    {
     "data": {
      "application/vnd.jupyter.widget-view+json": {
       "model_id": "56dc0c5f3a8e4e4ba2421f0c1374202d",
       "version_major": 2,
       "version_minor": 0
      },
      "text/plain": [
       "HBox(children=(FloatProgress(value=0.0, layout=Layout(flex='2'), max=711.0), HTML(value='')), layout=Layout(di…"
      ]
     },
     "metadata": {},
     "output_type": "display_data"
    },
    {
     "name": "stdout",
     "output_type": "stream",
     "text": [
      "\n"
     ]
    },
    {
     "data": {
      "application/vnd.jupyter.widget-view+json": {
       "model_id": "fd89f97be9c3463499d1ea11642f5df4",
       "version_major": 2,
       "version_minor": 0
      },
      "text/plain": [
       "HBox(children=(FloatProgress(value=0.0, layout=Layout(flex='2'), max=146.0), HTML(value='')), layout=Layout(di…"
      ]
     },
     "metadata": {},
     "output_type": "display_data"
    },
    {
     "name": "stdout",
     "output_type": "stream",
     "text": [
      "\n",
      "Lr now: 0.001\n",
      "наа--  ---т----у---м-аа--н-нн-ыы--хх ---гго---р-а----х- => на туманных горах   , gt: на туманных горах   \n",
      "Пе-------тт----рр-о------паа------вв-ллоо---вв----сс-кк => Петропавловск       , gt: Петропавловск       \n",
      "дооо--   -----------з-а-------хххооо-----ддд---------а- => до захода           , gt: до захода           \n",
      "Ме----жж  -----м---но---й  --и  ---хо---лл-ма----м---и- => Меж мной и холмами  , gt: Меж мной и холмами  \n",
      "А--------------ррроо----------------н--------------ьььь => Аронь               , gt: Арысь               \n"
     ]
    },
    {
     "data": {
      "application/vnd.jupyter.widget-view+json": {
       "model_id": "1e238d621bad4bafa1843aae9c180b82",
       "version_major": 2,
       "version_minor": 0
      },
      "text/plain": [
       "HBox(children=(FloatProgress(value=0.0, layout=Layout(flex='2'), max=711.0), HTML(value='')), layout=Layout(di…"
      ]
     },
     "metadata": {},
     "output_type": "display_data"
    },
    {
     "name": "stdout",
     "output_type": "stream",
     "text": [
      "\n"
     ]
    },
    {
     "data": {
      "application/vnd.jupyter.widget-view+json": {
       "model_id": "3de9e28930724a0b818d8f9cd541b604",
       "version_major": 2,
       "version_minor": 0
      },
      "text/plain": [
       "HBox(children=(FloatProgress(value=0.0, layout=Layout(flex='2'), max=146.0), HTML(value='')), layout=Layout(di…"
      ]
     },
     "metadata": {},
     "output_type": "display_data"
    },
    {
     "name": "stdout",
     "output_type": "stream",
     "text": [
      "\n",
      "Lr now: 0.001\n",
      "вее---лии---чии----нноо---йй   -сс  ----д-о----мм----а- => величиной с дома    , gt: величиной с дома    \n",
      "в---нн-о------в--ь  --------ссии----н-е----ююю---тт---- => вновь синеют        , gt: вновь синеют        \n",
      "Ту---------------р------кее-----------------------сстан => Туркестан           , gt: Туркестан           \n",
      "Я-  ----ввво--хоо--дд-и---л  ----вв--м-е----сс--т----о- => Я воходил вместо    , gt: Я входил вместо     \n",
      "Ус-----тт--ьь-------ККа-----ммее-----ноо---го---р-ссск- => Усть-Каменогорск    , gt: Усть-Каменогорск    \n"
     ]
    },
    {
     "data": {
      "application/vnd.jupyter.widget-view+json": {
       "model_id": "a1a3db344c5e4a0ab2a4aa9f9236f6fc",
       "version_major": 2,
       "version_minor": 0
      },
      "text/plain": [
       "HBox(children=(FloatProgress(value=0.0, layout=Layout(flex='2'), max=711.0), HTML(value='')), layout=Layout(di…"
      ]
     },
     "metadata": {},
     "output_type": "display_data"
    },
    {
     "name": "stdout",
     "output_type": "stream",
     "text": [
      "\n"
     ]
    },
    {
     "data": {
      "application/vnd.jupyter.widget-view+json": {
       "model_id": "59ee63c0d98943de80927fb53ee5a2a2",
       "version_major": 2,
       "version_minor": 0
      },
      "text/plain": [
       "HBox(children=(FloatProgress(value=0.0, layout=Layout(flex='2'), max=146.0), HTML(value='')), layout=Layout(di…"
      ]
     },
     "metadata": {},
     "output_type": "display_data"
    },
    {
     "name": "stdout",
     "output_type": "stream",
     "text": [
      "\n",
      "Lr now: 0.001\n",
      "Ла-----м----я---т---ии-   ----на---р-о--д---нноо----йй- => Ламяти народной     , gt: памяти народной     \n",
      "м-----неее-   ---с--нии----т--и-   ----п--лла--------щщ => мне снити плащ      , gt: мне снится плащ     \n",
      "То----лл-ччч---ка-----ммиии--  -------к--рр-о---в-ьь--, => Толчками кровь,     , gt: Толчками кровь,     \n",
      "Ре-------бб--я----т  ------у---жж--е-  ---------н----е- => Ребят уже не        , gt: Ребят уже не        \n",
      "Аст-------------------------а------------------------а- => Астаа               , gt: Астана              \n"
     ]
    },
    {
     "data": {
      "application/vnd.jupyter.widget-view+json": {
       "model_id": "16993e8fdc5c4877ae4c0d2a6300e0c9",
       "version_major": 2,
       "version_minor": 0
      },
      "text/plain": [
       "HBox(children=(FloatProgress(value=0.0, layout=Layout(flex='2'), max=711.0), HTML(value='')), layout=Layout(di…"
      ]
     },
     "metadata": {},
     "output_type": "display_data"
    },
    {
     "name": "stdout",
     "output_type": "stream",
     "text": [
      "\n"
     ]
    },
    {
     "data": {
      "application/vnd.jupyter.widget-view+json": {
       "model_id": "412a8642849441a4bb2f7ef053abb86c",
       "version_major": 2,
       "version_minor": 0
      },
      "text/plain": [
       "HBox(children=(FloatProgress(value=0.0, layout=Layout(flex='2'), max=146.0), HTML(value='')), layout=Layout(di…"
      ]
     },
     "metadata": {},
     "output_type": "display_data"
    },
    {
     "name": "stdout",
     "output_type": "stream",
     "text": [
      "\n",
      "Lr now: 0.001\n",
      "воо----роо---н-е----н--ы----йй   ---з--ра----ччо-----к- => вороненый зрачок    , gt: вороненый зрачок    \n",
      "Ко--------н--ьь  ------дд-оо----гоо-----нии---------тт- => Конь догонит        , gt: Конь догонит        \n",
      "п---рре---дд  -----аа---н-а-------лл-о-----е---м------, => пред аналоем,       , gt: пред аналоем,       \n",
      "А-----  -----нне-----е   ------кко--------н--яя-------! => А нее коня!         , gt: А не коня!          \n",
      "ка------к   -----мм-о-------лоо-----д-оо---с---т-----ь- => как молодость       , gt: как молодость       \n"
     ]
    },
    {
     "data": {
      "application/vnd.jupyter.widget-view+json": {
       "model_id": "54f1f788a8b346a197efd8ec8dff5ec0",
       "version_major": 2,
       "version_minor": 0
      },
      "text/plain": [
       "HBox(children=(FloatProgress(value=0.0, layout=Layout(flex='2'), max=711.0), HTML(value='')), layout=Layout(di…"
      ]
     },
     "metadata": {},
     "output_type": "display_data"
    },
    {
     "name": "stdout",
     "output_type": "stream",
     "text": [
      "\n"
     ]
    },
    {
     "data": {
      "application/vnd.jupyter.widget-view+json": {
       "model_id": "1cacf200e20d42bca1204325260634e0",
       "version_major": 2,
       "version_minor": 0
      },
      "text/plain": [
       "HBox(children=(FloatProgress(value=0.0, layout=Layout(flex='2'), max=146.0), HTML(value='')), layout=Layout(di…"
      ]
     },
     "metadata": {},
     "output_type": "display_data"
    },
    {
     "name": "stdout",
     "output_type": "stream",
     "text": [
      "\n",
      "Lr now: 0.001\n",
      "Тыыы- ----в  ---с--и---ннии------  ---т---лла--------щщ => Ты в сини тлащ      , gt: Ты в синий плащ     \n",
      "тее-----------------п----------ллло------------------и- => теплои              , gt: теплои              \n",
      "Акт--------------------------оо----------бб----------е- => Актобе              , gt: Актобе              \n",
      "М-----ггггноо---вее--ннии--ее  ---------бб-ы-жж-иии--т- => Мгновение быжит     , gt: Мгновение бежит     \n",
      "не-------ж-а----я,,  ---на-----ш-----лла--------------… => нежая, нашла…       , gt: нежная, нашла…      \n"
     ]
    },
    {
     "data": {
      "application/vnd.jupyter.widget-view+json": {
       "model_id": "73042eba62d8498c81556d83d751c525",
       "version_major": 2,
       "version_minor": 0
      },
      "text/plain": [
       "HBox(children=(FloatProgress(value=0.0, layout=Layout(flex='2'), max=711.0), HTML(value='')), layout=Layout(di…"
      ]
     },
     "metadata": {},
     "output_type": "display_data"
    },
    {
     "name": "stdout",
     "output_type": "stream",
     "text": [
      "\n"
     ]
    },
    {
     "data": {
      "application/vnd.jupyter.widget-view+json": {
       "model_id": "ced2aeb45f52446d97e1852612b94041",
       "version_major": 2,
       "version_minor": 0
      },
      "text/plain": [
       "HBox(children=(FloatProgress(value=0.0, layout=Layout(flex='2'), max=146.0), HTML(value='')), layout=Layout(di…"
      ]
     },
     "metadata": {},
     "output_type": "display_data"
    },
    {
     "name": "stdout",
     "output_type": "stream",
     "text": [
      "\n",
      "Lr now: 0.001\n",
      "на-----м-  --------на-----с-лла----д--и---т--ььсс-я---. => нам насладиться.    , gt: нам насладиться.    \n",
      "СЕЕ----ВЕ----РО-------КА---ЗАА--ХС--ТТА--Н---------СКАЯ => СЕВЕРО-КАЗАХСТАНСКАЯ, gt: СЕВЕРО-КАЗАХСТАНСКАЯ\n",
      "Ко------------с-----т-а---------н--------------------ай => Костанай            , gt: Костанай            \n",
      "Аст---------------------а------------н---------------а- => Астана              , gt: Астана              \n",
      "Д----л-я-- ---ммии-----р--но----й  ----жиии----з-н---и- => Для мирной жизни    , gt: Для мирной жизни    \n"
     ]
    },
    {
     "data": {
      "application/vnd.jupyter.widget-view+json": {
       "model_id": "080b1ad0b4ce46af8cbface0d786d99b",
       "version_major": 2,
       "version_minor": 0
      },
      "text/plain": [
       "HBox(children=(FloatProgress(value=0.0, layout=Layout(flex='2'), max=711.0), HTML(value='')), layout=Layout(di…"
      ]
     },
     "metadata": {},
     "output_type": "display_data"
    },
    {
     "name": "stdout",
     "output_type": "stream",
     "text": [
      "\n"
     ]
    },
    {
     "data": {
      "application/vnd.jupyter.widget-view+json": {
       "model_id": "2066ad9617694808ba4fb4ba2700ef9c",
       "version_major": 2,
       "version_minor": 0
      },
      "text/plain": [
       "HBox(children=(FloatProgress(value=0.0, layout=Layout(flex='2'), max=146.0), HTML(value='')), layout=Layout(di…"
      ]
     },
     "metadata": {},
     "output_type": "display_data"
    },
    {
     "name": "stdout",
     "output_type": "stream",
     "text": [
      "\n",
      "Lr now: 0.001\n",
      "Ка----к  ---р-а----з--д-а-----лс--яя  ------т--а-----к- => Как раздался так    , gt: Как раздался так    \n",
      "с--моо-----л--к--н--уу-лл  ------б-ыы-   ------оо--нн-. => смолкнул бы он.     , gt: смолкнул бы он.     \n",
      "Ки--------------р------гггии------зз-----------------ия => Киргизия            , gt: Киргизия            \n",
      "Кы------------з--ыыы------ллоо--------р-------дд-----а- => Кызылорда           , gt: Кызылорда           \n",
      "Ч--тттооо  -----д-де--лл-а---тьь-  ---на----м---  ---с- => Что дделать нам с   , gt: Что делать нам с    \n"
     ]
    },
    {
     "data": {
      "application/vnd.jupyter.widget-view+json": {
       "model_id": "3a35f186fb66465ea0038d3049f0e853",
       "version_major": 2,
       "version_minor": 0
      },
      "text/plain": [
       "HBox(children=(FloatProgress(value=0.0, layout=Layout(flex='2'), max=711.0), HTML(value='')), layout=Layout(di…"
      ]
     },
     "metadata": {},
     "output_type": "display_data"
    },
    {
     "name": "stdout",
     "output_type": "stream",
     "text": [
      "\n"
     ]
    },
    {
     "data": {
      "application/vnd.jupyter.widget-view+json": {
       "model_id": "85ef61a97fc9491b9979c905af736feb",
       "version_major": 2,
       "version_minor": 0
      },
      "text/plain": [
       "HBox(children=(FloatProgress(value=0.0, layout=Layout(flex='2'), max=146.0), HTML(value='')), layout=Layout(di…"
      ]
     },
     "metadata": {},
     "output_type": "display_data"
    },
    {
     "name": "stdout",
     "output_type": "stream",
     "text": [
      "\n",
      "Lr now: 0.001\n",
      "И------   -----------зз------ввваа-------------------лл => И звал              , gt: И звал              \n",
      "Ко-----------к------шшшеее--------тт-----------------ау => Кокшетау            , gt: Кокшетау            \n",
      "В- --г--у-ссс-ттоо---йй  -----ло--------щщии----н----е- => В густой лощине     , gt: В густой лощине     \n",
      "За----------вввооо-------дд-----сс-----к-о-----------и- => Заводскои           , gt: Заводской           \n",
      "Д-----рр-----уу--гг   -----дд----рр-----уу----г------уу => Друг другу          , gt: Друг другу          \n"
     ]
    },
    {
     "data": {
      "application/vnd.jupyter.widget-view+json": {
       "model_id": "6d5464cbd7e04052a0ea3e5306b39029",
       "version_major": 2,
       "version_minor": 0
      },
      "text/plain": [
       "HBox(children=(FloatProgress(value=0.0, layout=Layout(flex='2'), max=711.0), HTML(value='')), layout=Layout(di…"
      ]
     },
     "metadata": {},
     "output_type": "display_data"
    },
    {
     "name": "stdout",
     "output_type": "stream",
     "text": [
      "\n"
     ]
    },
    {
     "data": {
      "application/vnd.jupyter.widget-view+json": {
       "model_id": "e507d2e0e67c47919bddc5600865c46d",
       "version_major": 2,
       "version_minor": 0
      },
      "text/plain": [
       "HBox(children=(FloatProgress(value=0.0, layout=Layout(flex='2'), max=146.0), HTML(value='')), layout=Layout(di…"
      ]
     },
     "metadata": {},
     "output_type": "display_data"
    },
    {
     "name": "stdout",
     "output_type": "stream",
     "text": [
      "\n",
      "Lr now: 0.001\n",
      "и---   --------к----р-ее-------п-----к-аа-------------. => и крепка.           , gt: и крепка.           \n",
      "Алм---------аа--------ттт--ии-----н---------------сская => Алматинская         , gt: Алматинская         \n",
      "П--------рррее---к--к-а----е-л-   ------в   --н-а----с- => Преккаел в нас      , gt: Прекрасно в нас     \n",
      "Атыы-----------------------------рр------------------ау => Атырау              , gt: Атырау              \n",
      "Ка------------зззаа-----хх------------------------сстан => Казахстан           , gt: Казахстан           \n"
     ]
    },
    {
     "data": {
      "application/vnd.jupyter.widget-view+json": {
       "model_id": "cf2cf6040c874fe5b393265b408ca01c",
       "version_major": 2,
       "version_minor": 0
      },
      "text/plain": [
       "HBox(children=(FloatProgress(value=0.0, layout=Layout(flex='2'), max=711.0), HTML(value='')), layout=Layout(di…"
      ]
     },
     "metadata": {},
     "output_type": "display_data"
    },
    {
     "name": "stdout",
     "output_type": "stream",
     "text": [
      "\n"
     ]
    },
    {
     "data": {
      "application/vnd.jupyter.widget-view+json": {
       "model_id": "e3905c58e6044575adb3ce78f0f6846f",
       "version_major": 2,
       "version_minor": 0
      },
      "text/plain": [
       "HBox(children=(FloatProgress(value=0.0, layout=Layout(flex='2'), max=146.0), HTML(value='')), layout=Layout(di…"
      ]
     },
     "metadata": {},
     "output_type": "display_data"
    },
    {
     "name": "stdout",
     "output_type": "stream",
     "text": [
      "\n",
      "Lr now: 0.001\n",
      "И-  ----уу---м-,,   ----ка-----кк  --пп--ре---ж--дд--о- => И ум, как преждо    , gt: И ум, как прежде    \n",
      "Ак---------------------сс----------------------------ай => Аксай               , gt: Аксай               \n",
      "Па-----------в--ллоо------даа----р----------------сская => Павлодарская        , gt: Павлодарская        \n",
      "мо------р--яя--кки--   ------г-лляяя----дд-яяя--тт----. => моряки глядят.      , gt: моряки глядят.      \n",
      "Ал--------------------------оо---------тт------------ы- => Алоты               , gt: Алматы              \n"
     ]
    },
    {
     "data": {
      "application/vnd.jupyter.widget-view+json": {
       "model_id": "15e37e379238425cbf99e6baa40fa26e",
       "version_major": 2,
       "version_minor": 0
      },
      "text/plain": [
       "HBox(children=(FloatProgress(value=0.0, layout=Layout(flex='2'), max=711.0), HTML(value='')), layout=Layout(di…"
      ]
     },
     "metadata": {},
     "output_type": "display_data"
    },
    {
     "name": "stdout",
     "output_type": "stream",
     "text": [
      "\n"
     ]
    },
    {
     "data": {
      "application/vnd.jupyter.widget-view+json": {
       "model_id": "b02cdde5076d4bae8d27d6778f91e23d",
       "version_major": 2,
       "version_minor": 0
      },
      "text/plain": [
       "HBox(children=(FloatProgress(value=0.0, layout=Layout(flex='2'), max=146.0), HTML(value='')), layout=Layout(di…"
      ]
     },
     "metadata": {},
     "output_type": "display_data"
    },
    {
     "name": "stdout",
     "output_type": "stream",
     "text": [
      "\n",
      "Lr now: 0.001\n",
      "Ко-----------к-----шшшшеее--------тт-----------------ау => Кокшетау            , gt: Кокшетау            \n",
      "Са----------рр----------гы-о--------зз---------------ек => Саргыозек           , gt: Сарыозек            \n",
      "п--рроо----с--т---оо----йй   -----оо--п--рр-а-----в--е- => простой оправе      , gt: простой оправе      \n",
      "До------ггоо-----нн-иии---  ------м-ее-----нн---я-----, => Догони меня,        , gt: Догони меня,        \n",
      "О----т--ее---ге---нн-  ------б--аа---т---ы----р--а----- => Отеген батыра       , gt: Отеген батыра       \n"
     ]
    },
    {
     "data": {
      "application/vnd.jupyter.widget-view+json": {
       "model_id": "1f8ba96328ad48b2a4fab719bd46bb8e",
       "version_major": 2,
       "version_minor": 0
      },
      "text/plain": [
       "HBox(children=(FloatProgress(value=0.0, layout=Layout(flex='2'), max=711.0), HTML(value='')), layout=Layout(di…"
      ]
     },
     "metadata": {},
     "output_type": "display_data"
    },
    {
     "name": "stdout",
     "output_type": "stream",
     "text": [
      "\n"
     ]
    },
    {
     "data": {
      "application/vnd.jupyter.widget-view+json": {
       "model_id": "8a9f6626f13d4432a6e36036042ef531",
       "version_major": 2,
       "version_minor": 0
      },
      "text/plain": [
       "HBox(children=(FloatProgress(value=0.0, layout=Layout(flex='2'), max=146.0), HTML(value='')), layout=Layout(di…"
      ]
     },
     "metadata": {},
     "output_type": "display_data"
    },
    {
     "name": "stdout",
     "output_type": "stream",
     "text": [
      "\n",
      "Lr now: 0.001\n",
      "И--   ----тт-ее---н-и---  -----чч--уу--вссс---т---в---, => И тени чувств,      , gt: И тени чувств,      \n",
      "в-   --пп-рр-о--сс--т---о----йй  -сс-п-рраа----вв----е- => в простой справе    , gt: в простой оправе    \n",
      "Ко------------сс--тт-----аа--------н-----------------ай => Костанай            , gt: Костанай            \n",
      "Пы-------------л-о---------з-еее--------р--------ссс-кк => Пылозерск           , gt: Приозерск           \n",
      "т--ыы-  ----ии---з  ---ддоо--м---уу  --уу--шш---лл--аа- => ты из дому ушла     , gt: ты из дому ушла     \n",
      "Lr now: 0.0001\n"
     ]
    },
    {
     "data": {
      "application/vnd.jupyter.widget-view+json": {
       "model_id": "685c1234747149eba9df71a95069b3b3",
       "version_major": 2,
       "version_minor": 0
      },
      "text/plain": [
       "HBox(children=(FloatProgress(value=0.0, layout=Layout(flex='2'), max=711.0), HTML(value='')), layout=Layout(di…"
      ]
     },
     "metadata": {},
     "output_type": "display_data"
    },
    {
     "name": "stdout",
     "output_type": "stream",
     "text": [
      "\n"
     ]
    },
    {
     "data": {
      "application/vnd.jupyter.widget-view+json": {
       "model_id": "f5a37e38f0c44d5483d73e113dbd3a9c",
       "version_major": 2,
       "version_minor": 0
      },
      "text/plain": [
       "HBox(children=(FloatProgress(value=0.0, layout=Layout(flex='2'), max=146.0), HTML(value='')), layout=Layout(di…"
      ]
     },
     "metadata": {},
     "output_type": "display_data"
    },
    {
     "name": "stdout",
     "output_type": "stream",
     "text": [
      "\n",
      "Lr now: 0.0001\n",
      "Пе---------тт---рроо-----паа-----ввв-лло-----вв---сс-кк => Петропавловск       , gt: Петропавловск       \n",
      "Ко--------ссс----т--а--------нн---------------------аай => Костанай            , gt: Костанай            \n",
      "Ко----------ллоо-----кко------лл---ьь----ччии--------кк => Колокольчик         , gt: Колокольчик         \n",
      "АСТ------------------------АА------------Н-----------А- => АСТАНА              , gt: АСТАНА              \n",
      "о--тт------чии-----з--нн--ыы-   ---мм--о------ее-----и- => отчизны моеи        , gt: отчизны моеи        \n"
     ]
    },
    {
     "data": {
      "application/vnd.jupyter.widget-view+json": {
       "model_id": "2dbab935aba7473d98177369348cf580",
       "version_major": 2,
       "version_minor": 0
      },
      "text/plain": [
       "HBox(children=(FloatProgress(value=0.0, layout=Layout(flex='2'), max=711.0), HTML(value='')), layout=Layout(di…"
      ]
     },
     "metadata": {},
     "output_type": "display_data"
    },
    {
     "name": "stdout",
     "output_type": "stream",
     "text": [
      "\n"
     ]
    },
    {
     "data": {
      "application/vnd.jupyter.widget-view+json": {
       "model_id": "6c3297acaf7145d9adbbdbb8954eaeda",
       "version_major": 2,
       "version_minor": 0
      },
      "text/plain": [
       "HBox(children=(FloatProgress(value=0.0, layout=Layout(flex='2'), max=146.0), HTML(value='')), layout=Layout(di…"
      ]
     },
     "metadata": {},
     "output_type": "display_data"
    },
    {
     "name": "stdout",
     "output_type": "stream",
     "text": [
      "\n",
      "Lr now: 0.0001\n",
      "Ко---------л-оо------коо-------лл---ь----ччии--------кк => Колокольчик         , gt: Колокольчик         \n",
      "То--  ----сее--р--ддее---чч-н-а----яя  ---го---с--к--а- => То сердечная госка  , gt: То сердечная тоска  \n",
      "О---т-ккии------нн---у---в  -------лл-а------п-------ы- => Откинув лапы        , gt: Откинув лапы        \n",
      "Ки------------------ееее------вввв----кк-------------а- => Киевка              , gt: Киевка              \n",
      "Алм------------------------ааа------------т----------ы- => Алматы              , gt: Алматы              \n"
     ]
    },
    {
     "data": {
      "application/vnd.jupyter.widget-view+json": {
       "model_id": "7a95f938d1494373b3fc0cf961a3ca23",
       "version_major": 2,
       "version_minor": 0
      },
      "text/plain": [
       "HBox(children=(FloatProgress(value=0.0, layout=Layout(flex='2'), max=711.0), HTML(value='')), layout=Layout(di…"
      ]
     },
     "metadata": {},
     "output_type": "display_data"
    },
    {
     "name": "stdout",
     "output_type": "stream",
     "text": [
      "\n"
     ]
    },
    {
     "data": {
      "application/vnd.jupyter.widget-view+json": {
       "model_id": "c6d11556063a4ab1a7199f229915309e",
       "version_major": 2,
       "version_minor": 0
      },
      "text/plain": [
       "HBox(children=(FloatProgress(value=0.0, layout=Layout(flex='2'), max=146.0), HTML(value='')), layout=Layout(di…"
      ]
     },
     "metadata": {},
     "output_type": "display_data"
    },
    {
     "name": "stdout",
     "output_type": "stream",
     "text": [
      "\n",
      "Lr now: 0.0001\n",
      "КЫ------------З--ЫЫ-------ЛО---------Р-----Д---------А- => КЫЗЫЛОРДА           , gt: КЫЗЫЛОРДА           \n",
      "Са---------------р----аа-----------------н----------ьь- => Сарань              , gt: Сарань              \n",
      "Ту-------------р-----ке--------------------------ссттан => Туркестан           , gt: Туркестан           \n",
      "За----паа---д-нно-----ККа---заа--хсс-тт-а---н------ская => Западно-Казахстанская, gt: Западно-Казахстанская\n",
      "Па-------------вв----лллоо----------дд---------------ар => Павлодар            , gt: Павлодар            \n"
     ]
    },
    {
     "data": {
      "application/vnd.jupyter.widget-view+json": {
       "model_id": "9b333fcae4cd4be395c3538eacf0bd26",
       "version_major": 2,
       "version_minor": 0
      },
      "text/plain": [
       "HBox(children=(FloatProgress(value=0.0, layout=Layout(flex='2'), max=711.0), HTML(value='')), layout=Layout(di…"
      ]
     },
     "metadata": {},
     "output_type": "display_data"
    },
    {
     "name": "stdout",
     "output_type": "stream",
     "text": [
      "\n"
     ]
    },
    {
     "data": {
      "application/vnd.jupyter.widget-view+json": {
       "model_id": "2d07a28ea0ec4f809ae270313096247e",
       "version_major": 2,
       "version_minor": 0
      },
      "text/plain": [
       "HBox(children=(FloatProgress(value=0.0, layout=Layout(flex='2'), max=146.0), HTML(value='')), layout=Layout(di…"
      ]
     },
     "metadata": {},
     "output_type": "display_data"
    },
    {
     "name": "stdout",
     "output_type": "stream",
     "text": [
      "\n",
      "Lr now: 0.0001\n",
      "м-----нее   -----с--нии----т-сс-я   ----п--лла-------щщ => мне снится плащ     , gt: мне снится плащ     \n",
      "о   --ппоо--дд-ввии--гга----х,,  оо   -сс-лла-----вв-е- => о подвигах, о славе , gt: о подвигах, о славе \n",
      "на----нее-ссе--н--нн--ыы-ее  ----ввоо---й---ноо---йй--, => нанесенные войной,  , gt: нанесенные войной,  \n",
      "Ки-------------р-----ггии-------зз-------------------ия => Киргизия            , gt: Киргизия            \n",
      "ии-х  ---на---сслле-ддс-т--вее-н--н-ы--йй ------щии-тт- => их наследственный щит, gt: их наследственный щит\n"
     ]
    },
    {
     "data": {
      "application/vnd.jupyter.widget-view+json": {
       "model_id": "c9a7c142309f4f9e9299236eb80660cf",
       "version_major": 2,
       "version_minor": 0
      },
      "text/plain": [
       "HBox(children=(FloatProgress(value=0.0, layout=Layout(flex='2'), max=711.0), HTML(value='')), layout=Layout(di…"
      ]
     },
     "metadata": {},
     "output_type": "display_data"
    },
    {
     "name": "stdout",
     "output_type": "stream",
     "text": [
      "\n"
     ]
    },
    {
     "data": {
      "application/vnd.jupyter.widget-view+json": {
       "model_id": "9964e8c1657f4fb38e3b8d6fdfe5e67e",
       "version_major": 2,
       "version_minor": 0
      },
      "text/plain": [
       "HBox(children=(FloatProgress(value=0.0, layout=Layout(flex='2'), max=146.0), HTML(value='')), layout=Layout(di…"
      ]
     },
     "metadata": {},
     "output_type": "display_data"
    },
    {
     "name": "stdout",
     "output_type": "stream",
     "text": [
      "\n",
      "Lr now: 0.0001\n",
      "д---лл-яя ----н-аа---сс ------сса----д--и----т---сс-я-, => для нас садится,    , gt: для нас садится,    \n",
      "Пе-------тт---рр-о-----ппа-----ввв--ллоо----ввв----сск- => Петропавловск       , gt: Петропавловск       \n",
      "Ч--ттоо  --дее--ла------т-ьь  --нна--------м--   ---сс- => Что делать нам с    , gt: Что делать нам с    \n",
      "Ки--------------р-----гии--------зз------------------ия => Киргизия            , gt: Киргизия            \n",
      "На---------сс----т---аа-----вв---шшш-----------------ий => Наставший           , gt: Наставший           \n"
     ]
    },
    {
     "data": {
      "application/vnd.jupyter.widget-view+json": {
       "model_id": "2c7c6115c05745579664a8551936a95d",
       "version_major": 2,
       "version_minor": 0
      },
      "text/plain": [
       "HBox(children=(FloatProgress(value=0.0, layout=Layout(flex='2'), max=711.0), HTML(value='')), layout=Layout(di…"
      ]
     },
     "metadata": {},
     "output_type": "display_data"
    },
    {
     "name": "stdout",
     "output_type": "stream",
     "text": [
      "\n"
     ]
    },
    {
     "data": {
      "application/vnd.jupyter.widget-view+json": {
       "model_id": "097d6375448b4e82a62dc50289a90242",
       "version_major": 2,
       "version_minor": 0
      },
      "text/plain": [
       "HBox(children=(FloatProgress(value=0.0, layout=Layout(flex='2'), max=146.0), HTML(value='')), layout=Layout(di…"
      ]
     },
     "metadata": {},
     "output_type": "display_data"
    },
    {
     "name": "stdout",
     "output_type": "stream",
     "text": [
      "\n",
      "Lr now: 0.0001\n",
      "по----ч--уу--я   ------наа---  ---п-ллее--чча--------х- => почуя на плечах     , gt: почуя на плечах     \n",
      "дл------иии---------н------н-оо---------ии------------. => длиннои.            , gt: длиннои.            \n",
      "И---   ------ооо--ддд--н----у- ----л-ииии-----шшш---ьь- => И одну лишь         , gt: И одну лишь         \n",
      "З---вв--уу-чч--но--   ----сс--т-----р-ее-----л--к----а- => Звучно стрелка      , gt: Звучно стрелка      \n",
      "Зе-------м----лл---яя  ---дд---у---шшшиии--ссс--т----а- => Земля душиста       , gt: Земля душиста       \n"
     ]
    },
    {
     "data": {
      "application/vnd.jupyter.widget-view+json": {
       "model_id": "a21df65fa03148eb9a0139bd93f7587a",
       "version_major": 2,
       "version_minor": 0
      },
      "text/plain": [
       "HBox(children=(FloatProgress(value=0.0, layout=Layout(flex='2'), max=711.0), HTML(value='')), layout=Layout(di…"
      ]
     },
     "metadata": {},
     "output_type": "display_data"
    },
    {
     "name": "stdout",
     "output_type": "stream",
     "text": [
      "\n"
     ]
    },
    {
     "data": {
      "application/vnd.jupyter.widget-view+json": {
       "model_id": "238bf7f40e0e434b85e49ef266c10505",
       "version_major": 2,
       "version_minor": 0
      },
      "text/plain": [
       "HBox(children=(FloatProgress(value=0.0, layout=Layout(flex='2'), max=146.0), HTML(value='')), layout=Layout(di…"
      ]
     },
     "metadata": {},
     "output_type": "display_data"
    },
    {
     "name": "stdout",
     "output_type": "stream",
     "text": [
      "\n",
      "Lr now: 0.0001\n",
      "Ка---------------н-----дд---ыыаа-------г-------------аш => Кандыагаш           , gt: Кандыагаш           \n",
      "Ак---------------------------------------------------су => Аксу                , gt: Аксу                \n",
      "не------   --------уу---зз---н-аа--------т-------ь----. => не узнать.          , gt: не узнать.          \n",
      "Та-----------------------рр--------------------------аз => Тараз               , gt: Тараз               \n",
      "Ук--------------рр-аа----------иии-------н-----------а- => Украина             , gt: Украина             \n"
     ]
    },
    {
     "data": {
      "application/vnd.jupyter.widget-view+json": {
       "model_id": "07c90c2e58234fe69ba2e7273316474c",
       "version_major": 2,
       "version_minor": 0
      },
      "text/plain": [
       "HBox(children=(FloatProgress(value=0.0, layout=Layout(flex='2'), max=711.0), HTML(value='')), layout=Layout(di…"
      ]
     },
     "metadata": {},
     "output_type": "display_data"
    },
    {
     "name": "stdout",
     "output_type": "stream",
     "text": [
      "\n"
     ]
    },
    {
     "data": {
      "application/vnd.jupyter.widget-view+json": {
       "model_id": "1ae6fe0293de453eb3b1a53892bbe2ba",
       "version_major": 2,
       "version_minor": 0
      },
      "text/plain": [
       "HBox(children=(FloatProgress(value=0.0, layout=Layout(flex='2'), max=146.0), HTML(value='')), layout=Layout(di…"
      ]
     },
     "metadata": {},
     "output_type": "display_data"
    },
    {
     "name": "stdout",
     "output_type": "stream",
     "text": [
      "\n",
      "Lr now: 0.0001\n",
      "Я-------    ---------кк---рр--е---------п----к-------о- => Я крепко            , gt: Я крепко            \n",
      "Не---  -----жж-а------л-е----й   ------коо----н--я----, => Не жалей коня,      , gt: Не жалей коня,      \n",
      "Атт------------------аа------------------------------су => Атасу               , gt: Атасу               \n",
      "Па------------в--ллоо----д-аа----рр---------------сская => Павлодарская        , gt: Павлодарская        \n",
      "д-----------вввооо----------рр-----------------------а, => двора,              , gt: двора,              \n"
     ]
    },
    {
     "data": {
      "application/vnd.jupyter.widget-view+json": {
       "model_id": "14e6ba5cebf74dbc80c0d6428607c286",
       "version_major": 2,
       "version_minor": 0
      },
      "text/plain": [
       "HBox(children=(FloatProgress(value=0.0, layout=Layout(flex='2'), max=711.0), HTML(value='')), layout=Layout(di…"
      ]
     },
     "metadata": {},
     "output_type": "display_data"
    },
    {
     "name": "stdout",
     "output_type": "stream",
     "text": [
      "\n"
     ]
    },
    {
     "data": {
      "application/vnd.jupyter.widget-view+json": {
       "model_id": "ce7cd0b5b5654affb2d85c05efd1aac2",
       "version_major": 2,
       "version_minor": 0
      },
      "text/plain": [
       "HBox(children=(FloatProgress(value=0.0, layout=Layout(flex='2'), max=146.0), HTML(value='')), layout=Layout(di…"
      ]
     },
     "metadata": {},
     "output_type": "display_data"
    },
    {
     "name": "stdout",
     "output_type": "stream",
     "text": [
      "\n",
      "Lr now: 0.0001\n",
      "иссс-кка----лее--чче---н--нн-ыы-ее -------р---у--к---и- => искалеченные руки   , gt: искалеченные руки   \n",
      "т--ррии-----жж------д--ыыы-   ---тт-о-----н---уу--л---, => трижды тонул,       , gt: трижды тонул,       \n",
      "Абх------------------а----------зз-------------------ия => Абхазия             , gt: Абхазия             \n",
      "я----д-   ------д----р----уу---ггии-----мммм----------, => яд другим,          , gt: яд другим,          \n",
      "с---------ррр----ооо---------------------------------к- => срок                , gt: срок                \n"
     ]
    },
    {
     "data": {
      "application/vnd.jupyter.widget-view+json": {
       "model_id": "2b126fac6bc84a98bd48c6005d115fef",
       "version_major": 2,
       "version_minor": 0
      },
      "text/plain": [
       "HBox(children=(FloatProgress(value=0.0, layout=Layout(flex='2'), max=711.0), HTML(value='')), layout=Layout(di…"
      ]
     },
     "metadata": {},
     "output_type": "display_data"
    },
    {
     "name": "stdout",
     "output_type": "stream",
     "text": [
      "\n"
     ]
    },
    {
     "data": {
      "application/vnd.jupyter.widget-view+json": {
       "model_id": "7d3786bcc60c436ca8a4811bfe9d85f8",
       "version_major": 2,
       "version_minor": 0
      },
      "text/plain": [
       "HBox(children=(FloatProgress(value=0.0, layout=Layout(flex='2'), max=146.0), HTML(value='')), layout=Layout(di…"
      ]
     },
     "metadata": {},
     "output_type": "display_data"
    }
   ],
   "source": [
    "ep = 100\n",
    "\n",
    "train_loss = []\n",
    "train_acc_char = []\n",
    "train_acc_str = []\n",
    "train_cer = []\n",
    "\n",
    "val_loss = []\n",
    "val_acc_char = []\n",
    "val_acc_str = []\n",
    "val_cer = []\n",
    "\n",
    "best_str_acc = 0\n",
    "\n",
    "for epoch in range(ep):\n",
    "    train_epoch_loss = []\n",
    "    \n",
    "    train_epoch_acc_char = []\n",
    "    train_epoch_acc_str = []\n",
    "    train_epoch_cer = []\n",
    "    \n",
    "    with tqdm(total = len(train_dataloader), ncols='100%') as bar_train:\n",
    "        for i, (images, gt_text) in enumerate(train_dataloader):\n",
    "\n",
    "            results = train_on_batch_rec(images, gt_text, net, ocr_loss, optimizer, device, batch_size, converter)\n",
    "            loss, acc_char, acc_str, cer = results\n",
    "            \n",
    "            train_epoch_loss.append(loss)\n",
    "            train_epoch_acc_char.append(acc_char)\n",
    "            train_epoch_acc_str.append(acc_str)\n",
    "            train_epoch_cer.append(cer)\n",
    "\n",
    "            printed_data = f\"Ep: {epoch}. Train loss: {np.mean(train_epoch_loss):.4f}.\\\n",
    "            Acc char: {np.mean(train_epoch_acc_char):.4f}.\\\n",
    "            Acc str: {np.mean(train_epoch_acc_str):.4f}.\\\n",
    "            CER: {np.mean(train_epoch_cer):.4f}.\"\n",
    "            bar_train.set_description(printed_data)\n",
    "            bar_train.update(1)\n",
    "            \n",
    "    train_loss.append(np.mean(train_epoch_loss))\n",
    "    \n",
    "    train_acc_char.append(np.mean(train_epoch_acc_char))\n",
    "    train_acc_str.append(np.mean(train_epoch_acc_str))\n",
    "    train_cer.append(np.mean(train_epoch_cer))\n",
    "    \n",
    "    \n",
    "    val_epoch_loss = []\n",
    "    \n",
    "    val_epoch_acc_char = []\n",
    "    val_epoch_acc_str = []\n",
    "    val_epoch_cer = []\n",
    "    \n",
    "    with tqdm(total = len(val_dataloader), ncols='100%') as bar_val:\n",
    "        for i, (images, gt_text) in enumerate(val_dataloader):\n",
    "\n",
    "            results = val_on_batch_rec(images, gt_text, net, ocr_loss, device, batch_size, converter)\n",
    "            loss, acc_char, acc_str, cer, decode_text, gt_text, raw_preds = results\n",
    "            \n",
    "            val_epoch_loss.append(loss)\n",
    "            val_epoch_acc_char.append(acc_char)\n",
    "            val_epoch_acc_str.append(acc_str)\n",
    "            val_epoch_cer.append(cer)\n",
    "\n",
    "            printed_data = f\"Ep: {epoch}. Val loss: {np.mean(val_epoch_loss):.4f}.\\\n",
    "            Acc char: {np.mean(val_epoch_acc_char):.4f}.\\\n",
    "            Acc str: {np.mean(val_epoch_acc_str):.4f}.\\\n",
    "            CER: {np.mean(val_epoch_cer):.4f}.\"\n",
    "            bar_val.set_description(printed_data)\n",
    "            bar_val.update(1)\n",
    "        \n",
    "    val_loss.append(np.mean(val_epoch_loss))\n",
    "    \n",
    "    val_acc_char.append(np.mean(val_epoch_acc_char))\n",
    "    val_acc_str.append(np.mean(val_epoch_acc_str))\n",
    "    val_cer.append(np.mean(val_epoch_cer))\n",
    "    \n",
    "    print('Lr now:', optimizer.param_groups[0]['lr'])\n",
    "\n",
    "    for raw_pred, pred, gt in zip(raw_preds, decode_text, gt_text):\n",
    "        print('%-20s => %-20s, gt: %-20s' % (raw_pred, pred, gt)) \n",
    "    \n",
    "    if epoch == 40:\n",
    "        for g in optimizer.param_groups:\n",
    "            g['lr'] = g['lr']*0.1\n",
    "        print('Lr now:', optimizer.param_groups[0]['lr'])\n",
    "        \n",
    "    if epoch == 70:\n",
    "        for g in optimizer.param_groups:\n",
    "            g['lr'] = g['lr']*0.1\n",
    "        print('Lr now:', optimizer.param_groups[0]['lr'])"
   ]
  },
  {
   "cell_type": "code",
   "execution_count": null,
   "metadata": {},
   "outputs": [],
   "source": []
  }
 ],
 "metadata": {
  "kernelspec": {
   "display_name": "Python 3",
   "language": "python",
   "name": "python3"
  },
  "language_info": {
   "codemirror_mode": {
    "name": "ipython",
    "version": 3
   },
   "file_extension": ".py",
   "mimetype": "text/x-python",
   "name": "python",
   "nbconvert_exporter": "python",
   "pygments_lexer": "ipython3",
   "version": "3.7.7"
  }
 },
 "nbformat": 4,
 "nbformat_minor": 4
}
