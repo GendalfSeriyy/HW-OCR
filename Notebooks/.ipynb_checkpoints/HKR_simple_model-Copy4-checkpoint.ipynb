{
 "cells": [
  {
   "cell_type": "code",
   "execution_count": 1,
   "metadata": {},
   "outputs": [],
   "source": [
    "import logging\n",
    "import torch.nn as nn\n",
    "import numpy as np\n",
    "from matplotlib import pyplot as plt\n",
    "import cv2\n",
    "import torch\n",
    "import torch.nn.functional as F\n",
    "import math\n",
    "import pandas as pd\n",
    "import PIL.Image as Image\n",
    "from torchvision.transforms import ToTensor, ToPILImage\n",
    "import torch.nn.functional as F\n",
    "import segmentation_models_pytorch as smp\n",
    "from collections import OrderedDict\n",
    "import torch\n",
    "import torch.nn as nn\n",
    "import PIL.Image as Image\n",
    "from torchvision.transforms import ToTensor, ToPILImage\n",
    "import torch.nn.functional as F\n",
    "import pickle\n",
    "from tqdm import tqdm_notebook as tqdm\n",
    "import torchvision\n",
    "import time\n",
    "from collections import defaultdict\n",
    "from torch.nn import CTCLoss\n",
    "from Levenshtein import distance\n",
    "import random\n",
    "from torch.utils import data\n",
    "from torch.utils.data import DataLoader"
   ]
  },
  {
   "cell_type": "code",
   "execution_count": 2,
   "metadata": {},
   "outputs": [],
   "source": [
    "class ImageDataset(data.Dataset):\n",
    "    \"\"\"\n",
    "    Dataset class for handwritten lines.\n",
    "\n",
    "    Parameters\n",
    "    ----------\n",
    "    pickle_file : str\n",
    "        Path to a dataset pickle file.\n",
    "    meta : bool\n",
    "        If True, meta data about files is provided.\n",
    "    num_imgs : int, optional (default=-1)\n",
    "        Choose only `num_imgs` imgs for processing. If set to -1, uses all available images.\n",
    "\n",
    "    \"\"\"\n",
    "\n",
    "    def __init__(self, pickle_file, meta=False, num_imgs=-1):\n",
    "        with open(pickle_file, 'rb') as f:\n",
    "            dataset = pickle.load(f)\n",
    "        self.reference_dataset = dataset\n",
    "        self.num_imgs = num_imgs\n",
    "        if (self.num_imgs > 0) and (self.num_imgs < len(self.reference_dataset)):\n",
    "            inds = np.random.choice(np.arange(len(self.reference_dataset)),\n",
    "                                    self.num_imgs, replace=False)\n",
    "            self.reference_dataset = [self.reference_dataset[i] for i in inds]\n",
    "        self.meta = meta\n",
    "\n",
    "    def __getitem__(self, idx):\n",
    "        data = self.reference_dataset[idx]\n",
    "        #img = cv2.imread(data['img_path'], cv2.IMREAD_UNCHANGED) / 255.\n",
    "        img = cv2.resize(cv2.cvtColor(cv2.imread(data['img_path']), cv2.COLOR_BGR2RGB), (442, 64)) / 255.\n",
    "        img = torch.from_numpy(img).permute(2,0,1).float()\n",
    "        text = data['description']\n",
    "        width = data['width']\n",
    "        height = data['height']\n",
    "\n",
    "        if self.meta:\n",
    "            return img, text, data, width, height\n",
    "        else:\n",
    "            return img, text\n",
    "\n",
    "    def __len__(self):\n",
    "        return len(self.reference_dataset)\n",
    "    \n",
    "class strLabelConverter(object):\n",
    "    \"\"\"Convert between str and label.\n",
    "    NOTE:\n",
    "        Insert `blank` to the alphabet for CTC.\n",
    "    Args:\n",
    "        alphabet (str): set of the possible characters.\n",
    "        ignore_case (bool, default=True): whether or not to ignore all of the case.\n",
    "    \"\"\"\n",
    "\n",
    "    def __init__(self, alphabet, ignore_case=False):\n",
    "        self._ignore_case = ignore_case\n",
    "        if self._ignore_case:\n",
    "            alphabet = alphabet.lower()\n",
    "        self.alphabet = alphabet + '-'  # for `-1` index\n",
    "        #self.alphabet = alphabet\n",
    "\n",
    "        self.dict = {}\n",
    "        for i, char in enumerate(alphabet):\n",
    "            # NOTE: 0 is reserved for 'blank' required by wrap_ctc\n",
    "            self.dict[char] = i + 1\n",
    "    \n",
    "    def encode(self, text):\n",
    "        \"\"\"Support batch or single str.\n",
    "        Args:\n",
    "            text (str or list of str): texts to convert.\n",
    "        Returns:\n",
    "            torch.LongTensor [length_0 + length_1 + ... length_{n - 1}]: encoded texts.\n",
    "            torch.LongTensor [n]: length of each text.\n",
    "        \"\"\"\n",
    "\n",
    "        length = []\n",
    "        result = []\n",
    "        for item in text:            \n",
    "#             item = item.decode('utf-8','strict')\n",
    "            length.append(len(item))\n",
    "            r = []\n",
    "            for char in item:\n",
    "                index = self.dict[char]\n",
    "                # result.append(index)\n",
    "                r.append(index)\n",
    "            result.append(r)\n",
    "        \n",
    "        max_len = 0\n",
    "        for r in result:\n",
    "            if len(r) > max_len:\n",
    "                max_len = len(r)\n",
    "        \n",
    "        result_temp = []\n",
    "        for r in result:\n",
    "            for i in range(max_len - len(r)):\n",
    "                r.append(0)\n",
    "            result_temp.append(r)\n",
    "\n",
    "        text = result_temp\n",
    "        return (torch.LongTensor(text), torch.LongTensor(length))\n",
    "\n",
    "\n",
    "    def decode(self, t, length, raw=False):\n",
    "        \"\"\"Decode encoded texts back into strs.\n",
    "        Args:\n",
    "            torch.LongTensor [length_0 + length_1 + ... length_{n - 1}]: encoded texts.\n",
    "            torch.LongTensor [n]: length of each text.\n",
    "        Raises:\n",
    "            AssertionError: when the texts and its length does not match.\n",
    "        Returns:\n",
    "            text (str or list of str): texts to convert.\n",
    "        \"\"\"\n",
    "        if length.numel() == 1:\n",
    "            length = length[0]\n",
    "            assert t.numel() == length, \"text with length: {} does not match declared length: {}\".format(t.numel(), length)\n",
    "            if raw:\n",
    "                return ''.join([self.alphabet[i - 1] for i in t])\n",
    "            else:\n",
    "                char_list = []\n",
    "                for i in range(length):\n",
    "                    if t[i] != 0 and (not (i > 0 and t[i - 1] == t[i])):\n",
    "                        char_list.append(self.alphabet[t[i] - 1])\n",
    "                return ''.join(char_list)\n",
    "        else:\n",
    "            # batch mode\n",
    "            assert t.numel() == length.sum(), \"texts with length: {} does not match declared length: {}\".format(t.numel(), length.sum())\n",
    "            texts = []\n",
    "            index = 0\n",
    "            for i in range(length.numel()):\n",
    "                l = length[i]\n",
    "                texts.append(\n",
    "                    self.decode(\n",
    "                        t[index:index + l], torch.LongTensor([l]), raw=raw))\n",
    "                index += l\n",
    "            return texts"
   ]
  },
  {
   "cell_type": "code",
   "execution_count": 3,
   "metadata": {},
   "outputs": [],
   "source": [
    "class BidirectionalLSTM(nn.Module):\n",
    "\n",
    "    def __init__(self, nIn, nHidden, nOut):\n",
    "        super(BidirectionalLSTM, self).__init__()\n",
    "\n",
    "        self.rnn = nn.LSTM(nIn, nHidden, bidirectional=True)\n",
    "        self.embedding = nn.Linear(nHidden * 2, nOut)\n",
    "\n",
    "    def forward(self, input):\n",
    "        recurrent, _ = self.rnn(input)\n",
    "        T, b, h = recurrent.size()\n",
    "        t_rec = recurrent.view(T * b, h)\n",
    "\n",
    "        output = self.embedding(t_rec)  # [T * b, nOut]\n",
    "        output = output.view(T, b, -1)\n",
    "\n",
    "        return output\n",
    "    \n",
    "class CRNN(nn.Module):\n",
    "\n",
    "    def __init__(self, imgH, nc, nclass, nh, n_rnn=2, leakyRelu=False):\n",
    "        super(CRNN, self).__init__()\n",
    "        assert imgH % 16 == 0, 'imgH has to be a multiple of 16'\n",
    "\n",
    "        ks = [3, 3, 3, 3, 3, 3, 3, 2]\n",
    "        ps = [1, 1, 1, 1, 1, 1, 0, 0]\n",
    "        ss = [1, 1, 1, 1, 1, 1, 1, 2]\n",
    "        nm = [16, 32, 128, 256, 512, 512, 512, 512]\n",
    "\n",
    "        cnn = nn.Sequential()\n",
    "\n",
    "        def convRelu(i, batchNormalization=False):\n",
    "            nIn = nc if i == 0 else nm[i - 1]\n",
    "            nOut = nm[i]\n",
    "            cnn.add_module('conv{0}'.format(i),\n",
    "                           nn.Conv2d(nIn, nOut, ks[i], ss[i], ps[i]))\n",
    "            if batchNormalization:\n",
    "                cnn.add_module('batchnorm{0}'.format(i), nn.BatchNorm2d(nOut))\n",
    "            if leakyRelu:\n",
    "                cnn.add_module('relu{0}'.format(i),\n",
    "                               nn.LeakyReLU(0.2, inplace=True))\n",
    "            else:\n",
    "                cnn.add_module('relu{0}'.format(i), nn.ReLU(True))\n",
    "\n",
    "        convRelu(0)\n",
    "        cnn.add_module('pooling{0}'.format(0), nn.MaxPool2d(2, 2))  # 64x16x64\n",
    "        convRelu(1)\n",
    "        cnn.add_module('pooling{0}'.format(1), nn.MaxPool2d(2, 2))  # 128x8x32\n",
    "        convRelu(2, True)\n",
    "        convRelu(3)\n",
    "        cnn.add_module('pooling{0}'.format(2),\n",
    "                       nn.MaxPool2d((2, 2), (2, 1), (0, 1)))  # 256x4x16\n",
    "        convRelu(4, True)\n",
    "        convRelu(5)\n",
    "        \n",
    "        cnn.add_module('pooling{0}'.format(3),\n",
    "                       nn.MaxPool2d((2, 2), (2, 1), (0, 1)))  # 512x2x16\n",
    "        convRelu(6, True)  # 512x1x16\n",
    "        convRelu(7, True)\n",
    "        \n",
    "\n",
    "        self.cnn = cnn\n",
    "        self.rnn = nn.Sequential(\n",
    "            BidirectionalLSTM(512, nh, nh),\n",
    "            BidirectionalLSTM(nh, nh, nclass))\n",
    "\n",
    "\n",
    "    def forward(self, input):\n",
    "        # conv features\n",
    "        conv = self.cnn(input)\n",
    "        b, c, h, w = conv.size()\n",
    "        assert h == 1, \"the height of conv must be 1\"\n",
    "        conv = conv.squeeze(2)\n",
    "        conv = conv.permute(2, 0, 1)  # [w, b, c]\n",
    "\n",
    "        # rnn features\n",
    "        output = self.rnn(conv)\n",
    "        \n",
    "        # add log_softmax to converge output\n",
    "        output = F.log_softmax(output, dim=2)\n",
    "\n",
    "        return output\n",
    "\n",
    "\n",
    "    def backward_hook(self, module, grad_input, grad_output):\n",
    "        for g in grad_input:\n",
    "            g[g != g] = 0   # replace all nan/inf in gradients to zero"
   ]
  },
  {
   "cell_type": "code",
   "execution_count": 4,
   "metadata": {},
   "outputs": [],
   "source": [
    "def train_on_batch_rec(images, gt_text, model_crnn, ocr_loss, optimizer, device, batch_size, converter):\n",
    "\n",
    "    model_crnn.train()\n",
    "    \n",
    "    pred_text = model_crnn(images.to(device))\n",
    "    \n",
    "    preds_size = torch.LongTensor([pred_text.size(0)] * batch_size)\n",
    "    \n",
    "    t_text, l_text = converter.encode(list(gt_text))\n",
    "    \n",
    "    loss = ocr_loss(pred_text, t_text, preds_size, l_text)\n",
    "    \n",
    "    optimizer.zero_grad()\n",
    "    loss.backward()\n",
    "    optimizer.step()\n",
    "    \n",
    "    _, decode_text = pred_text.max(2)\n",
    "    decode_text = decode_text.transpose(1, 0).contiguous().view(-1)\n",
    "    decode_text = converter.decode(decode_text.data, preds_size, raw=False)\n",
    "    \n",
    "    char_correct = 0\n",
    "    total_char = 0\n",
    "    for pred, gt in zip(decode_text, gt_text):\n",
    "        for i, pred_char in enumerate(pred):\n",
    "            if i<len(gt):\n",
    "                if pred_char == gt[i]:\n",
    "                    char_correct += 1\n",
    "        total_char += len(gt)\n",
    "            \n",
    "    acc_char = (char_correct)/float(total_char)\n",
    "    \n",
    "    total_str = 0\n",
    "    n_correct = 0\n",
    "    cer = 0\n",
    "    for pred, target in zip(decode_text, gt_text):\n",
    "        if pred == target:\n",
    "            n_correct += 1\n",
    "        else:\n",
    "            cer += distance(pred, target)/len(target)\n",
    "        total_str+=1\n",
    "            \n",
    "    acc_str = (n_correct)/total_str\n",
    "    cer = cer/total_str\n",
    "    \n",
    "    return (loss.item(), acc_char, acc_str, cer)\n",
    "\n",
    "def val_on_batch_rec(images, gt_text, model_crnn, ocr_loss, device, batch_size, converter):\n",
    "\n",
    "    model_crnn.eval()\n",
    "    \n",
    "    pred_text = model_crnn(images.to(device))\n",
    "    \n",
    "    preds_size = torch.LongTensor([pred_text.size(0)] * batch_size)\n",
    "    \n",
    "    t_text, l_text = converter.encode(list(gt_text))\n",
    "    \n",
    "    loss = ocr_loss(pred_text, t_text, preds_size, l_text)\n",
    "    \n",
    "    _, decode_text = pred_text.max(2)\n",
    "    decode_text = decode_text.transpose(1, 0).contiguous().view(-1)\n",
    "    decode_text = converter.decode(decode_text.data, preds_size, raw=False)\n",
    "    \n",
    "    char_correct = 0\n",
    "    total_char = 0\n",
    "    for pred, gt in zip(decode_text, gt_text):\n",
    "        for i, pred_char in enumerate(pred):\n",
    "            if i<len(gt):\n",
    "                if pred_char == gt[i]:\n",
    "                    char_correct += 1\n",
    "        total_char += len(gt)\n",
    "            \n",
    "    acc_char = (char_correct)/float(total_char)\n",
    "    \n",
    "    total_str = 0\n",
    "    n_correct = 0\n",
    "    cer = 0\n",
    "    for pred, target in zip(decode_text, gt_text):\n",
    "        if pred == target:\n",
    "            n_correct += 1\n",
    "        else:\n",
    "            cer += distance(pred, target)/len(target)\n",
    "        total_str+=1\n",
    "            \n",
    "    acc_str = (n_correct)/total_str\n",
    "    cer = cer/total_str\n",
    "    \n",
    "    _, preds = pred_text.max(2)\n",
    "    preds = preds.transpose(1, 0).contiguous().view(-1)\n",
    "    raw_preds = converter.decode(preds.data, preds_size, raw=True)\n",
    "    \n",
    "    return (loss.item(), acc_char, acc_str, cer, decode_text[:5], gt_text[:5], raw_preds[:5])"
   ]
  },
  {
   "cell_type": "code",
   "execution_count": 5,
   "metadata": {},
   "outputs": [
    {
     "data": {
      "text/plain": [
       "79"
      ]
     },
     "execution_count": 5,
     "metadata": {},
     "output_type": "execute_result"
    }
   ],
   "source": [
    "pickle_path_train = '/home/storage/3020/KrivorotovI/db/HKR/datasets/train.pkl'\n",
    "pickle_path_val = '/home/storage/3020/KrivorotovI/db/HKR/datasets/val.pkl'\n",
    "with open(pickle_path_train, 'rb') as f:\n",
    "    full_dataset = pickle.load(f)\n",
    "alphabet = ''\n",
    "for example in full_dataset:\n",
    "    alphabet += example['description']\n",
    "alphabet = list(set(alphabet))\n",
    "alphabet =''.join(alphabet)\n",
    "len(alphabet)"
   ]
  },
  {
   "cell_type": "code",
   "execution_count": 6,
   "metadata": {},
   "outputs": [],
   "source": [
    "imgH = 32 # the height of the input image to network\n",
    "imgW = 100 # the width of the input image to network\n",
    "nh = 256 # size of the lstm hidden state\n",
    "nc = 3\n",
    "nclass = len(alphabet)+1\n",
    "batch_size = 64"
   ]
  },
  {
   "cell_type": "code",
   "execution_count": 7,
   "metadata": {},
   "outputs": [],
   "source": [
    "device = torch.device(\"cuda:8\")\n",
    "converter = strLabelConverter(alphabet)\n",
    "net = CRNN(imgH, nc, nclass, nh)\n",
    "net.to(device)\n",
    "ocr_loss = CTCLoss()\n",
    "optimizer = torch.optim.RMSprop(net.parameters(), lr=0.001)\n",
    "train_dataset = ImageDataset(pickle_path_train, num_imgs=-1)\n",
    "val_dataset = ImageDataset(pickle_path_val, num_imgs=-1)\n",
    "\n",
    "train_dataloader = DataLoader(train_dataset, batch_size=batch_size,\n",
    "                        shuffle=True, num_workers=1, drop_last = True)\n",
    "val_dataloader = DataLoader(val_dataset, batch_size=batch_size,\n",
    "                        shuffle=True, num_workers=1, drop_last = True)"
   ]
  },
  {
   "cell_type": "code",
   "execution_count": 8,
   "metadata": {},
   "outputs": [
    {
     "name": "stdout",
     "output_type": "stream",
     "text": [
      "torch.Size([64, 3, 64, 442])\n",
      "Западно-Казахстанская\n"
     ]
    },
    {
     "data": {
      "image/png": "[encoded data removed]",
      "text/plain": [
       "<Figure size 432x288 with 1 Axes>"
      ]
     },
     "metadata": {
      "needs_background": "light"
     },
     "output_type": "display_data"
    }
   ],
   "source": [
    "for imgs, text in train_dataloader:\n",
    "    print(imgs.shape)\n",
    "    plt.imshow(imgs[0].permute(1,2,0))\n",
    "    print(text[0])\n",
    "    break"
   ]
  },
  {
   "cell_type": "code",
   "execution_count": null,
   "metadata": {},
   "outputs": [
    {
     "name": "stderr",
     "output_type": "stream",
     "text": [
      "/usr/local/lib/python3.7/site-packages/ipykernel_launcher.py:22: TqdmDeprecationWarning: This function will be removed in tqdm==5.0.0\n",
      "Please use `tqdm.notebook.tqdm` instead of `tqdm.tqdm_notebook`\n"
     ]
    },
    {
     "data": {
      "application/vnd.jupyter.widget-view+json": {
       "model_id": "1748f61b13eb438f803e16df0f140e97",
       "version_major": 2,
       "version_minor": 0
      },
      "text/plain": [
       "HBox(children=(FloatProgress(value=0.0, layout=Layout(flex='2'), max=711.0), HTML(value='')), layout=Layout(di…"
      ]
     },
     "metadata": {},
     "output_type": "display_data"
    },
    {
     "name": "stdout",
     "output_type": "stream",
     "text": [
      "\n"
     ]
    },
    {
     "name": "stderr",
     "output_type": "stream",
     "text": [
      "/usr/local/lib/python3.7/site-packages/ipykernel_launcher.py:53: TqdmDeprecationWarning: This function will be removed in tqdm==5.0.0\n",
      "Please use `tqdm.notebook.tqdm` instead of `tqdm.tqdm_notebook`\n"
     ]
    },
    {
     "data": {
      "application/vnd.jupyter.widget-view+json": {
       "model_id": "7e34e9fc292845d99d8dea6865090c3a",
       "version_major": 2,
       "version_minor": 0
      },
      "text/plain": [
       "HBox(children=(FloatProgress(value=0.0, layout=Layout(flex='2'), max=146.0), HTML(value='')), layout=Layout(di…"
      ]
     },
     "metadata": {},
     "output_type": "display_data"
    },
    {
     "name": "stdout",
     "output_type": "stream",
     "text": [
      "\n",
      "Lr now: 0.001\n",
      "Аб----------------------------------------------------- => Аб                  , gt: Жаркент             \n",
      "Кар--------------------------------------------------а- => Кара                , gt: Позволял своим      \n",
      "Тур--------------------------------------------------а- => Тура                , gt: ВОСТОЧНО-КАЗАХСТАНСКАЯ\n",
      "об----------------------------------------------------- => об                  , gt: конвоя,             \n",
      "Рб----------------------------------------------------- => Рб                  , gt: Проходят с          \n"
     ]
    },
    {
     "data": {
      "application/vnd.jupyter.widget-view+json": {
       "model_id": "819d50195bd94e7babfcbf7e81566870",
       "version_major": 2,
       "version_minor": 0
      },
      "text/plain": [
       "HBox(children=(FloatProgress(value=0.0, layout=Layout(flex='2'), max=711.0), HTML(value='')), layout=Layout(di…"
      ]
     },
     "metadata": {},
     "output_type": "display_data"
    },
    {
     "name": "stdout",
     "output_type": "stream",
     "text": [
      "\n"
     ]
    },
    {
     "data": {
      "application/vnd.jupyter.widget-view+json": {
       "model_id": "a2058db541b14f7bb7e57516b01f9c10",
       "version_major": 2,
       "version_minor": 0
      },
      "text/plain": [
       "HBox(children=(FloatProgress(value=0.0, layout=Layout(flex='2'), max=146.0), HTML(value='')), layout=Layout(di…"
      ]
     },
     "metadata": {},
     "output_type": "display_data"
    },
    {
     "name": "stdout",
     "output_type": "stream",
     "text": [
      "\n",
      "Lr now: 0.001\n",
      "Обл----------------------------а---------------------ьь => Облаь               , gt: Область             \n",
      "крр---------------------------------------ввв--------в- => крвв                , gt: кровь.              \n",
      "но -------тт----у-н---а-н--н--т----й---- п---р--аа--я-, => но тунаннтй прая,   , gt: на туманных горах,  \n",
      "ма-----о--л--  р---о-тн----ь--  п---о----р---о--в--а-м- => маол ротнь поровам  , gt: сеял рожь, покрывал \n",
      "Аты---------------------б-----------------------------р => Атыбр               , gt: Атбасар             \n"
     ]
    },
    {
     "data": {
      "application/vnd.jupyter.widget-view+json": {
       "model_id": "6780a312347f430ca8cc3fce1ac1eaa3",
       "version_major": 2,
       "version_minor": 0
      },
      "text/plain": [
       "HBox(children=(FloatProgress(value=0.0, layout=Layout(flex='2'), max=711.0), HTML(value='')), layout=Layout(di…"
      ]
     },
     "metadata": {},
     "output_type": "display_data"
    },
    {
     "name": "stdout",
     "output_type": "stream",
     "text": [
      "\n"
     ]
    },
    {
     "data": {
      "application/vnd.jupyter.widget-view+json": {
       "model_id": "bc22a279f0cf492cbc4436d282fa44ba",
       "version_major": 2,
       "version_minor": 0
      },
      "text/plain": [
       "HBox(children=(FloatProgress(value=0.0, layout=Layout(flex='2'), max=146.0), HTML(value='')), layout=Layout(di…"
      ]
     },
     "metadata": {},
     "output_type": "display_data"
    },
    {
     "name": "stdout",
     "output_type": "stream",
     "text": [
      "\n",
      "Lr now: 0.001\n",
      "к -------------------------------в-----о--------------, => к во,               , gt: и ловок,            \n",
      "дд------------е---------  --------------а---н--------ь- => де ань              , gt: Где танк            \n",
      "Кыз---------------------------о----д-------д---------а- => Кызодда             , gt: Кызылорда           \n",
      "И  --------------е------------ г------дд--в---о-л----вв => И е гдволв          , gt: И тени чувств       \n",
      "об----------------------------------------------------- => об                  , gt: обл                 \n"
     ]
    },
    {
     "data": {
      "application/vnd.jupyter.widget-view+json": {
       "model_id": "4517229ca91a416f8337a42f882d599d",
       "version_major": 2,
       "version_minor": 0
      },
      "text/plain": [
       "HBox(children=(FloatProgress(value=0.0, layout=Layout(flex='2'), max=711.0), HTML(value='')), layout=Layout(di…"
      ]
     },
     "metadata": {},
     "output_type": "display_data"
    },
    {
     "name": "stdout",
     "output_type": "stream",
     "text": [
      "\n"
     ]
    },
    {
     "data": {
      "application/vnd.jupyter.widget-view+json": {
       "model_id": "6b65862a004744f092b7588b5c7cf3d8",
       "version_major": 2,
       "version_minor": 0
      },
      "text/plain": [
       "HBox(children=(FloatProgress(value=0.0, layout=Layout(flex='2'), max=146.0), HTML(value='')), layout=Layout(di…"
      ]
     },
     "metadata": {},
     "output_type": "display_data"
    },
    {
     "name": "stdout",
     "output_type": "stream",
     "text": [
      "\n",
      "Lr now: 0.001\n",
      "Чт--------о----  -в-рр--е--л----е---  л---е--г---и---т, => Что вреле легит,    , gt: Что вреля лечит     \n",
      "Чв-------е-----  ---вв-е--т-----   -п---е--л---ег----а- => Чве вет пелега      , gt: Чем свет телега     \n",
      "Бе---------------------у------й--й-----ии---н--------а- => Беуййина            , gt: Республика          \n",
      "Гд----е--- --в-  -з-а--м------е--  к--у-с--т----о---м-, => Где в заме кустом,  , gt: Где в замке пустом, \n",
      "Ле-----н---о-вве-н---н----е----  -бб-е-н-----ии-----тт- => Леновенне бенит     , gt: Мгновение бежит     \n"
     ]
    },
    {
     "data": {
      "application/vnd.jupyter.widget-view+json": {
       "model_id": "9dc8563b424045c39960d48f1182dd35",
       "version_major": 2,
       "version_minor": 0
      },
      "text/plain": [
       "HBox(children=(FloatProgress(value=0.0, layout=Layout(flex='2'), max=711.0), HTML(value='')), layout=Layout(di…"
      ]
     },
     "metadata": {},
     "output_type": "display_data"
    },
    {
     "name": "stdout",
     "output_type": "stream",
     "text": [
      "\n"
     ]
    },
    {
     "data": {
      "application/vnd.jupyter.widget-view+json": {
       "model_id": "b1f0569de88441b8a3ff174f3aa872f1",
       "version_major": 2,
       "version_minor": 0
      },
      "text/plain": [
       "HBox(children=(FloatProgress(value=0.0, layout=Layout(flex='2'), max=146.0), HTML(value='')), layout=Layout(di…"
      ]
     },
     "metadata": {},
     "output_type": "display_data"
    },
    {
     "name": "stdout",
     "output_type": "stream",
     "text": [
      "\n",
      "Lr now: 0.001\n",
      "яр-------------------о-вв------я----   -р--------о---е- => яровя рое           , gt: лунный лик.         \n",
      "бе-----с--т----о-г----з-н--------  -х----т--е--в--в--ь- => бестогзн хтеввь     , gt: бесполезны мольбы   \n",
      "Пав--------------------ы----л------------------------а- => Павыла              , gt: Тайынша             \n",
      "Атт---------------о---о---б----о-------о-------в-----а- => Атообоова           , gt: Актюбинская         \n",
      "Кост----------------------х------а---х------а--------й- => Костхахай           , gt: Капчагай            \n"
     ]
    },
    {
     "data": {
      "application/vnd.jupyter.widget-view+json": {
       "model_id": "9c0d1162993c4e7cb41a6c02b6167359",
       "version_major": 2,
       "version_minor": 0
      },
      "text/plain": [
       "HBox(children=(FloatProgress(value=0.0, layout=Layout(flex='2'), max=711.0), HTML(value='')), layout=Layout(di…"
      ]
     },
     "metadata": {},
     "output_type": "display_data"
    },
    {
     "name": "stdout",
     "output_type": "stream",
     "text": [
      "\n"
     ]
    },
    {
     "data": {
      "application/vnd.jupyter.widget-view+json": {
       "model_id": "1173814667b84db4b0dd64a13e27e548",
       "version_major": 2,
       "version_minor": 0
      },
      "text/plain": [
       "HBox(children=(FloatProgress(value=0.0, layout=Layout(flex='2'), max=146.0), HTML(value='')), layout=Layout(di…"
      ]
     },
     "metadata": {},
     "output_type": "display_data"
    },
    {
     "name": "stdout",
     "output_type": "stream",
     "text": [
      "\n",
      "Lr now: 0.001\n",
      "На------------ --д--н-е--в--н--е----й----  -с-т--е---л- => На дневней стел     , gt: На древней стене    \n",
      "Пав--------------л---оо----д----а--р--------------сская => Павлодарская        , gt: Павлодарская        \n",
      "Из-----------г-----н---------о------лл-----ь---------я- => Изгнолья            , gt: изгнанья            \n",
      "на--------т--у--м---а--н--н---ыы---й--  г--о-р--а----к- => натуманный горак    , gt: на туманных горах   \n",
      "ср----------------о------б-------н------------а-------. => сробна.             , gt: Я одна.             \n"
     ]
    },
    {
     "data": {
      "application/vnd.jupyter.widget-view+json": {
       "model_id": "9901366ee23f418b9328213cf4d03cea",
       "version_major": 2,
       "version_minor": 0
      },
      "text/plain": [
       "HBox(children=(FloatProgress(value=0.0, layout=Layout(flex='2'), max=711.0), HTML(value='')), layout=Layout(di…"
      ]
     },
     "metadata": {},
     "output_type": "display_data"
    },
    {
     "name": "stdout",
     "output_type": "stream",
     "text": [
      "\n"
     ]
    },
    {
     "data": {
      "application/vnd.jupyter.widget-view+json": {
       "model_id": "cdf36ff8ef5d4339884e7cd134c366cd",
       "version_major": 2,
       "version_minor": 0
      },
      "text/plain": [
       "HBox(children=(FloatProgress(value=0.0, layout=Layout(flex='2'), max=146.0), HTML(value='')), layout=Layout(di…"
      ]
     },
     "metadata": {},
     "output_type": "display_data"
    },
    {
     "name": "stdout",
     "output_type": "stream",
     "text": [
      "\n",
      "Lr now: 0.001\n",
      "Я  -------------------оо----д------н--------------аа--. => Я одна.             , gt: Я одна.             \n",
      "По-----  -д--о-рр---огг--ее-- -з--и---м----н---ее---й-, => По дороге зимней,   , gt: По дороге зимней,   \n",
      "Кир----------------------гггг-----ии-----з-----------и- => Киргизи             , gt: Киргизия            \n",
      "во----р----о-ж---е--нн----ыы---й---   --з-р---а--л--от- => вороженый зралот    , gt: вороненый зрачок    \n",
      "Куз------------------м----------аа-------нн----------т- => Кузмант             , gt: туманы              \n"
     ]
    },
    {
     "data": {
      "application/vnd.jupyter.widget-view+json": {
       "model_id": "cad7f5dd9c2e426b86b0fcd01289826d",
       "version_major": 2,
       "version_minor": 0
      },
      "text/plain": [
       "HBox(children=(FloatProgress(value=0.0, layout=Layout(flex='2'), max=711.0), HTML(value='')), layout=Layout(di…"
      ]
     },
     "metadata": {},
     "output_type": "display_data"
    },
    {
     "name": "stdout",
     "output_type": "stream",
     "text": [
      "\n"
     ]
    },
    {
     "data": {
      "application/vnd.jupyter.widget-view+json": {
       "model_id": "5f6ffac028b243a2945c84e9afb3b951",
       "version_major": 2,
       "version_minor": 0
      },
      "text/plain": [
       "HBox(children=(FloatProgress(value=0.0, layout=Layout(flex='2'), max=146.0), HTML(value='')), layout=Layout(di…"
      ]
     },
     "metadata": {},
     "output_type": "display_data"
    },
    {
     "name": "stdout",
     "output_type": "stream",
     "text": [
      "\n",
      "Lr now: 0.001\n",
      "дл--------------и----н-------нн--------о-------йй-----. => длинной.            , gt: длинной.            \n",
      "Шым-----------------------------к-----е--н----------тт- => Шымкент             , gt: Шымкент             \n",
      "АКТ---------------------------------О------ББ--------Е- => АКТОБЕ              , gt: АКТОБЕ              \n",
      "дж---------------------ии--гг-----ии--------т-------!!! => джигит!             , gt: джигит!             \n",
      "Кар-----------а--гг--а--н-----д--ии--н------------сская => Карагандинская      , gt: Карагандинская      \n"
     ]
    },
    {
     "data": {
      "application/vnd.jupyter.widget-view+json": {
       "model_id": "99f2cbababe84930aa40d98cb40fee9d",
       "version_major": 2,
       "version_minor": 0
      },
      "text/plain": [
       "HBox(children=(FloatProgress(value=0.0, layout=Layout(flex='2'), max=711.0), HTML(value='')), layout=Layout(di…"
      ]
     },
     "metadata": {},
     "output_type": "display_data"
    },
    {
     "name": "stdout",
     "output_type": "stream",
     "text": [
      "\n"
     ]
    },
    {
     "data": {
      "application/vnd.jupyter.widget-view+json": {
       "model_id": "18fe1e0f20134f2c9a05cccef96ce328",
       "version_major": 2,
       "version_minor": 0
      },
      "text/plain": [
       "HBox(children=(FloatProgress(value=0.0, layout=Layout(flex='2'), max=146.0), HTML(value='')), layout=Layout(di…"
      ]
     },
     "metadata": {},
     "output_type": "display_data"
    },
    {
     "name": "stdout",
     "output_type": "stream",
     "text": [
      "\n",
      "Lr now: 0.001\n",
      "Кыз--------------------ы-----л------о---р-------д----а- => Кызылорда           , gt: Кызылорда           \n",
      "сч------а----с--т-ь--яя---  с--оо-т---в--о-рр---е---н-, => счастья сотворен,   , gt: счастья сотворен,   \n",
      "Вост-------оч--н---о--КК-а--з--а--х-стт-а--н------сская => Восточно-Казахстанская, gt: Восточно-Казахстанская\n",
      "Тур----------к----е---с--т----А--нн----с------------кая => ТуркестАнская       , gt: Туркестанская       \n",
      "Гр-------уу---с--тт--н------о,,,,   Н-------и--н-----а- => Грустно, Нина       , gt: Грустно, Нина       \n"
     ]
    },
    {
     "data": {
      "application/vnd.jupyter.widget-view+json": {
       "model_id": "85709a0190f249d09f3dd922c183f38d",
       "version_major": 2,
       "version_minor": 0
      },
      "text/plain": [
       "HBox(children=(FloatProgress(value=0.0, layout=Layout(flex='2'), max=711.0), HTML(value='')), layout=Layout(di…"
      ]
     },
     "metadata": {},
     "output_type": "display_data"
    },
    {
     "name": "stdout",
     "output_type": "stream",
     "text": [
      "\n"
     ]
    },
    {
     "data": {
      "application/vnd.jupyter.widget-view+json": {
       "model_id": "a6797552bd6a43909f07a2d9a54f2557",
       "version_major": 2,
       "version_minor": 0
      },
      "text/plain": [
       "HBox(children=(FloatProgress(value=0.0, layout=Layout(flex='2'), max=146.0), HTML(value='')), layout=Layout(di…"
      ]
     },
     "metadata": {},
     "output_type": "display_data"
    },
    {
     "name": "stdout",
     "output_type": "stream",
     "text": [
      "\n",
      "Lr now: 0.001\n",
      "Уар-----------------------аа-----с-------------------ш- => Уарасш              , gt: Украина             \n",
      "св------ое--йй---------  с--оо--в-е--р----ш-----и---т-- => своей совершит      , gt: свой совершит       \n",
      "Гу---------ж------д--а---х----  -с---т---е-г---оо-вв--; => Гуждах стегов;      , gt: чуждых снегов;      \n",
      "От----------  -К-----аа----с--п-----ии----я----  ----и- => От Каспия и         , gt: От Каспия и         \n",
      "И  ----------з--а-рр--жт---а---в-лл--е-н---н----ы----й- => И заржтавленный     , gt: И заржавленный      \n"
     ]
    },
    {
     "data": {
      "application/vnd.jupyter.widget-view+json": {
       "model_id": "06ebbdc0854d4d598dfc7dd467c2b0c6",
       "version_major": 2,
       "version_minor": 0
      },
      "text/plain": [
       "HBox(children=(FloatProgress(value=0.0, layout=Layout(flex='2'), max=711.0), HTML(value='')), layout=Layout(di…"
      ]
     },
     "metadata": {},
     "output_type": "display_data"
    },
    {
     "name": "stdout",
     "output_type": "stream",
     "text": [
      "\n"
     ]
    },
    {
     "data": {
      "application/vnd.jupyter.widget-view+json": {
       "model_id": "6ca78c2d09964d66ac5079d78e5a3ecd",
       "version_major": 2,
       "version_minor": 0
      },
      "text/plain": [
       "HBox(children=(FloatProgress(value=0.0, layout=Layout(flex='2'), max=146.0), HTML(value='')), layout=Layout(di…"
      ]
     },
     "metadata": {},
     "output_type": "display_data"
    },
    {
     "name": "stdout",
     "output_type": "stream",
     "text": [
      "\n",
      "Lr now: 0.001\n",
      "Акт--------------------------------------------------ау => Актау               , gt: АКТАУ               \n",
      "вн----------а----------т----л-----е--н----н-----ы----е- => внатленные          , gt: В накошенные        \n",
      "УЗ-------------Б---Е---К------И------С--Т------------АН => УЗБЕКИСТАН          , gt: УЗБЕКИСТАН          \n",
      "Ке------м---??---   -К-е--мм--?--  ВВ-о--л--ч-o---мм-?? => Кем? Кем? Волчoм?   , gt: Кем? Кем? Волкoм?   \n",
      "Ко--------г--д---а--  --тт---в---о-е-  -л----ии---ц--о- => Когда твое лицо     , gt: Когда твое лицо     \n"
     ]
    },
    {
     "data": {
      "application/vnd.jupyter.widget-view+json": {
       "model_id": "bf9f2dafcc7a4a16b9b68c0a7073564c",
       "version_major": 2,
       "version_minor": 0
      },
      "text/plain": [
       "HBox(children=(FloatProgress(value=0.0, layout=Layout(flex='2'), max=711.0), HTML(value='')), layout=Layout(di…"
      ]
     },
     "metadata": {},
     "output_type": "display_data"
    },
    {
     "name": "stdout",
     "output_type": "stream",
     "text": [
      "\n"
     ]
    },
    {
     "data": {
      "application/vnd.jupyter.widget-view+json": {
       "model_id": "a36c513db75d4203bc3d3d70e1bdeda9",
       "version_major": 2,
       "version_minor": 0
      },
      "text/plain": [
       "HBox(children=(FloatProgress(value=0.0, layout=Layout(flex='2'), max=146.0), HTML(value='')), layout=Layout(di…"
      ]
     },
     "metadata": {},
     "output_type": "display_data"
    },
    {
     "name": "stdout",
     "output_type": "stream",
     "text": [
      "\n",
      "Lr now: 0.001\n",
      "уу------------ддд-------а-----л--------яяя-----------яя => удаляя              , gt: удаляя              \n",
      "Ро-----------------ссс----е-------лл--------о--------к- => Роселок             , gt: Поселок             \n",
      "Тар--------------------------------------------------аз => Тараз               , gt: Тараз               \n",
      "су----------хх-------у-------юю---   -вв---о---дд----у- => сухую воду          , gt: сухую воду          \n",
      "То------лл-чч--кк--а----м-----и-------  к--р---о--вв-ь, => Толчками кровь,     , gt: Толчками кровь,     \n"
     ]
    },
    {
     "data": {
      "application/vnd.jupyter.widget-view+json": {
       "model_id": "4e4e5bc698464b1aba4d3f53dddc23de",
       "version_major": 2,
       "version_minor": 0
      },
      "text/plain": [
       "HBox(children=(FloatProgress(value=0.0, layout=Layout(flex='2'), max=711.0), HTML(value='')), layout=Layout(di…"
      ]
     },
     "metadata": {},
     "output_type": "display_data"
    },
    {
     "name": "stdout",
     "output_type": "stream",
     "text": [
      "\n"
     ]
    },
    {
     "data": {
      "application/vnd.jupyter.widget-view+json": {
       "model_id": "b568b711e7de42cba0eed4a6ea3be312",
       "version_major": 2,
       "version_minor": 0
      },
      "text/plain": [
       "HBox(children=(FloatProgress(value=0.0, layout=Layout(flex='2'), max=146.0), HTML(value='')), layout=Layout(di…"
      ]
     },
     "metadata": {},
     "output_type": "display_data"
    },
    {
     "name": "stdout",
     "output_type": "stream",
     "text": [
      "\n",
      "Lr now: 0.001\n",
      "кл----------------е------ввв---е---ррр-----------а----. => клевера.            , gt: клевера.            \n",
      "Пет-------------р-----о--п----а----в--лл---оо--вв-сс-к- => Петропавловск       , gt: Петропавловск       \n",
      "Кол-------------------о--к---оо---л----ь-чч---и------к- => Колокольчик         , gt: Колокольчик         \n",
      "не-------------  н------а--г---л---яя----д---я---ссьь-. => не наглядясь.       , gt: не наглядясь.       \n",
      "дл------------ии----нни----н---------о-----ии---------. => длининои.           , gt: длиннои.            \n"
     ]
    },
    {
     "data": {
      "application/vnd.jupyter.widget-view+json": {
       "model_id": "52d42ac46f9e40a69426d64e47697c69",
       "version_major": 2,
       "version_minor": 0
      },
      "text/plain": [
       "HBox(children=(FloatProgress(value=0.0, layout=Layout(flex='2'), max=711.0), HTML(value='')), layout=Layout(di…"
      ]
     },
     "metadata": {},
     "output_type": "display_data"
    },
    {
     "name": "stdout",
     "output_type": "stream",
     "text": [
      "\n"
     ]
    },
    {
     "data": {
      "application/vnd.jupyter.widget-view+json": {
       "model_id": "f33cc4c94af1488685799a0d01b28e87",
       "version_major": 2,
       "version_minor": 0
      },
      "text/plain": [
       "HBox(children=(FloatProgress(value=0.0, layout=Layout(flex='2'), max=146.0), HTML(value='')), layout=Layout(di…"
      ]
     },
     "metadata": {},
     "output_type": "display_data"
    },
    {
     "name": "stdout",
     "output_type": "stream",
     "text": [
      "\n",
      "Lr now: 0.001\n",
      "прр---оок--лл---яя-тт---ы----мм--   р---а--е---мм-----. => проклятым раем.     , gt: проклятым роем…     \n",
      "Ро---------------------сссс------сс------------------ия => Россия              , gt: Россия              \n",
      "Ин------------дд--е-рр----б--о-рр---сс-к----ии-------йй => Индерборский        , gt: Индерборский        \n",
      "мо----------е----й------  -л----е--ж------и-----тт----. => моей лежит.         , gt: моей лежит.         \n",
      "по---------------зз----а-------бб---ыы-----ллл-------и- => позабыли            , gt: позабыли            \n"
     ]
    },
    {
     "data": {
      "application/vnd.jupyter.widget-view+json": {
       "model_id": "4ec00ea6cd244b1f805e8ed7fbcd7136",
       "version_major": 2,
       "version_minor": 0
      },
      "text/plain": [
       "HBox(children=(FloatProgress(value=0.0, layout=Layout(flex='2'), max=711.0), HTML(value='')), layout=Layout(di…"
      ]
     },
     "metadata": {},
     "output_type": "display_data"
    },
    {
     "name": "stdout",
     "output_type": "stream",
     "text": [
      "\n"
     ]
    },
    {
     "data": {
      "application/vnd.jupyter.widget-view+json": {
       "model_id": "4f8afcb36c714f5387611de79b61cf7e",
       "version_major": 2,
       "version_minor": 0
      },
      "text/plain": [
       "HBox(children=(FloatProgress(value=0.0, layout=Layout(flex='2'), max=146.0), HTML(value='')), layout=Layout(di…"
      ]
     },
     "metadata": {},
     "output_type": "display_data"
    },
    {
     "name": "stdout",
     "output_type": "stream",
     "text": [
      "\n",
      "Lr now: 0.001\n",
      "Юж------нн--о---КК---а-зз-а--х--с-т----а-н---с------кая => Южно-Казахстанская  , gt: Южно-Казахстанская  \n",
      "АКТ--------------------------------------------------АУ => АКТАУ               , gt: АКТАУ               \n",
      "Сп-----------------------ы--------с------------------т- => Спыст               , gt: опыт                \n",
      "Бот-------------------а------и-------а-----р---------а- => Ботаиара            , gt: Ботакара            \n",
      "Ль-------ее---т----   п---е--ч-----а--л----ь----н-----о => Льет печально       , gt: Льет печально       \n"
     ]
    },
    {
     "data": {
      "application/vnd.jupyter.widget-view+json": {
       "model_id": "9c53e49fb93444b6af6b99d2c63e1a70",
       "version_major": 2,
       "version_minor": 0
      },
      "text/plain": [
       "HBox(children=(FloatProgress(value=0.0, layout=Layout(flex='2'), max=711.0), HTML(value='')), layout=Layout(di…"
      ]
     },
     "metadata": {},
     "output_type": "display_data"
    },
    {
     "name": "stdout",
     "output_type": "stream",
     "text": [
      "\n"
     ]
    },
    {
     "data": {
      "application/vnd.jupyter.widget-view+json": {
       "model_id": "c634a18230314b4d8faf540984b9e13b",
       "version_major": 2,
       "version_minor": 0
      },
      "text/plain": [
       "HBox(children=(FloatProgress(value=0.0, layout=Layout(flex='2'), max=146.0), HTML(value='')), layout=Layout(di…"
      ]
     },
     "metadata": {},
     "output_type": "display_data"
    },
    {
     "name": "stdout",
     "output_type": "stream",
     "text": [
      "\n",
      "Lr now: 0.001\n",
      "Актт-------------------------------------------------ау => Актау               , gt: Актау               \n",
      "на------  тт---у--м---а-н--н---ы--х----  г-о-р--а---х-, => на туманных горах,  , gt: на туманных горах,  \n",
      "св----------------------о------------ю----------------… => свою…               , gt: свою…               \n",
      "ди----к-оо-г--о- зз-а--р--яя---  -с  -к-лл-е-т---к--уу, => дикого заря с клетку,, gt: дикого зверя в клетку.\n",
      "вл-----------------------ю-----б---лл------ё---------н- => влюблён             , gt: влюблён             \n"
     ]
    },
    {
     "data": {
      "application/vnd.jupyter.widget-view+json": {
       "model_id": "6b13a7770a49404bbd8b31b812462434",
       "version_major": 2,
       "version_minor": 0
      },
      "text/plain": [
       "HBox(children=(FloatProgress(value=0.0, layout=Layout(flex='2'), max=711.0), HTML(value='')), layout=Layout(di…"
      ]
     },
     "metadata": {},
     "output_type": "display_data"
    },
    {
     "name": "stdout",
     "output_type": "stream",
     "text": [
      "\n"
     ]
    },
    {
     "data": {
      "application/vnd.jupyter.widget-view+json": {
       "model_id": "f2a5b3853ad643e68063c4ee4b16585d",
       "version_major": 2,
       "version_minor": 0
      },
      "text/plain": [
       "HBox(children=(FloatProgress(value=0.0, layout=Layout(flex='2'), max=146.0), HTML(value='')), layout=Layout(di…"
      ]
     },
     "metadata": {},
     "output_type": "display_data"
    },
    {
     "name": "stdout",
     "output_type": "stream",
     "text": [
      "\n",
      "Lr now: 0.001\n",
      "о ----н--е-жж---н---о--с-тт---ии,,, --о-  ссл--а--вве-, => о нежности, о славе,, gt: о нежности, о славе,\n",
      "бы-----------   --л-----е----тт--------а-----тт------ь- => бы летать           , gt: бы летать           \n",
      "Бот----------------------а-----к--------а----р-------а- => Ботакара            , gt: Ботакара            \n",
      "Лен--------------------------гггг--------е-----------р- => Ленгер              , gt: Ленгер              \n",
      "см--------о-л-к---н----уу--л-----    б--ыы---  --о--н-. => смолкнул бы он.     , gt: смолкнул бы он.     \n"
     ]
    },
    {
     "data": {
      "application/vnd.jupyter.widget-view+json": {
       "model_id": "a0652e01d170432c93331fb8447a64ff",
       "version_major": 2,
       "version_minor": 0
      },
      "text/plain": [
       "HBox(children=(FloatProgress(value=0.0, layout=Layout(flex='2'), max=711.0), HTML(value='')), layout=Layout(di…"
      ]
     },
     "metadata": {},
     "output_type": "display_data"
    },
    {
     "name": "stdout",
     "output_type": "stream",
     "text": [
      "\n"
     ]
    },
    {
     "data": {
      "application/vnd.jupyter.widget-view+json": {
       "model_id": "cbc549a7fc364a5a867dfb07e5617e47",
       "version_major": 2,
       "version_minor": 0
      },
      "text/plain": [
       "HBox(children=(FloatProgress(value=0.0, layout=Layout(flex='2'), max=146.0), HTML(value='')), layout=Layout(di…"
      ]
     },
     "metadata": {},
     "output_type": "display_data"
    },
    {
     "name": "stdout",
     "output_type": "stream",
     "text": [
      "\n",
      "Lr now: 0.001\n",
      "чт------о-- -м---е-н--яя-  -в-сскк--о-р---м----и--л--а- => что меня вскормила  , gt: что меня вскормила  \n",
      "ше-------с--тт---огг---о--  чч----у--в-сс-тт---вв--а--, => шестого чувства,    , gt: шестого чувства.    \n",
      "То---------л---ч--к---а--мм----ии---   к--р---оо-вввь-, => Толчками кровь,     , gt: Толчками кровь,     \n",
      "Пу----------ттт----ь----  ---уу--к-----а---зз----у---я- => Путь указуя         , gt: Путь указуя         \n",
      "За---------ч---------а----г--------а----н-------с----к- => Зачаганск           , gt: Зачаганск           \n"
     ]
    },
    {
     "data": {
      "application/vnd.jupyter.widget-view+json": {
       "model_id": "f46bd1656aec49b08445f0a7d83d69b7",
       "version_major": 2,
       "version_minor": 0
      },
      "text/plain": [
       "HBox(children=(FloatProgress(value=0.0, layout=Layout(flex='2'), max=711.0), HTML(value='')), layout=Layout(di…"
      ]
     },
     "metadata": {},
     "output_type": "display_data"
    },
    {
     "name": "stdout",
     "output_type": "stream",
     "text": [
      "\n"
     ]
    },
    {
     "data": {
      "application/vnd.jupyter.widget-view+json": {
       "model_id": "1124d2dfc31f4e2482a27bfe27824274",
       "version_major": 2,
       "version_minor": 0
      },
      "text/plain": [
       "HBox(children=(FloatProgress(value=0.0, layout=Layout(flex='2'), max=146.0), HTML(value='')), layout=Layout(di…"
      ]
     },
     "metadata": {},
     "output_type": "display_data"
    },
    {
     "name": "stdout",
     "output_type": "stream",
     "text": [
      "\n",
      "Lr now: 0.001\n",
      "Тев-----а---р----ь--  ссс-к-----о-л--а---з-----------ая => Теварь сколазая     , gt: Тварь скользкая     \n",
      "ст---------------р-------у----г----а-----у-----------х- => стругаух            , gt: С трухой и          \n",
      "И  -------бб--у-дд--д--ы---    -м----с--т---ии---т--ьь- => И будды мстить      , gt: И будут мстить      \n",
      "Акт--------------------------------------аа----------у- => Актау               , gt: Актау               \n",
      "бу---------д---е--------тт--    ---------------------ьь => будет ь             , gt: будет лишь          \n"
     ]
    },
    {
     "data": {
      "application/vnd.jupyter.widget-view+json": {
       "model_id": "b31c017e9c294f0798bcc1337516aadf",
       "version_major": 2,
       "version_minor": 0
      },
      "text/plain": [
       "HBox(children=(FloatProgress(value=0.0, layout=Layout(flex='2'), max=711.0), HTML(value='')), layout=Layout(di…"
      ]
     },
     "metadata": {},
     "output_type": "display_data"
    },
    {
     "name": "stdout",
     "output_type": "stream",
     "text": [
      "\n"
     ]
    },
    {
     "data": {
      "application/vnd.jupyter.widget-view+json": {
       "model_id": "5ec163a3a4374df3b25b44fa5a58dc36",
       "version_major": 2,
       "version_minor": 0
      },
      "text/plain": [
       "HBox(children=(FloatProgress(value=0.0, layout=Layout(flex='2'), max=146.0), HTML(value='')), layout=Layout(di…"
      ]
     },
     "metadata": {},
     "output_type": "display_data"
    },
    {
     "name": "stdout",
     "output_type": "stream",
     "text": [
      "\n",
      "Lr now: 0.001\n",
      "со----з-нн--а--н---и---я---  --б-е--с---с---т----ь---я- => сознания бесстья    , gt: сознания бессилья   \n",
      "Но-----  вв-о--м----а--тт-   н--е-- -т---р--о-нн-у--л-, => Но вомат не тронул, , gt: Но волчат не тронул,\n",
      "Крр----------------------------оо--------вв----------ь- => Кровь               , gt: Кровь               \n",
      "Акт--------------------------------------а-----------с- => Актас               , gt: Актас               \n",
      "Ог-------------------нн------------е-----------------м- => Огнем               , gt: Огнем               \n"
     ]
    },
    {
     "data": {
      "application/vnd.jupyter.widget-view+json": {
       "model_id": "23d5d41130ca4eaf8a218a8326741c11",
       "version_major": 2,
       "version_minor": 0
      },
      "text/plain": [
       "HBox(children=(FloatProgress(value=0.0, layout=Layout(flex='2'), max=711.0), HTML(value='')), layout=Layout(di…"
      ]
     },
     "metadata": {},
     "output_type": "display_data"
    },
    {
     "name": "stdout",
     "output_type": "stream",
     "text": [
      "\n"
     ]
    },
    {
     "data": {
      "application/vnd.jupyter.widget-view+json": {
       "model_id": "c4b8d952712d4ea68565711c2bba7794",
       "version_major": 2,
       "version_minor": 0
      },
      "text/plain": [
       "HBox(children=(FloatProgress(value=0.0, layout=Layout(flex='2'), max=146.0), HTML(value='')), layout=Layout(di…"
      ]
     },
     "metadata": {},
     "output_type": "display_data"
    },
    {
     "name": "stdout",
     "output_type": "stream",
     "text": [
      "\n",
      "Lr now: 0.001\n",
      "Зап-----а--д-н--о----ККК-аазз-а-ххсстт---а--н-сс----кая => Западно-Казахстанская, gt: Западно-Казахстанская\n",
      "на-------------------вв----с---е---г-------ю---------т- => навсегют            , gt: навсегда            \n",
      "Еси--------------------------------------------------ь- => Есиь                , gt: Есиль               \n",
      "Чт--------оо----  -м----о--г-----  -м-----о--н----а--х- => Что мог монах       , gt: Что мог монах       \n",
      "Ве----р--н---е---й-,,,- -вв---о---л---чч----и----ц---у- => Верней, волчицу     , gt: Верней, волчицу     \n"
     ]
    },
    {
     "data": {
      "application/vnd.jupyter.widget-view+json": {
       "model_id": "c45f83e74ee542a18e0e2163c5f1ba11",
       "version_major": 2,
       "version_minor": 0
      },
      "text/plain": [
       "HBox(children=(FloatProgress(value=0.0, layout=Layout(flex='2'), max=711.0), HTML(value='')), layout=Layout(di…"
      ]
     },
     "metadata": {},
     "output_type": "display_data"
    },
    {
     "name": "stdout",
     "output_type": "stream",
     "text": [
      "\n"
     ]
    },
    {
     "data": {
      "application/vnd.jupyter.widget-view+json": {
       "model_id": "5b9393b9089c4e20a661c1256f56cf25",
       "version_major": 2,
       "version_minor": 0
      },
      "text/plain": [
       "HBox(children=(FloatProgress(value=0.0, layout=Layout(flex='2'), max=146.0), HTML(value='')), layout=Layout(di…"
      ]
     },
     "metadata": {},
     "output_type": "display_data"
    },
    {
     "name": "stdout",
     "output_type": "stream",
     "text": [
      "\n",
      "Lr now: 0.001\n",
      "Сл------е--п---ыы----м---  --в--о-лл--чч--а--т--а----м- => Слепым волчатам     , gt: Слепым волчатам     \n",
      "и --р---уу--с--с-кк--ии--е---   п---о---л---яя-нн----ы- => и русские поляны    , gt: и русские поляны    \n",
      "Зв--------у-ч--н----о---   -с--тт----р----е-л---к----а- => Звучно стрелка      , gt: Звучно стрелка      \n",
      "и  ----н----е- -п---ии--л----   т----о--лл--ь--кк----о- => и не пил только     , gt: и не пил только     \n",
      "ин-----------------------гггг-----ддд----------аа------ => ингда               , gt: иногда              \n"
     ]
    },
    {
     "data": {
      "application/vnd.jupyter.widget-view+json": {
       "model_id": "5213e88608e1428c9cc5bac269055fd2",
       "version_major": 2,
       "version_minor": 0
      },
      "text/plain": [
       "HBox(children=(FloatProgress(value=0.0, layout=Layout(flex='2'), max=711.0), HTML(value='')), layout=Layout(di…"
      ]
     },
     "metadata": {},
     "output_type": "display_data"
    },
    {
     "name": "stdout",
     "output_type": "stream",
     "text": [
      "\n"
     ]
    },
    {
     "data": {
      "application/vnd.jupyter.widget-view+json": {
       "model_id": "bf430dd748c043a2a45553fe86783147",
       "version_major": 2,
       "version_minor": 0
      },
      "text/plain": [
       "HBox(children=(FloatProgress(value=0.0, layout=Layout(flex='2'), max=146.0), HTML(value='')), layout=Layout(di…"
      ]
     },
     "metadata": {},
     "output_type": "display_data"
    },
    {
     "name": "stdout",
     "output_type": "stream",
     "text": [
      "\n",
      "Lr now: 0.001\n",
      "Еси------------------------------------лллл----------ь- => Есиль               , gt: Есиль               \n",
      "Актт--------------------------------о-------бб-------е- => Актобе              , gt: Актобе              \n",
      "пр------е---дд--   -аа--н-----а----л-----о--е----мм---, => пред аналоем,       , gt: пред аналоем,       \n",
      "су-----д-ь--б--уу----  -дд--р----у-гг---о---мм-----у--, => судьбу другому,     , gt: судьбу другому,     \n",
      "На-------------  п---е--чч----а---лл--ьь---н----ы----е- => На печальные        , gt: На печальные        \n"
     ]
    },
    {
     "data": {
      "application/vnd.jupyter.widget-view+json": {
       "model_id": "9ec750e04e4d439f994ff89bcb83d860",
       "version_major": 2,
       "version_minor": 0
      },
      "text/plain": [
       "HBox(children=(FloatProgress(value=0.0, layout=Layout(flex='2'), max=711.0), HTML(value='')), layout=Layout(di…"
      ]
     },
     "metadata": {},
     "output_type": "display_data"
    },
    {
     "name": "stdout",
     "output_type": "stream",
     "text": [
      "\n"
     ]
    },
    {
     "data": {
      "application/vnd.jupyter.widget-view+json": {
       "model_id": "78af26b2bc9d4d5aa3916edf4a6c0c57",
       "version_major": 2,
       "version_minor": 0
      },
      "text/plain": [
       "HBox(children=(FloatProgress(value=0.0, layout=Layout(flex='2'), max=146.0), HTML(value='')), layout=Layout(di…"
      ]
     },
     "metadata": {},
     "output_type": "display_data"
    },
    {
     "name": "stdout",
     "output_type": "stream",
     "text": [
      "\n",
      "Lr now: 0.001\n",
      "Алм---------------------------аа-------т------------ыы- => Алматы              , gt: Алматы              \n",
      "Сл------ее--д---и--тт---  п-----о-рр---о---й-   -з---е- => Следит порой зе     , gt: Следит порой за     \n",
      "Ку-------д-а---???..-...-  --З--а--чч-ее--ммм---??...-. => Куда?.. Зачем?..    , gt: Куда?.. Зачем?..    \n",
      "Ал----------------------------г----------------а------, => Алга,               , gt: Алга                \n",
      "до-------------  п---оо--л-------я,-рр----и----н-----ы- => до поля,рины        , gt: до полярных         \n"
     ]
    },
    {
     "data": {
      "application/vnd.jupyter.widget-view+json": {
       "model_id": "aa607bdd0f844ebd94d9ab19e5ec5dd7",
       "version_major": 2,
       "version_minor": 0
      },
      "text/plain": [
       "HBox(children=(FloatProgress(value=0.0, layout=Layout(flex='2'), max=711.0), HTML(value='')), layout=Layout(di…"
      ]
     },
     "metadata": {},
     "output_type": "display_data"
    },
    {
     "name": "stdout",
     "output_type": "stream",
     "text": [
      "\n"
     ]
    },
    {
     "data": {
      "application/vnd.jupyter.widget-view+json": {
       "model_id": "2b93d70cecde410db783c50f1c31caef",
       "version_major": 2,
       "version_minor": 0
      },
      "text/plain": [
       "HBox(children=(FloatProgress(value=0.0, layout=Layout(flex='2'), max=146.0), HTML(value='')), layout=Layout(di…"
      ]
     },
     "metadata": {},
     "output_type": "display_data"
    },
    {
     "name": "stdout",
     "output_type": "stream",
     "text": [
      "\n",
      "Lr now: 0.001\n",
      "АКТ-------------------------------О--------ББ--------Е- => АКТОБЕ              , gt: АКТОБЕ              \n",
      "Их-----------   -з----а---б---о--в--е--н----н----ы---и- => Их забовенныи       , gt: Их забовенный       \n",
      "Тур--------------к--ее---с--тт----а--н---сс---------кая => Туркестанская       , gt: Туркестанская       \n",
      "Чтт---------о--   --д--оббб-р---о---д-ее--тт---е--лл-ьь => Что добродетель     , gt: Что добродетель     \n",
      "см-------оо-лл--к----н----уу--л----  --б--ыы---  -о-нн- => смолкнул бы он      , gt: смолкнул бы он      \n"
     ]
    },
    {
     "data": {
      "application/vnd.jupyter.widget-view+json": {
       "model_id": "b26911428a16419394fbf1b09d5fc36b",
       "version_major": 2,
       "version_minor": 0
      },
      "text/plain": [
       "HBox(children=(FloatProgress(value=0.0, layout=Layout(flex='2'), max=711.0), HTML(value='')), layout=Layout(di…"
      ]
     },
     "metadata": {},
     "output_type": "display_data"
    },
    {
     "name": "stdout",
     "output_type": "stream",
     "text": [
      "\n"
     ]
    },
    {
     "data": {
      "application/vnd.jupyter.widget-view+json": {
       "model_id": "d779ff989baf4e43ba3eb9ba9d75e24c",
       "version_major": 2,
       "version_minor": 0
      },
      "text/plain": [
       "HBox(children=(FloatProgress(value=0.0, layout=Layout(flex='2'), max=146.0), HTML(value='')), layout=Layout(di…"
      ]
     },
     "metadata": {},
     "output_type": "display_data"
    },
    {
     "name": "stdout",
     "output_type": "stream",
     "text": [
      "\n",
      "Lr now: 0.001\n",
      "Крр--------уу-гг--ллл--оо---о--з-ее-рр----н-----оо---е- => Круглоозерное       , gt: Круглоозерное       \n",
      "сы---з-нн--о-в-а---  в--ххоо-д-ии--тт- -в  -мм--оо-д-у- => сызнова входит в моду, gt: сызнова входит в моду\n",
      "и  -------к-----и---к---у-х----у---  гвв--о--з--д-е--м- => и кикуху гвоздем    , gt: и кликуху гвоздем   \n",
      "От--------кк---ии---н-----уу--в---   л----а--п------ыы- => Откинув лапы        , gt: Откинув лапы        \n",
      "Бел---------------о--р--------уу--сс---сс------------ия => Белоруссия          , gt: Белоруссия          \n"
     ]
    },
    {
     "data": {
      "application/vnd.jupyter.widget-view+json": {
       "model_id": "83c2c5318d5a4e15b4d9f202eb9fee9b",
       "version_major": 2,
       "version_minor": 0
      },
      "text/plain": [
       "HBox(children=(FloatProgress(value=0.0, layout=Layout(flex='2'), max=711.0), HTML(value='')), layout=Layout(di…"
      ]
     },
     "metadata": {},
     "output_type": "display_data"
    },
    {
     "name": "stdout",
     "output_type": "stream",
     "text": [
      "\n"
     ]
    },
    {
     "data": {
      "application/vnd.jupyter.widget-view+json": {
       "model_id": "c87c2195d5e3451ab4a60333bfacdc81",
       "version_major": 2,
       "version_minor": 0
      },
      "text/plain": [
       "HBox(children=(FloatProgress(value=0.0, layout=Layout(flex='2'), max=146.0), HTML(value='')), layout=Layout(di…"
      ]
     },
     "metadata": {},
     "output_type": "display_data"
    },
    {
     "name": "stdout",
     "output_type": "stream",
     "text": [
      "\n",
      "Lr now: 0.001\n",
      "Укр-----------------------а-------ии-----н-----------а- => Украина             , gt: Украина             \n",
      "вс--------------тт--------а----ее------тт--------- --с- => встает с            , gt: встает с            \n",
      "Пет----------------рр----о----вв---а-----л-----сс----к- => Петровалск          , gt: Петровалск          \n",
      "И  -------------------дд----о---б--рр----ыы----------й- => И добрый            , gt: И добрый            \n",
      "Гу------------------лл-----ь------шшш--------аа------т- => Гульшат             , gt: Гульшат             \n"
     ]
    },
    {
     "data": {
      "application/vnd.jupyter.widget-view+json": {
       "model_id": "bd3868f8d38e4a23b0a9d2ccc431ab2f",
       "version_major": 2,
       "version_minor": 0
      },
      "text/plain": [
       "HBox(children=(FloatProgress(value=0.0, layout=Layout(flex='2'), max=711.0), HTML(value='')), layout=Layout(di…"
      ]
     },
     "metadata": {},
     "output_type": "display_data"
    },
    {
     "name": "stdout",
     "output_type": "stream",
     "text": [
      "\n"
     ]
    },
    {
     "data": {
      "application/vnd.jupyter.widget-view+json": {
       "model_id": "718a51d53fa44ce8aa90c61948eb2088",
       "version_major": 2,
       "version_minor": 0
      },
      "text/plain": [
       "HBox(children=(FloatProgress(value=0.0, layout=Layout(flex='2'), max=146.0), HTML(value='')), layout=Layout(di…"
      ]
     },
     "metadata": {},
     "output_type": "display_data"
    },
    {
     "name": "stdout",
     "output_type": "stream",
     "text": [
      "\n",
      "Lr now: 0.001\n",
      "не----  ввоор--оо-н-----  сс-тт---е-п--н--о--йй-??.-.-. => не ворон степной?..., gt: не ворон степной?.. \n",
      "вн---------о----вв---ь-  -сс---и---х---е-----юю---ю-тт- => вновь сихеюют       , gt: вновь синеют        \n",
      "де------------------------н--------------------------ь- => день                , gt: день                \n",
      "Ро---------------------ссс------ссс------------------ия => Россия              , gt: Россия              \n",
      "ту------------------мм---------аа----нн------------ыыы- => туманы              , gt: туманы              \n"
     ]
    },
    {
     "data": {
      "application/vnd.jupyter.widget-view+json": {
       "model_id": "a258df464e6c403eb39dd4caed7cf60a",
       "version_major": 2,
       "version_minor": 0
      },
      "text/plain": [
       "HBox(children=(FloatProgress(value=0.0, layout=Layout(flex='2'), max=711.0), HTML(value='')), layout=Layout(di…"
      ]
     },
     "metadata": {},
     "output_type": "display_data"
    },
    {
     "name": "stdout",
     "output_type": "stream",
     "text": [
      "\n"
     ]
    },
    {
     "data": {
      "application/vnd.jupyter.widget-view+json": {
       "model_id": "f4d2b17f97d74d56ae5d025a55e838ac",
       "version_major": 2,
       "version_minor": 0
      },
      "text/plain": [
       "HBox(children=(FloatProgress(value=0.0, layout=Layout(flex='2'), max=146.0), HTML(value='')), layout=Layout(di…"
      ]
     },
     "metadata": {},
     "output_type": "display_data"
    },
    {
     "name": "stdout",
     "output_type": "stream",
     "text": [
      "\n",
      "Lr now: 0.001\n",
      "Мам------------------------------------ю---тт---к----а- => Мамютка             , gt: Мамлютка            \n",
      "АЛМ----------------А---Т----И---Н----С--------------КАЯ => АЛМАТИНСКАЯ         , gt: АЛМАТИНСКАЯ         \n",
      "на----------з---дд---а----в---а----тт------ь---сс----яя => наздаваться         , gt: раздаваться         \n",
      "Кен------------------------т-----------а-------------уу => Кентау              , gt: Кентау              \n",
      "Пав---------------------лл-------о-----д----аа-------р- => Павлодар            , gt: Павлодар            \n"
     ]
    },
    {
     "data": {
      "application/vnd.jupyter.widget-view+json": {
       "model_id": "4e95ebd4bbfc4494bf140f28d6a6d3fc",
       "version_major": 2,
       "version_minor": 0
      },
      "text/plain": [
       "HBox(children=(FloatProgress(value=0.0, layout=Layout(flex='2'), max=711.0), HTML(value='')), layout=Layout(di…"
      ]
     },
     "metadata": {},
     "output_type": "display_data"
    },
    {
     "name": "stdout",
     "output_type": "stream",
     "text": [
      "\n"
     ]
    },
    {
     "data": {
      "application/vnd.jupyter.widget-view+json": {
       "model_id": "1c25115fe5274ee8855c5987cc5b963c",
       "version_major": 2,
       "version_minor": 0
      },
      "text/plain": [
       "HBox(children=(FloatProgress(value=0.0, layout=Layout(flex='2'), max=146.0), HTML(value='')), layout=Layout(di…"
      ]
     },
     "metadata": {},
     "output_type": "display_data"
    },
    {
     "name": "stdout",
     "output_type": "stream",
     "text": [
      "\n",
      "Lr now: 0.001\n",
      "Ид---з--  -з--а--б--ы-ввшш---иии-хх--  -м----е-н----яя- => Идз забывших меня   , gt: Из забывших меня    \n",
      "ке--------ж-----а-------е---йй---  -к-----о--н------я-, => кежаей коня,        , gt: Не жалей коня,      \n",
      "Уз-----------бб-ее---кк-----ии--сс---тт-------а------н- => Узбекистан          , gt: Узбекистан          \n",
      "Тур-------------------кк------е----сс--т-----а-------н- => Туркестан           , gt: ТУРКЕСТАН           \n",
      "Же---------------------------------------------------мм => Жем                 , gt: Жем                 \n"
     ]
    },
    {
     "data": {
      "application/vnd.jupyter.widget-view+json": {
       "model_id": "92a91821d3f14ff2b92e79eb3e259e9c",
       "version_major": 2,
       "version_minor": 0
      },
      "text/plain": [
       "HBox(children=(FloatProgress(value=0.0, layout=Layout(flex='2'), max=711.0), HTML(value='')), layout=Layout(di…"
      ]
     },
     "metadata": {},
     "output_type": "display_data"
    },
    {
     "name": "stdout",
     "output_type": "stream",
     "text": [
      "\n"
     ]
    },
    {
     "data": {
      "application/vnd.jupyter.widget-view+json": {
       "model_id": "531f9ade78584d5aa351eba0db67bb9e",
       "version_major": 2,
       "version_minor": 0
      },
      "text/plain": [
       "HBox(children=(FloatProgress(value=0.0, layout=Layout(flex='2'), max=146.0), HTML(value='')), layout=Layout(di…"
      ]
     },
     "metadata": {},
     "output_type": "display_data"
    },
    {
     "name": "stdout",
     "output_type": "stream",
     "text": [
      "\n",
      "Lr now: 0.001\n",
      "Акт-----------------ю---б---ии--нн---сс-------------кая => Актюбинская         , gt: Актюбинская         \n",
      "я ---------с----о-------  --с---т--------о-лл-------аа- => я со стола          , gt: я со стола          \n",
      "кл------я-тт---в--о--йй---  --о-бб-ее----щ---а---л----; => клятвой обещал;     , gt: клятвой обещал;     \n",
      "ча-----------------сс--------о-----в-----аа----------яя => часовая             , gt: часовая             \n",
      "не--------   -лл----иии---цц-е- --м----е--р-----ии--ть- => не лице мерить      , gt: не лицемерить       \n"
     ]
    },
    {
     "data": {
      "application/vnd.jupyter.widget-view+json": {
       "model_id": "2e375c69ef7f432e877a6667b2162263",
       "version_major": 2,
       "version_minor": 0
      },
      "text/plain": [
       "HBox(children=(FloatProgress(value=0.0, layout=Layout(flex='2'), max=711.0), HTML(value='')), layout=Layout(di…"
      ]
     },
     "metadata": {},
     "output_type": "display_data"
    },
    {
     "name": "stdout",
     "output_type": "stream",
     "text": [
      "\n"
     ]
    },
    {
     "data": {
      "application/vnd.jupyter.widget-view+json": {
       "model_id": "de8e05fa5a4d4759980215e4b08f0273",
       "version_major": 2,
       "version_minor": 0
      },
      "text/plain": [
       "HBox(children=(FloatProgress(value=0.0, layout=Layout(flex='2'), max=146.0), HTML(value='')), layout=Layout(di…"
      ]
     },
     "metadata": {},
     "output_type": "display_data"
    },
    {
     "name": "stdout",
     "output_type": "stream",
     "text": [
      "\n",
      "Lr now: 0.001\n",
      "Бел-----------------о--р------уу-сс--с---------------ия => Белоруссия          , gt: Белоруссия          \n",
      "Кар----------а--г---а--н-----д---ии--н----с---------кая => Карагандинская      , gt: Карагандинская      \n",
      "ты-------  -ии---з-   -д--о-мм----у----   --у--ш---л-а- => ты из дому ушла     , gt: ты из дому ушла     \n",
      "от-------к----и--нн----у--в-------   л-----а--п-----ыы- => откинув лапы        , gt: Откинув лапы        \n",
      "не----------бб----е---сс-----а-------мм-----------ии--, => небесами,           , gt: небесами,           \n"
     ]
    },
    {
     "data": {
      "application/vnd.jupyter.widget-view+json": {
       "model_id": "cfa69e4aba634d6b8b06a6fae0b0bbc0",
       "version_major": 2,
       "version_minor": 0
      },
      "text/plain": [
       "HBox(children=(FloatProgress(value=0.0, layout=Layout(flex='2'), max=711.0), HTML(value='')), layout=Layout(di…"
      ]
     },
     "metadata": {},
     "output_type": "display_data"
    },
    {
     "name": "stdout",
     "output_type": "stream",
     "text": [
      "\n"
     ]
    },
    {
     "data": {
      "application/vnd.jupyter.widget-view+json": {
       "model_id": "7d29743425604606af8d7020f1f35a2d",
       "version_major": 2,
       "version_minor": 0
      },
      "text/plain": [
       "HBox(children=(FloatProgress(value=0.0, layout=Layout(flex='2'), max=146.0), HTML(value='')), layout=Layout(di…"
      ]
     },
     "metadata": {},
     "output_type": "display_data"
    },
    {
     "name": "stdout",
     "output_type": "stream",
     "text": [
      "\n",
      "Lr now: 0.001\n",
      "оп---------------------------------------------------ю- => опю                 , gt: сплю                \n",
      "кр-----------------------------оо------вв-------ььь---. => кровь.              , gt: кровь.              \n",
      "Он-------  -бб-ыы--л---   вв--о-л-чч--а---т--н--и--ккк, => Он был волчатник,   , gt: Он был волчатник,   \n",
      "Ал------------------------------а---------т----------ы- => Алаты               , gt: АЛМАТЫ              \n",
      "Ре-------------в--ее-----л-------аа-----    ----о---тт- => Ревела от           , gt: ревела от           \n"
     ]
    },
    {
     "data": {
      "application/vnd.jupyter.widget-view+json": {
       "model_id": "76d1d4d55deb4044aff6da0fb62acec3",
       "version_major": 2,
       "version_minor": 0
      },
      "text/plain": [
       "HBox(children=(FloatProgress(value=0.0, layout=Layout(flex='2'), max=711.0), HTML(value='')), layout=Layout(di…"
      ]
     },
     "metadata": {},
     "output_type": "display_data"
    },
    {
     "name": "stdout",
     "output_type": "stream",
     "text": [
      "\n"
     ]
    },
    {
     "data": {
      "application/vnd.jupyter.widget-view+json": {
       "model_id": "a07eeeb100274ea68abcae9b8606b967",
       "version_major": 2,
       "version_minor": 0
      },
      "text/plain": [
       "HBox(children=(FloatProgress(value=0.0, layout=Layout(flex='2'), max=146.0), HTML(value='')), layout=Layout(di…"
      ]
     },
     "metadata": {},
     "output_type": "display_data"
    },
    {
     "name": "stdout",
     "output_type": "stream",
     "text": [
      "\n",
      "Lr now: 0.001\n",
      "Я  ---------------------к--рр-----е---п-----кк-------о- => Я крепко            , gt: Я крепко            \n",
      "не------  -вв-оорр---о-нн---  сс--т--ее-п--н---о---й--, => не ворон степной,   , gt: не ворон степной,   \n",
      "Пав---------------------лллл------о---дд----аа-------р- => Павлодар            , gt: Павлодар            \n",
      "не----------   -и---и-----щ--е---мм--о-рр--сс-тт----ьь- => не иищеморсть       , gt: не лицемерить       \n",
      "Атт----------------------ыы-----рр---------а---------у- => Атырау              , gt: Атырау              \n"
     ]
    },
    {
     "data": {
      "application/vnd.jupyter.widget-view+json": {
       "model_id": "f67722cec7164d80bb7e0e8d06bed808",
       "version_major": 2,
       "version_minor": 0
      },
      "text/plain": [
       "HBox(children=(FloatProgress(value=0.0, layout=Layout(flex='2'), max=711.0), HTML(value='')), layout=Layout(di…"
      ]
     },
     "metadata": {},
     "output_type": "display_data"
    },
    {
     "name": "stdout",
     "output_type": "stream",
     "text": [
      "\n"
     ]
    },
    {
     "data": {
      "application/vnd.jupyter.widget-view+json": {
       "model_id": "9fe9bb963f4b442ebc26f63d43dfe51a",
       "version_major": 2,
       "version_minor": 0
      },
      "text/plain": [
       "HBox(children=(FloatProgress(value=0.0, layout=Layout(flex='2'), max=146.0), HTML(value='')), layout=Layout(di…"
      ]
     },
     "metadata": {},
     "output_type": "display_data"
    },
    {
     "name": "stdout",
     "output_type": "stream",
     "text": [
      "\n",
      "Lr now: 0.001\n",
      "в -------з--а-рр--о--сс-л-ы---хх------   уу-п-рр--а--п- => в зарослых упрап    , gt: в зарослях укроп    \n",
      "по-----------------------ц---ее---л------уу----------т- => поцелут             , gt: поцелуй,            \n",
      "Аст----------------------------аа------нн------------а- => Астана              , gt: Астана              \n",
      "вс--------ее-------  ---з-----вв----уу---к--------и---, => все звуки,          , gt: все звуки,          \n",
      "Кыз------------------ыы----лл---оо-рр------дд--------а- => Кызылорда           , gt: Кызылорда           \n"
     ]
    },
    {
     "data": {
      "application/vnd.jupyter.widget-view+json": {
       "model_id": "b9af81360f714a67a25f94883110d6e6",
       "version_major": 2,
       "version_minor": 0
      },
      "text/plain": [
       "HBox(children=(FloatProgress(value=0.0, layout=Layout(flex='2'), max=711.0), HTML(value='')), layout=Layout(di…"
      ]
     },
     "metadata": {},
     "output_type": "display_data"
    },
    {
     "name": "stdout",
     "output_type": "stream",
     "text": [
      "\n"
     ]
    },
    {
     "data": {
      "application/vnd.jupyter.widget-view+json": {
       "model_id": "5dc081d1421b4925958c27f16ddae644",
       "version_major": 2,
       "version_minor": 0
      },
      "text/plain": [
       "HBox(children=(FloatProgress(value=0.0, layout=Layout(flex='2'), max=146.0), HTML(value='')), layout=Layout(di…"
      ]
     },
     "metadata": {},
     "output_type": "display_data"
    },
    {
     "name": "stdout",
     "output_type": "stream",
     "text": [
      "\n",
      "Lr now: 0.001\n",
      "Акт------------------юю--бб-ии---нн---сс------------кая => Актюбинская         , gt: Актюбинская         \n",
      "Кост---------а--нн---а----йй-н----а---й---с---------кая => Костанайнайская     , gt: Костанайнаиская     \n",
      "Пет------------рр---о--п----а-----в--л----оо--вв-сс--к- => Петропавловск       , gt: Петропавловск       \n",
      "Кост--------------------------аа--ннн--------а-------й- => Костанай            , gt: Костанай            \n",
      "На--------------   --и----х----   --оо-гг---о--н----ь-, => На их огонь,        , gt: На их огонь,        \n"
     ]
    },
    {
     "data": {
      "application/vnd.jupyter.widget-view+json": {
       "model_id": "651b050d571e4a8786733f52a358bec7",
       "version_major": 2,
       "version_minor": 0
      },
      "text/plain": [
       "HBox(children=(FloatProgress(value=0.0, layout=Layout(flex='2'), max=711.0), HTML(value='')), layout=Layout(di…"
      ]
     },
     "metadata": {},
     "output_type": "display_data"
    },
    {
     "name": "stdout",
     "output_type": "stream",
     "text": [
      "\n"
     ]
    },
    {
     "data": {
      "application/vnd.jupyter.widget-view+json": {
       "model_id": "dd9e15306c434b25933bc7b7a5014933",
       "version_major": 2,
       "version_minor": 0
      },
      "text/plain": [
       "HBox(children=(FloatProgress(value=0.0, layout=Layout(flex='2'), max=146.0), HTML(value='')), layout=Layout(di…"
      ]
     },
     "metadata": {},
     "output_type": "display_data"
    },
    {
     "name": "stdout",
     "output_type": "stream",
     "text": [
      "\n",
      "Lr now: 0.001\n",
      "Об-----------нн----иии----мм--------а----ее------тт--,, => Обнимает,           , gt: Обнимает,           \n",
      "Пав-----------ллл---оо----дд---а-рр-----с-----------кая => Павлодарская        , gt: Павлодарская        \n",
      "Вы----------------   -оо---бб--ии---дд--ее--лл-------и- => Вы обидели          , gt: Вы обидели          \n",
      "Абх-------------------------а-------ззз--------------ия => Абхазия             , gt: Абхазия             \n",
      "Ст------------е---п---нн------о-гг---о---р-----------к- => Степногорк          , gt: Степногорск         \n"
     ]
    },
    {
     "data": {
      "application/vnd.jupyter.widget-view+json": {
       "model_id": "962dd9b9ff0a4bc198f61bb827f66958",
       "version_major": 2,
       "version_minor": 0
      },
      "text/plain": [
       "HBox(children=(FloatProgress(value=0.0, layout=Layout(flex='2'), max=711.0), HTML(value='')), layout=Layout(di…"
      ]
     },
     "metadata": {},
     "output_type": "display_data"
    },
    {
     "name": "stdout",
     "output_type": "stream",
     "text": [
      "\n"
     ]
    },
    {
     "data": {
      "application/vnd.jupyter.widget-view+json": {
       "model_id": "5168da04b9774c36936d009b8c62eddd",
       "version_major": 2,
       "version_minor": 0
      },
      "text/plain": [
       "HBox(children=(FloatProgress(value=0.0, layout=Layout(flex='2'), max=146.0), HTML(value='')), layout=Layout(di…"
      ]
     },
     "metadata": {},
     "output_type": "display_data"
    },
    {
     "name": "stdout",
     "output_type": "stream",
     "text": [
      "\n",
      "Lr now: 0.001\n",
      "Бе----------------лл------иии--нн------к-------------а- => Белинка             , gt: Долинка             \n",
      "Оп------------я----ттт----ьь-------о----д---н------а--, => Опятьодна,          , gt: Опять одна,         \n",
      "Юж------нн--о------ККаа-з-а-хххссстт-аа--н--сс------кая => Южно-Казахстанская  , gt: Южно-Казахстанская  \n",
      "Вост----н-оочонн-о---ККаа-ззаааххссстттаа-нн-ссс----кая => Востночоно-Казахстанская, gt: Восточно-Казахстанская\n",
      "ло----н---ыы---хх--   п---о-кк---о--л--ее-н---ии----и-, => лоных поколении,    , gt: юных поколений,     \n"
     ]
    },
    {
     "data": {
      "application/vnd.jupyter.widget-view+json": {
       "model_id": "831110c8a40d43b0b986a03039b1a650",
       "version_major": 2,
       "version_minor": 0
      },
      "text/plain": [
       "HBox(children=(FloatProgress(value=0.0, layout=Layout(flex='2'), max=711.0), HTML(value='')), layout=Layout(di…"
      ]
     },
     "metadata": {},
     "output_type": "display_data"
    },
    {
     "name": "stdout",
     "output_type": "stream",
     "text": [
      "\n"
     ]
    },
    {
     "data": {
      "application/vnd.jupyter.widget-view+json": {
       "model_id": "81674f2f779545f09f4a0cf31af68757",
       "version_major": 2,
       "version_minor": 0
      },
      "text/plain": [
       "HBox(children=(FloatProgress(value=0.0, layout=Layout(flex='2'), max=146.0), HTML(value='')), layout=Layout(di…"
      ]
     },
     "metadata": {},
     "output_type": "display_data"
    },
    {
     "name": "stdout",
     "output_type": "stream",
     "text": [
      "\n",
      "Lr now: 0.001\n",
      "Ка-------кк-------   -мм------а--лл---ььчч---ии---кк--, => Как мальчик,        , gt: Как мальчик,        \n",
      "Абх-------------------------а-------зз---------------ия => Абхазия             , gt: Абхазия             \n",
      "Тур--------к---е-н---сс--тт----аа--нн---с-----------кая => Туркенстанская      , gt: Туркенстанская      \n",
      "Та----------------------кк-----------  ---в--еее----кк- => Так век             , gt: Так век             \n",
      "За----------------------йй-----с---------а-----------н- => Зайсан              , gt: Зайсан              \n"
     ]
    },
    {
     "data": {
      "application/vnd.jupyter.widget-view+json": {
       "model_id": "3d3265ec7fd94954b5f35011b62e67f8",
       "version_major": 2,
       "version_minor": 0
      },
      "text/plain": [
       "HBox(children=(FloatProgress(value=0.0, layout=Layout(flex='2'), max=711.0), HTML(value='')), layout=Layout(di…"
      ]
     },
     "metadata": {},
     "output_type": "display_data"
    },
    {
     "name": "stdout",
     "output_type": "stream",
     "text": [
      "\n"
     ]
    },
    {
     "data": {
      "application/vnd.jupyter.widget-view+json": {
       "model_id": "ffa29850578f40d483d6b3555d68745d",
       "version_major": 2,
       "version_minor": 0
      },
      "text/plain": [
       "HBox(children=(FloatProgress(value=0.0, layout=Layout(flex='2'), max=146.0), HTML(value='')), layout=Layout(di…"
      ]
     },
     "metadata": {},
     "output_type": "display_data"
    },
    {
     "name": "stdout",
     "output_type": "stream",
     "text": [
      "\n",
      "Lr now: 0.001\n",
      "Сер---------------гг-------ее----вв----кк------------а- => Сергевка            , gt: Сергеевка           \n",
      "Шё-------------л--------  --с---т----ее-п---ьь-----ю--, => Шёл степью,         , gt: Шёл степью,         \n",
      "Ба----------------------------х-------а--------------ш- => Бахаш               , gt: Балхаш              \n",
      "Сар---------------------ы-----кк-------о----лл-------ь- => Сарыколь            , gt: Сарыколь            \n",
      "не---------у---дд--ее-рр-----жж------ии------мм------о- => неудержимо          , gt: неудержимо          \n"
     ]
    },
    {
     "data": {
      "application/vnd.jupyter.widget-view+json": {
       "model_id": "8f12d2dd65a7437f929600189880dd89",
       "version_major": 2,
       "version_minor": 0
      },
      "text/plain": [
       "HBox(children=(FloatProgress(value=0.0, layout=Layout(flex='2'), max=711.0), HTML(value='')), layout=Layout(di…"
      ]
     },
     "metadata": {},
     "output_type": "display_data"
    },
    {
     "name": "stdout",
     "output_type": "stream",
     "text": [
      "\n"
     ]
    },
    {
     "data": {
      "application/vnd.jupyter.widget-view+json": {
       "model_id": "f2b36a99fbbf49199e86ca9d4fb360f0",
       "version_major": 2,
       "version_minor": 0
      },
      "text/plain": [
       "HBox(children=(FloatProgress(value=0.0, layout=Layout(flex='2'), max=146.0), HTML(value='')), layout=Layout(di…"
      ]
     },
     "metadata": {},
     "output_type": "display_data"
    },
    {
     "name": "stdout",
     "output_type": "stream",
     "text": [
      "\n",
      "Lr now: 0.001\n",
      "Гр--------у-сс-ттт---н---оо-,,,   Н-----ии--н-----а---: => Грустно, Нина:      , gt: Грустно, Нина:      \n",
      "крр------------------------о----------вв-------------ь- => кровь               , gt: Кровь               \n",
      "Атт-----------------------ыы-----ррр-------а---------у- => Атырау              , gt: Атырау              \n",
      "Аст-------------------------а-------нн---------------а- => Астана              , gt: Астана              \n",
      "Алм--------------------------а-------тт-------------ыы- => Алматы              , gt: Алматы              \n",
      "Lr now: 0.0001\n"
     ]
    },
    {
     "data": {
      "application/vnd.jupyter.widget-view+json": {
       "model_id": "52032cabd8cc4e159b33d2bee9224ab4",
       "version_major": 2,
       "version_minor": 0
      },
      "text/plain": [
       "HBox(children=(FloatProgress(value=0.0, layout=Layout(flex='2'), max=711.0), HTML(value='')), layout=Layout(di…"
      ]
     },
     "metadata": {},
     "output_type": "display_data"
    },
    {
     "name": "stdout",
     "output_type": "stream",
     "text": [
      "\n"
     ]
    },
    {
     "data": {
      "application/vnd.jupyter.widget-view+json": {
       "model_id": "3fd520532a8c477cb13664d0eb394722",
       "version_major": 2,
       "version_minor": 0
      },
      "text/plain": [
       "HBox(children=(FloatProgress(value=0.0, layout=Layout(flex='2'), max=146.0), HTML(value='')), layout=Layout(di…"
      ]
     },
     "metadata": {},
     "output_type": "display_data"
    },
    {
     "name": "stdout",
     "output_type": "stream",
     "text": [
      "\n",
      "Lr now: 0.0001\n",
      "из-------------------------   нн-------еее-гг--------о- => из него             , gt: из него             \n",
      "Зап-----аа-д--н--о-----КК--азз-а--хсст-аа-нн-сс-----кая => Западно-Казахстанская, gt: Западно-Казахстанская\n",
      "Тем---------------------ии---р------ттт------а-------у- => Темиртау            , gt: Темиртау            \n",
      "Сев---ееерр-н--оо----К-ааззаахх-сстт--аа-н--сс------кая => Северно-Казахстанская, gt: Северно-Казахстанская\n",
      "бл---------а--гг---о--з---а--рр---н------о--с----тт--ь- => благозарность       , gt: благодарность       \n"
     ]
    },
    {
     "data": {
      "application/vnd.jupyter.widget-view+json": {
       "model_id": "0ef5beae30af4a59b750aa1e446be3de",
       "version_major": 2,
       "version_minor": 0
      },
      "text/plain": [
       "HBox(children=(FloatProgress(value=0.0, layout=Layout(flex='2'), max=711.0), HTML(value='')), layout=Layout(di…"
      ]
     },
     "metadata": {},
     "output_type": "display_data"
    },
    {
     "name": "stdout",
     "output_type": "stream",
     "text": [
      "\n"
     ]
    },
    {
     "data": {
      "application/vnd.jupyter.widget-view+json": {
       "model_id": "4e8c42f6216a4c11bf7235d882a025b8",
       "version_major": 2,
       "version_minor": 0
      },
      "text/plain": [
       "HBox(children=(FloatProgress(value=0.0, layout=Layout(flex='2'), max=146.0), HTML(value='')), layout=Layout(di…"
      ]
     },
     "metadata": {},
     "output_type": "display_data"
    },
    {
     "name": "stdout",
     "output_type": "stream",
     "text": [
      "\n",
      "Lr now: 0.0001\n",
      "Джм--------------------и------л-----иии----тт--------у- => Джмилиту            , gt: Джигиту             \n",
      "Он--------ии----  -п---р----о------щщ--а------юю----тт- => Они прощают         , gt: Они прощают         \n",
      "Тар-------------------------------------а------------з- => Тараз               , gt: Тараз               \n",
      "Зе-------мм---лл---я--  --дд---у---шш---иии--с--т-т--а- => Земля душистта      , gt: Земля душиста       \n",
      "Шуу---------------------------------------------------- => Шу                  , gt: Шу                  \n"
     ]
    },
    {
     "data": {
      "application/vnd.jupyter.widget-view+json": {
       "model_id": "ad2e4e3216754e899c239b0ac1daac71",
       "version_major": 2,
       "version_minor": 0
      },
      "text/plain": [
       "HBox(children=(FloatProgress(value=0.0, layout=Layout(flex='2'), max=711.0), HTML(value='')), layout=Layout(di…"
      ]
     },
     "metadata": {},
     "output_type": "display_data"
    },
    {
     "name": "stdout",
     "output_type": "stream",
     "text": [
      "\n"
     ]
    },
    {
     "data": {
      "application/vnd.jupyter.widget-view+json": {
       "model_id": "94a8dff18ab243cdbd1240d95c048330",
       "version_major": 2,
       "version_minor": 0
      },
      "text/plain": [
       "HBox(children=(FloatProgress(value=0.0, layout=Layout(flex='2'), max=146.0), HTML(value='')), layout=Layout(di…"
      ]
     },
     "metadata": {},
     "output_type": "display_data"
    },
    {
     "name": "stdout",
     "output_type": "stream",
     "text": [
      "\n",
      "Lr now: 0.0001\n",
      "мо----------е----й------  -лл---е--жж-----ии----тт----. => моей лежит.         , gt: моей лежит.         \n",
      "Ка------к----   рр--а-зз--д-а--л--ь--я-,,,  -т----а--к- => Как раздалья, так   , gt: Как раздался, так   \n",
      "по------к---оо--ии--тт---сс--яя-----  пп--р-----а----х- => покоится прах       , gt: покоится прах       \n",
      "Тур-------------------ккк-----е---ссс---т------аа----н- => Туркестан           , gt: Туркестан           \n",
      "Ба--------------лллл---ж-------------аа--------------ш- => Балжаш              , gt: Балхаш              \n"
     ]
    },
    {
     "data": {
      "application/vnd.jupyter.widget-view+json": {
       "model_id": "71d17d38589f42a1959da63428dac141",
       "version_major": 2,
       "version_minor": 0
      },
      "text/plain": [
       "HBox(children=(FloatProgress(value=0.0, layout=Layout(flex='2'), max=711.0), HTML(value='')), layout=Layout(di…"
      ]
     },
     "metadata": {},
     "output_type": "display_data"
    },
    {
     "name": "stdout",
     "output_type": "stream",
     "text": [
      "\n"
     ]
    },
    {
     "data": {
      "application/vnd.jupyter.widget-view+json": {
       "model_id": "404ce4fae25246c6b7546b5b99365aa6",
       "version_major": 2,
       "version_minor": 0
      },
      "text/plain": [
       "HBox(children=(FloatProgress(value=0.0, layout=Layout(flex='2'), max=146.0), HTML(value='')), layout=Layout(di…"
      ]
     },
     "metadata": {},
     "output_type": "display_data"
    },
    {
     "name": "stdout",
     "output_type": "stream",
     "text": [
      "\n",
      "Lr now: 0.0001\n",
      "Сев---еерр-н--о----ККК-аазз-а-хххсс-тт--а--н-сс-----кая => Северно-Казахстанская, gt: Северно-Казахстанская\n",
      "и  -----н---о--з-е---м---нн--оо-и--- -п---о-к--оо--и--, => и ноземнои покои,   , gt: и неземнои покои,   \n",
      "Тар---------------------------------------а----------р- => Тарар               , gt: Тараз               \n",
      "де------------------е--------ннн------------------ьь--- => деень               , gt: день                \n",
      "Оп-------------яя----тт---ь---------,,,   кк----аа---в- => Опять, кав          , gt: Опять, как          \n"
     ]
    },
    {
     "data": {
      "application/vnd.jupyter.widget-view+json": {
       "model_id": "be2151ed087a4dba8875917ef640bc85",
       "version_major": 2,
       "version_minor": 0
      },
      "text/plain": [
       "HBox(children=(FloatProgress(value=0.0, layout=Layout(flex='2'), max=711.0), HTML(value='')), layout=Layout(di…"
      ]
     },
     "metadata": {},
     "output_type": "display_data"
    },
    {
     "name": "stdout",
     "output_type": "stream",
     "text": [
      "\n"
     ]
    },
    {
     "data": {
      "application/vnd.jupyter.widget-view+json": {
       "model_id": "b4e14e559f684cabbc2f3f5b8ba616bf",
       "version_major": 2,
       "version_minor": 0
      },
      "text/plain": [
       "HBox(children=(FloatProgress(value=0.0, layout=Layout(flex='2'), max=146.0), HTML(value='')), layout=Layout(di…"
      ]
     },
     "metadata": {},
     "output_type": "display_data"
    },
    {
     "name": "stdout",
     "output_type": "stream",
     "text": [
      "\n",
      "Lr now: 0.0001\n",
      "За------------т--------о-----бб--о--лл----ьь--сс-----к- => Затобольск          , gt: Затобольск          \n",
      "Гд------------е----------------  --е----лл---ее------й- => Где елей            , gt: Где елей            \n",
      "АКТ-----------------------------------АА-------------У- => АКТАУ               , gt: АКТАУ               \n",
      "Вост--------очч-н--оо---ККаазза-х-ссст--а--н-с------кая => Восточно-Казахстанская, gt: Восточно-Казахстанская\n",
      "В  -------------ссс----тт------о--гг----------аа------, => В стога,            , gt: В стога,            \n"
     ]
    },
    {
     "data": {
      "application/vnd.jupyter.widget-view+json": {
       "model_id": "1d39315f01114deabb848a1921493c2d",
       "version_major": 2,
       "version_minor": 0
      },
      "text/plain": [
       "HBox(children=(FloatProgress(value=0.0, layout=Layout(flex='2'), max=711.0), HTML(value='')), layout=Layout(di…"
      ]
     },
     "metadata": {},
     "output_type": "display_data"
    },
    {
     "name": "stdout",
     "output_type": "stream",
     "text": [
      "\n"
     ]
    },
    {
     "data": {
      "application/vnd.jupyter.widget-view+json": {
       "model_id": "5dc39141c343480391e35ea6d7d8c356",
       "version_major": 2,
       "version_minor": 0
      },
      "text/plain": [
       "HBox(children=(FloatProgress(value=0.0, layout=Layout(flex='2'), max=146.0), HTML(value='')), layout=Layout(di…"
      ]
     },
     "metadata": {},
     "output_type": "display_data"
    },
    {
     "name": "stdout",
     "output_type": "stream",
     "text": [
      "\n",
      "Lr now: 0.0001\n",
      "Ке-----м---?-----   КК-ее--л--??--   В--о-л--к-oo-мм-?? => Кем? Кел? Волкoм?   , gt: Кем? Кем? Волкoм?   \n",
      "Пет------------р----о--п----а----в--лл---о---вв-сс---к- => Петропавловск       , gt: Петропавловск       \n",
      "Зл----------------------------ыы---------------------е- => Злые                , gt: Злые                \n",
      "вп-------------о----тт------ьь---мм------а-------хх---, => впотьмах,           , gt: впотьмах.           \n",
      "Кост--------------------------а-----нн-----а---------й- => Костанай            , gt: Костанай            \n"
     ]
    },
    {
     "data": {
      "application/vnd.jupyter.widget-view+json": {
       "model_id": "959ebadd360448e29f83b9a97c6eac65",
       "version_major": 2,
       "version_minor": 0
      },
      "text/plain": [
       "HBox(children=(FloatProgress(value=0.0, layout=Layout(flex='2'), max=711.0), HTML(value='')), layout=Layout(di…"
      ]
     },
     "metadata": {},
     "output_type": "display_data"
    },
    {
     "name": "stdout",
     "output_type": "stream",
     "text": [
      "\n"
     ]
    },
    {
     "data": {
      "application/vnd.jupyter.widget-view+json": {
       "model_id": "90a024f5d8a44ef993a4555a527474a7",
       "version_major": 2,
       "version_minor": 0
      },
      "text/plain": [
       "HBox(children=(FloatProgress(value=0.0, layout=Layout(flex='2'), max=146.0), HTML(value='')), layout=Layout(di…"
      ]
     },
     "metadata": {},
     "output_type": "display_data"
    },
    {
     "name": "stdout",
     "output_type": "stream",
     "text": [
      "\n",
      "Lr now: 0.0001\n",
      "Зап------аа-дднн--о----ККК--аа--з--а-хххссст-аан-ссская => Западно-Казахстанская, gt: Западно-Казахстанская\n",
      "Урр------------------аа-----л-----ьь-----------------к- => Уральк              , gt: Уральск             \n",
      "И  ----------к---р----а---сс--ии----вв---о--ммм------у- => И красивому         , gt: И красивому         \n",
      "ди----л-оог--о- -з-ввеер--я---  -в- -к-лл--еетт-к--у--, => дилого зверя в клетку,, gt: дикого зверя в клетку,\n",
      "Бо--------------лл-----ьь--  --м-----------у---------ю- => Боль мую            , gt: Большую             \n"
     ]
    },
    {
     "data": {
      "application/vnd.jupyter.widget-view+json": {
       "model_id": "d7cd501cbdd541199cf72213f56c3008",
       "version_major": 2,
       "version_minor": 0
      },
      "text/plain": [
       "HBox(children=(FloatProgress(value=0.0, layout=Layout(flex='2'), max=711.0), HTML(value='')), layout=Layout(di…"
      ]
     },
     "metadata": {},
     "output_type": "display_data"
    },
    {
     "name": "stdout",
     "output_type": "stream",
     "text": [
      "\n"
     ]
    },
    {
     "data": {
      "application/vnd.jupyter.widget-view+json": {
       "model_id": "f836707776b24d3d9fc570470e28026d",
       "version_major": 2,
       "version_minor": 0
      },
      "text/plain": [
       "HBox(children=(FloatProgress(value=0.0, layout=Layout(flex='2'), max=146.0), HTML(value='')), layout=Layout(di…"
      ]
     },
     "metadata": {},
     "output_type": "display_data"
    },
    {
     "name": "stdout",
     "output_type": "stream",
     "text": [
      "\n",
      "Lr now: 0.0001\n",
      "на-------   тт---у-мм----а-н--н--ыы-х---- гг-оор--а--х, => на туманных горах,  , gt: на туманных горах,  \n",
      "Hо-------вв--оо-дд---о--лл---ии-н-----сс--кк---ии----й- => Hоводолинский       , gt: Hоводолинский       \n",
      "ра------------------------------йй------о------------н- => район               , gt: район               \n",
      "Ум------------ее--рр---шш------иии---х--,,,  -н------о- => Умерших, но         , gt: Умерших, но         \n",
      "Ег-------------ооо------   -н------ии---чч-----т-----о- => Его ничто           , gt: Его ничто           \n"
     ]
    },
    {
     "data": {
      "application/vnd.jupyter.widget-view+json": {
       "model_id": "f36fea6a92dc4fb3bfe66daad84aaea3",
       "version_major": 2,
       "version_minor": 0
      },
      "text/plain": [
       "HBox(children=(FloatProgress(value=0.0, layout=Layout(flex='2'), max=711.0), HTML(value='')), layout=Layout(di…"
      ]
     },
     "metadata": {},
     "output_type": "display_data"
    },
    {
     "name": "stdout",
     "output_type": "stream",
     "text": [
      "\n"
     ]
    },
    {
     "data": {
      "application/vnd.jupyter.widget-view+json": {
       "model_id": "dcb7e1c29470447a8dfe24cb1cbbc0ae",
       "version_major": 2,
       "version_minor": 0
      },
      "text/plain": [
       "HBox(children=(FloatProgress(value=0.0, layout=Layout(flex='2'), max=146.0), HTML(value='')), layout=Layout(di…"
      ]
     },
     "metadata": {},
     "output_type": "display_data"
    },
    {
     "name": "stdout",
     "output_type": "stream",
     "text": [
      "\n",
      "Lr now: 0.0001\n",
      "лу---------------------н-----------------аа-----------, => луна,               , gt: луна,               \n",
      "Алм-----------------а-----т----ии--н---сс----------ккая => Алматинская         , gt: Алматинская         \n",
      "пе---р-е--х--в-а--ч-еенн-н-оог--о------  п--лл-ы-лл--а- => перехваченного плыла, gt: перехваченного плыла\n",
      "Пет-------------рр--оо-пп--а---вв---л---о---вв--с---кк- => Петропавловск       , gt: Петропавловск       \n",
      "не--------------   ---вв-сс--ее--гг-----дд------а-----, => не всегда,          , gt: не всегда,          \n"
     ]
    },
    {
     "data": {
      "application/vnd.jupyter.widget-view+json": {
       "model_id": "e3367575e9694574b9034c6deacbb55b",
       "version_major": 2,
       "version_minor": 0
      },
      "text/plain": [
       "HBox(children=(FloatProgress(value=0.0, layout=Layout(flex='2'), max=711.0), HTML(value='')), layout=Layout(di…"
      ]
     },
     "metadata": {},
     "output_type": "display_data"
    },
    {
     "name": "stdout",
     "output_type": "stream",
     "text": [
      "\n"
     ]
    },
    {
     "data": {
      "application/vnd.jupyter.widget-view+json": {
       "model_id": "91727bbb97e549ad94fdd4710ae8d5b6",
       "version_major": 2,
       "version_minor": 0
      },
      "text/plain": [
       "HBox(children=(FloatProgress(value=0.0, layout=Layout(flex='2'), max=146.0), HTML(value='')), layout=Layout(di…"
      ]
     },
     "metadata": {},
     "output_type": "display_data"
    },
    {
     "name": "stdout",
     "output_type": "stream",
     "text": [
      "\n",
      "Lr now: 0.0001\n",
      "И  -----------б--уу--д---у--т-----  -мм----сс-т-ии--ть- => И будут мстить      , gt: И будут мстить      \n",
      "Пет----------------р-----о----вв---а----л------с-----к- => Петровалск          , gt: Петровалск          \n",
      "де-----в--ии-чч-ь--и----м--   к---уу-п--аа--н--ь-ее--мм => девичьим купаньем   , gt: девичьим купаньем   \n",
      "Оп----------яя----тт----ьь-------  --оо---д--н-----а--, => Опять одна,         , gt: Опять одна,         \n",
      "Чт---------о------  -д--о--б-рр--о--дд-е--тт---е-лл--ьь => Что добродетель     , gt: Что добродетель     \n"
     ]
    },
    {
     "data": {
      "application/vnd.jupyter.widget-view+json": {
       "model_id": "356c141547734131af804574c0ad4a75",
       "version_major": 2,
       "version_minor": 0
      },
      "text/plain": [
       "HBox(children=(FloatProgress(value=0.0, layout=Layout(flex='2'), max=711.0), HTML(value='')), layout=Layout(di…"
      ]
     },
     "metadata": {},
     "output_type": "display_data"
    },
    {
     "name": "stdout",
     "output_type": "stream",
     "text": [
      "\n"
     ]
    },
    {
     "data": {
      "application/vnd.jupyter.widget-view+json": {
       "model_id": "639e5be44e4742989955661079eae58e",
       "version_major": 2,
       "version_minor": 0
      },
      "text/plain": [
       "HBox(children=(FloatProgress(value=0.0, layout=Layout(flex='2'), max=146.0), HTML(value='')), layout=Layout(di…"
      ]
     },
     "metadata": {},
     "output_type": "display_data"
    },
    {
     "name": "stdout",
     "output_type": "stream",
     "text": [
      "\n",
      "Lr now: 0.0001\n",
      "бы--------------   -л-----е----тт------а-----тт------ь- => бы летать           , gt: бы летать           \n",
      "Айт-----------------------е--кк---ее-------   -б-----и- => Айтеке би           , gt: Айтеке би           \n",
      "Чт-----------оо----   --бб-лл----ии--жж---н-----ии---х- => Что ближних         , gt: Что ближних         \n",
      "дж---------------------ии--ггг-----ии----ттт--------уу- => джигиту             , gt: джигиту             \n",
      "Ре-------------в---ее---лл-------аа------   ----оо--тт- => Ревела от           , gt: ревела от           \n"
     ]
    },
    {
     "data": {
      "application/vnd.jupyter.widget-view+json": {
       "model_id": "f34c39d1f45f421884b1079cccd5618d",
       "version_major": 2,
       "version_minor": 0
      },
      "text/plain": [
       "HBox(children=(FloatProgress(value=0.0, layout=Layout(flex='2'), max=711.0), HTML(value='')), layout=Layout(di…"
      ]
     },
     "metadata": {},
     "output_type": "display_data"
    },
    {
     "name": "stdout",
     "output_type": "stream",
     "text": [
      "\n"
     ]
    },
    {
     "data": {
      "application/vnd.jupyter.widget-view+json": {
       "model_id": "766badddbdcb427284c459fd05d91a85",
       "version_major": 2,
       "version_minor": 0
      },
      "text/plain": [
       "HBox(children=(FloatProgress(value=0.0, layout=Layout(flex='2'), max=146.0), HTML(value='')), layout=Layout(di…"
      ]
     },
     "metadata": {},
     "output_type": "display_data"
    },
    {
     "name": "stdout",
     "output_type": "stream",
     "text": [
      "\n",
      "Lr now: 0.0001\n",
      "Бел-----------------оо--рр-----у--сс--сс-------------ия => Белоруссия          , gt: Белоруссия          \n",
      "Шал-----------------------------кк---------а---------р- => Шалкар              , gt: Шалкар              \n",
      "об--------ггг------оо--н--------яя------ее----------тт- => обгоняет            , gt: обгоняет            \n",
      "Прр-----------------иии-----оо-----з---е-ррр----сс---к- => Приозерск           , gt: Приозерск           \n",
      "дв----------------------о----рр----------------------а- => двора               , gt: двора               \n"
     ]
    },
    {
     "data": {
      "application/vnd.jupyter.widget-view+json": {
       "model_id": "314bdf1db9a244d2812646e52605d176",
       "version_major": 2,
       "version_minor": 0
      },
      "text/plain": [
       "HBox(children=(FloatProgress(value=0.0, layout=Layout(flex='2'), max=711.0), HTML(value='')), layout=Layout(di…"
      ]
     },
     "metadata": {},
     "output_type": "display_data"
    },
    {
     "name": "stdout",
     "output_type": "stream",
     "text": [
      "\n"
     ]
    },
    {
     "data": {
      "application/vnd.jupyter.widget-view+json": {
       "model_id": "8a37d976f47f4d9494cbf1bbfdb5e9a3",
       "version_major": 2,
       "version_minor": 0
      },
      "text/plain": [
       "HBox(children=(FloatProgress(value=0.0, layout=Layout(flex='2'), max=146.0), HTML(value='')), layout=Layout(di…"
      ]
     },
     "metadata": {},
     "output_type": "display_data"
    },
    {
     "name": "stdout",
     "output_type": "stream",
     "text": [
      "\n",
      "Lr now: 0.0001\n",
      "Пав---------------лл--оо-----д--а---р---с-----------кая => Павлодарская        , gt: Павлодарская        \n",
      "От-----------   --д---аа--сс-п----и----яя-------  ---и- => От даспия и         , gt: От Каспия и         \n",
      "Я -----------сс--лл--е---зз---ы---------   лл---и----л- => Я слезы лил         , gt: Я слезы лил         \n",
      "Тал-------------------д--ыы--кк----о---рр--гг---а----н- => Талдыкорган         , gt: Талдыкорган         \n",
      "Тв--------оо--е---  -лл---иии---цц--о--  -в- ееегг---о- => Твое лицо в его     , gt: Твое лицо в его     \n"
     ]
    },
    {
     "data": {
      "application/vnd.jupyter.widget-view+json": {
       "model_id": "6eb6744b0b5f42a29c46ba6517ecca9e",
       "version_major": 2,
       "version_minor": 0
      },
      "text/plain": [
       "HBox(children=(FloatProgress(value=0.0, layout=Layout(flex='2'), max=711.0), HTML(value='')), layout=Layout(di…"
      ]
     },
     "metadata": {},
     "output_type": "display_data"
    },
    {
     "name": "stdout",
     "output_type": "stream",
     "text": [
      "\n"
     ]
    },
    {
     "data": {
      "application/vnd.jupyter.widget-view+json": {
       "model_id": "b3ee38188c724f8ebf53674c355ce3fb",
       "version_major": 2,
       "version_minor": 0
      },
      "text/plain": [
       "HBox(children=(FloatProgress(value=0.0, layout=Layout(flex='2'), max=146.0), HTML(value='')), layout=Layout(di…"
      ]
     },
     "metadata": {},
     "output_type": "display_data"
    },
    {
     "name": "stdout",
     "output_type": "stream",
     "text": [
      "\n",
      "Lr now: 0.0001\n",
      "лю-------------------------------ддд-----------------и- => люди                , gt: люди                \n",
      "Ой----------------------------------------------------, => Ой,                 , gt: Ой,                 \n",
      "Го------------------------лл----------------оо-------с- => Голос               , gt: Голос               \n",
      "Алм-----------------а---тт-----ии---н----с----------кая => Алматинская         , gt: Алматинская         \n",
      "лу------------------------нн---------------а----------, => луна,               , gt: луна,               \n"
     ]
    },
    {
     "data": {
      "application/vnd.jupyter.widget-view+json": {
       "model_id": "ac23a99e04f240af9f88a6793d149150",
       "version_major": 2,
       "version_minor": 0
      },
      "text/plain": [
       "HBox(children=(FloatProgress(value=0.0, layout=Layout(flex='2'), max=711.0), HTML(value='')), layout=Layout(di…"
      ]
     },
     "metadata": {},
     "output_type": "display_data"
    },
    {
     "name": "stdout",
     "output_type": "stream",
     "text": [
      "\n"
     ]
    },
    {
     "data": {
      "application/vnd.jupyter.widget-view+json": {
       "model_id": "d10b0525a1ec49d6a453eae1b1b1abc8",
       "version_major": 2,
       "version_minor": 0
      },
      "text/plain": [
       "HBox(children=(FloatProgress(value=0.0, layout=Layout(flex='2'), max=146.0), HTML(value='')), layout=Layout(di…"
      ]
     },
     "metadata": {},
     "output_type": "display_data"
    },
    {
     "name": "stdout",
     "output_type": "stream",
     "text": [
      "\n",
      "Lr now: 0.0001\n",
      "Юж---------нн--о----КК--а-з-аа-хх-сс-тт-а--н-сс-----кая => Южно-Казахстанская  , gt: Южно-Казахстанская  \n",
      "ка----к------  -в-   -д--у--ж--е--с-к-и-ее---  -очч--и- => как в дужеские очи  , gt: как в дружеские очи \n",
      "И  ---------------------зз-----вв----аа-------------лл- => И звал              , gt: И звал              \n",
      "По--------д--   -с-кк----аа--лл--ьь--п--е--лл---е----м- => Под скальпелем      , gt: Под скальпелем      \n",
      "не---------------   нн-----а----з--вв--аа---н----ьь--е- => не названье         , gt: не названье         \n"
     ]
    },
    {
     "data": {
      "application/vnd.jupyter.widget-view+json": {
       "model_id": "6c6702d6460347d19005b9823d8af715",
       "version_major": 2,
       "version_minor": 0
      },
      "text/plain": [
       "HBox(children=(FloatProgress(value=0.0, layout=Layout(flex='2'), max=711.0), HTML(value='')), layout=Layout(di…"
      ]
     },
     "metadata": {},
     "output_type": "display_data"
    },
    {
     "name": "stdout",
     "output_type": "stream",
     "text": [
      "\n"
     ]
    },
    {
     "data": {
      "application/vnd.jupyter.widget-view+json": {
       "model_id": "539a69f71cd5441392974dfb44779e90",
       "version_major": 2,
       "version_minor": 0
      },
      "text/plain": [
       "HBox(children=(FloatProgress(value=0.0, layout=Layout(flex='2'), max=146.0), HTML(value='')), layout=Layout(di…"
      ]
     },
     "metadata": {},
     "output_type": "display_data"
    },
    {
     "name": "stdout",
     "output_type": "stream",
     "text": [
      "\n",
      "Lr now: 0.0001\n",
      "КОКШ-----------------------------Е----ТТ-----А-------У- => КОКШЕТАУ            , gt: КОКШЕТАУ            \n",
      "Ли------шш--ьь---  б--ыы---   н-е----   п-рр-о-с-т-итть => Лишь бы не простить , gt: Лишь бы не простить \n",
      "не-----жж---н----а---яя--,,,-   н---а--шшш---лл--аа-.-. => нежная, нашла..     , gt: нежная, нашла.,     \n",
      "Акт-----------------------------------о-------бб-----е- => Актобе              , gt: Актобе              \n",
      "вы-------------------------------------ссс---------ии-, => выси,               , gt: выси,               \n"
     ]
    },
    {
     "data": {
      "application/vnd.jupyter.widget-view+json": {
       "model_id": "c943c9cf92e14cb6abd5e1603929103c",
       "version_major": 2,
       "version_minor": 0
      },
      "text/plain": [
       "HBox(children=(FloatProgress(value=0.0, layout=Layout(flex='2'), max=711.0), HTML(value='')), layout=Layout(di…"
      ]
     },
     "metadata": {},
     "output_type": "display_data"
    },
    {
     "name": "stdout",
     "output_type": "stream",
     "text": [
      "\n"
     ]
    },
    {
     "data": {
      "application/vnd.jupyter.widget-view+json": {
       "model_id": "067cbf32701b479b9d9d5da71f619e35",
       "version_major": 2,
       "version_minor": 0
      },
      "text/plain": [
       "HBox(children=(FloatProgress(value=0.0, layout=Layout(flex='2'), max=146.0), HTML(value='')), layout=Layout(di…"
      ]
     },
     "metadata": {},
     "output_type": "display_data"
    },
    {
     "name": "stdout",
     "output_type": "stream",
     "text": [
      "\n",
      "Lr now: 0.0001\n",
      "Уз----------бб-еее---кк-----ии----сс--т------а-------н- => Узбекистан          , gt: Узбекистан          \n",
      "и  -------------к------ррр---е----п-------к------аа---. => и крепка.           , gt: и крепка.           \n",
      "Чт--------о---тт----о--  сс-л--ыы--шшш---ии--тт--сс--я- => Что-то слышится     , gt: Что-то слышится     \n",
      "до-------------б---е----жж---------ии-------тт--------. => добежит.            , gt: добежит.            \n",
      "На------ввсс-тт---рр---е--ч----уу-----  -мм----нн----е- => Навстречу мне       , gt: Навстречу мне       \n"
     ]
    },
    {
     "data": {
      "application/vnd.jupyter.widget-view+json": {
       "model_id": "9ce9a821370046a6a8ee94d9659f8c7e",
       "version_major": 2,
       "version_minor": 0
      },
      "text/plain": [
       "HBox(children=(FloatProgress(value=0.0, layout=Layout(flex='2'), max=711.0), HTML(value='')), layout=Layout(di…"
      ]
     },
     "metadata": {},
     "output_type": "display_data"
    },
    {
     "name": "stdout",
     "output_type": "stream",
     "text": [
      "\n"
     ]
    },
    {
     "data": {
      "application/vnd.jupyter.widget-view+json": {
       "model_id": "3efde012af1a4351bdc120d8dc6c2b23",
       "version_major": 2,
       "version_minor": 0
      },
      "text/plain": [
       "HBox(children=(FloatProgress(value=0.0, layout=Layout(flex='2'), max=146.0), HTML(value='')), layout=Layout(di…"
      ]
     },
     "metadata": {},
     "output_type": "display_data"
    },
    {
     "name": "stdout",
     "output_type": "stream",
     "text": [
      "\n",
      "Lr now: 0.0001\n",
      "Шым-------------------------кк----ее----н-----------тт- => Шымкент             , gt: Шымкент             \n",
      "мо------------е----йй---   лл--ее--жж----иии----ттт---, => моей лежит,         , gt: моей лежит,         \n",
      "ЮЖ--------Н----А---Я-------   --О--С----Е---Т--------ИЯ => ЮЖНАЯ ОСЕТИЯ        , gt: Южная Осетия        \n",
      "Кач----------------------------------а---------------р- => Качар               , gt: Качар               \n",
      "не---------   н-----аа--гг---л----яя----д---яя--с-ььь-. => не наглядясь.       , gt: не наглядясь.       \n"
     ]
    },
    {
     "data": {
      "application/vnd.jupyter.widget-view+json": {
       "model_id": "d2ef254707fe415aa96566b98a18b153",
       "version_major": 2,
       "version_minor": 0
      },
      "text/plain": [
       "HBox(children=(FloatProgress(value=0.0, layout=Layout(flex='2'), max=711.0), HTML(value='')), layout=Layout(di…"
      ]
     },
     "metadata": {},
     "output_type": "display_data"
    },
    {
     "name": "stdout",
     "output_type": "stream",
     "text": [
      "\n"
     ]
    },
    {
     "data": {
      "application/vnd.jupyter.widget-view+json": {
       "model_id": "14bde494876b4022ae552da78542acad",
       "version_major": 2,
       "version_minor": 0
      },
      "text/plain": [
       "HBox(children=(FloatProgress(value=0.0, layout=Layout(flex='2'), max=146.0), HTML(value='')), layout=Layout(di…"
      ]
     },
     "metadata": {},
     "output_type": "display_data"
    },
    {
     "name": "stdout",
     "output_type": "stream",
     "text": [
      "\n",
      "Lr now: 0.0001\n",
      "Пет------------р----о--пп---а----вв-л----о----в-сс--кк- => Петропавловск       , gt: Петропавловск       \n",
      "Сев----е-рр--о-----К--а-зз-а-хх-сс-тт--аа-н--сс-----кая => Северо-Казахстанская, gt: Северо-Казахстанская\n",
      "ны-------л---оо-  -о--тт---  -р---а-зз-лл---у--к---ии-, => ныло от разлуки,    , gt: ныло от разлуки,    \n",
      "обл---------------------------------------------------- => обл                 , gt: обл                 \n",
      "Та----------------ййй---ыы----н----------шшш---------а- => Тайынша             , gt: Тайынша             \n"
     ]
    },
    {
     "data": {
      "application/vnd.jupyter.widget-view+json": {
       "model_id": "034ddb94ec3b4872a09425164ad0326c",
       "version_major": 2,
       "version_minor": 0
      },
      "text/plain": [
       "HBox(children=(FloatProgress(value=0.0, layout=Layout(flex='2'), max=711.0), HTML(value='')), layout=Layout(di…"
      ]
     },
     "metadata": {},
     "output_type": "display_data"
    },
    {
     "name": "stdout",
     "output_type": "stream",
     "text": [
      "\n"
     ]
    },
    {
     "data": {
      "application/vnd.jupyter.widget-view+json": {
       "model_id": "b53f55b802b046c2b4e626a8fda77b35",
       "version_major": 2,
       "version_minor": 0
      },
      "text/plain": [
       "HBox(children=(FloatProgress(value=0.0, layout=Layout(flex='2'), max=146.0), HTML(value='')), layout=Layout(di…"
      ]
     },
     "metadata": {},
     "output_type": "display_data"
    },
    {
     "name": "stdout",
     "output_type": "stream",
     "text": [
      "\n",
      "Lr now: 0.0001\n",
      "по------ч---у---я---   нн---а----  -п---лл-е-ч--а---хх- => почуя на плечах     , gt: почуя на плечах     \n",
      "Кост------------------а---н----а----йй--с-----------кая => Костанайская        , gt: Костанайская        \n",
      "Арр------------------а-------ллл------ьь-----сс-----кк- => Аральск             , gt: Аральск             \n",
      "Ве--------р---н-е---й---,,--  -в--оо-лл-ч--и----ц---у-, => Верней, волчицу,    , gt: Верней, волчицу,    \n",
      "Кокш---------------------------ее------т------а------у- => Кокшетау            , gt: Кокшетау            \n"
     ]
    },
    {
     "data": {
      "application/vnd.jupyter.widget-view+json": {
       "model_id": "a1f9490675c2463a96c2e989c38b5ff6",
       "version_major": 2,
       "version_minor": 0
      },
      "text/plain": [
       "HBox(children=(FloatProgress(value=0.0, layout=Layout(flex='2'), max=711.0), HTML(value='')), layout=Layout(di…"
      ]
     },
     "metadata": {},
     "output_type": "display_data"
    },
    {
     "name": "stdout",
     "output_type": "stream",
     "text": [
      "\n"
     ]
    },
    {
     "data": {
      "application/vnd.jupyter.widget-view+json": {
       "model_id": "4625b7121a4b4eeebdae35aa37377714",
       "version_major": 2,
       "version_minor": 0
      },
      "text/plain": [
       "HBox(children=(FloatProgress(value=0.0, layout=Layout(flex='2'), max=146.0), HTML(value='')), layout=Layout(di…"
      ]
     },
     "metadata": {},
     "output_type": "display_data"
    },
    {
     "name": "stdout",
     "output_type": "stream",
     "text": [
      "\n",
      "Lr now: 0.0001\n",
      "ко------т--о-рр-----о----юю----    --д--а---н-----о---, => которою дано,       , gt: которою дано,       \n",
      "Уст----ь---КК----а---мм----е--н-----оог---оорр---сс--к- => Усть-Каменогорск    , gt: Усть-Каменогорск    \n",
      "Пет--------------р----о--пп---а----вв-л----о---в-сс-кк- => Петропавловск       , gt: Петропавловск       \n",
      "Ещ------е---  нн-е--  п---о--я--в-ии--в--шш-ии--е-сс-яя => Еще не появившиеся  , gt: Еще не появившиеся  \n",
      "По---------л---нн----оо-чч-----ь----   нн------а-----с- => Полночь нас         , gt: Полночь нас         \n"
     ]
    },
    {
     "data": {
      "application/vnd.jupyter.widget-view+json": {
       "model_id": "0707ea739588401e975b00a04870d6b3",
       "version_major": 2,
       "version_minor": 0
      },
      "text/plain": [
       "HBox(children=(FloatProgress(value=0.0, layout=Layout(flex='2'), max=711.0), HTML(value='')), layout=Layout(di…"
      ]
     },
     "metadata": {},
     "output_type": "display_data"
    },
    {
     "name": "stdout",
     "output_type": "stream",
     "text": [
      "\n"
     ]
    },
    {
     "data": {
      "application/vnd.jupyter.widget-view+json": {
       "model_id": "2dd5ed8108bd4ad49f7b419c93fe553a",
       "version_major": 2,
       "version_minor": 0
      },
      "text/plain": [
       "HBox(children=(FloatProgress(value=0.0, layout=Layout(flex='2'), max=146.0), HTML(value='')), layout=Layout(di…"
      ]
     },
     "metadata": {},
     "output_type": "display_data"
    },
    {
     "name": "stdout",
     "output_type": "stream",
     "text": [
      "\n",
      "Lr now: 0.0001\n",
      "Ко-------ммм----у---??--   -ЛЛ------ю--бб-оо--мм----уу. => Кому? Любому.       , gt: Кому? Любому.       \n",
      "УЗ-----------ББ---ЕЕ---К------ИИ-----СС--Т-----А-----Н- => УЗБЕКИСТАН          , gt: УЗБЕКИСТАН          \n",
      "не-----   зз-а--би-лл--и-------  гг-лл--и--н---о---й--, => не забили глиной,   , gt: не забили глиной,   \n",
      "су------д--ь-бб--у-----   -дд-рр----уу-г--оо-ммм-----у- => судьбу другому      , gt: судьбу другому,     \n",
      "Абх---------------------------а-----з---------------иия => Абхазия             , gt: Абхазия             \n"
     ]
    },
    {
     "data": {
      "application/vnd.jupyter.widget-view+json": {
       "model_id": "704a9f7a949044e482a974282924a50a",
       "version_major": 2,
       "version_minor": 0
      },
      "text/plain": [
       "HBox(children=(FloatProgress(value=0.0, layout=Layout(flex='2'), max=711.0), HTML(value='')), layout=Layout(di…"
      ]
     },
     "metadata": {},
     "output_type": "display_data"
    },
    {
     "name": "stdout",
     "output_type": "stream",
     "text": [
      "\n"
     ]
    },
    {
     "data": {
      "application/vnd.jupyter.widget-view+json": {
       "model_id": "78c688bc4c334b8f981bb4fca7df84a9",
       "version_major": 2,
       "version_minor": 0
      },
      "text/plain": [
       "HBox(children=(FloatProgress(value=0.0, layout=Layout(flex='2'), max=146.0), HTML(value='')), layout=Layout(di…"
      ]
     },
     "metadata": {},
     "output_type": "display_data"
    },
    {
     "name": "stdout",
     "output_type": "stream",
     "text": [
      "\n",
      "Lr now: 0.0001\n",
      "из-----н--е--мм---о-г-а--е---тт---  -п--лл--о--т---ьь-, => изнемогает плоть,   , gt: изнемогает плоть,   \n",
      "От------к----и---нн-----у--в-----  -л----а---п------ыы- => Откинув лапы        , gt: Откинув лапы        \n",
      "ко--------т---о--рр----о-----ю-----    -д---а---н----о- => которою дано        , gt: которою дано        \n",
      "гр--------------ее----мм------------ии----------ттт---. => гремит.             , gt: гремит.             \n",
      "Бел---------------о--рр-------уу---с---сс------------ия => Белоруссия          , gt: Белоруссия          \n"
     ]
    },
    {
     "data": {
      "application/vnd.jupyter.widget-view+json": {
       "model_id": "70a6164b18f94ab0aaeadb836a5e0264",
       "version_major": 2,
       "version_minor": 0
      },
      "text/plain": [
       "HBox(children=(FloatProgress(value=0.0, layout=Layout(flex='2'), max=711.0), HTML(value='')), layout=Layout(di…"
      ]
     },
     "metadata": {},
     "output_type": "display_data"
    },
    {
     "name": "stdout",
     "output_type": "stream",
     "text": [
      "\n"
     ]
    },
    {
     "data": {
      "application/vnd.jupyter.widget-view+json": {
       "model_id": "175bd76f4d5042a19de1c7a456e79e84",
       "version_major": 2,
       "version_minor": 0
      },
      "text/plain": [
       "HBox(children=(FloatProgress(value=0.0, layout=Layout(flex='2'), max=146.0), HTML(value='')), layout=Layout(di…"
      ]
     },
     "metadata": {},
     "output_type": "display_data"
    },
    {
     "name": "stdout",
     "output_type": "stream",
     "text": [
      "\n",
      "Lr now: 0.0001\n",
      "с  -----кк--е----мм----  --в---о---  ффф-рр---а---к--е- => с кем во фраке      , gt: с кем во фраке      \n",
      "Ро----------------------сс-------сс------------------ия => Россия              , gt: Россия              \n",
      "че----------------мм--------  --с------о-----нн---!---. => чем сон!.           , gt: чем сон!..          \n",
      "Пр-------о--тт---ии--вв---  ссс-тт---р---о--г---ии--хх- => Против строгих      , gt: Против строгих      \n",
      "Кир---------------------гг---иии------з--------------ия => Киргизия            , gt: Киргизия            \n"
     ]
    },
    {
     "data": {
      "application/vnd.jupyter.widget-view+json": {
       "model_id": "cb41e4c82c0c4dcc963f5f922314cb58",
       "version_major": 2,
       "version_minor": 0
      },
      "text/plain": [
       "HBox(children=(FloatProgress(value=0.0, layout=Layout(flex='2'), max=711.0), HTML(value='')), layout=Layout(di…"
      ]
     },
     "metadata": {},
     "output_type": "display_data"
    },
    {
     "name": "stdout",
     "output_type": "stream",
     "text": [
      "\n"
     ]
    },
    {
     "data": {
      "application/vnd.jupyter.widget-view+json": {
       "model_id": "ec06358b6d134f94a321c3bca88614b3",
       "version_major": 2,
       "version_minor": 0
      },
      "text/plain": [
       "HBox(children=(FloatProgress(value=0.0, layout=Layout(flex='2'), max=146.0), HTML(value='')), layout=Layout(di…"
      ]
     },
     "metadata": {},
     "output_type": "display_data"
    },
    {
     "name": "stdout",
     "output_type": "stream",
     "text": [
      "\n",
      "Lr now: 0.0001\n",
      "оп------------------------яя---------ттт-------------ь- => опять               , gt: опять               \n",
      "Зл-------------------------------ыыы-----------------е- => Злые                , gt: Злые                \n",
      "Кар------------аа--г---а--нн---дд--и--н--сс---------кая => Карагандинская      , gt: Карагандинская      \n",
      "Пе---------р----е---дд-----   мм-----нн----оо------ййй- => Перед мной          , gt: Перед мной          \n",
      "А, ----т---о--ч--нн--ее--е-,,,-  -мм------а--ттьь....-. => А, точнее, мать..   , gt: А, точнее, мать..   \n"
     ]
    },
    {
     "data": {
      "application/vnd.jupyter.widget-view+json": {
       "model_id": "fcba26c80f5a4362814a0b3227086059",
       "version_major": 2,
       "version_minor": 0
      },
      "text/plain": [
       "HBox(children=(FloatProgress(value=0.0, layout=Layout(flex='2'), max=711.0), HTML(value='')), layout=Layout(di…"
      ]
     },
     "metadata": {},
     "output_type": "display_data"
    },
    {
     "name": "stdout",
     "output_type": "stream",
     "text": [
      "\n"
     ]
    },
    {
     "data": {
      "application/vnd.jupyter.widget-view+json": {
       "model_id": "b764970bec3343d790f714ba11d17f39",
       "version_major": 2,
       "version_minor": 0
      },
      "text/plain": [
       "HBox(children=(FloatProgress(value=0.0, layout=Layout(flex='2'), max=146.0), HTML(value='')), layout=Layout(di…"
      ]
     },
     "metadata": {},
     "output_type": "display_data"
    },
    {
     "name": "stdout",
     "output_type": "stream",
     "text": [
      "\n",
      "Lr now: 0.0001\n",
      "АЛМ-------------------------------А------Т-----------Ы- => АЛМАТЫ              , gt: АЛМАТЫ              \n",
      "С --------г-л--оо-т-кк-аа---мм--ии--  -вв--   н---и--х- => С глотками в них    , gt: С глотками в них    \n",
      "КОСТ-------------------------А-----Н--------АА-------Й- => КОСТАНАЙ            , gt: КОСТАНАЙ            \n",
      "Гу---с-т---у---юю----  хх---о--л--оо-ддее---юю---щ--у-ю => Густую холодеющую   , gt: Густую холодеющую   \n",
      "ро----------------------ддд-----нн-----------о-------е- => родное              , gt: родное              \n"
     ]
    },
    {
     "data": {
      "application/vnd.jupyter.widget-view+json": {
       "model_id": "57488341beb34b60aa58fc6203748e10",
       "version_major": 2,
       "version_minor": 0
      },
      "text/plain": [
       "HBox(children=(FloatProgress(value=0.0, layout=Layout(flex='2'), max=711.0), HTML(value='')), layout=Layout(di…"
      ]
     },
     "metadata": {},
     "output_type": "display_data"
    },
    {
     "name": "stdout",
     "output_type": "stream",
     "text": [
      "\n"
     ]
    },
    {
     "data": {
      "application/vnd.jupyter.widget-view+json": {
       "model_id": "646c9710fce340a8be1a08a002b6391d",
       "version_major": 2,
       "version_minor": 0
      },
      "text/plain": [
       "HBox(children=(FloatProgress(value=0.0, layout=Layout(flex='2'), max=146.0), HTML(value='')), layout=Layout(di…"
      ]
     },
     "metadata": {},
     "output_type": "display_data"
    },
    {
     "name": "stdout",
     "output_type": "stream",
     "text": [
      "\n",
      "Lr now: 0.0001\n",
      "бы---------------   -лл----е----тт-----аа-----тт-----ь- => бы летать           , gt: бы летать           \n",
      "кр------------------------------о--------вв-------ь---. => кровь.              , gt: кровь.              \n",
      "И  -----------к---р----а----с---и-----вв---о--мм-----у- => И красивому         , gt: И красивому         \n",
      "Кост----------------------аа----н---------а----------и- => Костанаи            , gt: Костанаи            \n",
      "Акт------------------------------о--------б----------е- => Актобе              , gt: Актобе              \n"
     ]
    },
    {
     "data": {
      "application/vnd.jupyter.widget-view+json": {
       "model_id": "36b6525e2c59449c905bea6263882c4c",
       "version_major": 2,
       "version_minor": 0
      },
      "text/plain": [
       "HBox(children=(FloatProgress(value=0.0, layout=Layout(flex='2'), max=711.0), HTML(value='')), layout=Layout(di…"
      ]
     },
     "metadata": {},
     "output_type": "display_data"
    },
    {
     "name": "stdout",
     "output_type": "stream",
     "text": [
      "\n"
     ]
    },
    {
     "data": {
      "application/vnd.jupyter.widget-view+json": {
       "model_id": "b59bd58b639d42b8ba5c0b33cea44b6d",
       "version_major": 2,
       "version_minor": 0
      },
      "text/plain": [
       "HBox(children=(FloatProgress(value=0.0, layout=Layout(flex='2'), max=146.0), HTML(value='')), layout=Layout(di…"
      ]
     },
     "metadata": {},
     "output_type": "display_data"
    }
   ],
   "source": [
    "ep = 100\n",
    "\n",
    "train_loss = []\n",
    "train_acc_char = []\n",
    "train_acc_str = []\n",
    "train_cer = []\n",
    "\n",
    "val_loss = []\n",
    "val_acc_char = []\n",
    "val_acc_str = []\n",
    "val_cer = []\n",
    "\n",
    "best_str_acc = 0\n",
    "\n",
    "for epoch in range(ep):\n",
    "    train_epoch_loss = []\n",
    "    \n",
    "    train_epoch_acc_char = []\n",
    "    train_epoch_acc_str = []\n",
    "    train_epoch_cer = []\n",
    "    \n",
    "    with tqdm(total = len(train_dataloader), ncols='100%') as bar_train:\n",
    "        for i, (images, gt_text) in enumerate(train_dataloader):\n",
    "\n",
    "            results = train_on_batch_rec(images, gt_text, net, ocr_loss, optimizer, device, batch_size, converter)\n",
    "            loss, acc_char, acc_str, cer = results\n",
    "            \n",
    "            train_epoch_loss.append(loss)\n",
    "            train_epoch_acc_char.append(acc_char)\n",
    "            train_epoch_acc_str.append(acc_str)\n",
    "            train_epoch_cer.append(cer)\n",
    "\n",
    "            printed_data = f\"Ep: {epoch}. Train loss: {np.mean(train_epoch_loss):.4f}.\\\n",
    "            Acc char: {np.mean(train_epoch_acc_char):.4f}.\\\n",
    "            Acc str: {np.mean(train_epoch_acc_str):.4f}.\\\n",
    "            CER: {np.mean(train_epoch_cer):.4f}.\"\n",
    "            bar_train.set_description(printed_data)\n",
    "            bar_train.update(1)\n",
    "            \n",
    "    train_loss.append(np.mean(train_epoch_loss))\n",
    "    \n",
    "    train_acc_char.append(np.mean(train_epoch_acc_char))\n",
    "    train_acc_str.append(np.mean(train_epoch_acc_str))\n",
    "    train_cer.append(np.mean(train_epoch_cer))\n",
    "    \n",
    "    \n",
    "    val_epoch_loss = []\n",
    "    \n",
    "    val_epoch_acc_char = []\n",
    "    val_epoch_acc_str = []\n",
    "    val_epoch_cer = []\n",
    "    \n",
    "    with tqdm(total = len(val_dataloader), ncols='100%') as bar_val:\n",
    "        for i, (images, gt_text) in enumerate(val_dataloader):\n",
    "\n",
    "            results = val_on_batch_rec(images, gt_text, net, ocr_loss, device, batch_size, converter)\n",
    "            loss, acc_char, acc_str, cer, decode_text, gt_text, raw_preds = results\n",
    "            \n",
    "            val_epoch_loss.append(loss)\n",
    "            val_epoch_acc_char.append(acc_char)\n",
    "            val_epoch_acc_str.append(acc_str)\n",
    "            val_epoch_cer.append(cer)\n",
    "\n",
    "            printed_data = f\"Ep: {epoch}. Val loss: {np.mean(val_epoch_loss):.4f}.\\\n",
    "            Acc char: {np.mean(val_epoch_acc_char):.4f}.\\\n",
    "            Acc str: {np.mean(val_epoch_acc_str):.4f}.\\\n",
    "            CER: {np.mean(val_epoch_cer):.4f}.\"\n",
    "            bar_val.set_description(printed_data)\n",
    "            bar_val.update(1)\n",
    "        \n",
    "    val_loss.append(np.mean(val_epoch_loss))\n",
    "    \n",
    "    val_acc_char.append(np.mean(val_epoch_acc_char))\n",
    "    val_acc_str.append(np.mean(val_epoch_acc_str))\n",
    "    val_cer.append(np.mean(val_epoch_cer))\n",
    "    \n",
    "    print('Lr now:', optimizer.param_groups[0]['lr'])\n",
    "\n",
    "    for raw_pred, pred, gt in zip(raw_preds, decode_text, gt_text):\n",
    "        print('%-20s => %-20s, gt: %-20s' % (raw_pred, pred, gt)) \n",
    "    \n",
    "    if epoch == 40:\n",
    "        for g in optimizer.param_groups:\n",
    "            g['lr'] = g['lr']*0.1\n",
    "        print('Lr now:', optimizer.param_groups[0]['lr'])\n",
    "        \n",
    "    if epoch == 70:\n",
    "        for g in optimizer.param_groups:\n",
    "            g['lr'] = g['lr']*0.1\n",
    "        print('Lr now:', optimizer.param_groups[0]['lr'])"
   ]
  },
  {
   "cell_type": "code",
   "execution_count": null,
   "metadata": {},
   "outputs": [],
   "source": []
  }
 ],
 "metadata": {
  "kernelspec": {
   "display_name": "Python 3",
   "language": "python",
   "name": "python3"
  },
  "language_info": {
   "codemirror_mode": {
    "name": "ipython",
    "version": 3
   },
   "file_extension": ".py",
   "mimetype": "text/x-python",
   "name": "python",
   "nbconvert_exporter": "python",
   "pygments_lexer": "ipython3",
   "version": "3.7.7"
  }
 },
 "nbformat": 4,
 "nbformat_minor": 4
}
