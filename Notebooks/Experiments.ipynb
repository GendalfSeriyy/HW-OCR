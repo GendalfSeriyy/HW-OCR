{
 "cells": [
  {
   "cell_type": "code",
   "execution_count": 1,
   "metadata": {},
   "outputs": [],
   "source": [
    "import sys\n",
    "sys.path.append('/home/storage/3020/KrivorotovI/db/HKR/')\n",
    "from htrl.trainer import Trainer"
   ]
  },
  {
   "cell_type": "markdown",
   "metadata": {},
   "source": [
    "# Experiment CRNN"
   ]
  },
  {
   "cell_type": "code",
   "execution_count": null,
   "metadata": {},
   "outputs": [
    {
     "data": {
      "application/vnd.jupyter.widget-view+json": {
       "model_id": "43d0cad3c3374bd1a9f611baa86c775b",
       "version_major": 2,
       "version_minor": 0
      },
      "text/plain": [
       "HBox(children=(FloatProgress(value=0.0, max=711.0), HTML(value='')))"
      ]
     },
     "metadata": {},
     "output_type": "display_data"
    },
    {
     "name": "stdout",
     "output_type": "stream",
     "text": [
      "\n"
     ]
    },
    {
     "data": {
      "application/vnd.jupyter.widget-view+json": {
       "model_id": "b02acb241a424d7388384c2db6c97055",
       "version_major": 2,
       "version_minor": 0
      },
      "text/plain": [
       "HBox(children=(FloatProgress(value=0.0, max=146.0), HTML(value='')))"
      ]
     },
     "metadata": {},
     "output_type": "display_data"
    },
    {
     "name": "stdout",
     "output_type": "stream",
     "text": [
      "\n",
      "К----------------------------- ----------------------- => К                   , gt: Южная Осетия        \n",
      "н---------------  -----------------------------------, => н ,                 , gt: пред аналоем,       \n",
      "К----------------------------------------------------- => К                   , gt: ПАВЛОДАРСКАЯ        \n",
      "К----------------------------------------------------- => К                   , gt: часовая             \n",
      "К--------------------------  --------------- --------- => К                   , gt: долго, долго        \n"
     ]
    },
    {
     "data": {
      "application/vnd.jupyter.widget-view+json": {
       "model_id": "fbd0a6856925446c8ec2cf7a2dc13799",
       "version_major": 2,
       "version_minor": 0
      },
      "text/plain": [
       "HBox(children=(FloatProgress(value=0.0, max=711.0), HTML(value='')))"
      ]
     },
     "metadata": {},
     "output_type": "display_data"
    },
    {
     "name": "stdout",
     "output_type": "stream",
     "text": [
      "\n"
     ]
    },
    {
     "data": {
      "application/vnd.jupyter.widget-view+json": {
       "model_id": "3c844056d2014375b243fefb89a01bfb",
       "version_major": 2,
       "version_minor": 0
      },
      "text/plain": [
       "HBox(children=(FloatProgress(value=0.0, max=146.0), HTML(value='')))"
      ]
     },
     "metadata": {},
     "output_type": "display_data"
    },
    {
     "name": "stdout",
     "output_type": "stream",
     "text": [
      "\n",
      "б---------------й---------------в--------------------- => бйв                 , gt: Южная Осетия        \n",
      "К-------в-----------------------------------------я--- => Квя                 , gt: пред аналоем,       \n",
      "К---------б---------й------й-------й------------я---яя => Кбйййяя             , gt: ПАВЛОДАРСКАЯ        \n",
      "в-------------------------------------------------е--- => ве                  , gt: часовая             \n",
      "К-------------------------------------------------я--- => Кя                  , gt: долго, долго        \n"
     ]
    },
    {
     "data": {
      "application/vnd.jupyter.widget-view+json": {
       "model_id": "92ebe7d2df95429492d7cc28c304d124",
       "version_major": 2,
       "version_minor": 0
      },
      "text/plain": [
       "HBox(children=(FloatProgress(value=0.0, max=711.0), HTML(value='')))"
      ]
     },
     "metadata": {},
     "output_type": "display_data"
    },
    {
     "name": "stdout",
     "output_type": "stream",
     "text": [
      "\n"
     ]
    },
    {
     "data": {
      "application/vnd.jupyter.widget-view+json": {
       "model_id": "f66691ad0663416f9716c3338dd19e58",
       "version_major": 2,
       "version_minor": 0
      },
      "text/plain": [
       "HBox(children=(FloatProgress(value=0.0, max=146.0), HTML(value='')))"
      ]
     },
     "metadata": {},
     "output_type": "display_data"
    },
    {
     "name": "stdout",
     "output_type": "stream",
     "text": [
      "\n",
      "Saving trainer to /home/storage/3020/KrivorotovI/db/HKR/test.\n",
      "Trainer is saved.\n",
      "Model improved on valid with loss: 0.5793605644817221\n",
      "ю------ж-е-е----а-----я------  о---сс-ее-т-----и----я- => южееая осетия       , gt: Южная Осетия        \n",
      "п---р--е--дд-----  а----н----а----л----о---е----м----, => пред аналоем,       , gt: пред аналоем,       \n",
      "П---а-----В----л----О---Д-----а----Р---с---к----а---я- => ПаВлОДаРская        , gt: ПАВЛОДАРСКАЯ        \n",
      "к------а--------с-----о------в------а------------р---- => касовар             , gt: часовая             \n",
      "д---а-----л--г--о---,,-----  --д---а-----е---гг---о--- => далго, даего        , gt: долго, долго        \n"
     ]
    },
    {
     "data": {
      "application/vnd.jupyter.widget-view+json": {
       "model_id": "78eba9407de140c4898175f53d173211",
       "version_major": 2,
       "version_minor": 0
      },
      "text/plain": [
       "HBox(children=(FloatProgress(value=0.0, max=711.0), HTML(value='')))"
      ]
     },
     "metadata": {},
     "output_type": "display_data"
    },
    {
     "name": "stdout",
     "output_type": "stream",
     "text": [
      "\n"
     ]
    },
    {
     "data": {
      "application/vnd.jupyter.widget-view+json": {
       "model_id": "d5c4751ed45e4d8792178c7160069eeb",
       "version_major": 2,
       "version_minor": 0
      },
      "text/plain": [
       "HBox(children=(FloatProgress(value=0.0, max=146.0), HTML(value='')))"
      ]
     },
     "metadata": {},
     "output_type": "display_data"
    },
    {
     "name": "stdout",
     "output_type": "stream",
     "text": [
      "\n",
      "Ю-----жж---и----а-----я------  о---с--е--т---------л-- => Южиая осетл         , gt: Южная Осетия        \n",
      "п---р--и---д-------а----р---а-----д----од--и--р------, => придарадодир,       , gt: пред аналоем,       \n",
      "П---а-----В----л----о---Д-----А----Р---с---к----А---Я- => ПаВлоДАРскАЯ        , gt: ПАВЛОДАРСКАЯ        \n",
      "У---------------с-----о-----вв------а------------я---- => Усовая              , gt: часовая             \n",
      "д---о--------г--о----з---------д---а----------г---о--- => догоздаго           , gt: долго, долго        \n"
     ]
    },
    {
     "data": {
      "application/vnd.jupyter.widget-view+json": {
       "model_id": "69bf9db3446c44d19fd31a2c58158c60",
       "version_major": 2,
       "version_minor": 0
      },
      "text/plain": [
       "HBox(children=(FloatProgress(value=0.0, max=711.0), HTML(value='')))"
      ]
     },
     "metadata": {},
     "output_type": "display_data"
    },
    {
     "name": "stdout",
     "output_type": "stream",
     "text": [
      "\n"
     ]
    },
    {
     "data": {
      "application/vnd.jupyter.widget-view+json": {
       "model_id": "d6136b9d228c423187c71c7d8d497d7a",
       "version_major": 2,
       "version_minor": 0
      },
      "text/plain": [
       "HBox(children=(FloatProgress(value=0.0, max=146.0), HTML(value='')))"
      ]
     },
     "metadata": {},
     "output_type": "display_data"
    },
    {
     "name": "stdout",
     "output_type": "stream",
     "text": [
      "\n",
      "Saving trainer to /home/storage/3020/KrivorotovI/db/HKR/test.\n",
      "Trainer is saved.\n",
      "Model improved on valid with loss: 0.37106123893228293\n",
      "Ю-----жж---н----а-----я------  О---с--е--т-----и----я- => Южная Осетия        , gt: Южная Осетия        \n",
      "п---р--ее--д----   а----н---а-----л----о---е---м-----, => пред аналоем,       , gt: пред аналоем,       \n",
      "П---А-----В----л----о---Д-----А----Р---с---К----а---я- => ПАВлоДАРсКая        , gt: ПАВЛОДАРСКАЯ        \n",
      "К------а--------с-----о------в------а------------р---- => Касовар             , gt: часовая             \n",
      "д---о-----л--г--о----,,----  --д---а-----л----г---о--- => долго, далго        , gt: долго, долго        \n"
     ]
    },
    {
     "data": {
      "application/vnd.jupyter.widget-view+json": {
       "model_id": "0297077745dc4868a9e71588e801518b",
       "version_major": 2,
       "version_minor": 0
      },
      "text/plain": [
       "HBox(children=(FloatProgress(value=0.0, max=711.0), HTML(value='')))"
      ]
     },
     "metadata": {},
     "output_type": "display_data"
    },
    {
     "name": "stdout",
     "output_type": "stream",
     "text": [
      "\n"
     ]
    },
    {
     "data": {
      "application/vnd.jupyter.widget-view+json": {
       "model_id": "a482a6e875a54fc9a8a65b3e9f18b1d6",
       "version_major": 2,
       "version_minor": 0
      },
      "text/plain": [
       "HBox(children=(FloatProgress(value=0.0, max=146.0), HTML(value='')))"
      ]
     },
     "metadata": {},
     "output_type": "display_data"
    },
    {
     "name": "stdout",
     "output_type": "stream",
     "text": [
      "\n",
      "Saving trainer to /home/storage/3020/KrivorotovI/db/HKR/test.\n",
      "Trainer is saved.\n",
      "Model improved on valid with loss: 0.31295106835561254\n",
      "Ю------ж---н---аа-----я------  О---с--е--т----и-----л- => Южная Осетил        , gt: Южная Осетия        \n",
      "п---р--е---д----  -а----н---а----л-----о--ее---м-----, => пред аналоем,       , gt: пред аналоем,       \n",
      "П---А-----В----Л----О---Д-----А----Р---С---К---А----Я- => ПАВЛОДАРСКАЯ        , gt: ПАВЛОДАРСКАЯ        \n",
      "к------а--------с----о-------в------а------------я---- => касовая             , gt: часовая             \n",
      "д---о----лл--г--о----,,----  --д--а-----лл----г---о--- => долго, далго        , gt: долго, долго        \n"
     ]
    },
    {
     "data": {
      "application/vnd.jupyter.widget-view+json": {
       "model_id": "ef3fcde431c241549339b890d4af700a",
       "version_major": 2,
       "version_minor": 0
      },
      "text/plain": [
       "HBox(children=(FloatProgress(value=0.0, max=711.0), HTML(value='')))"
      ]
     },
     "metadata": {},
     "output_type": "display_data"
    },
    {
     "name": "stdout",
     "output_type": "stream",
     "text": [
      "\n"
     ]
    },
    {
     "data": {
      "application/vnd.jupyter.widget-view+json": {
       "model_id": "2eef2c04b05b4a3d9df961cf10567549",
       "version_major": 2,
       "version_minor": 0
      },
      "text/plain": [
       "HBox(children=(FloatProgress(value=0.0, max=146.0), HTML(value='')))"
      ]
     },
     "metadata": {},
     "output_type": "display_data"
    },
    {
     "name": "stdout",
     "output_type": "stream",
     "text": [
      "\n",
      "Ю-----ж----н----а----я-------  -О--с--е--тт---ии----я- => Южная Осетия        , gt: Южная Осетия        \n",
      "п---р--е---д-----  а----р----а----л----о---и---м-----, => пред аралоим,       , gt: пред аналоем,       \n",
      "П---А-----В----Л----о---Д-----А----р---с---к----А---я- => ПАВЛоДАрскАя        , gt: ПАВЛОДАРСКАЯ        \n",
      "ч------а--------с-----о------в------а----------------- => часова              , gt: часовая             \n",
      "д---а-----л--г--о----,,----- --д---а----------г---о--- => далго, даго         , gt: долго, долго        \n"
     ]
    },
    {
     "data": {
      "application/vnd.jupyter.widget-view+json": {
       "model_id": "73d9035d505e4539add4fe168ebc6dea",
       "version_major": 2,
       "version_minor": 0
      },
      "text/plain": [
       "HBox(children=(FloatProgress(value=0.0, max=711.0), HTML(value='')))"
      ]
     },
     "metadata": {},
     "output_type": "display_data"
    }
   ],
   "source": [
    "init_dict = {'device': 'cuda:3',\n",
    "             'save_folder': '/home/storage/3020/KrivorotovI/db/HKR/test',\n",
    "             \n",
    "             'train_dataset':{'pickle_file': '/home/storage/3020/KrivorotovI/db/HKR/datasets/train.pkl',\n",
    "                              'meta': False,\n",
    "                              'num_imgs': -1,\n",
    "                              'rescale_mode': True,\n",
    "                              'padding_mode': False},\n",
    "             'valid_dataset': {'pickle_file': '/home/storage/3020/KrivorotovI/db/HKR/datasets/val.pkl',\n",
    "                               'meta': False,\n",
    "                               'num_imgs': -1,\n",
    "                               'rescale_mode': True,\n",
    "                               'padding_mode': False},\n",
    "             'test1_dataset': {'pickle_file': '/home/storage/3020/KrivorotovI/db/HKR/datasets/test1.pkl',\n",
    "                               'meta': False,\n",
    "                               'num_imgs': -1,\n",
    "                               'rescale_mode': True,\n",
    "                               'padding_mode': False},\n",
    "             'test2_dataset': {'pickle_file': '/home/storage/3020/KrivorotovI/db/HKR/datasets/test2.pkl',\n",
    "                               'meta': False,\n",
    "                               'num_imgs': -1,\n",
    "                               'rescale_mode': True,\n",
    "                               'padding_mode': False},\n",
    "             'num_imgs': -1, 'num_workers': 1, 'batch_size': 64, 'seed': 34, 'max_epochs': 10, 'model_pretrain': '',\n",
    "             \n",
    "             'model_params':{'name': 'CRNN',\n",
    "                             'imgH': 32,\n",
    "                             'nc': 3,\n",
    "                             'nclass': 80,\n",
    "                             'nh': 256,\n",
    "                             'n_rnn': 2,\n",
    "                             'leakyRelu': False\n",
    "                             },\n",
    "             \n",
    "             'optimizer_params':{'lr': 0.001},\n",
    "             'scheduler_params':{'milestones':[40, 70],\n",
    "                                 'gamma': 0.1}}\n",
    "trainer = Trainer(**init_dict)\n",
    "trainer.train()"
   ]
  },
  {
   "cell_type": "markdown",
   "metadata": {},
   "source": [
    "# Experiment FCNN"
   ]
  },
  {
   "cell_type": "code",
   "execution_count": 3,
   "metadata": {},
   "outputs": [
    {
     "data": {
      "application/vnd.jupyter.widget-view+json": {
       "model_id": "d534d34052d34224b67957be0678e56f",
       "version_major": 2,
       "version_minor": 0
      },
      "text/plain": [
       "HBox(children=(FloatProgress(value=0.0, max=711.0), HTML(value='')))"
      ]
     },
     "metadata": {},
     "output_type": "display_data"
    },
    {
     "name": "stdout",
     "output_type": "stream",
     "text": [
      "\n",
      "Stopped training\n",
      "Saving trainer to /home/storage/3020/KrivorotovI/db/HKR/test.\n",
      "Trainer is saved.\n"
     ]
    }
   ],
   "source": [
    "init_dict = {'device': 'cuda:3',\n",
    "             'save_folder': '/home/storage/3020/KrivorotovI/db/HKR/test',\n",
    "             \n",
    "             'train_dataset':{'pickle_file': '/home/storage/3020/KrivorotovI/db/HKR/datasets/train.pkl',\n",
    "                              'meta': False,\n",
    "                              'num_imgs': -1,\n",
    "                              'rescale_mode': True,\n",
    "                              'padding_mode': False},\n",
    "             'valid_dataset': {'pickle_file': '/home/storage/3020/KrivorotovI/db/HKR/datasets/val.pkl',\n",
    "                               'meta': False,\n",
    "                               'num_imgs': -1,\n",
    "                               'rescale_mode': True,\n",
    "                               'padding_mode': False},\n",
    "             'test1_dataset': {'pickle_file': '/home/storage/3020/KrivorotovI/db/HKR/datasets/test1.pkl',\n",
    "                               'meta': False,\n",
    "                               'num_imgs': -1,\n",
    "                               'rescale_mode': True,\n",
    "                               'padding_mode': False},\n",
    "             'test2_dataset': {'pickle_file': '/home/storage/3020/KrivorotovI/db/HKR/datasets/test2.pkl',\n",
    "                               'meta': False,\n",
    "                               'num_imgs': -1,\n",
    "                               'rescale_mode': True,\n",
    "                               'padding_mode': False},\n",
    "             \n",
    "             'num_imgs': -1, 'num_workers': 1, 'batch_size': 64, 'seed': 34, 'max_epochs': 10, 'model_pretrain': '',\n",
    "             \n",
    "             'model_params':{'name': 'FCNN',\n",
    "                             'nc': 3,\n",
    "                             },\n",
    "             \n",
    "             'optimizer_params':{'lr': 0.001},\n",
    "             'scheduler_params':{'milestones':[40, 70],\n",
    "                                 'gamma': 0.1}}\n",
    "trainer = Trainer(**init_dict)\n",
    "trainer.train()"
   ]
  },
  {
   "cell_type": "code",
   "execution_count": null,
   "metadata": {},
   "outputs": [],
   "source": []
  }
 ],
 "metadata": {
  "kernelspec": {
   "display_name": "Python 3",
   "language": "python",
   "name": "python3"
  },
  "language_info": {
   "codemirror_mode": {
    "name": "ipython",
    "version": 3
   },
   "file_extension": ".py",
   "mimetype": "text/x-python",
   "name": "python",
   "nbconvert_exporter": "python",
   "pygments_lexer": "ipython3",
   "version": "3.7.7"
  }
 },
 "nbformat": 4,
 "nbformat_minor": 4
}
