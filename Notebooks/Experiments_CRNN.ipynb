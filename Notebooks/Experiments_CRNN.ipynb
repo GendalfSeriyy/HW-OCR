{
 "cells": [
  {
   "cell_type": "code",
   "execution_count": 1,
   "metadata": {},
   "outputs": [],
   "source": [
    "import sys\n",
    "sys.path.append('/home/storage/3020/KrivorotovI/db/HW-OCR/')\n",
    "from hwocr.trainer import Trainer"
   ]
  },
  {
   "cell_type": "markdown",
   "metadata": {},
   "source": [
    "# Experiment CRNN"
   ]
  },
  {
   "cell_type": "code",
   "execution_count": null,
   "metadata": {},
   "outputs": [],
   "source": [
    "init_dict = {'device': 'cuda:9',\n",
    "             'save_folder': '/home/storage/3020/KrivorotovI/db/HW-OCR/pretrained_models/CRNN_1',\n",
    "             \n",
    "             'train_dataset':{'pickle_file': '/home/storage/3020/KrivorotovI/db/HW-OCR/datasets/train.pkl',\n",
    "                              'meta': False,\n",
    "                              'num_imgs': -1,\n",
    "                              'rescale_mode': True,\n",
    "                              'padding_mode': False},\n",
    "             'valid_dataset': {'pickle_file': '/home/storage/3020/KrivorotovI/db/HW-OCR/datasets/val.pkl',\n",
    "                               'meta': False,\n",
    "                               'num_imgs': -1,\n",
    "                               'rescale_mode': True,\n",
    "                               'padding_mode': False},\n",
    "             'test1_dataset': {'pickle_file': '/home/storage/3020/KrivorotovI/db/HKR/datasets/test1_clear.pkl',\n",
    "                               'meta': False,\n",
    "                               'num_imgs': -1,\n",
    "                               'rescale_mode': True,\n",
    "                               'padding_mode': False},\n",
    "             'test2_dataset': {'pickle_file': '/home/storage/3020/KrivorotovI/db/HW-OCR/datasets/test2.pkl',\n",
    "                               'meta': False,\n",
    "                               'num_imgs': -1,\n",
    "                               'rescale_mode': True,\n",
    "                               'padding_mode': False},\n",
    "             'num_imgs': -1, 'num_workers': 1, 'batch_size': 64, 'seed': 34, 'max_epochs': 100, 'model_pretrain': '',\n",
    "             \n",
    "             'model_params':{'name': 'CRNN',\n",
    "                             'imgH': 32,\n",
    "                             'nc': 3,\n",
    "                             'nclass': 80,\n",
    "                             'nh': 256,\n",
    "                             'n_rnn': 2,\n",
    "                             'leakyRelu': False\n",
    "                             },\n",
    "             \n",
    "             'optimizer_params':{'class': 'RMSprop',\n",
    "                                 'parameters':{'lr': 0.001}\n",
    "                                 },\n",
    "             'scheduler_params':{'milestones':[40, 70],\n",
    "                                 'gamma': 0.1}}\n",
    "trainer = Trainer(**init_dict)\n",
    "trainer.train()"
   ]
  },
  {
   "cell_type": "markdown",
   "metadata": {},
   "source": [
    "# Test models"
   ]
  },
  {
   "cell_type": "markdown",
   "metadata": {},
   "source": [
    "Последняя модель на test1"
   ]
  },
  {
   "cell_type": "code",
   "execution_count": 3,
   "metadata": {},
   "outputs": [
    {
     "data": {
      "application/vnd.jupyter.widget-view+json": {
       "model_id": "e5c3d1cb4b86406bbcbc3c72df14281e",
       "version_major": 2,
       "version_minor": 0
      },
      "text/plain": [
       "HBox(children=(FloatProgress(value=0.0, layout=Layout(flex='2'), max=74.0), HTML(value='')), layout=Layout(dis…"
      ]
     },
     "metadata": {},
     "output_type": "display_data"
    },
    {
     "name": "stdout",
     "output_type": "stream",
     "text": [
      "\n",
      "М------------------аа-----к---------аа--------тт------ => Макат               , gt: Макат               \n",
      "К---------а----рр----аа--гг-----аа---нн--------д----а- => Караганда           , gt: Караганда           \n",
      "с---вв--о---б--о--д---у-   м------о---т--и---т--ь-??-- => свободу мотить?     , gt: свободу любить?     \n",
      "С---------е---------мм------------е---------------йй-- => Семей               , gt: Семей               \n",
      "У--------------мм-------тт-------------о----б-------е- => Умтобе              , gt: Уштобе              \n",
      "Lr now: 1e-05\n",
      "CER: 0.13834106151992823\n",
      "WER: 0.4269601632882883\n"
     ]
    }
   ],
   "source": [
    "trainer.validate(iterator = trainer.test1_iterator, test = True)"
   ]
  },
  {
   "cell_type": "markdown",
   "metadata": {},
   "source": [
    "Последняя модель на test2"
   ]
  },
  {
   "cell_type": "code",
   "execution_count": 4,
   "metadata": {},
   "outputs": [
    {
     "data": {
      "application/vnd.jupyter.widget-view+json": {
       "model_id": "4ba0aff60b74405db8c5cbeb699873b0",
       "version_major": 2,
       "version_minor": 0
      },
      "text/plain": [
       "HBox(children=(FloatProgress(value=0.0, layout=Layout(flex='2'), max=78.0), HTML(value='')), layout=Layout(dis…"
      ]
     },
     "metadata": {},
     "output_type": "display_data"
    },
    {
     "name": "stdout",
     "output_type": "stream",
     "text": [
      "\n",
      "в----п-------о----т------ь----мм--------а------х-----. => впотьмах.           , gt: впотьмах.           \n",
      "А--------т----ыы--рр----а-----уу--сс--кк-----аа-----я- => Атырауская          , gt: Атырауская          \n",
      "е--гг----о-  -п-----------и-----т------аа--ее---ттт--- => его питает          , gt: его питает          \n",
      "о-------пп---------------яя------------т------------ь- => опять               , gt: опять               \n",
      "П------а--в---ллл----оо--д---аа-рр----сскк----аа----я- => Павлодарская        , gt: Павлодарская        \n",
      "Lr now: 1e-05\n",
      "CER: 0.03138147858840286\n",
      "WER: 0.10724158653846153\n"
     ]
    }
   ],
   "source": [
    "trainer.validate(iterator = trainer.test2_iterator, test = True)"
   ]
  },
  {
   "cell_type": "markdown",
   "metadata": {},
   "source": [
    "Лучшая по лоссу модель"
   ]
  },
  {
   "cell_type": "code",
   "execution_count": 7,
   "metadata": {},
   "outputs": [],
   "source": [
    "trainer = Trainer.load(load_folder='/home/storage/3020/KrivorotovI/db/HW-OCR/pretrained_models/CRNN_1',\n",
    "                       load_policy='best',\n",
    "                       device='cuda:9')"
   ]
  },
  {
   "cell_type": "code",
   "execution_count": 8,
   "metadata": {},
   "outputs": [
    {
     "data": {
      "application/vnd.jupyter.widget-view+json": {
       "model_id": "48c5221b5ecb41e0b22439b4d816a5bd",
       "version_major": 2,
       "version_minor": 0
      },
      "text/plain": [
       "HBox(children=(FloatProgress(value=0.0, layout=Layout(flex='2'), max=74.0), HTML(value='')), layout=Layout(dis…"
      ]
     },
     "metadata": {},
     "output_type": "display_data"
    },
    {
     "name": "stdout",
     "output_type": "stream",
     "text": [
      "\n",
      "К----ы---з--ыы--лл--оо-рр---д---ии--н----с-кк----а--я- => Кызылординская      , gt: Кызылординская      \n",
      "М-------а----н--гг---и---с-т---аа----у---с-к----а---я- => Мангистауская       , gt: Мангистауская       \n",
      "С-----------е-----------м------------е-----------йй--- => Семей               , gt: Семей               \n",
      "о-----е-----щ--а-----юю   в--------е-рр--ии---т----ь-, => оещаю верить,       , gt: обещаю верить,      \n",
      "К--------а---рр-------а-гг------а----н-----дд------а-- => Караганда           , gt: Караганда           \n",
      "Lr now: 0.001\n",
      "CER: 0.14770457062794579\n",
      "WER: 0.44920115427927926\n"
     ]
    }
   ],
   "source": [
    "trainer.validate(iterator = trainer.test1_iterator, test = True)"
   ]
  },
  {
   "cell_type": "code",
   "execution_count": 9,
   "metadata": {},
   "outputs": [
    {
     "data": {
      "application/vnd.jupyter.widget-view+json": {
       "model_id": "a163546becac4496a74295fb0eab6fe7",
       "version_major": 2,
       "version_minor": 0
      },
      "text/plain": [
       "HBox(children=(FloatProgress(value=0.0, layout=Layout(flex='2'), max=78.0), HTML(value='')), layout=Layout(dis…"
      ]
     },
     "metadata": {},
     "output_type": "display_data"
    },
    {
     "name": "stdout",
     "output_type": "stream",
     "text": [
      "\n",
      "В--  г------усс--тт---оо--йй   л-----о-----щщ-ии-н--е- => В густой лощине     , gt: В густой лощине     \n",
      "Н-------а----сс---тт-------а----в----шш-------и----йй- => Наставший           , gt: Наставший           \n",
      "И----  п------о- -и-----у--рр---ыы---тт----о--мм---у-- => И по иурытому       , gt: И по изрытому       \n",
      "П----е--рр---е---дд-  -мм------------нн------о-----йй- => Перед мной          , gt: Перед мной          \n",
      "в------о---з-----вв-рр------а-----тт------яя---ссс--ь- => возвратясь          , gt: возвратясь          \n",
      "Lr now: 0.001\n",
      "CER: 0.03657927022983714\n",
      "WER: 0.12996127136752134\n"
     ]
    }
   ],
   "source": [
    "trainer.validate(iterator = trainer.test2_iterator, test = True)"
   ]
  },
  {
   "cell_type": "markdown",
   "metadata": {},
   "source": []
  }
 ],
 "metadata": {
  "kernelspec": {
   "display_name": "Python 3",
   "language": "python",
   "name": "python3"
  },
  "language_info": {
   "codemirror_mode": {
    "name": "ipython",
    "version": 3
   },
   "file_extension": ".py",
   "mimetype": "text/x-python",
   "name": "python",
   "nbconvert_exporter": "python",
   "pygments_lexer": "ipython3",
   "version": "3.7.7"
  }
 },
 "nbformat": 4,
 "nbformat_minor": 4
}
