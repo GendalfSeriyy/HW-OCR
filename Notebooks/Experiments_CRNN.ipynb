{
 "cells": [
  {
   "cell_type": "code",
   "execution_count": 1,
   "metadata": {},
   "outputs": [],
   "source": [
    "import sys\n",
    "sys.path.append('/home/storage/3020/KrivorotovI/db/HW-OCR/')\n",
    "from hwocr.trainer import Trainer"
   ]
  },
  {
   "cell_type": "markdown",
   "metadata": {},
   "source": [
    "# Experiment CRNN"
   ]
  },
  {
   "cell_type": "code",
   "execution_count": null,
   "metadata": {},
   "outputs": [
    {
     "data": {
      "application/vnd.jupyter.widget-view+json": {
       "model_id": "59efc9cee81946c286a81102dabec86f",
       "version_major": 2,
       "version_minor": 0
      },
      "text/plain": [
       "HBox(children=(FloatProgress(value=0.0, layout=Layout(flex='2'), max=711.0), HTML(value='')), layout=Layout(di…"
      ]
     },
     "metadata": {},
     "output_type": "display_data"
    },
    {
     "name": "stdout",
     "output_type": "stream",
     "text": [
      "\n"
     ]
    },
    {
     "data": {
      "application/vnd.jupyter.widget-view+json": {
       "model_id": "775ff97d60204e9498f8f30dde008df7",
       "version_major": 2,
       "version_minor": 0
      },
      "text/plain": [
       "HBox(children=(FloatProgress(value=0.0, layout=Layout(flex='2'), max=146.0), HTML(value='')), layout=Layout(di…"
      ]
     },
     "metadata": {},
     "output_type": "display_data"
    },
    {
     "name": "stdout",
     "output_type": "stream",
     "text": [
      "\n",
      "И-----  --р--------------------  -с----  -н----------я => И р с ня            , gt: Я бросил в ночь     \n",
      "А----------------------------------------------------- => А                   , gt: Село                \n",
      "К---------------------------------------------------ая => Кая                 , gt: Костанайская        \n",
      "К------------р--р----------------------------н------ая => Кррная              , gt: раздаваться         \n",
      "К-----р------------------------  --р-----------------я => Кр ря               , gt: вороненый зрачок    \n",
      "Lr now: 0.001\n"
     ]
    },
    {
     "data": {
      "application/vnd.jupyter.widget-view+json": {
       "model_id": "a94fe0f481a34563aa67d28fa901e2cb",
       "version_major": 2,
       "version_minor": 0
      },
      "text/plain": [
       "HBox(children=(FloatProgress(value=0.0, layout=Layout(flex='2'), max=711.0), HTML(value='')), layout=Layout(di…"
      ]
     },
     "metadata": {},
     "output_type": "display_data"
    },
    {
     "name": "stdout",
     "output_type": "stream",
     "text": [
      "\n"
     ]
    },
    {
     "data": {
      "application/vnd.jupyter.widget-view+json": {
       "model_id": "1577ad065562490290efa9d7d24b7de8",
       "version_major": 2,
       "version_minor": 0
      },
      "text/plain": [
       "HBox(children=(FloatProgress(value=0.0, layout=Layout(flex='2'), max=146.0), HTML(value='')), layout=Layout(di…"
      ]
     },
     "metadata": {},
     "output_type": "display_data"
    },
    {
     "name": "stdout",
     "output_type": "stream",
     "text": [
      "\n",
      "А----------А---А------------Д-------Д----А---А-----Я-- => АААДДААЯ            , gt: Молдавия            \n",
      "Ю------А--А-А--А------А----Х-А--А--А-А-А-А-А-А----А--Я => ЮАААААХАААААААААЯ   , gt: Верней, волчицу,    \n",
      "А------------м---------А--------А---------т-----А----Я => АмААтАЯ             , gt: Алматы              \n",
      "А------м-----м------т----------а----------А---т-----Я- => АммтаАтЯ            , gt: обл.                \n",
      "П----А--А-А-А-А-Т-А--Т-----А-Т--А-АА-А-А--А--А--Т--А-Я => ПАААААТАТАТААААААТАЯ, gt: студеной тишиной    \n",
      "Lr now: 0.001\n"
     ]
    },
    {
     "data": {
      "application/vnd.jupyter.widget-view+json": {
       "model_id": "9684e2f4e47b40a5bf17162a50435f98",
       "version_major": 2,
       "version_minor": 0
      },
      "text/plain": [
       "HBox(children=(FloatProgress(value=0.0, layout=Layout(flex='2'), max=711.0), HTML(value='')), layout=Layout(di…"
      ]
     },
     "metadata": {},
     "output_type": "display_data"
    },
    {
     "name": "stdout",
     "output_type": "stream",
     "text": [
      "\n"
     ]
    },
    {
     "data": {
      "application/vnd.jupyter.widget-view+json": {
       "model_id": "6f3f9a58c7224bbca526c284b4e6a90d",
       "version_major": 2,
       "version_minor": 0
      },
      "text/plain": [
       "HBox(children=(FloatProgress(value=0.0, layout=Layout(flex='2'), max=146.0), HTML(value='')), layout=Layout(di…"
      ]
     },
     "metadata": {},
     "output_type": "display_data"
    },
    {
     "name": "stdout",
     "output_type": "stream",
     "text": [
      "\n",
      "Saving trainer to /home/storage/3020/KrivorotovI/db/HKR_experiments/CRNN_1.\n",
      "Trainer is saved.\n",
      "Model improved on valid with loss: 1.5872024142578856\n",
      "т-------------------------р---а---т-----к----оо------- => тратко              , gt: в бараке,           \n",
      "в------о----т--з---е--т--ь---х----я----с---т---а----я- => вотзетьхястая       , gt: в отдельности,      \n",
      "К---о---с--т----аа---н-----а----й----с---к--аа-----я-- => Костанайская        , gt: Костанайская        \n",
      "З----а-----т--------о------б----о----л---ь--с----к---- => Затобольск          , gt: Затобольск          \n",
      "Н---а-ь-------р---а--з-дд-а--х----а----т--с----к-а-к-- => Наь-раздахатскак    , gt: Как раздался, так   \n",
      "Lr now: 0.001\n"
     ]
    },
    {
     "data": {
      "application/vnd.jupyter.widget-view+json": {
       "model_id": "6e1cc0c4f104418f82eab40bee925521",
       "version_major": 2,
       "version_minor": 0
      },
      "text/plain": [
       "HBox(children=(FloatProgress(value=0.0, layout=Layout(flex='2'), max=711.0), HTML(value='')), layout=Layout(di…"
      ]
     },
     "metadata": {},
     "output_type": "display_data"
    },
    {
     "name": "stdout",
     "output_type": "stream",
     "text": [
      "\n"
     ]
    },
    {
     "data": {
      "application/vnd.jupyter.widget-view+json": {
       "model_id": "e136990e9ecf4418adb63c72de8674b5",
       "version_major": 2,
       "version_minor": 0
      },
      "text/plain": [
       "HBox(children=(FloatProgress(value=0.0, layout=Layout(flex='2'), max=146.0), HTML(value='')), layout=Layout(di…"
      ]
     },
     "metadata": {},
     "output_type": "display_data"
    },
    {
     "name": "stdout",
     "output_type": "stream",
     "text": [
      "\n",
      "У-------д---аа-------------а--а----------------------- => Удааа               , gt: водка на анисе      \n",
      "П-----а--з-в---о---б---р-----о-бв-е-------д---я------, => Пазвобробведя,      , gt: клятвой обещал;     \n",
      "Ш-----------т----------------------------а----------ь- => Штаь                , gt: Сатпаев             \n",
      "П----а------р----а-------а--------а----дд---д-----я--- => Параааддя           , gt: Петропавловск       \n",
      "К-------о------------о--------------о--------о-------- => Коооо               , gt: часовая             \n",
      "Lr now: 0.001\n"
     ]
    },
    {
     "data": {
      "application/vnd.jupyter.widget-view+json": {
       "model_id": "a70b7ad3efac4cf8a21bfb2ff31c6492",
       "version_major": 2,
       "version_minor": 0
      },
      "text/plain": [
       "HBox(children=(FloatProgress(value=0.0, layout=Layout(flex='2'), max=711.0), HTML(value='')), layout=Layout(di…"
      ]
     },
     "metadata": {},
     "output_type": "display_data"
    },
    {
     "name": "stdout",
     "output_type": "stream",
     "text": [
      "\n"
     ]
    },
    {
     "data": {
      "application/vnd.jupyter.widget-view+json": {
       "model_id": "a8d602d3fb584ec09ab47388b9200212",
       "version_major": 2,
       "version_minor": 0
      },
      "text/plain": [
       "HBox(children=(FloatProgress(value=0.0, layout=Layout(flex='2'), max=146.0), HTML(value='')), layout=Layout(di…"
      ]
     },
     "metadata": {},
     "output_type": "display_data"
    },
    {
     "name": "stdout",
     "output_type": "stream",
     "text": [
      "\n",
      "Saving trainer to /home/storage/3020/KrivorotovI/db/HKR_experiments/CRNN_1.\n",
      "Trainer is saved.\n",
      "Model improved on valid with loss: 0.36133292960385754\n",
      "Т-------------------а-----р---------а--------зз------- => Тараз               , gt: Тараз               \n",
      "С-----е-д----и--т-------  п---о-р--о---й---  -з----а-- => Седит порой за      , gt: Следит порой за     \n",
      "Ч-тт----о----  с-н--а----з-а---тт---ь--- -м-----н--е-- => Что сназать мне     , gt: Что сказать мне     \n",
      "А----к---м-----о---л---и-и----н----с---к---а-----я---- => Акмолиинская        , gt: Акмолинская         \n",
      "Г-о----с----п-----о-------д----ь-----?-------  ----——— => Господь? —          , gt: Господь? —          \n",
      "Lr now: 0.001\n"
     ]
    },
    {
     "data": {
      "application/vnd.jupyter.widget-view+json": {
       "model_id": "9f5821fd9c884e0e9d39008810dd0a46",
       "version_major": 2,
       "version_minor": 0
      },
      "text/plain": [
       "HBox(children=(FloatProgress(value=0.0, layout=Layout(flex='2'), max=711.0), HTML(value='')), layout=Layout(di…"
      ]
     },
     "metadata": {},
     "output_type": "display_data"
    },
    {
     "name": "stdout",
     "output_type": "stream",
     "text": [
      "\n"
     ]
    },
    {
     "data": {
      "application/vnd.jupyter.widget-view+json": {
       "model_id": "8de754adb8774da99c328a21f66a971f",
       "version_major": 2,
       "version_minor": 0
      },
      "text/plain": [
       "HBox(children=(FloatProgress(value=0.0, layout=Layout(flex='2'), max=146.0), HTML(value='')), layout=Layout(di…"
      ]
     },
     "metadata": {},
     "output_type": "display_data"
    },
    {
     "name": "stdout",
     "output_type": "stream",
     "text": [
      "\n",
      "В--з--и---д---- -п---о--сс--т------о----е---н--о-г--ю- => Взид постоеногю     , gt: Вид постоялого      \n",
      "П----о---к---л----------  -к--о-р---о---шш----а-----я- => Покл корошая        , gt: Пока хорошая        \n",
      "п----------а-------в------л-----о----дд-----а-----р--- => павлодар            , gt: Павлодар            \n",
      "к--л---е-т---в--о---й----  -о--б--е-----щ--а---л----,- => клетвой обещал,     , gt: клятвой обещал;     \n",
      "Т------------------а---------р--------а-----------у--- => Тарау               , gt: Тараз               \n",
      "Lr now: 0.001\n"
     ]
    },
    {
     "data": {
      "application/vnd.jupyter.widget-view+json": {
       "model_id": "1c5ee21fb69b46fd993bdf80d3d63657",
       "version_major": 2,
       "version_minor": 0
      },
      "text/plain": [
       "HBox(children=(FloatProgress(value=0.0, layout=Layout(flex='2'), max=711.0), HTML(value='')), layout=Layout(di…"
      ]
     },
     "metadata": {},
     "output_type": "display_data"
    },
    {
     "name": "stdout",
     "output_type": "stream",
     "text": [
      "\n"
     ]
    },
    {
     "data": {
      "application/vnd.jupyter.widget-view+json": {
       "model_id": "a9532933d0054d0d8160acf17eb12c81",
       "version_major": 2,
       "version_minor": 0
      },
      "text/plain": [
       "HBox(children=(FloatProgress(value=0.0, layout=Layout(flex='2'), max=146.0), HTML(value='')), layout=Layout(di…"
      ]
     },
     "metadata": {},
     "output_type": "display_data"
    },
    {
     "name": "stdout",
     "output_type": "stream",
     "text": [
      "\n",
      "Saving trainer to /home/storage/3020/KrivorotovI/db/HKR_experiments/CRNN_1.\n",
      "Trainer is saved.\n",
      "Model improved on valid with loss: 0.24011651916454915\n",
      "С---------т-------р--------а----------н---------о----- => Страно              , gt: Страна              \n",
      "Т---ы------  -ст--а---л--а---------   -в---н---о--в--и => Ты стала внови      , gt: Ты стала вновь      \n",
      "г---------о-------р---------------а--------д---------- => горад               , gt: город               \n",
      "Р-----е--б--я---т-------   -у----ж----е-----  -н---е-- => Ребят уже не        , gt: Ребят уже не        \n",
      "З--а----в----т----р-----а---,---   Н-----и--н----а---- => Завтра, Нина        , gt: Завтра, Нина        \n",
      "Lr now: 0.001\n"
     ]
    },
    {
     "data": {
      "application/vnd.jupyter.widget-view+json": {
       "model_id": "0ccef8c3513e4a51b75d9b5d3c697002",
       "version_major": 2,
       "version_minor": 0
      },
      "text/plain": [
       "HBox(children=(FloatProgress(value=0.0, layout=Layout(flex='2'), max=711.0), HTML(value='')), layout=Layout(di…"
      ]
     },
     "metadata": {},
     "output_type": "display_data"
    },
    {
     "name": "stdout",
     "output_type": "stream",
     "text": [
      "\n"
     ]
    },
    {
     "data": {
      "application/vnd.jupyter.widget-view+json": {
       "model_id": "789b8e33fbc64775b474b28d128250f2",
       "version_major": 2,
       "version_minor": 0
      },
      "text/plain": [
       "HBox(children=(FloatProgress(value=0.0, layout=Layout(flex='2'), max=146.0), HTML(value='')), layout=Layout(di…"
      ]
     },
     "metadata": {},
     "output_type": "display_data"
    },
    {
     "name": "stdout",
     "output_type": "stream",
     "text": [
      "\n",
      "А-------------к--------т------------а----------у------ => Актау               , gt: Актау               \n",
      "О--т-----е-гч-е-н------------  -б-а---т----ыы---р--а-- => Отегчен батыра      , gt: Отеген батыра       \n",
      "х------л-------а------д------нн------ы------------й--- => хладный             , gt: хладный             \n",
      "г-----а-------м----------а-------н------е----н------т- => гаманент            , gt: Шымкент             \n",
      "ч---т----о--------к-----а---з--е----л----д-----а------ => чтоказелда          , gt: Что поцелуи         \n",
      "Lr now: 0.001\n"
     ]
    },
    {
     "data": {
      "application/vnd.jupyter.widget-view+json": {
       "model_id": "25933a7d411a486b9e05d0da15a328ff",
       "version_major": 2,
       "version_minor": 0
      },
      "text/plain": [
       "HBox(children=(FloatProgress(value=0.0, layout=Layout(flex='2'), max=711.0), HTML(value='')), layout=Layout(di…"
      ]
     },
     "metadata": {},
     "output_type": "display_data"
    },
    {
     "name": "stdout",
     "output_type": "stream",
     "text": [
      "\n"
     ]
    },
    {
     "data": {
      "application/vnd.jupyter.widget-view+json": {
       "model_id": "2c78b9d991374fc5a39fcb698550d62b",
       "version_major": 2,
       "version_minor": 0
      },
      "text/plain": [
       "HBox(children=(FloatProgress(value=0.0, layout=Layout(flex='2'), max=146.0), HTML(value='')), layout=Layout(di…"
      ]
     },
     "metadata": {},
     "output_type": "display_data"
    },
    {
     "name": "stdout",
     "output_type": "stream",
     "text": [
      "\n",
      "ю-------к--о----с--о----  -т-------у---------о---и---- => юкосо туои          , gt: Мои руки            \n",
      "У---с-тт---ь-----К---а---м---е--нн--о--гг-о--р---с--к- => Усть-Каменогорск    , gt: Усть-Каменогорск    \n",
      "х-----------б-----лл-------и------н-------------я----- => хблиня              , gt: Абхазия             \n",
      "О----н---и-----  -п---р---о-------щ---а------ю---т---- => Они прощают         , gt: Они прощают         \n",
      "К-а---к-----  р---а--з-д--а---л--с--я---,-  -т-а---к-- => Как раздался, так   , gt: Как раздался, так   \n",
      "Lr now: 0.001\n"
     ]
    },
    {
     "data": {
      "application/vnd.jupyter.widget-view+json": {
       "model_id": "8c414e69afe247308b0c9178ba0ce0af",
       "version_major": 2,
       "version_minor": 0
      },
      "text/plain": [
       "HBox(children=(FloatProgress(value=0.0, layout=Layout(flex='2'), max=711.0), HTML(value='')), layout=Layout(di…"
      ]
     },
     "metadata": {},
     "output_type": "display_data"
    },
    {
     "name": "stdout",
     "output_type": "stream",
     "text": [
      "\n"
     ]
    },
    {
     "data": {
      "application/vnd.jupyter.widget-view+json": {
       "model_id": "ae5f8806a6d24eab9fb2142794e18f77",
       "version_major": 2,
       "version_minor": 0
      },
      "text/plain": [
       "HBox(children=(FloatProgress(value=0.0, layout=Layout(flex='2'), max=146.0), HTML(value='')), layout=Layout(di…"
      ]
     },
     "metadata": {},
     "output_type": "display_data"
    },
    {
     "name": "stdout",
     "output_type": "stream",
     "text": [
      "\n",
      "Saving trainer to /home/storage/3020/KrivorotovI/db/HKR_experiments/CRNN_1.\n",
      "Trainer is saved.\n",
      "Model improved on valid with loss: 0.1984424036863732\n",
      "А--------------р----------ы-------------с-------ь----- => Арысь               , gt: Арысь               \n",
      "И------  п---о----  -и---з--р--ы----т-----о---м-----у- => И по изрытому       , gt: И по изрытому       \n",
      "К---а-----з---а----х------с------т---------а-----н---- => Казахстан           , gt: Казахстан           \n",
      "п--т----р-о---дд-ы----  -и---  -с--к-----у-с-с-т-в--а- => птроды и скусства   , gt: природы и искусства \n",
      "А----------кк--------т--------------а-----------у----- => Актау               , gt: Актау               \n",
      "Lr now: 0.001\n"
     ]
    },
    {
     "data": {
      "application/vnd.jupyter.widget-view+json": {
       "model_id": "a40d808b309a459c90b3563cee55e62f",
       "version_major": 2,
       "version_minor": 0
      },
      "text/plain": [
       "HBox(children=(FloatProgress(value=0.0, layout=Layout(flex='2'), max=711.0), HTML(value='')), layout=Layout(di…"
      ]
     },
     "metadata": {},
     "output_type": "display_data"
    },
    {
     "name": "stdout",
     "output_type": "stream",
     "text": [
      "\n"
     ]
    },
    {
     "data": {
      "application/vnd.jupyter.widget-view+json": {
       "model_id": "ddddc74c8ce744caafc5e701ad9f5403",
       "version_major": 2,
       "version_minor": 0
      },
      "text/plain": [
       "HBox(children=(FloatProgress(value=0.0, layout=Layout(flex='2'), max=146.0), HTML(value='')), layout=Layout(di…"
      ]
     },
     "metadata": {},
     "output_type": "display_data"
    },
    {
     "name": "stdout",
     "output_type": "stream",
     "text": [
      "\n",
      "п--е---м--чч----а----л---сс--я----  -б---ы----- -я---, => пемчался бы я,      , gt: полчался бы я,      \n",
      "и--с-к--о---л-е--ч--е-н---н--ы---е----   р----у-к---и- => исколеченные руки   , gt: искалеченные руки   \n",
      "С--н---у---ю--т-----  -п----у---н------ц-о---в--ы---ее => Снуют пунцовые      , gt: Снуют пунцовые      \n",
      "И----------  -к---р----а---с---и----в---о----м-----у-- => И красивому         , gt: И красивому         \n",
      "К----а-----дд--ыы--------л-----о---р-----в----а------- => Кадылорва           , gt: Кызылорда           \n",
      "Lr now: 0.001\n"
     ]
    },
    {
     "data": {
      "application/vnd.jupyter.widget-view+json": {
       "model_id": "54425ba1156c46e49f55a94f95d0c6cd",
       "version_major": 2,
       "version_minor": 0
      },
      "text/plain": [
       "HBox(children=(FloatProgress(value=0.0, layout=Layout(flex='2'), max=711.0), HTML(value='')), layout=Layout(di…"
      ]
     },
     "metadata": {},
     "output_type": "display_data"
    },
    {
     "name": "stdout",
     "output_type": "stream",
     "text": [
      "\n"
     ]
    },
    {
     "data": {
      "application/vnd.jupyter.widget-view+json": {
       "model_id": "6b2279e5696f48e7aedbcabed6f65d58",
       "version_major": 2,
       "version_minor": 0
      },
      "text/plain": [
       "HBox(children=(FloatProgress(value=0.0, layout=Layout(flex='2'), max=146.0), HTML(value='')), layout=Layout(di…"
      ]
     },
     "metadata": {},
     "output_type": "display_data"
    },
    {
     "name": "stdout",
     "output_type": "stream",
     "text": [
      "\n",
      "Saving trainer to /home/storage/3020/KrivorotovI/db/HKR_experiments/CRNN_1.\n",
      "Trainer is saved.\n",
      "Model improved on valid with loss: 0.18095494577125326\n",
      "м---е-с--я---ц-----   м---и---м----о-е-з--ж----и---й-, => месяц мимоезжий,    , gt: месяц мимоезжий,    \n",
      "К--а---к----  в--л--а--сс-т---нн-о--  -п-а---х--н-ее-т => Как властно пахнет  , gt: Как властно пахнет  \n",
      "Т-----------у--р------к---е---с---тт------а-----н----- => Туркестан           , gt: Туркестан           \n",
      "С---т-----е---п-----н-----о----г-----о---р---с--к----- => Степногорск         , gt: Степногорск         \n",
      "Л-----е-----н-----ии------н----с----к----а------я----- => Ленинская           , gt: Ленинское           \n",
      "Lr now: 0.001\n"
     ]
    },
    {
     "data": {
      "application/vnd.jupyter.widget-view+json": {
       "model_id": "c7f5689b7da5498392078757e276a72c",
       "version_major": 2,
       "version_minor": 0
      },
      "text/plain": [
       "HBox(children=(FloatProgress(value=0.0, layout=Layout(flex='2'), max=711.0), HTML(value='')), layout=Layout(di…"
      ]
     },
     "metadata": {},
     "output_type": "display_data"
    },
    {
     "name": "stdout",
     "output_type": "stream",
     "text": [
      "\n"
     ]
    },
    {
     "data": {
      "application/vnd.jupyter.widget-view+json": {
       "model_id": "807d0b1bd18d4706908b0568598404c7",
       "version_major": 2,
       "version_minor": 0
      },
      "text/plain": [
       "HBox(children=(FloatProgress(value=0.0, layout=Layout(flex='2'), max=146.0), HTML(value='')), layout=Layout(di…"
      ]
     },
     "metadata": {},
     "output_type": "display_data"
    },
    {
     "name": "stdout",
     "output_type": "stream",
     "text": [
      "\n",
      "И-----  -б--у--д--у-тт-----   -м---с-т----и---т-----ь- => И будут мстить      , gt: И будут мстить      \n",
      "Ч----т------о-----  -б--л---ии---ж----с--н---ии---х--- => Что ближсних        , gt: Что ближних         \n",
      "Ш--------------а-----х----т-----ии----н------с----к--- => Шахтинск            , gt: Шахтинск            \n",
      "К--------о---с----т---------а------н------а-------й--- => Костанай            , gt: Костанай            \n",
      "О---сс--у---ж------д--е-н---ы-----   -и---д---т----ии- => Осуждены идти       , gt: Осуждены идти       \n",
      "Lr now: 0.001\n"
     ]
    },
    {
     "data": {
      "application/vnd.jupyter.widget-view+json": {
       "model_id": "eb5d0a63dd824484bfc9978d337cf8c5",
       "version_major": 2,
       "version_minor": 0
      },
      "text/plain": [
       "HBox(children=(FloatProgress(value=0.0, layout=Layout(flex='2'), max=711.0), HTML(value='')), layout=Layout(di…"
      ]
     },
     "metadata": {},
     "output_type": "display_data"
    },
    {
     "name": "stdout",
     "output_type": "stream",
     "text": [
      "\n"
     ]
    },
    {
     "data": {
      "application/vnd.jupyter.widget-view+json": {
       "model_id": "538cefd8670740c6a06c3e135d7e877b",
       "version_major": 2,
       "version_minor": 0
      },
      "text/plain": [
       "HBox(children=(FloatProgress(value=0.0, layout=Layout(flex='2'), max=146.0), HTML(value='')), layout=Layout(di…"
      ]
     },
     "metadata": {},
     "output_type": "display_data"
    },
    {
     "name": "stdout",
     "output_type": "stream",
     "text": [
      "\n",
      "З-----------------лл------------ы----------е---------- => Злые                , gt: Злые                \n",
      "и----  н---а-з--е--м----н---о--и--  -п--о--к--о--ии--, => и наземнои покои,   , gt: и неземнои покои,   \n",
      "А----------------а------м----------е----и----т-------- => Аамеит              , gt: Шымкент             \n",
      "А--------р----------а--------л------ь-----с-----к----- => Аральск             , gt: Аральск             \n",
      "К--------о---сс---т--------а------н-------а--------й-- => Костанай            , gt: Костанай            \n",
      "Lr now: 0.001\n"
     ]
    },
    {
     "data": {
      "application/vnd.jupyter.widget-view+json": {
       "model_id": "5bf9458a5ac5442d9a58bf56a32c02f8",
       "version_major": 2,
       "version_minor": 0
      },
      "text/plain": [
       "HBox(children=(FloatProgress(value=0.0, layout=Layout(flex='2'), max=711.0), HTML(value='')), layout=Layout(di…"
      ]
     },
     "metadata": {},
     "output_type": "display_data"
    },
    {
     "name": "stdout",
     "output_type": "stream",
     "text": [
      "\n"
     ]
    },
    {
     "data": {
      "application/vnd.jupyter.widget-view+json": {
       "model_id": "b79938d8264b48a8a27356b88e3e130f",
       "version_major": 2,
       "version_minor": 0
      },
      "text/plain": [
       "HBox(children=(FloatProgress(value=0.0, layout=Layout(flex='2'), max=146.0), HTML(value='')), layout=Layout(di…"
      ]
     },
     "metadata": {},
     "output_type": "display_data"
    },
    {
     "name": "stdout",
     "output_type": "stream",
     "text": [
      "\n",
      "С-тт---о-г----   п--р---и--н---и---мм---а---е--ттт---- => Стог принимает      , gt: Стог принимает      \n",
      "с------в-----о------------юю------------------------…… => свою…               , gt: свою…               \n",
      "н--е----- -ж---а--п--ы----т----о--в--а--л-----------!- => не жапытовал!       , gt: не испытывал!       \n",
      "З------а-----в-----о-----д------с----кк----о-----й---- => Заводской           , gt: Заводской           \n",
      "А---------------хх-------а--------у------и----яя------ => Ахауия              , gt: Абхазия             \n",
      "Lr now: 0.001\n"
     ]
    },
    {
     "data": {
      "application/vnd.jupyter.widget-view+json": {
       "model_id": "197c5dcee53b482dbe56d3abe063af4a",
       "version_major": 2,
       "version_minor": 0
      },
      "text/plain": [
       "HBox(children=(FloatProgress(value=0.0, layout=Layout(flex='2'), max=711.0), HTML(value='')), layout=Layout(di…"
      ]
     },
     "metadata": {},
     "output_type": "display_data"
    },
    {
     "name": "stdout",
     "output_type": "stream",
     "text": [
      "\n"
     ]
    },
    {
     "data": {
      "application/vnd.jupyter.widget-view+json": {
       "model_id": "e78f86644e284dd0a147872172432088",
       "version_major": 2,
       "version_minor": 0
      },
      "text/plain": [
       "HBox(children=(FloatProgress(value=0.0, layout=Layout(flex='2'), max=146.0), HTML(value='')), layout=Layout(di…"
      ]
     },
     "metadata": {},
     "output_type": "display_data"
    },
    {
     "name": "stdout",
     "output_type": "stream",
     "text": [
      "\n",
      "А-----------л-------мм-------а------т----------ы------ => Алматы              , gt: Алматы              \n",
      "Т----е--м---?--  ОО---е--м---?-  -В--о---м--o---м--?-- => Тем? Оем? Вомoм?    , gt: Кем? Кем? Волкoм?   \n",
      "К---а----р--а--г--аа---н---дд-ии--н---с--кк---а----я-- => Карагандинская      , gt: Карагандинская      \n",
      "А-----------р------ш----------а-------лл-------ы------ => Аршалы              , gt: Аршалы              \n",
      "И------------ --я---------    --з--а----б---ы-----лл-- => И я забыл           , gt: И я забыл           \n",
      "Lr now: 0.001\n"
     ]
    },
    {
     "data": {
      "application/vnd.jupyter.widget-view+json": {
       "model_id": "9a6db2e5a99b4118bcba6620e3c106b1",
       "version_major": 2,
       "version_minor": 0
      },
      "text/plain": [
       "HBox(children=(FloatProgress(value=0.0, layout=Layout(flex='2'), max=711.0), HTML(value='')), layout=Layout(di…"
      ]
     },
     "metadata": {},
     "output_type": "display_data"
    },
    {
     "name": "stdout",
     "output_type": "stream",
     "text": [
      "\n"
     ]
    },
    {
     "data": {
      "application/vnd.jupyter.widget-view+json": {
       "model_id": "2cc7b24a969c4931ab35127142c06ca3",
       "version_major": 2,
       "version_minor": 0
      },
      "text/plain": [
       "HBox(children=(FloatProgress(value=0.0, layout=Layout(flex='2'), max=146.0), HTML(value='')), layout=Layout(di…"
      ]
     },
     "metadata": {},
     "output_type": "display_data"
    },
    {
     "name": "stdout",
     "output_type": "stream",
     "text": [
      "\n",
      "К----------и------р-----г-----и-------з----ии----яя--- => Киргизия            , gt: Киргизия            \n",
      "А------к---мм------о---л---ии---н----с---кк---а----яя- => Акмолинская         , gt: Акмолинская         \n",
      "Т-------а---------т-----------а--------р-------------- => Татар               , gt: Талгар              \n",
      "н--о----  -п----ы---  н--е----  с--т----з-а---м--ии-я- => но пы не стзамия    , gt: но ты не снизошла   \n",
      "О-----------------------------ййй------------------,,- => Ой,                 , gt: Ой,                 \n",
      "Lr now: 0.001\n"
     ]
    },
    {
     "data": {
      "application/vnd.jupyter.widget-view+json": {
       "model_id": "de4333cd3925441d9452ee843d0138df",
       "version_major": 2,
       "version_minor": 0
      },
      "text/plain": [
       "HBox(children=(FloatProgress(value=0.0, layout=Layout(flex='2'), max=711.0), HTML(value='')), layout=Layout(di…"
      ]
     },
     "metadata": {},
     "output_type": "display_data"
    },
    {
     "name": "stdout",
     "output_type": "stream",
     "text": [
      "\n"
     ]
    },
    {
     "data": {
      "application/vnd.jupyter.widget-view+json": {
       "model_id": "1dbb1c3667c542c29e3624fb7df6119c",
       "version_major": 2,
       "version_minor": 0
      },
      "text/plain": [
       "HBox(children=(FloatProgress(value=0.0, layout=Layout(flex='2'), max=146.0), HTML(value='')), layout=Layout(di…"
      ]
     },
     "metadata": {},
     "output_type": "display_data"
    },
    {
     "name": "stdout",
     "output_type": "stream",
     "text": [
      "\n",
      "Saving trainer to /home/storage/3020/KrivorotovI/db/HKR_experiments/CRNN_1.\n",
      "Trainer is saved.\n",
      "Model improved on valid with loss: 0.16827334519730855\n",
      "З--а----в-т---р----о---  к---  -м-----ии----л---о---й- => Завтро к милой      , gt: Завтра к милой      \n",
      "Р-----------о--------с-------с---------и----------я--- => Россия              , gt: Россия              \n",
      "т------------------------------ыы--------------------- => ты                  , gt: ты                  \n",
      "о----------------------б-----------------------л------ => обл                 , gt: обл                 \n",
      "И--------з----д---ее----в----а----е---т----с----яя---- => Издевается          , gt: Издевается          \n",
      "Lr now: 0.001\n"
     ]
    },
    {
     "data": {
      "application/vnd.jupyter.widget-view+json": {
       "model_id": "83762e7c4f4544ea92ca6adc9f04fedd",
       "version_major": 2,
       "version_minor": 0
      },
      "text/plain": [
       "HBox(children=(FloatProgress(value=0.0, layout=Layout(flex='2'), max=711.0), HTML(value='')), layout=Layout(di…"
      ]
     },
     "metadata": {},
     "output_type": "display_data"
    },
    {
     "name": "stdout",
     "output_type": "stream",
     "text": [
      "\n"
     ]
    },
    {
     "data": {
      "application/vnd.jupyter.widget-view+json": {
       "model_id": "31e0b8e13bb24f539c1bb121d1b94dcb",
       "version_major": 2,
       "version_minor": 0
      },
      "text/plain": [
       "HBox(children=(FloatProgress(value=0.0, layout=Layout(flex='2'), max=146.0), HTML(value='')), layout=Layout(di…"
      ]
     },
     "metadata": {},
     "output_type": "display_data"
    },
    {
     "name": "stdout",
     "output_type": "stream",
     "text": [
      "\n",
      "Т---------у----р----к----е------сс----т----а------н--- => Туркестан           , gt: Туркестан           \n",
      "с----------р------------------о----------н------------ => срон                , gt: срок                \n",
      "Т---------е-------к---------е---------л--------и------ => Текели              , gt: Текели              \n",
      "Ш-----------н---------ы--------к----е-----н-----т----- => Шныкент             , gt: Шымкент             \n",
      "Н-------------и------  --о-----г----н-------яя-------. => Ни огня.            , gt: Ни огня,            \n",
      "Lr now: 0.001\n"
     ]
    },
    {
     "data": {
      "application/vnd.jupyter.widget-view+json": {
       "model_id": "29c2b2f7522d4374992b95d16d52381b",
       "version_major": 2,
       "version_minor": 0
      },
      "text/plain": [
       "HBox(children=(FloatProgress(value=0.0, layout=Layout(flex='2'), max=711.0), HTML(value='')), layout=Layout(di…"
      ]
     },
     "metadata": {},
     "output_type": "display_data"
    },
    {
     "name": "stdout",
     "output_type": "stream",
     "text": [
      "\n"
     ]
    },
    {
     "data": {
      "application/vnd.jupyter.widget-view+json": {
       "model_id": "4ec1158030544a76ba63e7069db265f6",
       "version_major": 2,
       "version_minor": 0
      },
      "text/plain": [
       "HBox(children=(FloatProgress(value=0.0, layout=Layout(flex='2'), max=146.0), HTML(value='')), layout=Layout(di…"
      ]
     },
     "metadata": {},
     "output_type": "display_data"
    },
    {
     "name": "stdout",
     "output_type": "stream",
     "text": [
      "\n",
      "Р-------уу-----дд-------н---------ы-------------й--й-- => Рудныйй             , gt: Рудный              \n",
      "А-------------к----------т--------аа-----------у------ => Актау               , gt: Актау               \n",
      "ч-т---о----  -м---ее-н---я---   в-сск-оорр-м--и--л-а-. => что меня вскормила. , gt: что меня вскормила. \n",
      "Н--о--  -т------щ-е--тт---н--ы----  -м---е--ч-т----ы-- => Но тщетны мечты     , gt: Но тщетны мечты     \n",
      "н--е----   з--н--а---я-----  о--  лл---ююю-б--в--и---, => не зная о любви,    , gt: не зная о любви,    \n",
      "Lr now: 0.001\n"
     ]
    },
    {
     "data": {
      "application/vnd.jupyter.widget-view+json": {
       "model_id": "5963f7cdb494426682651bc65eff7bdb",
       "version_major": 2,
       "version_minor": 0
      },
      "text/plain": [
       "HBox(children=(FloatProgress(value=0.0, layout=Layout(flex='2'), max=711.0), HTML(value='')), layout=Layout(di…"
      ]
     },
     "metadata": {},
     "output_type": "display_data"
    },
    {
     "name": "stdout",
     "output_type": "stream",
     "text": [
      "\n"
     ]
    },
    {
     "data": {
      "application/vnd.jupyter.widget-view+json": {
       "model_id": "ad0f420b05c741319b84207ec35ff3c1",
       "version_major": 2,
       "version_minor": 0
      },
      "text/plain": [
       "HBox(children=(FloatProgress(value=0.0, layout=Layout(flex='2'), max=146.0), HTML(value='')), layout=Layout(di…"
      ]
     },
     "metadata": {},
     "output_type": "display_data"
    },
    {
     "name": "stdout",
     "output_type": "stream",
     "text": [
      "\n",
      "О---н---и-----,-   тт---о---л----к----а-----я----с--ьь => Они, толкаясь       , gt: Они, толкаясь       \n",
      "д--------ж----------и-----гг--иии-----т----------!!--- => джигит!             , gt: джигит!             \n",
      "К------о-----сс---тт------аа------н------а--------йй-- => Костанай            , gt: Костанай            \n",
      "д-----л-----иии----н------н-------о----и-------------. => длиннои.            , gt: длиннои.            \n",
      "Б-----е-----лл---оо----р-----у---с---сс-с-----я------- => Белоруссся          , gt: Белоруссия          \n",
      "Lr now: 0.001\n"
     ]
    },
    {
     "data": {
      "application/vnd.jupyter.widget-view+json": {
       "model_id": "0c615da3e1a1420e902515edfaf7fe42",
       "version_major": 2,
       "version_minor": 0
      },
      "text/plain": [
       "HBox(children=(FloatProgress(value=0.0, layout=Layout(flex='2'), max=711.0), HTML(value='')), layout=Layout(di…"
      ]
     },
     "metadata": {},
     "output_type": "display_data"
    },
    {
     "name": "stdout",
     "output_type": "stream",
     "text": [
      "\n"
     ]
    },
    {
     "data": {
      "application/vnd.jupyter.widget-view+json": {
       "model_id": "8804006fd2cc40759d2c998c7bcb99db",
       "version_major": 2,
       "version_minor": 0
      },
      "text/plain": [
       "HBox(children=(FloatProgress(value=0.0, layout=Layout(flex='2'), max=146.0), HTML(value='')), layout=Layout(di…"
      ]
     },
     "metadata": {},
     "output_type": "display_data"
    },
    {
     "name": "stdout",
     "output_type": "stream",
     "text": [
      "\n",
      "К------а---с--ссс-тт----и----л---а-----с-т----с----я-- => Касстиластся        , gt: Расстилаются        \n",
      "Ш-----------ы-------м--------к-----е----н------т------ => Шымкент             , gt: Шымкент             \n",
      "н-е-----   -в--о-р---о-н----  -с-т--ее-п---н---о--й--, => не ворон степной,   , gt: не ворон степной,   \n",
      "А------л-----мм------а---т-----ии---н---с--к---а----я- => Алматинская         , gt: Алматинская         \n",
      "м-----о--р---я---к----у----,,   -г--о--р----яяя--т---- => моряку, горят       , gt: моряку, горят       \n",
      "Lr now: 0.001\n"
     ]
    },
    {
     "data": {
      "application/vnd.jupyter.widget-view+json": {
       "model_id": "a7b6ffc6c1f6421c9d74d33e0c604907",
       "version_major": 2,
       "version_minor": 0
      },
      "text/plain": [
       "HBox(children=(FloatProgress(value=0.0, layout=Layout(flex='2'), max=711.0), HTML(value='')), layout=Layout(di…"
      ]
     },
     "metadata": {},
     "output_type": "display_data"
    },
    {
     "name": "stdout",
     "output_type": "stream",
     "text": [
      "\n"
     ]
    },
    {
     "data": {
      "application/vnd.jupyter.widget-view+json": {
       "model_id": "1c3bae7c273b45fe8427d8efa388e327",
       "version_major": 2,
       "version_minor": 0
      },
      "text/plain": [
       "HBox(children=(FloatProgress(value=0.0, layout=Layout(flex='2'), max=146.0), HTML(value='')), layout=Layout(di…"
      ]
     },
     "metadata": {},
     "output_type": "display_data"
    },
    {
     "name": "stdout",
     "output_type": "stream",
     "text": [
      "\n",
      "Р-----о----------с-------с-------ии-----------яя------ => Россия              , gt: Россия              \n",
      "А--------и-------л----------а---------т----------ы---- => Аилаты              , gt: Алматы              \n",
      "П---а-----в---лл---оо---д---а---рр---с--к---а-----я--- => Павлодарская        , gt: Павлодарская        \n",
      "н--о-------   -н--е--з--д---е---ш-----нн----и------й-- => но нездешний        , gt: но нездешний        \n",
      "А---------л-----ммм--------а-------т---------ы-------- => Алматы              , gt: Алматы              \n",
      "Lr now: 0.001\n"
     ]
    },
    {
     "data": {
      "application/vnd.jupyter.widget-view+json": {
       "model_id": "aa473a35a340422e9b94d546a7563ffe",
       "version_major": 2,
       "version_minor": 0
      },
      "text/plain": [
       "HBox(children=(FloatProgress(value=0.0, layout=Layout(flex='2'), max=711.0), HTML(value='')), layout=Layout(di…"
      ]
     },
     "metadata": {},
     "output_type": "display_data"
    },
    {
     "name": "stdout",
     "output_type": "stream",
     "text": [
      "\n"
     ]
    },
    {
     "data": {
      "application/vnd.jupyter.widget-view+json": {
       "model_id": "1d2324e7b6a6445f875b3bb6dc5a880f",
       "version_major": 2,
       "version_minor": 0
      },
      "text/plain": [
       "HBox(children=(FloatProgress(value=0.0, layout=Layout(flex='2'), max=146.0), HTML(value='')), layout=Layout(di…"
      ]
     },
     "metadata": {},
     "output_type": "display_data"
    },
    {
     "name": "stdout",
     "output_type": "stream",
     "text": [
      "\n",
      "К---о--сс--т------а---н----а----й--сс--к----а-----я--- => Костанайская        , gt: Костанайская        \n",
      "о-тт--------  сс--т------р-аа----дд-аа--н---ь---я----, => от страданья,       , gt: от страданья,       \n",
      "Д-------------о------л------ии---------к-------а------ => Долика              , gt: Долинка             \n",
      "н--------е----------  --в---сс--ее-гггг---д---аа-----, => не всегда,          , gt: не всегда,          \n",
      "Д----о--гг-о--нн----и--------   мм----е--н----яя-----, => Догони меня,        , gt: Догони меня,        \n",
      "Lr now: 0.001\n"
     ]
    },
    {
     "data": {
      "application/vnd.jupyter.widget-view+json": {
       "model_id": "bccbf9b02d444745889dfa12fd56bea0",
       "version_major": 2,
       "version_minor": 0
      },
      "text/plain": [
       "HBox(children=(FloatProgress(value=0.0, layout=Layout(flex='2'), max=711.0), HTML(value='')), layout=Layout(di…"
      ]
     },
     "metadata": {},
     "output_type": "display_data"
    },
    {
     "name": "stdout",
     "output_type": "stream",
     "text": [
      "\n"
     ]
    },
    {
     "data": {
      "application/vnd.jupyter.widget-view+json": {
       "model_id": "81fe439891044bf88efb82d4828e7bf0",
       "version_major": 2,
       "version_minor": 0
      },
      "text/plain": [
       "HBox(children=(FloatProgress(value=0.0, layout=Layout(flex='2'), max=146.0), HTML(value='')), layout=Layout(di…"
      ]
     },
     "metadata": {},
     "output_type": "display_data"
    },
    {
     "name": "stdout",
     "output_type": "stream",
     "text": [
      "\n",
      "Т-----а---м----   м-----а---т---ьь--  п---о--е--т----, => Там мать поет,      , gt: Там мать поет,      \n",
      "О----т---е--ггее-нн-------  -б--аа---т---ы---р----а--- => Отеген батыра       , gt: Отеген батыра       \n",
      "Н---------о-------------  --в-------ее-----р------е--- => Но вере             , gt: Но вере             \n",
      "Д--и--н-о-г-о--з--вее-р--я----   в-  к--ле--т---к--у-, => Диногозверя в клетку,, gt: Дикого зверя в клетку,\n",
      "у---------  -к----а-----м------и-----н------а-------,- => у камина,           , gt: у камина,           \n",
      "Lr now: 0.001\n"
     ]
    },
    {
     "data": {
      "application/vnd.jupyter.widget-view+json": {
       "model_id": "332ccaba1f9146d7853b7ad4c5ba0fcd",
       "version_major": 2,
       "version_minor": 0
      },
      "text/plain": [
       "HBox(children=(FloatProgress(value=0.0, layout=Layout(flex='2'), max=711.0), HTML(value='')), layout=Layout(di…"
      ]
     },
     "metadata": {},
     "output_type": "display_data"
    },
    {
     "name": "stdout",
     "output_type": "stream",
     "text": [
      "\n"
     ]
    },
    {
     "data": {
      "application/vnd.jupyter.widget-view+json": {
       "model_id": "e2e0aff679bc468c9a91c3ab8e3137e7",
       "version_major": 2,
       "version_minor": 0
      },
      "text/plain": [
       "HBox(children=(FloatProgress(value=0.0, layout=Layout(flex='2'), max=146.0), HTML(value='')), layout=Layout(di…"
      ]
     },
     "metadata": {},
     "output_type": "display_data"
    },
    {
     "name": "stdout",
     "output_type": "stream",
     "text": [
      "\n",
      "Т-----------------А---------Р-------А-------------З--- => ТАРАЗ               , gt: ТАРАЗ               \n",
      "Н-----а--------  -и-----х----- -оо--гг--о---н-----ь--, => На их огонь,        , gt: На их огонь,        \n",
      "П----------а----вв-------лл----о------дд-----а---р---- => Павлодар            , gt: Павлодар            \n",
      "И----------  о---д--н----уу--------  лл----ии--шш---ь- => И одну лишь         , gt: И одну лшшь         \n",
      "т----------------------------------ы------------------ => ты                  , gt: ты                  \n",
      "Lr now: 0.001\n"
     ]
    },
    {
     "data": {
      "application/vnd.jupyter.widget-view+json": {
       "model_id": "d73585379fb0433d83c14a1cd3fc4a4d",
       "version_major": 2,
       "version_minor": 0
      },
      "text/plain": [
       "HBox(children=(FloatProgress(value=0.0, layout=Layout(flex='2'), max=711.0), HTML(value='')), layout=Layout(di…"
      ]
     },
     "metadata": {},
     "output_type": "display_data"
    },
    {
     "name": "stdout",
     "output_type": "stream",
     "text": [
      "\n"
     ]
    },
    {
     "data": {
      "application/vnd.jupyter.widget-view+json": {
       "model_id": "d73b8f7015ef41cab75cfa5c57a4ebd1",
       "version_major": 2,
       "version_minor": 0
      },
      "text/plain": [
       "HBox(children=(FloatProgress(value=0.0, layout=Layout(flex='2'), max=146.0), HTML(value='')), layout=Layout(di…"
      ]
     },
     "metadata": {},
     "output_type": "display_data"
    },
    {
     "name": "stdout",
     "output_type": "stream",
     "text": [
      "\n",
      "Н------е-------   -вв-------м-----е----с---тт---е----. => Не вместе.          , gt: Не вместе.          \n",
      "У-----зз---б-----е----к----ии---сс---т-------а-----н-- => Узбекистан          , gt: Узбекистан          \n",
      "м---н--е------  с-н---и--т----с-яя----  п---л-а-----щщ => мне снится плащ     , gt: мне снится плащ     \n",
      "А----------с------т------------а--------нн-------а---- => Астана              , gt: Астана              \n",
      "В-------   -о---т----дд-ее--л--ь-н--о--с-т-----ии----, => В отдельности,      , gt: в отдельности,      \n",
      "Lr now: 0.001\n"
     ]
    },
    {
     "data": {
      "application/vnd.jupyter.widget-view+json": {
       "model_id": "d52e4c1ff10445d0b10b38ed2690e8e0",
       "version_major": 2,
       "version_minor": 0
      },
      "text/plain": [
       "HBox(children=(FloatProgress(value=0.0, layout=Layout(flex='2'), max=711.0), HTML(value='')), layout=Layout(di…"
      ]
     },
     "metadata": {},
     "output_type": "display_data"
    },
    {
     "name": "stdout",
     "output_type": "stream",
     "text": [
      "\n"
     ]
    },
    {
     "data": {
      "application/vnd.jupyter.widget-view+json": {
       "model_id": "ec316ec6a350440f8dfee69e8f2b0c66",
       "version_major": 2,
       "version_minor": 0
      },
      "text/plain": [
       "HBox(children=(FloatProgress(value=0.0, layout=Layout(flex='2'), max=146.0), HTML(value='')), layout=Layout(di…"
      ]
     },
     "metadata": {},
     "output_type": "display_data"
    },
    {
     "name": "stdout",
     "output_type": "stream",
     "text": [
      "\n",
      "А----------------ққ------т----------а----------у------ => Ақтау               , gt: Ақтау               \n",
      "Г-----о--р----н--------яя-----ц---к-----ии--------й--- => Горняцкий           , gt: Горняцкий           \n",
      "И-------------   -дд----о----бб----р----ы--------йй--- => И добрый            , gt: И добрый            \n",
      "П-----о--дд-----   с-к---а----лл--ь--п--ее-л---е---ми- => Под скальпелеми     , gt: Под скальпелем      \n",
      "А----------ж------с----и--------гг---и----- --т------- => Ажсиги т            , gt: джигит              \n",
      "Lr now: 0.001\n"
     ]
    },
    {
     "data": {
      "application/vnd.jupyter.widget-view+json": {
       "model_id": "ebe3d0dc812e4da3a9bf61110f81ead4",
       "version_major": 2,
       "version_minor": 0
      },
      "text/plain": [
       "HBox(children=(FloatProgress(value=0.0, layout=Layout(flex='2'), max=711.0), HTML(value='')), layout=Layout(di…"
      ]
     },
     "metadata": {},
     "output_type": "display_data"
    },
    {
     "name": "stdout",
     "output_type": "stream",
     "text": [
      "\n"
     ]
    },
    {
     "data": {
      "application/vnd.jupyter.widget-view+json": {
       "model_id": "7803cb0d5a4e485b8bd6ba702473a5b2",
       "version_major": 2,
       "version_minor": 0
      },
      "text/plain": [
       "HBox(children=(FloatProgress(value=0.0, layout=Layout(flex='2'), max=146.0), HTML(value='')), layout=Layout(di…"
      ]
     },
     "metadata": {},
     "output_type": "display_data"
    },
    {
     "name": "stdout",
     "output_type": "stream",
     "text": [
      "\n",
      "А---------------к-----т-----------о------б------е----- => Актобе              , gt: Актобе              \n",
      "А--------бб---хх-------а-----з----ии-----------яя----- => Абхазия             , gt: Абхазия             \n",
      "н-ыы--л--о---  -о--т-----  р--а--з--лл--у--к--и-,,---— => ныло от разлуки,—   , gt: ныло от разлуки,—   \n",
      "У---з---б--ее----к----ии----сс----т--------а----нн---- => Узбекистан          , gt: Узбекистан          \n",
      "К----оо----с---тт-------а-------н------а--------йй---- => Костанай            , gt: Костанай            \n",
      "Lr now: 0.001\n"
     ]
    },
    {
     "data": {
      "application/vnd.jupyter.widget-view+json": {
       "model_id": "66def78382a14feda2422deaa1bc9b45",
       "version_major": 2,
       "version_minor": 0
      },
      "text/plain": [
       "HBox(children=(FloatProgress(value=0.0, layout=Layout(flex='2'), max=711.0), HTML(value='')), layout=Layout(di…"
      ]
     },
     "metadata": {},
     "output_type": "display_data"
    },
    {
     "name": "stdout",
     "output_type": "stream",
     "text": [
      "\n"
     ]
    },
    {
     "data": {
      "application/vnd.jupyter.widget-view+json": {
       "model_id": "0d8ba790ffd447a3a86b71f7cb138c1b",
       "version_major": 2,
       "version_minor": 0
      },
      "text/plain": [
       "HBox(children=(FloatProgress(value=0.0, layout=Layout(flex='2'), max=146.0), HTML(value='')), layout=Layout(di…"
      ]
     },
     "metadata": {},
     "output_type": "display_data"
    },
    {
     "name": "stdout",
     "output_type": "stream",
     "text": [
      "\n",
      "н-----------а-------в-----с-----е---------д------а---- => навседа             , gt: навсегда            \n",
      "Ш------------------а-----р-----дд----а------р----а---- => Шардара             , gt: Шардара             \n",
      "А-------лл-------мм-------а---------т----------ы------ => Алматы              , gt: Алматы              \n",
      "м-------о---е----йй---  -лл---е--ж-------и-----т-----, => моей лежит,         , gt: моей лежит,         \n",
      "Р-----------О-------С----------С--------И---------Я--- => РОССИЯ              , gt: РОССИЯ              \n",
      "Lr now: 0.001\n"
     ]
    },
    {
     "data": {
      "application/vnd.jupyter.widget-view+json": {
       "model_id": "f7213b331611415d8dc98d855e210852",
       "version_major": 2,
       "version_minor": 0
      },
      "text/plain": [
       "HBox(children=(FloatProgress(value=0.0, layout=Layout(flex='2'), max=711.0), HTML(value='')), layout=Layout(di…"
      ]
     },
     "metadata": {},
     "output_type": "display_data"
    },
    {
     "name": "stdout",
     "output_type": "stream",
     "text": [
      "\n"
     ]
    },
    {
     "data": {
      "application/vnd.jupyter.widget-view+json": {
       "model_id": "6848f34119bb42fca5978081e0058bec",
       "version_major": 2,
       "version_minor": 0
      },
      "text/plain": [
       "HBox(children=(FloatProgress(value=0.0, layout=Layout(flex='2'), max=146.0), HTML(value='')), layout=Layout(di…"
      ]
     },
     "metadata": {},
     "output_type": "display_data"
    },
    {
     "name": "stdout",
     "output_type": "stream",
     "text": [
      "\n",
      "о-тт----чч--и----з--н--ы-------   -м-----о---ее----й-- => отчизны моей        , gt: отчизны моей        \n",
      "Д---л---я--  -м----и--р--н--о--йй---  ж----ии-з--н-ии- => Для мирной жизни    , gt: Для мирной жизни    \n",
      "Г------дд---ее----------------  -н----о-----чч----ь--- => Где ночь            , gt: Где ночь            \n",
      "Н----о-   т-------щ-е--т----н--ы----   мм--е--ч--т--ы- => Но тщетны мечты     , gt: Но тщетны мечты,    \n",
      "о-б-ее-д---а--л---  -ч-е-р---тт---   -з--н--а--е--тт-- => обедал черт знает   , gt: обедал черт знает   \n",
      "Lr now: 0.001\n"
     ]
    },
    {
     "data": {
      "application/vnd.jupyter.widget-view+json": {
       "model_id": "08e688e68a4c47b38d7d1d51d2bcb05d",
       "version_major": 2,
       "version_minor": 0
      },
      "text/plain": [
       "HBox(children=(FloatProgress(value=0.0, layout=Layout(flex='2'), max=711.0), HTML(value='')), layout=Layout(di…"
      ]
     },
     "metadata": {},
     "output_type": "display_data"
    },
    {
     "name": "stdout",
     "output_type": "stream",
     "text": [
      "\n"
     ]
    },
    {
     "data": {
      "application/vnd.jupyter.widget-view+json": {
       "model_id": "0e5b42325c0649dd8164a3c0dd225e7c",
       "version_major": 2,
       "version_minor": 0
      },
      "text/plain": [
       "HBox(children=(FloatProgress(value=0.0, layout=Layout(flex='2'), max=146.0), HTML(value='')), layout=Layout(di…"
      ]
     },
     "metadata": {},
     "output_type": "display_data"
    },
    {
     "name": "stdout",
     "output_type": "stream",
     "text": [
      "\n",
      "К----  --у--м-----р----уу--,,--  -к---о---ггг--д--а--- => К умру, когда       , gt: К утру, когда       \n",
      "Ш-----------------------------------------уу---------- => Шу                  , gt: Шу                  \n",
      "З-аарр-а-дд-н--о---КК--а-зз-а--ххссст-аа-ннсскк-а---яя => Зарадно-Казахстанская, gt: Западно-Казахстанская\n",
      "А------тт-----ыы----р----а-----у--с----к---а-----яяя-- => Атырауская          , gt: Атырауская          \n",
      "с--вв--о--йй---------   с-о---вв-е-р----шш---ии--тт--- => свой совершит       , gt: свой совершит       \n",
      "Lr now: 0.001\n"
     ]
    },
    {
     "data": {
      "application/vnd.jupyter.widget-view+json": {
       "model_id": "b13653911bd948699098601b29cd0537",
       "version_major": 2,
       "version_minor": 0
      },
      "text/plain": [
       "HBox(children=(FloatProgress(value=0.0, layout=Layout(flex='2'), max=711.0), HTML(value='')), layout=Layout(di…"
      ]
     },
     "metadata": {},
     "output_type": "display_data"
    },
    {
     "name": "stdout",
     "output_type": "stream",
     "text": [
      "\n"
     ]
    },
    {
     "data": {
      "application/vnd.jupyter.widget-view+json": {
       "model_id": "b86577a9a52244fab1fd5a1ac90121a4",
       "version_major": 2,
       "version_minor": 0
      },
      "text/plain": [
       "HBox(children=(FloatProgress(value=0.0, layout=Layout(flex='2'), max=146.0), HTML(value='')), layout=Layout(di…"
      ]
     },
     "metadata": {},
     "output_type": "display_data"
    },
    {
     "name": "stdout",
     "output_type": "stream",
     "text": [
      "\n",
      "е----гг--о---------   п----ии----т-----а-----е---тт--- => его питает          , gt: его питает          \n",
      "п--о- т---н---о---  сс---о---ц---а--н---е--ш---ии---й- => по тно соцанеший    , gt: полно сожалений     \n",
      "О--нн----и---,,,--   -т--о---лл---к----а-----я--с---ь- => Они, толкаясь       , gt: Они, толкаясь       \n",
      "Я-----------  -с-------т---------а-----------лл------- => Я стал              , gt: Я стал              \n",
      "К---а--рр--а----гг--а---н----дд--и---н---с--кк-а---яя- => Карагандинская      , gt: Карагандинская      \n",
      "Lr now: 0.001\n"
     ]
    },
    {
     "data": {
      "application/vnd.jupyter.widget-view+json": {
       "model_id": "768c864d58334c2d83468aba6e81bbd7",
       "version_major": 2,
       "version_minor": 0
      },
      "text/plain": [
       "HBox(children=(FloatProgress(value=0.0, layout=Layout(flex='2'), max=711.0), HTML(value='')), layout=Layout(di…"
      ]
     },
     "metadata": {},
     "output_type": "display_data"
    },
    {
     "name": "stdout",
     "output_type": "stream",
     "text": [
      "\n"
     ]
    },
    {
     "data": {
      "application/vnd.jupyter.widget-view+json": {
       "model_id": "70eb5bac25ec48688343a7cb3522cac3",
       "version_major": 2,
       "version_minor": 0
      },
      "text/plain": [
       "HBox(children=(FloatProgress(value=0.0, layout=Layout(flex='2'), max=146.0), HTML(value='')), layout=Layout(di…"
      ]
     },
     "metadata": {},
     "output_type": "display_data"
    },
    {
     "name": "stdout",
     "output_type": "stream",
     "text": [
      "\n",
      "О--н---и----,,---  -т------о---лл---к---а----яя--с--ь- => Они, толкаясь       , gt: Они, толкаясь       \n",
      "А----------кк---------т-------------а------------у---- => Актау               , gt: Актау               \n",
      "Се-в-ерр-нн-о----КК-аа--з-а--хх-с-т---а--н--с-к-аа--я- => Северно-Казахстанская, gt: Северно-Казахстанская\n",
      "в----о--------  --в--с-е--------  к--о--н----ц-ыы----, => во все концы,       , gt: во все концы,       \n",
      "К-------Ы--------З----Ы-----Л---О------Р----Д-----А--- => КЫЗЫЛОРДА           , gt: КЫЗЫЛОРДА           \n",
      "Lr now: 0.001\n"
     ]
    },
    {
     "data": {
      "application/vnd.jupyter.widget-view+json": {
       "model_id": "467e72a794454851807016979c97c7da",
       "version_major": 2,
       "version_minor": 0
      },
      "text/plain": [
       "HBox(children=(FloatProgress(value=0.0, layout=Layout(flex='2'), max=711.0), HTML(value='')), layout=Layout(di…"
      ]
     },
     "metadata": {},
     "output_type": "display_data"
    },
    {
     "name": "stdout",
     "output_type": "stream",
     "text": [
      "\n"
     ]
    },
    {
     "data": {
      "application/vnd.jupyter.widget-view+json": {
       "model_id": "1704e4188ffd434fa39056270d3a7dd4",
       "version_major": 2,
       "version_minor": 0
      },
      "text/plain": [
       "HBox(children=(FloatProgress(value=0.0, layout=Layout(flex='2'), max=146.0), HTML(value='')), layout=Layout(di…"
      ]
     },
     "metadata": {},
     "output_type": "display_data"
    },
    {
     "name": "stdout",
     "output_type": "stream",
     "text": [
      "\n",
      "К----------Ы------З-----Ы------Л----О--Р------Д-----А- => КЫЗЫЛОРДА           , gt: КЫЗЫЛОРДА           \n",
      "Ш---------------а--------л-----кк-----а--------р------ => Шалкар              , gt: Шалкар              \n",
      "беессссмм-еер---т--н-ы--мм--и--  сст--ии-х-аа--м--и--? => бесмертными стихами?, gt: бессмертными стихами?\n",
      "Т----------у-----р----к----е----с----т------а-----н--- => Туркестан           , gt: Туркестан           \n",
      "П------е--тт----р---о--п---а--ввв--л--оо--в---с---к--- => Петропавловск       , gt: Петропавловск       \n",
      "Lr now: 0.001\n"
     ]
    },
    {
     "data": {
      "application/vnd.jupyter.widget-view+json": {
       "model_id": "f09f7967de4749eaa92f5d60d12d5d69",
       "version_major": 2,
       "version_minor": 0
      },
      "text/plain": [
       "HBox(children=(FloatProgress(value=0.0, layout=Layout(flex='2'), max=711.0), HTML(value='')), layout=Layout(di…"
      ]
     },
     "metadata": {},
     "output_type": "display_data"
    },
    {
     "name": "stdout",
     "output_type": "stream",
     "text": [
      "\n"
     ]
    },
    {
     "data": {
      "application/vnd.jupyter.widget-view+json": {
       "model_id": "6098378714014a7f913217611961eae1",
       "version_major": 2,
       "version_minor": 0
      },
      "text/plain": [
       "HBox(children=(FloatProgress(value=0.0, layout=Layout(flex='2'), max=146.0), HTML(value='')), layout=Layout(di…"
      ]
     },
     "metadata": {},
     "output_type": "display_data"
    },
    {
     "name": "stdout",
     "output_type": "stream",
     "text": [
      "\n",
      "ТТ------------А-----------Р--------А------------У----- => ТАРАУ               , gt: ТАРАЗ               \n",
      "К--------о---сс---тт-------аа-----нн------а--------й-- => Костанай            , gt: Костанай            \n",
      "А-------р------аа---------лл------ь-----с----кк------- => Аральск             , gt: Аральск             \n",
      "У---т-ьь-----КК--а----м----ее-нн---оо-гг--о-рр---с--к- => Уть-Каменогорск     , gt: Усть-Каменогорск    \n",
      "г----рр------ее-------м--------е-----л-------  ———---- => гремел —            , gt: гремел —            \n",
      "Lr now: 0.001\n"
     ]
    },
    {
     "data": {
      "application/vnd.jupyter.widget-view+json": {
       "model_id": "1223a2b339b74713a2d7bd077cebbe7a",
       "version_major": 2,
       "version_minor": 0
      },
      "text/plain": [
       "HBox(children=(FloatProgress(value=0.0, layout=Layout(flex='2'), max=711.0), HTML(value='')), layout=Layout(di…"
      ]
     },
     "metadata": {},
     "output_type": "display_data"
    },
    {
     "name": "stdout",
     "output_type": "stream",
     "text": [
      "\n"
     ]
    },
    {
     "data": {
      "application/vnd.jupyter.widget-view+json": {
       "model_id": "958dc7deaf2e4a29a42e6e672cba97b1",
       "version_major": 2,
       "version_minor": 0
      },
      "text/plain": [
       "HBox(children=(FloatProgress(value=0.0, layout=Layout(flex='2'), max=146.0), HTML(value='')), layout=Layout(di…"
      ]
     },
     "metadata": {},
     "output_type": "display_data"
    },
    {
     "name": "stdout",
     "output_type": "stream",
     "text": [
      "\n",
      "О---нн--а-------   -л--е--ж-----а----л---а-----   вв-- => Она лежала в        , gt: Она лежала в        \n",
      "П------о------сс----ее-------л--------о--------к------ => Поселок             , gt: Поселок             \n",
      "уу-------дд-----а---------л--------я-------яя--------. => удаляя.             , gt: удаляя.             \n",
      "Т---------у----р------к----ее----с-----т----а----н---- => Туркестан           , gt: Туркестан           \n",
      "с------вв----------о-----------юю--------------------… => свою…               , gt: свою…               \n",
      "Lr now: 0.001\n"
     ]
    },
    {
     "data": {
      "application/vnd.jupyter.widget-view+json": {
       "model_id": "e00691bcb87a47cc9e0b1297d5b0943f",
       "version_major": 2,
       "version_minor": 0
      },
      "text/plain": [
       "HBox(children=(FloatProgress(value=0.0, layout=Layout(flex='2'), max=711.0), HTML(value='')), layout=Layout(di…"
      ]
     },
     "metadata": {},
     "output_type": "display_data"
    },
    {
     "name": "stdout",
     "output_type": "stream",
     "text": [
      "\n"
     ]
    },
    {
     "data": {
      "application/vnd.jupyter.widget-view+json": {
       "model_id": "d33e3d4f9dd74fa59bc91b32897181e6",
       "version_major": 2,
       "version_minor": 0
      },
      "text/plain": [
       "HBox(children=(FloatProgress(value=0.0, layout=Layout(flex='2'), max=146.0), HTML(value='')), layout=Layout(di…"
      ]
     },
     "metadata": {},
     "output_type": "display_data"
    },
    {
     "name": "stdout",
     "output_type": "stream",
     "text": [
      "\n",
      "К-------ы------з---ыы------лл---оо--рр------дд---а---- => Кызылорда           , gt: Кызылорда           \n",
      "У------к----р--------а------ии---------н-------а------ => Украина             , gt: Украина             \n",
      "С-----------е----------------л-----------о------------ => Село                , gt: Село                \n",
      "П------аа----в--лл---о----д---а---р----с--к---а----я-- => Павлодарская        , gt: Павлодарская        \n",
      "П-----е---т---р---о--п----а----В---л---о---в----с---к- => ПетропаВловск       , gt: Петропавловск       \n",
      "Lr now: 0.001\n"
     ]
    },
    {
     "data": {
      "application/vnd.jupyter.widget-view+json": {
       "model_id": "2a5f245157b3498fbe10e02b12955d11",
       "version_major": 2,
       "version_minor": 0
      },
      "text/plain": [
       "HBox(children=(FloatProgress(value=0.0, layout=Layout(flex='2'), max=711.0), HTML(value='')), layout=Layout(di…"
      ]
     },
     "metadata": {},
     "output_type": "display_data"
    },
    {
     "name": "stdout",
     "output_type": "stream",
     "text": [
      "\n"
     ]
    },
    {
     "data": {
      "application/vnd.jupyter.widget-view+json": {
       "model_id": "e541f05d7748494182a0668416172c6e",
       "version_major": 2,
       "version_minor": 0
      },
      "text/plain": [
       "HBox(children=(FloatProgress(value=0.0, layout=Layout(flex='2'), max=146.0), HTML(value='')), layout=Layout(di…"
      ]
     },
     "metadata": {},
     "output_type": "display_data"
    },
    {
     "name": "stdout",
     "output_type": "stream",
     "text": [
      "\n",
      "в--лл-о--й-щ-н--н-о-е--  -вв-и-л--о------------------- => влойщнное вило      , gt: влюбленное вино     \n",
      "о---т----в--а--жж-----н---ы---х-  -б--о---й---ц--о-вв- => отважных бойцов     , gt: отважных бойцов     \n",
      "О------п-----я---т-------ь------   о---д---нн---а----, => Опять одна,         , gt: Опять одна,         \n",
      "З--а-п-аадд-н-о----ККаааз-аа-х-сс-т--а--ннссскк-а--яя- => Западно-Казахстанская, gt: Западно-Казахстанская\n",
      "УУ-----зз---б---ее--кк----и----сс---т-------а-----н--- => Узбекистан          , gt: Узбекистан          \n",
      "Lr now: 0.001\n"
     ]
    },
    {
     "data": {
      "application/vnd.jupyter.widget-view+json": {
       "model_id": "b3a68d8f552844ab8ef62c02ca60279e",
       "version_major": 2,
       "version_minor": 0
      },
      "text/plain": [
       "HBox(children=(FloatProgress(value=0.0, layout=Layout(flex='2'), max=711.0), HTML(value='')), layout=Layout(di…"
      ]
     },
     "metadata": {},
     "output_type": "display_data"
    },
    {
     "name": "stdout",
     "output_type": "stream",
     "text": [
      "\n"
     ]
    },
    {
     "data": {
      "application/vnd.jupyter.widget-view+json": {
       "model_id": "0035a58e1b894a318a4026e2b109473e",
       "version_major": 2,
       "version_minor": 0
      },
      "text/plain": [
       "HBox(children=(FloatProgress(value=0.0, layout=Layout(flex='2'), max=146.0), HTML(value='')), layout=Layout(di…"
      ]
     },
     "metadata": {},
     "output_type": "display_data"
    },
    {
     "name": "stdout",
     "output_type": "stream",
     "text": [
      "\n",
      "Ч----т---о---  сскк-а---з--а---т---ь--- -мм-----н---е- => Что сказать мне     , gt: Что сказать мне     \n",
      "Н---о---  ч--тт-ь--  нн--а---м----  -дд-ее--л--а--ттьь => Но чть нам делать   , gt: Но что нам делать   \n",
      "К----О-----С-ТТ----А---Н----А----Й---С---К----А-----Я- => КОСТАНАЙСКАЯ        , gt: КОСТАНАЙСКАЯ        \n",
      "Я--------   -з--вв--а---лл------  т-------е---б---я--, => Я звал тебя,        , gt: Я звал тебя,        \n",
      "Е----------с---------и-------------------лл-----ь----- => Есиль               , gt: Есиль               \n",
      "Lr now: 0.0001\n"
     ]
    },
    {
     "data": {
      "application/vnd.jupyter.widget-view+json": {
       "model_id": "9cedf5a1e755471b953c9b8d2dd6d1bd",
       "version_major": 2,
       "version_minor": 0
      },
      "text/plain": [
       "HBox(children=(FloatProgress(value=0.0, layout=Layout(flex='2'), max=711.0), HTML(value='')), layout=Layout(di…"
      ]
     },
     "metadata": {},
     "output_type": "display_data"
    },
    {
     "name": "stdout",
     "output_type": "stream",
     "text": [
      "\n"
     ]
    },
    {
     "data": {
      "application/vnd.jupyter.widget-view+json": {
       "model_id": "ef6be4097a9f4ae5994de25939f25e3a",
       "version_major": 2,
       "version_minor": 0
      },
      "text/plain": [
       "HBox(children=(FloatProgress(value=0.0, layout=Layout(flex='2'), max=146.0), HTML(value='')), layout=Layout(di…"
      ]
     },
     "metadata": {},
     "output_type": "display_data"
    },
    {
     "name": "stdout",
     "output_type": "stream",
     "text": [
      "\n",
      "н--ы---лл--оо-  о--т---- -р---а-з--л--у--л--ии---,---— => ныло от разлули,—   , gt: ныло от разлуки,—   \n",
      "к---а---кк--------   м----о---л-о---д----о---сс-т---ь- => как молодость       , gt: как молодость       \n",
      "О---к----т-------я--бб--р---ьь--сс--к-----и-------й--- => Октябрьский         , gt: Октябрьский         \n",
      "Б-------а-------йй------к-------о---н--------ы-----р-- => Байконыр            , gt: Байконыр            \n",
      "х-------------а------л---------е------б--------,------ => халеб,              , gt: хлеб,               \n",
      "Lr now: 0.0001\n"
     ]
    },
    {
     "data": {
      "application/vnd.jupyter.widget-view+json": {
       "model_id": "7f0029dba43348848a73cf63b284e8cb",
       "version_major": 2,
       "version_minor": 0
      },
      "text/plain": [
       "HBox(children=(FloatProgress(value=0.0, layout=Layout(flex='2'), max=711.0), HTML(value='')), layout=Layout(di…"
      ]
     },
     "metadata": {},
     "output_type": "display_data"
    },
    {
     "name": "stdout",
     "output_type": "stream",
     "text": [
      "\n"
     ]
    },
    {
     "data": {
      "application/vnd.jupyter.widget-view+json": {
       "model_id": "f2f71bbfe4524d9abe2cd14c1cd0737c",
       "version_major": 2,
       "version_minor": 0
      },
      "text/plain": [
       "HBox(children=(FloatProgress(value=0.0, layout=Layout(flex='2'), max=146.0), HTML(value='')), layout=Layout(di…"
      ]
     },
     "metadata": {},
     "output_type": "display_data"
    },
    {
     "name": "stdout",
     "output_type": "stream",
     "text": [
      "\n",
      "о------лл--------м----------а-------тт---------ыы----- => олматы              , gt: Алматы              \n",
      "Б--------------уу---ллл-----а--------е------вв----о--- => Булаево             , gt: Булаево             \n",
      "И----х-------   -з--аа----б--в--е--нн---н---ы------йй- => Их забвенный        , gt: Их забвенный        \n",
      "С--------а-----р--------к-------а------н------д------- => Сарканд             , gt: Сарканд             \n",
      "В-О-С-ТТ--ОЧЧ-Н--О-  -К-А--З-А---Х-С--Т--А--Н-С-К-А--Я => ВОСТОЧНО КАЗАХСТАНСКАЯ, gt: Восточно-Казахстанская\n",
      "Lr now: 0.0001\n"
     ]
    },
    {
     "data": {
      "application/vnd.jupyter.widget-view+json": {
       "model_id": "e8fa1f1f1043498a94d2b28bc6135b0e",
       "version_major": 2,
       "version_minor": 0
      },
      "text/plain": [
       "HBox(children=(FloatProgress(value=0.0, layout=Layout(flex='2'), max=711.0), HTML(value='')), layout=Layout(di…"
      ]
     },
     "metadata": {},
     "output_type": "display_data"
    },
    {
     "name": "stdout",
     "output_type": "stream",
     "text": [
      "\n"
     ]
    },
    {
     "data": {
      "application/vnd.jupyter.widget-view+json": {
       "model_id": "05a4387829384a609fa9f095c5c6f976",
       "version_major": 2,
       "version_minor": 0
      },
      "text/plain": [
       "HBox(children=(FloatProgress(value=0.0, layout=Layout(flex='2'), max=146.0), HTML(value='')), layout=Layout(di…"
      ]
     },
     "metadata": {},
     "output_type": "display_data"
    },
    {
     "name": "stdout",
     "output_type": "stream",
     "text": [
      "\n",
      "з--------л---е--нн----е--е----т-----   е----лл---ь---, => зленеет ель,        , gt: зеленеет ель,       \n",
      "о-тт--------  -с--тт-----р--а----дд--а--н---ь---я----, => от страданья,       , gt: от страданья,       \n",
      "Д--------------е----рр---------к---------у------л----- => Деркул              , gt: Деркул              \n",
      "З----а----т----о---бб--о---л----ь---с----ии-----к----- => Затобольсик         , gt: Затобольсик         \n",
      "С--тт-----оо-----  -б----л---ии---ж------н----и---хх-- => Сто ближних         , gt: Что ближних         \n",
      "Lr now: 0.0001\n"
     ]
    },
    {
     "data": {
      "application/vnd.jupyter.widget-view+json": {
       "model_id": "518f308b7ea84fa9938cb2da2c0708bf",
       "version_major": 2,
       "version_minor": 0
      },
      "text/plain": [
       "HBox(children=(FloatProgress(value=0.0, layout=Layout(flex='2'), max=711.0), HTML(value='')), layout=Layout(di…"
      ]
     },
     "metadata": {},
     "output_type": "display_data"
    },
    {
     "name": "stdout",
     "output_type": "stream",
     "text": [
      "\n"
     ]
    },
    {
     "data": {
      "application/vnd.jupyter.widget-view+json": {
       "model_id": "e4cc0142b6684515b296c895ec86370a",
       "version_major": 2,
       "version_minor": 0
      },
      "text/plain": [
       "HBox(children=(FloatProgress(value=0.0, layout=Layout(flex='2'), max=146.0), HTML(value='')), layout=Layout(di…"
      ]
     },
     "metadata": {},
     "output_type": "display_data"
    },
    {
     "name": "stdout",
     "output_type": "stream",
     "text": [
      "\n"
     ]
    },
    {
     "data": {
      "application/vnd.jupyter.widget-view+json": {
       "model_id": "b27d0ce19d8d4302835ffc9ac2ce4beb",
       "version_major": 2,
       "version_minor": 0
      },
      "text/plain": [
       "HBox(children=(FloatProgress(value=0.0, layout=Layout(flex='2'), max=146.0), HTML(value='')), layout=Layout(di…"
      ]
     },
     "metadata": {},
     "output_type": "display_data"
    },
    {
     "name": "stdout",
     "output_type": "stream",
     "text": [
      "\n",
      "и-  -з--а--лл--е--ч---н---и-я----   р----о---н----ы--- => и залечния роны     , gt: и залечила раны     \n",
      "К-----а-----зз----аа-------х----с---тт------аа----нн-- => Казахстан           , gt: Казахстан           \n",
      "Л---иишшш-ь--  б--ы--   н--е- -п-р--о-с-тт---и--т---ь- => Лишь бы не простить , gt: Лишь бы не простить \n",
      "З----а----рр-----ы------в-----шшш---ииии-----с-----ь-- => Зарывшись           , gt: Зарывшись           \n",
      "ч-------а-----сс-----о------вв------а---------яяя----- => часовая             , gt: часовая             \n",
      "Lr now: 0.0001\n"
     ]
    },
    {
     "data": {
      "application/vnd.jupyter.widget-view+json": {
       "model_id": "56269011d41d40e0a7d385d22962c6ab",
       "version_major": 2,
       "version_minor": 0
      },
      "text/plain": [
       "HBox(children=(FloatProgress(value=0.0, layout=Layout(flex='2'), max=711.0), HTML(value='')), layout=Layout(di…"
      ]
     },
     "metadata": {},
     "output_type": "display_data"
    },
    {
     "name": "stderr",
     "output_type": "stream",
     "text": [
      "IOPub message rate exceeded.\n",
      "The notebook server will temporarily stop sending output\n",
      "to the client in order to avoid crashing it.\n",
      "To change this limit, set the config variable\n",
      "`--NotebookApp.iopub_msg_rate_limit`.\n",
      "\n",
      "Current values:\n",
      "NotebookApp.iopub_msg_rate_limit=1000.0 (msgs/sec)\n",
      "NotebookApp.rate_limit_window=3.0 (secs)\n",
      "\n"
     ]
    },
    {
     "name": "stdout",
     "output_type": "stream",
     "text": [
      "\n"
     ]
    },
    {
     "data": {
      "application/vnd.jupyter.widget-view+json": {
       "model_id": "9a5d3c48e9e64c48aeed0586ea7c4aec",
       "version_major": 2,
       "version_minor": 0
      },
      "text/plain": [
       "HBox(children=(FloatProgress(value=0.0, layout=Layout(flex='2'), max=146.0), HTML(value='')), layout=Layout(di…"
      ]
     },
     "metadata": {},
     "output_type": "display_data"
    },
    {
     "name": "stdout",
     "output_type": "stream",
     "text": [
      "\n",
      "К---а----к----  н-----е--кк---о--гг---д----а----  -в-- => Как некогда в       , gt: Как некогда в       \n",
      "В------   оо---т----д--е---лл--ьь--нн-оо-сс-тт--и----, => В отдельности,      , gt: В отдельности,      \n",
      "я-----   оо-з-ии--р--а--л---  п---о--л--м--ии-р--а---, => я озирал полмира,   , gt: я озирал полмира,   \n",
      "С---------тт-------е----пп-----ннн-------яя------к---- => Степняк             , gt: Степняк             \n",
      "ш---ее-сс-т-----о-гг-о---  -ч---у--в--с-тт----вв--а--. => шестого чувства.    , gt: шестого чувства.    \n",
      "Lr now: 0.0001\n"
     ]
    },
    {
     "data": {
      "application/vnd.jupyter.widget-view+json": {
       "model_id": "f4b22736a0e947c48dc4718b247daf8d",
       "version_major": 2,
       "version_minor": 0
      },
      "text/plain": [
       "HBox(children=(FloatProgress(value=0.0, layout=Layout(flex='2'), max=711.0), HTML(value='')), layout=Layout(di…"
      ]
     },
     "metadata": {},
     "output_type": "display_data"
    },
    {
     "name": "stdout",
     "output_type": "stream",
     "text": [
      "\n"
     ]
    },
    {
     "data": {
      "application/vnd.jupyter.widget-view+json": {
       "model_id": "f375c78aa6304af68a551c5e2ab9c3dd",
       "version_major": 2,
       "version_minor": 0
      },
      "text/plain": [
       "HBox(children=(FloatProgress(value=0.0, layout=Layout(flex='2'), max=146.0), HTML(value='')), layout=Layout(di…"
      ]
     },
     "metadata": {},
     "output_type": "display_data"
    },
    {
     "name": "stdout",
     "output_type": "stream",
     "text": [
      "\n",
      "А-------------с------т--------аа-----н--------аа------ => Астана              , gt: Астана              \n",
      "А--------тт----------ыы--------р-------а---------у---- => Атырау              , gt: Атырау              \n",
      "м-----и--р--н--ыы---й----  т----р--о---ш---т----о--р-, => мирный троштор,     , gt: мирный трактор,     \n",
      "М--------О----ЛЛ-----ДД--------А-----ВВ-----И------Я-- => МОЛДАВИЯ            , gt: МОЛДАВИЯ            \n",
      "Воосстт--о-чч-нн---о--КККаааззааххссс-т--ааннссск-а--я => Восточно-Казахстанская, gt: Восточно-Казахстанская\n",
      "Lr now: 0.0001\n"
     ]
    },
    {
     "data": {
      "application/vnd.jupyter.widget-view+json": {
       "model_id": "258fe07293f8473b8cb1397c3e6c0706",
       "version_major": 2,
       "version_minor": 0
      },
      "text/plain": [
       "HBox(children=(FloatProgress(value=0.0, layout=Layout(flex='2'), max=711.0), HTML(value='')), layout=Layout(di…"
      ]
     },
     "metadata": {},
     "output_type": "display_data"
    },
    {
     "name": "stdout",
     "output_type": "stream",
     "text": [
      "\n"
     ]
    },
    {
     "data": {
      "application/vnd.jupyter.widget-view+json": {
       "model_id": "6c9d05d1d9864ab3b3034dc5ad38ae27",
       "version_major": 2,
       "version_minor": 0
      },
      "text/plain": [
       "HBox(children=(FloatProgress(value=0.0, layout=Layout(flex='2'), max=146.0), HTML(value='')), layout=Layout(di…"
      ]
     },
     "metadata": {},
     "output_type": "display_data"
    },
    {
     "name": "stdout",
     "output_type": "stream",
     "text": [
      "\n",
      "П---р--о--ш----л--о---  п--яя--т----ь---   -л-ее-т---, => Прошло пять лет,    , gt: Прошло пять лет,    \n",
      "с-вв---о--е--йй----------   -д--оо-р--о--гг-о----й---. => своей дорогой.      , gt: своей дорогой.      \n",
      "К----о--сс--т--а-----н----а------й-----с--к---а---я--- => Костанайская        , gt: Костанайская        \n",
      "Н--о-   в-оо-л-ч-а-ттт--  -н-ее---  т--р--о-н--у--л--, => Но волчат не тронул,, gt: Но волчат не тронул,\n",
      "с--   к--е--мм----   в---о--  фффф---р---а---к--е----. => с кем во фраке.     , gt: с кем во фраке.     \n",
      "Lr now: 0.0001\n"
     ]
    },
    {
     "data": {
      "application/vnd.jupyter.widget-view+json": {
       "model_id": "b6be37b5382849fa9698787f6a3707db",
       "version_major": 2,
       "version_minor": 0
      },
      "text/plain": [
       "HBox(children=(FloatProgress(value=0.0, layout=Layout(flex='2'), max=711.0), HTML(value='')), layout=Layout(di…"
      ]
     },
     "metadata": {},
     "output_type": "display_data"
    },
    {
     "name": "stdout",
     "output_type": "stream",
     "text": [
      "\n"
     ]
    },
    {
     "data": {
      "application/vnd.jupyter.widget-view+json": {
       "model_id": "0bab41271b364e76bdc7743ea96c8141",
       "version_major": 2,
       "version_minor": 0
      },
      "text/plain": [
       "HBox(children=(FloatProgress(value=0.0, layout=Layout(flex='2'), max=146.0), HTML(value='')), layout=Layout(di…"
      ]
     },
     "metadata": {},
     "output_type": "display_data"
    },
    {
     "name": "stdout",
     "output_type": "stream",
     "text": [
      "\n",
      "я------д-----   -дд----рр------у--ггг-ии-----мм------, => яд другим,          , gt: яд другим,          \n",
      "А------л----мммм---а---тт--ии----н----с---к---а----яя- => Алматинская         , gt: Алматинская         \n",
      "Т----а---------й----ыы-------н-------шшш----------а--- => Тайынша             , gt: Тайынша             \n",
      "Б-----Е------Л-----О-----Р-----У---С-----И--------Я--- => БЕЛОРУСИЯ           , gt: БЕЛОРУСИЯ           \n",
      "П----------е---тт----рр---о--п---а--вв--лл--о--в--с--к => Петропавловск       , gt: Пепропавловск       \n",
      "Lr now: 0.0001\n"
     ]
    },
    {
     "data": {
      "application/vnd.jupyter.widget-view+json": {
       "model_id": "601ce4cc0e7142d290c191d429e50a84",
       "version_major": 2,
       "version_minor": 0
      },
      "text/plain": [
       "HBox(children=(FloatProgress(value=0.0, layout=Layout(flex='2'), max=711.0), HTML(value='')), layout=Layout(di…"
      ]
     },
     "metadata": {},
     "output_type": "display_data"
    },
    {
     "name": "stdout",
     "output_type": "stream",
     "text": [
      "\n"
     ]
    },
    {
     "data": {
      "application/vnd.jupyter.widget-view+json": {
       "model_id": "0a655890362840c8996df1945b767609",
       "version_major": 2,
       "version_minor": 0
      },
      "text/plain": [
       "HBox(children=(FloatProgress(value=0.0, layout=Layout(flex='2'), max=146.0), HTML(value='')), layout=Layout(di…"
      ]
     },
     "metadata": {},
     "output_type": "display_data"
    },
    {
     "name": "stdout",
     "output_type": "stream",
     "text": [
      "\n",
      "Р-----------о-----с---------иии------------------яя--- => Росия               , gt: Россия              \n",
      "К----------о--ссс--тт--------а-------н------а------й-- => Костанай            , gt: Костанай            \n",
      "К------а----р---а-гг--а---н----ддд-иинн--сс-кк-аа--яя- => Карагандинская      , gt: Карагандинская      \n",
      "В---н--ии---м---а--е--мм-----   о--дд-н---ии---мм----, => Внимаем одним,      , gt: Внимаем одним,      \n",
      "У-ссттт---ь-------КК---а---мм---е-нн--о--г-оо-р--сскк- => Усть-Каменогорск    , gt: Усть-Каменогорск    \n",
      "Lr now: 0.0001\n"
     ]
    },
    {
     "data": {
      "application/vnd.jupyter.widget-view+json": {
       "model_id": "65ec3beedaf34fb89ff8cf299391166f",
       "version_major": 2,
       "version_minor": 0
      },
      "text/plain": [
       "HBox(children=(FloatProgress(value=0.0, layout=Layout(flex='2'), max=711.0), HTML(value='')), layout=Layout(di…"
      ]
     },
     "metadata": {},
     "output_type": "display_data"
    },
    {
     "name": "stdout",
     "output_type": "stream",
     "text": [
      "\n"
     ]
    },
    {
     "data": {
      "application/vnd.jupyter.widget-view+json": {
       "model_id": "11354656b4cb49919cb87224c4aae86f",
       "version_major": 2,
       "version_minor": 0
      },
      "text/plain": [
       "HBox(children=(FloatProgress(value=0.0, layout=Layout(flex='2'), max=146.0), HTML(value='')), layout=Layout(di…"
      ]
     },
     "metadata": {},
     "output_type": "display_data"
    },
    {
     "name": "stdout",
     "output_type": "stream",
     "text": [
      "\n",
      "А-----л---ммм----а----тт----ии---нн---с--кк--а------я- => Алматинская         , gt: Алматинская         \n",
      "в--------  сс--вв---о----и---------  -с---н-----ы----- => в свои сны          , gt: в свои сны          \n",
      "М---------оо---ллл---дд---аа-------в----иии-----яя---- => Молдавия            , gt: Молдавия            \n",
      "К-----------е----н----------т-------------а-------у--- => Кентау              , gt: Кентау              \n",
      "А---Т-----Ы-------Р-----А-----У-----С---К-----А----Я-- => АТЫРАУСКАЯ          , gt: АТЫРАУСКАЯ          \n",
      "Lr now: 0.0001\n"
     ]
    },
    {
     "data": {
      "application/vnd.jupyter.widget-view+json": {
       "model_id": "eec2ebf661914c57b365639c6d8f12fe",
       "version_major": 2,
       "version_minor": 0
      },
      "text/plain": [
       "HBox(children=(FloatProgress(value=0.0, layout=Layout(flex='2'), max=711.0), HTML(value='')), layout=Layout(di…"
      ]
     },
     "metadata": {},
     "output_type": "display_data"
    },
    {
     "name": "stdout",
     "output_type": "stream",
     "text": [
      "\n"
     ]
    },
    {
     "data": {
      "application/vnd.jupyter.widget-view+json": {
       "model_id": "fb676f8596a64a50b4b42e24cd6995b2",
       "version_major": 2,
       "version_minor": 0
      },
      "text/plain": [
       "HBox(children=(FloatProgress(value=0.0, layout=Layout(flex='2'), max=146.0), HTML(value='')), layout=Layout(di…"
      ]
     },
     "metadata": {},
     "output_type": "display_data"
    },
    {
     "name": "stdout",
     "output_type": "stream",
     "text": [
      "\n",
      "Г--д-е-----  в-   з--а-мм--к--е-----  пп-уусстто--м--, => Где в замке пустом, , gt: Где в замке пустом, \n",
      "П--о--з-вв--о---л---я-----л----  -с--вв--о--ии----м--- => Позволял своим      , gt: Позволяя своим      \n",
      "Ж--------А----М----Б---Ы-----Л----Ь---С---К----А----Я- => ЖАМБЫЛЬСКАЯ         , gt: ЖАМБЫЛЬСКАЯ         \n",
      "п-а---м---я---т---и-----------  нн--а--р-оо-д--н-о--й- => памяти народной     , gt: памяти народной     \n",
      "П----о-------цц----е------лл--------у-------йй------,, => Поцелуй,            , gt: Поцелуй,            \n",
      "Lr now: 0.0001\n"
     ]
    },
    {
     "data": {
      "application/vnd.jupyter.widget-view+json": {
       "model_id": "2e4acf17bee5478ca04154cf39dd91f3",
       "version_major": 2,
       "version_minor": 0
      },
      "text/plain": [
       "HBox(children=(FloatProgress(value=0.0, layout=Layout(flex='2'), max=711.0), HTML(value='')), layout=Layout(di…"
      ]
     },
     "metadata": {},
     "output_type": "display_data"
    },
    {
     "name": "stdout",
     "output_type": "stream",
     "text": [
      "\n"
     ]
    },
    {
     "data": {
      "application/vnd.jupyter.widget-view+json": {
       "model_id": "02c8849a5a904ea19bdd838ae8803502",
       "version_major": 2,
       "version_minor": 0
      },
      "text/plain": [
       "HBox(children=(FloatProgress(value=0.0, layout=Layout(flex='2'), max=146.0), HTML(value='')), layout=Layout(di…"
      ]
     },
     "metadata": {},
     "output_type": "display_data"
    },
    {
     "name": "stdout",
     "output_type": "stream",
     "text": [
      "\n",
      "Ю--жж---н-о--------КК-аа-з-аахххсстт-аа--нссск-аа--яя- => Южно-Казахстанская  , gt: Южно-Казахстанская  \n",
      "т-ерр--з-аа-ллии------  жж--ии-ззн--ь---  м---о--ю---. => терзали жизнь мою.  , gt: терзали жизнь мою.  \n",
      "О-----п-----я---т-------ьь-----,,,-   -к---а----кк---- => Опять, как          , gt: Опять, как          \n",
      "К-----а----р----к---а----р----а---л-иии--нн----с---к-- => Каркаралинск        , gt: Каркаралинск        \n",
      "К------а---зз---а-----х------с---тт------а-----н------ => Казахстан           , gt: Казахстан           \n",
      "Lr now: 0.0001\n"
     ]
    },
    {
     "data": {
      "application/vnd.jupyter.widget-view+json": {
       "model_id": "81e394a593554b71a33ba8ab59fd8d18",
       "version_major": 2,
       "version_minor": 0
      },
      "text/plain": [
       "HBox(children=(FloatProgress(value=0.0, layout=Layout(flex='2'), max=711.0), HTML(value='')), layout=Layout(di…"
      ]
     },
     "metadata": {},
     "output_type": "display_data"
    },
    {
     "name": "stdout",
     "output_type": "stream",
     "text": [
      "\n"
     ]
    },
    {
     "data": {
      "application/vnd.jupyter.widget-view+json": {
       "model_id": "3d83b27d96c94cc181292c0623050e5a",
       "version_major": 2,
       "version_minor": 0
      },
      "text/plain": [
       "HBox(children=(FloatProgress(value=0.0, layout=Layout(flex='2'), max=146.0), HTML(value='')), layout=Layout(di…"
      ]
     },
     "metadata": {},
     "output_type": "display_data"
    },
    {
     "name": "stdout",
     "output_type": "stream",
     "text": [
      "\n",
      "А----к---т-----юю----б---ии----нн----с---к----а-----я- => Актюбинская         , gt: Актюбинская         \n",
      "В---с-тт---а---юю--т--------  гг-р--о--м---а--дд-ыы--- => Встают громады      , gt: Встают громады      \n",
      "Ч-тт----о----   -д--о---б-рр--о--д--е--т-----е---л--ь- => Что добродетель     , gt: Что добродетель     \n",
      "Р----е--бб--я---т-------   -у---жж----е-----  -н---е-- => Ребят уже не        , gt: Ребят уже не        \n",
      "К--------о---сс---тт---------а------н------а------й--- => Костанай            , gt: Костанай            \n",
      "Lr now: 0.0001\n"
     ]
    },
    {
     "data": {
      "application/vnd.jupyter.widget-view+json": {
       "model_id": "4f053ca9fad246a8a7f1023145b7eb10",
       "version_major": 2,
       "version_minor": 0
      },
      "text/plain": [
       "HBox(children=(FloatProgress(value=0.0, layout=Layout(flex='2'), max=711.0), HTML(value='')), layout=Layout(di…"
      ]
     },
     "metadata": {},
     "output_type": "display_data"
    },
    {
     "name": "stdout",
     "output_type": "stream",
     "text": [
      "\n"
     ]
    },
    {
     "data": {
      "application/vnd.jupyter.widget-view+json": {
       "model_id": "714a52cc6c624882a5312985df9eda15",
       "version_major": 2,
       "version_minor": 0
      },
      "text/plain": [
       "HBox(children=(FloatProgress(value=0.0, layout=Layout(flex='2'), max=146.0), HTML(value='')), layout=Layout(di…"
      ]
     },
     "metadata": {},
     "output_type": "display_data"
    },
    {
     "name": "stdout",
     "output_type": "stream",
     "text": [
      "\n",
      "С-Е--В-ЕЕ-Р-Н--О---КК--А-З-А--Х-С-Т-А--НН-СС-КК-А---Я- => СЕВЕРНО-КАЗАХСТАНСКАЯ, gt: СЕВЕРНО-КАЗАХСТАНСКАЯ\n",
      "Б--------а------лл----------х------аа-----шш---------- => Балхаш              , gt: Балхаш              \n",
      "к---а--н---а-----я------   к---о--л--ыы---б--е---л--ь- => каная колыбель      , gt: качая колыбель      \n",
      "К--------ии-----р-----г------ии-----з----и-------яя--- => Киргизия            , gt: Киргизия            \n",
      "т----------уу-----мм--------аа-----нн-------ыы-------- => туманы              , gt: туманы              \n",
      "Lr now: 0.0001\n"
     ]
    },
    {
     "data": {
      "application/vnd.jupyter.widget-view+json": {
       "model_id": "55fbfbbd82ac49e7b2668a789948078e",
       "version_major": 2,
       "version_minor": 0
      },
      "text/plain": [
       "HBox(children=(FloatProgress(value=0.0, layout=Layout(flex='2'), max=711.0), HTML(value='')), layout=Layout(di…"
      ]
     },
     "metadata": {},
     "output_type": "display_data"
    },
    {
     "name": "stdout",
     "output_type": "stream",
     "text": [
      "\n"
     ]
    },
    {
     "data": {
      "application/vnd.jupyter.widget-view+json": {
       "model_id": "6511b4f7cb7b4ac58999d7ce79b797c8",
       "version_major": 2,
       "version_minor": 0
      },
      "text/plain": [
       "HBox(children=(FloatProgress(value=0.0, layout=Layout(flex='2'), max=146.0), HTML(value='')), layout=Layout(di…"
      ]
     },
     "metadata": {},
     "output_type": "display_data"
    },
    {
     "name": "stdout",
     "output_type": "stream",
     "text": [
      "\n",
      "п--о--л-нн--о-----   ссоо-жж----а---л--е--н--ии---й--, => полно сожалений,    , gt: полно сожалений,    \n",
      "А---------лл-----ммм-------аа------т----------ыы------ => Алматы              , gt: Алматы              \n",
      "В----  гг--у--с---т---оо--йй---  л---о----щщ-и--н---е- => В густой лощине     , gt: В густой лощине     \n",
      "т----------е-----п--------ллл------о---------и-------- => теплои              , gt: теплои              \n",
      "А---к----м-----о---л---иии--нн---сс----к-----аа----яя- => Акмолинская         , gt: Акмолинская         \n",
      "Lr now: 0.0001\n"
     ]
    },
    {
     "data": {
      "application/vnd.jupyter.widget-view+json": {
       "model_id": "8f2dd3921f244c0eb31cf69e6122d79d",
       "version_major": 2,
       "version_minor": 0
      },
      "text/plain": [
       "HBox(children=(FloatProgress(value=0.0, layout=Layout(flex='2'), max=711.0), HTML(value='')), layout=Layout(di…"
      ]
     },
     "metadata": {},
     "output_type": "display_data"
    },
    {
     "name": "stdout",
     "output_type": "stream",
     "text": [
      "\n"
     ]
    },
    {
     "data": {
      "application/vnd.jupyter.widget-view+json": {
       "model_id": "6153ab883b334cd5a914f08b97781d07",
       "version_major": 2,
       "version_minor": 0
      },
      "text/plain": [
       "HBox(children=(FloatProgress(value=0.0, layout=Layout(flex='2'), max=146.0), HTML(value='')), layout=Layout(di…"
      ]
     },
     "metadata": {},
     "output_type": "display_data"
    },
    {
     "name": "stdout",
     "output_type": "stream",
     "text": [
      "\n",
      "П-----а---вв----лл--оо--ддд--а--рр---с----к---а-----я- => Павлодарская        , gt: Павлодарская        \n",
      "И-----------------   -с--ее--р-----д-----ц---е------,, => И сердце,           , gt: И сердце,           \n",
      "т-----------------------------ы----------------------- => ты                  , gt: ты                  \n",
      "Ю-----ж----н----а----я----   О--сс--ее--т-----и-----я- => Южная Осетия        , gt: Южная Осетия        \n",
      "Р----------ааа----------йй-------о--------нн---------- => Район               , gt: Район               \n",
      "Lr now: 0.0001\n"
     ]
    },
    {
     "data": {
      "application/vnd.jupyter.widget-view+json": {
       "model_id": "839be66da58448b1b447c5a7c77004bd",
       "version_major": 2,
       "version_minor": 0
      },
      "text/plain": [
       "HBox(children=(FloatProgress(value=0.0, layout=Layout(flex='2'), max=711.0), HTML(value='')), layout=Layout(di…"
      ]
     },
     "metadata": {},
     "output_type": "display_data"
    },
    {
     "name": "stdout",
     "output_type": "stream",
     "text": [
      "\n"
     ]
    },
    {
     "data": {
      "application/vnd.jupyter.widget-view+json": {
       "model_id": "8ad949715e4a46bfa49f03da92af31c1",
       "version_major": 2,
       "version_minor": 0
      },
      "text/plain": [
       "HBox(children=(FloatProgress(value=0.0, layout=Layout(flex='2'), max=146.0), HTML(value='')), layout=Layout(di…"
      ]
     },
     "metadata": {},
     "output_type": "display_data"
    },
    {
     "name": "stdout",
     "output_type": "stream",
     "text": [
      "\n",
      "И----  -т---е--н---и-------  чч----у-в--с-тт-----в---, => И тени чувств,      , gt: И тени чувств,      \n",
      "К--------ы-------з----ыы------л-оорр-------д----а----- => Кызылорда           , gt: Кызылорда           \n",
      "н--е---  зз-а--бб-и---л--ии----  гг-лл--и---н---о---й- => не забили глиной    , gt: не забыли глиной    \n",
      "З-аа-п-аа-д-нн-о------КК-аа-з-аахх-сст-а--н-сскк-а--яя => Западно-Казахстанская, gt: Западно-Казахстанская\n",
      "с-вв--о---йй-----   с-о--вв--е--р----шш---иии---т---,, => свой совершит,      , gt: свой совершит,      \n",
      "Lr now: 0.0001\n"
     ]
    },
    {
     "data": {
      "application/vnd.jupyter.widget-view+json": {
       "model_id": "5bf7754783ba456fbce6084b583b8ef6",
       "version_major": 2,
       "version_minor": 0
      },
      "text/plain": [
       "HBox(children=(FloatProgress(value=0.0, layout=Layout(flex='2'), max=711.0), HTML(value='')), layout=Layout(di…"
      ]
     },
     "metadata": {},
     "output_type": "display_data"
    },
    {
     "name": "stdout",
     "output_type": "stream",
     "text": [
      "\n"
     ]
    },
    {
     "data": {
      "application/vnd.jupyter.widget-view+json": {
       "model_id": "253b6032b9e340a4be0b0738bb760bc9",
       "version_major": 2,
       "version_minor": 0
      },
      "text/plain": [
       "HBox(children=(FloatProgress(value=0.0, layout=Layout(flex='2'), max=146.0), HTML(value='')), layout=Layout(di…"
      ]
     },
     "metadata": {},
     "output_type": "display_data"
    },
    {
     "name": "stdout",
     "output_type": "stream",
     "text": [
      "\n",
      "Ж-------а-----м----бб---ы------л----сс--кк---а-----я-- => Жамбылская          , gt: Жамбылская          \n",
      "к--  м----а--м--ее-,--  -ж----а--д--н--о--н---и---л-ии => к маме, жаднонили   , gt: к маме, жадно пили  \n",
      "П------рр---о---л--ее--т-----е--вв--шш----ии-----йй--- => Пролетевший         , gt: Пролетевший         \n",
      "б-----ыы--------лл-----о-------------------   --б----- => было б              , gt: было б              \n",
      "П-------а---вв---лл--о---дд--аа-рр----с--кк--а----яя-- => Павлодарская        , gt: Павлодарская        \n",
      "Lr now: 0.0001\n"
     ]
    },
    {
     "data": {
      "application/vnd.jupyter.widget-view+json": {
       "model_id": "2ab13dbc77254904bd778f7b88f34adb",
       "version_major": 2,
       "version_minor": 0
      },
      "text/plain": [
       "HBox(children=(FloatProgress(value=0.0, layout=Layout(flex='2'), max=711.0), HTML(value='')), layout=Layout(di…"
      ]
     },
     "metadata": {},
     "output_type": "display_data"
    },
    {
     "name": "stdout",
     "output_type": "stream",
     "text": [
      "\n"
     ]
    },
    {
     "data": {
      "application/vnd.jupyter.widget-view+json": {
       "model_id": "80016d4d939c4d83b37e02886204ec97",
       "version_major": 2,
       "version_minor": 0
      },
      "text/plain": [
       "HBox(children=(FloatProgress(value=0.0, layout=Layout(flex='2'), max=146.0), HTML(value='')), layout=Layout(di…"
      ]
     },
     "metadata": {},
     "output_type": "display_data"
    },
    {
     "name": "stdout",
     "output_type": "stream",
     "text": [
      "\n",
      "Н---а---   -д--р--е--в--н---е---йй---   сстт--е--н--е- => На древней стене    , gt: На древней стене    \n",
      "К------о---сс----т----------а------н-----а-------й---- => Костанай            , gt: Костанай            \n",
      "д-еевв-и--ч-ь--и---м------  к--у---п-а--н--ьь-ее--м--- => девичьим купаньем   , gt: девичьим купаньем   \n",
      "П------аа------вв------лл---оо-----дд---а------рр----- => Павлодар            , gt: Павлодар            \n",
      "В----  -к----о--т----о--р--о---м----------  т-----ы--- => В котором ты        , gt: В котором ты        \n",
      "Lr now: 0.0001\n"
     ]
    },
    {
     "data": {
      "application/vnd.jupyter.widget-view+json": {
       "model_id": "ae8a00b0b44d49ae98e8b19d4d66fec5",
       "version_major": 2,
       "version_minor": 0
      },
      "text/plain": [
       "HBox(children=(FloatProgress(value=0.0, layout=Layout(flex='2'), max=711.0), HTML(value='')), layout=Layout(di…"
      ]
     },
     "metadata": {},
     "output_type": "display_data"
    },
    {
     "name": "stdout",
     "output_type": "stream",
     "text": [
      "\n",
      "ж-------р-----а-------л---------  хх---лл--е---бб----- => жрал хлеб           , gt: жрал хлеб           \n",
      "и-х----  н-а-сслле-д-ст-в-е-н-н--ы--й----   --щ-ии-т-- => их наследственный щит, gt: их наследственный щит\n",
      "Г--------дд---ее-----------   нн-----о------ч------ь-- => Где ночь            , gt: Где ночь            \n",
      "х--------------л------ее------------ббб--------------. => хлеб.               , gt: хлеб.               \n",
      "г--л----у--б--о--к---ии---й------------  сс--лл--ее-д- => глубокий след       , gt: глубокий след       \n",
      "Lr now: 0.0001\n"
     ]
    },
    {
     "data": {
      "application/vnd.jupyter.widget-view+json": {
       "model_id": "645d1cea33684741ac1c8507fae35674",
       "version_major": 2,
       "version_minor": 0
      },
      "text/plain": [
       "HBox(children=(FloatProgress(value=0.0, layout=Layout(flex='2'), max=711.0), HTML(value='')), layout=Layout(di…"
      ]
     },
     "metadata": {},
     "output_type": "display_data"
    },
    {
     "name": "stdout",
     "output_type": "stream",
     "text": [
      "\n"
     ]
    },
    {
     "data": {
      "application/vnd.jupyter.widget-view+json": {
       "model_id": "8f63f59097c84555a5ba39f6f9a8adc6",
       "version_major": 2,
       "version_minor": 0
      },
      "text/plain": [
       "HBox(children=(FloatProgress(value=0.0, layout=Layout(flex='2'), max=146.0), HTML(value='')), layout=Layout(di…"
      ]
     },
     "metadata": {},
     "output_type": "display_data"
    },
    {
     "name": "stdout",
     "output_type": "stream",
     "text": [
      "\n",
      "Е---------------с---------ии---------------к---------- => Есик                , gt: Есик                \n",
      "е---гг---оо--------  -п----ии----тт----а------е----т-- => его питает          , gt: его питает          \n",
      "И-----зз-------------   ггг---о----р--------л-----а--- => Из горла            , gt: Из горла            \n",
      "Т-о-лль-к--о--  вв-ее-р-сстт--ы--  п--а-х---аа-т---ы-- => Только версты пахаты, gt: Только версты полосаты\n",
      "о----------пп--------------ы--------------т----------- => опыт                , gt: опыт                \n",
      "Lr now: 0.0001\n"
     ]
    },
    {
     "data": {
      "application/vnd.jupyter.widget-view+json": {
       "model_id": "dc4eff8a711649ada62e245d75bf5750",
       "version_major": 2,
       "version_minor": 0
      },
      "text/plain": [
       "HBox(children=(FloatProgress(value=0.0, layout=Layout(flex='2'), max=711.0), HTML(value='')), layout=Layout(di…"
      ]
     },
     "metadata": {},
     "output_type": "display_data"
    },
    {
     "name": "stdout",
     "output_type": "stream",
     "text": [
      "\n"
     ]
    },
    {
     "data": {
      "application/vnd.jupyter.widget-view+json": {
       "model_id": "bf7f10ccb87b46d6acb8930b78ea1bf2",
       "version_major": 2,
       "version_minor": 0
      },
      "text/plain": [
       "HBox(children=(FloatProgress(value=0.0, layout=Layout(flex='2'), max=146.0), HTML(value='')), layout=Layout(di…"
      ]
     },
     "metadata": {},
     "output_type": "display_data"
    },
    {
     "name": "stdout",
     "output_type": "stream",
     "text": [
      "\n",
      "м-----------------------е-----н-----------я----------. => меня.               , gt: меня.               \n",
      "р-----------------------------------нн---------------- => р-н                 , gt: р-н                 \n",
      "Ч----тт------о-----  б----л--иии--жж--е--нн----и---хх- => Что ближених        , gt: Что ближних         \n",
      "н-------е-------   н----аа---з---в---а-----н---ь---е-- => не названье         , gt: не названье         \n",
      "о---б----нн-----ии------ммм------аа---ее----тт-------, => обнимает,           , gt: Обнимает,           \n",
      "Lr now: 0.0001\n"
     ]
    },
    {
     "data": {
      "application/vnd.jupyter.widget-view+json": {
       "model_id": "3bb0d893265c4ac484cf2554c67c8a28",
       "version_major": 2,
       "version_minor": 0
      },
      "text/plain": [
       "HBox(children=(FloatProgress(value=0.0, layout=Layout(flex='2'), max=711.0), HTML(value='')), layout=Layout(di…"
      ]
     },
     "metadata": {},
     "output_type": "display_data"
    },
    {
     "name": "stdout",
     "output_type": "stream",
     "text": [
      "\n"
     ]
    },
    {
     "data": {
      "application/vnd.jupyter.widget-view+json": {
       "model_id": "3facf5deab60443998961b45eab0d78e",
       "version_major": 2,
       "version_minor": 0
      },
      "text/plain": [
       "HBox(children=(FloatProgress(value=0.0, layout=Layout(flex='2'), max=146.0), HTML(value='')), layout=Layout(di…"
      ]
     },
     "metadata": {},
     "output_type": "display_data"
    },
    {
     "name": "stdout",
     "output_type": "stream",
     "text": [
      "\n",
      "Я------   лл----юю--б--лл----ю-----  -т----е--б---я--, => Я люблю тебя,       , gt: Я люблю тебя,       \n",
      "м---оо--р---яя--к---и----   г---л---я--д---яя-тт-----. => моряки глядят.      , gt: моряки глядят.      \n",
      "Г---------уу----л------ь-----шш--------а-----т-------- => Гульшат             , gt: Гульшат             \n",
      "г-------о--------ррр--------------о---------д--------- => город               , gt: город               \n",
      "Ш------------ыы------мм--------кк------ее-----н-----тт => Шымкент             , gt: Шымкент             \n",
      "Lr now: 0.0001\n"
     ]
    },
    {
     "data": {
      "application/vnd.jupyter.widget-view+json": {
       "model_id": "97562c117b564072b9f07e1d868790ac",
       "version_major": 2,
       "version_minor": 0
      },
      "text/plain": [
       "HBox(children=(FloatProgress(value=0.0, layout=Layout(flex='2'), max=711.0), HTML(value='')), layout=Layout(di…"
      ]
     },
     "metadata": {},
     "output_type": "display_data"
    },
    {
     "name": "stdout",
     "output_type": "stream",
     "text": [
      "\n"
     ]
    },
    {
     "data": {
      "application/vnd.jupyter.widget-view+json": {
       "model_id": "7c6ad2f25f6e453397fe031a6ed5e325",
       "version_major": 2,
       "version_minor": 0
      },
      "text/plain": [
       "HBox(children=(FloatProgress(value=0.0, layout=Layout(flex='2'), max=146.0), HTML(value='')), layout=Layout(di…"
      ]
     },
     "metadata": {},
     "output_type": "display_data"
    },
    {
     "name": "stdout",
     "output_type": "stream",
     "text": [
      "\n",
      "н-а----м-------  -н-аа--с-лл--а--дд-и---т----ь--с-яя-- => нам насладиться     , gt: нам насладиться     \n",
      "р-----------а-----------ии----------о-------нн-------- => раион               , gt: раион               \n",
      "с-------к------о----р------о------   -лл-----ии------, => скоро ли,           , gt: скоро ли,           \n",
      "Ю----ж----н----а----я--------   -О-с-ее-тт----ии---я-- => Южная Осетия        , gt: Южная Осетия        \n",
      "К--оо-гг--д---а----  тт-вв---оо-е---  л----и----цц--о- => Когда твое лицо     , gt: Когда твое лицо     \n",
      "Lr now: 0.0001\n"
     ]
    },
    {
     "data": {
      "application/vnd.jupyter.widget-view+json": {
       "model_id": "f1f9895627f04a858a8da1b315db15be",
       "version_major": 2,
       "version_minor": 0
      },
      "text/plain": [
       "HBox(children=(FloatProgress(value=0.0, layout=Layout(flex='2'), max=711.0), HTML(value='')), layout=Layout(di…"
      ]
     },
     "metadata": {},
     "output_type": "display_data"
    },
    {
     "name": "stdout",
     "output_type": "stream",
     "text": [
      "\n"
     ]
    },
    {
     "data": {
      "application/vnd.jupyter.widget-view+json": {
       "model_id": "7378abbca49a4890a39d4805a7a3efe8",
       "version_major": 2,
       "version_minor": 0
      },
      "text/plain": [
       "HBox(children=(FloatProgress(value=0.0, layout=Layout(flex='2'), max=146.0), HTML(value='')), layout=Layout(di…"
      ]
     },
     "metadata": {},
     "output_type": "display_data"
    },
    {
     "name": "stdout",
     "output_type": "stream",
     "text": [
      "\n",
      "Я--------   зз--вв--а---л------   т-------е---б---я--, => Я звал тебя,        , gt: Я звал тебя,        \n",
      "ж------р----а-------л---------  -х-------лл--ее--б---- => жрал хлеб           , gt: жрал хлеб           \n",
      "Н---и-- -ж----а----л--е---йй----   к----о---н-----я--, => Ни жалей коня,      , gt: Не жалей коня,      \n",
      "А---------т---------б------а------с------а------р----- => Атбасар             , gt: Атбасар             \n",
      "Н-оо--  тт-----щщ-е-тт--н---ы----  -м--еечч-тт---ы---, => Но тщетны мечты,    , gt: Но тщетны мечты,    \n",
      "Lr now: 0.0001\n"
     ]
    },
    {
     "data": {
      "application/vnd.jupyter.widget-view+json": {
       "model_id": "3950b4213d954e11861cc9d75f4732e4",
       "version_major": 2,
       "version_minor": 0
      },
      "text/plain": [
       "HBox(children=(FloatProgress(value=0.0, layout=Layout(flex='2'), max=711.0), HTML(value='')), layout=Layout(di…"
      ]
     },
     "metadata": {},
     "output_type": "display_data"
    },
    {
     "name": "stdout",
     "output_type": "stream",
     "text": [
      "\n"
     ]
    },
    {
     "data": {
      "application/vnd.jupyter.widget-view+json": {
       "model_id": "3f1a5af38d8f4e2f8072ac53333c3228",
       "version_major": 2,
       "version_minor": 0
      },
      "text/plain": [
       "HBox(children=(FloatProgress(value=0.0, layout=Layout(flex='2'), max=146.0), HTML(value='')), layout=Layout(di…"
      ]
     },
     "metadata": {},
     "output_type": "display_data"
    },
    {
     "name": "stdout",
     "output_type": "stream",
     "text": [
      "\n",
      "В-------   с--о--к--р--о--вв--и--------щ-н-ии---цц--е- => В сокровищнице      , gt: В сокровищнице      \n",
      "П----А---В--ЛЛ---О---Д----А----РР---С---К-----А----ЯЯ- => ПАВЛОДАРСКАЯ        , gt: ПАВЛОДАРСКАЯ        \n",
      "Ч----е--м-----   с-вв-ее-т-----  -т----е--лл-ее-г--а-- => Чем свет телега     , gt: Чем свет телега     \n",
      "ч-уу-вв-стт-в-у---ю--------  ссо--л-и--д--а-р-н--оссть => чувствую солидарность, gt: чувствую солидарность\n",
      "г---рр-----ее------мммм---------е------лл--------  ——- => гремел —            , gt: гремел —            \n",
      "Lr now: 0.0001\n"
     ]
    },
    {
     "data": {
      "application/vnd.jupyter.widget-view+json": {
       "model_id": "cad98e2695624ac1aee97aaa6c3d11c5",
       "version_major": 2,
       "version_minor": 0
      },
      "text/plain": [
       "HBox(children=(FloatProgress(value=0.0, layout=Layout(flex='2'), max=711.0), HTML(value='')), layout=Layout(di…"
      ]
     },
     "metadata": {},
     "output_type": "display_data"
    },
    {
     "name": "stdout",
     "output_type": "stream",
     "text": [
      "\n"
     ]
    },
    {
     "data": {
      "application/vnd.jupyter.widget-view+json": {
       "model_id": "8119dfcfdb234410b65895a153fc3227",
       "version_major": 2,
       "version_minor": 0
      },
      "text/plain": [
       "HBox(children=(FloatProgress(value=0.0, layout=Layout(flex='2'), max=146.0), HTML(value='')), layout=Layout(di…"
      ]
     },
     "metadata": {},
     "output_type": "display_data"
    },
    {
     "name": "stdout",
     "output_type": "stream",
     "text": [
      "\n",
      "с-------пп-------------лл----------------юю---------,- => сплю,               , gt: сплю,               \n",
      "Т----УУ-----Р------К------Е---СС-----Т-----А-----НН--- => ТУРКЕСТАН           , gt: ТУРКЕСТАН           \n",
      "А----к----мм----оо----лл--иии---нн---с--к---а------яя- => Акмолинская         , gt: Акмолинская         \n",
      "л-о--ж---ии-тт--сс-яя---  н--а----  п--о--л-а--т---и-- => ложится на полати   , gt: ложится на полати   \n",
      "Т----о-  сс-е-р--д---ч-н--а---я----  т---о-с-к-аа--.-. => То сердчная тоска.. , gt: То сердечная тоска..\n",
      "Lr now: 0.0001\n"
     ]
    },
    {
     "data": {
      "application/vnd.jupyter.widget-view+json": {
       "model_id": "cd7623d9b57243ceb13c46ac4138c81a",
       "version_major": 2,
       "version_minor": 0
      },
      "text/plain": [
       "HBox(children=(FloatProgress(value=0.0, layout=Layout(flex='2'), max=711.0), HTML(value='')), layout=Layout(di…"
      ]
     },
     "metadata": {},
     "output_type": "display_data"
    },
    {
     "name": "stdout",
     "output_type": "stream",
     "text": [
      "\n"
     ]
    },
    {
     "data": {
      "application/vnd.jupyter.widget-view+json": {
       "model_id": "68d98591e0a945c585b68b070783e985",
       "version_major": 2,
       "version_minor": 0
      },
      "text/plain": [
       "HBox(children=(FloatProgress(value=0.0, layout=Layout(flex='2'), max=146.0), HTML(value='')), layout=Layout(di…"
      ]
     },
     "metadata": {},
     "output_type": "display_data"
    },
    {
     "name": "stdout",
     "output_type": "stream",
     "text": [
      "\n",
      "Заа--п-аа--дднн-о-----К--ааззаа-ххсстт-аа--нссккаа--я- => Западно-Казахстанская, gt: Западно-Казахстанская\n",
      "в---о--д---к--а---  -н--а------  -а---н---и---с-ее---, => водка на анисе,     , gt: водка на анисе,     \n",
      "П------е--тт---рр---о--пп--а---в---л--оо--в---сс--к--- => Петропавловск       , gt: Петропавловск       \n",
      "в-------л-----------юю-----б------л-----ё------н------ => влюблён             , gt: влюблён             \n",
      "м----н--е--  -с-н--ии--т----с--я---  п---лл--а------щщ => мне снится плащ     , gt: мне снится плащ     \n",
      "Lr now: 0.0001\n"
     ]
    },
    {
     "data": {
      "application/vnd.jupyter.widget-view+json": {
       "model_id": "0fdbc8a122844c20b07480545b947bfe",
       "version_major": 2,
       "version_minor": 0
      },
      "text/plain": [
       "HBox(children=(FloatProgress(value=0.0, layout=Layout(flex='2'), max=711.0), HTML(value='')), layout=Layout(di…"
      ]
     },
     "metadata": {},
     "output_type": "display_data"
    },
    {
     "name": "stdout",
     "output_type": "stream",
     "text": [
      "\n"
     ]
    },
    {
     "data": {
      "application/vnd.jupyter.widget-view+json": {
       "model_id": "5af146d494c0470c877e5c3f4878820c",
       "version_major": 2,
       "version_minor": 0
      },
      "text/plain": [
       "HBox(children=(FloatProgress(value=0.0, layout=Layout(flex='2'), max=146.0), HTML(value='')), layout=Layout(di…"
      ]
     },
     "metadata": {},
     "output_type": "display_data"
    },
    {
     "name": "stdout",
     "output_type": "stream",
     "text": [
      "\n",
      "и--ггр---а----л------  вв---   р---у--л--е-тт---к--у-, => играл в рулетку,    , gt: играл в рулетку,    \n",
      "п--оо--ч--у---я----   н--а------  п---л-ее-чч-а----х-- => почуя на плечах     , gt: почуя на плечах     \n",
      "К-----О-----К-----ШШ---------е------т-----А-------У--- => КОКШетАУ            , gt: КОКШЕТАУ            \n",
      "Ж------е--л---а--н---нн--о---йй-----  -цц--е---л---ии- => Желанной цели       , gt: Желанной цели       \n",
      "П---рр-е--к--р---аа--сс--н---о---   в---   н---а---сс- => Прекрасно в нас     , gt: Прекрасно в нас     \n",
      "Lr now: 1e-05\n"
     ]
    },
    {
     "data": {
      "application/vnd.jupyter.widget-view+json": {
       "model_id": "8082d7886a7d4a42ad96261fcb0c2927",
       "version_major": 2,
       "version_minor": 0
      },
      "text/plain": [
       "HBox(children=(FloatProgress(value=0.0, layout=Layout(flex='2'), max=711.0), HTML(value='')), layout=Layout(di…"
      ]
     },
     "metadata": {},
     "output_type": "display_data"
    },
    {
     "name": "stdout",
     "output_type": "stream",
     "text": [
      "\n"
     ]
    },
    {
     "data": {
      "application/vnd.jupyter.widget-view+json": {
       "model_id": "e8088c10b2e04260a42ed01501227c00",
       "version_major": 2,
       "version_minor": 0
      },
      "text/plain": [
       "HBox(children=(FloatProgress(value=0.0, layout=Layout(flex='2'), max=146.0), HTML(value='')), layout=Layout(di…"
      ]
     },
     "metadata": {},
     "output_type": "display_data"
    },
    {
     "name": "stdout",
     "output_type": "stream",
     "text": [
      "\n",
      "И------  в--с-п--о--мм--н--и--л----  яя--  тт--е-б--я- => И вспомнил я тебя   , gt: И вспомнил я тебя   \n",
      "Р----------о-------с-----ссс----иии-------------яя---- => Россия              , gt: Россия              \n",
      "Т----о--лл-чч-к---а----м-----и------  кк-рр--о-в--ьь-, => Толчками кровь,     , gt: Толчками кровь,     \n",
      "Севв-еер--н-о-----КК--а--з-а-ххсстт---а--нн-скк-а---я- => Северно-Казахстанская, gt: Северно-Казахстанская\n",
      "п---о--- -д---о--р---о-гг-е-- -з--и----м---н--е---й--, => по дороге зимней,   , gt: по дороге зимней,   \n",
      "Lr now: 1e-05\n"
     ]
    },
    {
     "data": {
      "application/vnd.jupyter.widget-view+json": {
       "model_id": "8c7471546de14868a40a15775389b98a",
       "version_major": 2,
       "version_minor": 0
      },
      "text/plain": [
       "HBox(children=(FloatProgress(value=0.0, layout=Layout(flex='2'), max=711.0), HTML(value='')), layout=Layout(di…"
      ]
     },
     "metadata": {},
     "output_type": "display_data"
    },
    {
     "name": "stdout",
     "output_type": "stream",
     "text": [
      "\n"
     ]
    },
    {
     "data": {
      "application/vnd.jupyter.widget-view+json": {
       "model_id": "43d065d9e5cb499a93326f1e2c23a25d",
       "version_major": 2,
       "version_minor": 0
      },
      "text/plain": [
       "HBox(children=(FloatProgress(value=0.0, layout=Layout(flex='2'), max=146.0), HTML(value='')), layout=Layout(di…"
      ]
     },
     "metadata": {},
     "output_type": "display_data"
    },
    {
     "name": "stdout",
     "output_type": "stream",
     "text": [
      "\n",
      "И-------  ч--е--л--о--вв-е-к------  пп--о---ш---е--л-- => И человек пошел     , gt: И человек пошел     \n",
      "М---------------а-------к------и------н-----с----кк--- => Макинск             , gt: Макинск             \n",
      "Д---р--ее-мм---л--яя---   с-тт---о--л--кк---н---уу--л- => Дремля столкнул     , gt: Дремля смолкнул     \n",
      "Ж----------ее--сс--ттт--------о----к------о-----й----- => Жестокой            , gt: Жестокой            \n",
      "А----------------к-------сс--------а-------------йй--- => Аксай               , gt: Аксай               \n",
      "Lr now: 1e-05\n"
     ]
    },
    {
     "data": {
      "application/vnd.jupyter.widget-view+json": {
       "model_id": "625912cf580b447e8ddcc2f5a1a2853f",
       "version_major": 2,
       "version_minor": 0
      },
      "text/plain": [
       "HBox(children=(FloatProgress(value=0.0, layout=Layout(flex='2'), max=711.0), HTML(value='')), layout=Layout(di…"
      ]
     },
     "metadata": {},
     "output_type": "display_data"
    },
    {
     "name": "stdout",
     "output_type": "stream",
     "text": [
      "\n"
     ]
    },
    {
     "data": {
      "application/vnd.jupyter.widget-view+json": {
       "model_id": "9078bc19ae5d4de99e0e4f63f69358fe",
       "version_major": 2,
       "version_minor": 0
      },
      "text/plain": [
       "HBox(children=(FloatProgress(value=0.0, layout=Layout(flex='2'), max=146.0), HTML(value='')), layout=Layout(di…"
      ]
     },
     "metadata": {},
     "output_type": "display_data"
    },
    {
     "name": "stdout",
     "output_type": "stream",
     "text": [
      "\n",
      "и--------н-------оо----гг---дд--------а-----------,,,- => иногда,             , gt: иногда,             \n",
      "т------еее------п---------л----------о---------и------ => теплои              , gt: теплои              \n",
      "В----   -о---т----д--е---л--ьь--нн---о--с--т-----и---, => В отдельности,      , gt: В отдельности,      \n",
      "с-о--з--н--а---н---ии--я---  -б-е--с--сс-ии--л--ь---я- => сознания бессилья   , gt: сознания бессилья   \n",
      "к--------оо-----нн-------вв-------оо---------яя------, => конвоя,             , gt: конвоя,             \n",
      "Lr now: 1e-05\n"
     ]
    },
    {
     "data": {
      "application/vnd.jupyter.widget-view+json": {
       "model_id": "793210ee661542948ed0aaff8b5e3ff0",
       "version_major": 2,
       "version_minor": 0
      },
      "text/plain": [
       "HBox(children=(FloatProgress(value=0.0, layout=Layout(flex='2'), max=711.0), HTML(value='')), layout=Layout(di…"
      ]
     },
     "metadata": {},
     "output_type": "display_data"
    },
    {
     "name": "stdout",
     "output_type": "stream",
     "text": [
      "\n"
     ]
    },
    {
     "data": {
      "application/vnd.jupyter.widget-view+json": {
       "model_id": "914c878418694991929a189fed52a64d",
       "version_major": 2,
       "version_minor": 0
      },
      "text/plain": [
       "HBox(children=(FloatProgress(value=0.0, layout=Layout(flex='2'), max=146.0), HTML(value='')), layout=Layout(di…"
      ]
     },
     "metadata": {},
     "output_type": "display_data"
    },
    {
     "name": "stdout",
     "output_type": "stream",
     "text": [
      "\n",
      "и-------   -к----р------ее---п-------к------а--------. => и крепка.           , gt: и крепка.           \n",
      "П-----о----л---н--оо-чч--ь------------  -н-----а---с-- => Полночь нас         , gt: Полночь нас         \n",
      "Ш--------е----мм------о---н------а-----и-----х---аа--- => Шемонаиха           , gt: Шемонаиха           \n",
      "П----е--тт--рр---о---пп---а----вв-ллл-ооо--вв--с--к--- => Петропавловск       , gt: Петропавловск       \n",
      "Т---у--р-----к------е----сс----тт-------а------нн----- => Туркестан           , gt: Туркестан           \n",
      "Lr now: 1e-05\n"
     ]
    },
    {
     "data": {
      "application/vnd.jupyter.widget-view+json": {
       "model_id": "fbe0be78548740bdb6524db53fb40ef8",
       "version_major": 2,
       "version_minor": 0
      },
      "text/plain": [
       "HBox(children=(FloatProgress(value=0.0, layout=Layout(flex='2'), max=711.0), HTML(value='')), layout=Layout(di…"
      ]
     },
     "metadata": {},
     "output_type": "display_data"
    }
   ],
   "source": [
    "init_dict = {'device': 'cuda:9',\n",
    "             'save_folder': '/home/storage/3020/KrivorotovI/db/HKR_experiments/CRNN_1',\n",
    "             \n",
    "             'train_dataset':{'pickle_file': '/home/storage/3020/KrivorotovI/db/HW-OCR/datasets/train.pkl',\n",
    "                              'meta': False,\n",
    "                              'num_imgs': -1,\n",
    "                              'rescale_mode': True,\n",
    "                              'padding_mode': False},\n",
    "             'valid_dataset': {'pickle_file': '/home/storage/3020/KrivorotovI/db/HW-OCR/datasets/val.pkl',\n",
    "                               'meta': False,\n",
    "                               'num_imgs': -1,\n",
    "                               'rescale_mode': True,\n",
    "                               'padding_mode': False},\n",
    "             'test1_dataset': {'pickle_file': '/home/storage/3020/KrivorotovI/db/HKR/datasets/test1_clear.pkl',\n",
    "                               'meta': False,\n",
    "                               'num_imgs': -1,\n",
    "                               'rescale_mode': True,\n",
    "                               'padding_mode': False},\n",
    "             'test2_dataset': {'pickle_file': '/home/storage/3020/KrivorotovI/db/HW-OCR/datasets/test2.pkl',\n",
    "                               'meta': False,\n",
    "                               'num_imgs': -1,\n",
    "                               'rescale_mode': True,\n",
    "                               'padding_mode': False},\n",
    "             'num_imgs': -1, 'num_workers': 1, 'batch_size': 64, 'seed': 34, 'max_epochs': 100, 'model_pretrain': '',\n",
    "             \n",
    "             'model_params':{'name': 'CRNN',\n",
    "                             'imgH': 32,\n",
    "                             'nc': 3,\n",
    "                             'nclass': 80,\n",
    "                             'nh': 256,\n",
    "                             'n_rnn': 2,\n",
    "                             'leakyRelu': False\n",
    "                             },\n",
    "             \n",
    "             'optimizer_params':{'class': 'RMSprop',\n",
    "                                 'parameters':{'lr': 0.001}\n",
    "                                 },\n",
    "             'scheduler_params':{'milestones':[40, 70],\n",
    "                                 'gamma': 0.1}}\n",
    "trainer = Trainer(**init_dict)\n",
    "trainer.train()"
   ]
  },
  {
   "cell_type": "code",
   "execution_count": 3,
   "metadata": {},
   "outputs": [
    {
     "data": {
      "application/vnd.jupyter.widget-view+json": {
       "model_id": "f3e042b6083643cd85558cb956c2291a",
       "version_major": 2,
       "version_minor": 0
      },
      "text/plain": [
       "HBox(children=(FloatProgress(value=0.0, layout=Layout(flex='2'), max=74.0), HTML(value='')), layout=Layout(dis…"
      ]
     },
     "metadata": {},
     "output_type": "display_data"
    },
    {
     "name": "stdout",
     "output_type": "stream",
     "text": [
      "\n",
      "М----------------а--------к-------а--------тт--------- => Макат               , gt: Макат               \n",
      "К--------а-----рр----а-----г--аа-----н------дд-----а-- => Караганда           , gt: Караганда           \n",
      "с---вв--о---б--о--д---у-   -м-----о---т--и---т-ьь-??-- => свободу мотить?     , gt: свободу любить?     \n",
      "С------ее-------м---------------е--------й------------ => Семей               , gt: Семей               \n",
      "У------------к---------т-----------о-------б-----е---- => Уктобе              , gt: Уштобе              \n",
      "Lr now: 1e-05\n",
      "CER: 0.11138542647758272\n",
      "WER: 0.38888302364864863\n"
     ]
    }
   ],
   "source": [
    "trainer.validate(iterator = trainer.test1_iterator, test = True)"
   ]
  },
  {
   "cell_type": "code",
   "execution_count": 4,
   "metadata": {},
   "outputs": [
    {
     "data": {
      "application/vnd.jupyter.widget-view+json": {
       "model_id": "cbf805b93afb447aa0b4ae3404ea5327",
       "version_major": 2,
       "version_minor": 0
      },
      "text/plain": [
       "HBox(children=(FloatProgress(value=0.0, layout=Layout(flex='2'), max=78.0), HTML(value='')), layout=Layout(dis…"
      ]
     },
     "metadata": {},
     "output_type": "display_data"
    },
    {
     "name": "stdout",
     "output_type": "stream",
     "text": [
      "\n",
      "в----пп----о-----т------ь-----м-------а------хх------. => впотьмах.           , gt: впотьмах.           \n",
      "А------тт-----ыы--рр---а-----у----с---кк----а-----яя-- => Атырауская          , gt: Атырауская          \n",
      "е--гг--оо---   ----пп---ии----т-------а----е---тт----- => его питает          , gt: его питает          \n",
      "о-------п------------я-----------тт----------------ь-- => опять               , gt: опять               \n",
      "П-----а---в---лл---ооо--дд---а---р----ссккк---а----я-- => Павлодарская        , gt: Павлодарская        \n",
      "Lr now: 1e-05\n",
      "CER: 0.034807728322134655\n",
      "WER: 0.1248998397435897\n"
     ]
    }
   ],
   "source": [
    "trainer.validate(iterator = trainer.test2_iterator, test = True)"
   ]
  }
 ],
 "metadata": {
  "kernelspec": {
   "display_name": "Python 3",
   "language": "python",
   "name": "python3"
  },
  "language_info": {
   "codemirror_mode": {
    "name": "ipython",
    "version": 3
   },
   "file_extension": ".py",
   "mimetype": "text/x-python",
   "name": "python",
   "nbconvert_exporter": "python",
   "pygments_lexer": "ipython3",
   "version": "3.7.7"
  }
 },
 "nbformat": 4,
 "nbformat_minor": 4
}
