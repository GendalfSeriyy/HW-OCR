{
 "cells": [
  {
   "cell_type": "code",
   "execution_count": 1,
   "metadata": {},
   "outputs": [],
   "source": [
    "import sys\n",
    "sys.path.append('/home/storage/3020/KrivorotovI/db/HW-OCR/')\n",
    "from hwocr.trainer import Trainer"
   ]
  },
  {
   "cell_type": "markdown",
   "metadata": {},
   "source": [
    "# Experiment CRNN"
   ]
  },
  {
   "cell_type": "code",
   "execution_count": 2,
   "metadata": {},
   "outputs": [
    {
     "data": {
      "application/vnd.jupyter.widget-view+json": {
       "model_id": "579c9bb5fb844f2fb8a7fbffcdda6431",
       "version_major": 2,
       "version_minor": 0
      },
      "text/plain": [
       "HBox(children=(FloatProgress(value=0.0, layout=Layout(flex='2'), max=711.0), HTML(value='')), layout=Layout(di…"
      ]
     },
     "metadata": {},
     "output_type": "display_data"
    },
    {
     "name": "stdout",
     "output_type": "stream",
     "text": [
      "\n"
     ]
    },
    {
     "data": {
      "application/vnd.jupyter.widget-view+json": {
       "model_id": "a31a38239a8f4948853644789d429c41",
       "version_major": 2,
       "version_minor": 0
      },
      "text/plain": [
       "HBox(children=(FloatProgress(value=0.0, layout=Layout(flex='2'), max=146.0), HTML(value='')), layout=Layout(di…"
      ]
     },
     "metadata": {},
     "output_type": "display_data"
    },
    {
     "name": "stdout",
     "output_type": "stream",
     "text": [
      "\n",
      "з----------------------------------------------------- => з                   , gt: Я бросил в ночь     \n",
      "А----------------------------------------------------- => А                   , gt: Село                \n",
      "К----------------------------------------------------- => К                   , gt: Костанайская        \n",
      "А----------------------------------------------------- => А                   , gt: раздаваться         \n",
      "в----------------------------------------------------- => в                   , gt: вороненый зрачок    \n",
      "Lr now: 0.001\n"
     ]
    },
    {
     "data": {
      "application/vnd.jupyter.widget-view+json": {
       "model_id": "3c503a3db6b34adfb05e8f3a0e956c88",
       "version_major": 2,
       "version_minor": 0
      },
      "text/plain": [
       "HBox(children=(FloatProgress(value=0.0, layout=Layout(flex='2'), max=711.0), HTML(value='')), layout=Layout(di…"
      ]
     },
     "metadata": {},
     "output_type": "display_data"
    },
    {
     "name": "stdout",
     "output_type": "stream",
     "text": [
      "\n"
     ]
    },
    {
     "data": {
      "application/vnd.jupyter.widget-view+json": {
       "model_id": "1e05e5ce21a544509f6fe198aed9bb0b",
       "version_major": 2,
       "version_minor": 0
      },
      "text/plain": [
       "HBox(children=(FloatProgress(value=0.0, layout=Layout(flex='2'), max=146.0), HTML(value='')), layout=Layout(di…"
      ]
     },
     "metadata": {},
     "output_type": "display_data"
    },
    {
     "name": "stdout",
     "output_type": "stream",
     "text": [
      "\n",
      "т-----------о-----------------------------о----------- => тоо                 , gt: Молдавия            \n",
      "Г---------е--------------------ь---------------------- => Геь                 , gt: Верней, волчицу,    \n",
      "о---------------------------------о------------------- => оо                  , gt: Алматы              \n",
      "о----------------------------------------------------- => о                   , gt: обл.                \n",
      "Т-----р-з--с-п--т--ю--д--------ы-----------------т--я- => Трзсптюдытя         , gt: студеной тишиной    \n",
      "Lr now: 0.001\n"
     ]
    },
    {
     "data": {
      "application/vnd.jupyter.widget-view+json": {
       "model_id": "d0d41860ec53491e875d682647dc613f",
       "version_major": 2,
       "version_minor": 0
      },
      "text/plain": [
       "HBox(children=(FloatProgress(value=0.0, layout=Layout(flex='2'), max=711.0), HTML(value='')), layout=Layout(di…"
      ]
     },
     "metadata": {},
     "output_type": "display_data"
    },
    {
     "name": "stdout",
     "output_type": "stream",
     "text": [
      "\n"
     ]
    },
    {
     "data": {
      "application/vnd.jupyter.widget-view+json": {
       "model_id": "8c925529f7544232b6edf068e84aa311",
       "version_major": 2,
       "version_minor": 0
      },
      "text/plain": [
       "HBox(children=(FloatProgress(value=0.0, layout=Layout(flex='2'), max=146.0), HTML(value='')), layout=Layout(di…"
      ]
     },
     "metadata": {},
     "output_type": "display_data"
    },
    {
     "name": "stdout",
     "output_type": "stream",
     "text": [
      "\n",
      "о----------------------------------------------------- => о                   , gt: в бараке,           \n",
      "п-------о-----------------о--------------д-------д---- => поодд               , gt: в отдельности,      \n",
      "в----о------------о--------------------о------д------- => вооод               , gt: Костанайская        \n",
      "З-----а---------------------------а-------о---------а- => Зааоа               , gt: Затобольск          \n",
      "Г----------------------------------------------------- => Г                   , gt: Как раздался, так   \n",
      "Lr now: 0.001\n"
     ]
    },
    {
     "data": {
      "application/vnd.jupyter.widget-view+json": {
       "model_id": "1b3fe72163c343959a4319c5e8b8b0f8",
       "version_major": 2,
       "version_minor": 0
      },
      "text/plain": [
       "HBox(children=(FloatProgress(value=0.0, layout=Layout(flex='2'), max=711.0), HTML(value='')), layout=Layout(di…"
      ]
     },
     "metadata": {},
     "output_type": "display_data"
    },
    {
     "name": "stdout",
     "output_type": "stream",
     "text": [
      "\n"
     ]
    },
    {
     "data": {
      "application/vnd.jupyter.widget-view+json": {
       "model_id": "ad6f60cb7a36450f8bff4edf27cadf36",
       "version_major": 2,
       "version_minor": 0
      },
      "text/plain": [
       "HBox(children=(FloatProgress(value=0.0, layout=Layout(flex='2'), max=146.0), HTML(value='')), layout=Layout(di…"
      ]
     },
     "metadata": {},
     "output_type": "display_data"
    },
    {
     "name": "stdout",
     "output_type": "stream",
     "text": [
      "\n",
      "Saving trainer to /home/storage/3020/KrivorotovI/db/HKR_experiments/CRNN_1_aug.\n",
      "Trainer is saved.\n",
      "Model improved on valid with loss: 0.8147897238600744\n",
      "В----о--д---н--а----т-----н---а------ -м----к-----е--- => Воднатна мке        , gt: водка на анисе      \n",
      "к--л--я--т-в----о--й------  -о--б-е-------щ---а--я---; => клятвой обещая;     , gt: клятвой обещал;     \n",
      "С-----------о---т-------л--------о-------е-----в------ => Сотлоев             , gt: Сатпаев             \n",
      "П----е--т---р----о---п----а---в----л---о-----в---а---- => Петропавлова        , gt: Петропавловск       \n",
      "ч------а-----сс----оо------в-------а-----------й------ => часовай             , gt: часовая             \n",
      "Lr now: 0.001\n"
     ]
    },
    {
     "data": {
      "application/vnd.jupyter.widget-view+json": {
       "model_id": "8b668f235f454655bfa70a86d67ee8d5",
       "version_major": 2,
       "version_minor": 0
      },
      "text/plain": [
       "HBox(children=(FloatProgress(value=0.0, layout=Layout(flex='2'), max=711.0), HTML(value='')), layout=Layout(di…"
      ]
     },
     "metadata": {},
     "output_type": "display_data"
    },
    {
     "name": "stdout",
     "output_type": "stream",
     "text": [
      "\n"
     ]
    },
    {
     "data": {
      "application/vnd.jupyter.widget-view+json": {
       "model_id": "98d5702acbd641f79773814f7bbdbd80",
       "version_major": 2,
       "version_minor": 0
      },
      "text/plain": [
       "HBox(children=(FloatProgress(value=0.0, layout=Layout(flex='2'), max=146.0), HTML(value='')), layout=Layout(di…"
      ]
     },
     "metadata": {},
     "output_type": "display_data"
    },
    {
     "name": "stdout",
     "output_type": "stream",
     "text": [
      "\n",
      "Saving trainer to /home/storage/3020/KrivorotovI/db/HKR_experiments/CRNN_1_aug.\n",
      "Trainer is saved.\n",
      "Model improved on valid with loss: 0.5252781614457092\n",
      "Т--------------------а------р--------а-------у-------- => Тарау               , gt: Тараз               \n",
      "К---л-ее-д---и--т-------- -м--о--р--и---й--- -д----а-- => Кледит морий да     , gt: Следит порой за     \n",
      "Ч--т----о----  с--н--а--зз--а--тт----ь--  -м----нн--е- => Что сназать мне     , gt: Что сказать мне     \n",
      "А----к---м-----о-----лл---ии--н-----с--к----а----я---- => Акмолинская         , gt: Акмолинская         \n",
      "Г--о----с---п-----о------д------ь-----я--------л------ => Господьял           , gt: Господь? —          \n",
      "Lr now: 0.001\n"
     ]
    },
    {
     "data": {
      "application/vnd.jupyter.widget-view+json": {
       "model_id": "d6d4be2c845a4df6a86b25c2a8a2707a",
       "version_major": 2,
       "version_minor": 0
      },
      "text/plain": [
       "HBox(children=(FloatProgress(value=0.0, layout=Layout(flex='2'), max=711.0), HTML(value='')), layout=Layout(di…"
      ]
     },
     "metadata": {},
     "output_type": "display_data"
    },
    {
     "name": "stdout",
     "output_type": "stream",
     "text": [
      "\n"
     ]
    },
    {
     "data": {
      "application/vnd.jupyter.widget-view+json": {
       "model_id": "8680eeda27af4f19a0f219c7fa447781",
       "version_major": 2,
       "version_minor": 0
      },
      "text/plain": [
       "HBox(children=(FloatProgress(value=0.0, layout=Layout(flex='2'), max=146.0), HTML(value='')), layout=Layout(di…"
      ]
     },
     "metadata": {},
     "output_type": "display_data"
    },
    {
     "name": "stdout",
     "output_type": "stream",
     "text": [
      "\n",
      "Saving trainer to /home/storage/3020/KrivorotovI/db/HKR_experiments/CRNN_1_aug.\n",
      "Trainer is saved.\n",
      "Model improved on valid with loss: 0.27860015099995755\n",
      "В-----и--д----  -п---о---с--т------о-----л--л---а---о- => Вид постоллао       , gt: Вид постоялого      \n",
      "П-----о--к---и---------   -к--оорр--о----ш----а-----я- => Поки корошая        , gt: Пока хорошая        \n",
      "П------------а-----в--------л----о---д------а-----р--- => Павлодар            , gt: Павлодар            \n",
      "к--л---е--т---в-о---й----   о--б--е-----щ--а----л----; => клетвой обещал;     , gt: клятвой обещал;     \n",
      "Т--------------------а------рр---------а---------з---- => Тараз               , gt: Тараз               \n",
      "Lr now: 0.001\n"
     ]
    },
    {
     "data": {
      "application/vnd.jupyter.widget-view+json": {
       "model_id": "1551fb039f194a81b043d1b3c56d9226",
       "version_major": 2,
       "version_minor": 0
      },
      "text/plain": [
       "HBox(children=(FloatProgress(value=0.0, layout=Layout(flex='2'), max=711.0), HTML(value='')), layout=Layout(di…"
      ]
     },
     "metadata": {},
     "output_type": "display_data"
    },
    {
     "name": "stdout",
     "output_type": "stream",
     "text": [
      "\n"
     ]
    },
    {
     "data": {
      "application/vnd.jupyter.widget-view+json": {
       "model_id": "329b9400f0b34593a024c1f5aeafd30c",
       "version_major": 2,
       "version_minor": 0
      },
      "text/plain": [
       "HBox(children=(FloatProgress(value=0.0, layout=Layout(flex='2'), max=146.0), HTML(value='')), layout=Layout(di…"
      ]
     },
     "metadata": {},
     "output_type": "display_data"
    },
    {
     "name": "stdout",
     "output_type": "stream",
     "text": [
      "\n",
      "Saving trainer to /home/storage/3020/KrivorotovI/db/HKR_experiments/CRNN_1_aug.\n",
      "Trainer is saved.\n",
      "Model improved on valid with loss: 0.23902579131599974\n",
      "с-------т----------р------а---------н---------а------- => страна              , gt: Страна              \n",
      "Т---ы------ сс-т--а---л--а---------  в------н--о--в--ь => Ты стала вновь      , gt: Ты стала вновь      \n",
      "г--------о----------р-----------о----------д---------- => город               , gt: город               \n",
      "Р-----е--б--я---т-------  -у-----ж----е-----  н----е-- => Ребят уже не        , gt: Ребят уже не        \n",
      "З---а---в----т----р-----а---,---  Н------и--н-----а--- => Завтра, Нина        , gt: Завтра, Нина        \n",
      "Lr now: 0.001\n"
     ]
    },
    {
     "data": {
      "application/vnd.jupyter.widget-view+json": {
       "model_id": "7cd1672e51a44266a33d36d7f4272a92",
       "version_major": 2,
       "version_minor": 0
      },
      "text/plain": [
       "HBox(children=(FloatProgress(value=0.0, layout=Layout(flex='2'), max=711.0), HTML(value='')), layout=Layout(di…"
      ]
     },
     "metadata": {},
     "output_type": "display_data"
    },
    {
     "name": "stdout",
     "output_type": "stream",
     "text": [
      "\n"
     ]
    },
    {
     "data": {
      "application/vnd.jupyter.widget-view+json": {
       "model_id": "34512e7703bf42079ecf391dec909974",
       "version_major": 2,
       "version_minor": 0
      },
      "text/plain": [
       "HBox(children=(FloatProgress(value=0.0, layout=Layout(flex='2'), max=146.0), HTML(value='')), layout=Layout(di…"
      ]
     },
     "metadata": {},
     "output_type": "display_data"
    },
    {
     "name": "stdout",
     "output_type": "stream",
     "text": [
      "\n",
      "А-------------к-------т------------аа-------у--------- => Актау               , gt: Актау               \n",
      "О--т-----е-гг-е-н------------  -б--а--т----ы----р--а-- => Отеген батыра       , gt: Отеген батыра       \n",
      "х------л-------а------дд------н------ы--------й------- => хладный             , gt: хладный             \n",
      "Ш-------------м---------и-------н------е-----н-------т => Шминент             , gt: Шымкент             \n",
      "В--------------  -к-----о---з--е----лл---д-----а------ => В козелда           , gt: Что поцелуи         \n",
      "Lr now: 0.001\n"
     ]
    },
    {
     "data": {
      "application/vnd.jupyter.widget-view+json": {
       "model_id": "9e72d04ada3f4c298cbc70af618187ee",
       "version_major": 2,
       "version_minor": 0
      },
      "text/plain": [
       "HBox(children=(FloatProgress(value=0.0, layout=Layout(flex='2'), max=711.0), HTML(value='')), layout=Layout(di…"
      ]
     },
     "metadata": {},
     "output_type": "display_data"
    },
    {
     "name": "stdout",
     "output_type": "stream",
     "text": [
      "\n"
     ]
    },
    {
     "data": {
      "application/vnd.jupyter.widget-view+json": {
       "model_id": "c5b3b131180f4badb37f887757ca4dce",
       "version_major": 2,
       "version_minor": 0
      },
      "text/plain": [
       "HBox(children=(FloatProgress(value=0.0, layout=Layout(flex='2'), max=146.0), HTML(value='')), layout=Layout(di…"
      ]
     },
     "metadata": {},
     "output_type": "display_data"
    },
    {
     "name": "stdout",
     "output_type": "stream",
     "text": [
      "\n",
      "Saving trainer to /home/storage/3020/KrivorotovI/db/HKR_experiments/CRNN_1_aug.\n",
      "Trainer is saved.\n",
      "Model improved on valid with loss: 0.20907372940484792\n",
      "М----------о---и-------  --р------у-------х------и---- => Мои рухи            , gt: Мои руки            \n",
      "У---сс-т----ь----К---а---м----е--н--о--гг--о--р--с--к- => Усть-Каменогорск    , gt: Усть-Каменогорск    \n",
      "А-----------б------хх------а-----зз-----и-------я----- => Абхазия             , gt: Абхазия             \n",
      "О----т---ии----  -п---р----о-------щ--а---юю-----т---- => Оти прощают         , gt: Они прощают         \n",
      "К--а--к----   р---а--з--д-а---л--сс--я--,-  тт--а--к-- => Как раздался, так   , gt: Как раздался, так   \n",
      "Lr now: 0.001\n"
     ]
    },
    {
     "data": {
      "application/vnd.jupyter.widget-view+json": {
       "model_id": "0d10a760ff8845acbbf5e814c30d600b",
       "version_major": 2,
       "version_minor": 0
      },
      "text/plain": [
       "HBox(children=(FloatProgress(value=0.0, layout=Layout(flex='2'), max=711.0), HTML(value='')), layout=Layout(di…"
      ]
     },
     "metadata": {},
     "output_type": "display_data"
    },
    {
     "name": "stdout",
     "output_type": "stream",
     "text": [
      "\n"
     ]
    },
    {
     "data": {
      "application/vnd.jupyter.widget-view+json": {
       "model_id": "1cab6a6bc6ed4c48941a052882721de4",
       "version_major": 2,
       "version_minor": 0
      },
      "text/plain": [
       "HBox(children=(FloatProgress(value=0.0, layout=Layout(flex='2'), max=146.0), HTML(value='')), layout=Layout(di…"
      ]
     },
     "metadata": {},
     "output_type": "display_data"
    },
    {
     "name": "stdout",
     "output_type": "stream",
     "text": [
      "\n",
      "Saving trainer to /home/storage/3020/KrivorotovI/db/HKR_experiments/CRNN_1_aug.\n",
      "Trainer is saved.\n",
      "Model improved on valid with loss: 0.1922151740793496\n",
      "А---------------р---------ы------------с--------ь----- => Арысь               , gt: Арысь               \n",
      "И------  п---о----  и----з--р--ы----т-----о---м-----у- => И по изрытому       , gt: И по изрытому       \n",
      "К----а----з----а----х-----с-----т----------а-----н---- => Казахстан           , gt: Казахстан           \n",
      "п--р--и-р--о--д--ы---   и----  сс--кк---у--с-с-тт-в-а- => природы и скусства  , gt: природы и искусства \n",
      "А----------к---------т--------------а-------у--------- => Актау               , gt: Актау               \n",
      "Lr now: 0.001\n"
     ]
    },
    {
     "data": {
      "application/vnd.jupyter.widget-view+json": {
       "model_id": "2b6d7813d1cc41c39f42c693f9ae7372",
       "version_major": 2,
       "version_minor": 0
      },
      "text/plain": [
       "HBox(children=(FloatProgress(value=0.0, layout=Layout(flex='2'), max=711.0), HTML(value='')), layout=Layout(di…"
      ]
     },
     "metadata": {},
     "output_type": "display_data"
    },
    {
     "name": "stdout",
     "output_type": "stream",
     "text": [
      "\n"
     ]
    },
    {
     "data": {
      "application/vnd.jupyter.widget-view+json": {
       "model_id": "790eb8d2f4664b3ba9b2611357670b08",
       "version_major": 2,
       "version_minor": 0
      },
      "text/plain": [
       "HBox(children=(FloatProgress(value=0.0, layout=Layout(flex='2'), max=146.0), HTML(value='')), layout=Layout(di…"
      ]
     },
     "metadata": {},
     "output_type": "display_data"
    },
    {
     "name": "stdout",
     "output_type": "stream",
     "text": [
      "\n",
      "п--о----м--чч---а----л---с---я----  -б---ы----  -я---, => помчался бы я,      , gt: полчался бы я,      \n",
      "и--с-к--а---л-ее-ч--е--н--н--ы---е----   р---у--к---и- => искалеченные руки   , gt: искалеченные руки   \n",
      "С--н---у--юю---т----  -п----у---н---------о--в--ы---е- => Снуют пуновые       , gt: Снуют пунцовые      \n",
      "И----------  -к---р----а---с---и----в----о----м----у-- => И красивому         , gt: И красивому         \n",
      "К-----ы----з---ыы------л------о----р-----в----а------- => Кызылорва           , gt: Кызылорда           \n",
      "Lr now: 0.001\n"
     ]
    },
    {
     "data": {
      "application/vnd.jupyter.widget-view+json": {
       "model_id": "61c9b29143874e17b06d49959e96037e",
       "version_major": 2,
       "version_minor": 0
      },
      "text/plain": [
       "HBox(children=(FloatProgress(value=0.0, layout=Layout(flex='2'), max=711.0), HTML(value='')), layout=Layout(di…"
      ]
     },
     "metadata": {},
     "output_type": "display_data"
    },
    {
     "name": "stdout",
     "output_type": "stream",
     "text": [
      "\n"
     ]
    },
    {
     "data": {
      "application/vnd.jupyter.widget-view+json": {
       "model_id": "3d6f092f1ede43b48fac1a551b32cf89",
       "version_major": 2,
       "version_minor": 0
      },
      "text/plain": [
       "HBox(children=(FloatProgress(value=0.0, layout=Layout(flex='2'), max=146.0), HTML(value='')), layout=Layout(di…"
      ]
     },
     "metadata": {},
     "output_type": "display_data"
    },
    {
     "name": "stdout",
     "output_type": "stream",
     "text": [
      "\n",
      "Saving trainer to /home/storage/3020/KrivorotovI/db/HKR_experiments/CRNN_1_aug.\n",
      "Trainer is saved.\n",
      "Model improved on valid with loss: 0.1860566806201249\n",
      "м---е----я---ц-----   м----и--мм---о--ез--ж-----и--й-, => меяц мимоезжий,     , gt: месяц мимоезжий,    \n",
      "К--а---к---  -в--лл-а---с-т----н--о-  -п--а--х--н--е-т => Как властно пахнет  , gt: Как властно пахнет  \n",
      "Т-----------у--р-----кк----е--сс--т-------а------н---- => Туркестан           , gt: Туркестан           \n",
      "С---т-----е---п-----н-----о----г----о----р---с---к---- => Степногорск         , gt: Степногорск         \n",
      "Л-----о-----н-----ии-----н------с---к----о-----я------ => Лонинскоя           , gt: Ленинское           \n",
      "Lr now: 0.001\n"
     ]
    },
    {
     "data": {
      "application/vnd.jupyter.widget-view+json": {
       "model_id": "b5d8f35701b6435ba6f2022d37c40377",
       "version_major": 2,
       "version_minor": 0
      },
      "text/plain": [
       "HBox(children=(FloatProgress(value=0.0, layout=Layout(flex='2'), max=711.0), HTML(value='')), layout=Layout(di…"
      ]
     },
     "metadata": {},
     "output_type": "display_data"
    },
    {
     "name": "stdout",
     "output_type": "stream",
     "text": [
      "\n"
     ]
    },
    {
     "data": {
      "application/vnd.jupyter.widget-view+json": {
       "model_id": "1e0d1edc79f04dd8bdd3f606e5c2539b",
       "version_major": 2,
       "version_minor": 0
      },
      "text/plain": [
       "HBox(children=(FloatProgress(value=0.0, layout=Layout(flex='2'), max=146.0), HTML(value='')), layout=Layout(di…"
      ]
     },
     "metadata": {},
     "output_type": "display_data"
    },
    {
     "name": "stdout",
     "output_type": "stream",
     "text": [
      "\n",
      "Saving trainer to /home/storage/3020/KrivorotovI/db/HKR_experiments/CRNN_1_aug.\n",
      "Trainer is saved.\n",
      "Model improved on valid with loss: 0.17245576893017717\n",
      "И-----  -б--у--д----тт-----  -м----с--т---и---т----ьь- => И будт мстить       , gt: И будут мстить      \n",
      "Ч----т------о----   б----л---ии--жж------н----и---х--- => Что ближних         , gt: Что ближних         \n",
      "Ш-------------а------х----л-------и---н-----сс----к--- => Шахлинск            , gt: Шахтинск            \n",
      "К--------о---с----т---------а------н-------а-----йй--- => Костанай            , gt: Костанай            \n",
      "О---сс--у---ж-----д---е--н--ы----   и-----д---т-----и- => Осуждены идти       , gt: Осуждены идти       \n",
      "Lr now: 0.001\n"
     ]
    },
    {
     "data": {
      "application/vnd.jupyter.widget-view+json": {
       "model_id": "2d284996096c4ca69928639041c46d17",
       "version_major": 2,
       "version_minor": 0
      },
      "text/plain": [
       "HBox(children=(FloatProgress(value=0.0, layout=Layout(flex='2'), max=711.0), HTML(value='')), layout=Layout(di…"
      ]
     },
     "metadata": {},
     "output_type": "display_data"
    },
    {
     "name": "stdout",
     "output_type": "stream",
     "text": [
      "\n"
     ]
    },
    {
     "data": {
      "application/vnd.jupyter.widget-view+json": {
       "model_id": "0ae8f9fa071d44e5a1955e017393a815",
       "version_major": 2,
       "version_minor": 0
      },
      "text/plain": [
       "HBox(children=(FloatProgress(value=0.0, layout=Layout(flex='2'), max=146.0), HTML(value='')), layout=Layout(di…"
      ]
     },
     "metadata": {},
     "output_type": "display_data"
    },
    {
     "name": "stdout",
     "output_type": "stream",
     "text": [
      "\n",
      "Saving trainer to /home/storage/3020/KrivorotovI/db/HKR_experiments/CRNN_1_aug.\n",
      "Trainer is saved.\n",
      "Model improved on valid with loss: 0.17080086497717525\n",
      "З--------------------л----------ы---------е----------- => Злые                , gt: Злые                \n",
      "и----  н---а-зз-ее-м----н---о--и--  -п---о-к--о---и--, => и наземнои покои,   , gt: и неземнои покои,   \n",
      "А----------------а-----л-----------е----н-----т------- => Аалент              , gt: Шымкент             \n",
      "А----------р--------а----------л-----ь-----с----к----- => Аральск             , gt: Аральск             \n",
      "К--------о----с---т--------а------н-------а------й---- => Костанай            , gt: Костанай            \n",
      "Lr now: 0.001\n"
     ]
    },
    {
     "data": {
      "application/vnd.jupyter.widget-view+json": {
       "model_id": "f7f2d5f6a3a24a4b8e3112a96308af29",
       "version_major": 2,
       "version_minor": 0
      },
      "text/plain": [
       "HBox(children=(FloatProgress(value=0.0, layout=Layout(flex='2'), max=711.0), HTML(value='')), layout=Layout(di…"
      ]
     },
     "metadata": {},
     "output_type": "display_data"
    },
    {
     "name": "stdout",
     "output_type": "stream",
     "text": [
      "\n"
     ]
    },
    {
     "data": {
      "application/vnd.jupyter.widget-view+json": {
       "model_id": "350c83a25f604425a500dd812a9d2a7d",
       "version_major": 2,
       "version_minor": 0
      },
      "text/plain": [
       "HBox(children=(FloatProgress(value=0.0, layout=Layout(flex='2'), max=146.0), HTML(value='')), layout=Layout(di…"
      ]
     },
     "metadata": {},
     "output_type": "display_data"
    },
    {
     "name": "stdout",
     "output_type": "stream",
     "text": [
      "\n",
      "Saving trainer to /home/storage/3020/KrivorotovI/db/HKR_experiments/CRNN_1_aug.\n",
      "Trainer is saved.\n",
      "Model improved on valid with loss: 0.15443171948602755\n",
      "С--т----ы-----   -п-р---и--н----и---м----а---е--т----- => Сты принимает       , gt: Стог принимает      \n",
      "с------в------о-------ю------------------------------… => свою…               , gt: свою…               \n",
      "н--е----   -и---с-п----ы--н-----ы--в--а--л----------!- => не испынывал!       , gt: не испытывал!       \n",
      "З-------а----в-----оо----д------с----к------о----й---- => Заводской           , gt: Заводской           \n",
      "А---------бб-----х-------а--------з------и-------я---- => Абхазия             , gt: Абхазия             \n",
      "Lr now: 0.001\n"
     ]
    },
    {
     "data": {
      "application/vnd.jupyter.widget-view+json": {
       "model_id": "ae78116ef4e449db883233a18bcb0610",
       "version_major": 2,
       "version_minor": 0
      },
      "text/plain": [
       "HBox(children=(FloatProgress(value=0.0, layout=Layout(flex='2'), max=711.0), HTML(value='')), layout=Layout(di…"
      ]
     },
     "metadata": {},
     "output_type": "display_data"
    },
    {
     "name": "stdout",
     "output_type": "stream",
     "text": [
      "\n"
     ]
    },
    {
     "data": {
      "application/vnd.jupyter.widget-view+json": {
       "model_id": "b859fcc171264728b9fdb24dd560d91e",
       "version_major": 2,
       "version_minor": 0
      },
      "text/plain": [
       "HBox(children=(FloatProgress(value=0.0, layout=Layout(flex='2'), max=146.0), HTML(value='')), layout=Layout(di…"
      ]
     },
     "metadata": {},
     "output_type": "display_data"
    },
    {
     "name": "stdout",
     "output_type": "stream",
     "text": [
      "\n",
      "А-----------л--------м--------а------т---------ы------ => Алматы              , gt: Алматы              \n",
      "К----е--м---?--   -К--ее-м---?-- -В--о---ж---а-----??- => Кем? Кем? Вожа?     , gt: Кем? Кем? Волкoм?   \n",
      "К---а----р--аа--г--а---н---д---и---н--сс-кк---а----я-- => Карагандинская      , gt: Карагандинская      \n",
      "А------------р-----ш----------аа--------лл-----ы------ => Аршалы              , gt: Аршалы              \n",
      "И-----------  ---я----------   -з---а--бб----ы-----л-- => И я забыл           , gt: И я забыл           \n",
      "Lr now: 0.001\n"
     ]
    },
    {
     "data": {
      "application/vnd.jupyter.widget-view+json": {
       "model_id": "8ac630add2ec49749446364f9fc1ab0e",
       "version_major": 2,
       "version_minor": 0
      },
      "text/plain": [
       "HBox(children=(FloatProgress(value=0.0, layout=Layout(flex='2'), max=711.0), HTML(value='')), layout=Layout(di…"
      ]
     },
     "metadata": {},
     "output_type": "display_data"
    },
    {
     "name": "stdout",
     "output_type": "stream",
     "text": [
      "\n"
     ]
    },
    {
     "data": {
      "application/vnd.jupyter.widget-view+json": {
       "model_id": "2a8e4305b6a640de9185a1cd811f7473",
       "version_major": 2,
       "version_minor": 0
      },
      "text/plain": [
       "HBox(children=(FloatProgress(value=0.0, layout=Layout(flex='2'), max=146.0), HTML(value='')), layout=Layout(di…"
      ]
     },
     "metadata": {},
     "output_type": "display_data"
    },
    {
     "name": "stdout",
     "output_type": "stream",
     "text": [
      "\n",
      "К----------и------р------г----ии------з----ии-----я--- => Киргизия            , gt: Киргизия            \n",
      "А------к----мм-----о---л---ии---н----сс---к---а-----я- => Акмолинская         , gt: Акмолинская         \n",
      "Т-------а----------л----------а---------р------------- => Талар               , gt: Талгар              \n",
      "н--о----  т-----ы--   н--е---   с---н---у--а--м--лс-я- => но ты не снуамлся   , gt: но ты не снизошла   \n",
      "О-------------------------------------й--------------, => Ой,                 , gt: Ой,                 \n",
      "Lr now: 0.001\n"
     ]
    },
    {
     "data": {
      "application/vnd.jupyter.widget-view+json": {
       "model_id": "11833249747a47b78724013aaacf6678",
       "version_major": 2,
       "version_minor": 0
      },
      "text/plain": [
       "HBox(children=(FloatProgress(value=0.0, layout=Layout(flex='2'), max=711.0), HTML(value='')), layout=Layout(di…"
      ]
     },
     "metadata": {},
     "output_type": "display_data"
    },
    {
     "name": "stdout",
     "output_type": "stream",
     "text": [
      "\n"
     ]
    },
    {
     "data": {
      "application/vnd.jupyter.widget-view+json": {
       "model_id": "d60840cfe077421fbce3d5ab37420f8a",
       "version_major": 2,
       "version_minor": 0
      },
      "text/plain": [
       "HBox(children=(FloatProgress(value=0.0, layout=Layout(flex='2'), max=146.0), HTML(value='')), layout=Layout(di…"
      ]
     },
     "metadata": {},
     "output_type": "display_data"
    },
    {
     "name": "stdout",
     "output_type": "stream",
     "text": [
      "\n",
      "Saving trainer to /home/storage/3020/KrivorotovI/db/HKR_experiments/CRNN_1_aug.\n",
      "Trainer is saved.\n",
      "Model improved on valid with loss: 0.1433390922436159\n",
      "З---а---в-т---р----а--  -к---  -м------и-----л--о---й- => Завтра к милой      , gt: Завтра к милой      \n",
      "Р-----------оо--------с------с------и-------------я--- => Россия              , gt: Россия              \n",
      "т------------------------------ыы--------------------- => ты                  , gt: ты                  \n",
      "о------------------------бб---------------------л----- => обл                 , gt: обл                 \n",
      "И--------з----д----е----в----а----е----т----с----а---- => Издеваетса          , gt: Издевается          \n",
      "Lr now: 0.001\n"
     ]
    },
    {
     "data": {
      "application/vnd.jupyter.widget-view+json": {
       "model_id": "849a39ff5d064732b3d3d7f60865f148",
       "version_major": 2,
       "version_minor": 0
      },
      "text/plain": [
       "HBox(children=(FloatProgress(value=0.0, layout=Layout(flex='2'), max=711.0), HTML(value='')), layout=Layout(di…"
      ]
     },
     "metadata": {},
     "output_type": "display_data"
    },
    {
     "name": "stdout",
     "output_type": "stream",
     "text": [
      "\n"
     ]
    },
    {
     "data": {
      "application/vnd.jupyter.widget-view+json": {
       "model_id": "2390e3faf39243e6a4a746438d9a77e2",
       "version_major": 2,
       "version_minor": 0
      },
      "text/plain": [
       "HBox(children=(FloatProgress(value=0.0, layout=Layout(flex='2'), max=146.0), HTML(value='')), layout=Layout(di…"
      ]
     },
     "metadata": {},
     "output_type": "display_data"
    },
    {
     "name": "stdout",
     "output_type": "stream",
     "text": [
      "\n",
      "Т-------уу----рр----к----е------с----т-----а------н--- => Туркестан           , gt: Туркестан           \n",
      "с---------рр-----------------о----------к------------- => срок                , gt: срок                \n",
      "Т----------е----------к------е-----------л-----и------ => Текели              , gt: Текели              \n",
      "И------------ж--------м--------к----ее---нн----тт----- => Ижмкент             , gt: Шымкент             \n",
      "Н-----в------и-------  --о-----г-----н------я--------, => Нви огня,           , gt: Ни огня,            \n",
      "Lr now: 0.001\n"
     ]
    },
    {
     "data": {
      "application/vnd.jupyter.widget-view+json": {
       "model_id": "833efcf0252643bab2204290cd7a37be",
       "version_major": 2,
       "version_minor": 0
      },
      "text/plain": [
       "HBox(children=(FloatProgress(value=0.0, layout=Layout(flex='2'), max=711.0), HTML(value='')), layout=Layout(di…"
      ]
     },
     "metadata": {},
     "output_type": "display_data"
    },
    {
     "name": "stdout",
     "output_type": "stream",
     "text": [
      "\n"
     ]
    },
    {
     "data": {
      "application/vnd.jupyter.widget-view+json": {
       "model_id": "d2a74c62031a4e8f927e6bb8f11f4d27",
       "version_major": 2,
       "version_minor": 0
      },
      "text/plain": [
       "HBox(children=(FloatProgress(value=0.0, layout=Layout(flex='2'), max=146.0), HTML(value='')), layout=Layout(di…"
      ]
     },
     "metadata": {},
     "output_type": "display_data"
    },
    {
     "name": "stdout",
     "output_type": "stream",
     "text": [
      "\n",
      "р---------у------д-------н---------ы---------й-------- => рудный              , gt: Рудный              \n",
      "А--------------к---------т----------а----------уу----- => Актау               , gt: Актау               \n",
      "ч-т---о----   м----е-н---я---  вв-сскк-о-р--м--и-л-а-. => что меня вскормила. , gt: что меня вскормила. \n",
      "Н--о--  -т------щ--е-тт---н---ы---  -м----е-чч-т---ы-- => Но тщетны мечты     , gt: Но тщетны мечты     \n",
      "н--ее---   з--н---а---я----  о--  лл---юю--б--в--и---, => не зная о любви,    , gt: не зная о любви,    \n",
      "Lr now: 0.001\n"
     ]
    },
    {
     "data": {
      "application/vnd.jupyter.widget-view+json": {
       "model_id": "b9b298e774d442c29f3500ac573ffefc",
       "version_major": 2,
       "version_minor": 0
      },
      "text/plain": [
       "HBox(children=(FloatProgress(value=0.0, layout=Layout(flex='2'), max=711.0), HTML(value='')), layout=Layout(di…"
      ]
     },
     "metadata": {},
     "output_type": "display_data"
    },
    {
     "name": "stdout",
     "output_type": "stream",
     "text": [
      "\n"
     ]
    },
    {
     "data": {
      "application/vnd.jupyter.widget-view+json": {
       "model_id": "80205df677c249f4b2b0a2106b152822",
       "version_major": 2,
       "version_minor": 0
      },
      "text/plain": [
       "HBox(children=(FloatProgress(value=0.0, layout=Layout(flex='2'), max=146.0), HTML(value='')), layout=Layout(di…"
      ]
     },
     "metadata": {},
     "output_type": "display_data"
    },
    {
     "name": "stdout",
     "output_type": "stream",
     "text": [
      "\n",
      "О---н-----и---,,-  -т----о--лл---к----а------я---сс--ь => Они, толкаясь       , gt: Они, толкаясь       \n",
      "д--------ж----------ии----ггг---ии----тт----------!!-- => джигит!             , gt: джигит!             \n",
      "К-------оо----сс---тт-------а-----н-------а-------йй-- => Костанай            , gt: Костанай            \n",
      "д----лл------ии------н----н-------о-----и------------. => длиннои.            , gt: длиннои.            \n",
      "Б-----е------лл----о---р-----у----с--сс--с-----я------ => Белоруссся          , gt: Белоруссия          \n",
      "Lr now: 0.001\n"
     ]
    },
    {
     "data": {
      "application/vnd.jupyter.widget-view+json": {
       "model_id": "5180e0a715294980a2b0a0f3685a01ac",
       "version_major": 2,
       "version_minor": 0
      },
      "text/plain": [
       "HBox(children=(FloatProgress(value=0.0, layout=Layout(flex='2'), max=711.0), HTML(value='')), layout=Layout(di…"
      ]
     },
     "metadata": {},
     "output_type": "display_data"
    },
    {
     "name": "stdout",
     "output_type": "stream",
     "text": [
      "\n"
     ]
    },
    {
     "data": {
      "application/vnd.jupyter.widget-view+json": {
       "model_id": "60e6f94061154ee88a790defdeefe281",
       "version_major": 2,
       "version_minor": 0
      },
      "text/plain": [
       "HBox(children=(FloatProgress(value=0.0, layout=Layout(flex='2'), max=146.0), HTML(value='')), layout=Layout(di…"
      ]
     },
     "metadata": {},
     "output_type": "display_data"
    },
    {
     "name": "stdout",
     "output_type": "stream",
     "text": [
      "\n",
      "Т------а----м------р----и----л---а--ю----т-----с---я-- => Тамрилаются         , gt: Расстилаются        \n",
      "Ш-----------ы------м---------к-----е----н-------т----- => Шымкент             , gt: Шымкент             \n",
      "н--е-----  -в--о--р--о-нн----  с-т---е--п--нн--о--й--, => не ворон степной,   , gt: не ворон степной,   \n",
      "А-----лл-----мм------а---тт----ии---н---с--к---а----я- => Алматинская         , gt: Алматинская         \n",
      "м-----оо-р---яя--к----у----,,-- гг--о---р----яя--т---- => моряку, горят       , gt: моряку, горят       \n",
      "Lr now: 0.001\n"
     ]
    },
    {
     "data": {
      "application/vnd.jupyter.widget-view+json": {
       "model_id": "45ce880db94a40b39c0c89a0d7ed9548",
       "version_major": 2,
       "version_minor": 0
      },
      "text/plain": [
       "HBox(children=(FloatProgress(value=0.0, layout=Layout(flex='2'), max=711.0), HTML(value='')), layout=Layout(di…"
      ]
     },
     "metadata": {},
     "output_type": "display_data"
    },
    {
     "name": "stdout",
     "output_type": "stream",
     "text": [
      "\n"
     ]
    },
    {
     "data": {
      "application/vnd.jupyter.widget-view+json": {
       "model_id": "ff25f699d9fe460e8fb5068ae4fde0d6",
       "version_major": 2,
       "version_minor": 0
      },
      "text/plain": [
       "HBox(children=(FloatProgress(value=0.0, layout=Layout(flex='2'), max=146.0), HTML(value='')), layout=Layout(di…"
      ]
     },
     "metadata": {},
     "output_type": "display_data"
    },
    {
     "name": "stdout",
     "output_type": "stream",
     "text": [
      "\n",
      "Р-------оо--------с--------с-----ии------------я------ => Россия              , gt: Россия              \n",
      "А--------л-------м-----------а--------т----------ы---- => Алматы              , gt: Алматы              \n",
      "П----а----в---л-----о---д---а----р---сс-к---а----я---- => Павлодарская        , gt: Павлодарская        \n",
      "н---о-------  нн---е-з--д----е--ш------н----и-----йй-- => но нездешний        , gt: но нездешний        \n",
      "А--------лл--------м-------а-------т---------ы-------- => Алматы              , gt: Алматы              \n",
      "Lr now: 0.001\n"
     ]
    },
    {
     "data": {
      "application/vnd.jupyter.widget-view+json": {
       "model_id": "56166ac1f8d347b0807c19cb33e1697e",
       "version_major": 2,
       "version_minor": 0
      },
      "text/plain": [
       "HBox(children=(FloatProgress(value=0.0, layout=Layout(flex='2'), max=711.0), HTML(value='')), layout=Layout(di…"
      ]
     },
     "metadata": {},
     "output_type": "display_data"
    },
    {
     "name": "stdout",
     "output_type": "stream",
     "text": [
      "\n"
     ]
    },
    {
     "data": {
      "application/vnd.jupyter.widget-view+json": {
       "model_id": "50f2e51188f843b4a8a58879b2162e8e",
       "version_major": 2,
       "version_minor": 0
      },
      "text/plain": [
       "HBox(children=(FloatProgress(value=0.0, layout=Layout(flex='2'), max=146.0), HTML(value='')), layout=Layout(di…"
      ]
     },
     "metadata": {},
     "output_type": "display_data"
    },
    {
     "name": "stdout",
     "output_type": "stream",
     "text": [
      "\n",
      "К----о--сс-т------а---н----а----й---с--к----а-----я--- => Костанайская        , gt: Костанайская        \n",
      "о-тт-------- -с---т------р--а---дд---а--н---ь---я---,, => от страданья,       , gt: от страданья,       \n",
      "Д-------------оо----л------и-----нн----кк-------а----- => Долинка             , gt: Долинка             \n",
      "н--------ее---------  -в-----с---е---гг--д-----а-----, => не всегда,          , gt: не всегда,          \n",
      "Д-----о--г-о---н---и--е------  м------е--нн----я-----, => Догоние меня,       , gt: Догони меня,        \n",
      "Lr now: 0.001\n"
     ]
    },
    {
     "data": {
      "application/vnd.jupyter.widget-view+json": {
       "model_id": "173f45944b0e4619a5783c3308858c71",
       "version_major": 2,
       "version_minor": 0
      },
      "text/plain": [
       "HBox(children=(FloatProgress(value=0.0, layout=Layout(flex='2'), max=711.0), HTML(value='')), layout=Layout(di…"
      ]
     },
     "metadata": {},
     "output_type": "display_data"
    },
    {
     "name": "stdout",
     "output_type": "stream",
     "text": [
      "\n"
     ]
    },
    {
     "data": {
      "application/vnd.jupyter.widget-view+json": {
       "model_id": "341c7f9d18ec432ab2d17985654f793e",
       "version_major": 2,
       "version_minor": 0
      },
      "text/plain": [
       "HBox(children=(FloatProgress(value=0.0, layout=Layout(flex='2'), max=146.0), HTML(value='')), layout=Layout(di…"
      ]
     },
     "metadata": {},
     "output_type": "display_data"
    },
    {
     "name": "stdout",
     "output_type": "stream",
     "text": [
      "\n",
      "Т-----а----л---   --м----а---т---ь--  п---я--е--т----, => Тал мать пяет,      , gt: Там мать поет,      \n",
      "О----т----е--г-ее-н------   -б---а---т---ы----р---а--- => Отеген батыра       , gt: Отеген батыра       \n",
      "Н----------о-----------    --в-------е------р------е-- => Но вере             , gt: Но вере             \n",
      "В--ии-н--огго- з--в-е-р---я--    в-- к---е--т---к--у-, => Виного зверя в кетку,, gt: Дикого зверя в клетку,\n",
      "у--------   -к-----а-----м-----и-----н------а--------, => у камина,           , gt: у камина,           \n",
      "Lr now: 0.001\n"
     ]
    },
    {
     "data": {
      "application/vnd.jupyter.widget-view+json": {
       "model_id": "fcb6451fe58746ea88b9e276ed5a2fdb",
       "version_major": 2,
       "version_minor": 0
      },
      "text/plain": [
       "HBox(children=(FloatProgress(value=0.0, layout=Layout(flex='2'), max=711.0), HTML(value='')), layout=Layout(di…"
      ]
     },
     "metadata": {},
     "output_type": "display_data"
    },
    {
     "name": "stdout",
     "output_type": "stream",
     "text": [
      "\n"
     ]
    },
    {
     "data": {
      "application/vnd.jupyter.widget-view+json": {
       "model_id": "5d0febc2f1444a0dbaf45514607f1860",
       "version_major": 2,
       "version_minor": 0
      },
      "text/plain": [
       "HBox(children=(FloatProgress(value=0.0, layout=Layout(flex='2'), max=146.0), HTML(value='')), layout=Layout(di…"
      ]
     },
     "metadata": {},
     "output_type": "display_data"
    },
    {
     "name": "stdout",
     "output_type": "stream",
     "text": [
      "\n",
      "Т-------------------А--------Р-------А-----------З---- => ТАРАЗ               , gt: ТАРАЗ               \n",
      "Н-----а-------   -и-----хх----  -о---г--оо---н----ь--, => На их огонь,        , gt: На их огонь,        \n",
      "П----------а----вв--------л----о------д------а----р--- => Павлодар            , gt: Павлодар            \n",
      "И----------  -о-дд--н----у---------   л----и---шш---ь- => И одну лишь         , gt: И одну лшшь         \n",
      "тт---------------------------------ы------------------ => ты                  , gt: ты                  \n",
      "Lr now: 0.001\n"
     ]
    },
    {
     "data": {
      "application/vnd.jupyter.widget-view+json": {
       "model_id": "9883cbaac70249b2b7bcb768e797400d",
       "version_major": 2,
       "version_minor": 0
      },
      "text/plain": [
       "HBox(children=(FloatProgress(value=0.0, layout=Layout(flex='2'), max=711.0), HTML(value='')), layout=Layout(di…"
      ]
     },
     "metadata": {},
     "output_type": "display_data"
    },
    {
     "name": "stdout",
     "output_type": "stream",
     "text": [
      "\n"
     ]
    },
    {
     "data": {
      "application/vnd.jupyter.widget-view+json": {
       "model_id": "1295634c8a6d43e2925338d8a95eaec9",
       "version_major": 2,
       "version_minor": 0
      },
      "text/plain": [
       "HBox(children=(FloatProgress(value=0.0, layout=Layout(flex='2'), max=146.0), HTML(value='')), layout=Layout(di…"
      ]
     },
     "metadata": {},
     "output_type": "display_data"
    },
    {
     "name": "stdout",
     "output_type": "stream",
     "text": [
      "\n",
      "Н-----е---------  -в-----м--------е----с----т---е----. => Не вместе.          , gt: Не вместе.          \n",
      "У-----з----б-----е----к----ии----с---т-------а-----н-- => Узбекистан          , gt: Узбекистан          \n",
      "м---н--ее-----  с--н--и---т---с--я----  п---л--а----щщ => мне снится плащ     , gt: мне снится плащ     \n",
      "А-----------с-----т-----------а---------н--------а---- => Астана              , gt: Астана              \n",
      "В-------   оо---т----д--е---л--ь-нн-о--с--т----и-----, => В отдельности,      , gt: в отдельности,      \n",
      "Lr now: 0.001\n"
     ]
    },
    {
     "data": {
      "application/vnd.jupyter.widget-view+json": {
       "model_id": "76bf95bbd7594814961c53c8b6d47b59",
       "version_major": 2,
       "version_minor": 0
      },
      "text/plain": [
       "HBox(children=(FloatProgress(value=0.0, layout=Layout(flex='2'), max=711.0), HTML(value='')), layout=Layout(di…"
      ]
     },
     "metadata": {},
     "output_type": "display_data"
    },
    {
     "name": "stdout",
     "output_type": "stream",
     "text": [
      "\n"
     ]
    },
    {
     "data": {
      "application/vnd.jupyter.widget-view+json": {
       "model_id": "ac9dd9110acd4ccba28e33eb993f8c59",
       "version_major": 2,
       "version_minor": 0
      },
      "text/plain": [
       "HBox(children=(FloatProgress(value=0.0, layout=Layout(flex='2'), max=146.0), HTML(value='')), layout=Layout(di…"
      ]
     },
     "metadata": {},
     "output_type": "display_data"
    },
    {
     "name": "stdout",
     "output_type": "stream",
     "text": [
      "\n",
      "Saving trainer to /home/storage/3020/KrivorotovI/db/HKR_experiments/CRNN_1_aug.\n",
      "Trainer is saved.\n",
      "Model improved on valid with loss: 0.1364638996629478\n",
      "А---------------қ--------т-----------а-----------у---- => Ақтау               , gt: Ақтау               \n",
      "Г-----о--р-----н--------яя----ц---к------и--------йй-- => Горняцкий           , gt: Горняцкий           \n",
      "И-------------   -д-----о----бб----р----ыы------йй---- => И добрый            , gt: И добрый            \n",
      "П-----о---д-----   с--к--а-----л---ь--п-ее--л--и---м-- => Под скальпелим      , gt: Под скальпелем      \n",
      "д-----------ж-----------ии-------г---и--------т------- => джигит              , gt: джигит              \n",
      "Lr now: 0.001\n"
     ]
    },
    {
     "data": {
      "application/vnd.jupyter.widget-view+json": {
       "model_id": "7609ec511288463e83a5e118bb965ca2",
       "version_major": 2,
       "version_minor": 0
      },
      "text/plain": [
       "HBox(children=(FloatProgress(value=0.0, layout=Layout(flex='2'), max=711.0), HTML(value='')), layout=Layout(di…"
      ]
     },
     "metadata": {},
     "output_type": "display_data"
    },
    {
     "name": "stdout",
     "output_type": "stream",
     "text": [
      "\n"
     ]
    },
    {
     "data": {
      "application/vnd.jupyter.widget-view+json": {
       "model_id": "79d700bdba364686b779539fb34b64e8",
       "version_major": 2,
       "version_minor": 0
      },
      "text/plain": [
       "HBox(children=(FloatProgress(value=0.0, layout=Layout(flex='2'), max=146.0), HTML(value='')), layout=Layout(di…"
      ]
     },
     "metadata": {},
     "output_type": "display_data"
    },
    {
     "name": "stdout",
     "output_type": "stream",
     "text": [
      "\n",
      "А---------------к------тт---------о-----бб-------е---- => Актобе              , gt: Актобе              \n",
      "А---------б----х-------а-----з-----и-----------яя----- => Абхазия             , gt: Абхазия             \n",
      "н-ыы--лл-оо--  -о--т-----  рр-а--з--л---у--к--и--,---— => ныло от разлуки,—   , gt: ныло от разлуки,—   \n",
      "У---з---бб--е---ккк----и-----сс---тт-------аа----н---- => Узбекистан          , gt: Узбекистан          \n",
      "К------о---сс--тт-------а-------н-------а------й------ => Костанай            , gt: Костанай            \n",
      "Lr now: 0.001\n"
     ]
    },
    {
     "data": {
      "application/vnd.jupyter.widget-view+json": {
       "model_id": "c69fe947fc004cf0b9d7860fdeb91530",
       "version_major": 2,
       "version_minor": 0
      },
      "text/plain": [
       "HBox(children=(FloatProgress(value=0.0, layout=Layout(flex='2'), max=711.0), HTML(value='')), layout=Layout(di…"
      ]
     },
     "metadata": {},
     "output_type": "display_data"
    },
    {
     "name": "stdout",
     "output_type": "stream",
     "text": [
      "\n"
     ]
    },
    {
     "data": {
      "application/vnd.jupyter.widget-view+json": {
       "model_id": "39f896f0e8ff4eaca7a37c32b46e1196",
       "version_major": 2,
       "version_minor": 0
      },
      "text/plain": [
       "HBox(children=(FloatProgress(value=0.0, layout=Layout(flex='2'), max=146.0), HTML(value='')), layout=Layout(di…"
      ]
     },
     "metadata": {},
     "output_type": "display_data"
    },
    {
     "name": "stdout",
     "output_type": "stream",
     "text": [
      "\n",
      "н----------а-------в------с----е--------дд------а----- => навседа             , gt: навсегда            \n",
      "Ш-----------------а------р----д------а-----р-----а---- => Шардара             , gt: Шардара             \n",
      "А-------л--------мм-------а-------т------------ы------ => Алматы              , gt: Алматы              \n",
      "м-------о---е----й---   лл----е--ж-------и-----т-----, => моей лежит,         , gt: моей лежит,         \n",
      "Р-----------О------С----------с--------И---------Я---- => РОСсИЯ              , gt: РОССИЯ              \n",
      "Lr now: 0.001\n"
     ]
    },
    {
     "data": {
      "application/vnd.jupyter.widget-view+json": {
       "model_id": "984604fbfdc74a4cbe134b09f0dd5b7d",
       "version_major": 2,
       "version_minor": 0
      },
      "text/plain": [
       "HBox(children=(FloatProgress(value=0.0, layout=Layout(flex='2'), max=711.0), HTML(value='')), layout=Layout(di…"
      ]
     },
     "metadata": {},
     "output_type": "display_data"
    },
    {
     "name": "stdout",
     "output_type": "stream",
     "text": [
      "\n"
     ]
    },
    {
     "data": {
      "application/vnd.jupyter.widget-view+json": {
       "model_id": "1f5729c9e35e46ab9d85da39d892475a",
       "version_major": 2,
       "version_minor": 0
      },
      "text/plain": [
       "HBox(children=(FloatProgress(value=0.0, layout=Layout(flex='2'), max=146.0), HTML(value='')), layout=Layout(di…"
      ]
     },
     "metadata": {},
     "output_type": "display_data"
    },
    {
     "name": "stdout",
     "output_type": "stream",
     "text": [
      "\n",
      "о--т----чч--ии---з--н---ы------  -м------о---е---йй--- => отчизны моей        , gt: отчизны моей        \n",
      "Д---л---я--  мм----ии-р--к--о--йй--  жж----ии-з--н--ии => Для миркой жизни    , gt: Для мирной жизни    \n",
      "Г-----дд----е----------------  -н-----о-----ч----ьь--- => Где ночь            , gt: Где ночь            \n",
      "Н----о-- тт------щщ-ее-т---нн--ы----  мм---ееччч-т---ы => Но тщетны мечты     , gt: Но тщетны мечты,    \n",
      "о-б--е-дд--а--л---  чч-е-р---т-----  зз--н--а--е--т--- => обедал черт знает   , gt: обедал черт знает   \n",
      "Lr now: 0.001\n"
     ]
    },
    {
     "data": {
      "application/vnd.jupyter.widget-view+json": {
       "model_id": "b89fd27a34274bd5bc3f3c92ecc79590",
       "version_major": 2,
       "version_minor": 0
      },
      "text/plain": [
       "HBox(children=(FloatProgress(value=0.0, layout=Layout(flex='2'), max=711.0), HTML(value='')), layout=Layout(di…"
      ]
     },
     "metadata": {},
     "output_type": "display_data"
    },
    {
     "name": "stdout",
     "output_type": "stream",
     "text": [
      "\n"
     ]
    },
    {
     "data": {
      "application/vnd.jupyter.widget-view+json": {
       "model_id": "f066e9e59b084c22bca913c7d9225c3a",
       "version_major": 2,
       "version_minor": 0
      },
      "text/plain": [
       "HBox(children=(FloatProgress(value=0.0, layout=Layout(flex='2'), max=146.0), HTML(value='')), layout=Layout(di…"
      ]
     },
     "metadata": {},
     "output_type": "display_data"
    },
    {
     "name": "stdout",
     "output_type": "stream",
     "text": [
      "\n",
      "К----  -уу--т-----ррр--уу--,,--  -к----о--ггг-д---а--- => К утру, когда       , gt: К утру, когда       \n",
      "Ш---------------------------уу------------------------ => Шу                  , gt: Шу                  \n",
      "З-а--п-а-д--н--о-----К-аа-з-а--х-ссст-аа--нсскк-а---я- => Западно-Казахстанская, gt: Западно-Казахстанская\n",
      "А-------т------ы----рр---а----у----с---к----а-----я--- => Атырауская          , gt: Атырауская          \n",
      "с---в--о---й----------  с--о--вв-ее-р---ш----ии---т--- => свой совершит       , gt: свой совершит       \n",
      "Lr now: 0.001\n"
     ]
    },
    {
     "data": {
      "application/vnd.jupyter.widget-view+json": {
       "model_id": "e44065ce8b214ba6a3b1bf75eceb4b07",
       "version_major": 2,
       "version_minor": 0
      },
      "text/plain": [
       "HBox(children=(FloatProgress(value=0.0, layout=Layout(flex='2'), max=711.0), HTML(value='')), layout=Layout(di…"
      ]
     },
     "metadata": {},
     "output_type": "display_data"
    },
    {
     "name": "stdout",
     "output_type": "stream",
     "text": [
      "\n"
     ]
    },
    {
     "data": {
      "application/vnd.jupyter.widget-view+json": {
       "model_id": "61e77f18f7ee44ceb81202575f1584da",
       "version_major": 2,
       "version_minor": 0
      },
      "text/plain": [
       "HBox(children=(FloatProgress(value=0.0, layout=Layout(flex='2'), max=146.0), HTML(value='')), layout=Layout(di…"
      ]
     },
     "metadata": {},
     "output_type": "display_data"
    },
    {
     "name": "stdout",
     "output_type": "stream",
     "text": [
      "\n",
      "е----гггоо---------  -п-----и----т------а----е---тт--- => его питает          , gt: его питает          \n",
      "Н--о--л---н---о---  -с--оо--ж----е--л---е--н---ии--йй- => Нолно сожелений     , gt: полно сожалений     \n",
      "О---н-----и---,,,--  -т--о---лл----ч----а---яя--сссьь- => Они, толчаясь       , gt: Они, толкаясь       \n",
      "Я----------  -ссс-----т----------а----------л--------- => Я стал              , gt: Я стал              \n",
      "К---а---р--аа---гг--а---нн---дд--ии--нн--сс-кк--а---я- => Карагандинская      , gt: Карагандинская      \n",
      "Lr now: 0.001\n"
     ]
    },
    {
     "data": {
      "application/vnd.jupyter.widget-view+json": {
       "model_id": "503abbabdef545e2907e7c1817336571",
       "version_major": 2,
       "version_minor": 0
      },
      "text/plain": [
       "HBox(children=(FloatProgress(value=0.0, layout=Layout(flex='2'), max=711.0), HTML(value='')), layout=Layout(di…"
      ]
     },
     "metadata": {},
     "output_type": "display_data"
    },
    {
     "name": "stdout",
     "output_type": "stream",
     "text": [
      "\n"
     ]
    },
    {
     "data": {
      "application/vnd.jupyter.widget-view+json": {
       "model_id": "6c5c1553c45b44a0a86e7adef6697743",
       "version_major": 2,
       "version_minor": 0
      },
      "text/plain": [
       "HBox(children=(FloatProgress(value=0.0, layout=Layout(flex='2'), max=146.0), HTML(value='')), layout=Layout(di…"
      ]
     },
     "metadata": {},
     "output_type": "display_data"
    },
    {
     "name": "stdout",
     "output_type": "stream",
     "text": [
      "\n",
      "О--н---и----,,,--  -т------о---л----к---а----яя---сьь- => Они, толкаясь       , gt: Они, толкаясь       \n",
      "А----------кк---------т-------------а--------у-------- => Актау               , gt: Актау               \n",
      "Севв-е-р-нн-о----КК-аа-зз-а--хх-сст---а--н--сск-аа--я- => Северно-Казахстанская, gt: Северно-Казахстанская\n",
      "в----о--------  ввв--с-е-------  -к--о--н---ц---ы----, => во все концы,       , gt: во все концы,       \n",
      "К-------Ы--------З----Ы-----Л----О-----Р----Д-----А--- => КЫЗЫЛОРДА           , gt: КЫЗЫЛОРДА           \n",
      "Lr now: 0.001\n"
     ]
    },
    {
     "data": {
      "application/vnd.jupyter.widget-view+json": {
       "model_id": "554035e64b254cd88dafeefad4a356ad",
       "version_major": 2,
       "version_minor": 0
      },
      "text/plain": [
       "HBox(children=(FloatProgress(value=0.0, layout=Layout(flex='2'), max=711.0), HTML(value='')), layout=Layout(di…"
      ]
     },
     "metadata": {},
     "output_type": "display_data"
    },
    {
     "name": "stdout",
     "output_type": "stream",
     "text": [
      "\n"
     ]
    },
    {
     "data": {
      "application/vnd.jupyter.widget-view+json": {
       "model_id": "de94b3c542744b369480f6fc1968c0ae",
       "version_major": 2,
       "version_minor": 0
      },
      "text/plain": [
       "HBox(children=(FloatProgress(value=0.0, layout=Layout(flex='2'), max=146.0), HTML(value='')), layout=Layout(di…"
      ]
     },
     "metadata": {},
     "output_type": "display_data"
    },
    {
     "name": "stdout",
     "output_type": "stream",
     "text": [
      "\n",
      "К----------Ы------З-----Ы------Л----О--Р------Д-----А- => КЫЗЫЛОРДА           , gt: КЫЗЫЛОРДА           \n",
      "ШШ---------------а-------л------кк-----а-------р------ => Шалкар              , gt: Шалкар              \n",
      "б-есс-смм--ерр--т--н--ы--м--ии-  сстт--и--м-а--м--ии-? => бессмертными стимами?, gt: бессмертными стихами?\n",
      "Т----------у-----р----к-----е----с---т-------а----н--- => Туркестан           , gt: Туркестан           \n",
      "П------е---т---рр---о--пп--а---в----л--оо-вв--сс--кк-- => Петропавловск       , gt: Петропавловск       \n",
      "Lr now: 0.001\n"
     ]
    },
    {
     "data": {
      "application/vnd.jupyter.widget-view+json": {
       "model_id": "89c1e19606e04a2d9b56fd1a995b0ba5",
       "version_major": 2,
       "version_minor": 0
      },
      "text/plain": [
       "HBox(children=(FloatProgress(value=0.0, layout=Layout(flex='2'), max=711.0), HTML(value='')), layout=Layout(di…"
      ]
     },
     "metadata": {},
     "output_type": "display_data"
    },
    {
     "name": "stdout",
     "output_type": "stream",
     "text": [
      "\n"
     ]
    },
    {
     "data": {
      "application/vnd.jupyter.widget-view+json": {
       "model_id": "1410b52c03ba4891a982365a6d013145",
       "version_major": 2,
       "version_minor": 0
      },
      "text/plain": [
       "HBox(children=(FloatProgress(value=0.0, layout=Layout(flex='2'), max=146.0), HTML(value='')), layout=Layout(di…"
      ]
     },
     "metadata": {},
     "output_type": "display_data"
    },
    {
     "name": "stdout",
     "output_type": "stream",
     "text": [
      "\n",
      "Saving trainer to /home/storage/3020/KrivorotovI/db/HKR_experiments/CRNN_1_aug.\n",
      "Trainer is saved.\n",
      "Model improved on valid with loss: 0.1346346982435821\n",
      "Т-------------А-----------Р--------А----------З------- => ТАРАЗ               , gt: ТАРАЗ               \n",
      "К--------о---сс--тт--------а------н------а-------й---- => Костанай            , gt: Костанай            \n",
      "А-------рр-----а--------л---------ьь----с----к-------- => Аральск             , gt: Аральск             \n",
      "У--стт-ь------К---а--мм----е--н----оо-ггг-о--р---ссккк => Усть-Каменогорск    , gt: Усть-Каменогорск    \n",
      "г----ррр------ее-----мм---------е----лл-----  ——------ => гремел —            , gt: гремел —            \n",
      "Lr now: 0.001\n"
     ]
    },
    {
     "data": {
      "application/vnd.jupyter.widget-view+json": {
       "model_id": "5de142d6f0e44908aeb4b2e425c03e6b",
       "version_major": 2,
       "version_minor": 0
      },
      "text/plain": [
       "HBox(children=(FloatProgress(value=0.0, layout=Layout(flex='2'), max=711.0), HTML(value='')), layout=Layout(di…"
      ]
     },
     "metadata": {},
     "output_type": "display_data"
    },
    {
     "name": "stdout",
     "output_type": "stream",
     "text": [
      "\n"
     ]
    },
    {
     "data": {
      "application/vnd.jupyter.widget-view+json": {
       "model_id": "d9693e14943849608ff1ccac76f0142e",
       "version_major": 2,
       "version_minor": 0
      },
      "text/plain": [
       "HBox(children=(FloatProgress(value=0.0, layout=Layout(flex='2'), max=146.0), HTML(value='')), layout=Layout(di…"
      ]
     },
     "metadata": {},
     "output_type": "display_data"
    },
    {
     "name": "stdout",
     "output_type": "stream",
     "text": [
      "\n",
      "О----нн--а------   -л--ее--ж-----а---л---а------  -в-- => Она лежала в        , gt: Она лежала в        \n",
      "П-------о------с-----е--------лл-------о-------к------ => Поселок             , gt: Поселок             \n",
      "уу------д-------а---------лл-------яя-------яя-------, => удаляя,             , gt: удаляя.             \n",
      "Т---------уу---р------к-----е----с-----т----а-----н--- => Туркестан           , gt: Туркестан           \n",
      "с------вв----------о--------ю------------------------… => свою…               , gt: свою…               \n",
      "Lr now: 0.001\n"
     ]
    },
    {
     "data": {
      "application/vnd.jupyter.widget-view+json": {
       "model_id": "723928e8462f49da83232614f441dd5c",
       "version_major": 2,
       "version_minor": 0
      },
      "text/plain": [
       "HBox(children=(FloatProgress(value=0.0, layout=Layout(flex='2'), max=711.0), HTML(value='')), layout=Layout(di…"
      ]
     },
     "metadata": {},
     "output_type": "display_data"
    },
    {
     "name": "stdout",
     "output_type": "stream",
     "text": [
      "\n"
     ]
    },
    {
     "data": {
      "application/vnd.jupyter.widget-view+json": {
       "model_id": "aae00d40de264e4bbd35a0e55f148db4",
       "version_major": 2,
       "version_minor": 0
      },
      "text/plain": [
       "HBox(children=(FloatProgress(value=0.0, layout=Layout(flex='2'), max=146.0), HTML(value='')), layout=Layout(di…"
      ]
     },
     "metadata": {},
     "output_type": "display_data"
    },
    {
     "name": "stdout",
     "output_type": "stream",
     "text": [
      "\n",
      "К-------ы------зз---ы------лл----о---рр-----д----а---- => Кызылорда           , gt: Кызылорда           \n",
      "У------кк-----р------а------и---------н--------а------ => Украина             , gt: Украина             \n",
      "С-------------е--------------л------------о----------- => Село                , gt: Село                \n",
      "П-------а---вв---л---оо--дд---а---р----с--к---а----я-- => Павлодарская        , gt: Павлодарская        \n",
      "П-----е--П----рр--о--п----а----в---л---оо--в----с---к- => ПеПропавловск       , gt: Петропавловск       \n",
      "Lr now: 0.001\n"
     ]
    },
    {
     "data": {
      "application/vnd.jupyter.widget-view+json": {
       "model_id": "cd8fbc0266bd454daa2131251b8a62d7",
       "version_major": 2,
       "version_minor": 0
      },
      "text/plain": [
       "HBox(children=(FloatProgress(value=0.0, layout=Layout(flex='2'), max=711.0), HTML(value='')), layout=Layout(di…"
      ]
     },
     "metadata": {},
     "output_type": "display_data"
    },
    {
     "name": "stdout",
     "output_type": "stream",
     "text": [
      "\n"
     ]
    },
    {
     "data": {
      "application/vnd.jupyter.widget-view+json": {
       "model_id": "ea6364fa6e3c434f8e961d5c793d1139",
       "version_major": 2,
       "version_minor": 0
      },
      "text/plain": [
       "HBox(children=(FloatProgress(value=0.0, layout=Layout(flex='2'), max=146.0), HTML(value='')), layout=Layout(di…"
      ]
     },
     "metadata": {},
     "output_type": "display_data"
    },
    {
     "name": "stdout",
     "output_type": "stream",
     "text": [
      "\n",
      "в--ллюю--б-ее-и-н-о-ее--  вв-и--н-о----------------- - => влюбеиное вино      , gt: влюбленное вино     \n",
      "О---тт--вв--а---жж----н---ы---х-  -б--о----й--ц--о--в- => Отважных бойцов     , gt: отважных бойцов     \n",
      "О------п-----яя--тт------ь------   о---д----н----а---, => Опять одна,         , gt: Опять одна,         \n",
      "ЗЗаа-ппаа-д-нно----КК-ааззааахх-с-т--а--нн-с-кк-аа--я- => Западно-Казахстанская, gt: Западно-Казахстанская\n",
      "У------зз---б----е---к-----и---ссс--тт------а-----н--- => Узбекистан          , gt: Узбекистан          \n",
      "Lr now: 0.001\n"
     ]
    },
    {
     "data": {
      "application/vnd.jupyter.widget-view+json": {
       "model_id": "f1a6b75d9ea14ff58c523d0c94141444",
       "version_major": 2,
       "version_minor": 0
      },
      "text/plain": [
       "HBox(children=(FloatProgress(value=0.0, layout=Layout(flex='2'), max=711.0), HTML(value='')), layout=Layout(di…"
      ]
     },
     "metadata": {},
     "output_type": "display_data"
    },
    {
     "name": "stdout",
     "output_type": "stream",
     "text": [
      "\n"
     ]
    },
    {
     "data": {
      "application/vnd.jupyter.widget-view+json": {
       "model_id": "a46c2cb57685416ea884f9ee32d6484a",
       "version_major": 2,
       "version_minor": 0
      },
      "text/plain": [
       "HBox(children=(FloatProgress(value=0.0, layout=Layout(flex='2'), max=146.0), HTML(value='')), layout=Layout(di…"
      ]
     },
     "metadata": {},
     "output_type": "display_data"
    },
    {
     "name": "stdout",
     "output_type": "stream",
     "text": [
      "\n",
      "Ч----т---о---  с--к-аа-зз--а---т---ь--   мм-----н---е- => Что сказать мне     , gt: Что сказать мне     \n",
      "Н---о---  ч---т-ь--   н--а--м-----   д--ее-лл--а---тьь => Но чть нам делать   , gt: Но что нам делать   \n",
      "К-----О-----СТТ----А---Н-----А---Й---СС--К----А-----Я- => КОСТАНАЙСКАЯ        , gt: КОСТАНАЙСКАЯ        \n",
      "Я--------   з----в--а---л-------  -т------е---бб--я--, => Я звал тебя,        , gt: Я звал тебя,        \n",
      "Е----------с--------и--------------------лл------ь---- => Есиль               , gt: Есиль               \n",
      "Lr now: 0.0001\n"
     ]
    },
    {
     "data": {
      "application/vnd.jupyter.widget-view+json": {
       "model_id": "c1510e87f48e4216842afd3c5dd68bee",
       "version_major": 2,
       "version_minor": 0
      },
      "text/plain": [
       "HBox(children=(FloatProgress(value=0.0, layout=Layout(flex='2'), max=711.0), HTML(value='')), layout=Layout(di…"
      ]
     },
     "metadata": {},
     "output_type": "display_data"
    },
    {
     "name": "stdout",
     "output_type": "stream",
     "text": [
      "\n"
     ]
    },
    {
     "data": {
      "application/vnd.jupyter.widget-view+json": {
       "model_id": "4aeba3312fcb495095c8b89bbb97e819",
       "version_major": 2,
       "version_minor": 0
      },
      "text/plain": [
       "HBox(children=(FloatProgress(value=0.0, layout=Layout(flex='2'), max=146.0), HTML(value='')), layout=Layout(di…"
      ]
     },
     "metadata": {},
     "output_type": "display_data"
    },
    {
     "name": "stdout",
     "output_type": "stream",
     "text": [
      "\n",
      "Saving trainer to /home/storage/3020/KrivorotovI/db/HKR_experiments/CRNN_1_aug.\n",
      "Trainer is saved.\n",
      "Model improved on valid with loss: 0.11573544587327601\n",
      "н--ыы--лл---о- -о--тт---- рр--о-зз-л--у---к--и---,,--— => ныло от розлуки,—   , gt: ныло от разлуки,—   \n",
      "к---а----к-------   -м----о---л--о--дд---о---сс-тт--ь- => как молодость       , gt: как молодость       \n",
      "О---к----т-------я---б--рр---ь---с--к-----ии------й--- => Октябрьский         , gt: Октябрьский         \n",
      "Б-------а------йй-------кк------о---н--------ы-----р-- => Байконыр            , gt: Байконыр            \n",
      "х-------------------------л----ее-----б---------,,---- => хлеб,               , gt: хлеб,               \n",
      "Lr now: 0.0001\n"
     ]
    },
    {
     "data": {
      "application/vnd.jupyter.widget-view+json": {
       "model_id": "372f3d4404114d1a9690d8466f3be0b4",
       "version_major": 2,
       "version_minor": 0
      },
      "text/plain": [
       "HBox(children=(FloatProgress(value=0.0, layout=Layout(flex='2'), max=711.0), HTML(value='')), layout=Layout(di…"
      ]
     },
     "metadata": {},
     "output_type": "display_data"
    },
    {
     "name": "stdout",
     "output_type": "stream",
     "text": [
      "\n"
     ]
    },
    {
     "data": {
      "application/vnd.jupyter.widget-view+json": {
       "model_id": "2f776a4aedb148aeb303a5da8f68e946",
       "version_major": 2,
       "version_minor": 0
      },
      "text/plain": [
       "HBox(children=(FloatProgress(value=0.0, layout=Layout(flex='2'), max=146.0), HTML(value='')), layout=Layout(di…"
      ]
     },
     "metadata": {},
     "output_type": "display_data"
    },
    {
     "name": "stdout",
     "output_type": "stream",
     "text": [
      "\n",
      "Saving trainer to /home/storage/3020/KrivorotovI/db/HKR_experiments/CRNN_1_aug.\n",
      "Trainer is saved.\n",
      "Model improved on valid with loss: 0.11160235957893198\n",
      "А--------лл-----ммм---------а-------т-----------ы----- => Алматы              , gt: Алматы              \n",
      "Б-------------у-------лл-----а-------е------в------о-- => Булаево             , gt: Булаево             \n",
      "И----х-------   -з--аа----б---в-ее--н---н---ы------й-- => Их забвенный        , gt: Их забвенный        \n",
      "С--------а-----рр--------к------а------н-------д------ => Сарканд             , gt: Сарканд             \n",
      "В-О-С--т--О-Ч-Н--О-- -К-А--З-АА--Х-С--Т--А--Н--С-К-АЯЯ => ВОСтОЧНО КАЗАХСТАНСКАЯ, gt: Восточно-Казахстанская\n",
      "Lr now: 0.0001\n"
     ]
    },
    {
     "data": {
      "application/vnd.jupyter.widget-view+json": {
       "model_id": "ac76efdb9651459690cc0cbb74fddd48",
       "version_major": 2,
       "version_minor": 0
      },
      "text/plain": [
       "HBox(children=(FloatProgress(value=0.0, layout=Layout(flex='2'), max=711.0), HTML(value='')), layout=Layout(di…"
      ]
     },
     "metadata": {},
     "output_type": "display_data"
    },
    {
     "name": "stdout",
     "output_type": "stream",
     "text": [
      "\n"
     ]
    },
    {
     "data": {
      "application/vnd.jupyter.widget-view+json": {
       "model_id": "8e408dfa9f7440d8b8fe0f67fde687f9",
       "version_major": 2,
       "version_minor": 0
      },
      "text/plain": [
       "HBox(children=(FloatProgress(value=0.0, layout=Layout(flex='2'), max=146.0), HTML(value='')), layout=Layout(di…"
      ]
     },
     "metadata": {},
     "output_type": "display_data"
    },
    {
     "name": "stdout",
     "output_type": "stream",
     "text": [
      "\n",
      "Saving trainer to /home/storage/3020/KrivorotovI/db/HKR_experiments/CRNN_1_aug.\n",
      "Trainer is saved.\n",
      "Model improved on valid with loss: 0.11110176791577306\n",
      "з---е----л---ее--н----е-------т-----  -ее----лл---ь--, => зеленет ель,        , gt: зеленеет ель,       \n",
      "о--т-------- --с---т-----р--а----д---а--н---ь----я---, => от страданья,       , gt: от страданья,       \n",
      "Д---------------е------р--------к-------у---------л--- => Деркул              , gt: Деркул              \n",
      "З----а----т----о----б--о---л----ьь--е----и------кк---- => Затобольеик         , gt: Затобольсик         \n",
      "Ч---т-----оо----    б--------ии---жж----н-----и----х-- => Что бижних          , gt: Что ближних         \n",
      "Lr now: 0.0001\n"
     ]
    },
    {
     "data": {
      "application/vnd.jupyter.widget-view+json": {
       "model_id": "9ef391db6d1a4b0f8f94fb13e13f9ab5",
       "version_major": 2,
       "version_minor": 0
      },
      "text/plain": [
       "HBox(children=(FloatProgress(value=0.0, layout=Layout(flex='2'), max=711.0), HTML(value='')), layout=Layout(di…"
      ]
     },
     "metadata": {},
     "output_type": "display_data"
    },
    {
     "name": "stdout",
     "output_type": "stream",
     "text": [
      "\n"
     ]
    },
    {
     "data": {
      "application/vnd.jupyter.widget-view+json": {
       "model_id": "afff995722594f539a05804345488260",
       "version_major": 2,
       "version_minor": 0
      },
      "text/plain": [
       "HBox(children=(FloatProgress(value=0.0, layout=Layout(flex='2'), max=146.0), HTML(value='')), layout=Layout(di…"
      ]
     },
     "metadata": {},
     "output_type": "display_data"
    },
    {
     "name": "stdout",
     "output_type": "stream",
     "text": [
      "\n",
      "Saving trainer to /home/storage/3020/KrivorotovI/db/HKR_experiments/CRNN_1_aug.\n",
      "Trainer is saved.\n",
      "Model improved on valid with loss: 0.1108461852848836\n",
      "А------------с-----т-------а-----нн-----------а------- => Астана              , gt: Астана              \n",
      "А-----------т---------а----------сс-----------у------- => Атасу               , gt: Атасу               \n",
      "Ж---------а---мм-----б---ы----л--ьь--с---к---а-----яя- => Жамбыльская         , gt: Жамбыльская         \n",
      "А-------------------бб-----------а---------й---------- => Абай                , gt: Абай                \n",
      "п------о---зз---а-------бб----ыы-------л----иии------, => позабыли,           , gt: позабыли,           \n",
      "Lr now: 0.0001\n"
     ]
    },
    {
     "data": {
      "application/vnd.jupyter.widget-view+json": {
       "model_id": "32288be230314340bf346cc419192ef7",
       "version_major": 2,
       "version_minor": 0
      },
      "text/plain": [
       "HBox(children=(FloatProgress(value=0.0, layout=Layout(flex='2'), max=711.0), HTML(value='')), layout=Layout(di…"
      ]
     },
     "metadata": {},
     "output_type": "display_data"
    },
    {
     "name": "stdout",
     "output_type": "stream",
     "text": [
      "\n"
     ]
    },
    {
     "data": {
      "application/vnd.jupyter.widget-view+json": {
       "model_id": "191162b846a345379c3e4377feda33f4",
       "version_major": 2,
       "version_minor": 0
      },
      "text/plain": [
       "HBox(children=(FloatProgress(value=0.0, layout=Layout(flex='2'), max=146.0), HTML(value='')), layout=Layout(di…"
      ]
     },
     "metadata": {},
     "output_type": "display_data"
    },
    {
     "name": "stdout",
     "output_type": "stream",
     "text": [
      "\n",
      "и-  -з---а--л--е--ч---и---л--а---   р----а---н----ы--- => и залечила раны     , gt: и залечила раны     \n",
      "К-----а-----з-----а-------х-----сс--ттт------а-----н-- => Казахстан           , gt: Казахстан           \n",
      "Л---и-шшш-ьь-   б-ы---  н--е-  п-р--о--с-т---и--т--ьь- => Лишь бы не простить , gt: Лишь бы не простить \n",
      "З----аа----р------ыы----вв----ш------иии----ссс----ь-- => Зарывшись           , gt: Зарывшись           \n",
      "чч------а------с-----о------в-------а---------яяя----- => часовая             , gt: часовая             \n",
      "Lr now: 0.0001\n"
     ]
    },
    {
     "data": {
      "application/vnd.jupyter.widget-view+json": {
       "model_id": "3514971a11664e319a69e886d125fac2",
       "version_major": 2,
       "version_minor": 0
      },
      "text/plain": [
       "HBox(children=(FloatProgress(value=0.0, layout=Layout(flex='2'), max=711.0), HTML(value='')), layout=Layout(di…"
      ]
     },
     "metadata": {},
     "output_type": "display_data"
    },
    {
     "name": "stdout",
     "output_type": "stream",
     "text": [
      "\n"
     ]
    },
    {
     "data": {
      "application/vnd.jupyter.widget-view+json": {
       "model_id": "bf1555c85eb84e5699959c40ed72fdb3",
       "version_major": 2,
       "version_minor": 0
      },
      "text/plain": [
       "HBox(children=(FloatProgress(value=0.0, layout=Layout(flex='2'), max=146.0), HTML(value='')), layout=Layout(di…"
      ]
     },
     "metadata": {},
     "output_type": "display_data"
    },
    {
     "name": "stdout",
     "output_type": "stream",
     "text": [
      "\n",
      "Saving trainer to /home/storage/3020/KrivorotovI/db/HKR_experiments/CRNN_1_aug.\n",
      "Trainer is saved.\n",
      "Model improved on valid with loss: 0.10923971645278882\n",
      "К---а----к----  н-----е--кк---о---г--дд----а-----  в-- => Как некогда в       , gt: Как некогда в       \n",
      "В------  -оо---т----д--ее---лл--ь--нн-о--сс--т--и----, => В отдельности,      , gt: В отдельности,      \n",
      "я-----   о-ззз-и--р--а--лл--  пп--о--л--м---и--р--а--, => я озирал полмира,   , gt: я озирал полмира,   \n",
      "С----------т--------е----пп----нн----------я-----к---- => Степняк             , gt: Степняк             \n",
      "ш---ее-сс-т-----о-ггоо---  -ч---у--в--сс-т-----в--а--. => шестого чувства.    , gt: шестого чувства.    \n",
      "Lr now: 0.0001\n"
     ]
    },
    {
     "data": {
      "application/vnd.jupyter.widget-view+json": {
       "model_id": "cde3b2e8caf6495fabb2ff89d961e11b",
       "version_major": 2,
       "version_minor": 0
      },
      "text/plain": [
       "HBox(children=(FloatProgress(value=0.0, layout=Layout(flex='2'), max=711.0), HTML(value='')), layout=Layout(di…"
      ]
     },
     "metadata": {},
     "output_type": "display_data"
    },
    {
     "name": "stdout",
     "output_type": "stream",
     "text": [
      "\n"
     ]
    },
    {
     "data": {
      "application/vnd.jupyter.widget-view+json": {
       "model_id": "7514b903620c443397a65e19edcbf910",
       "version_major": 2,
       "version_minor": 0
      },
      "text/plain": [
       "HBox(children=(FloatProgress(value=0.0, layout=Layout(flex='2'), max=146.0), HTML(value='')), layout=Layout(di…"
      ]
     },
     "metadata": {},
     "output_type": "display_data"
    },
    {
     "name": "stdout",
     "output_type": "stream",
     "text": [
      "\n",
      "А-------------с-----т----------а-----н---------а------ => Астана              , gt: Астана              \n",
      "А---------тт----------ы--------р--------а-------у----- => Атырау              , gt: Атырау              \n",
      "м-----и---р-нн--ы---й----  т----рр-аа---к--т----о--р-, => мирный трактор,     , gt: мирный трактор,     \n",
      "М--------О-----Л-----Д---------А-----В------И------Я-- => МОЛДАВИЯ            , gt: МОЛДАВИЯ            \n",
      "В-оостт--ооччч-нн--о--КК--аазз-а-х-сстт--ааннсскккааяя => Восточно-Казахстанская, gt: Восточно-Казахстанская\n",
      "Lr now: 0.0001\n"
     ]
    },
    {
     "data": {
      "application/vnd.jupyter.widget-view+json": {
       "model_id": "57c6c54a8ce14c1fb00e41274dc6e1ed",
       "version_major": 2,
       "version_minor": 0
      },
      "text/plain": [
       "HBox(children=(FloatProgress(value=0.0, layout=Layout(flex='2'), max=711.0), HTML(value='')), layout=Layout(di…"
      ]
     },
     "metadata": {},
     "output_type": "display_data"
    },
    {
     "name": "stdout",
     "output_type": "stream",
     "text": [
      "\n"
     ]
    },
    {
     "data": {
      "application/vnd.jupyter.widget-view+json": {
       "model_id": "0db2de517dbc474a902d29ff30c6d2e7",
       "version_major": 2,
       "version_minor": 0
      },
      "text/plain": [
       "HBox(children=(FloatProgress(value=0.0, layout=Layout(flex='2'), max=146.0), HTML(value='')), layout=Layout(di…"
      ]
     },
     "metadata": {},
     "output_type": "display_data"
    },
    {
     "name": "stdout",
     "output_type": "stream",
     "text": [
      "\n",
      "П----р-о--шш---лл-оо--  п--яя--т----ь----  -л-ее-тт--, => Прошло пять лет,    , gt: Прошло пять лет,    \n",
      "с-вв---о--ее--й-----------  -д--оо-р--оо--г-оо---й---. => своей дорогой.      , gt: своей дорогой.      \n",
      "К----о--сс--т--а-----н----а-----я------с---т--а----я-- => Костанаястая        , gt: Костанайская        \n",
      "Н--о-- -вв-о-л-ч-а-тт---- -н--е--   т--рр-о-н--уу-лл-, => Но волчат не тронул,, gt: Но волчат не тронул,\n",
      "с--   к--е---м----  -в---о---  ффф---р---а---к-ее----. => с кем во фраке.     , gt: с кем во фраке.     \n",
      "Lr now: 0.0001\n"
     ]
    },
    {
     "data": {
      "application/vnd.jupyter.widget-view+json": {
       "model_id": "9b838e3987c648958a60ffcaa82c0622",
       "version_major": 2,
       "version_minor": 0
      },
      "text/plain": [
       "HBox(children=(FloatProgress(value=0.0, layout=Layout(flex='2'), max=711.0), HTML(value='')), layout=Layout(di…"
      ]
     },
     "metadata": {},
     "output_type": "display_data"
    },
    {
     "name": "stdout",
     "output_type": "stream",
     "text": [
      "\n"
     ]
    },
    {
     "data": {
      "application/vnd.jupyter.widget-view+json": {
       "model_id": "fa0fcfc849f6426d958c04bf85ed4a1b",
       "version_major": 2,
       "version_minor": 0
      },
      "text/plain": [
       "HBox(children=(FloatProgress(value=0.0, layout=Layout(flex='2'), max=146.0), HTML(value='')), layout=Layout(di…"
      ]
     },
     "metadata": {},
     "output_type": "display_data"
    },
    {
     "name": "stdout",
     "output_type": "stream",
     "text": [
      "\n",
      "яя------д----   -д------рр-----у---гг--ии-----мм-----, => яд другим,          , gt: яд другим,          \n",
      "А------лл----мм----а----т---ии---н----сс--к---аа----я- => Алматинская         , gt: Алматинская         \n",
      "Т-----а-----йй-------ы-------н-------ш------------р--- => Тайыншр             , gt: Тайынша             \n",
      "Б-----Е------Л-----О-----Р----У-----С----И---------Я-- => БЕЛОРУСИЯ           , gt: БЕЛОРУСИЯ           \n",
      "П----------ее--тт---рр----о--пп--аа-в----л--о--в----к- => Петропавловк        , gt: Пепропавловск       \n",
      "Lr now: 0.0001\n"
     ]
    },
    {
     "data": {
      "application/vnd.jupyter.widget-view+json": {
       "model_id": "c475a70f143843b8b97dd687cf75d264",
       "version_major": 2,
       "version_minor": 0
      },
      "text/plain": [
       "HBox(children=(FloatProgress(value=0.0, layout=Layout(flex='2'), max=711.0), HTML(value='')), layout=Layout(di…"
      ]
     },
     "metadata": {},
     "output_type": "display_data"
    },
    {
     "name": "stdout",
     "output_type": "stream",
     "text": [
      "\n"
     ]
    },
    {
     "data": {
      "application/vnd.jupyter.widget-view+json": {
       "model_id": "0a5fad0762274bb48454fdaebbc06ef6",
       "version_major": 2,
       "version_minor": 0
      },
      "text/plain": [
       "HBox(children=(FloatProgress(value=0.0, layout=Layout(flex='2'), max=146.0), HTML(value='')), layout=Layout(di…"
      ]
     },
     "metadata": {},
     "output_type": "display_data"
    },
    {
     "name": "stdout",
     "output_type": "stream",
     "text": [
      "\n",
      "Р-------------о----ссс---сс------и--------------яя---- => Россия              , gt: Россия              \n",
      "К----------о---сс--тт---------а------н------а------й-- => Костанай            , gt: Костанай            \n",
      "К------а---рр---а--г--а---н---д----ии-н--сс--кк-а--я-- => Карагандинская      , gt: Карагандинская      \n",
      "В---н---и---м---а--е--мм-----   о--д--нн--ии---мм----, => Внимаем одним,      , gt: Внимаем одним,      \n",
      "У--сстт---ь-------КК---а---м----е--н--о--ггооорр-сскк- => Усть-Каменогорск    , gt: Усть-Каменогорск    \n",
      "Lr now: 0.0001\n"
     ]
    },
    {
     "data": {
      "application/vnd.jupyter.widget-view+json": {
       "model_id": "cc1604cf4e524213a8f7d794ba82e512",
       "version_major": 2,
       "version_minor": 0
      },
      "text/plain": [
       "HBox(children=(FloatProgress(value=0.0, layout=Layout(flex='2'), max=711.0), HTML(value='')), layout=Layout(di…"
      ]
     },
     "metadata": {},
     "output_type": "display_data"
    },
    {
     "name": "stdout",
     "output_type": "stream",
     "text": [
      "\n"
     ]
    },
    {
     "data": {
      "application/vnd.jupyter.widget-view+json": {
       "model_id": "d30c9fffa64b4371930b27a288de26b2",
       "version_major": 2,
       "version_minor": 0
      },
      "text/plain": [
       "HBox(children=(FloatProgress(value=0.0, layout=Layout(flex='2'), max=146.0), HTML(value='')), layout=Layout(di…"
      ]
     },
     "metadata": {},
     "output_type": "display_data"
    },
    {
     "name": "stdout",
     "output_type": "stream",
     "text": [
      "\n",
      "А----лл----мм----а-----т-----и---н----сс--к--а-----яя- => Алматинская         , gt: Алматинская         \n",
      "в--------  -с--в----о----и---------   с----н----ы----- => в свои сны          , gt: в свои сны          \n",
      "М----------о-----л--дд-----а-------в-----и-------яя--- => Молдавия            , gt: Молдавия            \n",
      "К------------е---н---------тт------------аа------у---- => Кентау              , gt: Кентау              \n",
      "А---Т--Т--Ы-------Р-----А-----У-----С----К----А----Я-- => АТТЫРАУСКАЯ         , gt: АТЫРАУСКАЯ          \n",
      "Lr now: 0.0001\n"
     ]
    },
    {
     "data": {
      "application/vnd.jupyter.widget-view+json": {
       "model_id": "88a90979031942328e2a764df4c2fc36",
       "version_major": 2,
       "version_minor": 0
      },
      "text/plain": [
       "HBox(children=(FloatProgress(value=0.0, layout=Layout(flex='2'), max=711.0), HTML(value='')), layout=Layout(di…"
      ]
     },
     "metadata": {},
     "output_type": "display_data"
    },
    {
     "name": "stdout",
     "output_type": "stream",
     "text": [
      "\n"
     ]
    },
    {
     "data": {
      "application/vnd.jupyter.widget-view+json": {
       "model_id": "e016bb553290418a802a95068720a9cc",
       "version_major": 2,
       "version_minor": 0
      },
      "text/plain": [
       "HBox(children=(FloatProgress(value=0.0, layout=Layout(flex='2'), max=146.0), HTML(value='')), layout=Layout(di…"
      ]
     },
     "metadata": {},
     "output_type": "display_data"
    },
    {
     "name": "stdout",
     "output_type": "stream",
     "text": [
      "\n",
      "Г--д-ее----  в--  зз-а-мм--к--е-----   г-уу-стт-о-м--, => Где в замке густом, , gt: Где в замке пустом, \n",
      "П--о--з--в--о---л---яя----я----   с--вв--о---и----м--- => Позволяя своим      , gt: Позволяя своим      \n",
      "Ж--------А----М----Б---Ы------Л---Ь----С--К----А----Я- => ЖАМБЫЛЬСКАЯ         , gt: ЖАМБЫЛЬСКАЯ         \n",
      "п-а--мм---я---т---и-----------  -н---а-р--о-дд-н--о-й- => памяти народной     , gt: памяти народной     \n",
      "П-----о-----цц-----е-------лл------уу-------йй-------, => Поцелуй,            , gt: Поцелуй,            \n",
      "Lr now: 0.0001\n"
     ]
    },
    {
     "data": {
      "application/vnd.jupyter.widget-view+json": {
       "model_id": "ac3966afb0aa4ddea85de555007c213d",
       "version_major": 2,
       "version_minor": 0
      },
      "text/plain": [
       "HBox(children=(FloatProgress(value=0.0, layout=Layout(flex='2'), max=711.0), HTML(value='')), layout=Layout(di…"
      ]
     },
     "metadata": {},
     "output_type": "display_data"
    },
    {
     "name": "stdout",
     "output_type": "stream",
     "text": [
      "\n"
     ]
    },
    {
     "data": {
      "application/vnd.jupyter.widget-view+json": {
       "model_id": "c7902f8a0bca4fbea12c4004ac344039",
       "version_major": 2,
       "version_minor": 0
      },
      "text/plain": [
       "HBox(children=(FloatProgress(value=0.0, layout=Layout(flex='2'), max=146.0), HTML(value='')), layout=Layout(di…"
      ]
     },
     "metadata": {},
     "output_type": "display_data"
    },
    {
     "name": "stdout",
     "output_type": "stream",
     "text": [
      "\n",
      "Ю--жжж--нно--------К---ааз-аахх--с-т--а--н-сскк-а---я- => Южно-Казахстанская  , gt: Южно-Казахстанская  \n",
      "т-е-р--зз-а--лли------  ж---ии-зз-н-ь---  м---о--ю---. => терзали жизнь мою.  , gt: терзали жизнь мою.  \n",
      "О-----п-----я---т-------ьь------,,    кк----а---к----- => Опять, как          , gt: Опять, как          \n",
      "К-----а----р----к----а----р---а---л--ии--нн----сс---к- => Каркаралинск        , gt: Каркаралинск        \n",
      "К-------аа--зз---а----хх-----ссс-ттт------а----нн----- => Казахстан           , gt: Казахстан           \n",
      "Lr now: 0.0001\n"
     ]
    },
    {
     "data": {
      "application/vnd.jupyter.widget-view+json": {
       "model_id": "3e7ad43beb62469ea3926347834ac0c7",
       "version_major": 2,
       "version_minor": 0
      },
      "text/plain": [
       "HBox(children=(FloatProgress(value=0.0, layout=Layout(flex='2'), max=711.0), HTML(value='')), layout=Layout(di…"
      ]
     },
     "metadata": {},
     "output_type": "display_data"
    },
    {
     "name": "stdout",
     "output_type": "stream",
     "text": [
      "\n"
     ]
    },
    {
     "data": {
      "application/vnd.jupyter.widget-view+json": {
       "model_id": "0e5111d41a2a4349b1dfb9271ea6832d",
       "version_major": 2,
       "version_minor": 0
      },
      "text/plain": [
       "HBox(children=(FloatProgress(value=0.0, layout=Layout(flex='2'), max=146.0), HTML(value='')), layout=Layout(di…"
      ]
     },
     "metadata": {},
     "output_type": "display_data"
    },
    {
     "name": "stdout",
     "output_type": "stream",
     "text": [
      "\n",
      "А----к---т----ю------б----и-----н----сс--кк---а-----я- => Актюбинская         , gt: Актюбинская         \n",
      "В---сс-т---а---ю---тт-------   г-р---о--м--а--дд--ы--- => Встают громады      , gt: Встают громады      \n",
      "Ч-тт----о-----  -д--оо--б--р--о--д--е--т-----е---л--ьь => Что добродетель     , gt: Что добродетель     \n",
      "Р-----е--б--я---т-------   -у----ж----ее----   н---е-- => Ребят уже не        , gt: Ребят уже не        \n",
      "К--------оо---сс---т----------а-----н-------а-----й--- => Костанай            , gt: Костанай            \n",
      "Lr now: 0.0001\n"
     ]
    },
    {
     "data": {
      "application/vnd.jupyter.widget-view+json": {
       "model_id": "faf82a049aa54f47b3fcd9510b4e783e",
       "version_major": 2,
       "version_minor": 0
      },
      "text/plain": [
       "HBox(children=(FloatProgress(value=0.0, layout=Layout(flex='2'), max=711.0), HTML(value='')), layout=Layout(di…"
      ]
     },
     "metadata": {},
     "output_type": "display_data"
    },
    {
     "name": "stdout",
     "output_type": "stream",
     "text": [
      "\n"
     ]
    },
    {
     "data": {
      "application/vnd.jupyter.widget-view+json": {
       "model_id": "f5223ffa40d64d108cf1ccdc18c32e41",
       "version_major": 2,
       "version_minor": 0
      },
      "text/plain": [
       "HBox(children=(FloatProgress(value=0.0, layout=Layout(flex='2'), max=146.0), HTML(value='')), layout=Layout(di…"
      ]
     },
     "metadata": {},
     "output_type": "display_data"
    },
    {
     "name": "stdout",
     "output_type": "stream",
     "text": [
      "\n",
      "Saving trainer to /home/storage/3020/KrivorotovI/db/HKR_experiments/CRNN_1_aug.\n",
      "Trainer is saved.\n",
      "Model improved on valid with loss: 0.10881542357016508\n",
      "С-Е--В--Е-Р--Н-О----К--А-З-АА-Х-С-Т--А--Н--С--К-А---Я- => СЕВЕРНО-КАЗАХСТАНСКАЯ, gt: СЕВЕРНО-КАЗАХСТАНСКАЯ\n",
      "Б--------аа-----л-----------хх------а-----ш----------- => Балхаш              , gt: Балхаш              \n",
      "к---а--чч--а-----я-------  к---о--лл--ы----б--е--л--ь- => качая колыбель      , gt: качая колыбель      \n",
      "К--------и------р-----г------и------з----ии-------я--- => Киргизия            , gt: Киргизия            \n",
      "т---------у-------мм---------а------н--------ы-------- => туманы              , gt: туманы              \n",
      "Lr now: 0.0001\n"
     ]
    },
    {
     "data": {
      "application/vnd.jupyter.widget-view+json": {
       "model_id": "81878c2816e4485aa178db40424028a9",
       "version_major": 2,
       "version_minor": 0
      },
      "text/plain": [
       "HBox(children=(FloatProgress(value=0.0, layout=Layout(flex='2'), max=711.0), HTML(value='')), layout=Layout(di…"
      ]
     },
     "metadata": {},
     "output_type": "display_data"
    },
    {
     "name": "stdout",
     "output_type": "stream",
     "text": [
      "\n"
     ]
    },
    {
     "data": {
      "application/vnd.jupyter.widget-view+json": {
       "model_id": "cde429c793084031b36db46c480decf3",
       "version_major": 2,
       "version_minor": 0
      },
      "text/plain": [
       "HBox(children=(FloatProgress(value=0.0, layout=Layout(flex='2'), max=146.0), HTML(value='')), layout=Layout(di…"
      ]
     },
     "metadata": {},
     "output_type": "display_data"
    },
    {
     "name": "stdout",
     "output_type": "stream",
     "text": [
      "\n",
      "п--о--л--нн-о-----   с--о-жж----а---лл-ее-н---и---й--, => полно сожалений,    , gt: полно сожалений,    \n",
      "А-----------л-----мм--------а------т-----------ыы----- => Алматы              , gt: Алматы              \n",
      "В---   г---у--сс--т----о---й--  -л---о----щщ-и---н--е- => В густой лощине     , gt: В густой лощине     \n",
      "т----------ее----п---------лл-------о--------и-------- => теплои              , gt: теплои              \n",
      "А---к----м-----о---лл---ии--нн----сс---кк-----а----я-- => Акмолинская         , gt: Акмолинская         \n",
      "Lr now: 0.0001\n"
     ]
    },
    {
     "data": {
      "application/vnd.jupyter.widget-view+json": {
       "model_id": "429ad04fe128451e863c8daa60be72e5",
       "version_major": 2,
       "version_minor": 0
      },
      "text/plain": [
       "HBox(children=(FloatProgress(value=0.0, layout=Layout(flex='2'), max=711.0), HTML(value='')), layout=Layout(di…"
      ]
     },
     "metadata": {},
     "output_type": "display_data"
    },
    {
     "name": "stdout",
     "output_type": "stream",
     "text": [
      "\n"
     ]
    },
    {
     "data": {
      "application/vnd.jupyter.widget-view+json": {
       "model_id": "b869a9fcb1054f94b3e6791141574653",
       "version_major": 2,
       "version_minor": 0
      },
      "text/plain": [
       "HBox(children=(FloatProgress(value=0.0, layout=Layout(flex='2'), max=146.0), HTML(value='')), layout=Layout(di…"
      ]
     },
     "metadata": {},
     "output_type": "display_data"
    },
    {
     "name": "stdout",
     "output_type": "stream",
     "text": [
      "\n",
      "П------а---в---ллл---о--ддд--а---р----с---к---а-----я- => Павлодарская        , gt: Павлодарская        \n",
      "И-----------------   -с--ее--р-----дд----ц----е-----,- => И сердце,           , gt: И сердце,           \n",
      "т-----------------------------ыы---------------------- => ты                  , gt: ты                  \n",
      "Ю-----ж-----н---а----я----  -О---с---е--т------и----я- => Южная Осетия        , gt: Южная Осетия        \n",
      "Р------------а--------йй----------о--------н---------- => Район               , gt: Район               \n",
      "Lr now: 0.0001\n"
     ]
    },
    {
     "data": {
      "application/vnd.jupyter.widget-view+json": {
       "model_id": "e35b9a055bd84e809f5f76ac9cda5ec1",
       "version_major": 2,
       "version_minor": 0
      },
      "text/plain": [
       "HBox(children=(FloatProgress(value=0.0, layout=Layout(flex='2'), max=711.0), HTML(value='')), layout=Layout(di…"
      ]
     },
     "metadata": {},
     "output_type": "display_data"
    },
    {
     "name": "stdout",
     "output_type": "stream",
     "text": [
      "\n"
     ]
    },
    {
     "data": {
      "application/vnd.jupyter.widget-view+json": {
       "model_id": "29c05272dc7047e386c806a58b58b7bb",
       "version_major": 2,
       "version_minor": 0
      },
      "text/plain": [
       "HBox(children=(FloatProgress(value=0.0, layout=Layout(flex='2'), max=146.0), HTML(value='')), layout=Layout(di…"
      ]
     },
     "metadata": {},
     "output_type": "display_data"
    },
    {
     "name": "stdout",
     "output_type": "stream",
     "text": [
      "\n",
      "И----  -т---ее-н---и-------  -ч---у--в--с--т-----в---, => И тени чувств,      , gt: И тени чувств,      \n",
      "К---------ы-----зз----ы-------лл-оорр------д----а----- => Кызылорда           , gt: Кызылорда           \n",
      "н--е--   з--а--бб-и---лл--ии---  гг--л--ии--н---о---й- => не забили глиной    , gt: не забыли глиной    \n",
      "З-аа-ппаа-д-нн-оо-----К---аазз-ахх-сст-а--н-сскк-аа-я- => Западно-Казахстанская, gt: Западно-Казахстанская\n",
      "с-вв--оо--й------   с--о--в--е--р----ш-----ии---т---,, => свой совершит,      , gt: свой совершит,      \n",
      "Lr now: 0.0001\n"
     ]
    },
    {
     "data": {
      "application/vnd.jupyter.widget-view+json": {
       "model_id": "bba2b848dacd494c935f94bd8a35812f",
       "version_major": 2,
       "version_minor": 0
      },
      "text/plain": [
       "HBox(children=(FloatProgress(value=0.0, layout=Layout(flex='2'), max=711.0), HTML(value='')), layout=Layout(di…"
      ]
     },
     "metadata": {},
     "output_type": "display_data"
    },
    {
     "name": "stdout",
     "output_type": "stream",
     "text": [
      "\n"
     ]
    },
    {
     "data": {
      "application/vnd.jupyter.widget-view+json": {
       "model_id": "2a4a09b7defa4eba82792e34222b66ab",
       "version_major": 2,
       "version_minor": 0
      },
      "text/plain": [
       "HBox(children=(FloatProgress(value=0.0, layout=Layout(flex='2'), max=146.0), HTML(value='')), layout=Layout(di…"
      ]
     },
     "metadata": {},
     "output_type": "display_data"
    },
    {
     "name": "stdout",
     "output_type": "stream",
     "text": [
      "\n",
      "Ж-------а-----м----бб---ыы-----лл----сс-кк---а-----я-- => Жамбылская          , gt: Жамбылская          \n",
      "к-   м----а--м---е-,,-  жж-----а-дд-н--о- -п--и---л-ии => к маме, жадно пили  , gt: к маме, жадно пили  \n",
      "П------рр---о---лл-ее--т-----ее-вв--шш-----ии----йй--- => Пролетевший         , gt: Пролетевший         \n",
      "б-----ыы---------лл-----о-------------------  --б----- => было б              , gt: было б              \n",
      "П--------а---в---лл---о--дд---а--рр----с--к---а----я-- => Павлодарская        , gt: Павлодарская        \n",
      "Lr now: 0.0001\n"
     ]
    },
    {
     "data": {
      "application/vnd.jupyter.widget-view+json": {
       "model_id": "07cbf67e1d794eb1a0d29b3d27993140",
       "version_major": 2,
       "version_minor": 0
      },
      "text/plain": [
       "HBox(children=(FloatProgress(value=0.0, layout=Layout(flex='2'), max=711.0), HTML(value='')), layout=Layout(di…"
      ]
     },
     "metadata": {},
     "output_type": "display_data"
    },
    {
     "name": "stdout",
     "output_type": "stream",
     "text": [
      "\n"
     ]
    },
    {
     "data": {
      "application/vnd.jupyter.widget-view+json": {
       "model_id": "15b1563e6717489193dda8773e9bc4c2",
       "version_major": 2,
       "version_minor": 0
      },
      "text/plain": [
       "HBox(children=(FloatProgress(value=0.0, layout=Layout(flex='2'), max=146.0), HTML(value='')), layout=Layout(di…"
      ]
     },
     "metadata": {},
     "output_type": "display_data"
    },
    {
     "name": "stdout",
     "output_type": "stream",
     "text": [
      "\n",
      "Н---а---   д---р--е--в---н--ее--й-----  с--т--е--н--е- => На древней стене    , gt: На древней стене    \n",
      "К------о----с----тт---------а------н-----а------й----- => Костанай            , gt: Костанай            \n",
      "д--евв--и-ччьь-и---мм----   к--уу--п--а-нн--ь--е--м--- => девичьим купаньем   , gt: девичьим купаньем   \n",
      "П--------а------в------лл-----о----д-----а------р----- => Павлодар            , gt: Павлодар            \n",
      "В----  -к----о--т----о--р--о----м--------   т-----ы--- => В котором ты        , gt: В котором ты        \n",
      "Lr now: 0.0001\n"
     ]
    },
    {
     "data": {
      "application/vnd.jupyter.widget-view+json": {
       "model_id": "21b9f9592f07435c9345e7c0614916bb",
       "version_major": 2,
       "version_minor": 0
      },
      "text/plain": [
       "HBox(children=(FloatProgress(value=0.0, layout=Layout(flex='2'), max=711.0), HTML(value='')), layout=Layout(di…"
      ]
     },
     "metadata": {},
     "output_type": "display_data"
    },
    {
     "name": "stdout",
     "output_type": "stream",
     "text": [
      "\n"
     ]
    },
    {
     "data": {
      "application/vnd.jupyter.widget-view+json": {
       "model_id": "32f4a7e886954630994e62423bf42700",
       "version_major": 2,
       "version_minor": 0
      },
      "text/plain": [
       "HBox(children=(FloatProgress(value=0.0, layout=Layout(flex='2'), max=146.0), HTML(value='')), layout=Layout(di…"
      ]
     },
     "metadata": {},
     "output_type": "display_data"
    },
    {
     "name": "stdout",
     "output_type": "stream",
     "text": [
      "\n",
      "ж-------рр----а------л---------   хх----л--ее---б----- => жрал хлеб           , gt: жрал хлеб           \n",
      "иххх--   н--а-сллееддсств-е-н-нн-ы--й----   -щщщии-тт- => их наследственный щит, gt: их наследственный щит\n",
      "Г-------ддд----е----------   -н-------о-----чч-----ь-- => Где ночь            , gt: Где ночь            \n",
      "х---------------лл------ее----------бб---------------. => хлеб.               , gt: хлеб.               \n",
      "г--лл--уу--б--о--кк---и---й------------  с----л--ее-д- => глубокий след       , gt: глубокий след       \n",
      "Lr now: 0.0001\n"
     ]
    },
    {
     "data": {
      "application/vnd.jupyter.widget-view+json": {
       "model_id": "8826f4c8c0964e719feda006aaaadbb6",
       "version_major": 2,
       "version_minor": 0
      },
      "text/plain": [
       "HBox(children=(FloatProgress(value=0.0, layout=Layout(flex='2'), max=711.0), HTML(value='')), layout=Layout(di…"
      ]
     },
     "metadata": {},
     "output_type": "display_data"
    },
    {
     "name": "stderr",
     "output_type": "stream",
     "text": [
      "IOPub message rate exceeded.\n",
      "The notebook server will temporarily stop sending output\n",
      "to the client in order to avoid crashing it.\n",
      "To change this limit, set the config variable\n",
      "`--NotebookApp.iopub_msg_rate_limit`.\n",
      "\n",
      "Current values:\n",
      "NotebookApp.iopub_msg_rate_limit=1000.0 (msgs/sec)\n",
      "NotebookApp.rate_limit_window=3.0 (secs)\n",
      "\n"
     ]
    },
    {
     "name": "stdout",
     "output_type": "stream",
     "text": [
      "\n",
      "Saving trainer to /home/storage/3020/KrivorotovI/db/HKR_experiments/CRNN_1_aug.\n",
      "Trainer is saved.\n",
      "Model improved on valid with loss: 0.10877272588111563\n",
      "Е-----------------с--------иии-------------к---------- => Есик                , gt: Есик                \n",
      "е----г----о--------  -п-----ии----т-----а-----е----т-- => его питает          , gt: его питает          \n",
      "И-----з--------------  -гг-----о----р-------л------а-- => Из горла            , gt: Из горла            \n",
      "Т-о-лльькк-о--  вв-ее-р--с-т--ыы-- п--о-ллм--а-тт--ыы- => Только версты полматы, gt: Только версты полосаты\n",
      "о----------п---------------ы--------------т----------- => опыт                , gt: опыт                \n",
      "Lr now: 0.0001\n"
     ]
    },
    {
     "data": {
      "application/vnd.jupyter.widget-view+json": {
       "model_id": "a241f37ad13f4f3e9f19428e89a25454",
       "version_major": 2,
       "version_minor": 0
      },
      "text/plain": [
       "HBox(children=(FloatProgress(value=0.0, layout=Layout(flex='2'), max=711.0), HTML(value='')), layout=Layout(di…"
      ]
     },
     "metadata": {},
     "output_type": "display_data"
    },
    {
     "name": "stdout",
     "output_type": "stream",
     "text": [
      "\n"
     ]
    },
    {
     "data": {
      "application/vnd.jupyter.widget-view+json": {
       "model_id": "497febbc51244c59b475635092fb5ef8",
       "version_major": 2,
       "version_minor": 0
      },
      "text/plain": [
       "HBox(children=(FloatProgress(value=0.0, layout=Layout(flex='2'), max=146.0), HTML(value='')), layout=Layout(di…"
      ]
     },
     "metadata": {},
     "output_type": "display_data"
    },
    {
     "name": "stderr",
     "output_type": "stream",
     "text": [
      "IOPub message rate exceeded.\n",
      "The notebook server will temporarily stop sending output\n",
      "to the client in order to avoid crashing it.\n",
      "To change this limit, set the config variable\n",
      "`--NotebookApp.iopub_msg_rate_limit`.\n",
      "\n",
      "Current values:\n",
      "NotebookApp.iopub_msg_rate_limit=1000.0 (msgs/sec)\n",
      "NotebookApp.rate_limit_window=3.0 (secs)\n",
      "\n"
     ]
    },
    {
     "name": "stdout",
     "output_type": "stream",
     "text": [
      "\n"
     ]
    },
    {
     "data": {
      "application/vnd.jupyter.widget-view+json": {
       "model_id": "8fc31207b40b4a1e9378b2e5048de51b",
       "version_major": 2,
       "version_minor": 0
      },
      "text/plain": [
       "HBox(children=(FloatProgress(value=0.0, layout=Layout(flex='2'), max=146.0), HTML(value='')), layout=Layout(di…"
      ]
     },
     "metadata": {},
     "output_type": "display_data"
    },
    {
     "name": "stdout",
     "output_type": "stream",
     "text": [
      "\n",
      "Я------   -л---юю---б---л--ююю-----  -т----ее-бб--яя-, => Я люблю тебя,       , gt: Я люблю тебя,       \n",
      "м----о--р----я---к--ии---   г---лл--яя-дд--яя--тт----. => моряки глядят.      , gt: моряки глядят.      \n",
      "Г--------у------лл-----ь-----шш--------а-----т-------- => Гульшат             , gt: Гульшат             \n",
      "г--------оо----------рр-------------о--------д-------- => город               , gt: город               \n",
      "ШШ------------ы------м---------кк-------е-----н-----тт => Шымкент             , gt: Шымкент             \n",
      "Lr now: 0.0001\n"
     ]
    },
    {
     "data": {
      "application/vnd.jupyter.widget-view+json": {
       "model_id": "77e8538787fb478aaf7d7ecacab06cb9",
       "version_major": 2,
       "version_minor": 0
      },
      "text/plain": [
       "HBox(children=(FloatProgress(value=0.0, layout=Layout(flex='2'), max=711.0), HTML(value='')), layout=Layout(di…"
      ]
     },
     "metadata": {},
     "output_type": "display_data"
    },
    {
     "name": "stderr",
     "output_type": "stream",
     "text": [
      "IOPub message rate exceeded.\n",
      "The notebook server will temporarily stop sending output\n",
      "to the client in order to avoid crashing it.\n",
      "To change this limit, set the config variable\n",
      "`--NotebookApp.iopub_msg_rate_limit`.\n",
      "\n",
      "Current values:\n",
      "NotebookApp.iopub_msg_rate_limit=1000.0 (msgs/sec)\n",
      "NotebookApp.rate_limit_window=3.0 (secs)\n",
      "\n"
     ]
    },
    {
     "name": "stdout",
     "output_type": "stream",
     "text": [
      "\n"
     ]
    },
    {
     "data": {
      "application/vnd.jupyter.widget-view+json": {
       "model_id": "7d360869083640cb81dacedd8727574b",
       "version_major": 2,
       "version_minor": 0
      },
      "text/plain": [
       "HBox(children=(FloatProgress(value=0.0, layout=Layout(flex='2'), max=146.0), HTML(value='')), layout=Layout(di…"
      ]
     },
     "metadata": {},
     "output_type": "display_data"
    },
    {
     "name": "stdout",
     "output_type": "stream",
     "text": [
      "\n",
      "н--а---м-------  -н--а--с--л--а--д---и---т---ь--сс-я-- => нам насладиться     , gt: нам насладиться     \n",
      "р------------а----------и-------------о-----н--------- => раион               , gt: раион               \n",
      "с------кк-------о---р-----оо------   -л-------и------, => скоро ли,           , gt: скоро ли,           \n",
      "Ю----ж----нн---а----я--------   -О--сее--т----ии---я-- => Южная Осетия        , gt: Южная Осетия        \n",
      "К---о-гг-дд---а----  тт--в---о--е---  л----ии---цц--о- => Когда твое лицо     , gt: Когда твое лицо     \n",
      "Lr now: 0.0001\n"
     ]
    },
    {
     "data": {
      "application/vnd.jupyter.widget-view+json": {
       "model_id": "715989d9745d4eb29eaacd7631b1fdd1",
       "version_major": 2,
       "version_minor": 0
      },
      "text/plain": [
       "HBox(children=(FloatProgress(value=0.0, layout=Layout(flex='2'), max=711.0), HTML(value='')), layout=Layout(di…"
      ]
     },
     "metadata": {},
     "output_type": "display_data"
    },
    {
     "name": "stderr",
     "output_type": "stream",
     "text": [
      "IOPub message rate exceeded.\n",
      "The notebook server will temporarily stop sending output\n",
      "to the client in order to avoid crashing it.\n",
      "To change this limit, set the config variable\n",
      "`--NotebookApp.iopub_msg_rate_limit`.\n",
      "\n",
      "Current values:\n",
      "NotebookApp.iopub_msg_rate_limit=1000.0 (msgs/sec)\n",
      "NotebookApp.rate_limit_window=3.0 (secs)\n",
      "\n"
     ]
    },
    {
     "name": "stdout",
     "output_type": "stream",
     "text": [
      "\n",
      "Я--------   з----вв-а----л-----   тт------е---бб--яя-, => Я звал тебя,        , gt: Я звал тебя,        \n",
      "ж------р----а-------л---------   хх------лл---е--бб--- => жрал хлеб           , gt: жрал хлеб           \n",
      "Н---е-- -ж----а----л--ее--й-----  -к----о---н-----я--, => Не жалей коня,      , gt: Не жалей коня,      \n",
      "А---------т---------б------а-------с-----а-------р---- => Атбасар             , gt: Атбасар             \n",
      "Н--о--  т------щщ-е-т---н---ы----  -м---е-ч-тт---ы---, => Но тщетны мечты,    , gt: Но тщетны мечты,    \n",
      "Lr now: 0.0001\n"
     ]
    },
    {
     "data": {
      "application/vnd.jupyter.widget-view+json": {
       "model_id": "3bae727b78a44bd08e61ffaea17c78c5",
       "version_major": 2,
       "version_minor": 0
      },
      "text/plain": [
       "HBox(children=(FloatProgress(value=0.0, layout=Layout(flex='2'), max=711.0), HTML(value='')), layout=Layout(di…"
      ]
     },
     "metadata": {},
     "output_type": "display_data"
    },
    {
     "name": "stderr",
     "output_type": "stream",
     "text": [
      "IOPub message rate exceeded.\n",
      "The notebook server will temporarily stop sending output\n",
      "to the client in order to avoid crashing it.\n",
      "To change this limit, set the config variable\n",
      "`--NotebookApp.iopub_msg_rate_limit`.\n",
      "\n",
      "Current values:\n",
      "NotebookApp.iopub_msg_rate_limit=1000.0 (msgs/sec)\n",
      "NotebookApp.rate_limit_window=3.0 (secs)\n",
      "\n"
     ]
    },
    {
     "name": "stdout",
     "output_type": "stream",
     "text": [
      "\n"
     ]
    },
    {
     "data": {
      "application/vnd.jupyter.widget-view+json": {
       "model_id": "ebed42d3b98a487c9480c63ebb8999d4",
       "version_major": 2,
       "version_minor": 0
      },
      "text/plain": [
       "HBox(children=(FloatProgress(value=0.0, layout=Layout(flex='2'), max=146.0), HTML(value='')), layout=Layout(di…"
      ]
     },
     "metadata": {},
     "output_type": "display_data"
    },
    {
     "name": "stdout",
     "output_type": "stream",
     "text": [
      "\n",
      "с--------п-----------------лл------ююю--------------,, => сплю,               , gt: сплю,               \n",
      "Т----УУ-----Р------К------Е----С----Т------А-----Н---- => ТУРКЕСТАН           , gt: ТУРКЕСТАН           \n",
      "А----кк---мм-----о----лл---ии----н----с-кк--аа-----я-- => Акмолинская         , gt: Акмолинская         \n",
      "л--о-жж---и--т--ссся---   н--а---   п--о--л--а-т----и- => ложится на полати   , gt: ложится на полати   \n",
      "Т----о-  -с-еер--д-е-ч-н---а--я----  т----о--к--а--.-… => То сердечная тока.… , gt: То сердечная тоска..\n",
      "Lr now: 0.0001\n"
     ]
    },
    {
     "data": {
      "application/vnd.jupyter.widget-view+json": {
       "model_id": "d0475f47345449189135982aae5d5985",
       "version_major": 2,
       "version_minor": 0
      },
      "text/plain": [
       "HBox(children=(FloatProgress(value=0.0, layout=Layout(flex='2'), max=711.0), HTML(value='')), layout=Layout(di…"
      ]
     },
     "metadata": {},
     "output_type": "display_data"
    },
    {
     "name": "stderr",
     "output_type": "stream",
     "text": [
      "IOPub message rate exceeded.\n",
      "The notebook server will temporarily stop sending output\n",
      "to the client in order to avoid crashing it.\n",
      "To change this limit, set the config variable\n",
      "`--NotebookApp.iopub_msg_rate_limit`.\n",
      "\n",
      "Current values:\n",
      "NotebookApp.iopub_msg_rate_limit=1000.0 (msgs/sec)\n",
      "NotebookApp.rate_limit_window=3.0 (secs)\n",
      "\n"
     ]
    },
    {
     "name": "stdout",
     "output_type": "stream",
     "text": [
      "\n"
     ]
    },
    {
     "data": {
      "application/vnd.jupyter.widget-view+json": {
       "model_id": "769657e3f1b246efab5b068f2043ea49",
       "version_major": 2,
       "version_minor": 0
      },
      "text/plain": [
       "HBox(children=(FloatProgress(value=0.0, layout=Layout(flex='2'), max=146.0), HTML(value='')), layout=Layout(di…"
      ]
     },
     "metadata": {},
     "output_type": "display_data"
    },
    {
     "name": "stdout",
     "output_type": "stream",
     "text": [
      "\n",
      "З-а--п-аа--д-нн-о-----К--аазз-а-ххсстт--а-нн-сккаа--яя => Западно-Казахстанская, gt: Западно-Казахстанская\n",
      "в---о--о---к--а---  -н---а----   -а---н---и---сс-е---, => воока на анисе,     , gt: водка на анисе,     \n",
      "П------е---т---рр---о--пп--а---в---лл--оо-вв--сс-ккк-- => Петропавловск       , gt: Петропавловск       \n",
      "в------лл----------юю------б------л-----ё------н------ => влюблён             , gt: влюблён             \n",
      "м----н--е--  -с--н--и---т---сс-я---  п---лл--а-----щщщ => мне снится плащ     , gt: мне снится плащ     \n",
      "Lr now: 0.0001\n"
     ]
    },
    {
     "data": {
      "application/vnd.jupyter.widget-view+json": {
       "model_id": "9008edc461d94a93aec0707f5e23c52e",
       "version_major": 2,
       "version_minor": 0
      },
      "text/plain": [
       "HBox(children=(FloatProgress(value=0.0, layout=Layout(flex='2'), max=711.0), HTML(value='')), layout=Layout(di…"
      ]
     },
     "metadata": {},
     "output_type": "display_data"
    },
    {
     "name": "stderr",
     "output_type": "stream",
     "text": [
      "IOPub message rate exceeded.\n",
      "The notebook server will temporarily stop sending output\n",
      "to the client in order to avoid crashing it.\n",
      "To change this limit, set the config variable\n",
      "`--NotebookApp.iopub_msg_rate_limit`.\n",
      "\n",
      "Current values:\n",
      "NotebookApp.iopub_msg_rate_limit=1000.0 (msgs/sec)\n",
      "NotebookApp.rate_limit_window=3.0 (secs)\n",
      "\n"
     ]
    },
    {
     "name": "stdout",
     "output_type": "stream",
     "text": [
      "\n"
     ]
    },
    {
     "data": {
      "application/vnd.jupyter.widget-view+json": {
       "model_id": "31a026e1e6864637a54d6e4650656fba",
       "version_major": 2,
       "version_minor": 0
      },
      "text/plain": [
       "HBox(children=(FloatProgress(value=0.0, layout=Layout(flex='2'), max=146.0), HTML(value='')), layout=Layout(di…"
      ]
     },
     "metadata": {},
     "output_type": "display_data"
    },
    {
     "name": "stderr",
     "output_type": "stream",
     "text": [
      "IOPub message rate exceeded.\n",
      "The notebook server will temporarily stop sending output\n",
      "to the client in order to avoid crashing it.\n",
      "To change this limit, set the config variable\n",
      "`--NotebookApp.iopub_msg_rate_limit`.\n",
      "\n",
      "Current values:\n",
      "NotebookApp.iopub_msg_rate_limit=1000.0 (msgs/sec)\n",
      "NotebookApp.rate_limit_window=3.0 (secs)\n",
      "\n"
     ]
    },
    {
     "name": "stdout",
     "output_type": "stream",
     "text": [
      "\n"
     ]
    },
    {
     "data": {
      "application/vnd.jupyter.widget-view+json": {
       "model_id": "909da0d083ad441eb304b82840083c8d",
       "version_major": 2,
       "version_minor": 0
      },
      "text/plain": [
       "HBox(children=(FloatProgress(value=0.0, layout=Layout(flex='2'), max=146.0), HTML(value='')), layout=Layout(di…"
      ]
     },
     "metadata": {},
     "output_type": "display_data"
    },
    {
     "name": "stdout",
     "output_type": "stream",
     "text": [
      "\n",
      "И------   ч--е--лл-оо--в-е-к------  -п--о--шш---е---л- => И человек пошел     , gt: И человек пошел     \n",
      "М---------------а-------к-------ии----н-----сс---кк--- => Макинск             , gt: Макинск             \n",
      "Д---р---е--м---лл--я----  с--т---о---л--к---н---у---л- => Дремля столкнул     , gt: Дремля смолкнул     \n",
      "Ж-----------е---с---т---------о----к------о-----йй---- => Жестокой            , gt: Жестокой            \n",
      "А---------------к---------с--------а---------йй------- => Аксай               , gt: Аксай               \n",
      "Lr now: 1e-05\n"
     ]
    },
    {
     "data": {
      "application/vnd.jupyter.widget-view+json": {
       "model_id": "017fa3f8fcbe41dfba522254629dad58",
       "version_major": 2,
       "version_minor": 0
      },
      "text/plain": [
       "HBox(children=(FloatProgress(value=0.0, layout=Layout(flex='2'), max=711.0), HTML(value='')), layout=Layout(di…"
      ]
     },
     "metadata": {},
     "output_type": "display_data"
    },
    {
     "name": "stderr",
     "output_type": "stream",
     "text": [
      "IOPub message rate exceeded.\n",
      "The notebook server will temporarily stop sending output\n",
      "to the client in order to avoid crashing it.\n",
      "To change this limit, set the config variable\n",
      "`--NotebookApp.iopub_msg_rate_limit`.\n",
      "\n",
      "Current values:\n",
      "NotebookApp.iopub_msg_rate_limit=1000.0 (msgs/sec)\n",
      "NotebookApp.rate_limit_window=3.0 (secs)\n",
      "\n"
     ]
    },
    {
     "name": "stdout",
     "output_type": "stream",
     "text": [
      "\n"
     ]
    },
    {
     "data": {
      "application/vnd.jupyter.widget-view+json": {
       "model_id": "b621a5b6d8004bf6ba46b7f6ab592db7",
       "version_major": 2,
       "version_minor": 0
      },
      "text/plain": [
       "HBox(children=(FloatProgress(value=0.0, layout=Layout(flex='2'), max=146.0), HTML(value='')), layout=Layout(di…"
      ]
     },
     "metadata": {},
     "output_type": "display_data"
    },
    {
     "name": "stderr",
     "output_type": "stream",
     "text": [
      "IOPub message rate exceeded.\n",
      "The notebook server will temporarily stop sending output\n",
      "to the client in order to avoid crashing it.\n",
      "To change this limit, set the config variable\n",
      "`--NotebookApp.iopub_msg_rate_limit`.\n",
      "\n",
      "Current values:\n",
      "NotebookApp.iopub_msg_rate_limit=1000.0 (msgs/sec)\n",
      "NotebookApp.rate_limit_window=3.0 (secs)\n",
      "\n"
     ]
    },
    {
     "name": "stdout",
     "output_type": "stream",
     "text": [
      "\n"
     ]
    },
    {
     "data": {
      "application/vnd.jupyter.widget-view+json": {
       "model_id": "a956aa85992d44978d1d421f14555a65",
       "version_major": 2,
       "version_minor": 0
      },
      "text/plain": [
       "HBox(children=(FloatProgress(value=0.0, layout=Layout(flex='2'), max=146.0), HTML(value='')), layout=Layout(di…"
      ]
     },
     "metadata": {},
     "output_type": "display_data"
    },
    {
     "name": "stdout",
     "output_type": "stream",
     "text": [
      "\n",
      "Д-----------е------р---------н----------у--------л---- => Дернул              , gt: Деркул              \n",
      "Д-----а---л---ии---------  -с---м---е---л--о---м---уу- => Дали смелому        , gt: Дали смелому        \n",
      "в----о----зз----в----р-----а-----т-------яя---с---ь--, => возвратясь,         , gt: возвратясь,         \n",
      "С-  -г-лл--о--т----к-а---мм---ии----  -в--   н--ии-ххх => С глотками в них    , gt: С глотками в них    \n",
      "к------------р-----------о---------в--------ь--------. => кровь.              , gt: кровь.              \n",
      "Lr now: 1e-05\n"
     ]
    },
    {
     "data": {
      "application/vnd.jupyter.widget-view+json": {
       "model_id": "41c01a91d2814ef3a6ac37cc1571ce08",
       "version_major": 2,
       "version_minor": 0
      },
      "text/plain": [
       "HBox(children=(FloatProgress(value=0.0, layout=Layout(flex='2'), max=711.0), HTML(value='')), layout=Layout(di…"
      ]
     },
     "metadata": {},
     "output_type": "display_data"
    },
    {
     "name": "stderr",
     "output_type": "stream",
     "text": [
      "IOPub message rate exceeded.\n",
      "The notebook server will temporarily stop sending output\n",
      "to the client in order to avoid crashing it.\n",
      "To change this limit, set the config variable\n",
      "`--NotebookApp.iopub_msg_rate_limit`.\n",
      "\n",
      "Current values:\n",
      "NotebookApp.iopub_msg_rate_limit=1000.0 (msgs/sec)\n",
      "NotebookApp.rate_limit_window=3.0 (secs)\n",
      "\n"
     ]
    },
    {
     "name": "stdout",
     "output_type": "stream",
     "text": [
      "\n"
     ]
    },
    {
     "data": {
      "application/vnd.jupyter.widget-view+json": {
       "model_id": "fe570e6cb66b48b38a36047f479b2340",
       "version_major": 2,
       "version_minor": 0
      },
      "text/plain": [
       "HBox(children=(FloatProgress(value=0.0, layout=Layout(flex='2'), max=146.0), HTML(value='')), layout=Layout(di…"
      ]
     },
     "metadata": {},
     "output_type": "display_data"
    },
    {
     "name": "stderr",
     "output_type": "stream",
     "text": [
      "IOPub message rate exceeded.\n",
      "The notebook server will temporarily stop sending output\n",
      "to the client in order to avoid crashing it.\n",
      "To change this limit, set the config variable\n",
      "`--NotebookApp.iopub_msg_rate_limit`.\n",
      "\n",
      "Current values:\n",
      "NotebookApp.iopub_msg_rate_limit=1000.0 (msgs/sec)\n",
      "NotebookApp.rate_limit_window=3.0 (secs)\n",
      "\n"
     ]
    },
    {
     "name": "stdout",
     "output_type": "stream",
     "text": [
      "\n"
     ]
    },
    {
     "data": {
      "application/vnd.jupyter.widget-view+json": {
       "model_id": "d762a71796e3431cbc8ad9657de71706",
       "version_major": 2,
       "version_minor": 0
      },
      "text/plain": [
       "HBox(children=(FloatProgress(value=0.0, layout=Layout(flex='2'), max=146.0), HTML(value='')), layout=Layout(di…"
      ]
     },
     "metadata": {},
     "output_type": "display_data"
    },
    {
     "name": "stdout",
     "output_type": "stream",
     "text": [
      "\n",
      "ч--------а---------с-----о------в-----аа----------яя-- => часовая             , gt: часовая             \n",
      "Л----ь--ее-тт---------  -п---е--чч--а-----л--ьь-н---о- => Льет печально       , gt: Льет печально       \n",
      "К----о--г-д---а-----  т----вв-оо-ее--  -л---ии--цц-оо- => Когда твое лицо     , gt: Когда твое лицо     \n",
      "А--------------к--------------сс----------у----------- => Аксу                , gt: Аксу                \n",
      "А----кк----мм------о-----л--иии-ннн----с-кк---а-----яя => Акмолинская         , gt: Акмолинская         \n",
      "Lr now: 1e-05\n"
     ]
    },
    {
     "data": {
      "application/vnd.jupyter.widget-view+json": {
       "model_id": "cdd5d7876687426397befd437c2ce265",
       "version_major": 2,
       "version_minor": 0
      },
      "text/plain": [
       "HBox(children=(FloatProgress(value=0.0, layout=Layout(flex='2'), max=711.0), HTML(value='')), layout=Layout(di…"
      ]
     },
     "metadata": {},
     "output_type": "display_data"
    },
    {
     "name": "stderr",
     "output_type": "stream",
     "text": [
      "IOPub message rate exceeded.\n",
      "The notebook server will temporarily stop sending output\n",
      "to the client in order to avoid crashing it.\n",
      "To change this limit, set the config variable\n",
      "`--NotebookApp.iopub_msg_rate_limit`.\n",
      "\n",
      "Current values:\n",
      "NotebookApp.iopub_msg_rate_limit=1000.0 (msgs/sec)\n",
      "NotebookApp.rate_limit_window=3.0 (secs)\n",
      "\n"
     ]
    },
    {
     "name": "stdout",
     "output_type": "stream",
     "text": [
      "\n"
     ]
    },
    {
     "data": {
      "application/vnd.jupyter.widget-view+json": {
       "model_id": "2ba149224d80495998198e7d4d0c0e1e",
       "version_major": 2,
       "version_minor": 0
      },
      "text/plain": [
       "HBox(children=(FloatProgress(value=0.0, layout=Layout(flex='2'), max=146.0), HTML(value='')), layout=Layout(di…"
      ]
     },
     "metadata": {},
     "output_type": "display_data"
    },
    {
     "name": "stderr",
     "output_type": "stream",
     "text": [
      "IOPub message rate exceeded.\n",
      "The notebook server will temporarily stop sending output\n",
      "to the client in order to avoid crashing it.\n",
      "To change this limit, set the config variable\n",
      "`--NotebookApp.iopub_msg_rate_limit`.\n",
      "\n",
      "Current values:\n",
      "NotebookApp.iopub_msg_rate_limit=1000.0 (msgs/sec)\n",
      "NotebookApp.rate_limit_window=3.0 (secs)\n",
      "\n"
     ]
    },
    {
     "name": "stdout",
     "output_type": "stream",
     "text": [
      "\n"
     ]
    },
    {
     "data": {
      "application/vnd.jupyter.widget-view+json": {
       "model_id": "702f47131ce1413d9aaecce75ed485a9",
       "version_major": 2,
       "version_minor": 0
      },
      "text/plain": [
       "HBox(children=(FloatProgress(value=0.0, layout=Layout(flex='2'), max=146.0), HTML(value='')), layout=Layout(di…"
      ]
     },
     "metadata": {},
     "output_type": "display_data"
    },
    {
     "name": "stdout",
     "output_type": "stream",
     "text": [
      "\n",
      "К-----а----з----а-------х-----сс--тт------а-----н----- => Казахстан           , gt: Казахстан           \n",
      "М-------------о-----лл---дд-----а-----в----ии------яя- => Молдавия            , gt: Молдавия            \n",
      "Ж-------------и------т-------и----к-----а----р-----а-- => Житикара            , gt: Житикара            \n",
      "Л---у---ггаа---мм------и-----  к---а---т--я---т--с-яя- => Лугами катятся      , gt: Лугами катятся      \n",
      "Т----------е------к---------ее---------л-------ии----- => Текели              , gt: Текели              \n",
      "Lr now: 1e-05\n"
     ]
    },
    {
     "data": {
      "application/vnd.jupyter.widget-view+json": {
       "model_id": "9fd66dbcd0fc442887daf00f92a3b6c1",
       "version_major": 2,
       "version_minor": 0
      },
      "text/plain": [
       "HBox(children=(FloatProgress(value=0.0, layout=Layout(flex='2'), max=711.0), HTML(value='')), layout=Layout(di…"
      ]
     },
     "metadata": {},
     "output_type": "display_data"
    },
    {
     "name": "stderr",
     "output_type": "stream",
     "text": [
      "IOPub message rate exceeded.\n",
      "The notebook server will temporarily stop sending output\n",
      "to the client in order to avoid crashing it.\n",
      "To change this limit, set the config variable\n",
      "`--NotebookApp.iopub_msg_rate_limit`.\n",
      "\n",
      "Current values:\n",
      "NotebookApp.iopub_msg_rate_limit=1000.0 (msgs/sec)\n",
      "NotebookApp.rate_limit_window=3.0 (secs)\n",
      "\n"
     ]
    },
    {
     "name": "stdout",
     "output_type": "stream",
     "text": [
      "\n"
     ]
    },
    {
     "data": {
      "application/vnd.jupyter.widget-view+json": {
       "model_id": "b9b9ff4d53fd43268fa02df6df692fde",
       "version_major": 2,
       "version_minor": 0
      },
      "text/plain": [
       "HBox(children=(FloatProgress(value=0.0, layout=Layout(flex='2'), max=146.0), HTML(value='')), layout=Layout(di…"
      ]
     },
     "metadata": {},
     "output_type": "display_data"
    },
    {
     "name": "stderr",
     "output_type": "stream",
     "text": [
      "IOPub message rate exceeded.\n",
      "The notebook server will temporarily stop sending output\n",
      "to the client in order to avoid crashing it.\n",
      "To change this limit, set the config variable\n",
      "`--NotebookApp.iopub_msg_rate_limit`.\n",
      "\n",
      "Current values:\n",
      "NotebookApp.iopub_msg_rate_limit=1000.0 (msgs/sec)\n",
      "NotebookApp.rate_limit_window=3.0 (secs)\n",
      "\n"
     ]
    },
    {
     "name": "stdout",
     "output_type": "stream",
     "text": [
      "\n"
     ]
    },
    {
     "data": {
      "application/vnd.jupyter.widget-view+json": {
       "model_id": "0c72b091fbf34dcbbc1e5d2969b04b55",
       "version_major": 2,
       "version_minor": 0
      },
      "text/plain": [
       "HBox(children=(FloatProgress(value=0.0, layout=Layout(flex='2'), max=146.0), HTML(value='')), layout=Layout(di…"
      ]
     },
     "metadata": {},
     "output_type": "display_data"
    },
    {
     "name": "stdout",
     "output_type": "stream",
     "text": [
      "\n",
      "г--лл---у---б---о---кк--ии----й-------   с---л--е--дд- => глубокий след       , gt: глубокий след       \n",
      "с-  -р----о--з--о--вв--о----й--   з---а---р---е----й-- => с розовой зарей     , gt: с розовой зарей     \n",
      "З-аа-п-а-дд-н--о----  -К--а--з--а-ххсст--а-ннсссккааяя => Западно Казахстанская, gt: Западно Казахстанская\n",
      "О-----п----я---тт-ьь------  -о-----дд----н-----а-----, => Опять одна,         , gt: Опять одна,         \n",
      "Ж-------а-----мм----бб--ыы-----лл-ьь-сс-к---а-----я--- => Жамбыльская         , gt: Жамбыльская         \n",
      "Lr now: 1e-05\n"
     ]
    },
    {
     "data": {
      "application/vnd.jupyter.widget-view+json": {
       "model_id": "d0c00c11d2c04124b404d7f898202ac7",
       "version_major": 2,
       "version_minor": 0
      },
      "text/plain": [
       "HBox(children=(FloatProgress(value=0.0, layout=Layout(flex='2'), max=711.0), HTML(value='')), layout=Layout(di…"
      ]
     },
     "metadata": {},
     "output_type": "display_data"
    },
    {
     "name": "stderr",
     "output_type": "stream",
     "text": [
      "IOPub message rate exceeded.\n",
      "The notebook server will temporarily stop sending output\n",
      "to the client in order to avoid crashing it.\n",
      "To change this limit, set the config variable\n",
      "`--NotebookApp.iopub_msg_rate_limit`.\n",
      "\n",
      "Current values:\n",
      "NotebookApp.iopub_msg_rate_limit=1000.0 (msgs/sec)\n",
      "NotebookApp.rate_limit_window=3.0 (secs)\n",
      "\n"
     ]
    },
    {
     "name": "stdout",
     "output_type": "stream",
     "text": [
      "\n"
     ]
    },
    {
     "data": {
      "application/vnd.jupyter.widget-view+json": {
       "model_id": "783bd970994448c987ee26eb5210cbec",
       "version_major": 2,
       "version_minor": 0
      },
      "text/plain": [
       "HBox(children=(FloatProgress(value=0.0, layout=Layout(flex='2'), max=146.0), HTML(value='')), layout=Layout(di…"
      ]
     },
     "metadata": {},
     "output_type": "display_data"
    },
    {
     "name": "stdout",
     "output_type": "stream",
     "text": [
      "\n",
      "н------е----б----ее----сс---а-----м----------ии------, => небесами,           , gt: небесами,           \n",
      "Л--уу--с-аа--м-----ии------  -к---а---т--я---т--сс-яя- => Лусами катятся      , gt: Лугами катятся      \n",
      "П----------а-----в------лл-----оо----дд----а----рр---- => Павлодар            , gt: Павлодар            \n",
      "Ш----------ыы-------м-------кк---ее---нн------т------- => Шымкент             , gt: Шымкент             \n",
      "У--сстт-ьь-------К---а---мм----е--н-ооо-ггооорр--сскк- => Усть-Каменогорск    , gt: Усть-Каменогорск    \n",
      "Lr now: 1e-05\n"
     ]
    },
    {
     "data": {
      "application/vnd.jupyter.widget-view+json": {
       "model_id": "2abb9a5d62d6470ca5e112396939acf4",
       "version_major": 2,
       "version_minor": 0
      },
      "text/plain": [
       "HBox(children=(FloatProgress(value=0.0, layout=Layout(flex='2'), max=711.0), HTML(value='')), layout=Layout(di…"
      ]
     },
     "metadata": {},
     "output_type": "display_data"
    },
    {
     "name": "stdout",
     "output_type": "stream",
     "text": [
      "\n"
     ]
    },
    {
     "data": {
      "application/vnd.jupyter.widget-view+json": {
       "model_id": "a005e3b79ce549b99e1a35794d9f0e52",
       "version_major": 2,
       "version_minor": 0
      },
      "text/plain": [
       "HBox(children=(FloatProgress(value=0.0, layout=Layout(flex='2'), max=146.0), HTML(value='')), layout=Layout(di…"
      ]
     },
     "metadata": {},
     "output_type": "display_data"
    },
    {
     "name": "stdout",
     "output_type": "stream",
     "text": [
      "\n",
      "Я-----------------    -о----д------н---------а-------- => Я одна              , gt: Я одна              \n",
      "М--ее-ж----   м----н-о-йй-  и---  хх--о-ллмм-а--мм--ии => Меж мной и холмами  , gt: Меж мной и холмами  \n",
      "д----------ввв------оо-------р-----------а----------,, => двора,              , gt: двора,              \n",
      "К---------о---сс--т--------а-----н-------а-------й---- => Костанай            , gt: Костанай            \n",
      "Н--------а------м-------------   -ээ----тт---------о-- => Нам это             , gt: Нам это             \n",
      "Lr now: 1e-05\n"
     ]
    },
    {
     "data": {
      "application/vnd.jupyter.widget-view+json": {
       "model_id": "c56f305e3f3648c18a73ba8e413e37a2",
       "version_major": 2,
       "version_minor": 0
      },
      "text/plain": [
       "HBox(children=(FloatProgress(value=0.0, layout=Layout(flex='2'), max=711.0), HTML(value='')), layout=Layout(di…"
      ]
     },
     "metadata": {},
     "output_type": "display_data"
    },
    {
     "name": "stdout",
     "output_type": "stream",
     "text": [
      "\n"
     ]
    },
    {
     "data": {
      "application/vnd.jupyter.widget-view+json": {
       "model_id": "8c8039bc317e4a6d93378f29cae7b3fa",
       "version_major": 2,
       "version_minor": 0
      },
      "text/plain": [
       "HBox(children=(FloatProgress(value=0.0, layout=Layout(flex='2'), max=146.0), HTML(value='')), layout=Layout(di…"
      ]
     },
     "metadata": {},
     "output_type": "display_data"
    },
    {
     "name": "stdout",
     "output_type": "stream",
     "text": [
      "\n",
      "С--------а-------р---------аа-------н-------------ь--- => Сарань              , gt: Сарань              \n",
      "лл---ее-гг-кк--ии--ее----   -лл---е--т-----яя--тт----. => легкие летят.       , gt: легкие летят.       \n",
      "H-----оо--в---о--дд---о----л--и--нн---сс-кк--иии---йй- => Hоводолинский       , gt: Hоводолинский       \n",
      "О----т----е--г-е--н--------  -б--аа--тт---ы-----р--аа- => Отеген батыра       , gt: Отеген батыра       \n",
      "сее-яя--лл-  -р--о--ж----ь-,, -п--о--к--р--ы---в-а--л- => сеял рожь, покрывал , gt: сеял рожь, покрывал \n",
      "Lr now: 1e-05\n"
     ]
    },
    {
     "data": {
      "application/vnd.jupyter.widget-view+json": {
       "model_id": "6d5420190bd1429a84d2a8b8ffb434b0",
       "version_major": 2,
       "version_minor": 0
      },
      "text/plain": [
       "HBox(children=(FloatProgress(value=0.0, layout=Layout(flex='2'), max=711.0), HTML(value='')), layout=Layout(di…"
      ]
     },
     "metadata": {},
     "output_type": "display_data"
    },
    {
     "name": "stdout",
     "output_type": "stream",
     "text": [
      "\n"
     ]
    },
    {
     "data": {
      "application/vnd.jupyter.widget-view+json": {
       "model_id": "426a0fa38b654f00a79f0e6b799a217f",
       "version_major": 2,
       "version_minor": 0
      },
      "text/plain": [
       "HBox(children=(FloatProgress(value=0.0, layout=Layout(flex='2'), max=146.0), HTML(value='')), layout=Layout(di…"
      ]
     },
     "metadata": {},
     "output_type": "display_data"
    },
    {
     "name": "stdout",
     "output_type": "stream",
     "text": [
      "\n",
      "А------к----т-----ююю--бб---ии----н---с---к---а----я-- => Актюбинская         , gt: Актюбинская         \n",
      "О-----т-------- --КК-------аа---с--п----ии---я---   и- => От Каспия и         , gt: От Каспия и         \n",
      "У-------кк------р------а-----и--------нн--------аа---- => Украина             , gt: Украина             \n",
      "У---зз--б----ее---к----ии-----с--ттт-------аа-----н--- => Узбекистан          , gt: Узбекистан          \n",
      "л-------у---н-----н----ы----й------  -лл------и---к--. => лунный лик.         , gt: лунный лик          \n",
      "Lr now: 1e-05\n"
     ]
    },
    {
     "data": {
      "application/vnd.jupyter.widget-view+json": {
       "model_id": "e2261e847a3945f0969b9f48983938c7",
       "version_major": 2,
       "version_minor": 0
      },
      "text/plain": [
       "HBox(children=(FloatProgress(value=0.0, layout=Layout(flex='2'), max=711.0), HTML(value='')), layout=Layout(di…"
      ]
     },
     "metadata": {},
     "output_type": "display_data"
    },
    {
     "name": "stdout",
     "output_type": "stream",
     "text": [
      "\n"
     ]
    },
    {
     "data": {
      "application/vnd.jupyter.widget-view+json": {
       "model_id": "ebc046b011c74974838751648bc4721d",
       "version_major": 2,
       "version_minor": 0
      },
      "text/plain": [
       "HBox(children=(FloatProgress(value=0.0, layout=Layout(flex='2'), max=146.0), HTML(value='')), layout=Layout(di…"
      ]
     },
     "metadata": {},
     "output_type": "display_data"
    },
    {
     "name": "stdout",
     "output_type": "stream",
     "text": [
      "\n",
      "О---н---ии--,,,--  тт-----о---лл--к----а----я-----с-ьь => Они, толкаясь       , gt: Они, толкаясь       \n",
      "Б--------а-------л------х------а--------ш------------- => Балхаш              , gt: Балхаш              \n",
      "н-е--п-оодд-а--т-----л--ии-вв--у-юю--   м----а--тт--ьь => неподатливую мать   , gt: неподатливую мать   \n",
      "Л---ее--т----я----т----  --ш--------м-----е---л----ии- => Летят шмели         , gt: Летят шмели         \n",
      "ллл---о-ж---и--т-сс-я---   н---аа---  -п--олла--т--ии- => ложится на полати   , gt: ложится на полати   \n",
      "Lr now: 1e-05\n"
     ]
    },
    {
     "data": {
      "application/vnd.jupyter.widget-view+json": {
       "model_id": "29877d0ad9624cc0a140421f1e578a64",
       "version_major": 2,
       "version_minor": 0
      },
      "text/plain": [
       "HBox(children=(FloatProgress(value=0.0, layout=Layout(flex='2'), max=711.0), HTML(value='')), layout=Layout(di…"
      ]
     },
     "metadata": {},
     "output_type": "display_data"
    },
    {
     "name": "stdout",
     "output_type": "stream",
     "text": [
      "\n"
     ]
    },
    {
     "data": {
      "application/vnd.jupyter.widget-view+json": {
       "model_id": "4a920b5e78b44eab80bcd66f1ff4da5c",
       "version_major": 2,
       "version_minor": 0
      },
      "text/plain": [
       "HBox(children=(FloatProgress(value=0.0, layout=Layout(flex='2'), max=146.0), HTML(value='')), layout=Layout(di…"
      ]
     },
     "metadata": {},
     "output_type": "display_data"
    },
    {
     "name": "stdout",
     "output_type": "stream",
     "text": [
      "\n",
      "П--рр-е--к--рр---а--сс-н---о---   в-----    н---аа--сс => Прекрасно в нас     , gt: Прекрасно в нас     \n",
      "А-----------л-------м----------а------т---------ы----- => Алматы              , gt: Алматы              \n",
      "К---рр--и-ччч--и--тт----   н---а---ш---   д---у---х--, => Кричит наш дух,     , gt: Кричит наш дух,     \n",
      "У------з----бб---е----к----и-----с--тт------а----н---- => Узбекистан          , gt: Узбекистан          \n",
      "н--------о------чч----------л------е----ггг---аа------ => ночлега             , gt: ночлега             \n",
      "Lr now: 1e-05\n"
     ]
    },
    {
     "data": {
      "application/vnd.jupyter.widget-view+json": {
       "model_id": "86504bdbd40b4e8cad590cc55343fd73",
       "version_major": 2,
       "version_minor": 0
      },
      "text/plain": [
       "HBox(children=(FloatProgress(value=0.0, layout=Layout(flex='2'), max=711.0), HTML(value='')), layout=Layout(di…"
      ]
     },
     "metadata": {},
     "output_type": "display_data"
    },
    {
     "name": "stdout",
     "output_type": "stream",
     "text": [
      "\n"
     ]
    },
    {
     "data": {
      "application/vnd.jupyter.widget-view+json": {
       "model_id": "2612685851954fadb79c152c7a4d5e6a",
       "version_major": 2,
       "version_minor": 0
      },
      "text/plain": [
       "HBox(children=(FloatProgress(value=0.0, layout=Layout(flex='2'), max=146.0), HTML(value='')), layout=Layout(di…"
      ]
     },
     "metadata": {},
     "output_type": "display_data"
    },
    {
     "name": "stdout",
     "output_type": "stream",
     "text": [
      "\n",
      "И------  б--уу--д--у--т---   -м-------с---т---и--тт-ьь => И будут мстить      , gt: И будут мстить      \n",
      "А----к----т-----юю-----б---ии----нн---сс--к----а----я- => Актюбинская         , gt: Актюбинская         \n",
      "Е------------с-------ии----------------л--------ь----- => Есиль               , gt: Есиль               \n",
      "Г-ллл--у---ш----ь----   и------   с--нн--е---г-------… => Глушь и снег…       , gt: Глушь и снег…       \n",
      "А--------т------б----а-------с-------а-------р-------- => Атбасар             , gt: Атбасар             \n",
      "Lr now: 1e-05\n"
     ]
    },
    {
     "data": {
      "application/vnd.jupyter.widget-view+json": {
       "model_id": "cefc91dfaeb945bfa39986fb6d920f9a",
       "version_major": 2,
       "version_minor": 0
      },
      "text/plain": [
       "HBox(children=(FloatProgress(value=0.0, layout=Layout(flex='2'), max=711.0), HTML(value='')), layout=Layout(di…"
      ]
     },
     "metadata": {},
     "output_type": "display_data"
    },
    {
     "name": "stdout",
     "output_type": "stream",
     "text": [
      "\n"
     ]
    },
    {
     "data": {
      "application/vnd.jupyter.widget-view+json": {
       "model_id": "85ae0c2412754672a53e36e7f71b9366",
       "version_major": 2,
       "version_minor": 0
      },
      "text/plain": [
       "HBox(children=(FloatProgress(value=0.0, layout=Layout(flex='2'), max=146.0), HTML(value='')), layout=Layout(di…"
      ]
     },
     "metadata": {},
     "output_type": "display_data"
    },
    {
     "name": "stdout",
     "output_type": "stream",
     "text": [
      "\n",
      "Л---------ее--нн---ии-нн-----с---кк-----и-------й----- => Ленинский           , gt: Ленинский           \n",
      "И----н-----д---е---р---б---о---р----с--к----ии----йй-- => Индерборский        , gt: Индерборский        \n",
      "с------к--------у------ччч----нн---------о--------и--- => скучнои             , gt: скучнои             \n",
      "д--------жж----------ии-----------гг---ии---------тт-- => джигит              , gt: джигит              \n",
      "б--------е------ж-------------и-------т--------------- => бежит               , gt: бежит               \n",
      "Lr now: 1e-05\n"
     ]
    },
    {
     "data": {
      "application/vnd.jupyter.widget-view+json": {
       "model_id": "0b2742288c50496da2632641284d4830",
       "version_major": 2,
       "version_minor": 0
      },
      "text/plain": [
       "HBox(children=(FloatProgress(value=0.0, layout=Layout(flex='2'), max=711.0), HTML(value='')), layout=Layout(di…"
      ]
     },
     "metadata": {},
     "output_type": "display_data"
    },
    {
     "name": "stdout",
     "output_type": "stream",
     "text": [
      "\n"
     ]
    },
    {
     "data": {
      "application/vnd.jupyter.widget-view+json": {
       "model_id": "71121cd98c4a414d8cfc71b4272e6875",
       "version_major": 2,
       "version_minor": 0
      },
      "text/plain": [
       "HBox(children=(FloatProgress(value=0.0, layout=Layout(flex='2'), max=146.0), HTML(value='')), layout=Layout(di…"
      ]
     },
     "metadata": {},
     "output_type": "display_data"
    },
    {
     "name": "stdout",
     "output_type": "stream",
     "text": [
      "\n",
      "м----о-р--я--к---и------  гг---л---яя---д--яя---т----. => моряки глядят.      , gt: моряки глядят.      \n",
      "У--сст-ь-----КК---аа---м---ее-нн--ооогггоо-рр---сс-кк- => Усть-Каменогорск    , gt: Усть-Каменогорск    \n",
      "и------------    ---лл--------о-----в-----е--е----к--- => и ловеек            , gt: и ловок             \n",
      "п--р---е-кк--р---а--сс-нн--о--е-----   л----ии--цц-оо. => прекрасное лицо.    , gt: прекрасное лицо.    \n",
      "я-----д------    -д-----рр----у---гг--иии-----мм-----, => яд другим,          , gt: яд другим,          \n",
      "Lr now: 1e-05\n"
     ]
    },
    {
     "data": {
      "application/vnd.jupyter.widget-view+json": {
       "model_id": "fdcc45fe5b62414d993dc574bd1aba2c",
       "version_major": 2,
       "version_minor": 0
      },
      "text/plain": [
       "HBox(children=(FloatProgress(value=0.0, layout=Layout(flex='2'), max=711.0), HTML(value='')), layout=Layout(di…"
      ]
     },
     "metadata": {},
     "output_type": "display_data"
    },
    {
     "name": "stdout",
     "output_type": "stream",
     "text": [
      "\n"
     ]
    },
    {
     "data": {
      "application/vnd.jupyter.widget-view+json": {
       "model_id": "75fc2b27a16a407887bda420c1c56aca",
       "version_major": 2,
       "version_minor": 0
      },
      "text/plain": [
       "HBox(children=(FloatProgress(value=0.0, layout=Layout(flex='2'), max=146.0), HTML(value='')), layout=Layout(di…"
      ]
     },
     "metadata": {},
     "output_type": "display_data"
    },
    {
     "name": "stdout",
     "output_type": "stream",
     "text": [
      "\n",
      "о--т---чч--ии--зз-нн--ы----------   мм----оо--е---й--- => отчизны моей        , gt: отчизны моей        \n",
      "А-----Л----М-----А----Т----И----Н---С----К----А----Я-- => АЛМАТИНСКАЯ         , gt: АЛМАТИНСКАЯ         \n",
      "к--а---к-----    м------о---лл---о--д---о--сс-тт----ьь => как молодость       , gt: как молодость       \n",
      "А----Л----М----А---Т------И----Н-----С--К----А----Я--- => АЛМАТИНСКАЯ         , gt: АЛМАТИНСКАЯ         \n",
      "Н-----о--   -ч----а---с------  -н---а----с---т-----а-- => Но час наста        , gt: Но час наста        \n",
      "Lr now: 1e-05\n"
     ]
    },
    {
     "data": {
      "application/vnd.jupyter.widget-view+json": {
       "model_id": "4655c698aad54157887f688c4fa73f4b",
       "version_major": 2,
       "version_minor": 0
      },
      "text/plain": [
       "HBox(children=(FloatProgress(value=0.0, layout=Layout(flex='2'), max=711.0), HTML(value='')), layout=Layout(di…"
      ]
     },
     "metadata": {},
     "output_type": "display_data"
    },
    {
     "name": "stdout",
     "output_type": "stream",
     "text": [
      "\n"
     ]
    },
    {
     "data": {
      "application/vnd.jupyter.widget-view+json": {
       "model_id": "d104d3b5f2ce4621bef7b9434f693d77",
       "version_major": 2,
       "version_minor": 0
      },
      "text/plain": [
       "HBox(children=(FloatProgress(value=0.0, layout=Layout(flex='2'), max=146.0), HTML(value='')), layout=Layout(di…"
      ]
     },
     "metadata": {},
     "output_type": "display_data"
    },
    {
     "name": "stdout",
     "output_type": "stream",
     "text": [
      "\n",
      "Ю---жж-нн-оо-----КК--ааззааххх-сс-т--а--ннссскк--а-яя- => Южно-Казахстанская  , gt: Южно-Казахстанская  \n",
      "Т--------------------а--------р---------а--------з---- => Тараз               , gt: Тараз               \n",
      "Н----о-----  -ч---а--с-----   -н---а---с--тт----а---л- => Но час настал       , gt: Но час настал       \n",
      "Л-------иии-----с----а-----к-----о-----в-----с----к--- => Лисаковск           , gt: Лисаковск           \n",
      "С----аа------р------ы----------о------з----е-----к---- => Сарыозек            , gt: Сарыозек            \n",
      "Lr now: 1e-05\n"
     ]
    },
    {
     "data": {
      "application/vnd.jupyter.widget-view+json": {
       "model_id": "b3ba08fdbfe54fa1845d02c6fd2d57d2",
       "version_major": 2,
       "version_minor": 0
      },
      "text/plain": [
       "HBox(children=(FloatProgress(value=0.0, layout=Layout(flex='2'), max=711.0), HTML(value='')), layout=Layout(di…"
      ]
     },
     "metadata": {},
     "output_type": "display_data"
    },
    {
     "name": "stdout",
     "output_type": "stream",
     "text": [
      "\n"
     ]
    },
    {
     "data": {
      "application/vnd.jupyter.widget-view+json": {
       "model_id": "b4c61a7c4165471da96ec1def38750ce",
       "version_major": 2,
       "version_minor": 0
      },
      "text/plain": [
       "HBox(children=(FloatProgress(value=0.0, layout=Layout(flex='2'), max=146.0), HTML(value='')), layout=Layout(di…"
      ]
     },
     "metadata": {},
     "output_type": "display_data"
    },
    {
     "name": "stdout",
     "output_type": "stream",
     "text": [
      "\n",
      "Т--о---   с-еерр--д--ее-чч--н--а---я---  т--о--с-кк-а- => То сердечная тоска  , gt: То сердечная тоска  \n",
      "Ш--------------а-----р-------д------а-----р------а---- => Шардара             , gt: Шардара             \n",
      "б----лл-а---гг-оо--д----а---р----н----о---сс-т---ьь--. => благодарность.      , gt: благодарность.      \n",
      "Ш---------------ы-----мм------кк---е---нн------т------ => Шымкент             , gt: Шымкент             \n",
      "А-------------к-------тт---------оо-------б-------е--- => Актобе              , gt: Актобе              \n",
      "Lr now: 1e-05\n"
     ]
    },
    {
     "data": {
      "application/vnd.jupyter.widget-view+json": {
       "model_id": "732919deab924a88ad70813a816b3465",
       "version_major": 2,
       "version_minor": 0
      },
      "text/plain": [
       "HBox(children=(FloatProgress(value=0.0, layout=Layout(flex='2'), max=711.0), HTML(value='')), layout=Layout(di…"
      ]
     },
     "metadata": {},
     "output_type": "display_data"
    },
    {
     "name": "stdout",
     "output_type": "stream",
     "text": [
      "\n"
     ]
    },
    {
     "data": {
      "application/vnd.jupyter.widget-view+json": {
       "model_id": "5665ddde1ec2437da231820beb6ab523",
       "version_major": 2,
       "version_minor": 0
      },
      "text/plain": [
       "HBox(children=(FloatProgress(value=0.0, layout=Layout(flex='2'), max=146.0), HTML(value='')), layout=Layout(di…"
      ]
     },
     "metadata": {},
     "output_type": "display_data"
    },
    {
     "name": "stdout",
     "output_type": "stream",
     "text": [
      "\n",
      "Л----ь-ее--т-------  -п---е---ч---а------л-ььь-н---о-- => Льет печально       , gt: Льет печально       \n",
      "Л---------ее--нн---ии-нн-----с---кк-----и-------й----- => Ленинский           , gt: Ленинский           \n",
      "Ш----------ы------м--------к-----е---нн------т-------- => Шымкент             , gt: Шымкент             \n",
      "В-осс-т--о-ччнн-о----К-аа-заа-хх-стт--аа-н-сс-кк-а--я- => Восточно-Казахстанская, gt: Восточно-Казахстанская\n",
      "К-------аа--зз--аа----хх-----сс--тт-------а-----н----- => Казахстан           , gt: Казахстан           \n",
      "Lr now: 1e-05\n"
     ]
    },
    {
     "data": {
      "application/vnd.jupyter.widget-view+json": {
       "model_id": "fcc6bd137a234f66ae324c6af413ed45",
       "version_major": 2,
       "version_minor": 0
      },
      "text/plain": [
       "HBox(children=(FloatProgress(value=0.0, layout=Layout(flex='2'), max=711.0), HTML(value='')), layout=Layout(di…"
      ]
     },
     "metadata": {},
     "output_type": "display_data"
    },
    {
     "name": "stdout",
     "output_type": "stream",
     "text": [
      "\n"
     ]
    },
    {
     "data": {
      "application/vnd.jupyter.widget-view+json": {
       "model_id": "c871a36e1d5f43b5b559459ee7886529",
       "version_major": 2,
       "version_minor": 0
      },
      "text/plain": [
       "HBox(children=(FloatProgress(value=0.0, layout=Layout(flex='2'), max=146.0), HTML(value='')), layout=Layout(di…"
      ]
     },
     "metadata": {},
     "output_type": "display_data"
    },
    {
     "name": "stdout",
     "output_type": "stream",
     "text": [
      "\n",
      "м---нн--е-----  -с--н---и--т----с-я--  п----лл--а---щщ => мне снится плащ     , gt: мне снится плащ     \n",
      "н-о--   т---ы----   н--ее--   с-нн-и-зз-о--ш----л--а-- => но ты не снизошла   , gt: но ты не снизошла   \n",
      "Н---е-- -ж----а----л--ее--й-----  -к----о---н-----я--, => Не жалей коня,      , gt: Не жалей коня,      \n",
      "У---ж-----   н--ее----  -м----е---ч--т-----а---т----ь- => Уж не мечтать       , gt: Уж не мечтать       \n",
      "К-------а------зз----а-----х---сс--тт-------а------н-- => Казахстан           , gt: Казахстан           \n",
      "Lr now: 1e-05\n"
     ]
    },
    {
     "data": {
      "application/vnd.jupyter.widget-view+json": {
       "model_id": "3a536492bfbc4d8d98fe7d403638d3ea",
       "version_major": 2,
       "version_minor": 0
      },
      "text/plain": [
       "HBox(children=(FloatProgress(value=0.0, layout=Layout(flex='2'), max=711.0), HTML(value='')), layout=Layout(di…"
      ]
     },
     "metadata": {},
     "output_type": "display_data"
    },
    {
     "name": "stdout",
     "output_type": "stream",
     "text": [
      "\n"
     ]
    },
    {
     "data": {
      "application/vnd.jupyter.widget-view+json": {
       "model_id": "cf8798044dac4a96a9701acf05d8425e",
       "version_major": 2,
       "version_minor": 0
      },
      "text/plain": [
       "HBox(children=(FloatProgress(value=0.0, layout=Layout(flex='2'), max=146.0), HTML(value='')), layout=Layout(di…"
      ]
     },
     "metadata": {},
     "output_type": "display_data"
    },
    {
     "name": "stdout",
     "output_type": "stream",
     "text": [
      "\n",
      "А--------к--т------ю-----б---и----нн---сс-к---аа----я- => Актюбинская         , gt: Актюбинская         \n",
      "К--------о----с-----к-------ее----л--------е---к------ => Коскелек            , gt: Каскелен            \n",
      "И-----,,-  --д----о---кк----у-----ч----н-----ы-----х-- => И, докучных         , gt: И, докучных         \n",
      "с---кк-------о-----р-------о------   ллл-----иии----,, => скоро ли,           , gt: скоро ли,           \n",
      "м-----------------о-----------я----------------!------ => моя!                , gt: моя!                \n",
      "Lr now: 1e-05\n"
     ]
    },
    {
     "data": {
      "application/vnd.jupyter.widget-view+json": {
       "model_id": "9a9a4c31dcfc4b4bbc3055d139926420",
       "version_major": 2,
       "version_minor": 0
      },
      "text/plain": [
       "HBox(children=(FloatProgress(value=0.0, layout=Layout(flex='2'), max=711.0), HTML(value='')), layout=Layout(di…"
      ]
     },
     "metadata": {},
     "output_type": "display_data"
    },
    {
     "name": "stdout",
     "output_type": "stream",
     "text": [
      "\n"
     ]
    },
    {
     "data": {
      "application/vnd.jupyter.widget-view+json": {
       "model_id": "c1e5d26beb53480dbc48e481c1328a34",
       "version_major": 2,
       "version_minor": 0
      },
      "text/plain": [
       "HBox(children=(FloatProgress(value=0.0, layout=Layout(flex='2'), max=146.0), HTML(value='')), layout=Layout(di…"
      ]
     },
     "metadata": {},
     "output_type": "display_data"
    },
    {
     "name": "stdout",
     "output_type": "stream",
     "text": [
      "\n",
      "К----а--р---а--ггг-аа--нн--д---ии--н---ссккк-аа----я-- => Карагандинская      , gt: Карагандинская      \n",
      "и-------  -о--д-ннии--мм-----  п--рр-об-уу--ж---енн--, => и одним пробужен,   , gt: и одним пробужден,  \n",
      "м-----------------е--------н----------я--------------. => меня.               , gt: меня.               \n",
      "В---------  -к-----о----т-------о--р----о-----м------- => В котором           , gt: В котором           \n",
      "б--л--а---г-о--у--ххх--а---е-тт----------  -с-аа-дд--, => благоухает сад,     , gt: благоухает сад,     \n",
      "Lr now: 1e-05\n",
      "Saving trainer to /home/storage/3020/KrivorotovI/db/HKR_experiments/CRNN_1_aug.\n",
      "Trainer is saved.\n"
     ]
    }
   ],
   "source": [
    "init_dict = {'device': 'cuda:9',\n",
    "             'save_folder': '/home/storage/3020/KrivorotovI/db/HKR_experiments/CRNN_1_aug',\n",
    "             \n",
    "             'train_dataset':{'pickle_file': '/home/storage/3020/KrivorotovI/db/HW-OCR/datasets/train.pkl',\n",
    "                              'meta': False,\n",
    "                              'num_imgs': -1,\n",
    "                              'rescale_mode': True,\n",
    "                              'padding_mode': False,\n",
    "                              'aug_prob': 0.3},\n",
    "             'valid_dataset': {'pickle_file': '/home/storage/3020/KrivorotovI/db/HW-OCR/datasets/val.pkl',\n",
    "                               'meta': False,\n",
    "                               'num_imgs': -1,\n",
    "                               'rescale_mode': True,\n",
    "                               'padding_mode': False},\n",
    "             'test1_dataset': {'pickle_file': '/home/storage/3020/KrivorotovI/db/HKR/datasets/test1_clear.pkl',\n",
    "                               'meta': False,\n",
    "                               'num_imgs': -1,\n",
    "                               'rescale_mode': True,\n",
    "                               'padding_mode': False},\n",
    "             'test2_dataset': {'pickle_file': '/home/storage/3020/KrivorotovI/db/HW-OCR/datasets/test2.pkl',\n",
    "                               'meta': False,\n",
    "                               'num_imgs': -1,\n",
    "                               'rescale_mode': True,\n",
    "                               'padding_mode': False},\n",
    "             'num_imgs': -1, 'num_workers': 1, 'batch_size': 64, 'seed': 34, 'max_epochs': 100, 'model_pretrain': '',\n",
    "             \n",
    "             'model_params':{'name': 'CRNN',\n",
    "                             'imgH': 32,\n",
    "                             'nc': 3,\n",
    "                             'nclass': 80,\n",
    "                             'nh': 256,\n",
    "                             'n_rnn': 2,\n",
    "                             'leakyRelu': False\n",
    "                             },\n",
    "             \n",
    "             'optimizer_params':{'class': 'RMSprop',\n",
    "                                 'parameters':{'lr': 0.001}\n",
    "                                 },\n",
    "             'scheduler_params':{'milestones':[40, 70],\n",
    "                                 'gamma': 0.1}}\n",
    "trainer = Trainer(**init_dict)\n",
    "trainer.train()"
   ]
  },
  {
   "cell_type": "code",
   "execution_count": 3,
   "metadata": {},
   "outputs": [
    {
     "data": {
      "application/vnd.jupyter.widget-view+json": {
       "model_id": "9b9c51f98263425989a63df150f5ecc8",
       "version_major": 2,
       "version_minor": 0
      },
      "text/plain": [
       "HBox(children=(FloatProgress(value=0.0, layout=Layout(flex='2'), max=74.0), HTML(value='')), layout=Layout(dis…"
      ]
     },
     "metadata": {},
     "output_type": "display_data"
    },
    {
     "name": "stdout",
     "output_type": "stream",
     "text": [
      "\n",
      "М----------------а-------к--------а-------тт---------- => Макат               , gt: Макат               \n",
      "К--------а-----р-----а----гг---а-----н------дд----а--- => Караганда           , gt: Караганда           \n",
      "с---вв--о---б-оо-р----у--  -м-----ю--т---и--тт-ьь--?-- => свобору мютить?     , gt: свободу любить?     \n",
      "С-------ее---------м--------о-------------------йй---- => Семой               , gt: Семей               \n",
      "У-------------м--------т------------о------б------ее-- => Умтобе              , gt: Уштобе              \n",
      "Lr now: 1e-05\n",
      "CER: 0.139110600957754\n",
      "WER: 0.4071121903153153\n"
     ]
    }
   ],
   "source": [
    "trainer.validate(iterator = trainer.test1_iterator, test = True)"
   ]
  },
  {
   "cell_type": "code",
   "execution_count": 5,
   "metadata": {},
   "outputs": [
    {
     "data": {
      "application/vnd.jupyter.widget-view+json": {
       "model_id": "52e2a6f548454dfd89b45a89ae275388",
       "version_major": 2,
       "version_minor": 0
      },
      "text/plain": [
       "HBox(children=(FloatProgress(value=0.0, layout=Layout(flex='2'), max=78.0), HTML(value='')), layout=Layout(dis…"
      ]
     },
     "metadata": {},
     "output_type": "display_data"
    },
    {
     "name": "stdout",
     "output_type": "stream",
     "text": [
      "\n",
      "А---------к---------т-----------о--------б--------е--- => Актобе              , gt: Актобе              \n",
      "м----о--рр---я---к--у------,,---  гг--о--р----я---т--- => моряку, горят       , gt: моряку, горят       \n",
      "Ю---ж---н--о-------КК---а-зз-а-хх--с-т--а--н-сскк-аа-я => Южно-Казахстанская  , gt: Южно-Казахстанская  \n",
      "К---у-дд-аа---???.--.-   ЗЗ--а---чч-е--мм------??--.-. => Куда?.. Зачем?..    , gt: Куда?.. Зачем?..    \n",
      "К------   у---тт----р----уу---, кк---оо--гг--д----а--- => К утру, когда       , gt: К утру, когда       \n",
      "Lr now: 1e-05\n",
      "CER: 0.026810614275868287\n",
      "WER: 0.08689569978632478\n"
     ]
    }
   ],
   "source": [
    "trainer.validate(iterator = trainer.test2_iterator, test = True)"
   ]
  },
  {
   "cell_type": "code",
   "execution_count": null,
   "metadata": {},
   "outputs": [],
   "source": []
  }
 ],
 "metadata": {
  "kernelspec": {
   "display_name": "Python 3",
   "language": "python",
   "name": "python3"
  },
  "language_info": {
   "codemirror_mode": {
    "name": "ipython",
    "version": 3
   },
   "file_extension": ".py",
   "mimetype": "text/x-python",
   "name": "python",
   "nbconvert_exporter": "python",
   "pygments_lexer": "ipython3",
   "version": "3.7.7"
  }
 },
 "nbformat": 4,
 "nbformat_minor": 4
}
