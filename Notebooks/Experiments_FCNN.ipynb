{
 "cells": [
  {
   "cell_type": "code",
   "execution_count": 1,
   "metadata": {},
   "outputs": [],
   "source": [
    "import sys\n",
    "sys.path.append('/home/storage/3020/KrivorotovI/db/HW-OCR/')\n",
    "from hwocr.trainer import Trainer"
   ]
  },
  {
   "cell_type": "markdown",
   "metadata": {},
   "source": [
    "# Experiment FCNN"
   ]
  },
  {
   "cell_type": "code",
   "execution_count": null,
   "metadata": {},
   "outputs": [],
   "source": [
    "init_dict = {'device': 'cuda:7',\n",
    "             'save_folder': '/home/storage/3020/KrivorotovI/db/HW-OCR/pretrained_models/FCNN_1',\n",
    "             \n",
    "             'train_dataset':{'pickle_file': '/home/storage/3020/KrivorotovI/db/HKR/datasets/train.pkl',\n",
    "                              'meta': False,\n",
    "                              'num_imgs': -1,\n",
    "                              'rescale_mode': True,\n",
    "                              'padding_mode': False},\n",
    "             'valid_dataset': {'pickle_file': '/home/storage/3020/KrivorotovI/db/HKR/datasets/val.pkl',\n",
    "                               'meta': False,\n",
    "                               'num_imgs': -1,\n",
    "                               'rescale_mode': True,\n",
    "                               'padding_mode': False},\n",
    "             'test1_dataset': {'pickle_file': '/home/storage/3020/KrivorotovI/db/HKR/datasets/test1_clear.pkl',\n",
    "                               'meta': False,\n",
    "                               'num_imgs': -1,\n",
    "                               'rescale_mode': True,\n",
    "                               'padding_mode': False},\n",
    "             'test2_dataset': {'pickle_file': '/home/storage/3020/KrivorotovI/db/HKR/datasets/test2.pkl',\n",
    "                               'meta': False,\n",
    "                               'num_imgs': -1,\n",
    "                               'rescale_mode': True,\n",
    "                               'padding_mode': False},\n",
    "             \n",
    "             'num_imgs': -1, 'num_workers': 1, 'batch_size': 64, 'seed': 34, 'max_epochs': 100, 'model_pretrain': '',\n",
    "             \n",
    "             'model_params':{'name': 'FCNN',\n",
    "                             'nc': 3,\n",
    "                             },\n",
    "             \n",
    "             'optimizer_params':{'class': 'RMSprop',\n",
    "                                 'parameters':{'lr': 0.001}\n",
    "                                 },\n",
    "             'scheduler_params':{'milestones':[40, 70],\n",
    "                                 'gamma': 0.1}}\n",
    "trainer = Trainer(**init_dict)\n",
    "trainer.train()"
   ]
  },
  {
   "cell_type": "code",
   "execution_count": 3,
   "metadata": {},
   "outputs": [
    {
     "data": {
      "application/vnd.jupyter.widget-view+json": {
       "model_id": "0139a1dc32904b6aa35b080b163c7032",
       "version_major": 2,
       "version_minor": 0
      },
      "text/plain": [
       "HBox(children=(FloatProgress(value=0.0, layout=Layout(flex='2'), max=74.0), HTML(value='')), layout=Layout(dis…"
      ]
     },
     "metadata": {},
     "output_type": "display_data"
    },
    {
     "name": "stdout",
     "output_type": "stream",
     "text": [
      "\n",
      "М------------а--------к-------а---------т----- => Макат               , gt: Макат               \n",
      "К----а------р---а------г--аа------н-------д--а => Караганда           , gt: Караганда           \n",
      "св-оо--бб-оо--д---у---- -м---ю----б--и---льь-? => свободу мюбиль?     , gt: свободу любить?     \n",
      "С--ее-------мм----------а--е-----------------й => Семаей              , gt: Семей               \n",
      "У-------шш---------т------------о------бб----е => Уштобе              , gt: Уштобе              \n",
      "Lr now: 1e-05\n",
      "CER: 0.16407279569422858\n",
      "WER: 0.5649985923423424\n"
     ]
    }
   ],
   "source": [
    "trainer.validate(iterator = trainer.test1_iterator, test = True)"
   ]
  },
  {
   "cell_type": "code",
   "execution_count": 4,
   "metadata": {},
   "outputs": [
    {
     "data": {
      "application/vnd.jupyter.widget-view+json": {
       "model_id": "fffbdb631bf4499e9d126f58769f5e15",
       "version_major": 2,
       "version_minor": 0
      },
      "text/plain": [
       "HBox(children=(FloatProgress(value=0.0, layout=Layout(flex='2'), max=78.0), HTML(value='')), layout=Layout(dis…"
      ]
     },
     "metadata": {},
     "output_type": "display_data"
    },
    {
     "name": "stdout",
     "output_type": "stream",
     "text": [
      "\n",
      "в-п----о------т-----ьь----м-------а-------х--. => впотьмах.           , gt: впотьмах.           \n",
      "А--тт-----ы----рр--а-------у--с----к----а----я => Атырауская          , gt: Атырауская          \n",
      "егг-о--------  -п---ии-----т------а----е----т- => его питает          , gt: его питает          \n",
      "о----п------------яя----------т-------------ьь => опять               , gt: опять               \n",
      "П-а---в----л---оо----дд-аа---р----а---к---а--я => Павлодаракая        , gt: Павлодарская        \n",
      "Lr now: 1e-05\n",
      "CER: 0.08358140461808186\n",
      "WER: 0.32908319978632483\n"
     ]
    }
   ],
   "source": [
    "trainer.validate(iterator = trainer.test2_iterator, test = True)"
   ]
  },
  {
   "cell_type": "code",
   "execution_count": 5,
   "metadata": {},
   "outputs": [],
   "source": [
    "trainer = Trainer.load(load_folder='/home/storage/3020/KrivorotovI/db/HW-OCR/pretrained_models/FCNN_1',\n",
    "                       load_policy='best',\n",
    "                       device='cuda:7')"
   ]
  },
  {
   "cell_type": "code",
   "execution_count": 6,
   "metadata": {},
   "outputs": [
    {
     "data": {
      "application/vnd.jupyter.widget-view+json": {
       "model_id": "d4ac3066486841e7b95bd1b8e9c28d43",
       "version_major": 2,
       "version_minor": 0
      },
      "text/plain": [
       "HBox(children=(FloatProgress(value=0.0, layout=Layout(flex='2'), max=74.0), HTML(value='')), layout=Layout(dis…"
      ]
     },
     "metadata": {},
     "output_type": "display_data"
    },
    {
     "name": "stdout",
     "output_type": "stream",
     "text": [
      "\n",
      "Кы---з--ы----л-о----р---д---и----н--сс--к---ая => Кызылординская      , gt: Кызылординская      \n",
      "М-а------м----г-ии--сс--т-а------у--сс--к-аа-я => Мамгистауская       , gt: Мангистауская       \n",
      "С----е-------л-----------------е------------й- => Селей               , gt: Семей               \n",
      "ове-----щ-а----ю-------   -в--е---р--ии--ттьь, => овещаю верить,      , gt: обещаю верить,      \n",
      "К---а-----р-----а-----гг--а-------н-----д----а => Караганда           , gt: Караганда           \n",
      "Lr now: 0.001\n",
      "CER: 0.1710644264372159\n",
      "WER: 0.60376196509009\n"
     ]
    }
   ],
   "source": [
    "trainer.validate(iterator = trainer.test1_iterator, test = True)"
   ]
  },
  {
   "cell_type": "code",
   "execution_count": 7,
   "metadata": {},
   "outputs": [
    {
     "data": {
      "application/vnd.jupyter.widget-view+json": {
       "model_id": "158c2ee5eb984ddb976e44efe6981fb9",
       "version_major": 2,
       "version_minor": 0
      },
      "text/plain": [
       "HBox(children=(FloatProgress(value=0.0, layout=Layout(flex='2'), max=78.0), HTML(value='')), layout=Layout(dis…"
      ]
     },
     "metadata": {},
     "output_type": "display_data"
    },
    {
     "name": "stdout",
     "output_type": "stream",
     "text": [
      "\n",
      "В   г---у-с--ттт--о--йй----  -л-оо------щ-и-не => В густой лощине     , gt: В густой лощине     \n",
      "Н-а------с----т------а-----в----ш------и-и---й => Наставшиий          , gt: Наставший           \n",
      "И--  -п--о----  -ж--з---р---ы----т----о---м-уу => И по жзрытому       , gt: И по изрытому       \n",
      "Пее--р---е---д-----  --м---------н-----о-----й => Перед мной          , gt: Перед мной          \n",
      "в-оо---зз----е----р---а------т-------яя---ссьь => возератясь          , gt: возвратясь          \n",
      "Lr now: 0.001\n",
      "CER: 0.09678298561679928\n",
      "WER: 0.3822382478632478\n"
     ]
    }
   ],
   "source": [
    "trainer.validate(iterator = trainer.test2_iterator, test = True)"
   ]
  },
  {
   "cell_type": "code",
   "execution_count": null,
   "metadata": {},
   "outputs": [],
   "source": []
  }
 ],
 "metadata": {
  "kernelspec": {
   "display_name": "Python 3",
   "language": "python",
   "name": "python3"
  },
  "language_info": {
   "codemirror_mode": {
    "name": "ipython",
    "version": 3
   },
   "file_extension": ".py",
   "mimetype": "text/x-python",
   "name": "python",
   "nbconvert_exporter": "python",
   "pygments_lexer": "ipython3",
   "version": "3.7.7"
  }
 },
 "nbformat": 4,
 "nbformat_minor": 4
}
