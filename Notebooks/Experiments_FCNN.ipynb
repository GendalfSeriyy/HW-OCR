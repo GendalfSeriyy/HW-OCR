{
 "cells": [
  {
   "cell_type": "code",
   "execution_count": 1,
   "metadata": {},
   "outputs": [],
   "source": [
    "import sys\n",
    "sys.path.append('/home/storage/3020/KrivorotovI/db/HW-OCR/')\n",
    "from hwocr.trainer import Trainer"
   ]
  },
  {
   "cell_type": "markdown",
   "metadata": {},
   "source": [
    "# Experiment FCNN"
   ]
  },
  {
   "cell_type": "code",
   "execution_count": 2,
   "metadata": {},
   "outputs": [
    {
     "data": {
      "application/vnd.jupyter.widget-view+json": {
       "model_id": "7a5b2f825f67486b93b2aba6469e8ea5",
       "version_major": 2,
       "version_minor": 0
      },
      "text/plain": [
       "HBox(children=(FloatProgress(value=0.0, layout=Layout(flex='2'), max=711.0), HTML(value='')), layout=Layout(di…"
      ]
     },
     "metadata": {},
     "output_type": "display_data"
    },
    {
     "name": "stdout",
     "output_type": "stream",
     "text": [
      "\n"
     ]
    },
    {
     "data": {
      "application/vnd.jupyter.widget-view+json": {
       "model_id": "0e82c1dbc75443fcbf9df40f5a2ddd94",
       "version_major": 2,
       "version_minor": 0
      },
      "text/plain": [
       "HBox(children=(FloatProgress(value=0.0, layout=Layout(flex='2'), max=146.0), HTML(value='')), layout=Layout(di…"
      ]
     },
     "metadata": {},
     "output_type": "display_data"
    },
    {
     "name": "stdout",
     "output_type": "stream",
     "text": [
      "\n",
      "А---   рр--------------------  ------  по---ня => А р  поня           , gt: Я бросил в ночь     \n",
      "А-------------------------------------------ау => Аау                 , gt: Село                \n",
      "Ка------та--------р--------------------на---ая => Катарнаая           , gt: Костанайская        \n",
      "Ко------------------------------т----------ка- => Котка               , gt: раздаваться         \n",
      "В--ра-------------------------  зу----------ая => Вра зуая            , gt: вороненый зрачок    \n",
      "Lr now: 0.001\n"
     ]
    },
    {
     "data": {
      "application/vnd.jupyter.widget-view+json": {
       "model_id": "9f05393e14d542a9a327c81de20a54dc",
       "version_major": 2,
       "version_minor": 0
      },
      "text/plain": [
       "HBox(children=(FloatProgress(value=0.0, layout=Layout(flex='2'), max=711.0), HTML(value='')), layout=Layout(di…"
      ]
     },
     "metadata": {},
     "output_type": "display_data"
    },
    {
     "name": "stdout",
     "output_type": "stream",
     "text": [
      "\n"
     ]
    },
    {
     "data": {
      "application/vnd.jupyter.widget-view+json": {
       "model_id": "2444e4d424864a1fba7d90fe9cede0b2",
       "version_major": 2,
       "version_minor": 0
      },
      "text/plain": [
       "HBox(children=(FloatProgress(value=0.0, layout=Layout(flex='2'), max=146.0), HTML(value='')), layout=Layout(di…"
      ]
     },
     "metadata": {},
     "output_type": "display_data"
    },
    {
     "name": "stdout",
     "output_type": "stream",
     "text": [
      "\n",
      "д--------------------------------------------- => д                   , gt: Молдавия            \n",
      "д--------------------------------------------- => д                   , gt: Верней, волчицу,    \n",
      "дд-------------------------------------------е => де                  , gt: Алматы              \n",
      "д--------------------------------------------- => д                   , gt: обл.                \n",
      "Гд-------------------------------------------- => Гд                  , gt: студеной тишиной    \n",
      "Lr now: 0.001\n"
     ]
    },
    {
     "data": {
      "application/vnd.jupyter.widget-view+json": {
       "model_id": "ad01253576df4f018572a1360bdeec4b",
       "version_major": 2,
       "version_minor": 0
      },
      "text/plain": [
       "HBox(children=(FloatProgress(value=0.0, layout=Layout(flex='2'), max=711.0), HTML(value='')), layout=Layout(di…"
      ]
     },
     "metadata": {},
     "output_type": "display_data"
    },
    {
     "name": "stdout",
     "output_type": "stream",
     "text": [
      "\n"
     ]
    },
    {
     "data": {
      "application/vnd.jupyter.widget-view+json": {
       "model_id": "da9b2a9308b448f782e554b9c4bf4545",
       "version_major": 2,
       "version_minor": 0
      },
      "text/plain": [
       "HBox(children=(FloatProgress(value=0.0, layout=Layout(flex='2'), max=146.0), HTML(value='')), layout=Layout(di…"
      ]
     },
     "metadata": {},
     "output_type": "display_data"
    },
    {
     "name": "stdout",
     "output_type": "stream",
     "text": [
      "\n",
      "Saving trainer to /home/storage/3020/KrivorotovI/db/HKR_experiments/FCNN_1.\n",
      "Trainer is saved.\n",
      "Model improved on valid with loss: 0.815827582796959\n",
      "в----------- -б----а----р-----а-----н----е---, => в баране,           , gt: в бараке,           \n",
      "в  о----т---з-ее-----ь----н---оо---сс---т--ии, => в отзеьности,       , gt: в отдельности,      \n",
      "Ко--сс--т---аа----н----а----йи---сс--к---а---я => Костанайиская       , gt: Костанайская        \n",
      "Заа----т--------о-------б----о---лл--ь---с--кк => Затобольск          , gt: Затобольск          \n",
      "Ка-----   -р-аа--з--д-а--т--а---я---х------аах => Ка раздатаяхах      , gt: Как раздался, так   \n",
      "Lr now: 0.001\n"
     ]
    },
    {
     "data": {
      "application/vnd.jupyter.widget-view+json": {
       "model_id": "878314d0413b43eba02bd2f8dab17295",
       "version_major": 2,
       "version_minor": 0
      },
      "text/plain": [
       "HBox(children=(FloatProgress(value=0.0, layout=Layout(flex='2'), max=711.0), HTML(value='')), layout=Layout(di…"
      ]
     },
     "metadata": {},
     "output_type": "display_data"
    },
    {
     "name": "stdout",
     "output_type": "stream",
     "text": [
      "\n"
     ]
    },
    {
     "data": {
      "application/vnd.jupyter.widget-view+json": {
       "model_id": "9b769d1b80a144818afca7f30aed1f01",
       "version_major": 2,
       "version_minor": 0
      },
      "text/plain": [
       "HBox(children=(FloatProgress(value=0.0, layout=Layout(flex='2'), max=146.0), HTML(value='')), layout=Layout(di…"
      ]
     },
     "metadata": {},
     "output_type": "display_data"
    },
    {
     "name": "stdout",
     "output_type": "stream",
     "text": [
      "\n",
      "Коо--д--н---а-------- -к---а------  е---ж---се => Кодна ка ежсе       , gt: водка на анисе      \n",
      "длее-б--в---о---й------ -о--б--е------р---а-м; => длебвой оберам;     , gt: клятвой обещал;     \n",
      "О-------а------------л--------а------е-------в => Оалаев              , gt: Сатпаев             \n",
      "Рее-ж---д--е-о----п---о----в--о--л---о---вв-ск => Реждеоповоловск     , gt: Петропавловск       \n",
      "к---а------с------о------в------а------------- => касова              , gt: часовая             \n",
      "Lr now: 0.001\n"
     ]
    },
    {
     "data": {
      "application/vnd.jupyter.widget-view+json": {
       "model_id": "d2d670bd50434a8b8f79e562c66b3ec5",
       "version_major": 2,
       "version_minor": 0
      },
      "text/plain": [
       "HBox(children=(FloatProgress(value=0.0, layout=Layout(flex='2'), max=711.0), HTML(value='')), layout=Layout(di…"
      ]
     },
     "metadata": {},
     "output_type": "display_data"
    },
    {
     "name": "stdout",
     "output_type": "stream",
     "text": [
      "\n"
     ]
    },
    {
     "data": {
      "application/vnd.jupyter.widget-view+json": {
       "model_id": "9aaa608c82a44d2a932eac77c173ce62",
       "version_major": 2,
       "version_minor": 0
      },
      "text/plain": [
       "HBox(children=(FloatProgress(value=0.0, layout=Layout(flex='2'), max=146.0), HTML(value='')), layout=Layout(di…"
      ]
     },
     "metadata": {},
     "output_type": "display_data"
    },
    {
     "name": "stdout",
     "output_type": "stream",
     "text": [
      "\n",
      "Saving trainer to /home/storage/3020/KrivorotovI/db/HKR_experiments/FCNN_1.\n",
      "Trainer is saved.\n",
      "Model improved on valid with loss: 0.4653222399623427\n",
      "Р-----------------а------р-------а-------зз--- => Рараз               , gt: Тараз               \n",
      "Слее--д---и----------  -п-о--рр-о---й---   -за => Следи порой за      , gt: Следит порой за     \n",
      "Чт--о----  сс-к--а----з-а---т----ь--- -м----не => Что сказать мне     , gt: Что сказать мне     \n",
      "А-к--мм-----о-----м--и-----н----с---к---а----я => Акмоминская         , gt: Акмолинская         \n",
      "Ро--с----т-----о-------дд---о----------------— => Ростодо-—           , gt: Господь? —          \n",
      "Lr now: 0.001\n"
     ]
    },
    {
     "data": {
      "application/vnd.jupyter.widget-view+json": {
       "model_id": "20dd968cfbd641ef822735a9fffac22a",
       "version_major": 2,
       "version_minor": 0
      },
      "text/plain": [
       "HBox(children=(FloatProgress(value=0.0, layout=Layout(flex='2'), max=711.0), HTML(value='')), layout=Layout(di…"
      ]
     },
     "metadata": {},
     "output_type": "display_data"
    },
    {
     "name": "stdout",
     "output_type": "stream",
     "text": [
      "\n"
     ]
    },
    {
     "data": {
      "application/vnd.jupyter.widget-view+json": {
       "model_id": "e4c79feae67f45ada26bafc2907435b1",
       "version_major": 2,
       "version_minor": 0
      },
      "text/plain": [
       "HBox(children=(FloatProgress(value=0.0, layout=Layout(flex='2'), max=146.0), HTML(value='')), layout=Layout(di…"
      ]
     },
     "metadata": {},
     "output_type": "display_data"
    },
    {
     "name": "stdout",
     "output_type": "stream",
     "text": [
      "\n",
      "Saving trainer to /home/storage/3020/KrivorotovI/db/HKR_experiments/FCNN_1.\n",
      "Trainer is saved.\n",
      "Model improved on valid with loss: 0.45501765343424394\n",
      "В-ии--д----  -п--о---с---т-----о----л---л--о-ю => Вид постоллою       , gt: Вид постоялого      \n",
      "П-о---к--я-----------  -к-о--рр-о---шш----а--я => Покя корошая        , gt: Пока хорошая        \n",
      "р-------а-------в------л----о------д----аа---р => равлодар            , gt: Павлодар            \n",
      "кля---т---в-о---й-----  оо--б-ее----щ--а---л-; => клятвой обещал;     , gt: клятвой обещал;     \n",
      "Т----------------а--------р--------а---------з => Тараз               , gt: Тараз               \n",
      "Lr now: 0.001\n"
     ]
    },
    {
     "data": {
      "application/vnd.jupyter.widget-view+json": {
       "model_id": "ad1865ae8aaf4a328323f19c0e42355d",
       "version_major": 2,
       "version_minor": 0
      },
      "text/plain": [
       "HBox(children=(FloatProgress(value=0.0, layout=Layout(flex='2'), max=711.0), HTML(value='')), layout=Layout(di…"
      ]
     },
     "metadata": {},
     "output_type": "display_data"
    },
    {
     "name": "stdout",
     "output_type": "stream",
     "text": [
      "\n"
     ]
    },
    {
     "data": {
      "application/vnd.jupyter.widget-view+json": {
       "model_id": "e86f7a671db14f1d852f145ca580b612",
       "version_major": 2,
       "version_minor": 0
      },
      "text/plain": [
       "HBox(children=(FloatProgress(value=0.0, layout=Layout(flex='2'), max=146.0), HTML(value='')), layout=Layout(di…"
      ]
     },
     "metadata": {},
     "output_type": "display_data"
    },
    {
     "name": "stdout",
     "output_type": "stream",
     "text": [
      "\n",
      "Saving trainer to /home/storage/3020/KrivorotovI/db/HKR_experiments/FCNN_1.\n",
      "Trainer is saved.\n",
      "Model improved on valid with loss: 0.4262373445376958\n",
      "с-----т---------р-------а---------н---------о- => страно              , gt: Страна              \n",
      "Ты-----   ст--о---лл-а-----------  вв---н-оввь => Ты стола вновь      , gt: Ты стала вновь      \n",
      "Ш------о-------рр--------------о-------------- => Шоро                , gt: город               \n",
      "Рее--б--яя---т-------   -у---жж-с-ее-----  нне => Ребят ужсе не       , gt: Ребят уже не        \n",
      "За--вв----т----р----а-,,,,---  -Н----и---н---а => Завтра, Нина        , gt: Завтра, Нина        \n",
      "Lr now: 0.001\n"
     ]
    },
    {
     "data": {
      "application/vnd.jupyter.widget-view+json": {
       "model_id": "f6baf774b87347bfbf80f73e9bee7983",
       "version_major": 2,
       "version_minor": 0
      },
      "text/plain": [
       "HBox(children=(FloatProgress(value=0.0, layout=Layout(flex='2'), max=711.0), HTML(value='')), layout=Layout(di…"
      ]
     },
     "metadata": {},
     "output_type": "display_data"
    },
    {
     "name": "stdout",
     "output_type": "stream",
     "text": [
      "\n"
     ]
    },
    {
     "data": {
      "application/vnd.jupyter.widget-view+json": {
       "model_id": "2c433cb8d1034afdb1a9eef90aafba58",
       "version_major": 2,
       "version_minor": 0
      },
      "text/plain": [
       "HBox(children=(FloatProgress(value=0.0, layout=Layout(flex='2'), max=146.0), HTML(value='')), layout=Layout(di…"
      ]
     },
     "metadata": {},
     "output_type": "display_data"
    },
    {
     "name": "stdout",
     "output_type": "stream",
     "text": [
      "\n",
      "Saving trainer to /home/storage/3020/KrivorotovI/db/HKR_experiments/FCNN_1.\n",
      "Trainer is saved.\n",
      "Model improved on valid with loss: 0.40671032626334935\n",
      "А---------к--------т-----г------а-----------у- => Актгау              , gt: Актау               \n",
      "от---е--гее--н-----------  -б--а---т----ы--рра => отеген батыра       , gt: Отеген батыра       \n",
      "х---л------а-------дд------к-----ы----------йй => хладкый             , gt: хладный             \n",
      "Ш----------м----------и-------к-----е-----н--т => Шмикент             , gt: Шымкент             \n",
      "Чт---о---------к----а---цц-е----л----д-----с-- => Чтокацелдс          , gt: Что поцелуи         \n",
      "Lr now: 0.001\n"
     ]
    },
    {
     "data": {
      "application/vnd.jupyter.widget-view+json": {
       "model_id": "01682e676db64c0ca38ef656fdcf2ca4",
       "version_major": 2,
       "version_minor": 0
      },
      "text/plain": [
       "HBox(children=(FloatProgress(value=0.0, layout=Layout(flex='2'), max=711.0), HTML(value='')), layout=Layout(di…"
      ]
     },
     "metadata": {},
     "output_type": "display_data"
    },
    {
     "name": "stdout",
     "output_type": "stream",
     "text": [
      "\n"
     ]
    },
    {
     "data": {
      "application/vnd.jupyter.widget-view+json": {
       "model_id": "0f22728c0eef41c9b1c95326e6530b67",
       "version_major": 2,
       "version_minor": 0
      },
      "text/plain": [
       "HBox(children=(FloatProgress(value=0.0, layout=Layout(flex='2'), max=146.0), HTML(value='')), layout=Layout(di…"
      ]
     },
     "metadata": {},
     "output_type": "display_data"
    },
    {
     "name": "stdout",
     "output_type": "stream",
     "text": [
      "\n",
      "т---------------о---------------д------------- => тод                 , gt: Мои руки            \n",
      "Усоз-т----------аа----м--е-------о--гооо--рсск => Усозтамеогорск      , gt: Усть-Каменогорск    \n",
      "А--------д-----о----------------д------------- => Адод                , gt: Абхазия             \n",
      "О------------------р---о---и---д--а------о---ы => Ороидаоы            , gt: Они прощают         \n",
      "Ка---------р--а--зз-д--а-----с---е-------ттаах => Караздасетах        , gt: Как раздался, так   \n",
      "Lr now: 0.001\n"
     ]
    },
    {
     "data": {
      "application/vnd.jupyter.widget-view+json": {
       "model_id": "1d95057d45024ba48bd19aaadce3a798",
       "version_major": 2,
       "version_minor": 0
      },
      "text/plain": [
       "HBox(children=(FloatProgress(value=0.0, layout=Layout(flex='2'), max=711.0), HTML(value='')), layout=Layout(di…"
      ]
     },
     "metadata": {},
     "output_type": "display_data"
    },
    {
     "name": "stderr",
     "output_type": "stream",
     "text": [
      "IOPub message rate exceeded.\n",
      "The notebook server will temporarily stop sending output\n",
      "to the client in order to avoid crashing it.\n",
      "To change this limit, set the config variable\n",
      "`--NotebookApp.iopub_msg_rate_limit`.\n",
      "\n",
      "Current values:\n",
      "NotebookApp.iopub_msg_rate_limit=1000.0 (msgs/sec)\n",
      "NotebookApp.rate_limit_window=3.0 (secs)\n",
      "\n"
     ]
    },
    {
     "name": "stdout",
     "output_type": "stream",
     "text": [
      "\n"
     ]
    },
    {
     "data": {
      "application/vnd.jupyter.widget-view+json": {
       "model_id": "acd690d473344a9e87cbfe8457c94c7d",
       "version_major": 2,
       "version_minor": 0
      },
      "text/plain": [
       "HBox(children=(FloatProgress(value=0.0, layout=Layout(flex='2'), max=146.0), HTML(value='')), layout=Layout(di…"
      ]
     },
     "metadata": {},
     "output_type": "display_data"
    },
    {
     "name": "stderr",
     "output_type": "stream",
     "text": [
      "IOPub message rate exceeded.\n",
      "The notebook server will temporarily stop sending output\n",
      "to the client in order to avoid crashing it.\n",
      "To change this limit, set the config variable\n",
      "`--NotebookApp.iopub_msg_rate_limit`.\n",
      "\n",
      "Current values:\n",
      "NotebookApp.iopub_msg_rate_limit=1000.0 (msgs/sec)\n",
      "NotebookApp.rate_limit_window=3.0 (secs)\n",
      "\n"
     ]
    },
    {
     "name": "stdout",
     "output_type": "stream",
     "text": [
      "\n"
     ]
    },
    {
     "data": {
      "application/vnd.jupyter.widget-view+json": {
       "model_id": "7f1dd9cbea9e48e89df32f87dfb9e7fa",
       "version_major": 2,
       "version_minor": 0
      },
      "text/plain": [
       "HBox(children=(FloatProgress(value=0.0, layout=Layout(flex='2'), max=146.0), HTML(value='')), layout=Layout(di…"
      ]
     },
     "metadata": {},
     "output_type": "display_data"
    },
    {
     "name": "stdout",
     "output_type": "stream",
     "text": [
      "\n",
      "мес--м---ц------  -м--ии---м--оо---у---н--иий, => месмц мимоуний,     , gt: месяц мимоезжий,    \n",
      "Ка-к----  -в--л-а--сс--т---н--о-- -п-а---х-нет => Как властно пахнет  , gt: Как властно пахнет  \n",
      "Т--------у-р-------к---е---с---т------а-----нн => Туркестан           , gt: Туркестан           \n",
      "Ст----е----п-----н-----о----гг---о----р--сс--к => Степногорск         , gt: Степногорск         \n",
      "Л--е----н-----ии------н-----с----к---а------е- => Ленинскае           , gt: Ленинское           \n",
      "Lr now: 0.001\n"
     ]
    },
    {
     "data": {
      "application/vnd.jupyter.widget-view+json": {
       "model_id": "c0c8de12994e4684ab722574e85a30b4",
       "version_major": 2,
       "version_minor": 0
      },
      "text/plain": [
       "HBox(children=(FloatProgress(value=0.0, layout=Layout(flex='2'), max=711.0), HTML(value='')), layout=Layout(di…"
      ]
     },
     "metadata": {},
     "output_type": "display_data"
    },
    {
     "name": "stderr",
     "output_type": "stream",
     "text": [
      "IOPub message rate exceeded.\n",
      "The notebook server will temporarily stop sending output\n",
      "to the client in order to avoid crashing it.\n",
      "To change this limit, set the config variable\n",
      "`--NotebookApp.iopub_msg_rate_limit`.\n",
      "\n",
      "Current values:\n",
      "NotebookApp.iopub_msg_rate_limit=1000.0 (msgs/sec)\n",
      "NotebookApp.rate_limit_window=3.0 (secs)\n",
      "\n"
     ]
    },
    {
     "name": "stdout",
     "output_type": "stream",
     "text": [
      "\n"
     ]
    },
    {
     "data": {
      "application/vnd.jupyter.widget-view+json": {
       "model_id": "6a1b6e888de947c18037f9fe1774ee1d",
       "version_major": 2,
       "version_minor": 0
      },
      "text/plain": [
       "HBox(children=(FloatProgress(value=0.0, layout=Layout(flex='2'), max=146.0), HTML(value='')), layout=Layout(di…"
      ]
     },
     "metadata": {},
     "output_type": "display_data"
    },
    {
     "name": "stderr",
     "output_type": "stream",
     "text": [
      "IOPub message rate exceeded.\n",
      "The notebook server will temporarily stop sending output\n",
      "to the client in order to avoid crashing it.\n",
      "To change this limit, set the config variable\n",
      "`--NotebookApp.iopub_msg_rate_limit`.\n",
      "\n",
      "Current values:\n",
      "NotebookApp.iopub_msg_rate_limit=1000.0 (msgs/sec)\n",
      "NotebookApp.rate_limit_window=3.0 (secs)\n",
      "\n"
     ]
    },
    {
     "name": "stdout",
     "output_type": "stream",
     "text": [
      "\n"
     ]
    },
    {
     "data": {
      "application/vnd.jupyter.widget-view+json": {
       "model_id": "774479d183ac4ef8918a165d255f6151",
       "version_major": 2,
       "version_minor": 0
      },
      "text/plain": [
       "HBox(children=(FloatProgress(value=0.0, layout=Layout(flex='2'), max=146.0), HTML(value='')), layout=Layout(di…"
      ]
     },
     "metadata": {},
     "output_type": "display_data"
    },
    {
     "name": "stdout",
     "output_type": "stream",
     "text": [
      "\n",
      "Ст-о--г----   п--рр-и---н--ии---м----а---е--тт => Стог принимает      , gt: Стог принимает      \n",
      "с--вв------о-------н-------------------------… => свон…               , gt: свою…               \n",
      "не---   -и-сс--т--ы----н---о---в--о--м-------! => не истыновом!       , gt: не испытывал!       \n",
      "З---а-----в-----о-----д------с----к-----о----й => Заводской           , gt: Заводской           \n",
      "А-----о------хх------аа---------у----------яя- => Аохауя              , gt: Абхазия             \n",
      "Lr now: 0.001\n"
     ]
    },
    {
     "data": {
      "application/vnd.jupyter.widget-view+json": {
       "model_id": "d12469a07a634bcb843dae4539e25050",
       "version_major": 2,
       "version_minor": 0
      },
      "text/plain": [
       "HBox(children=(FloatProgress(value=0.0, layout=Layout(flex='2'), max=711.0), HTML(value='')), layout=Layout(di…"
      ]
     },
     "metadata": {},
     "output_type": "display_data"
    },
    {
     "name": "stderr",
     "output_type": "stream",
     "text": [
      "IOPub message rate exceeded.\n",
      "The notebook server will temporarily stop sending output\n",
      "to the client in order to avoid crashing it.\n",
      "To change this limit, set the config variable\n",
      "`--NotebookApp.iopub_msg_rate_limit`.\n",
      "\n",
      "Current values:\n",
      "NotebookApp.iopub_msg_rate_limit=1000.0 (msgs/sec)\n",
      "NotebookApp.rate_limit_window=3.0 (secs)\n",
      "\n"
     ]
    },
    {
     "name": "stdout",
     "output_type": "stream",
     "text": [
      "\n"
     ]
    },
    {
     "data": {
      "application/vnd.jupyter.widget-view+json": {
       "model_id": "0e8e090685f548fb89ad0defe18dec17",
       "version_major": 2,
       "version_minor": 0
      },
      "text/plain": [
       "HBox(children=(FloatProgress(value=0.0, layout=Layout(flex='2'), max=146.0), HTML(value='')), layout=Layout(di…"
      ]
     },
     "metadata": {},
     "output_type": "display_data"
    },
    {
     "name": "stdout",
     "output_type": "stream",
     "text": [
      "\n",
      "у-------------ты-------------------у----и----д => утыуид              , gt: Киргизия            \n",
      "А--к------л---------м-------------с----н--а--я => Аклмсная            , gt: Акмолинская         \n",
      "Г-----о--------------------аа--------К-------- => ГоаК                , gt: Талгар              \n",
      "чо-----т----------------------------у----мм--я => чотумя              , gt: но ты не снизошла   \n",
      "о-----------------------б--------------------т => обт                 , gt: Ой,                 \n",
      "Lr now: 0.001\n"
     ]
    },
    {
     "data": {
      "application/vnd.jupyter.widget-view+json": {
       "model_id": "c2eb2d5004d2440bacd63e440cf6ac16",
       "version_major": 2,
       "version_minor": 0
      },
      "text/plain": [
       "HBox(children=(FloatProgress(value=0.0, layout=Layout(flex='2'), max=711.0), HTML(value='')), layout=Layout(di…"
      ]
     },
     "metadata": {},
     "output_type": "display_data"
    },
    {
     "name": "stderr",
     "output_type": "stream",
     "text": [
      "IOPub message rate exceeded.\n",
      "The notebook server will temporarily stop sending output\n",
      "to the client in order to avoid crashing it.\n",
      "To change this limit, set the config variable\n",
      "`--NotebookApp.iopub_msg_rate_limit`.\n",
      "\n",
      "Current values:\n",
      "NotebookApp.iopub_msg_rate_limit=1000.0 (msgs/sec)\n",
      "NotebookApp.rate_limit_window=3.0 (secs)\n",
      "\n"
     ]
    },
    {
     "name": "stdout",
     "output_type": "stream",
     "text": [
      "\n"
     ]
    },
    {
     "data": {
      "application/vnd.jupyter.widget-view+json": {
       "model_id": "4441e2f5c761457c96689d4c067b7d50",
       "version_major": 2,
       "version_minor": 0
      },
      "text/plain": [
       "HBox(children=(FloatProgress(value=0.0, layout=Layout(flex='2'), max=146.0), HTML(value='')), layout=Layout(di…"
      ]
     },
     "metadata": {},
     "output_type": "display_data"
    },
    {
     "name": "stdout",
     "output_type": "stream",
     "text": [
      "\n",
      "За--к-тт---р---е---  -к--- -м-----ии----л--оой => Зактре к милой      , gt: Завтра к милой      \n",
      "Р--------о--------с------с-------и-----------я => Россия              , gt: Россия              \n",
      "п----------------------------ы---------------- => пы                  , gt: ты                  \n",
      "о--------------------б-------------------лл--- => обл                 , gt: обл                 \n",
      "С-----у----д---е----вв----о---е---тт----с----а => Судевоетса          , gt: Издевается          \n",
      "Lr now: 0.001\n"
     ]
    },
    {
     "data": {
      "application/vnd.jupyter.widget-view+json": {
       "model_id": "ab22b951093e47818bf16923c1d39188",
       "version_major": 2,
       "version_minor": 0
      },
      "text/plain": [
       "HBox(children=(FloatProgress(value=0.0, layout=Layout(flex='2'), max=711.0), HTML(value='')), layout=Layout(di…"
      ]
     },
     "metadata": {},
     "output_type": "display_data"
    },
    {
     "name": "stderr",
     "output_type": "stream",
     "text": [
      "IOPub message rate exceeded.\n",
      "The notebook server will temporarily stop sending output\n",
      "to the client in order to avoid crashing it.\n",
      "To change this limit, set the config variable\n",
      "`--NotebookApp.iopub_msg_rate_limit`.\n",
      "\n",
      "Current values:\n",
      "NotebookApp.iopub_msg_rate_limit=1000.0 (msgs/sec)\n",
      "NotebookApp.rate_limit_window=3.0 (secs)\n",
      "\n"
     ]
    },
    {
     "name": "stdout",
     "output_type": "stream",
     "text": [
      "\n"
     ]
    },
    {
     "data": {
      "application/vnd.jupyter.widget-view+json": {
       "model_id": "39bac332db2f41beb7bfc934acb9d89d",
       "version_major": 2,
       "version_minor": 0
      },
      "text/plain": [
       "HBox(children=(FloatProgress(value=0.0, layout=Layout(flex='2'), max=146.0), HTML(value='')), layout=Layout(di…"
      ]
     },
     "metadata": {},
     "output_type": "display_data"
    },
    {
     "name": "stdout",
     "output_type": "stream",
     "text": [
      "\n",
      "Р------у-----дд------н---------ы----ш--------й => Руднышй             , gt: Рудный              \n",
      "А----------к---------т----------а------------у => Актау               , gt: Актау               \n",
      "нроо----   м--ее-нн--я---   в-ссспоо-р-о-иила. => нро меня вспороила. , gt: что меня вскормила. \n",
      "Но-   т------щ-е--т----н--ы----   м--ее--ч-н-ы => Но тщетны мечны     , gt: Но тщетны мечты     \n",
      "не---  -зз-н-а----я---   о--   лл-ююю--бб-вви, => не зная о любви,    , gt: не зная о любви,    \n",
      "Lr now: 0.001\n"
     ]
    },
    {
     "data": {
      "application/vnd.jupyter.widget-view+json": {
       "model_id": "8fd15789290d4fb685f5f9cfee20313c",
       "version_major": 2,
       "version_minor": 0
      },
      "text/plain": [
       "HBox(children=(FloatProgress(value=0.0, layout=Layout(flex='2'), max=711.0), HTML(value='')), layout=Layout(di…"
      ]
     },
     "metadata": {},
     "output_type": "display_data"
    },
    {
     "name": "stderr",
     "output_type": "stream",
     "text": [
      "IOPub message rate exceeded.\n",
      "The notebook server will temporarily stop sending output\n",
      "to the client in order to avoid crashing it.\n",
      "To change this limit, set the config variable\n",
      "`--NotebookApp.iopub_msg_rate_limit`.\n",
      "\n",
      "Current values:\n",
      "NotebookApp.iopub_msg_rate_limit=1000.0 (msgs/sec)\n",
      "NotebookApp.rate_limit_window=3.0 (secs)\n",
      "\n"
     ]
    },
    {
     "name": "stdout",
     "output_type": "stream",
     "text": [
      "\n",
      "Он--ии--,,,---  тт---о---л---кк---аа-----я--сь => Они, толкаясь       , gt: Они, толкаясь       \n",
      "д-----ж---------и-------г---и------т--------!! => джигит!             , gt: джигит!             \n",
      "К----о----сс---тт-------а-----нн------а------й => Костанай            , gt: Костанай            \n",
      "д-л-----ии-----нн------н-------о----и--------. => длиннои.            , gt: длиннои.            \n",
      "Б--е----лл----оо---рр-----у---с---с-------а--- => Белорусса           , gt: Белоруссия          \n",
      "Lr now: 0.001\n"
     ]
    },
    {
     "data": {
      "application/vnd.jupyter.widget-view+json": {
       "model_id": "f45e6ac312344e46ba9ccca859366410",
       "version_major": 2,
       "version_minor": 0
      },
      "text/plain": [
       "HBox(children=(FloatProgress(value=0.0, layout=Layout(flex='2'), max=711.0), HTML(value='')), layout=Layout(di…"
      ]
     },
     "metadata": {},
     "output_type": "display_data"
    },
    {
     "name": "stdout",
     "output_type": "stream",
     "text": [
      "\n"
     ]
    },
    {
     "data": {
      "application/vnd.jupyter.widget-view+json": {
       "model_id": "825d2927374d495a9d1e10fe941371a6",
       "version_major": 2,
       "version_minor": 0
      },
      "text/plain": [
       "HBox(children=(FloatProgress(value=0.0, layout=Layout(flex='2'), max=146.0), HTML(value='')), layout=Layout(di…"
      ]
     },
     "metadata": {},
     "output_type": "display_data"
    },
    {
     "name": "stderr",
     "output_type": "stream",
     "text": [
      "IOPub message rate exceeded.\n",
      "The notebook server will temporarily stop sending output\n",
      "to the client in order to avoid crashing it.\n",
      "To change this limit, set the config variable\n",
      "`--NotebookApp.iopub_msg_rate_limit`.\n",
      "\n",
      "Current values:\n",
      "NotebookApp.iopub_msg_rate_limit=1000.0 (msgs/sec)\n",
      "NotebookApp.rate_limit_window=3.0 (secs)\n",
      "\n"
     ]
    },
    {
     "name": "stdout",
     "output_type": "stream",
     "text": [
      "\n"
     ]
    },
    {
     "data": {
      "application/vnd.jupyter.widget-view+json": {
       "model_id": "8af12d35ffcb4a0faf091d1fdd78e697",
       "version_major": 2,
       "version_minor": 0
      },
      "text/plain": [
       "HBox(children=(FloatProgress(value=0.0, layout=Layout(flex='2'), max=146.0), HTML(value='')), layout=Layout(di…"
      ]
     },
     "metadata": {},
     "output_type": "display_data"
    },
    {
     "name": "stdout",
     "output_type": "stream",
     "text": [
      "\n",
      "Р---о---------С--------с------и------------я-- => РоСсия              , gt: Россия              \n",
      "А-----л------м----------а-----------т--------ы => Алматы              , gt: Алматы              \n",
      "Па----вв---лл---о---дд---а----р--сс--к--а----я => Павлодарская        , gt: Павлодарская        \n",
      "но-------  -н-ее--з--д---е---ш------н---ии---й => но нездешний        , gt: но нездешний        \n",
      "А-----лл--------н-------а-------т---------ы--- => Алнаты              , gt: Алматы              \n",
      "Lr now: 0.001\n"
     ]
    },
    {
     "data": {
      "application/vnd.jupyter.widget-view+json": {
       "model_id": "513278194aa14fbdbd095270441dac7f",
       "version_major": 2,
       "version_minor": 0
      },
      "text/plain": [
       "HBox(children=(FloatProgress(value=0.0, layout=Layout(flex='2'), max=711.0), HTML(value='')), layout=Layout(di…"
      ]
     },
     "metadata": {},
     "output_type": "display_data"
    },
    {
     "name": "stderr",
     "output_type": "stream",
     "text": [
      "IOPub message rate exceeded.\n",
      "The notebook server will temporarily stop sending output\n",
      "to the client in order to avoid crashing it.\n",
      "To change this limit, set the config variable\n",
      "`--NotebookApp.iopub_msg_rate_limit`.\n",
      "\n",
      "Current values:\n",
      "NotebookApp.iopub_msg_rate_limit=1000.0 (msgs/sec)\n",
      "NotebookApp.rate_limit_window=3.0 (secs)\n",
      "\n"
     ]
    },
    {
     "name": "stdout",
     "output_type": "stream",
     "text": [
      "\n"
     ]
    },
    {
     "data": {
      "application/vnd.jupyter.widget-view+json": {
       "model_id": "e56aab1bdb9345eeb5380ea824e12f9f",
       "version_major": 2,
       "version_minor": 0
      },
      "text/plain": [
       "HBox(children=(FloatProgress(value=0.0, layout=Layout(flex='2'), max=146.0), HTML(value='')), layout=Layout(di…"
      ]
     },
     "metadata": {},
     "output_type": "display_data"
    },
    {
     "name": "stdout",
     "output_type": "stream",
     "text": [
      "\n",
      "Т-а---мм-------м-----ч---т---ь---  п--о-ее--т, => Таммчть поет,       , gt: Там мать поет,      \n",
      "Отт---о--гге--н-------   -б--а----т--ы----рраа => Отоген батыра       , gt: Отеген батыра       \n",
      "Н------о-------------   -вв------е------р----я => Но веря             , gt: Но вере             \n",
      "динноо-гоо--з-вве-рр-я----   -в-  н--я--тт-ку, => диногозверя в нятку,, gt: Дикого зверя в клетку,\n",
      "у------  -к---а-----л------и------н-----а----, => у калина,           , gt: у камина,           \n",
      "Lr now: 0.001\n"
     ]
    },
    {
     "data": {
      "application/vnd.jupyter.widget-view+json": {
       "model_id": "fc67efb30e1b4911b3ec18766a07b993",
       "version_major": 2,
       "version_minor": 0
      },
      "text/plain": [
       "HBox(children=(FloatProgress(value=0.0, layout=Layout(flex='2'), max=711.0), HTML(value='')), layout=Layout(di…"
      ]
     },
     "metadata": {},
     "output_type": "display_data"
    },
    {
     "name": "stderr",
     "output_type": "stream",
     "text": [
      "IOPub message rate exceeded.\n",
      "The notebook server will temporarily stop sending output\n",
      "to the client in order to avoid crashing it.\n",
      "To change this limit, set the config variable\n",
      "`--NotebookApp.iopub_msg_rate_limit`.\n",
      "\n",
      "Current values:\n",
      "NotebookApp.iopub_msg_rate_limit=1000.0 (msgs/sec)\n",
      "NotebookApp.rate_limit_window=3.0 (secs)\n",
      "\n"
     ]
    },
    {
     "name": "stdout",
     "output_type": "stream",
     "text": [
      "\n"
     ]
    },
    {
     "data": {
      "application/vnd.jupyter.widget-view+json": {
       "model_id": "0c1f1ade2ea7437cb49631b7ab3091c8",
       "version_major": 2,
       "version_minor": 0
      },
      "text/plain": [
       "HBox(children=(FloatProgress(value=0.0, layout=Layout(flex='2'), max=146.0), HTML(value='')), layout=Layout(di…"
      ]
     },
     "metadata": {},
     "output_type": "display_data"
    },
    {
     "name": "stdout",
     "output_type": "stream",
     "text": [
      "\n",
      "Т----------------А----------------А----------з => ТААз                , gt: ТАРАЗ               \n",
      "Н-а--------   -и-----хх---- -о---гг--о---нн-ь, => На их огонь,        , gt: На их огонь,        \n",
      "П------о------вв------л----оо------д------а--с => Повлодас            , gt: Павлодар            \n",
      "И------   оо-д---н----у--------   -----иииишьь => И одну ишь          , gt: И одну лшшь         \n",
      "т--------------------------------------------- => т                   , gt: ты                  \n",
      "Lr now: 0.001\n"
     ]
    },
    {
     "data": {
      "application/vnd.jupyter.widget-view+json": {
       "model_id": "5584dac455b748038a12cd1d17882719",
       "version_major": 2,
       "version_minor": 0
      },
      "text/plain": [
       "HBox(children=(FloatProgress(value=0.0, layout=Layout(flex='2'), max=711.0), HTML(value='')), layout=Layout(di…"
      ]
     },
     "metadata": {},
     "output_type": "display_data"
    },
    {
     "name": "stderr",
     "output_type": "stream",
     "text": [
      "IOPub message rate exceeded.\n",
      "The notebook server will temporarily stop sending output\n",
      "to the client in order to avoid crashing it.\n",
      "To change this limit, set the config variable\n",
      "`--NotebookApp.iopub_msg_rate_limit`.\n",
      "\n",
      "Current values:\n",
      "NotebookApp.iopub_msg_rate_limit=1000.0 (msgs/sec)\n",
      "NotebookApp.rate_limit_window=3.0 (secs)\n",
      "\n"
     ]
    },
    {
     "name": "stdout",
     "output_type": "stream",
     "text": [
      "\n"
     ]
    },
    {
     "data": {
      "application/vnd.jupyter.widget-view+json": {
       "model_id": "9779e8028cec4da5bc664cfbc5787369",
       "version_major": 2,
       "version_minor": 0
      },
      "text/plain": [
       "HBox(children=(FloatProgress(value=0.0, layout=Layout(flex='2'), max=146.0), HTML(value='')), layout=Layout(di…"
      ]
     },
     "metadata": {},
     "output_type": "display_data"
    },
    {
     "name": "stdout",
     "output_type": "stream",
     "text": [
      "\n",
      "А------------қ-з------т----------а-----------у => Ақзтау              , gt: Ақтау               \n",
      "Г-о---рр---нн-------я------у---к-----ш-------й => Горняукшй           , gt: Горняцкий           \n",
      "И----------   --д----о----б-----р----ы-------й => И добрый            , gt: И добрый            \n",
      "П-о---д------  сс-кк--а----л--ьь--п-е---л-ее-и => Под скальпелеи      , gt: Под скальпелем      \n",
      "д-------п-------и---и--------г---и--------т--- => дпиигит             , gt: джигит              \n",
      "Lr now: 0.001\n"
     ]
    },
    {
     "data": {
      "application/vnd.jupyter.widget-view+json": {
       "model_id": "3de2e793e7eb41ad977721668af0cffa",
       "version_major": 2,
       "version_minor": 0
      },
      "text/plain": [
       "HBox(children=(FloatProgress(value=0.0, layout=Layout(flex='2'), max=711.0), HTML(value='')), layout=Layout(di…"
      ]
     },
     "metadata": {},
     "output_type": "display_data"
    },
    {
     "name": "stderr",
     "output_type": "stream",
     "text": [
      "IOPub message rate exceeded.\n",
      "The notebook server will temporarily stop sending output\n",
      "to the client in order to avoid crashing it.\n",
      "To change this limit, set the config variable\n",
      "`--NotebookApp.iopub_msg_rate_limit`.\n",
      "\n",
      "Current values:\n",
      "NotebookApp.iopub_msg_rate_limit=1000.0 (msgs/sec)\n",
      "NotebookApp.rate_limit_window=3.0 (secs)\n",
      "\n"
     ]
    },
    {
     "name": "stdout",
     "output_type": "stream",
     "text": [
      "\n",
      "А------------к------т----------о-------б-----е => Актобе              , gt: Актобе              \n",
      "А-----бб---хх-------а-----з----и---е------яяя- => Абхазиея            , gt: Абхазия             \n",
      "пы-л-о----  о--тт----   р-а---з--л--у--к--и,,— => пыло от разлуки,—   , gt: ныло от разлуки,—   \n",
      "Узз--б--е-----к----ии-----с----т--------а----н => Узбекистан          , gt: Узбекистан          \n",
      "К--о----с----т-------а-------н------а-------йй => Костанай            , gt: Костанай            \n",
      "Lr now: 0.001\n"
     ]
    },
    {
     "data": {
      "application/vnd.jupyter.widget-view+json": {
       "model_id": "e5beeadea8a1429aad6fafcdd387a7fd",
       "version_major": 2,
       "version_minor": 0
      },
      "text/plain": [
       "HBox(children=(FloatProgress(value=0.0, layout=Layout(flex='2'), max=711.0), HTML(value='')), layout=Layout(di…"
      ]
     },
     "metadata": {},
     "output_type": "display_data"
    },
    {
     "name": "stdout",
     "output_type": "stream",
     "text": [
      "\n"
     ]
    },
    {
     "data": {
      "application/vnd.jupyter.widget-view+json": {
       "model_id": "c9b4f2e6836f4c31b7b9c48387c7c5fb",
       "version_major": 2,
       "version_minor": 0
      },
      "text/plain": [
       "HBox(children=(FloatProgress(value=0.0, layout=Layout(flex='2'), max=146.0), HTML(value='')), layout=Layout(di…"
      ]
     },
     "metadata": {},
     "output_type": "display_data"
    },
    {
     "name": "stderr",
     "output_type": "stream",
     "text": [
      "IOPub message rate exceeded.\n",
      "The notebook server will temporarily stop sending output\n",
      "to the client in order to avoid crashing it.\n",
      "To change this limit, set the config variable\n",
      "`--NotebookApp.iopub_msg_rate_limit`.\n",
      "\n",
      "Current values:\n",
      "NotebookApp.iopub_msg_rate_limit=1000.0 (msgs/sec)\n",
      "NotebookApp.rate_limit_window=3.0 (secs)\n",
      "\n"
     ]
    },
    {
     "name": "stdout",
     "output_type": "stream",
     "text": [
      "\n"
     ]
    },
    {
     "data": {
      "application/vnd.jupyter.widget-view+json": {
       "model_id": "d9b793a3a61a4cffb41a12f231523d41",
       "version_major": 2,
       "version_minor": 0
      },
      "text/plain": [
       "HBox(children=(FloatProgress(value=0.0, layout=Layout(flex='2'), max=146.0), HTML(value='')), layout=Layout(di…"
      ]
     },
     "metadata": {},
     "output_type": "display_data"
    },
    {
     "name": "stdout",
     "output_type": "stream",
     "text": [
      "\n",
      "ст---чч-ии---зз--н--ы-------   м------о---е--й => стчизны моей        , gt: отчизны моей        \n",
      "Дли-я---   м---ии-рр--н-о---й---   ж---ии-ззни => Длия мирной жизни   , gt: Для мирной жизни    \n",
      "Г---дд--ее-----------------  -к---оо------ч-ьь => Где кочь            , gt: Где ночь            \n",
      "Н-о-- -т------щ-ее--т---н--ыы----   м--ее-чтта => Но тщетны мечта     , gt: Но тщетны мечты,    \n",
      "обе-д--а--лл---  ччее-р---т----   з--н--а--еет => обедал черт знает   , gt: обедал черт знает   \n",
      "Lr now: 0.001\n"
     ]
    },
    {
     "data": {
      "application/vnd.jupyter.widget-view+json": {
       "model_id": "4d533d4e2f284223a337ad59e6eb32d1",
       "version_major": 2,
       "version_minor": 0
      },
      "text/plain": [
       "HBox(children=(FloatProgress(value=0.0, layout=Layout(flex='2'), max=711.0), HTML(value='')), layout=Layout(di…"
      ]
     },
     "metadata": {},
     "output_type": "display_data"
    },
    {
     "name": "stderr",
     "output_type": "stream",
     "text": [
      "IOPub message rate exceeded.\n",
      "The notebook server will temporarily stop sending output\n",
      "to the client in order to avoid crashing it.\n",
      "To change this limit, set the config variable\n",
      "`--NotebookApp.iopub_msg_rate_limit`.\n",
      "\n",
      "Current values:\n",
      "NotebookApp.iopub_msg_rate_limit=1000.0 (msgs/sec)\n",
      "NotebookApp.rate_limit_window=3.0 (secs)\n",
      "\n"
     ]
    },
    {
     "name": "stdout",
     "output_type": "stream",
     "text": [
      "\n"
     ]
    },
    {
     "data": {
      "application/vnd.jupyter.widget-view+json": {
       "model_id": "ed997d17bf2e489296786a9b95289954",
       "version_major": 2,
       "version_minor": 0
      },
      "text/plain": [
       "HBox(children=(FloatProgress(value=0.0, layout=Layout(flex='2'), max=146.0), HTML(value='')), layout=Layout(di…"
      ]
     },
     "metadata": {},
     "output_type": "display_data"
    },
    {
     "name": "stdout",
     "output_type": "stream",
     "text": [
      "\n",
      "е-гг--о---------  -п---ии-----т-----а----ее--т => его питает          , gt: его питает          \n",
      "но-п--н---о----  сс--о---д---а---н--е--ш---иий => нопно соданеший     , gt: полно сожалений     \n",
      "Он---и---,,,---   -т-о----м----к----а----я--сь => Они, томкаясь       , gt: Они, толкаясь       \n",
      "я-----------с-------т---------а-----------л--- => ястал               , gt: Я стал              \n",
      "Ко--рр-а----гг--а---н-----д---и--нн--сс--к-а-с => Корагандинскас      , gt: Карагандинская      \n",
      "Lr now: 0.001\n"
     ]
    },
    {
     "data": {
      "application/vnd.jupyter.widget-view+json": {
       "model_id": "7cb03365d17b439f8d6827e8f705777d",
       "version_major": 2,
       "version_minor": 0
      },
      "text/plain": [
       "HBox(children=(FloatProgress(value=0.0, layout=Layout(flex='2'), max=711.0), HTML(value='')), layout=Layout(di…"
      ]
     },
     "metadata": {},
     "output_type": "display_data"
    },
    {
     "name": "stderr",
     "output_type": "stream",
     "text": [
      "IOPub message rate exceeded.\n",
      "The notebook server will temporarily stop sending output\n",
      "to the client in order to avoid crashing it.\n",
      "To change this limit, set the config variable\n",
      "`--NotebookApp.iopub_msg_rate_limit`.\n",
      "\n",
      "Current values:\n",
      "NotebookApp.iopub_msg_rate_limit=1000.0 (msgs/sec)\n",
      "NotebookApp.rate_limit_window=3.0 (secs)\n",
      "\n"
     ]
    },
    {
     "name": "stdout",
     "output_type": "stream",
     "text": [
      "\n"
     ]
    },
    {
     "data": {
      "application/vnd.jupyter.widget-view+json": {
       "model_id": "c636a01f90fa412286fa6021ec2d2db7",
       "version_major": 2,
       "version_minor": 0
      },
      "text/plain": [
       "HBox(children=(FloatProgress(value=0.0, layout=Layout(flex='2'), max=146.0), HTML(value='')), layout=Layout(di…"
      ]
     },
     "metadata": {},
     "output_type": "display_data"
    },
    {
     "name": "stdout",
     "output_type": "stream",
     "text": [
      "\n",
      "Он-ии--,,,---   -т-----о---лл---кк--а-----я-сь => Они, толкаясь       , gt: Они, толкаясь       \n",
      "А-------к----------т------------а------------у => Актау               , gt: Актау               \n",
      "Север-нно-----КК-а--з-аа--х-сс-тт-а--ннсс-ккая => Северно-Казахстанская, gt: Северно-Казахстанская\n",
      "вооо------   -в--ссее-------  -к-оо--м---ц--ы, => во все комцы,       , gt: во все концы,       \n",
      "К----Ы-------З----Ы------Л---О-----РР----Д---А => КЫЗЫЛОРДА           , gt: КЫЗЫЛОРДА           \n",
      "Lr now: 0.001\n"
     ]
    },
    {
     "data": {
      "application/vnd.jupyter.widget-view+json": {
       "model_id": "29d8e2bd95814b77bf402dbbe60e1299",
       "version_major": 2,
       "version_minor": 0
      },
      "text/plain": [
       "HBox(children=(FloatProgress(value=0.0, layout=Layout(flex='2'), max=711.0), HTML(value='')), layout=Layout(di…"
      ]
     },
     "metadata": {},
     "output_type": "display_data"
    },
    {
     "name": "stderr",
     "output_type": "stream",
     "text": [
      "IOPub message rate exceeded.\n",
      "The notebook server will temporarily stop sending output\n",
      "to the client in order to avoid crashing it.\n",
      "To change this limit, set the config variable\n",
      "`--NotebookApp.iopub_msg_rate_limit`.\n",
      "\n",
      "Current values:\n",
      "NotebookApp.iopub_msg_rate_limit=1000.0 (msgs/sec)\n",
      "NotebookApp.rate_limit_window=3.0 (secs)\n",
      "\n"
     ]
    },
    {
     "name": "stdout",
     "output_type": "stream",
     "text": [
      "\n"
     ]
    },
    {
     "data": {
      "application/vnd.jupyter.widget-view+json": {
       "model_id": "8967809636e042d494f1d20858445ab0",
       "version_major": 2,
       "version_minor": 0
      },
      "text/plain": [
       "HBox(children=(FloatProgress(value=0.0, layout=Layout(flex='2'), max=146.0), HTML(value='')), layout=Layout(di…"
      ]
     },
     "metadata": {},
     "output_type": "display_data"
    },
    {
     "name": "stdout",
     "output_type": "stream",
     "text": [
      "\n",
      "т-----------А----------Р--------А-----------З- => тАРАЗ               , gt: ТАРАЗ               \n",
      "К----о----с----т--------а------н------а------й => Костанай            , gt: Костанай            \n",
      "А----р------а--------и---------ь-----с----к--- => Араиьск             , gt: Аральск             \n",
      "Ужть------К--а---м-----е---н----о--ггоо---р-ск => Ужть-Каменогорск    , gt: Усть-Каменогорск    \n",
      "г--рр-----ее-----м---------е------л--------  — => гремел —            , gt: гремел —            \n",
      "Lr now: 0.001\n"
     ]
    },
    {
     "data": {
      "application/vnd.jupyter.widget-view+json": {
       "model_id": "1f444c24c50f44408e18f6afcb316656",
       "version_major": 2,
       "version_minor": 0
      },
      "text/plain": [
       "HBox(children=(FloatProgress(value=0.0, layout=Layout(flex='2'), max=711.0), HTML(value='')), layout=Layout(di…"
      ]
     },
     "metadata": {},
     "output_type": "display_data"
    },
    {
     "name": "stderr",
     "output_type": "stream",
     "text": [
      "IOPub message rate exceeded.\n",
      "The notebook server will temporarily stop sending output\n",
      "to the client in order to avoid crashing it.\n",
      "To change this limit, set the config variable\n",
      "`--NotebookApp.iopub_msg_rate_limit`.\n",
      "\n",
      "Current values:\n",
      "NotebookApp.iopub_msg_rate_limit=1000.0 (msgs/sec)\n",
      "NotebookApp.rate_limit_window=3.0 (secs)\n",
      "\n"
     ]
    },
    {
     "name": "stdout",
     "output_type": "stream",
     "text": [
      "\n",
      "Онн--а--------  -л-ее--ж--с--а----л--а------ в => Она лежсала в       , gt: Она лежала в        \n",
      "П---оо------с-----е------л---------о--------к- => Поселок             , gt: Поселок             \n",
      "у-----ддд----а---------л-------я--------я----. => удаляя.             , gt: удаляя.             \n",
      "П------у----р------к----ее----с----тт---а----н => Пуркестан           , gt: Туркестан           \n",
      "с----вв---------о--------ю-------------------… => свою…               , gt: свою…               \n",
      "Lr now: 0.001\n"
     ]
    },
    {
     "data": {
      "application/vnd.jupyter.widget-view+json": {
       "model_id": "1a3501aa88524838a4f837f908fd391f",
       "version_major": 2,
       "version_minor": 0
      },
      "text/plain": [
       "HBox(children=(FloatProgress(value=0.0, layout=Layout(flex='2'), max=711.0), HTML(value='')), layout=Layout(di…"
      ]
     },
     "metadata": {},
     "output_type": "display_data"
    },
    {
     "name": "stderr",
     "output_type": "stream",
     "text": [
      "IOPub message rate exceeded.\n",
      "The notebook server will temporarily stop sending output\n",
      "to the client in order to avoid crashing it.\n",
      "To change this limit, set the config variable\n",
      "`--NotebookApp.iopub_msg_rate_limit`.\n",
      "\n",
      "Current values:\n",
      "NotebookApp.iopub_msg_rate_limit=1000.0 (msgs/sec)\n",
      "NotebookApp.rate_limit_window=3.0 (secs)\n",
      "\n"
     ]
    },
    {
     "name": "stdout",
     "output_type": "stream",
     "text": [
      "\n"
     ]
    },
    {
     "data": {
      "application/vnd.jupyter.widget-view+json": {
       "model_id": "d50f4f0a102b4570845fe011162f125a",
       "version_major": 2,
       "version_minor": 0
      },
      "text/plain": [
       "HBox(children=(FloatProgress(value=0.0, layout=Layout(flex='2'), max=146.0), HTML(value='')), layout=Layout(di…"
      ]
     },
     "metadata": {},
     "output_type": "display_data"
    },
    {
     "name": "stdout",
     "output_type": "stream",
     "text": [
      "\n",
      "Алововмии-нороо--с-т--вв--и-л-оы-------------- => Алововминороствилоы , gt: влюбленное вино     \n",
      "От---в--а---ж--с--нн--ыы-------бб--ы--яя--зоьь => Отважсныбыязоь      , gt: отважных бойцов     \n",
      "О---п---я-----------ыы----------о--дд---н---у, => Опяыодну,           , gt: Опять одна,         \n",
      "Заппадд-ноо----КК-а--з-а-ххсс-тт-а---нсс--каая => Западно-Казахстанская, gt: Западно-Казахстанская\n",
      "У---з----б---е---к-----и---------т------а---н, => Узбекитан,          , gt: Узбекистан          \n",
      "Lr now: 0.001\n"
     ]
    },
    {
     "data": {
      "application/vnd.jupyter.widget-view+json": {
       "model_id": "0a8b83f1259047e991a49fff28b23022",
       "version_major": 2,
       "version_minor": 0
      },
      "text/plain": [
       "HBox(children=(FloatProgress(value=0.0, layout=Layout(flex='2'), max=711.0), HTML(value='')), layout=Layout(di…"
      ]
     },
     "metadata": {},
     "output_type": "display_data"
    },
    {
     "name": "stderr",
     "output_type": "stream",
     "text": [
      "IOPub message rate exceeded.\n",
      "The notebook server will temporarily stop sending output\n",
      "to the client in order to avoid crashing it.\n",
      "To change this limit, set the config variable\n",
      "`--NotebookApp.iopub_msg_rate_limit`.\n",
      "\n",
      "Current values:\n",
      "NotebookApp.iopub_msg_rate_limit=1000.0 (msgs/sec)\n",
      "NotebookApp.rate_limit_window=3.0 (secs)\n",
      "\n"
     ]
    },
    {
     "name": "stdout",
     "output_type": "stream",
     "text": [
      "\n"
     ]
    },
    {
     "data": {
      "application/vnd.jupyter.widget-view+json": {
       "model_id": "b0ebb06b57544462bfe88e8f2a59bd60",
       "version_major": 2,
       "version_minor": 0
      },
      "text/plain": [
       "HBox(children=(FloatProgress(value=0.0, layout=Layout(flex='2'), max=146.0), HTML(value='')), layout=Layout(di…"
      ]
     },
     "metadata": {},
     "output_type": "display_data"
    },
    {
     "name": "stdout",
     "output_type": "stream",
     "text": [
      "\n",
      "ны--л--о--- о--тт----  р--о-з--м--уу--к--и-,,— => ныло от розмуки,—   , gt: ныло от разлуки,—   \n",
      "ка---к--------   -м---о---л--о---д---о---сстть => как молодость       , gt: как молодость       \n",
      "Ок---тт------я---б---р---ь---с---к-----и----йй => Октябрьский         , gt: Октябрьский         \n",
      "Б---а------ййй-------к-------о---н--------ы--ю => Байконыю            , gt: Байконыр            \n",
      "х----------а------лл---------------б---------- => халб                , gt: хлеб,               \n",
      "Lr now: 0.0001\n"
     ]
    },
    {
     "data": {
      "application/vnd.jupyter.widget-view+json": {
       "model_id": "af52c4eef5474061a360b3e34d7743a4",
       "version_major": 2,
       "version_minor": 0
      },
      "text/plain": [
       "HBox(children=(FloatProgress(value=0.0, layout=Layout(flex='2'), max=711.0), HTML(value='')), layout=Layout(di…"
      ]
     },
     "metadata": {},
     "output_type": "display_data"
    },
    {
     "name": "stderr",
     "output_type": "stream",
     "text": [
      "IOPub message rate exceeded.\n",
      "The notebook server will temporarily stop sending output\n",
      "to the client in order to avoid crashing it.\n",
      "To change this limit, set the config variable\n",
      "`--NotebookApp.iopub_msg_rate_limit`.\n",
      "\n",
      "Current values:\n",
      "NotebookApp.iopub_msg_rate_limit=1000.0 (msgs/sec)\n",
      "NotebookApp.rate_limit_window=3.0 (secs)\n",
      "\n"
     ]
    },
    {
     "name": "stdout",
     "output_type": "stream",
     "text": [
      "\n"
     ]
    },
    {
     "data": {
      "application/vnd.jupyter.widget-view+json": {
       "model_id": "2589b03da958422dbf363d58758f2b42",
       "version_major": 2,
       "version_minor": 0
      },
      "text/plain": [
       "HBox(children=(FloatProgress(value=0.0, layout=Layout(flex='2'), max=146.0), HTML(value='')), layout=Layout(di…"
      ]
     },
     "metadata": {},
     "output_type": "display_data"
    },
    {
     "name": "stdout",
     "output_type": "stream",
     "text": [
      "\n",
      "А---л-------м------------а-------т----------ы- => Алматы              , gt: Алматы              \n",
      "б-----------у----лл------а-------ее-----вв---о => булаево             , gt: Булаево             \n",
      "Ихх-------   -з--а----б---в-ее--н----н---ы---й => Их забвенный        , gt: Их забвенный        \n",
      "с----аа------р-------к------а--------л-------- => саркал              , gt: Сарканд             \n",
      "ВоСт-оо-чч-н-О--   К-а--З-а--Х--с--т-а--Н-СкАЯ => ВоСточнО КаЗаХстаНСкАЯ, gt: Восточно-Казахстанская\n",
      "Lr now: 0.0001\n"
     ]
    },
    {
     "data": {
      "application/vnd.jupyter.widget-view+json": {
       "model_id": "1c16a9a56d6b4dbab51f435aa0a7d766",
       "version_major": 2,
       "version_minor": 0
      },
      "text/plain": [
       "HBox(children=(FloatProgress(value=0.0, layout=Layout(flex='2'), max=711.0), HTML(value='')), layout=Layout(di…"
      ]
     },
     "metadata": {},
     "output_type": "display_data"
    },
    {
     "name": "stderr",
     "output_type": "stream",
     "text": [
      "IOPub message rate exceeded.\n",
      "The notebook server will temporarily stop sending output\n",
      "to the client in order to avoid crashing it.\n",
      "To change this limit, set the config variable\n",
      "`--NotebookApp.iopub_msg_rate_limit`.\n",
      "\n",
      "Current values:\n",
      "NotebookApp.iopub_msg_rate_limit=1000.0 (msgs/sec)\n",
      "NotebookApp.rate_limit_window=3.0 (secs)\n",
      "\n"
     ]
    },
    {
     "name": "stdout",
     "output_type": "stream",
     "text": [
      "\n"
     ]
    },
    {
     "data": {
      "application/vnd.jupyter.widget-view+json": {
       "model_id": "33f17844bf4b43a09af9fef5541fb766",
       "version_major": 2,
       "version_minor": 0
      },
      "text/plain": [
       "HBox(children=(FloatProgress(value=0.0, layout=Layout(flex='2'), max=146.0), HTML(value='')), layout=Layout(di…"
      ]
     },
     "metadata": {},
     "output_type": "display_data"
    },
    {
     "name": "stdout",
     "output_type": "stream",
     "text": [
      "\n",
      "А--------с------т------а------нн----------а--- => Астана              , gt: Астана              \n",
      "А-------т---------а------------с------------уу => Атасу               , gt: Атасу               \n",
      "Ж-----а----м-----б---ы----л---ь--с----к--аа--я => Жамбыльская         , gt: Жамбыльская         \n",
      "А--------------бб-----------а-------------йй-- => Абай                , gt: Абай                \n",
      "п--о-----з---а-------б-----ыы------м----ии---, => позабыми,           , gt: позабыли,           \n",
      "Lr now: 0.0001\n"
     ]
    },
    {
     "data": {
      "application/vnd.jupyter.widget-view+json": {
       "model_id": "2f83bd0647714b61a51e59164a165926",
       "version_major": 2,
       "version_minor": 0
      },
      "text/plain": [
       "HBox(children=(FloatProgress(value=0.0, layout=Layout(flex='2'), max=711.0), HTML(value='')), layout=Layout(di…"
      ]
     },
     "metadata": {},
     "output_type": "display_data"
    },
    {
     "name": "stderr",
     "output_type": "stream",
     "text": [
      "IOPub message rate exceeded.\n",
      "The notebook server will temporarily stop sending output\n",
      "to the client in order to avoid crashing it.\n",
      "To change this limit, set the config variable\n",
      "`--NotebookApp.iopub_msg_rate_limit`.\n",
      "\n",
      "Current values:\n",
      "NotebookApp.iopub_msg_rate_limit=1000.0 (msgs/sec)\n",
      "NotebookApp.rate_limit_window=3.0 (secs)\n",
      "\n"
     ]
    },
    {
     "name": "stdout",
     "output_type": "stream",
     "text": [
      "\n",
      "и з--а--м-ие--чч--и---л--о-----  -р--о---м--ыы => и замиечило ромы    , gt: и залечила раны     \n",
      "К--а-----з-----а-------х-----с---т-------а---н => Казахстан           , gt: Казахстан           \n",
      "Лишш--ь--   б-ы---   н-е-- пп-роо--с-т---иитьь => Лишь бы не простить , gt: Лишь бы не простить \n",
      "З-а----рр-----ы------в-----ш-------и------с--ь => Зарывшись           , gt: Зарывшись           \n",
      "ч---а------сс-----о------в------аа---------я-- => часовая             , gt: часовая             \n",
      "Lr now: 0.0001\n"
     ]
    },
    {
     "data": {
      "application/vnd.jupyter.widget-view+json": {
       "model_id": "57359ea9f1ab49968f5ebde30fa45865",
       "version_major": 2,
       "version_minor": 0
      },
      "text/plain": [
       "HBox(children=(FloatProgress(value=0.0, layout=Layout(flex='2'), max=711.0), HTML(value='')), layout=Layout(di…"
      ]
     },
     "metadata": {},
     "output_type": "display_data"
    },
    {
     "name": "stdout",
     "output_type": "stream",
     "text": [
      "\n"
     ]
    },
    {
     "data": {
      "application/vnd.jupyter.widget-view+json": {
       "model_id": "54f9464be57147b483e3d9bcd0396403",
       "version_major": 2,
       "version_minor": 0
      },
      "text/plain": [
       "HBox(children=(FloatProgress(value=0.0, layout=Layout(flex='2'), max=146.0), HTML(value='')), layout=Layout(di…"
      ]
     },
     "metadata": {},
     "output_type": "display_data"
    },
    {
     "name": "stderr",
     "output_type": "stream",
     "text": [
      "IOPub message rate exceeded.\n",
      "The notebook server will temporarily stop sending output\n",
      "to the client in order to avoid crashing it.\n",
      "To change this limit, set the config variable\n",
      "`--NotebookApp.iopub_msg_rate_limit`.\n",
      "\n",
      "Current values:\n",
      "NotebookApp.iopub_msg_rate_limit=1000.0 (msgs/sec)\n",
      "NotebookApp.rate_limit_window=3.0 (secs)\n",
      "\n"
     ]
    },
    {
     "name": "stdout",
     "output_type": "stream",
     "text": [
      "\n"
     ]
    },
    {
     "data": {
      "application/vnd.jupyter.widget-view+json": {
       "model_id": "4d8b84c2179c4e5a9d2931db50fe42a2",
       "version_major": 2,
       "version_minor": 0
      },
      "text/plain": [
       "HBox(children=(FloatProgress(value=0.0, layout=Layout(flex='2'), max=146.0), HTML(value='')), layout=Layout(di…"
      ]
     },
     "metadata": {},
     "output_type": "display_data"
    },
    {
     "name": "stdout",
     "output_type": "stream",
     "text": [
      "\n",
      "А----------с-----т---------а------н--------а-- => Астана              , gt: Астана              \n",
      "А------т----------ыы--------рр------а--------у => Атырау              , gt: Атырау              \n",
      "мии--рр--н-ыы---й----   т----р--о---ш---т-оор, => мирный троштор,     , gt: мирный трактор,     \n",
      "М----О------Л-----Д---------А-----В------И---Я => МОЛДАВИЯ            , gt: МОЛДАВИЯ            \n",
      "Вост-ыы----нн--о---КК-аа-зза-ххсс-тт-аа-ннская => Востыно-Казахстанская, gt: Восточно-Казахстанская\n",
      "Lr now: 0.0001\n"
     ]
    },
    {
     "data": {
      "application/vnd.jupyter.widget-view+json": {
       "model_id": "76924c5cc4904129ba26755b3c36e98f",
       "version_major": 2,
       "version_minor": 0
      },
      "text/plain": [
       "HBox(children=(FloatProgress(value=0.0, layout=Layout(flex='2'), max=711.0), HTML(value='')), layout=Layout(di…"
      ]
     },
     "metadata": {},
     "output_type": "display_data"
    },
    {
     "name": "stderr",
     "output_type": "stream",
     "text": [
      "IOPub message rate exceeded.\n",
      "The notebook server will temporarily stop sending output\n",
      "to the client in order to avoid crashing it.\n",
      "To change this limit, set the config variable\n",
      "`--NotebookApp.iopub_msg_rate_limit`.\n",
      "\n",
      "Current values:\n",
      "NotebookApp.iopub_msg_rate_limit=1000.0 (msgs/sec)\n",
      "NotebookApp.rate_limit_window=3.0 (secs)\n",
      "\n"
     ]
    },
    {
     "name": "stdout",
     "output_type": "stream",
     "text": [
      "\n"
     ]
    },
    {
     "data": {
      "application/vnd.jupyter.widget-view+json": {
       "model_id": "a4e7c73822f348a089be327b2dcf8cc1",
       "version_major": 2,
       "version_minor": 0
      },
      "text/plain": [
       "HBox(children=(FloatProgress(value=0.0, layout=Layout(flex='2'), max=146.0), HTML(value='')), layout=Layout(di…"
      ]
     },
     "metadata": {},
     "output_type": "display_data"
    },
    {
     "name": "stdout",
     "output_type": "stream",
     "text": [
      "\n",
      "я---д------  --д-----р-----у----г--и------и--, => яд другии,          , gt: яд другим,          \n",
      "А---л----м-----а----т----и---нн---сс---к--аа-я => Алматинская         , gt: Алматинская         \n",
      "Т-а--------й-----ы--------н------ш-----------я => Тайыншя             , gt: Тайынша             \n",
      "Б--е------Л-----О-----Р-----У---С-----И------Я => БеЛОРУСИЯ           , gt: БЕЛОРУСИЯ           \n",
      "Т------ее---н----рр--оо---л--е---в---л-ооо-сск => Тенролевлоск        , gt: Пепропавловск       \n",
      "Lr now: 0.0001\n"
     ]
    },
    {
     "data": {
      "application/vnd.jupyter.widget-view+json": {
       "model_id": "0acd9466ea9049498e4d60344915c272",
       "version_major": 2,
       "version_minor": 0
      },
      "text/plain": [
       "HBox(children=(FloatProgress(value=0.0, layout=Layout(flex='2'), max=711.0), HTML(value='')), layout=Layout(di…"
      ]
     },
     "metadata": {},
     "output_type": "display_data"
    },
    {
     "name": "stderr",
     "output_type": "stream",
     "text": [
      "IOPub message rate exceeded.\n",
      "The notebook server will temporarily stop sending output\n",
      "to the client in order to avoid crashing it.\n",
      "To change this limit, set the config variable\n",
      "`--NotebookApp.iopub_msg_rate_limit`.\n",
      "\n",
      "Current values:\n",
      "NotebookApp.iopub_msg_rate_limit=1000.0 (msgs/sec)\n",
      "NotebookApp.rate_limit_window=3.0 (secs)\n",
      "\n"
     ]
    },
    {
     "name": "stdout",
     "output_type": "stream",
     "text": [
      "\n",
      "Р--------о------с-----------е---------------я- => Росея               , gt: Россия              \n",
      "К------о---сс---тт--------а-------н------а---й => Костанай            , gt: Костанай            \n",
      "Кв-оо---рр-аа--г--а----н-----д-ии-н--с---к-аая => Кворагандинская     , gt: Карагандинская      \n",
      "Вн-ии---мм--а--е---м------  ооо-д--н--ии---мм, => Внимаем одним,      , gt: Внимаем одним,      \n",
      "Уст---ь--------КК--а----м--ее--н--а---гоо-ррск => Усть-Каменагорск    , gt: Усть-Каменогорск    \n",
      "Lr now: 0.0001\n"
     ]
    },
    {
     "data": {
      "application/vnd.jupyter.widget-view+json": {
       "model_id": "4c3fdacb4a0d410ebf344dcccb41dc9d",
       "version_major": 2,
       "version_minor": 0
      },
      "text/plain": [
       "HBox(children=(FloatProgress(value=0.0, layout=Layout(flex='2'), max=711.0), HTML(value='')), layout=Layout(di…"
      ]
     },
     "metadata": {},
     "output_type": "display_data"
    },
    {
     "name": "stdout",
     "output_type": "stream",
     "text": [
      "\n"
     ]
    },
    {
     "data": {
      "application/vnd.jupyter.widget-view+json": {
       "model_id": "ae8ef4e4eaaf42149e39f1a7f4cc974d",
       "version_major": 2,
       "version_minor": 0
      },
      "text/plain": [
       "HBox(children=(FloatProgress(value=0.0, layout=Layout(flex='2'), max=146.0), HTML(value='')), layout=Layout(di…"
      ]
     },
     "metadata": {},
     "output_type": "display_data"
    },
    {
     "name": "stderr",
     "output_type": "stream",
     "text": [
      "IOPub message rate exceeded.\n",
      "The notebook server will temporarily stop sending output\n",
      "to the client in order to avoid crashing it.\n",
      "To change this limit, set the config variable\n",
      "`--NotebookApp.iopub_msg_rate_limit`.\n",
      "\n",
      "Current values:\n",
      "NotebookApp.iopub_msg_rate_limit=1000.0 (msgs/sec)\n",
      "NotebookApp.rate_limit_window=3.0 (secs)\n",
      "\n"
     ]
    },
    {
     "name": "stdout",
     "output_type": "stream",
     "text": [
      "\n"
     ]
    },
    {
     "data": {
      "application/vnd.jupyter.widget-view+json": {
       "model_id": "33cc3981575f4dfb8ecee02c28d3abfc",
       "version_major": 2,
       "version_minor": 0
      },
      "text/plain": [
       "HBox(children=(FloatProgress(value=0.0, layout=Layout(flex='2'), max=146.0), HTML(value='')), layout=Layout(di…"
      ]
     },
     "metadata": {},
     "output_type": "display_data"
    },
    {
     "name": "stdout",
     "output_type": "stream",
     "text": [
      "\n",
      "Где----  -в-   з-а--м--кк-е-----   п--уссстом, => Где в замке пустом, , gt: Где в замке пустом, \n",
      "Позз-вв-оо---л---л---я------- сс--вв-о---ие--м => Позволля своием     , gt: Позволяя своим      \n",
      "Ж-----А---М----ББ---Ы-----Л---Ь----С---К----ая => ЖАМБЫЛЬСКая         , gt: ЖАМБЫЛЬСКАЯ         \n",
      "помл--я---тт--и-----------   н--а---р-о--д-ной => помляти народной    , gt: памяти народной     \n",
      "П-о-------ц-----е------л---------у-------й---, => Поцелуй,            , gt: Поцелуй,            \n",
      "Lr now: 0.0001\n"
     ]
    },
    {
     "data": {
      "application/vnd.jupyter.widget-view+json": {
       "model_id": "c5524d3943e6477f81bca15a42939906",
       "version_major": 2,
       "version_minor": 0
      },
      "text/plain": [
       "HBox(children=(FloatProgress(value=0.0, layout=Layout(flex='2'), max=711.0), HTML(value='')), layout=Layout(di…"
      ]
     },
     "metadata": {},
     "output_type": "display_data"
    },
    {
     "name": "stderr",
     "output_type": "stream",
     "text": [
      "IOPub message rate exceeded.\n",
      "The notebook server will temporarily stop sending output\n",
      "to the client in order to avoid crashing it.\n",
      "To change this limit, set the config variable\n",
      "`--NotebookApp.iopub_msg_rate_limit`.\n",
      "\n",
      "Current values:\n",
      "NotebookApp.iopub_msg_rate_limit=1000.0 (msgs/sec)\n",
      "NotebookApp.rate_limit_window=3.0 (secs)\n",
      "\n"
     ]
    },
    {
     "name": "stdout",
     "output_type": "stream",
     "text": [
      "\n"
     ]
    },
    {
     "data": {
      "application/vnd.jupyter.widget-view+json": {
       "model_id": "87eda07462934cc8ad1c9de9341d5932",
       "version_major": 2,
       "version_minor": 0
      },
      "text/plain": [
       "HBox(children=(FloatProgress(value=0.0, layout=Layout(flex='2'), max=146.0), HTML(value='')), layout=Layout(di…"
      ]
     },
     "metadata": {},
     "output_type": "display_data"
    },
    {
     "name": "stdout",
     "output_type": "stream",
     "text": [
      "\n",
      "А-к--тт---ююю-----б----а----н----сс---к---а--я => Актюбанская         , gt: Актюбинская         \n",
      "Всстт--а---ю----т-------   ггрр--о--м--а---д-ы => Встают громады      , gt: Встают громады      \n",
      "Чт--о-----   -д--о--б--рр-о---д-ее--т----е--ль => Что добродетель     , gt: Что добродетель     \n",
      "Рее--б---я--тт-------   -у---ж----ее-----  -не => Ребят уже не        , gt: Ребят уже не        \n",
      "К-----о----с----т---------а------н-----аа----й => Костанай            , gt: Костанай            \n",
      "Lr now: 0.0001\n"
     ]
    },
    {
     "data": {
      "application/vnd.jupyter.widget-view+json": {
       "model_id": "8526be9021964690a78f54ad4c20d91a",
       "version_major": 2,
       "version_minor": 0
      },
      "text/plain": [
       "HBox(children=(FloatProgress(value=0.0, layout=Layout(flex='2'), max=711.0), HTML(value='')), layout=Layout(di…"
      ]
     },
     "metadata": {},
     "output_type": "display_data"
    },
    {
     "name": "stderr",
     "output_type": "stream",
     "text": [
      "IOPub message rate exceeded.\n",
      "The notebook server will temporarily stop sending output\n",
      "to the client in order to avoid crashing it.\n",
      "To change this limit, set the config variable\n",
      "`--NotebookApp.iopub_msg_rate_limit`.\n",
      "\n",
      "Current values:\n",
      "NotebookApp.iopub_msg_rate_limit=1000.0 (msgs/sec)\n",
      "NotebookApp.rate_limit_window=3.0 (secs)\n",
      "\n"
     ]
    },
    {
     "name": "stdout",
     "output_type": "stream",
     "text": [
      "\n",
      "СЕВ-Е--Р-Н-О----КК-а--ЗАА--хС--Т-А--Н--С--К-ая => СЕВЕРНО-КаЗАхСТАНСКая, gt: СЕВЕРНО-КАЗАХСТАНСКАЯ\n",
      "Б-----о----л------------хх------а------ш------ => Болхаш              , gt: Балхаш              \n",
      "ка--н--а-----я-------   к--о---л--ы----б--е-ль => каная колыбель      , gt: качая колыбель      \n",
      "К----ии-----рр-----г------И------з----и------я => КиргИзия            , gt: Киргизия            \n",
      "т-------уу-----м---------а-------н-------ы---- => туманы              , gt: туманы              \n",
      "Lr now: 0.0001\n"
     ]
    },
    {
     "data": {
      "application/vnd.jupyter.widget-view+json": {
       "model_id": "d0e1234577434470b4e0f931b5c6db65",
       "version_major": 2,
       "version_minor": 0
      },
      "text/plain": [
       "HBox(children=(FloatProgress(value=0.0, layout=Layout(flex='2'), max=711.0), HTML(value='')), layout=Layout(di…"
      ]
     },
     "metadata": {},
     "output_type": "display_data"
    },
    {
     "name": "stderr",
     "output_type": "stream",
     "text": [
      "IOPub message rate exceeded.\n",
      "The notebook server will temporarily stop sending output\n",
      "to the client in order to avoid crashing it.\n",
      "To change this limit, set the config variable\n",
      "`--NotebookApp.iopub_msg_rate_limit`.\n",
      "\n",
      "Current values:\n",
      "NotebookApp.iopub_msg_rate_limit=1000.0 (msgs/sec)\n",
      "NotebookApp.rate_limit_window=3.0 (secs)\n",
      "\n"
     ]
    },
    {
     "name": "stdout",
     "output_type": "stream",
     "text": [
      "\n"
     ]
    },
    {
     "data": {
      "application/vnd.jupyter.widget-view+json": {
       "model_id": "ab21bc1ffd744f5391a0618bf45afe73",
       "version_major": 2,
       "version_minor": 0
      },
      "text/plain": [
       "HBox(children=(FloatProgress(value=0.0, layout=Layout(flex='2'), max=146.0), HTML(value='')), layout=Layout(di…"
      ]
     },
     "metadata": {},
     "output_type": "display_data"
    },
    {
     "name": "stdout",
     "output_type": "stream",
     "text": [
      "\n",
      "П--а---в-----л--оо----д--и---р----с----к---а-я => Павлодирская        , gt: Павлодарская        \n",
      "И--------------   с--ее---р-----дд----у---е--, => И сердуе,           , gt: И сердце,           \n",
      "т-------------------------ыы------------------ => ты                  , gt: ты                  \n",
      "Ю--ж----н---а----я-----  -О--с---е---н-----а-я => Южная Осеная        , gt: Южная Осетия        \n",
      "Р--------аа----------йй-------о--------н------ => Район               , gt: Район               \n",
      "Lr now: 0.0001\n"
     ]
    },
    {
     "data": {
      "application/vnd.jupyter.widget-view+json": {
       "model_id": "e17e74c244724c9394c35f07b30b5914",
       "version_major": 2,
       "version_minor": 0
      },
      "text/plain": [
       "HBox(children=(FloatProgress(value=0.0, layout=Layout(flex='2'), max=711.0), HTML(value='')), layout=Layout(di…"
      ]
     },
     "metadata": {},
     "output_type": "display_data"
    },
    {
     "name": "stderr",
     "output_type": "stream",
     "text": [
      "IOPub message rate exceeded.\n",
      "The notebook server will temporarily stop sending output\n",
      "to the client in order to avoid crashing it.\n",
      "To change this limit, set the config variable\n",
      "`--NotebookApp.iopub_msg_rate_limit`.\n",
      "\n",
      "Current values:\n",
      "NotebookApp.iopub_msg_rate_limit=1000.0 (msgs/sec)\n",
      "NotebookApp.rate_limit_window=3.0 (secs)\n",
      "\n"
     ]
    },
    {
     "name": "stdout",
     "output_type": "stream",
     "text": [
      "\n"
     ]
    },
    {
     "data": {
      "application/vnd.jupyter.widget-view+json": {
       "model_id": "18414dcbe2194e0f83ae9a71d6d82b39",
       "version_major": 2,
       "version_minor": 0
      },
      "text/plain": [
       "HBox(children=(FloatProgress(value=0.0, layout=Layout(flex='2'), max=146.0), HTML(value='')), layout=Layout(di…"
      ]
     },
     "metadata": {},
     "output_type": "display_data"
    },
    {
     "name": "stdout",
     "output_type": "stream",
     "text": [
      "\n",
      "Ж---а-----м----бб----ы------л----с---кк--а---я => Жамбылская          , gt: Жамбылская          \n",
      "к м---а--мм-е-,,--   -м---а---д-нноо---п--и-ли => к маме, маднопили   , gt: к маме, жадно пили  \n",
      "П---рр--о---лл-ее---т----ее--в---ш-----иии--йй => Пролетевший         , gt: Пролетевший         \n",
      "б--ы--------лл------о--------------------   -б => было б              , gt: было б              \n",
      "П----а---вв---лл-оо---дд--а--рр---сс--к---а--я => Павлодарская        , gt: Павлодарская        \n",
      "Lr now: 0.0001\n"
     ]
    },
    {
     "data": {
      "application/vnd.jupyter.widget-view+json": {
       "model_id": "f7a0660dd4d047118069e4d0035f62b7",
       "version_major": 2,
       "version_minor": 0
      },
      "text/plain": [
       "HBox(children=(FloatProgress(value=0.0, layout=Layout(flex='2'), max=711.0), HTML(value='')), layout=Layout(di…"
      ]
     },
     "metadata": {},
     "output_type": "display_data"
    },
    {
     "name": "stderr",
     "output_type": "stream",
     "text": [
      "IOPub message rate exceeded.\n",
      "The notebook server will temporarily stop sending output\n",
      "to the client in order to avoid crashing it.\n",
      "To change this limit, set the config variable\n",
      "`--NotebookApp.iopub_msg_rate_limit`.\n",
      "\n",
      "Current values:\n",
      "NotebookApp.iopub_msg_rate_limit=1000.0 (msgs/sec)\n",
      "NotebookApp.rate_limit_window=3.0 (secs)\n",
      "\n"
     ]
    },
    {
     "name": "stdout",
     "output_type": "stream",
     "text": [
      "\n"
     ]
    },
    {
     "data": {
      "application/vnd.jupyter.widget-view+json": {
       "model_id": "a6aa367cf30d418ca75ee9811c176d1e",
       "version_major": 2,
       "version_minor": 0
      },
      "text/plain": [
       "HBox(children=(FloatProgress(value=0.0, layout=Layout(flex='2'), max=146.0), HTML(value='')), layout=Layout(di…"
      ]
     },
     "metadata": {},
     "output_type": "display_data"
    },
    {
     "name": "stdout",
     "output_type": "stream",
     "text": [
      "\n",
      "На---  -д--р--е--й---н--ее--йй----  сс-т--е-не => На дрейней стене    , gt: На древней стене    \n",
      "К---о----с----т---------а-------н-----а------й => Костанай            , gt: Костанай            \n",
      "двв-и--ч-ь-и---м------  -к--у--п-аа--н--ь----м => двичьим купаньм     , gt: девичьим купаньем   \n",
      "П----а-------в------л-----о-----дд---аа------р => Павлодар            , gt: Павлодар            \n",
      "В-   к--оо--т----о--рр--о---м---------   т---ы => В котором ты        , gt: В котором ты        \n",
      "Lr now: 0.0001\n"
     ]
    },
    {
     "data": {
      "application/vnd.jupyter.widget-view+json": {
       "model_id": "d4bceeb0fce24737b84767faa6362d38",
       "version_major": 2,
       "version_minor": 0
      },
      "text/plain": [
       "HBox(children=(FloatProgress(value=0.0, layout=Layout(flex='2'), max=711.0), HTML(value='')), layout=Layout(di…"
      ]
     },
     "metadata": {},
     "output_type": "display_data"
    },
    {
     "name": "stderr",
     "output_type": "stream",
     "text": [
      "IOPub message rate exceeded.\n",
      "The notebook server will temporarily stop sending output\n",
      "to the client in order to avoid crashing it.\n",
      "To change this limit, set the config variable\n",
      "`--NotebookApp.iopub_msg_rate_limit`.\n",
      "\n",
      "Current values:\n",
      "NotebookApp.iopub_msg_rate_limit=1000.0 (msgs/sec)\n",
      "NotebookApp.rate_limit_window=3.0 (secs)\n",
      "\n"
     ]
    },
    {
     "name": "stdout",
     "output_type": "stream",
     "text": [
      "\n"
     ]
    },
    {
     "data": {
      "application/vnd.jupyter.widget-view+json": {
       "model_id": "ea34c014f78645199613330484c82817",
       "version_major": 2,
       "version_minor": 0
      },
      "text/plain": [
       "HBox(children=(FloatProgress(value=0.0, layout=Layout(flex='2'), max=146.0), HTML(value='')), layout=Layout(di…"
      ]
     },
     "metadata": {},
     "output_type": "display_data"
    },
    {
     "name": "stdout",
     "output_type": "stream",
     "text": [
      "\n",
      "Е------------сс--------и----------------к----- => Есик                , gt: Есик                \n",
      "е-г---о---------  -п----и-----т-----а--------т => его питат           , gt: его питает          \n",
      "И-зз---------------  -г---оо----р--------л---а => Из горла            , gt: Из горла            \n",
      "Коль-к-о--   в-ее--рсс-тт-ыы--  п-а--тт--а--ты => Колько версты пататы, gt: Только версты полосаты\n",
      "о-------п---------------ыы-------------тт----- => опыт                , gt: опыт                \n",
      "Lr now: 0.0001\n"
     ]
    },
    {
     "data": {
      "application/vnd.jupyter.widget-view+json": {
       "model_id": "9d299d58625a4d9c86ec32ada164b92a",
       "version_major": 2,
       "version_minor": 0
      },
      "text/plain": [
       "HBox(children=(FloatProgress(value=0.0, layout=Layout(flex='2'), max=711.0), HTML(value='')), layout=Layout(di…"
      ]
     },
     "metadata": {},
     "output_type": "display_data"
    },
    {
     "name": "stderr",
     "output_type": "stream",
     "text": [
      "IOPub message rate exceeded.\n",
      "The notebook server will temporarily stop sending output\n",
      "to the client in order to avoid crashing it.\n",
      "To change this limit, set the config variable\n",
      "`--NotebookApp.iopub_msg_rate_limit`.\n",
      "\n",
      "Current values:\n",
      "NotebookApp.iopub_msg_rate_limit=1000.0 (msgs/sec)\n",
      "NotebookApp.rate_limit_window=3.0 (secs)\n",
      "\n"
     ]
    },
    {
     "name": "stdout",
     "output_type": "stream",
     "text": [
      "\n"
     ]
    },
    {
     "data": {
      "application/vnd.jupyter.widget-view+json": {
       "model_id": "c46d3c4af4854b8a9d78f72b7939cebd",
       "version_major": 2,
       "version_minor": 0
      },
      "text/plain": [
       "HBox(children=(FloatProgress(value=0.0, layout=Layout(flex='2'), max=146.0), HTML(value='')), layout=Layout(di…"
      ]
     },
     "metadata": {},
     "output_type": "display_data"
    },
    {
     "name": "stdout",
     "output_type": "stream",
     "text": [
      "\n",
      "Я---   л---юю----б--л---юю------  -т---ее-ббя, => Я люблю тебя,       , gt: Я люблю тебя,       \n",
      "оо---р---я---к--ии----- -г--лл--я---р---я--тт. => оряки глярят.       , gt: моряки глядят.      \n",
      "Г------у-----л-----ь-----ш----------а-----т--- => Гульшат             , gt: Гульшат             \n",
      "г-----о-------рр----------------о-------д----- => город               , gt: город               \n",
      "Ш----------ы-----мм----------------ее------н-- => Шымен               , gt: Шымкент             \n",
      "Lr now: 0.0001\n"
     ]
    },
    {
     "data": {
      "application/vnd.jupyter.widget-view+json": {
       "model_id": "5098b683509d41eebbf104d6dde9e0fd",
       "version_major": 2,
       "version_minor": 0
      },
      "text/plain": [
       "HBox(children=(FloatProgress(value=0.0, layout=Layout(flex='2'), max=711.0), HTML(value='')), layout=Layout(di…"
      ]
     },
     "metadata": {},
     "output_type": "display_data"
    },
    {
     "name": "stderr",
     "output_type": "stream",
     "text": [
      "IOPub message rate exceeded.\n",
      "The notebook server will temporarily stop sending output\n",
      "to the client in order to avoid crashing it.\n",
      "To change this limit, set the config variable\n",
      "`--NotebookApp.iopub_msg_rate_limit`.\n",
      "\n",
      "Current values:\n",
      "NotebookApp.iopub_msg_rate_limit=1000.0 (msgs/sec)\n",
      "NotebookApp.rate_limit_window=3.0 (secs)\n",
      "\n"
     ]
    },
    {
     "name": "stdout",
     "output_type": "stream",
     "text": [
      "\n"
     ]
    },
    {
     "data": {
      "application/vnd.jupyter.widget-view+json": {
       "model_id": "f1ca42f881b940fdaa8750618c5f2a54",
       "version_major": 2,
       "version_minor": 0
      },
      "text/plain": [
       "HBox(children=(FloatProgress(value=0.0, layout=Layout(flex='2'), max=146.0), HTML(value='')), layout=Layout(di…"
      ]
     },
     "metadata": {},
     "output_type": "display_data"
    },
    {
     "name": "stdout",
     "output_type": "stream",
     "text": [
      "\n",
      "на-м--------  нн-а--сс-л--а---д--и---т---ььс я => нам насладитьс я    , gt: нам насладиться     \n",
      "р--------а-----------ии----------о--------н--- => раион               , gt: раион               \n",
      "с---к------оо---рр---г--о-------  -л-----ии--, => скорго ли,          , gt: скоро ли,           \n",
      "Ю-жж---н---а----я---------   О--сее--тт---ии-я => Южная Осетия        , gt: Южная Осетия        \n",
      "Ко-г---д--а----  -т--в---оо-ее--- -л---иии--це => Когда твое лице     , gt: Когда твое лицо     \n",
      "Lr now: 0.0001\n"
     ]
    },
    {
     "data": {
      "application/vnd.jupyter.widget-view+json": {
       "model_id": "06fdb3af1e1b427d9b35f301b0a60f10",
       "version_major": 2,
       "version_minor": 0
      },
      "text/plain": [
       "HBox(children=(FloatProgress(value=0.0, layout=Layout(flex='2'), max=711.0), HTML(value='')), layout=Layout(di…"
      ]
     },
     "metadata": {},
     "output_type": "display_data"
    },
    {
     "name": "stderr",
     "output_type": "stream",
     "text": [
      "IOPub message rate exceeded.\n",
      "The notebook server will temporarily stop sending output\n",
      "to the client in order to avoid crashing it.\n",
      "To change this limit, set the config variable\n",
      "`--NotebookApp.iopub_msg_rate_limit`.\n",
      "\n",
      "Current values:\n",
      "NotebookApp.iopub_msg_rate_limit=1000.0 (msgs/sec)\n",
      "NotebookApp.rate_limit_window=3.0 (secs)\n",
      "\n"
     ]
    },
    {
     "name": "stdout",
     "output_type": "stream",
     "text": [
      "\n"
     ]
    },
    {
     "data": {
      "application/vnd.jupyter.widget-view+json": {
       "model_id": "761c20b375ee42fbb8dde1f19be8c1e6",
       "version_major": 2,
       "version_minor": 0
      },
      "text/plain": [
       "HBox(children=(FloatProgress(value=0.0, layout=Layout(flex='2'), max=146.0), HTML(value='')), layout=Layout(di…"
      ]
     },
     "metadata": {},
     "output_type": "display_data"
    },
    {
     "name": "stdout",
     "output_type": "stream",
     "text": [
      "\n",
      "В----   с-о--кк--р-а---в---и-------щ--ч-----це => В сокравищчце       , gt: В сокровищнице      \n",
      "ПА----В---Л--О----Д----А----Р----С---К-----А-Я => ПАВЛОДАРСКАЯ        , gt: ПАВЛОДАРСКАЯ        \n",
      "Чее-мм-----   с-вв-е-тт-----  тт---е---л-ее-га => Чем свет телега     , gt: Чем свет телега     \n",
      "чув-сст-вв-у-юю--------   соо-лл-и-дд-а-ррнкск => чувствую солидарнкск, gt: чувствую солидарность\n",
      "г-р-----е------м------------е-------л------- — => гремел —            , gt: гремел —            \n",
      "Lr now: 0.0001\n"
     ]
    },
    {
     "data": {
      "application/vnd.jupyter.widget-view+json": {
       "model_id": "ece0d64909364df3b4bf948565144cee",
       "version_major": 2,
       "version_minor": 0
      },
      "text/plain": [
       "HBox(children=(FloatProgress(value=0.0, layout=Layout(flex='2'), max=711.0), HTML(value='')), layout=Layout(di…"
      ]
     },
     "metadata": {},
     "output_type": "display_data"
    },
    {
     "name": "stderr",
     "output_type": "stream",
     "text": [
      "IOPub message rate exceeded.\n",
      "The notebook server will temporarily stop sending output\n",
      "to the client in order to avoid crashing it.\n",
      "To change this limit, set the config variable\n",
      "`--NotebookApp.iopub_msg_rate_limit`.\n",
      "\n",
      "Current values:\n",
      "NotebookApp.iopub_msg_rate_limit=1000.0 (msgs/sec)\n",
      "NotebookApp.rate_limit_window=3.0 (secs)\n",
      "\n"
     ]
    },
    {
     "name": "stdout",
     "output_type": "stream",
     "text": [
      "\n",
      "с-----п------------л-------------ю-----------, => сплю,               , gt: сплю,               \n",
      "Т--У-----Р------К-----ЕЕ---С-----т-----а-----н => ТУРКЕСтан           , gt: ТУРКЕСТАН           \n",
      "А-к----м----оо-----л---и----нн---сс--к---а---я => Акмолинская         , gt: Акмолинская         \n",
      "лож---ииттт-сс-яя---   н-а----   п-о--лла--т-и => ложится на полати   , gt: ложится на полати   \n",
      "Тоо-  с-еерр--д--чч-н--а---я---   т--о-ч-на.-. => То сердчная точна.. , gt: То сердечная тоска..\n",
      "Lr now: 0.0001\n"
     ]
    },
    {
     "data": {
      "application/vnd.jupyter.widget-view+json": {
       "model_id": "3f15d47f213c46dd90c13a37505511cb",
       "version_major": 2,
       "version_minor": 0
      },
      "text/plain": [
       "HBox(children=(FloatProgress(value=0.0, layout=Layout(flex='2'), max=711.0), HTML(value='')), layout=Layout(di…"
      ]
     },
     "metadata": {},
     "output_type": "display_data"
    },
    {
     "name": "stdout",
     "output_type": "stream",
     "text": [
      "\n"
     ]
    },
    {
     "data": {
      "application/vnd.jupyter.widget-view+json": {
       "model_id": "df2bbdd85c58415b8385c4bdc3adb859",
       "version_major": 2,
       "version_minor": 0
      },
      "text/plain": [
       "HBox(children=(FloatProgress(value=0.0, layout=Layout(flex='2'), max=146.0), HTML(value='')), layout=Layout(di…"
      ]
     },
     "metadata": {},
     "output_type": "display_data"
    },
    {
     "name": "stderr",
     "output_type": "stream",
     "text": [
      "IOPub message rate exceeded.\n",
      "The notebook server will temporarily stop sending output\n",
      "to the client in order to avoid crashing it.\n",
      "To change this limit, set the config variable\n",
      "`--NotebookApp.iopub_msg_rate_limit`.\n",
      "\n",
      "Current values:\n",
      "NotebookApp.iopub_msg_rate_limit=1000.0 (msgs/sec)\n",
      "NotebookApp.rate_limit_window=3.0 (secs)\n",
      "\n"
     ]
    },
    {
     "name": "stdout",
     "output_type": "stream",
     "text": [
      "\n"
     ]
    },
    {
     "data": {
      "application/vnd.jupyter.widget-view+json": {
       "model_id": "39f39a1458c74ff296f17d34c5eecfc4",
       "version_major": 2,
       "version_minor": 0
      },
      "text/plain": [
       "HBox(children=(FloatProgress(value=0.0, layout=Layout(flex='2'), max=146.0), HTML(value='')), layout=Layout(di…"
      ]
     },
     "metadata": {},
     "output_type": "display_data"
    },
    {
     "name": "stdout",
     "output_type": "stream",
     "text": [
      "\n",
      "игрр-а---лл------   -в---   р--у--ллее--т--ку, => играл в рулетку,    , gt: играл в рулетку,    \n",
      "по-чч-уу--я-----  -н-аа------  п--лле---ч-аа-х => почуя на плечах     , gt: почуя на плечах     \n",
      "К--О-----к-----Ш----------Е------т-----а-----у => КОкШЕтау            , gt: КОКШЕТАУ            \n",
      "Ж--е--лл--а---н---н--о---йй-----   -цц-е---л-и => Желанной цели       , gt: Желанной цели       \n",
      "Пррее--к--рр-аа---с--н---о----  -в---  -н--а-с => Прекрасно в нас     , gt: Прекрасно в нас     \n",
      "Lr now: 1e-05\n"
     ]
    },
    {
     "data": {
      "application/vnd.jupyter.widget-view+json": {
       "model_id": "ed10f7e49fc0403583264763e354cdc1",
       "version_major": 2,
       "version_minor": 0
      },
      "text/plain": [
       "HBox(children=(FloatProgress(value=0.0, layout=Layout(flex='2'), max=711.0), HTML(value='')), layout=Layout(di…"
      ]
     },
     "metadata": {},
     "output_type": "display_data"
    },
    {
     "name": "stderr",
     "output_type": "stream",
     "text": [
      "IOPub message rate exceeded.\n",
      "The notebook server will temporarily stop sending output\n",
      "to the client in order to avoid crashing it.\n",
      "To change this limit, set the config variable\n",
      "`--NotebookApp.iopub_msg_rate_limit`.\n",
      "\n",
      "Current values:\n",
      "NotebookApp.iopub_msg_rate_limit=1000.0 (msgs/sec)\n",
      "NotebookApp.rate_limit_window=3.0 (secs)\n",
      "\n"
     ]
    },
    {
     "name": "stdout",
     "output_type": "stream",
     "text": [
      "\n"
     ]
    },
    {
     "data": {
      "application/vnd.jupyter.widget-view+json": {
       "model_id": "bccec0c6f9c04f0c933727fc3e881112",
       "version_major": 2,
       "version_minor": 0
      },
      "text/plain": [
       "HBox(children=(FloatProgress(value=0.0, layout=Layout(flex='2'), max=146.0), HTML(value='')), layout=Layout(di…"
      ]
     },
     "metadata": {},
     "output_type": "display_data"
    },
    {
     "name": "stdout",
     "output_type": "stream",
     "text": [
      "\n",
      "И---   ч-ее-лл-оо--в-е--к-----   п--о----ш--ел => И человек пошел     , gt: И человек пошел     \n",
      "М------------а-------к-----ии-----н------с---к => Макинск             , gt: Макинск             \n",
      "Дррее--м---лл--я----  сс-тт--о---л--кк---н--ул => Дремля столкнул     , gt: Дремля смолкнул     \n",
      "Ж-------е---с----т--------о-----к-----оо----й- => Жестокой            , gt: Жестокой            \n",
      "А------------к---------с-------а-------------й => Аксай               , gt: Аксай               \n",
      "Lr now: 1e-05\n"
     ]
    },
    {
     "data": {
      "application/vnd.jupyter.widget-view+json": {
       "model_id": "7085b837af1040b48125c09d81be8273",
       "version_major": 2,
       "version_minor": 0
      },
      "text/plain": [
       "HBox(children=(FloatProgress(value=0.0, layout=Layout(flex='2'), max=711.0), HTML(value='')), layout=Layout(di…"
      ]
     },
     "metadata": {},
     "output_type": "display_data"
    },
    {
     "name": "stderr",
     "output_type": "stream",
     "text": [
      "IOPub message rate exceeded.\n",
      "The notebook server will temporarily stop sending output\n",
      "to the client in order to avoid crashing it.\n",
      "To change this limit, set the config variable\n",
      "`--NotebookApp.iopub_msg_rate_limit`.\n",
      "\n",
      "Current values:\n",
      "NotebookApp.iopub_msg_rate_limit=1000.0 (msgs/sec)\n",
      "NotebookApp.rate_limit_window=3.0 (secs)\n",
      "\n"
     ]
    },
    {
     "name": "stdout",
     "output_type": "stream",
     "text": [
      "\n",
      "Ш--------------о-----г----д--------а---------, => Шогда,              , gt: иногда,             \n",
      "Т----е-------п---------л----------о--------н-- => Теплон              , gt: теплои              \n",
      "В-   о---тт----д-ее--л--ьь---н---о--с---т---и, => В отдельности,      , gt: В отдельности,      \n",
      "соз-нн-аа---н--и---я---   -бее--с--с--и---л-ья => сознания бессилья   , gt: сознания бессилья   \n",
      "к------о-----нн--------в--------о--------я---, => конвоя,             , gt: конвоя,             \n",
      "Lr now: 1e-05\n"
     ]
    },
    {
     "data": {
      "application/vnd.jupyter.widget-view+json": {
       "model_id": "06f2566937f54baf82ada11bf939c164",
       "version_major": 2,
       "version_minor": 0
      },
      "text/plain": [
       "HBox(children=(FloatProgress(value=0.0, layout=Layout(flex='2'), max=711.0), HTML(value='')), layout=Layout(di…"
      ]
     },
     "metadata": {},
     "output_type": "display_data"
    },
    {
     "name": "stdout",
     "output_type": "stream",
     "text": [
      "\n"
     ]
    },
    {
     "data": {
      "application/vnd.jupyter.widget-view+json": {
       "model_id": "779f453d48dd40dea34bfd20b0bc1b08",
       "version_major": 2,
       "version_minor": 0
      },
      "text/plain": [
       "HBox(children=(FloatProgress(value=0.0, layout=Layout(flex='2'), max=146.0), HTML(value='')), layout=Layout(di…"
      ]
     },
     "metadata": {},
     "output_type": "display_data"
    },
    {
     "name": "stderr",
     "output_type": "stream",
     "text": [
      "IOPub message rate exceeded.\n",
      "The notebook server will temporarily stop sending output\n",
      "to the client in order to avoid crashing it.\n",
      "To change this limit, set the config variable\n",
      "`--NotebookApp.iopub_msg_rate_limit`.\n",
      "\n",
      "Current values:\n",
      "NotebookApp.iopub_msg_rate_limit=1000.0 (msgs/sec)\n",
      "NotebookApp.rate_limit_window=3.0 (secs)\n",
      "\n"
     ]
    },
    {
     "name": "stdout",
     "output_type": "stream",
     "text": [
      "\n"
     ]
    },
    {
     "data": {
      "application/vnd.jupyter.widget-view+json": {
       "model_id": "40d6dc13469f40508861b0cbbb84556d",
       "version_major": 2,
       "version_minor": 0
      },
      "text/plain": [
       "HBox(children=(FloatProgress(value=0.0, layout=Layout(flex='2'), max=146.0), HTML(value='')), layout=Layout(di…"
      ]
     },
     "metadata": {},
     "output_type": "display_data"
    },
    {
     "name": "stdout",
     "output_type": "stream",
     "text": [
      "\n",
      "Р--------е-------р--------л----------у-------ы => Рерлуы              , gt: Деркул              \n",
      "Д-аа---л-ии----------   сс--м---е---л--о---м-у => Дали смелому        , gt: Дали смелому        \n",
      "в-о-----з---в-----р-----а-----т-------я--сс-ь, => возвратясь,         , gt: возвратясь,         \n",
      "С г-л--о--тт---к--а---м---ии----   в---  -ниих => С глотками в них    , gt: С глотками в них    \n",
      "к---------рр---------о----------вв-------ьь--. => кровь.              , gt: кровь.              \n",
      "Lr now: 1e-05\n"
     ]
    },
    {
     "data": {
      "application/vnd.jupyter.widget-view+json": {
       "model_id": "cc9eebbaf8714b7989d34e770ffb863e",
       "version_major": 2,
       "version_minor": 0
      },
      "text/plain": [
       "HBox(children=(FloatProgress(value=0.0, layout=Layout(flex='2'), max=711.0), HTML(value='')), layout=Layout(di…"
      ]
     },
     "metadata": {},
     "output_type": "display_data"
    },
    {
     "name": "stderr",
     "output_type": "stream",
     "text": [
      "IOPub message rate exceeded.\n",
      "The notebook server will temporarily stop sending output\n",
      "to the client in order to avoid crashing it.\n",
      "To change this limit, set the config variable\n",
      "`--NotebookApp.iopub_msg_rate_limit`.\n",
      "\n",
      "Current values:\n",
      "NotebookApp.iopub_msg_rate_limit=1000.0 (msgs/sec)\n",
      "NotebookApp.rate_limit_window=3.0 (secs)\n",
      "\n"
     ]
    },
    {
     "name": "stdout",
     "output_type": "stream",
     "text": [
      "\n"
     ]
    },
    {
     "data": {
      "application/vnd.jupyter.widget-view+json": {
       "model_id": "bb9b695c7baf4030a360265a6833809c",
       "version_major": 2,
       "version_minor": 0
      },
      "text/plain": [
       "HBox(children=(FloatProgress(value=0.0, layout=Layout(flex='2'), max=146.0), HTML(value='')), layout=Layout(di…"
      ]
     },
     "metadata": {},
     "output_type": "display_data"
    },
    {
     "name": "stdout",
     "output_type": "stream",
     "text": [
      "\n",
      "маеевв-а---л--  -н--а----  ссбб--я----   ч--то => маевал на сбя что   , gt: надевал на себя что \n",
      "И--  -в--с--п--о---м---ни-ии--л--  -я--  тт-ся => И вспомниил я тся   , gt: И вспомнил я тебя   \n",
      "Р-----о-----сс-----с-------ии----------я------ => Россия              , gt: Россия              \n",
      "Ж---А----М----Б----ы-----Л--Ь---С----К----А--Я => ЖАМБыЛЬСКАЯ         , gt: Жамбыльская         \n",
      "Заа----р-----ы------в------ш-------ии---ссс-ь, => Зарывшись,          , gt: Зарывшись,          \n",
      "Lr now: 1e-05\n"
     ]
    },
    {
     "data": {
      "application/vnd.jupyter.widget-view+json": {
       "model_id": "abe936201e3640089cb81a9010503cab",
       "version_major": 2,
       "version_minor": 0
      },
      "text/plain": [
       "HBox(children=(FloatProgress(value=0.0, layout=Layout(flex='2'), max=711.0), HTML(value='')), layout=Layout(di…"
      ]
     },
     "metadata": {},
     "output_type": "display_data"
    },
    {
     "name": "stderr",
     "output_type": "stream",
     "text": [
      "IOPub message rate exceeded.\n",
      "The notebook server will temporarily stop sending output\n",
      "to the client in order to avoid crashing it.\n",
      "To change this limit, set the config variable\n",
      "`--NotebookApp.iopub_msg_rate_limit`.\n",
      "\n",
      "Current values:\n",
      "NotebookApp.iopub_msg_rate_limit=1000.0 (msgs/sec)\n",
      "NotebookApp.rate_limit_window=3.0 (secs)\n",
      "\n"
     ]
    },
    {
     "name": "stdout",
     "output_type": "stream",
     "text": [
      "\n"
     ]
    },
    {
     "data": {
      "application/vnd.jupyter.widget-view+json": {
       "model_id": "2a1a6256a7fd450d89911e424f0a2cd6",
       "version_major": 2,
       "version_minor": 0
      },
      "text/plain": [
       "HBox(children=(FloatProgress(value=0.0, layout=Layout(flex='2'), max=146.0), HTML(value='')), layout=Layout(di…"
      ]
     },
     "metadata": {},
     "output_type": "display_data"
    },
    {
     "name": "stdout",
     "output_type": "stream",
     "text": [
      "\n",
      "А--------т----ыо---р---а-----уу---с--кк---а--я => Атыорауская         , gt: Атырауская          \n",
      "Он--ии---,,--   т----оо---л-----к--а-----я--сь => Они, толкаясь       , gt: Они, толкаясь       \n",
      "По  -д-оо--р--о---ге-----   зз-и---м--е--н--ет => По дороге зименет   , gt: По дороге зимней    \n",
      "М------а--------к-------и------н------с------к => Макинск             , gt: Макинск             \n",
      "ка---к--------   -м---о---г--о---д---о---сстть => как могодость       , gt: как молодость       \n",
      "Lr now: 1e-05\n"
     ]
    },
    {
     "data": {
      "application/vnd.jupyter.widget-view+json": {
       "model_id": "273850a3aa7844ec9747f438c7b605cf",
       "version_major": 2,
       "version_minor": 0
      },
      "text/plain": [
       "HBox(children=(FloatProgress(value=0.0, layout=Layout(flex='2'), max=711.0), HTML(value='')), layout=Layout(di…"
      ]
     },
     "metadata": {},
     "output_type": "display_data"
    },
    {
     "name": "stderr",
     "output_type": "stream",
     "text": [
      "IOPub message rate exceeded.\n",
      "The notebook server will temporarily stop sending output\n",
      "to the client in order to avoid crashing it.\n",
      "To change this limit, set the config variable\n",
      "`--NotebookApp.iopub_msg_rate_limit`.\n",
      "\n",
      "Current values:\n",
      "NotebookApp.iopub_msg_rate_limit=1000.0 (msgs/sec)\n",
      "NotebookApp.rate_limit_window=3.0 (secs)\n",
      "\n"
     ]
    },
    {
     "name": "stdout",
     "output_type": "stream",
     "text": [
      "\n",
      "П------о---------ц--е-----л--------у----й----, => Поцелуй,            , gt: Поцелуй,            \n",
      "О--п----я-----т---ь----,,,----   -к----а-----к => Опять, как          , gt: Опять, как          \n",
      "А-лл---м-----аа----т-----ии---нн--сс--к---а--я => Алматинская         , gt: Алматинская         \n",
      "не-   зз--н---а----я------  -о--  л--юю--ббвви => не зная о любви     , gt: не зная о любви     \n",
      "С-аа-----р-------ы-------к-------а-------л---ь => Сарыкаль            , gt: Сарыколь            \n",
      "Lr now: 1e-05\n"
     ]
    },
    {
     "data": {
      "application/vnd.jupyter.widget-view+json": {
       "model_id": "a0b92cfd478d4e4cacd4b2cf35b2f760",
       "version_major": 2,
       "version_minor": 0
      },
      "text/plain": [
       "HBox(children=(FloatProgress(value=0.0, layout=Layout(flex='2'), max=711.0), HTML(value='')), layout=Layout(di…"
      ]
     },
     "metadata": {},
     "output_type": "display_data"
    },
    {
     "name": "stdout",
     "output_type": "stream",
     "text": [
      "\n"
     ]
    },
    {
     "data": {
      "application/vnd.jupyter.widget-view+json": {
       "model_id": "5b3507ced48d4219ab009de0b018bb21",
       "version_major": 2,
       "version_minor": 0
      },
      "text/plain": [
       "HBox(children=(FloatProgress(value=0.0, layout=Layout(flex='2'), max=146.0), HTML(value='')), layout=Layout(di…"
      ]
     },
     "metadata": {},
     "output_type": "display_data"
    },
    {
     "name": "stdout",
     "output_type": "stream",
     "text": [
      "\n",
      "К-аа----зз--аа-------х----с----т------а------н => Казахстан           , gt: Казахстан           \n",
      "М---------о-----л------дд---а------в----и----я => Молдавия            , gt: Молдавия            \n",
      "Ж---------ии------т------ии---к------о----р--а => Житикора            , gt: Житикара            \n",
      "чу---г-а----л-----и------  -н--а--т---я--тт-ся => чугали натятся      , gt: Лугами катятся      \n",
      "Т------е------к---------е------м-----------и-- => Текеми              , gt: Текели              \n",
      "Lr now: 1e-05\n"
     ]
    },
    {
     "data": {
      "application/vnd.jupyter.widget-view+json": {
       "model_id": "7a2c06f3ea574cfa8e8c35e605ba1c94",
       "version_major": 2,
       "version_minor": 0
      },
      "text/plain": [
       "HBox(children=(FloatProgress(value=0.0, layout=Layout(flex='2'), max=711.0), HTML(value='')), layout=Layout(di…"
      ]
     },
     "metadata": {},
     "output_type": "display_data"
    },
    {
     "name": "stderr",
     "output_type": "stream",
     "text": [
      "IOPub message rate exceeded.\n",
      "The notebook server will temporarily stop sending output\n",
      "to the client in order to avoid crashing it.\n",
      "To change this limit, set the config variable\n",
      "`--NotebookApp.iopub_msg_rate_limit`.\n",
      "\n",
      "Current values:\n",
      "NotebookApp.iopub_msg_rate_limit=1000.0 (msgs/sec)\n",
      "NotebookApp.rate_limit_window=3.0 (secs)\n",
      "\n"
     ]
    },
    {
     "name": "stdout",
     "output_type": "stream",
     "text": [
      "\n"
     ]
    },
    {
     "data": {
      "application/vnd.jupyter.widget-view+json": {
       "model_id": "f2dabd4b44c1407b82234a861d82decb",
       "version_major": 2,
       "version_minor": 0
      },
      "text/plain": [
       "HBox(children=(FloatProgress(value=0.0, layout=Layout(flex='2'), max=146.0), HTML(value='')), layout=Layout(di…"
      ]
     },
     "metadata": {},
     "output_type": "display_data"
    },
    {
     "name": "stdout",
     "output_type": "stream",
     "text": [
      "\n",
      "т--вв-----о----йй------  ---и----н----иии---й, => твой иний,          , gt: твой синий,         \n",
      "М-------о-----л-----дд----а------в-----и-----я => Молдавия            , gt: Молдавия            \n",
      "К----И-------Р------Г-----И-------З-----И----Я => КИРГИЗИЯ            , gt: КИРГИЗИЯ            \n",
      "б---ы-----------  -лл----ее-----т-------а---ть => бы летать           , gt: бы летать           \n",
      "Т--ыы--,,,--   -м----и----л--а---я-,,-  -т--ыы => Ты, милая, ты       , gt: Ты, милая, ты       \n",
      "Lr now: 1e-05\n"
     ]
    },
    {
     "data": {
      "application/vnd.jupyter.widget-view+json": {
       "model_id": "af0b2f6204494203a8993c0bcfca9fef",
       "version_major": 2,
       "version_minor": 0
      },
      "text/plain": [
       "HBox(children=(FloatProgress(value=0.0, layout=Layout(flex='2'), max=711.0), HTML(value='')), layout=Layout(di…"
      ]
     },
     "metadata": {},
     "output_type": "display_data"
    },
    {
     "name": "stdout",
     "output_type": "stream",
     "text": [
      "\n"
     ]
    },
    {
     "data": {
      "application/vnd.jupyter.widget-view+json": {
       "model_id": "1b5e6dffb55644d6a69d978d6df8a1e4",
       "version_major": 2,
       "version_minor": 0
      },
      "text/plain": [
       "HBox(children=(FloatProgress(value=0.0, layout=Layout(flex='2'), max=146.0), HTML(value='')), layout=Layout(di…"
      ]
     },
     "metadata": {},
     "output_type": "display_data"
    },
    {
     "name": "stderr",
     "output_type": "stream",
     "text": [
      "IOPub message rate exceeded.\n",
      "The notebook server will temporarily stop sending output\n",
      "to the client in order to avoid crashing it.\n",
      "To change this limit, set the config variable\n",
      "`--NotebookApp.iopub_msg_rate_limit`.\n",
      "\n",
      "Current values:\n",
      "NotebookApp.iopub_msg_rate_limit=1000.0 (msgs/sec)\n",
      "NotebookApp.rate_limit_window=3.0 (secs)\n",
      "\n"
     ]
    },
    {
     "name": "stdout",
     "output_type": "stream",
     "text": [
      "\n"
     ]
    },
    {
     "data": {
      "application/vnd.jupyter.widget-view+json": {
       "model_id": "5cadcde6f8244b118a0df77ea1b0793a",
       "version_major": 2,
       "version_minor": 0
      },
      "text/plain": [
       "HBox(children=(FloatProgress(value=0.0, layout=Layout(flex='2'), max=146.0), HTML(value='')), layout=Layout(di…"
      ]
     },
     "metadata": {},
     "output_type": "display_data"
    },
    {
     "name": "stdout",
     "output_type": "stream",
     "text": [
      "\n",
      "гл--уу--бб--о---кк--ии----й--------  сс--л-еед => глубокий след       , gt: глубокий след       \n",
      "с в---о---з--о--в---о--йй--    з--а----р--ее-й => с возовой зарей     , gt: с розовой зарей     \n",
      "Запа--д--н-о-----  -К-а---з-а--хсс-т-а--н-ская => Западно Казахстанская, gt: Западно Казахстанская\n",
      "О--п---я----т--ь-------   оо----дд----н----а-, => Опять одна,         , gt: Опять одна,         \n",
      "Ж---аа----мм----бб--ыы-----л---ь-сс--к---а---я => Жамбыльская         , gt: Жамбыльская         \n",
      "Lr now: 1e-05\n"
     ]
    },
    {
     "data": {
      "application/vnd.jupyter.widget-view+json": {
       "model_id": "8d21a5fcd2cf4cbe89a08dd525447e91",
       "version_major": 2,
       "version_minor": 0
      },
      "text/plain": [
       "HBox(children=(FloatProgress(value=0.0, layout=Layout(flex='2'), max=711.0), HTML(value='')), layout=Layout(di…"
      ]
     },
     "metadata": {},
     "output_type": "display_data"
    },
    {
     "name": "stderr",
     "output_type": "stream",
     "text": [
      "IOPub message rate exceeded.\n",
      "The notebook server will temporarily stop sending output\n",
      "to the client in order to avoid crashing it.\n",
      "To change this limit, set the config variable\n",
      "`--NotebookApp.iopub_msg_rate_limit`.\n",
      "\n",
      "Current values:\n",
      "NotebookApp.iopub_msg_rate_limit=1000.0 (msgs/sec)\n",
      "NotebookApp.rate_limit_window=3.0 (secs)\n",
      "\n"
     ]
    },
    {
     "name": "stdout",
     "output_type": "stream",
     "text": [
      "\n"
     ]
    },
    {
     "data": {
      "application/vnd.jupyter.widget-view+json": {
       "model_id": "0dab7f7a522344e7a701b96fb730b240",
       "version_major": 2,
       "version_minor": 0
      },
      "text/plain": [
       "HBox(children=(FloatProgress(value=0.0, layout=Layout(flex='2'), max=146.0), HTML(value='')), layout=Layout(di…"
      ]
     },
     "metadata": {},
     "output_type": "display_data"
    },
    {
     "name": "stdout",
     "output_type": "stream",
     "text": [
      "\n",
      "Я---------------   ооо---д------н--------а---- => Я одна              , gt: Я одна              \n",
      "Межж----   м---н-о-йй--  и---  ххоо-лл-м-а--ми => Меж мной и холмами  , gt: Меж мной и холмами  \n",
      "д--------в-------о--------п----------а-------, => двопа,              , gt: двора,              \n",
      "К-----о----с---т-------а------н-------а------й => Костанай            , gt: Костанай            \n",
      "Н----а-------м--------------  -э-----т-------о => Нам это             , gt: Нам это             \n",
      "Lr now: 1e-05\n"
     ]
    },
    {
     "data": {
      "application/vnd.jupyter.widget-view+json": {
       "model_id": "b27a9000568b48098665a61a589267c3",
       "version_major": 2,
       "version_minor": 0
      },
      "text/plain": [
       "HBox(children=(FloatProgress(value=0.0, layout=Layout(flex='2'), max=711.0), HTML(value='')), layout=Layout(di…"
      ]
     },
     "metadata": {},
     "output_type": "display_data"
    },
    {
     "name": "stderr",
     "output_type": "stream",
     "text": [
      "IOPub message rate exceeded.\n",
      "The notebook server will temporarily stop sending output\n",
      "to the client in order to avoid crashing it.\n",
      "To change this limit, set the config variable\n",
      "`--NotebookApp.iopub_msg_rate_limit`.\n",
      "\n",
      "Current values:\n",
      "NotebookApp.iopub_msg_rate_limit=1000.0 (msgs/sec)\n",
      "NotebookApp.rate_limit_window=3.0 (secs)\n",
      "\n"
     ]
    },
    {
     "name": "stdout",
     "output_type": "stream",
     "text": [
      "\n"
     ]
    },
    {
     "data": {
      "application/vnd.jupyter.widget-view+json": {
       "model_id": "7b1d4f9452e942ef985f6563af857d35",
       "version_major": 2,
       "version_minor": 0
      },
      "text/plain": [
       "HBox(children=(FloatProgress(value=0.0, layout=Layout(flex='2'), max=146.0), HTML(value='')), layout=Layout(di…"
      ]
     },
     "metadata": {},
     "output_type": "display_data"
    },
    {
     "name": "stdout",
     "output_type": "stream",
     "text": [
      "\n",
      "А---к----тт----ю----б----и----н---сс---к--а--я => Актюбинская         , gt: Актюбинская         \n",
      "О--т--------   --К------а---с---п---ии---я-- и => От Каспия и         , gt: От Каспия и         \n",
      "У---кк------к------а-----ии--------н--------аа => Уккаина             , gt: Украина             \n",
      "Уз---б----е----к---ии-----с----тт-------а----н => Узбекистан          , gt: Узбекистан          \n",
      "л----щ---и----н----ы----й-------   -л---ии---к => лщиный лик          , gt: лунный лик          \n",
      "Lr now: 1e-05\n"
     ]
    },
    {
     "data": {
      "application/vnd.jupyter.widget-view+json": {
       "model_id": "f0d945cdce06437ab5c3bc5fe1fa5388",
       "version_major": 2,
       "version_minor": 0
      },
      "text/plain": [
       "HBox(children=(FloatProgress(value=0.0, layout=Layout(flex='2'), max=711.0), HTML(value='')), layout=Layout(di…"
      ]
     },
     "metadata": {},
     "output_type": "display_data"
    },
    {
     "name": "stderr",
     "output_type": "stream",
     "text": [
      "IOPub message rate exceeded.\n",
      "The notebook server will temporarily stop sending output\n",
      "to the client in order to avoid crashing it.\n",
      "To change this limit, set the config variable\n",
      "`--NotebookApp.iopub_msg_rate_limit`.\n",
      "\n",
      "Current values:\n",
      "NotebookApp.iopub_msg_rate_limit=1000.0 (msgs/sec)\n",
      "NotebookApp.rate_limit_window=3.0 (secs)\n",
      "\n"
     ]
    },
    {
     "name": "stdout",
     "output_type": "stream",
     "text": [
      "\n",
      "Он--ии-,,,,--   т-----о----л---к----а---я---сь => Они, толкаясь       , gt: Они, толкаясь       \n",
      "Б----а-------л------к-------а--------ш-------- => Балкаш              , gt: Балхаш              \n",
      "непоо-ддаа--ш----л-ии--вв--у--ю---   м---а-тть => неподашливую мать   , gt: неподатливую мать   \n",
      "Пе---т----я---т------  -с--и-----н---ее----л-и => Петят синели        , gt: Летят шмели         \n",
      "мо--ж---н--н-ее-л----  -н--а----   п-оо-сс-нит => можннел на поснит   , gt: ложится на полати   \n",
      "Lr now: 1e-05\n"
     ]
    },
    {
     "data": {
      "application/vnd.jupyter.widget-view+json": {
       "model_id": "1d604116c0864cf39de2f2325347990b",
       "version_major": 2,
       "version_minor": 0
      },
      "text/plain": [
       "HBox(children=(FloatProgress(value=0.0, layout=Layout(flex='2'), max=711.0), HTML(value='')), layout=Layout(di…"
      ]
     },
     "metadata": {},
     "output_type": "display_data"
    },
    {
     "name": "stdout",
     "output_type": "stream",
     "text": [
      "\n"
     ]
    },
    {
     "data": {
      "application/vnd.jupyter.widget-view+json": {
       "model_id": "c14b1c2a148842f6abb3c9de0bb3eb50",
       "version_major": 2,
       "version_minor": 0
      },
      "text/plain": [
       "HBox(children=(FloatProgress(value=0.0, layout=Layout(flex='2'), max=146.0), HTML(value='')), layout=Layout(di…"
      ]
     },
     "metadata": {},
     "output_type": "display_data"
    },
    {
     "name": "stderr",
     "output_type": "stream",
     "text": [
      "IOPub message rate exceeded.\n",
      "The notebook server will temporarily stop sending output\n",
      "to the client in order to avoid crashing it.\n",
      "To change this limit, set the config variable\n",
      "`--NotebookApp.iopub_msg_rate_limit`.\n",
      "\n",
      "Current values:\n",
      "NotebookApp.iopub_msg_rate_limit=1000.0 (msgs/sec)\n",
      "NotebookApp.rate_limit_window=3.0 (secs)\n",
      "\n"
     ]
    },
    {
     "name": "stdout",
     "output_type": "stream",
     "text": [
      "\n"
     ]
    },
    {
     "data": {
      "application/vnd.jupyter.widget-view+json": {
       "model_id": "c6b553ea6a31465b9cee5a8ff3c13659",
       "version_major": 2,
       "version_minor": 0
      },
      "text/plain": [
       "HBox(children=(FloatProgress(value=0.0, layout=Layout(flex='2'), max=146.0), HTML(value='')), layout=Layout(di…"
      ]
     },
     "metadata": {},
     "output_type": "display_data"
    },
    {
     "name": "stdout",
     "output_type": "stream",
     "text": [
      "\n",
      "И--   бб-у--дд-уу--т----  -м------с------ии-ть => И будут мсить       , gt: И будут мстить      \n",
      "А-к---т------ю-----б-----л---нн---с----к---а-я => Актюблнская         , gt: Актюбинская         \n",
      "Е--------с---------и-------------яя----------ь => Есияь               , gt: Есиль               \n",
      "Сн--у--ш----ь-----  -и-------  с--н--е-ггг---… => Снушь и снег…       , gt: Глушь и снег…       \n",
      "А----тт-----б-----о------л-------а--------р--- => Атболар             , gt: Атбасар             \n",
      "Lr now: 1e-05\n"
     ]
    },
    {
     "data": {
      "application/vnd.jupyter.widget-view+json": {
       "model_id": "5cd60f675c664fc89ad684295fcffeda",
       "version_major": 2,
       "version_minor": 0
      },
      "text/plain": [
       "HBox(children=(FloatProgress(value=0.0, layout=Layout(flex='2'), max=711.0), HTML(value='')), layout=Layout(di…"
      ]
     },
     "metadata": {},
     "output_type": "display_data"
    },
    {
     "name": "stderr",
     "output_type": "stream",
     "text": [
      "IOPub message rate exceeded.\n",
      "The notebook server will temporarily stop sending output\n",
      "to the client in order to avoid crashing it.\n",
      "To change this limit, set the config variable\n",
      "`--NotebookApp.iopub_msg_rate_limit`.\n",
      "\n",
      "Current values:\n",
      "NotebookApp.iopub_msg_rate_limit=1000.0 (msgs/sec)\n",
      "NotebookApp.rate_limit_window=3.0 (secs)\n",
      "\n"
     ]
    },
    {
     "name": "stdout",
     "output_type": "stream",
     "text": [
      "\n"
     ]
    },
    {
     "data": {
      "application/vnd.jupyter.widget-view+json": {
       "model_id": "cd1045f5c62745cd9510585ffb4e8067",
       "version_major": 2,
       "version_minor": 0
      },
      "text/plain": [
       "HBox(children=(FloatProgress(value=0.0, layout=Layout(flex='2'), max=146.0), HTML(value='')), layout=Layout(di…"
      ]
     },
     "metadata": {},
     "output_type": "display_data"
    },
    {
     "name": "stdout",
     "output_type": "stream",
     "text": [
      "\n",
      "мо-рряя---к--ии------  гг--лл--яя----д--я--тт. => моряки глядят.      , gt: моряки глядят.      \n",
      "Устьь-----КК--а----мм---е--н---о---оо---рр-сск => Усть-Каменоорск     , gt: Усть-Каменогорск    \n",
      "и-----------  --л---------о-----в----л--ее---н => и ловлен            , gt: и ловок             \n",
      "прее--к---р--а--сс--н--о-ее------   л---ии-цо. => прекрасное лицо.    , gt: прекрасное лицо.    \n",
      "я-д--------   -д-----р----у----г---и-------и-, => яд другии,          , gt: яд другим,          \n",
      "Lr now: 1e-05\n"
     ]
    },
    {
     "data": {
      "application/vnd.jupyter.widget-view+json": {
       "model_id": "d0b0ee057d5e48cfa97672c15e118959",
       "version_major": 2,
       "version_minor": 0
      },
      "text/plain": [
       "HBox(children=(FloatProgress(value=0.0, layout=Layout(flex='2'), max=711.0), HTML(value='')), layout=Layout(di…"
      ]
     },
     "metadata": {},
     "output_type": "display_data"
    },
    {
     "name": "stderr",
     "output_type": "stream",
     "text": [
      "IOPub message rate exceeded.\n",
      "The notebook server will temporarily stop sending output\n",
      "to the client in order to avoid crashing it.\n",
      "To change this limit, set the config variable\n",
      "`--NotebookApp.iopub_msg_rate_limit`.\n",
      "\n",
      "Current values:\n",
      "NotebookApp.iopub_msg_rate_limit=1000.0 (msgs/sec)\n",
      "NotebookApp.rate_limit_window=3.0 (secs)\n",
      "\n"
     ]
    },
    {
     "name": "stdout",
     "output_type": "stream",
     "text": [
      "\n"
     ]
    },
    {
     "data": {
      "application/vnd.jupyter.widget-view+json": {
       "model_id": "17643f075aa54587aefd86b43a4d9bb3",
       "version_major": 2,
       "version_minor": 0
      },
      "text/plain": [
       "HBox(children=(FloatProgress(value=0.0, layout=Layout(flex='2'), max=146.0), HTML(value='')), layout=Layout(di…"
      ]
     },
     "metadata": {},
     "output_type": "display_data"
    },
    {
     "name": "stdout",
     "output_type": "stream",
     "text": [
      "\n",
      "Ю-ж-нноо-------К-аа-заа-хх-сс-тт-аа--н-сс-ккая => Южно-Казахстанская  , gt: Южно-Казахстанская  \n",
      "О--------н--------а--------р--------а--------з => Онараз              , gt: Тараз               \n",
      "Но------  -ч-аа--с-------  -н-аа---с---т---аая => Но час настая       , gt: Но час настал       \n",
      "Л----и------с----а------к----о------в----сс-кк => Лисаковск           , gt: Лисаковск           \n",
      "С-а-------р-----ы----------оо------з---ее----к => Сарыозек            , gt: Сарыозек            \n",
      "Lr now: 1e-05\n"
     ]
    },
    {
     "data": {
      "application/vnd.jupyter.widget-view+json": {
       "model_id": "45b41eedbdf445a7b493c7a8b503f2b1",
       "version_major": 2,
       "version_minor": 0
      },
      "text/plain": [
       "HBox(children=(FloatProgress(value=0.0, layout=Layout(flex='2'), max=711.0), HTML(value='')), layout=Layout(di…"
      ]
     },
     "metadata": {},
     "output_type": "display_data"
    },
    {
     "name": "stderr",
     "output_type": "stream",
     "text": [
      "IOPub message rate exceeded.\n",
      "The notebook server will temporarily stop sending output\n",
      "to the client in order to avoid crashing it.\n",
      "To change this limit, set the config variable\n",
      "`--NotebookApp.iopub_msg_rate_limit`.\n",
      "\n",
      "Current values:\n",
      "NotebookApp.iopub_msg_rate_limit=1000.0 (msgs/sec)\n",
      "NotebookApp.rate_limit_window=3.0 (secs)\n",
      "\n"
     ]
    },
    {
     "name": "stdout",
     "output_type": "stream",
     "text": [
      "\n",
      "То--  ссее-р--дд--е--чч--н-а---я--   -г-о--с-а => То сердечная госа   , gt: То сердечная тоска  \n",
      "Ш----------а------р------дд-----а------рр----а => Шардара             , gt: Шардара             \n",
      "блл-аа---г-оо---д---а---рр---н---оо---сс-тт-ь. => благодарность.      , gt: благодарность.      \n",
      "Ш-----------ы------м-------к---е----н-------т- => Шымкент             , gt: Шымкент             \n",
      "А----------к--------т----------о------бб-----е => Актобе              , gt: Актобе              \n",
      "Lr now: 1e-05\n"
     ]
    },
    {
     "data": {
      "application/vnd.jupyter.widget-view+json": {
       "model_id": "afa176a0a29541348614d006874571c0",
       "version_major": 2,
       "version_minor": 0
      },
      "text/plain": [
       "HBox(children=(FloatProgress(value=0.0, layout=Layout(flex='2'), max=711.0), HTML(value='')), layout=Layout(di…"
      ]
     },
     "metadata": {},
     "output_type": "display_data"
    },
    {
     "name": "stdout",
     "output_type": "stream",
     "text": [
      "\n"
     ]
    },
    {
     "data": {
      "application/vnd.jupyter.widget-view+json": {
       "model_id": "8d0d87df36f24de2ab4bff3a833ade4d",
       "version_major": 2,
       "version_minor": 0
      },
      "text/plain": [
       "HBox(children=(FloatProgress(value=0.0, layout=Layout(flex='2'), max=146.0), HTML(value='')), layout=Layout(di…"
      ]
     },
     "metadata": {},
     "output_type": "display_data"
    },
    {
     "name": "stdout",
     "output_type": "stream",
     "text": [
      "\n",
      "Л-ьке---т-------  -п--о--чч----а-----л--ьь-н-о => Лькет почально      , gt: Льет печально       \n",
      "М------е---н--ии--н------сс---к-----ии------й- => Менинский           , gt: Ленинский           \n",
      "Ш------ыы-----м---------к----е----н------т---- => Шымкент             , gt: Шымкент             \n",
      "Вост-ооччнн-о----К-аа-зза--хсс-тт-а--нн-с--кая => Восточно-Казахстанская, gt: Восточно-Казахстанская\n",
      "К---а----з---а----хх------с---тт------а-----н- => Казахстан           , gt: Казахстан           \n",
      "Lr now: 1e-05\n"
     ]
    },
    {
     "data": {
      "application/vnd.jupyter.widget-view+json": {
       "model_id": "b5039a2e1ff44d05a6f4fa87f8d17807",
       "version_major": 2,
       "version_minor": 0
      },
      "text/plain": [
       "HBox(children=(FloatProgress(value=0.0, layout=Layout(flex='2'), max=711.0), HTML(value='')), layout=Layout(di…"
      ]
     },
     "metadata": {},
     "output_type": "display_data"
    },
    {
     "name": "stderr",
     "output_type": "stream",
     "text": [
      "IOPub message rate exceeded.\n",
      "The notebook server will temporarily stop sending output\n",
      "to the client in order to avoid crashing it.\n",
      "To change this limit, set the config variable\n",
      "`--NotebookApp.iopub_msg_rate_limit`.\n",
      "\n",
      "Current values:\n",
      "NotebookApp.iopub_msg_rate_limit=1000.0 (msgs/sec)\n",
      "NotebookApp.rate_limit_window=3.0 (secs)\n",
      "\n"
     ]
    },
    {
     "name": "stdout",
     "output_type": "stream",
     "text": [
      "\n",
      "мнне------   с--н-ии---тт-ссс-я--   п----л-акщ => мне снится плакщ    , gt: мне снится плащ     \n",
      "но  -т--ыы----  -н-ее---  сс-н-и--з-оо-шш--лла => но ты не снизошла   , gt: но ты не снизошла   \n",
      "на----т---а----л--е---й------  -к---о---ши--я, => наталей кошия,      , gt: Не жалей коня,      \n",
      "Уж-----  -н-ее-----  -м---ее--ч---т----а---тть => Уж не мечтать       , gt: Уж не мечтать       \n",
      "К----а------зз---а------х---с---тт-------а---н => Казахстан           , gt: Казахстан           \n",
      "Lr now: 1e-05\n"
     ]
    },
    {
     "data": {
      "application/vnd.jupyter.widget-view+json": {
       "model_id": "b3ec4c8c23ef427187ff0220aa1052cc",
       "version_major": 2,
       "version_minor": 0
      },
      "text/plain": [
       "HBox(children=(FloatProgress(value=0.0, layout=Layout(flex='2'), max=711.0), HTML(value='')), layout=Layout(di…"
      ]
     },
     "metadata": {},
     "output_type": "display_data"
    },
    {
     "name": "stdout",
     "output_type": "stream",
     "text": [
      "\n"
     ]
    },
    {
     "data": {
      "application/vnd.jupyter.widget-view+json": {
       "model_id": "ce6e2dabd9b5474aad03a841402daac6",
       "version_major": 2,
       "version_minor": 0
      },
      "text/plain": [
       "HBox(children=(FloatProgress(value=0.0, layout=Layout(flex='2'), max=146.0), HTML(value='')), layout=Layout(di…"
      ]
     },
     "metadata": {},
     "output_type": "display_data"
    },
    {
     "name": "stderr",
     "output_type": "stream",
     "text": [
      "IOPub message rate exceeded.\n",
      "The notebook server will temporarily stop sending output\n",
      "to the client in order to avoid crashing it.\n",
      "To change this limit, set the config variable\n",
      "`--NotebookApp.iopub_msg_rate_limit`.\n",
      "\n",
      "Current values:\n",
      "NotebookApp.iopub_msg_rate_limit=1000.0 (msgs/sec)\n",
      "NotebookApp.rate_limit_window=3.0 (secs)\n",
      "\n"
     ]
    },
    {
     "name": "stdout",
     "output_type": "stream",
     "text": [
      "\n"
     ]
    },
    {
     "data": {
      "application/vnd.jupyter.widget-view+json": {
       "model_id": "23fa513a56944f678dfd0670cdb6fbca",
       "version_major": 2,
       "version_minor": 0
      },
      "text/plain": [
       "HBox(children=(FloatProgress(value=0.0, layout=Layout(flex='2'), max=146.0), HTML(value='')), layout=Layout(di…"
      ]
     },
     "metadata": {},
     "output_type": "display_data"
    },
    {
     "name": "stdout",
     "output_type": "stream",
     "text": [
      "\n",
      "Каа--р--а---гг-аа---н---д--ии---н--сс-кк--а--я => Карагандинская      , gt: Карагандинская      \n",
      "и---   о---д--ии--мм-----   п-рроо---уу-кндун, => и одим проукндун,   , gt: и одним пробужден,  \n",
      "м-------------е---------н---------я----------. => меня.               , gt: меня.               \n",
      "В------  -к----о----тт-----оо---р---о------м-- => В котором           , gt: В котором           \n",
      "блаа--гго---у--хх-аа--се-тт----------   ссаад, => благоухасет сад,    , gt: благоухает сад,     \n",
      "Lr now: 1e-05\n",
      "Saving trainer to /home/storage/3020/KrivorotovI/db/HKR_experiments/FCNN_1.\n",
      "Trainer is saved.\n"
     ]
    }
   ],
   "source": [
    "init_dict = {'device': 'cuda:7',\n",
    "             'save_folder': '/home/storage/3020/KrivorotovI/db/HKR_experiments/FCNN_1',\n",
    "             \n",
    "             'train_dataset':{'pickle_file': '/home/storage/3020/KrivorotovI/db/HKR/datasets/train.pkl',\n",
    "                              'meta': False,\n",
    "                              'num_imgs': -1,\n",
    "                              'rescale_mode': True,\n",
    "                              'padding_mode': False},\n",
    "             'valid_dataset': {'pickle_file': '/home/storage/3020/KrivorotovI/db/HKR/datasets/val.pkl',\n",
    "                               'meta': False,\n",
    "                               'num_imgs': -1,\n",
    "                               'rescale_mode': True,\n",
    "                               'padding_mode': False},\n",
    "             'test1_dataset': {'pickle_file': '/home/storage/3020/KrivorotovI/db/HKR/datasets/test1_clear.pkl',\n",
    "                               'meta': False,\n",
    "                               'num_imgs': -1,\n",
    "                               'rescale_mode': True,\n",
    "                               'padding_mode': False},\n",
    "             'test2_dataset': {'pickle_file': '/home/storage/3020/KrivorotovI/db/HKR/datasets/test2.pkl',\n",
    "                               'meta': False,\n",
    "                               'num_imgs': -1,\n",
    "                               'rescale_mode': True,\n",
    "                               'padding_mode': False},\n",
    "             \n",
    "             'num_imgs': -1, 'num_workers': 1, 'batch_size': 64, 'seed': 34, 'max_epochs': 100, 'model_pretrain': '',\n",
    "             \n",
    "             'model_params':{'name': 'FCNN',\n",
    "                             'nc': 3,\n",
    "                             },\n",
    "             \n",
    "             'optimizer_params':{'class': 'RMSprop',\n",
    "                                 'parameters':{'lr': 0.001}\n",
    "                                 },\n",
    "             'scheduler_params':{'milestones':[40, 70],\n",
    "                                 'gamma': 0.1}}\n",
    "trainer = Trainer(**init_dict)\n",
    "trainer.train()"
   ]
  },
  {
   "cell_type": "code",
   "execution_count": 3,
   "metadata": {},
   "outputs": [
    {
     "data": {
      "application/vnd.jupyter.widget-view+json": {
       "model_id": "bfaf8f261c324144b72acfb72282edda",
       "version_major": 2,
       "version_minor": 0
      },
      "text/plain": [
       "HBox(children=(FloatProgress(value=0.0, layout=Layout(flex='2'), max=74.0), HTML(value='')), layout=Layout(dis…"
      ]
     },
     "metadata": {},
     "output_type": "display_data"
    },
    {
     "name": "stdout",
     "output_type": "stream",
     "text": [
      "\n",
      "М------------а--------к-------а---------т----- => Макат               , gt: Макат               \n",
      "К----аа-----р---аа-----г---а-----н--------д--а => Караганда           , gt: Караганда           \n",
      "свв-о---б-оо--д---у---  -м---ю----б--и--тт-ьь? => свободу мюбить?     , gt: свободу любить?     \n",
      "С--ее-------м-----------а------------и-------й => Семаий              , gt: Семей               \n",
      "У-------ш----------т------------о------б-----е => Уштобе              , gt: Уштобе              \n",
      "Lr now: 1e-05\n",
      "CER: 0.16272782863446614\n",
      "WER: 0.5563766891891891\n"
     ]
    }
   ],
   "source": [
    "trainer.validate(iterator = trainer.test1_iterator, test = True)"
   ]
  },
  {
   "cell_type": "code",
   "execution_count": 4,
   "metadata": {},
   "outputs": [
    {
     "data": {
      "application/vnd.jupyter.widget-view+json": {
       "model_id": "3ca9b72fb3674c588ee4a39063aa5d8d",
       "version_major": 2,
       "version_minor": 0
      },
      "text/plain": [
       "HBox(children=(FloatProgress(value=0.0, layout=Layout(flex='2'), max=78.0), HTML(value='')), layout=Layout(dis…"
      ]
     },
     "metadata": {},
     "output_type": "display_data"
    },
    {
     "name": "stdout",
     "output_type": "stream",
     "text": [
      "\n",
      "в-п-----о-----т------ь----м-------аа------х--. => впотьмах.           , gt: впотьмах.           \n",
      "А--тт-----ы----рр--а------уу--сс---к----а----я => Атырауская          , gt: Атырауская          \n",
      "ег--о--------  -п---иии----т-------а---е----т- => его питает          , gt: его питает          \n",
      "о---пп------------яя----------т--------------ь => опять               , gt: опять               \n",
      "П-а---в----л----о----д---а---р----а---к---а--я => Павлодаракая        , gt: Павлодарская        \n",
      "Lr now: 1e-05\n",
      "CER: 0.08597249835635279\n",
      "WER: 0.33707264957264954\n"
     ]
    }
   ],
   "source": [
    "trainer.validate(iterator = trainer.test2_iterator, test = True)"
   ]
  }
 ],
 "metadata": {
  "kernelspec": {
   "display_name": "Python 3",
   "language": "python",
   "name": "python3"
  },
  "language_info": {
   "codemirror_mode": {
    "name": "ipython",
    "version": 3
   },
   "file_extension": ".py",
   "mimetype": "text/x-python",
   "name": "python",
   "nbconvert_exporter": "python",
   "pygments_lexer": "ipython3",
   "version": "3.7.7"
  }
 },
 "nbformat": 4,
 "nbformat_minor": 4
}
