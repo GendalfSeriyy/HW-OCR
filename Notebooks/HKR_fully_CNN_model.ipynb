{
 "cells": [
  {
   "cell_type": "code",
   "execution_count": 1,
   "metadata": {},
   "outputs": [],
   "source": [
    "import logging\n",
    "import torch.nn as nn\n",
    "import numpy as np\n",
    "from matplotlib import pyplot as plt\n",
    "import cv2\n",
    "import torch\n",
    "import torch.nn.functional as F\n",
    "import math\n",
    "import pandas as pd\n",
    "import PIL.Image as Image\n",
    "from torchvision.transforms import ToTensor, ToPILImage\n",
    "import torch.nn.functional as F\n",
    "import segmentation_models_pytorch as smp\n",
    "from collections import OrderedDict\n",
    "import torch\n",
    "import torch.nn as nn\n",
    "import PIL.Image as Image\n",
    "from torchvision.transforms import ToTensor, ToPILImage\n",
    "import torch.nn.functional as F\n",
    "import pickle\n",
    "from tqdm import tqdm_notebook as tqdm\n",
    "import torchvision\n",
    "import time\n",
    "from collections import defaultdict\n",
    "from torch.nn import CTCLoss\n",
    "from Levenshtein import distance\n",
    "import random\n",
    "from torch.utils import data\n",
    "from torch.utils.data import DataLoader"
   ]
  },
  {
   "cell_type": "code",
   "execution_count": 2,
   "metadata": {},
   "outputs": [],
   "source": [
    "class ImageDataset(data.Dataset):\n",
    "    \"\"\"\n",
    "    Dataset class for handwritten lines.\n",
    "\n",
    "    Parameters\n",
    "    ----------\n",
    "    pickle_file : str\n",
    "        Path to a dataset pickle file.\n",
    "    meta : bool\n",
    "        If True, meta data about files is provided.\n",
    "    num_imgs : int, optional (default=-1)\n",
    "        Choose only `num_imgs` imgs for processing. If set to -1, uses all available images.\n",
    "\n",
    "    \"\"\"\n",
    "\n",
    "    def __init__(self, pickle_file, meta=False, num_imgs=-1):\n",
    "        with open(pickle_file, 'rb') as f:\n",
    "            dataset = pickle.load(f)\n",
    "        self.reference_dataset = dataset\n",
    "        self.num_imgs = num_imgs\n",
    "        if (self.num_imgs > 0) and (self.num_imgs < len(self.reference_dataset)):\n",
    "            inds = np.random.choice(np.arange(len(self.reference_dataset)),\n",
    "                                    self.num_imgs, replace=False)\n",
    "            self.reference_dataset = [self.reference_dataset[i] for i in inds]\n",
    "        self.meta = meta\n",
    "\n",
    "    def __getitem__(self, idx):\n",
    "        data = self.reference_dataset[idx]\n",
    "        #img = cv2.imread(data['img_path'], cv2.IMREAD_UNCHANGED) / 255.\n",
    "        img = cv2.resize(cv2.imread(data['img_path'], 0), (444,64)) / 255.\n",
    "        img = torch.from_numpy(img).unsqueeze(0).float()\n",
    "        text = data['description']\n",
    "        width = data['width']\n",
    "        height = data['height']\n",
    "\n",
    "        if self.meta:\n",
    "            return img, text, data, width, height\n",
    "        else:\n",
    "            return img, text\n",
    "\n",
    "    def __len__(self):\n",
    "        return len(self.reference_dataset)\n",
    "    \n",
    "class strLabelConverter(object):\n",
    "    \"\"\"Convert between str and label.\n",
    "    NOTE:\n",
    "        Insert `blank` to the alphabet for CTC.\n",
    "    Args:\n",
    "        alphabet (str): set of the possible characters.\n",
    "        ignore_case (bool, default=True): whether or not to ignore all of the case.\n",
    "    \"\"\"\n",
    "\n",
    "    def __init__(self, alphabet, ignore_case=False):\n",
    "        self._ignore_case = ignore_case\n",
    "        if self._ignore_case:\n",
    "            alphabet = alphabet.lower()\n",
    "        self.alphabet = alphabet + '-'  # for `-1` index\n",
    "        #self.alphabet = alphabet\n",
    "\n",
    "        self.dict = {}\n",
    "        for i, char in enumerate(alphabet):\n",
    "            # NOTE: 0 is reserved for 'blank' required by wrap_ctc\n",
    "            self.dict[char] = i + 1\n",
    "    \n",
    "    def encode(self, text):\n",
    "        \"\"\"Support batch or single str.\n",
    "        Args:\n",
    "            text (str or list of str): texts to convert.\n",
    "        Returns:\n",
    "            torch.LongTensor [length_0 + length_1 + ... length_{n - 1}]: encoded texts.\n",
    "            torch.LongTensor [n]: length of each text.\n",
    "        \"\"\"\n",
    "\n",
    "        length = []\n",
    "        result = []\n",
    "        for item in text:            \n",
    "#             item = item.decode('utf-8','strict')\n",
    "            length.append(len(item))\n",
    "            r = []\n",
    "            for char in item:\n",
    "                index = self.dict[char]\n",
    "                # result.append(index)\n",
    "                r.append(index)\n",
    "            result.append(r)\n",
    "        \n",
    "        max_len = 0\n",
    "        for r in result:\n",
    "            if len(r) > max_len:\n",
    "                max_len = len(r)\n",
    "        \n",
    "        result_temp = []\n",
    "        for r in result:\n",
    "            for i in range(max_len - len(r)):\n",
    "                r.append(0)\n",
    "            result_temp.append(r)\n",
    "\n",
    "        text = result_temp\n",
    "        return (torch.LongTensor(text), torch.LongTensor(length))\n",
    "\n",
    "\n",
    "    def decode(self, t, length, raw=False):\n",
    "        \"\"\"Decode encoded texts back into strs.\n",
    "        Args:\n",
    "            torch.LongTensor [length_0 + length_1 + ... length_{n - 1}]: encoded texts.\n",
    "            torch.LongTensor [n]: length of each text.\n",
    "        Raises:\n",
    "            AssertionError: when the texts and its length does not match.\n",
    "        Returns:\n",
    "            text (str or list of str): texts to convert.\n",
    "        \"\"\"\n",
    "        if length.numel() == 1:\n",
    "            length = length[0]\n",
    "            assert t.numel() == length, \"text with length: {} does not match declared length: {}\".format(t.numel(), length)\n",
    "            if raw:\n",
    "                return ''.join([self.alphabet[i - 1] for i in t])\n",
    "            else:\n",
    "                char_list = []\n",
    "                for i in range(length):\n",
    "                    if t[i] != 0 and (not (i > 0 and t[i - 1] == t[i])):\n",
    "                        char_list.append(self.alphabet[t[i] - 1])\n",
    "                return ''.join(char_list)\n",
    "        else:\n",
    "            # batch mode\n",
    "            assert t.numel() == length.sum(), \"texts with length: {} does not match declared length: {}\".format(t.numel(), length.sum())\n",
    "            texts = []\n",
    "            index = 0\n",
    "            for i in range(length.numel()):\n",
    "                l = length[i]\n",
    "                texts.append(\n",
    "                    self.decode(\n",
    "                        t[index:index + l], torch.LongTensor([l]), raw=raw))\n",
    "                index += l\n",
    "            return texts"
   ]
  },
  {
   "cell_type": "code",
   "execution_count": 3,
   "metadata": {},
   "outputs": [],
   "source": [
    "class BidirectionalLSTM(nn.Module):\n",
    "\n",
    "    def __init__(self, nIn, nHidden, nOut):\n",
    "        super(BidirectionalLSTM, self).__init__()\n",
    "\n",
    "        self.rnn = nn.LSTM(nIn, nHidden, bidirectional=True)\n",
    "        self.embedding = nn.Linear(nHidden * 2, nOut)\n",
    "\n",
    "    def forward(self, input):\n",
    "        recurrent, _ = self.rnn(input)\n",
    "        T, b, h = recurrent.size()\n",
    "        t_rec = recurrent.view(T * b, h)\n",
    "\n",
    "        output = self.embedding(t_rec)  # [T * b, nOut]\n",
    "        output = output.view(T, b, -1)\n",
    "\n",
    "        return output\n",
    "    \n",
    "class CRNN(nn.Module):\n",
    "\n",
    "    def __init__(self, imgH, nc, nclass, nh, n_rnn=2, leakyRelu=False):\n",
    "        super(CRNN, self).__init__()\n",
    "        assert imgH % 16 == 0, 'imgH has to be a multiple of 16'\n",
    "\n",
    "        cnn = nn.Sequential()\n",
    "        one_d_cnn = nn.Sequential()\n",
    "\n",
    "        def ConvBlock(in_c, out_c, k_s, padding, stride, dilation = 1, batchNorm=False, dropout = None, pooling = None, number = 0):\n",
    "            \n",
    "            cnn.add_module('conv{0}'.format(number),\n",
    "                           nn.Conv2d(in_c, out_c, k_s, stride, padding, dilation))\n",
    "            if batchNorm:\n",
    "                cnn.add_module('batchnorm{0}'.format(number), nn.BatchNorm2d(out_c))\n",
    "            cnn.add_module('relu{0}'.format(number), nn.ReLU(True))\n",
    "            if dropout is not None:\n",
    "                cnn.add_module('dropout{0}'.format(number), nn.Dropout2d(p=dropout))\n",
    "            if pooling is not None:\n",
    "                cnn.add_module('pooling{0}'.format(number), nn.MaxPool2d(*pooling))\n",
    "\n",
    "        ConvBlock(in_c=nc, out_c=16, k_s=3, padding=1, stride=1, \n",
    "                  dilation = 1, batchNorm=True, dropout = None, pooling = [2,2], number=0)\n",
    "        ConvBlock(in_c=16, out_c=32, k_s=3, padding=1, stride=1, \n",
    "                  dilation = 1, batchNorm=True, dropout = 0.2, pooling = [2,2], number=1)\n",
    "        ConvBlock(in_c=32, out_c=64, k_s=3, padding=1, stride=1, \n",
    "                  dilation = 1, batchNorm=True, dropout = 0.2, pooling = None, number=2)\n",
    "        ConvBlock(in_c=64, out_c=128, k_s=3, padding=1, stride=1, \n",
    "                  dilation = 1, batchNorm=True, dropout = None, pooling = [(2, 2), (2, 1), (0, 1)], number=3)\n",
    "        ConvBlock(in_c=128, out_c=128, k_s=3, padding=1, stride=1, \n",
    "                  dilation = 1, batchNorm=True, dropout = 0.1, pooling = None, number=4)\n",
    "        ConvBlock(in_c=128, out_c=128, k_s=3, padding=1, stride=1, \n",
    "                  dilation = 1, batchNorm=True, dropout = 0.1, pooling = [(2, 2), (2, 1), (0, 1)], number=5)\n",
    "        ConvBlock(in_c=128, out_c=256, k_s=3, padding=0, stride=(1,2), \n",
    "                  dilation = 1, batchNorm=True, dropout = None, pooling = None, number=6)\n",
    "        ConvBlock(in_c=256, out_c=512, k_s=2, padding=0, stride=(2,1), \n",
    "                  dilation = 1, batchNorm=True, dropout = None, pooling = None, number=7)\n",
    "        \n",
    "        one_d_cnn.add_module('conv1d_1',\n",
    "                           nn.Conv1d(512, 256, 5, 1, 1))\n",
    "        one_d_cnn.add_module('batchnorm_1', nn.BatchNorm1d(256))\n",
    "        one_d_cnn.add_module('relu_1', nn.ReLU(True))\n",
    "        one_d_cnn.add_module('conv1d_2',\n",
    "                           nn.Conv1d(256, 256, 3, 1, 1, 2))\n",
    "        one_d_cnn.add_module('batchnorm_2', nn.BatchNorm1d(256))\n",
    "        one_d_cnn.add_module('relu_2', nn.ReLU(True))\n",
    "        one_d_cnn.add_module('conv1d_3',\n",
    "                           nn.Conv1d(256, 128, 3, 1, 1, 3))\n",
    "        one_d_cnn.add_module('batchnorm_3', nn.BatchNorm1d(128))\n",
    "        one_d_cnn.add_module('relu_3', nn.ReLU(True))\n",
    "        one_d_cnn.add_module('conv1d_4',\n",
    "                           nn.Conv1d(128, 128, 3, 1, 1))\n",
    "        one_d_cnn.add_module('batchnorm_4', nn.BatchNorm1d(128))\n",
    "        one_d_cnn.add_module('relu_4', nn.ReLU(True))\n",
    "        one_d_cnn.add_module('conv1d_5',\n",
    "                           nn.Conv1d(128, 80, 1, 1, 0))\n",
    "        \n",
    "\n",
    "        self.cnn = cnn\n",
    "        self.one_d_cnn = one_d_cnn\n",
    "\n",
    "    def forward(self, input):\n",
    "        # conv features\n",
    "        conv = self.cnn(input)\n",
    "        conv = self.one_d_cnn(conv.squeeze(2))\n",
    "        #b, c, h, w = conv.size()\n",
    "        #assert h == 1, \"the height of conv must be 1\"\n",
    "        #conv = conv.squeeze(2)\n",
    "        conv = conv.permute(2, 0, 1)  # [w, b, c]\n",
    "\n",
    "        # rnn features\n",
    "        #output = self.rnn(conv)\n",
    "        \n",
    "        # add log_softmax to converge output\n",
    "        output = F.log_softmax(conv, dim=2)\n",
    "\n",
    "        return output\n",
    "\n",
    "\n",
    "    def backward_hook(self, module, grad_input, grad_output):\n",
    "        for g in grad_input:\n",
    "            g[g != g] = 0   # replace all nan/inf in gradients to zero"
   ]
  },
  {
   "cell_type": "code",
   "execution_count": 4,
   "metadata": {},
   "outputs": [],
   "source": [
    "def train_on_batch_rec(images, gt_text, model_crnn, ocr_loss, optimizer, device, batch_size, converter):\n",
    "\n",
    "    model_crnn.train()\n",
    "    \n",
    "    pred_text = model_crnn(images.to(device))\n",
    "    \n",
    "    preds_size = torch.LongTensor([pred_text.size(0)] * batch_size)\n",
    "    \n",
    "    t_text, l_text = converter.encode(list(gt_text))\n",
    "    \n",
    "    loss = ocr_loss(pred_text, t_text, preds_size, l_text)\n",
    "    \n",
    "    optimizer.zero_grad()\n",
    "    loss.backward()\n",
    "    optimizer.step()\n",
    "    \n",
    "    _, decode_text = pred_text.max(2)\n",
    "    decode_text = decode_text.transpose(1, 0).contiguous().view(-1)\n",
    "    decode_text = converter.decode(decode_text.data, preds_size, raw=False)\n",
    "    \n",
    "    char_correct = 0\n",
    "    total_char = 0\n",
    "    for pred, gt in zip(decode_text, gt_text):\n",
    "        for i, pred_char in enumerate(pred):\n",
    "            if i<len(gt):\n",
    "                if pred_char == gt[i]:\n",
    "                    char_correct += 1\n",
    "        total_char += len(gt)\n",
    "            \n",
    "    acc_char = (char_correct)/float(total_char)\n",
    "    \n",
    "    total_str = 0\n",
    "    n_correct = 0\n",
    "    cer = 0\n",
    "    for pred, target in zip(decode_text, gt_text):\n",
    "        if pred == target:\n",
    "            n_correct += 1\n",
    "        else:\n",
    "            cer += distance(pred, target)/len(target)\n",
    "        total_str+=1\n",
    "            \n",
    "    acc_str = (n_correct)/total_str\n",
    "    cer = cer/total_str\n",
    "    \n",
    "    return (loss.item(), acc_char, acc_str, cer)\n",
    "\n",
    "def val_on_batch_rec(images, gt_text, model_crnn, ocr_loss, device, batch_size, converter):\n",
    "\n",
    "    model_crnn.eval()\n",
    "    \n",
    "    pred_text = model_crnn(images.to(device))\n",
    "    \n",
    "    preds_size = torch.LongTensor([pred_text.size(0)] * batch_size)\n",
    "    \n",
    "    t_text, l_text = converter.encode(list(gt_text))\n",
    "    \n",
    "    loss = ocr_loss(pred_text, t_text, preds_size, l_text)\n",
    "    \n",
    "    _, decode_text = pred_text.max(2)\n",
    "    decode_text = decode_text.transpose(1, 0).contiguous().view(-1)\n",
    "    decode_text = converter.decode(decode_text.data, preds_size, raw=False)\n",
    "    \n",
    "    char_correct = 0\n",
    "    total_char = 0\n",
    "    for pred, gt in zip(decode_text, gt_text):\n",
    "        for i, pred_char in enumerate(pred):\n",
    "            if i<len(gt):\n",
    "                if pred_char == gt[i]:\n",
    "                    char_correct += 1\n",
    "        total_char += len(gt)\n",
    "            \n",
    "    acc_char = (char_correct)/float(total_char)\n",
    "    \n",
    "    total_str = 0\n",
    "    n_correct = 0\n",
    "    cer = 0\n",
    "    for pred, target in zip(decode_text, gt_text):\n",
    "        if pred == target:\n",
    "            n_correct += 1\n",
    "        else:\n",
    "            cer += distance(pred, target)/len(target)\n",
    "        total_str+=1\n",
    "            \n",
    "    acc_str = (n_correct)/total_str\n",
    "    cer = cer/total_str\n",
    "    \n",
    "    _, preds = pred_text.max(2)\n",
    "    preds = preds.transpose(1, 0).contiguous().view(-1)\n",
    "    raw_preds = converter.decode(preds.data, preds_size, raw=True)\n",
    "    \n",
    "    return (loss.item(), acc_char, acc_str, cer, decode_text[:5], gt_text[:5], raw_preds[:5])"
   ]
  },
  {
   "cell_type": "code",
   "execution_count": 5,
   "metadata": {},
   "outputs": [],
   "source": [
    "pickle_path_train = '/home/storage/3020/KrivorotovI/db/HKR/datasets/train.pkl'\n",
    "pickle_path_val = '/home/storage/3020/KrivorotovI/db/HKR/datasets/val.pkl'\n",
    "with open(pickle_path_train, 'rb') as f:\n",
    "    full_dataset = pickle.load(f)\n",
    "alphabet = ''\n",
    "st_len = []\n",
    "for example in full_dataset:\n",
    "    alphabet += example['description']\n",
    "    st_len.append(len(example['description']))\n",
    "alphabet = list(set(alphabet))\n",
    "alphabet =''.join(alphabet)\n"
   ]
  },
  {
   "cell_type": "code",
   "execution_count": 6,
   "metadata": {},
   "outputs": [
    {
     "data": {
      "text/plain": [
       "42"
      ]
     },
     "execution_count": 6,
     "metadata": {},
     "output_type": "execute_result"
    }
   ],
   "source": [
    "max(st_len)"
   ]
  },
  {
   "cell_type": "code",
   "execution_count": 7,
   "metadata": {},
   "outputs": [
    {
     "data": {
      "text/plain": [
       "'ИфнHтюЭқрСщзилОуМ.яБ:хоч?ШгсЗкбь!өУё)–Ыж—ЬНЮЛЙВыТПЖ(Чм,ЕХӨцшК;Рo-еп А…эйваЯДҚдГ'"
      ]
     },
     "execution_count": 7,
     "metadata": {},
     "output_type": "execute_result"
    }
   ],
   "source": [
    "alphabet"
   ]
  },
  {
   "cell_type": "code",
   "execution_count": 8,
   "metadata": {},
   "outputs": [],
   "source": [
    "imgH = 32 # the height of the input image to network\n",
    "imgW = 100 # the width of the input image to network\n",
    "nh = 256 # size of the lstm hidden state\n",
    "nc = 1\n",
    "nclass = len(alphabet)+1\n",
    "batch_size = 64"
   ]
  },
  {
   "cell_type": "code",
   "execution_count": 11,
   "metadata": {},
   "outputs": [],
   "source": [
    "device = torch.device(\"cuda:4\")\n",
    "converter = strLabelConverter(alphabet)\n",
    "net = CRNN(imgH, nc, nclass, nh)\n",
    "net.to(device)\n",
    "ocr_loss = CTCLoss()\n",
    "optimizer = torch.optim.RMSprop(net.parameters(), lr=0.0001)\n",
    "train_dataset = ImageDataset(pickle_path_train, num_imgs=-1)\n",
    "val_dataset = ImageDataset(pickle_path_val, num_imgs=-1)\n",
    "\n",
    "train_dataloader = DataLoader(train_dataset, batch_size=batch_size,\n",
    "                        shuffle=True, num_workers=1, drop_last = True)\n",
    "val_dataloader = DataLoader(val_dataset, batch_size=batch_size,\n",
    "                        shuffle=True, num_workers=1, drop_last = True)"
   ]
  },
  {
   "cell_type": "code",
   "execution_count": 12,
   "metadata": {},
   "outputs": [
    {
     "name": "stdout",
     "output_type": "stream",
     "text": [
      "torch.Size([64, 1, 64, 444])\n",
      "бессмертными стихами?\n"
     ]
    },
    {
     "data": {
      "image/png": "[encoded data removed]",
      "text/plain": [
       "<Figure size 432x288 with 1 Axes>"
      ]
     },
     "metadata": {
      "needs_background": "light"
     },
     "output_type": "display_data"
    }
   ],
   "source": [
    "for imgs, text in train_dataloader:\n",
    "    print(imgs.shape)\n",
    "    plt.imshow(imgs[0][0], cmap = 'gray')\n",
    "    print(text[0])\n",
    "    break"
   ]
  },
  {
   "cell_type": "code",
   "execution_count": null,
   "metadata": {},
   "outputs": [
    {
     "name": "stderr",
     "output_type": "stream",
     "text": [
      "/usr/local/lib/python3.7/site-packages/ipykernel_launcher.py:22: TqdmDeprecationWarning: This function will be removed in tqdm==5.0.0\n",
      "Please use `tqdm.notebook.tqdm` instead of `tqdm.tqdm_notebook`\n"
     ]
    },
    {
     "data": {
      "application/vnd.jupyter.widget-view+json": {
       "model_id": "f747bd5af6c94b8da88218117acaca13",
       "version_major": 2,
       "version_minor": 0
      },
      "text/plain": [
       "HBox(children=(FloatProgress(value=0.0, layout=Layout(flex='2'), max=711.0), HTML(value='')), layout=Layout(di…"
      ]
     },
     "metadata": {},
     "output_type": "display_data"
    },
    {
     "name": "stdout",
     "output_type": "stream",
     "text": [
      "\n"
     ]
    },
    {
     "name": "stderr",
     "output_type": "stream",
     "text": [
      "/usr/local/lib/python3.7/site-packages/ipykernel_launcher.py:53: TqdmDeprecationWarning: This function will be removed in tqdm==5.0.0\n",
      "Please use `tqdm.notebook.tqdm` instead of `tqdm.tqdm_notebook`\n"
     ]
    },
    {
     "data": {
      "application/vnd.jupyter.widget-view+json": {
       "model_id": "292b135d9b5c4be49f31146faff0c176",
       "version_major": 2,
       "version_minor": 0
      },
      "text/plain": [
       "HBox(children=(FloatProgress(value=0.0, layout=Layout(flex='2'), max=146.0), HTML(value='')), layout=Layout(di…"
      ]
     },
     "metadata": {},
     "output_type": "display_data"
    },
    {
     "name": "stdout",
     "output_type": "stream",
     "text": [
      "\n",
      "Lr now: 0.0001\n",
      "А---------------------------------------------- => А                   , gt: сплю,               \n",
      "А---------------------------------------------- => А                   , gt: АКТОБЕ              \n",
      "А----------------------      ---------------  , => А  ,                , gt: Что делать нам с    \n",
      "А------------------        -------------------- => А                   , gt: Южная Осетия        \n",
      "А---------------------------------------------- => А                   , gt: И, докучных         \n"
     ]
    },
    {
     "data": {
      "application/vnd.jupyter.widget-view+json": {
       "model_id": "41ebe571ae364dd4a54cf856f852c9e7",
       "version_major": 2,
       "version_minor": 0
      },
      "text/plain": [
       "HBox(children=(FloatProgress(value=0.0, layout=Layout(flex='2'), max=711.0), HTML(value='')), layout=Layout(di…"
      ]
     },
     "metadata": {},
     "output_type": "display_data"
    },
    {
     "name": "stdout",
     "output_type": "stream",
     "text": [
      "\n"
     ]
    },
    {
     "data": {
      "application/vnd.jupyter.widget-view+json": {
       "model_id": "f44de4e22b574c3ab0abefc628e3e2e7",
       "version_major": 2,
       "version_minor": 0
      },
      "text/plain": [
       "HBox(children=(FloatProgress(value=0.0, layout=Layout(flex='2'), max=146.0), HTML(value='')), layout=Layout(di…"
      ]
     },
     "metadata": {},
     "output_type": "display_data"
    },
    {
     "name": "stdout",
     "output_type": "stream",
     "text": [
      "\n",
      "Lr now: 0.0001\n",
      "А---------------------------------------------, => А,                  , gt: Абхазия             \n",
      "К--------------------------------------------ая => Кая                 , gt: Сапипаев            \n",
      "н-----       --------------------------р-----а- => н ра                , gt: не наглядясь        \n",
      "А--    --------------------------------------ая => А ая                , gt: В накошенные        \n",
      "---------------------------------------------а- => а                   , gt: изгнанья,           \n"
     ]
    },
    {
     "data": {
      "application/vnd.jupyter.widget-view+json": {
       "model_id": "d4a5c36d0db141f48dc64a020313d2a5",
       "version_major": 2,
       "version_minor": 0
      },
      "text/plain": [
       "HBox(children=(FloatProgress(value=0.0, layout=Layout(flex='2'), max=711.0), HTML(value='')), layout=Layout(di…"
      ]
     },
     "metadata": {},
     "output_type": "display_data"
    },
    {
     "name": "stdout",
     "output_type": "stream",
     "text": [
      "\n"
     ]
    },
    {
     "data": {
      "application/vnd.jupyter.widget-view+json": {
       "model_id": "656c7794e9b34808913185e20896f2a5",
       "version_major": 2,
       "version_minor": 0
      },
      "text/plain": [
       "HBox(children=(FloatProgress(value=0.0, layout=Layout(flex='2'), max=146.0), HTML(value='')), layout=Layout(di…"
      ]
     },
     "metadata": {},
     "output_type": "display_data"
    },
    {
     "name": "stdout",
     "output_type": "stream",
     "text": [
      "\n",
      "Lr now: 0.0001\n",
      "--------------------н------ее------------------ => не                  , gt: Огнем               \n",
      "в------  с--в--оо----и-----------   с-----н---- => в свои сн           , gt: в свои сны          \n",
      "по-------з----д-а----вв--оо-----т-------------- => поздавот            , gt: раздаваться         \n",
      "зо------в------о--------дд----------т---о------ => зоводто             , gt: Заводской           \n",
      "не--- ---к--а----------й------   -к-о-----н--я, => не кай коня,        , gt: Не жалей коня,      \n"
     ]
    },
    {
     "data": {
      "application/vnd.jupyter.widget-view+json": {
       "model_id": "6134e2770fe347e9a45dc4e4b735a01c",
       "version_major": 2,
       "version_minor": 0
      },
      "text/plain": [
       "HBox(children=(FloatProgress(value=0.0, layout=Layout(flex='2'), max=711.0), HTML(value='')), layout=Layout(di…"
      ]
     },
     "metadata": {},
     "output_type": "display_data"
    },
    {
     "name": "stdout",
     "output_type": "stream",
     "text": [
      "\n"
     ]
    },
    {
     "data": {
      "application/vnd.jupyter.widget-view+json": {
       "model_id": "029821a2a38a4c14935ca6079931e7c2",
       "version_major": 2,
       "version_minor": 0
      },
      "text/plain": [
       "HBox(children=(FloatProgress(value=0.0, layout=Layout(flex='2'), max=146.0), HTML(value='')), layout=Layout(di…"
      ]
     },
     "metadata": {},
     "output_type": "display_data"
    },
    {
     "name": "stdout",
     "output_type": "stream",
     "text": [
      "\n",
      "Lr now: 0.0001\n",
      "н--  ввс---то-----и---н--и--л---- -я----  --обй => н встоинил я обй    , gt: И вспомнил я тебя   \n",
      "Ол--я---  -м---и---р--нно--йй---   -жо---н--зни => Оля мирной жонзни   , gt: Для мирной жизни    \n",
      "-н-е-------  --л----нн----а------н--е-------  в => не лнане в          , gt: Она лежала в        \n",
      "К----аа-------за-------х----с-----т----а------н => Казахстан           , gt: Казахстан           \n",
      "Я-------------  --к----рр--е------п------к----о => Я крепко            , gt: Я крепко            \n"
     ]
    },
    {
     "data": {
      "application/vnd.jupyter.widget-view+json": {
       "model_id": "d649a0228a734f69a80f46ac838eda51",
       "version_major": 2,
       "version_minor": 0
      },
      "text/plain": [
       "HBox(children=(FloatProgress(value=0.0, layout=Layout(flex='2'), max=711.0), HTML(value='')), layout=Layout(di…"
      ]
     },
     "metadata": {},
     "output_type": "display_data"
    },
    {
     "name": "stdout",
     "output_type": "stream",
     "text": [
      "\n"
     ]
    },
    {
     "data": {
      "application/vnd.jupyter.widget-view+json": {
       "model_id": "912389fcf7d246dda4329c051d9c6937",
       "version_major": 2,
       "version_minor": 0
      },
      "text/plain": [
       "HBox(children=(FloatProgress(value=0.0, layout=Layout(flex='2'), max=146.0), HTML(value='')), layout=Layout(di…"
      ]
     },
     "metadata": {},
     "output_type": "display_data"
    },
    {
     "name": "stdout",
     "output_type": "stream",
     "text": [
      "\n",
      "Lr now: 0.0001\n",
      "З-ы------о-----я-------т------о---вв----с-----к => Зыоятовск           , gt: Зыряновск           \n",
      "------------------л------------ыы------------е- => лые                 , gt: Злые                \n",
      "с------п-------------------------н---------ю--, => спню,               , gt: сплю,               \n",
      "нее----------  -в------м----------с------тт---е => не вмсте            , gt: Не вместе           \n",
      "А-------Л--------Л-----------А------ТТ-----Ы--- => АЛЛАТЫ              , gt: АЛМАТЫ              \n"
     ]
    },
    {
     "data": {
      "application/vnd.jupyter.widget-view+json": {
       "model_id": "2cfdd9bd5c5a439fa406816ff462e387",
       "version_major": 2,
       "version_minor": 0
      },
      "text/plain": [
       "HBox(children=(FloatProgress(value=0.0, layout=Layout(flex='2'), max=711.0), HTML(value='')), layout=Layout(di…"
      ]
     },
     "metadata": {},
     "output_type": "display_data"
    },
    {
     "name": "stdout",
     "output_type": "stream",
     "text": [
      "\n"
     ]
    },
    {
     "data": {
      "application/vnd.jupyter.widget-view+json": {
       "model_id": "789dd954c2c040d28a71484571a6c304",
       "version_major": 2,
       "version_minor": 0
      },
      "text/plain": [
       "HBox(children=(FloatProgress(value=0.0, layout=Layout(flex='2'), max=146.0), HTML(value='')), layout=Layout(di…"
      ]
     },
     "metadata": {},
     "output_type": "display_data"
    },
    {
     "name": "stdout",
     "output_type": "stream",
     "text": [
      "\n",
      "Lr now: 0.0001\n",
      "св-о---е----й---------  ---до----р-о---г-о----й => своей дорогой       , gt: своей дорогой       \n",
      "во-----з---в----р--аа-----тт------------с-----ь => возвратсь           , gt: возвратясь          \n",
      "с  --рроо----зо--в-оо-йй-----   --зза-----р-е-й => с розовой зарей     , gt: с розовой зарей     \n",
      "К---а-------рр--а---------тт------аа----------у => Каратау             , gt: Каратау             \n",
      "Ко--сс---тта------н---а------л-----сс----а----л => Костаналсал         , gt: Костанайская        \n"
     ]
    },
    {
     "data": {
      "application/vnd.jupyter.widget-view+json": {
       "model_id": "d4f15db234cd4599844549dd42122488",
       "version_major": 2,
       "version_minor": 0
      },
      "text/plain": [
       "HBox(children=(FloatProgress(value=0.0, layout=Layout(flex='2'), max=711.0), HTML(value='')), layout=Layout(di…"
      ]
     },
     "metadata": {},
     "output_type": "display_data"
    },
    {
     "name": "stdout",
     "output_type": "stream",
     "text": [
      "\n"
     ]
    },
    {
     "data": {
      "application/vnd.jupyter.widget-view+json": {
       "model_id": "0ea58276286f4f9ba075ddf5cfa9b3f3",
       "version_major": 2,
       "version_minor": 0
      },
      "text/plain": [
       "HBox(children=(FloatProgress(value=0.0, layout=Layout(flex='2'), max=146.0), HTML(value='')), layout=Layout(di…"
      ]
     },
     "metadata": {},
     "output_type": "display_data"
    },
    {
     "name": "stdout",
     "output_type": "stream",
     "text": [
      "\n",
      "Lr now: 0.0001\n",
      "л------о------и-----------р-------у------ж----и => лоиружи             , gt: Мои руки            \n",
      "Оо---т--ьь-----  -с-а-----м--------  -тт---о-чь => Ооть сам точь       , gt: Хоть сам того       \n",
      "Т--------д--е-------  --л-------а-------н-----к => Тде ланк            , gt: Где танк            \n",
      "Р-----------------с------сс---------и---------я => Рссия               , gt: Россия              \n",
      "М---------с-----а-------к---о------в---сс----к- => Мсаковск            , gt: Лисаковск           \n"
     ]
    },
    {
     "data": {
      "application/vnd.jupyter.widget-view+json": {
       "model_id": "94188031a7df43c8b6127f21c0b33d85",
       "version_major": 2,
       "version_minor": 0
      },
      "text/plain": [
       "HBox(children=(FloatProgress(value=0.0, layout=Layout(flex='2'), max=711.0), HTML(value='')), layout=Layout(di…"
      ]
     },
     "metadata": {},
     "output_type": "display_data"
    },
    {
     "name": "stdout",
     "output_type": "stream",
     "text": [
      "\n"
     ]
    },
    {
     "data": {
      "application/vnd.jupyter.widget-view+json": {
       "model_id": "b361151909a14330bf19311d73d00c35",
       "version_major": 2,
       "version_minor": 0
      },
      "text/plain": [
       "HBox(children=(FloatProgress(value=0.0, layout=Layout(flex='2'), max=146.0), HTML(value='')), layout=Layout(di…"
      ]
     },
     "metadata": {},
     "output_type": "display_data"
    },
    {
     "name": "stdout",
     "output_type": "stream",
     "text": [
      "\n",
      "Lr now: 0.0001\n",
      "звоо---и---к---и---хх------ сс--т---р----у--йй. => звоиких струй.      , gt: звонких струй.      \n",
      "А-----------к--------тт------о-------бб-----ее- => Актобе              , gt: Актобе              \n",
      "Ка----р--а----г-а-----н----д--и---н-сс--ккаа--я => Карагандинская      , gt: Карагандинская      \n",
      "Д-а----л----к--о-------   с-----  --м---о---рря => Далко с моря        , gt: Далеко с моря       \n",
      "М--------о------л------д--а-----в------и-----я- => Молдавия            , gt: Молдавия            \n"
     ]
    },
    {
     "data": {
      "application/vnd.jupyter.widget-view+json": {
       "model_id": "f7edb7e5929d40db8f72707fe1d800ce",
       "version_major": 2,
       "version_minor": 0
      },
      "text/plain": [
       "HBox(children=(FloatProgress(value=0.0, layout=Layout(flex='2'), max=711.0), HTML(value='')), layout=Layout(di…"
      ]
     },
     "metadata": {},
     "output_type": "display_data"
    },
    {
     "name": "stdout",
     "output_type": "stream",
     "text": [
      "\n"
     ]
    },
    {
     "data": {
      "application/vnd.jupyter.widget-view+json": {
       "model_id": "de18ca9713f448e79dcd8e7b7319ae2f",
       "version_major": 2,
       "version_minor": 0
      },
      "text/plain": [
       "HBox(children=(FloatProgress(value=0.0, layout=Layout(flex='2'), max=146.0), HTML(value='')), layout=Layout(di…"
      ]
     },
     "metadata": {},
     "output_type": "display_data"
    },
    {
     "name": "stdout",
     "output_type": "stream",
     "text": [
      "\n",
      "Lr now: 0.0001\n",
      "с--к-----о-------р----ю---------   --л-----и--, => скорю ли,           , gt: скоро ли,           \n",
      "Чт---  --д-ее--лла----тьь---  -н-а-----л----- с => Чт делать нал с     , gt: Что делать нам с    \n",
      "в-----п--о-----т------ь------м------аа-------х. => впотьмах.           , gt: впотьмах.           \n",
      "Я------------------  --З-------р-----у-----ии-х => Я Зруих             , gt: яд другим           \n",
      "Г------------о----------лл----------оо------с-- => Голос               , gt: Голос               \n"
     ]
    },
    {
     "data": {
      "application/vnd.jupyter.widget-view+json": {
       "model_id": "e67297ae9d024786b03e0f24995a0c91",
       "version_major": 2,
       "version_minor": 0
      },
      "text/plain": [
       "HBox(children=(FloatProgress(value=0.0, layout=Layout(flex='2'), max=711.0), HTML(value='')), layout=Layout(di…"
      ]
     },
     "metadata": {},
     "output_type": "display_data"
    },
    {
     "name": "stdout",
     "output_type": "stream",
     "text": [
      "\n"
     ]
    },
    {
     "data": {
      "application/vnd.jupyter.widget-view+json": {
       "model_id": "ec3fb9d7f9704ef7ad5750c64a566a8c",
       "version_major": 2,
       "version_minor": 0
      },
      "text/plain": [
       "HBox(children=(FloatProgress(value=0.0, layout=Layout(flex='2'), max=146.0), HTML(value='')), layout=Layout(di…"
      ]
     },
     "metadata": {},
     "output_type": "display_data"
    },
    {
     "name": "stdout",
     "output_type": "stream",
     "text": [
      "\n",
      "Lr now: 0.0001\n",
      "А--кк---т------ю---бб---ии---нн-сс---к--а-----я => Актюбинская         , gt: Актюбинская         \n",
      "Д-рее--мм----я------  с--мм---о-----л--к---н-ул => Дремя смолкнул      , gt: Дремля смолкнул     \n",
      "нее-------  -вв----с--е-----гг-------д--о-----, => не всегдо,          , gt: не всегда,          \n",
      "И- --м----а----я---к---ии----  с--к--вв--оо--зь => И маяки сквозь      , gt: И маяки сквозь      \n",
      "К---у---л-----ь------сс-----а-------р-----ы---- => Кульсары            , gt: Кульсары            \n"
     ]
    },
    {
     "data": {
      "application/vnd.jupyter.widget-view+json": {
       "model_id": "286e7fefed474bb0ae26fc32d16e65b4",
       "version_major": 2,
       "version_minor": 0
      },
      "text/plain": [
       "HBox(children=(FloatProgress(value=0.0, layout=Layout(flex='2'), max=711.0), HTML(value='')), layout=Layout(di…"
      ]
     },
     "metadata": {},
     "output_type": "display_data"
    },
    {
     "name": "stdout",
     "output_type": "stream",
     "text": [
      "\n"
     ]
    },
    {
     "data": {
      "application/vnd.jupyter.widget-view+json": {
       "model_id": "57e9e850cfd74a90804080e2b423345d",
       "version_major": 2,
       "version_minor": 0
      },
      "text/plain": [
       "HBox(children=(FloatProgress(value=0.0, layout=Layout(flex='2'), max=146.0), HTML(value='')), layout=Layout(di…"
      ]
     },
     "metadata": {},
     "output_type": "display_data"
    },
    {
     "name": "stdout",
     "output_type": "stream",
     "text": [
      "\n",
      "Lr now: 0.0001\n",
      "----д------в-------а-----рр-----------а-------, => двара,              , gt: двора,              \n",
      "Б-----е-----с------тт------------о------б----ее => Бестобе             , gt: Бестобе             \n",
      "З---а----ч-----а----------аа-----н-----а-----к- => Зачаанак            , gt: Зачаганск           \n",
      "П--ее---т----р-о----п-аа---вв----л-о---вв--сс-к => Петропавловск       , gt: Петропавловск       \n",
      "К-а-------н-------д--ы--и------г---а-------и--- => Кандыигаи           , gt: Кандыагаш           \n"
     ]
    },
    {
     "data": {
      "application/vnd.jupyter.widget-view+json": {
       "model_id": "32feaf4baa494528af83a560b5361098",
       "version_major": 2,
       "version_minor": 0
      },
      "text/plain": [
       "HBox(children=(FloatProgress(value=0.0, layout=Layout(flex='2'), max=711.0), HTML(value='')), layout=Layout(di…"
      ]
     },
     "metadata": {},
     "output_type": "display_data"
    },
    {
     "name": "stdout",
     "output_type": "stream",
     "text": [
      "\n"
     ]
    },
    {
     "data": {
      "application/vnd.jupyter.widget-view+json": {
       "model_id": "5700039933d14d0a8e94791e1569baaf",
       "version_major": 2,
       "version_minor": 0
      },
      "text/plain": [
       "HBox(children=(FloatProgress(value=0.0, layout=Layout(flex='2'), max=146.0), HTML(value='')), layout=Layout(di…"
      ]
     },
     "metadata": {},
     "output_type": "display_data"
    },
    {
     "name": "stdout",
     "output_type": "stream",
     "text": [
      "\n",
      "Lr now: 0.0001\n",
      "С------------------------------я---------кк---- => Сяк                 , gt: Саяк                \n",
      "К-------ии----р------гг-----и-------з----ии---я => Киргизия            , gt: Киргизия            \n",
      "ка--к-------   --м----о----ллоо----ддо-с---тт-ь => как молодость       , gt: как молодость       \n",
      "Сле---п--ыи---м-------   вв-о---л--ч--а----то-м => Слепыим волчатом    , gt: Слепым волчатам     \n",
      "З---р---о--------ш-------ь-----------а--------у => Зрошьау             , gt: Хромтау             \n"
     ]
    },
    {
     "data": {
      "application/vnd.jupyter.widget-view+json": {
       "model_id": "538869a0ce0d4931b65a997ab402f012",
       "version_major": 2,
       "version_minor": 0
      },
      "text/plain": [
       "HBox(children=(FloatProgress(value=0.0, layout=Layout(flex='2'), max=711.0), HTML(value='')), layout=Layout(di…"
      ]
     },
     "metadata": {},
     "output_type": "display_data"
    },
    {
     "name": "stdout",
     "output_type": "stream",
     "text": [
      "\n"
     ]
    },
    {
     "data": {
      "application/vnd.jupyter.widget-view+json": {
       "model_id": "de11c3de810947c8b026aa0675494e42",
       "version_major": 2,
       "version_minor": 0
      },
      "text/plain": [
       "HBox(children=(FloatProgress(value=0.0, layout=Layout(flex='2'), max=146.0), HTML(value='')), layout=Layout(di…"
      ]
     },
     "metadata": {},
     "output_type": "display_data"
    },
    {
     "name": "stdout",
     "output_type": "stream",
     "text": [
      "\n",
      "Lr now: 0.0001\n",
      "З--а------------а------гг---а-------н--е------к => Зааганек            , gt: Зачаганск           \n",
      "Гдде-----  -в--ыы----л----   -п--о------ж--а--р => Где выл пожар       , gt: Где выл пожар       \n",
      "Р---------о-------г---------------о-------с---- => Рогос               , gt: Голос               \n",
      "перре---ш---е---л--  -н-а----  -ш---е---н-о---т => перешел на шенот    , gt: перешел на шепот    \n",
      "п---------------------------------------------- => п                   , gt: п.                  \n"
     ]
    },
    {
     "data": {
      "application/vnd.jupyter.widget-view+json": {
       "model_id": "e52fb08b95be4dfd9b4ab2435b51ee4f",
       "version_major": 2,
       "version_minor": 0
      },
      "text/plain": [
       "HBox(children=(FloatProgress(value=0.0, layout=Layout(flex='2'), max=711.0), HTML(value='')), layout=Layout(di…"
      ]
     },
     "metadata": {},
     "output_type": "display_data"
    },
    {
     "name": "stdout",
     "output_type": "stream",
     "text": [
      "\n"
     ]
    },
    {
     "data": {
      "application/vnd.jupyter.widget-view+json": {
       "model_id": "30dc3a777e1442749e99e0829d910129",
       "version_major": 2,
       "version_minor": 0
      },
      "text/plain": [
       "HBox(children=(FloatProgress(value=0.0, layout=Layout(flex='2'), max=146.0), HTML(value='')), layout=Layout(di…"
      ]
     },
     "metadata": {},
     "output_type": "display_data"
    },
    {
     "name": "stdout",
     "output_type": "stream",
     "text": [
      "\n",
      "Lr now: 0.0001\n",
      "А--л-----м----а-----т---------и---сс----к--аа-я => Алматиская          , gt: Алматинская         \n",
      "Ю---ж-----н--а----я-----  -д---с-е----т-------и => Южная дсети         , gt: Южная Осетия        \n",
      "Что--  --м-ее--т-ее--  -сс--к-о--рр--м----ии-ле => Что мете скормиле   , gt: что меня вскормила  \n",
      "от--------  -с---тт---рр--а-----д-аа----нн--ь-я => от страданья        , gt: от страданья        \n",
      "А-л----м--я-----т------и----н---с----К----а---я => АлмятинсКая         , gt: Алматинская         \n"
     ]
    },
    {
     "data": {
      "application/vnd.jupyter.widget-view+json": {
       "model_id": "6a9f30aba5484dbd913b828dd5b63360",
       "version_major": 2,
       "version_minor": 0
      },
      "text/plain": [
       "HBox(children=(FloatProgress(value=0.0, layout=Layout(flex='2'), max=711.0), HTML(value='')), layout=Layout(di…"
      ]
     },
     "metadata": {},
     "output_type": "display_data"
    },
    {
     "name": "stdout",
     "output_type": "stream",
     "text": [
      "\n"
     ]
    },
    {
     "data": {
      "application/vnd.jupyter.widget-view+json": {
       "model_id": "48ed38bbdfa749b7a218c4458f52e13f",
       "version_major": 2,
       "version_minor": 0
      },
      "text/plain": [
       "HBox(children=(FloatProgress(value=0.0, layout=Layout(flex='2'), max=146.0), HTML(value='')), layout=Layout(di…"
      ]
     },
     "metadata": {},
     "output_type": "display_data"
    },
    {
     "name": "stdout",
     "output_type": "stream",
     "text": [
      "\n",
      "Lr now: 0.0001\n",
      "че-----мм-----------  сс---о------н-------!!.-. => чем сон!..          , gt: чем сон!..          \n",
      "Ш-----а------х-------т--------и------н---сс---к => Шахтинск            , gt: Шах тинск           \n",
      "Ю-ж--ноо---Кааза----хх----сс--тт-а---н-сс-к-а-я => Южно-Казахстанская  , gt: Южно-Казахстанская  \n",
      "Е----------с----------и---------------лл------ь => Есиль               , gt: Есиль               \n",
      "в------------ыы---------------с---------------- => выс                 , gt: выси                \n"
     ]
    },
    {
     "data": {
      "application/vnd.jupyter.widget-view+json": {
       "model_id": "6c4a1109a03d4acaa6d02c797c07ae39",
       "version_major": 2,
       "version_minor": 0
      },
      "text/plain": [
       "HBox(children=(FloatProgress(value=0.0, layout=Layout(flex='2'), max=711.0), HTML(value='')), layout=Layout(di…"
      ]
     },
     "metadata": {},
     "output_type": "display_data"
    },
    {
     "name": "stdout",
     "output_type": "stream",
     "text": [
      "\n"
     ]
    },
    {
     "data": {
      "application/vnd.jupyter.widget-view+json": {
       "model_id": "4fa314595aa94c8d99612b985e27ea8a",
       "version_major": 2,
       "version_minor": 0
      },
      "text/plain": [
       "HBox(children=(FloatProgress(value=0.0, layout=Layout(flex='2'), max=146.0), HTML(value='')), layout=Layout(di…"
      ]
     },
     "metadata": {},
     "output_type": "display_data"
    },
    {
     "name": "stdout",
     "output_type": "stream",
     "text": [
      "\n",
      "Lr now: 0.0001\n",
      "Ж----А-----М---Б----Ы-----Л---Ь----С----К---А-я => ЖАМБЫЛЬСКАя         , gt: ЖАМБЫЛЬСКАЯ         \n",
      "К-----е--------и----------т-------а----------уу => Кеитау              , gt: Кентау              \n",
      "К--а--------з--а---------х-----с-----Т--а-----н => КазахсТан           , gt: Казахстан           \n",
      "зв-о----и---к---и----х---------  сс---ттрр--ууй => звоиких струй       , gt: звонких струй       \n",
      "Б---ее------л--оо-----р-------у-с--сс-----и---я => Белоруссия          , gt: Белоруссия          \n"
     ]
    },
    {
     "data": {
      "application/vnd.jupyter.widget-view+json": {
       "model_id": "0d40669bac614a32856c5f0b1b5a2b3b",
       "version_major": 2,
       "version_minor": 0
      },
      "text/plain": [
       "HBox(children=(FloatProgress(value=0.0, layout=Layout(flex='2'), max=711.0), HTML(value='')), layout=Layout(di…"
      ]
     },
     "metadata": {},
     "output_type": "display_data"
    },
    {
     "name": "stdout",
     "output_type": "stream",
     "text": [
      "\n"
     ]
    },
    {
     "data": {
      "application/vnd.jupyter.widget-view+json": {
       "model_id": "0aee993b639a4ae788cc3c4c9ad3a092",
       "version_major": 2,
       "version_minor": 0
      },
      "text/plain": [
       "HBox(children=(FloatProgress(value=0.0, layout=Layout(flex='2'), max=146.0), HTML(value='')), layout=Layout(di…"
      ]
     },
     "metadata": {},
     "output_type": "display_data"
    },
    {
     "name": "stdout",
     "output_type": "stream",
     "text": [
      "\n",
      "Lr now: 0.0001\n",
      "Ещ-щее--  -нне---  -п-о---х-в-ии-в---иш----е-ся => Ещще не похвивишеся , gt: Еще не появившиеся  \n",
      "не   -зза--б---е---л-и---   --м---ии--нн--о--й, => не забели миной,    , gt: не забили глиной,   \n",
      "С--------р----ы-------чи------г-----а-------и-- => Срычигаи            , gt: Сарыагаш            \n",
      "К---о--сс----т---а-----н--а----й-------к-а----я => Костанайкая         , gt: Костанайская        \n",
      "А--к-----м----о----л----ии---н---сс---к--аа---я => Акмолинская         , gt: Акмолинская         \n"
     ]
    },
    {
     "data": {
      "application/vnd.jupyter.widget-view+json": {
       "model_id": "1e5ade90d98549f089bb2ff65f83248b",
       "version_major": 2,
       "version_minor": 0
      },
      "text/plain": [
       "HBox(children=(FloatProgress(value=0.0, layout=Layout(flex='2'), max=711.0), HTML(value='')), layout=Layout(di…"
      ]
     },
     "metadata": {},
     "output_type": "display_data"
    },
    {
     "name": "stdout",
     "output_type": "stream",
     "text": [
      "\n"
     ]
    },
    {
     "data": {
      "application/vnd.jupyter.widget-view+json": {
       "model_id": "0a9f9ac1d3b24ad78a8967487ac506aa",
       "version_major": 2,
       "version_minor": 0
      },
      "text/plain": [
       "HBox(children=(FloatProgress(value=0.0, layout=Layout(flex='2'), max=146.0), HTML(value='')), layout=Layout(di…"
      ]
     },
     "metadata": {},
     "output_type": "display_data"
    },
    {
     "name": "stdout",
     "output_type": "stream",
     "text": [
      "\n",
      "Lr now: 0.0001\n",
      "У------к-------рр----а---------и-------н-----а- => Украина             , gt: Украина             \n",
      "О-!------  -ЗЗЗ--а-----чч-ее----м---------- -яя => О! Зачем я          , gt: О! Зачем я          \n",
      "И------   с----д--н----у-----  --м------шш-ш--ь => И сдну мшшь         , gt: И одну лишь         \n",
      "Во---т----и--в------  с---тт-----рр-о--г---и--х => Вотив строгих       , gt: ротив строгих       \n",
      "Ст-о-гг----   пп-рр-ии---н--и----м---а---е---тт => Стог принимает      , gt: Стог принимает      \n"
     ]
    },
    {
     "data": {
      "application/vnd.jupyter.widget-view+json": {
       "model_id": "958883bc53a4459f8a680518ed3f8726",
       "version_major": 2,
       "version_minor": 0
      },
      "text/plain": [
       "HBox(children=(FloatProgress(value=0.0, layout=Layout(flex='2'), max=711.0), HTML(value='')), layout=Layout(di…"
      ]
     },
     "metadata": {},
     "output_type": "display_data"
    },
    {
     "name": "stdout",
     "output_type": "stream",
     "text": [
      "\n"
     ]
    },
    {
     "data": {
      "application/vnd.jupyter.widget-view+json": {
       "model_id": "873ebde7eb8d479f869b63b91ddba611",
       "version_major": 2,
       "version_minor": 0
      },
      "text/plain": [
       "HBox(children=(FloatProgress(value=0.0, layout=Layout(flex='2'), max=146.0), HTML(value='')), layout=Layout(di…"
      ]
     },
     "metadata": {},
     "output_type": "display_data"
    },
    {
     "name": "stdout",
     "output_type": "stream",
     "text": [
      "\n",
      "Lr now: 0.0001\n",
      "отл-------  сс---тт---рр-а-----д-а-----н-ь---я, => отл страданья,      , gt: от страданья,       \n",
      "кля----тт--в-оо--йй----  -о--бб-ее----щща----я, => клятвой обещая,     , gt: клятвой обещал;     \n",
      "К------------р------аа-----с-------ии---------- => Краси               , gt: Украина             \n",
      "Ш---------ы---------м--------к--ее----ни----тт- => Шымкенит            , gt: Шымкент             \n",
      "В-и----д----   -п--о--с----т--о---яя---л--о--го => Вид постоялого      , gt: Вид постоялого      \n"
     ]
    },
    {
     "data": {
      "application/vnd.jupyter.widget-view+json": {
       "model_id": "aed206facf8c4b539b67c7509f749393",
       "version_major": 2,
       "version_minor": 0
      },
      "text/plain": [
       "HBox(children=(FloatProgress(value=0.0, layout=Layout(flex='2'), max=711.0), HTML(value='')), layout=Layout(di…"
      ]
     },
     "metadata": {},
     "output_type": "display_data"
    },
    {
     "name": "stdout",
     "output_type": "stream",
     "text": [
      "\n"
     ]
    },
    {
     "data": {
      "application/vnd.jupyter.widget-view+json": {
       "model_id": "63bee45367e043548a93e4032361af3d",
       "version_major": 2,
       "version_minor": 0
      },
      "text/plain": [
       "HBox(children=(FloatProgress(value=0.0, layout=Layout(flex='2'), max=146.0), HTML(value='')), layout=Layout(di…"
      ]
     },
     "metadata": {},
     "output_type": "display_data"
    },
    {
     "name": "stdout",
     "output_type": "stream",
     "text": [
      "\n",
      "Lr now: 0.0001\n",
      "в-----лл-----------ю------б------лл----е------н => влюблен             , gt: влюблен             \n",
      "с------нн-----------л----------------ю--------, => снлю,               , gt: сплю,               \n",
      "На--м-------  -эттто---   ннее---   --ууз-наать => Нам это не узнать   , gt: Нам это не узнать   \n",
      "Ка----р-а---гг-а----нн---дд--и---н--с---к--а--я => Карагандинская      , gt: Карагандинская      \n",
      "Д----р----у---г-----------  --дд-рр-----у--гг-у => Друг другу          , gt: Друг другу          \n"
     ]
    },
    {
     "data": {
      "application/vnd.jupyter.widget-view+json": {
       "model_id": "3e81baa936b84bcb9e3f02f59839711c",
       "version_major": 2,
       "version_minor": 0
      },
      "text/plain": [
       "HBox(children=(FloatProgress(value=0.0, layout=Layout(flex='2'), max=711.0), HTML(value='')), layout=Layout(di…"
      ]
     },
     "metadata": {},
     "output_type": "display_data"
    },
    {
     "name": "stdout",
     "output_type": "stream",
     "text": [
      "\n"
     ]
    },
    {
     "data": {
      "application/vnd.jupyter.widget-view+json": {
       "model_id": "45f593e61b884cb980878df8fff048d9",
       "version_major": 2,
       "version_minor": 0
      },
      "text/plain": [
       "HBox(children=(FloatProgress(value=0.0, layout=Layout(flex='2'), max=146.0), HTML(value='')), layout=Layout(di…"
      ]
     },
     "metadata": {},
     "output_type": "display_data"
    },
    {
     "name": "stdout",
     "output_type": "stream",
     "text": [
      "\n",
      "Lr now: 0.0001\n",
      "А---------тт---------ыы------р-------аа-------у => Атырау              , gt: Атырау              \n",
      "Заа------ч----а------г----а--------н----с-----к => Зачаганск           , gt: Зачаганск           \n",
      "И--------------  -с-ее-----р-------дд-------ц-е => И сердце            , gt: И сердце            \n",
      "ле-гг--кк--и--ее-----  --л-е----тт-----я----л-. => легкие летял.       , gt: легкие летят.       \n",
      "О------гг-------н-----е------------мл---------- => Огнемл              , gt: Огнем               \n"
     ]
    },
    {
     "data": {
      "application/vnd.jupyter.widget-view+json": {
       "model_id": "653fb4b1923b438ebf906c78c72d756b",
       "version_major": 2,
       "version_minor": 0
      },
      "text/plain": [
       "HBox(children=(FloatProgress(value=0.0, layout=Layout(flex='2'), max=711.0), HTML(value='')), layout=Layout(di…"
      ]
     },
     "metadata": {},
     "output_type": "display_data"
    },
    {
     "name": "stdout",
     "output_type": "stream",
     "text": [
      "\n"
     ]
    },
    {
     "data": {
      "application/vnd.jupyter.widget-view+json": {
       "model_id": "9ba23dd83c9d44d9ab0d23ba8d465984",
       "version_major": 2,
       "version_minor": 0
      },
      "text/plain": [
       "HBox(children=(FloatProgress(value=0.0, layout=Layout(flex='2'), max=146.0), HTML(value='')), layout=Layout(di…"
      ]
     },
     "metadata": {},
     "output_type": "display_data"
    },
    {
     "name": "stdout",
     "output_type": "stream",
     "text": [
      "\n",
      "Lr now: 0.0001\n",
      "Ко-г--д-а-------  -ы--в--о-ее-----  -м---ии--цо => Когда ывое мицо     , gt: Когда твое лицо     \n",
      "П------аа-----вв-----лл-----о-------д--а------р => Павлодар            , gt: Павлодар            \n",
      "И--  --жж---ии---зз-н--ь---г-о--б--о---лее--е-, => И жизньгоболее,     , gt: И жизньпоболее,     \n",
      "И  бб--у--д---уу-тт-----  -м---с---т----ии--тть => И будут мстить      , gt: И будут мстить      \n",
      "О--п---------тт--ьь-------   --п--о-------нн--ы => Опть поны           , gt: Опять полны         \n"
     ]
    },
    {
     "data": {
      "application/vnd.jupyter.widget-view+json": {
       "model_id": "44ed425b9d26442288dc312d259ff39e",
       "version_major": 2,
       "version_minor": 0
      },
      "text/plain": [
       "HBox(children=(FloatProgress(value=0.0, layout=Layout(flex='2'), max=711.0), HTML(value='')), layout=Layout(di…"
      ]
     },
     "metadata": {},
     "output_type": "display_data"
    },
    {
     "name": "stdout",
     "output_type": "stream",
     "text": [
      "\n"
     ]
    },
    {
     "data": {
      "application/vnd.jupyter.widget-view+json": {
       "model_id": "b24f78b70a844b4c907e1b13f975a829",
       "version_major": 2,
       "version_minor": 0
      },
      "text/plain": [
       "HBox(children=(FloatProgress(value=0.0, layout=Layout(flex='2'), max=146.0), HTML(value='')), layout=Layout(di…"
      ]
     },
     "metadata": {},
     "output_type": "display_data"
    },
    {
     "name": "stdout",
     "output_type": "stream",
     "text": [
      "\n",
      "Lr now: 0.0001\n",
      "лон--ы--хх-----   -п-а--кк-о----е-----н--ии--и, => лоных пакоении,     , gt: юных поколении,     \n",
      "С--тт---ее----п----н---оо---гг-о-----р-------кк => Степногорк          , gt: Степногорск         \n",
      "М-----о------и---------  --рр------у---к-----ии => Мои руки            , gt: Мои руки            \n",
      "М------о-----л------д--а-------вв-----ии-----яя => Молдавия            , gt: Молдавия            \n",
      "Ч-тт--о---   --д-о--б--рр-о----д-е----т--е---ль => Что добродетель     , gt: Что добродетель     \n"
     ]
    },
    {
     "data": {
      "application/vnd.jupyter.widget-view+json": {
       "model_id": "5f94d9f20a254d0f90550286b58009c3",
       "version_major": 2,
       "version_minor": 0
      },
      "text/plain": [
       "HBox(children=(FloatProgress(value=0.0, layout=Layout(flex='2'), max=711.0), HTML(value='')), layout=Layout(di…"
      ]
     },
     "metadata": {},
     "output_type": "display_data"
    },
    {
     "name": "stdout",
     "output_type": "stream",
     "text": [
      "\n"
     ]
    },
    {
     "data": {
      "application/vnd.jupyter.widget-view+json": {
       "model_id": "fb449c284ae54b94a0a40dcd981af757",
       "version_major": 2,
       "version_minor": 0
      },
      "text/plain": [
       "HBox(children=(FloatProgress(value=0.0, layout=Layout(flex='2'), max=146.0), HTML(value='')), layout=Layout(di…"
      ]
     },
     "metadata": {},
     "output_type": "display_data"
    },
    {
     "name": "stdout",
     "output_type": "stream",
     "text": [
      "\n",
      "Lr now: 0.0001\n",
      "С------ки------------------х------------------- => Ских                , gt: Скучно              \n",
      "Дрре---мм----л-яя---  с---м---о---л--к---н--уул => Дремля смолкнул     , gt: Дремля смолкнул     \n",
      "несс--яя---цц---  -мм--и---м--о--е---зз---ж-лй, => несяц мимоезжлй,    , gt: месяц мимоезжий,    \n",
      "А----т----ыы-----рр-а------у--с----кк---а-----я => Атырауская          , gt: Атырауская          \n",
      "---------дд------ее--------н-----------------ьь => день                , gt: день                \n"
     ]
    },
    {
     "data": {
      "application/vnd.jupyter.widget-view+json": {
       "model_id": "a4d14c769fff48efb51110423f8d5834",
       "version_major": 2,
       "version_minor": 0
      },
      "text/plain": [
       "HBox(children=(FloatProgress(value=0.0, layout=Layout(flex='2'), max=711.0), HTML(value='')), layout=Layout(di…"
      ]
     },
     "metadata": {},
     "output_type": "display_data"
    },
    {
     "name": "stdout",
     "output_type": "stream",
     "text": [
      "\n"
     ]
    },
    {
     "data": {
      "application/vnd.jupyter.widget-view+json": {
       "model_id": "0b495973b76049a0b67eca0e6184b8cd",
       "version_major": 2,
       "version_minor": 0
      },
      "text/plain": [
       "HBox(children=(FloatProgress(value=0.0, layout=Layout(flex='2'), max=146.0), HTML(value='')), layout=Layout(di…"
      ]
     },
     "metadata": {},
     "output_type": "display_data"
    },
    {
     "name": "stdout",
     "output_type": "stream",
     "text": [
      "\n",
      "Lr now: 0.0001\n",
      "с----тт------------ы-----------дд-----аа------- => стыда               , gt: стыда               \n",
      "в-а-----н---ии---г-е----л----------   с--в--о-й => ванигел свой        , gt: выжигал свой        \n",
      "А---тт---ы------рр--аа-------у-сс---к---а-----я => Атырауская          , gt: Атырауская          \n",
      "А-л----м------а-----т---и-----н--сс----к--а---я => Алматинская         , gt: Алматинская         \n",
      "И- -че----л--о--вв--е--кк-----   -поо---шш--ё-л => И человек пошёл     , gt: И человек пошёл     \n"
     ]
    },
    {
     "data": {
      "application/vnd.jupyter.widget-view+json": {
       "model_id": "489a2f223d1a46b39381f000c9809480",
       "version_major": 2,
       "version_minor": 0
      },
      "text/plain": [
       "HBox(children=(FloatProgress(value=0.0, layout=Layout(flex='2'), max=711.0), HTML(value='')), layout=Layout(di…"
      ]
     },
     "metadata": {},
     "output_type": "display_data"
    },
    {
     "name": "stdout",
     "output_type": "stream",
     "text": [
      "\n"
     ]
    },
    {
     "data": {
      "application/vnd.jupyter.widget-view+json": {
       "model_id": "f2001c41b6b6462cbda464f099b4ca35",
       "version_major": 2,
       "version_minor": 0
      },
      "text/plain": [
       "HBox(children=(FloatProgress(value=0.0, layout=Layout(flex='2'), max=146.0), HTML(value='')), layout=Layout(di…"
      ]
     },
     "metadata": {},
     "output_type": "display_data"
    },
    {
     "name": "stdout",
     "output_type": "stream",
     "text": [
      "\n",
      "Lr now: 0.0001\n",
      "А--лл----м----а------т--ии---н--сс---к--а-----я => Алматинская         , gt: Алматинская         \n",
      "А--------С---------т-----а---------Н---------А- => АСтаНА              , gt: АСТАНА              \n",
      "ддд-----жж---------и------гг-----и------т------ => джигит              , gt: джигит              \n",
      "На--- --дд-рее-вв--нн-е---й----  сс---т--е---не => На древней стене    , gt: На древней стене    \n",
      "А-------------------------ыыы---------а-------ь => Аыаь                , gt: Арысь               \n"
     ]
    },
    {
     "data": {
      "application/vnd.jupyter.widget-view+json": {
       "model_id": "c4d3da1b6450424b96a90ef27c70df77",
       "version_major": 2,
       "version_minor": 0
      },
      "text/plain": [
       "HBox(children=(FloatProgress(value=0.0, layout=Layout(flex='2'), max=711.0), HTML(value='')), layout=Layout(di…"
      ]
     },
     "metadata": {},
     "output_type": "display_data"
    },
    {
     "name": "stdout",
     "output_type": "stream",
     "text": [
      "\n"
     ]
    },
    {
     "data": {
      "application/vnd.jupyter.widget-view+json": {
       "model_id": "ce6b12c8e76646699275b3ecfa8ff1ec",
       "version_major": 2,
       "version_minor": 0
      },
      "text/plain": [
       "HBox(children=(FloatProgress(value=0.0, layout=Layout(flex='2'), max=146.0), HTML(value='')), layout=Layout(di…"
      ]
     },
     "metadata": {},
     "output_type": "display_data"
    },
    {
     "name": "stdout",
     "output_type": "stream",
     "text": [
      "\n",
      "Lr now: 0.0001\n",
      "Сн--у---ю----т------  -п--уу-нн----ццо---вв-ыые => Снуют пунцовые      , gt: Снуют пунцовые      \n",
      "А------т---------б-----а------с-----а---------р => Атбасар             , gt: Атбасар             \n",
      "Но   воо-с-чаа---т---  -нее---  -п--рро--н--ут, => Но восчат не пронут,, gt: Но волчат не тронул,\n",
      "Запа--дд-н-о---Кааза----хх---сс-тт-а--нн--каа-я => Западно-Казахстанкая, gt: Западно-Казахстанская\n",
      "Р-е-----вв---е-----л---аа--------  --о-------т- => Ревела от           , gt: Ревела от           \n"
     ]
    },
    {
     "data": {
      "application/vnd.jupyter.widget-view+json": {
       "model_id": "37c6d76e612046408368284db92f3c0e",
       "version_major": 2,
       "version_minor": 0
      },
      "text/plain": [
       "HBox(children=(FloatProgress(value=0.0, layout=Layout(flex='2'), max=711.0), HTML(value='')), layout=Layout(di…"
      ]
     },
     "metadata": {},
     "output_type": "display_data"
    },
    {
     "name": "stdout",
     "output_type": "stream",
     "text": [
      "\n"
     ]
    },
    {
     "data": {
      "application/vnd.jupyter.widget-view+json": {
       "model_id": "dc170deec8fc49988c975a3d8ee79548",
       "version_major": 2,
       "version_minor": 0
      },
      "text/plain": [
       "HBox(children=(FloatProgress(value=0.0, layout=Layout(flex='2'), max=146.0), HTML(value='')), layout=Layout(di…"
      ]
     },
     "metadata": {},
     "output_type": "display_data"
    },
    {
     "name": "stdout",
     "output_type": "stream",
     "text": [
      "\n",
      "Lr now: 0.0001\n",
      "Д--л------  --м--ии--р---но--й----  -жж-и---зни => Дл мирной жизни     , gt: Для мирной жизни    \n",
      "П--ее------рр-оо----п--а----в-----л-оо--в--с--к => Перопавловск        , gt: Петропавловск       \n",
      "Б--е-----л---о-----р-------у-сс--сс-----ии----я => Белоруссия          , gt: Белоруссия          \n",
      "Ю---ЖЖ---НН-А----Я------  -О---С-еЕ-----Т--И--Я => ЮЖНАЯ ОСеЕТИЯ       , gt: ЮЖНАЯ ОСЕТИЯ        \n",
      "б--е------л----о----рр-----у-сс--сс------ии---я => белоруссия          , gt: Белоруссия          \n"
     ]
    },
    {
     "data": {
      "application/vnd.jupyter.widget-view+json": {
       "model_id": "0fb0ba51d0f64e11a533d8a20ee73503",
       "version_major": 2,
       "version_minor": 0
      },
      "text/plain": [
       "HBox(children=(FloatProgress(value=0.0, layout=Layout(flex='2'), max=711.0), HTML(value='')), layout=Layout(di…"
      ]
     },
     "metadata": {},
     "output_type": "display_data"
    }
   ],
   "source": [
    "ep = 100\n",
    "\n",
    "train_loss = []\n",
    "train_acc_char = []\n",
    "train_acc_str = []\n",
    "train_cer = []\n",
    "\n",
    "val_loss = []\n",
    "val_acc_char = []\n",
    "val_acc_str = []\n",
    "val_cer = []\n",
    "\n",
    "best_str_acc = 0\n",
    "\n",
    "for epoch in range(ep):\n",
    "    train_epoch_loss = []\n",
    "    \n",
    "    train_epoch_acc_char = []\n",
    "    train_epoch_acc_str = []\n",
    "    train_epoch_cer = []\n",
    "    \n",
    "    with tqdm(total = len(train_dataloader), ncols='100%') as bar_train:\n",
    "        for i, (images, gt_text) in enumerate(train_dataloader):\n",
    "\n",
    "            results = train_on_batch_rec(images, gt_text, net, ocr_loss, optimizer, device, batch_size, converter)\n",
    "            loss, acc_char, acc_str, cer = results\n",
    "            \n",
    "            train_epoch_loss.append(loss)\n",
    "            train_epoch_acc_char.append(acc_char)\n",
    "            train_epoch_acc_str.append(acc_str)\n",
    "            train_epoch_cer.append(cer)\n",
    "\n",
    "            printed_data = f\"Ep: {epoch}. Train loss: {np.mean(train_epoch_loss):.4f}.\\\n",
    "            Acc char: {np.mean(train_epoch_acc_char):.4f}.\\\n",
    "            Acc str: {np.mean(train_epoch_acc_str):.4f}.\\\n",
    "            CER: {np.mean(train_epoch_cer):.4f}.\"\n",
    "            bar_train.set_description(printed_data)\n",
    "            bar_train.update(1)\n",
    "            \n",
    "    train_loss.append(np.mean(train_epoch_loss))\n",
    "    \n",
    "    train_acc_char.append(np.mean(train_epoch_acc_char))\n",
    "    train_acc_str.append(np.mean(train_epoch_acc_str))\n",
    "    train_cer.append(np.mean(train_epoch_cer))\n",
    "    \n",
    "    \n",
    "    val_epoch_loss = []\n",
    "    \n",
    "    val_epoch_acc_char = []\n",
    "    val_epoch_acc_str = []\n",
    "    val_epoch_cer = []\n",
    "    \n",
    "    with tqdm(total = len(val_dataloader), ncols='100%') as bar_val:\n",
    "        for i, (images, gt_text) in enumerate(val_dataloader):\n",
    "\n",
    "            results = val_on_batch_rec(images, gt_text, net, ocr_loss, device, batch_size, converter)\n",
    "            loss, acc_char, acc_str, cer, decode_text, gt_text, raw_preds = results\n",
    "            \n",
    "            val_epoch_loss.append(loss)\n",
    "            val_epoch_acc_char.append(acc_char)\n",
    "            val_epoch_acc_str.append(acc_str)\n",
    "            val_epoch_cer.append(cer)\n",
    "\n",
    "            printed_data = f\"Ep: {epoch}. Val loss: {np.mean(val_epoch_loss):.4f}.\\\n",
    "            Acc char: {np.mean(val_epoch_acc_char):.4f}.\\\n",
    "            Acc str: {np.mean(val_epoch_acc_str):.4f}.\\\n",
    "            CER: {np.mean(val_epoch_cer):.4f}.\"\n",
    "            bar_val.set_description(printed_data)\n",
    "            bar_val.update(1)\n",
    "        \n",
    "    val_loss.append(np.mean(val_epoch_loss))\n",
    "    \n",
    "    val_acc_char.append(np.mean(val_epoch_acc_char))\n",
    "    val_acc_str.append(np.mean(val_epoch_acc_str))\n",
    "    val_cer.append(np.mean(val_epoch_cer))\n",
    "    \n",
    "    print('Lr now:', optimizer.param_groups[0]['lr'])\n",
    "\n",
    "    for raw_pred, pred, gt in zip(raw_preds, decode_text, gt_text):\n",
    "        print('%-20s => %-20s, gt: %-20s' % (raw_pred, pred, gt)) \n",
    "    \n",
    "    if epoch == 40:\n",
    "        for g in optimizer_rnn.param_groups:\n",
    "            g['lr'] = g['lr']*0.1\n",
    "        for g in optimizer_conv.param_groups:\n",
    "            g['lr'] = g['lr']*0.1\n",
    "        print('Lr now:', optimizer_rnn.param_groups[0]['lr'])\n",
    "        \n",
    "    if epoch == 70:\n",
    "        for g in optimizer_rnn.param_groups:\n",
    "            g['lr'] = g['lr']*0.1\n",
    "        for g in optimizer_conv.param_groups:\n",
    "            g['lr'] = g['lr']*0.1\n",
    "        print('Lr now:', optimizer_rnn.param_groups[0]['lr'])"
   ]
  },
  {
   "cell_type": "code",
   "execution_count": null,
   "metadata": {},
   "outputs": [],
   "source": []
  }
 ],
 "metadata": {
  "kernelspec": {
   "display_name": "Python 3",
   "language": "python",
   "name": "python3"
  },
  "language_info": {
   "codemirror_mode": {
    "name": "ipython",
    "version": 3
   },
   "file_extension": ".py",
   "mimetype": "text/x-python",
   "name": "python",
   "nbconvert_exporter": "python",
   "pygments_lexer": "ipython3",
   "version": "3.7.7"
  }
 },
 "nbformat": 4,
 "nbformat_minor": 4
}
