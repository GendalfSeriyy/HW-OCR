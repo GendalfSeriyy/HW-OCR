{
 "cells": [
  {
   "cell_type": "code",
   "execution_count": 3,
   "metadata": {},
   "outputs": [],
   "source": [
    "import logging\n",
    "import torch.nn as nn\n",
    "import numpy as np\n",
    "from matplotlib import pyplot as plt\n",
    "import cv2\n",
    "import torch\n",
    "import torch.nn.functional as F\n",
    "import math\n",
    "import pandas as pd\n",
    "import PIL.Image as Image\n",
    "from torchvision.transforms import ToTensor, ToPILImage\n",
    "import torch.nn.functional as F\n",
    "import segmentation_models_pytorch as smp\n",
    "from collections import OrderedDict\n",
    "import torch\n",
    "import torch.nn as nn\n",
    "import PIL.Image as Image\n",
    "from torchvision.transforms import ToTensor, ToPILImage\n",
    "import torch.nn.functional as F\n",
    "import pickle\n",
    "from tqdm import tqdm_notebook as tqdm\n",
    "import torchvision\n",
    "import time\n",
    "from collections import defaultdict\n",
    "from torch.nn import CTCLoss\n",
    "from Levenshtein import distance\n",
    "import random\n",
    "from torch.utils import data\n",
    "from torch.utils.data import DataLoader"
   ]
  },
  {
   "cell_type": "code",
   "execution_count": 4,
   "metadata": {},
   "outputs": [],
   "source": [
    "class ImageDataset(data.Dataset):\n",
    "    \"\"\"\n",
    "    Dataset class for handwritten lines.\n",
    "\n",
    "    Parameters\n",
    "    ----------\n",
    "    pickle_file : str\n",
    "        Path to a dataset pickle file.\n",
    "    meta : bool\n",
    "        If True, meta data about files is provided.\n",
    "    num_imgs : int, optional (default=-1)\n",
    "        Choose only `num_imgs` imgs for processing. If set to -1, uses all available images.\n",
    "\n",
    "    \"\"\"\n",
    "\n",
    "    def __init__(self, pickle_file, meta=False, num_imgs=-1):\n",
    "        with open(pickle_file, 'rb') as f:\n",
    "            dataset = pickle.load(f)\n",
    "        self.reference_dataset = dataset\n",
    "        self.num_imgs = num_imgs\n",
    "        if (self.num_imgs > 0) and (self.num_imgs < len(self.reference_dataset)):\n",
    "            inds = np.random.choice(np.arange(len(self.reference_dataset)),\n",
    "                                    self.num_imgs, replace=False)\n",
    "            self.reference_dataset = [self.reference_dataset[i] for i in inds]\n",
    "        self.meta = meta\n",
    "\n",
    "    def __getitem__(self, idx):\n",
    "        data = self.reference_dataset[idx]\n",
    "        #img = cv2.imread(data['img_path'], cv2.IMREAD_UNCHANGED) / 255.\n",
    "        img = cv2.resize(cv2.imread(data['img_path'], 0), (444,64)) / 255.\n",
    "        img = torch.from_numpy(img).unsqueeze(0).float()\n",
    "        text = data['description']\n",
    "        width = data['width']\n",
    "        height = data['height']\n",
    "\n",
    "        if self.meta:\n",
    "            return img, text, data, width, height\n",
    "        else:\n",
    "            return img, text\n",
    "\n",
    "    def __len__(self):\n",
    "        return len(self.reference_dataset)\n",
    "    \n",
    "class strLabelConverter(object):\n",
    "    \"\"\"Convert between str and label.\n",
    "    NOTE:\n",
    "        Insert `blank` to the alphabet for CTC.\n",
    "    Args:\n",
    "        alphabet (str): set of the possible characters.\n",
    "        ignore_case (bool, default=True): whether or not to ignore all of the case.\n",
    "    \"\"\"\n",
    "\n",
    "    def __init__(self, alphabet, ignore_case=False):\n",
    "        self._ignore_case = ignore_case\n",
    "        if self._ignore_case:\n",
    "            alphabet = alphabet.lower()\n",
    "        self.alphabet = alphabet + '-'  # for `-1` index\n",
    "        #self.alphabet = alphabet\n",
    "\n",
    "        self.dict = {}\n",
    "        for i, char in enumerate(alphabet):\n",
    "            # NOTE: 0 is reserved for 'blank' required by wrap_ctc\n",
    "            self.dict[char] = i + 1\n",
    "    \n",
    "    def encode(self, text):\n",
    "        \"\"\"Support batch or single str.\n",
    "        Args:\n",
    "            text (str or list of str): texts to convert.\n",
    "        Returns:\n",
    "            torch.LongTensor [length_0 + length_1 + ... length_{n - 1}]: encoded texts.\n",
    "            torch.LongTensor [n]: length of each text.\n",
    "        \"\"\"\n",
    "\n",
    "        length = []\n",
    "        result = []\n",
    "        for item in text:            \n",
    "#             item = item.decode('utf-8','strict')\n",
    "            length.append(len(item))\n",
    "            r = []\n",
    "            for char in item:\n",
    "                index = self.dict[char]\n",
    "                # result.append(index)\n",
    "                r.append(index)\n",
    "            result.append(r)\n",
    "        \n",
    "        max_len = 0\n",
    "        for r in result:\n",
    "            if len(r) > max_len:\n",
    "                max_len = len(r)\n",
    "        \n",
    "        result_temp = []\n",
    "        for r in result:\n",
    "            for i in range(max_len - len(r)):\n",
    "                r.append(0)\n",
    "            result_temp.append(r)\n",
    "\n",
    "        text = result_temp\n",
    "        return (torch.LongTensor(text), torch.LongTensor(length))\n",
    "\n",
    "\n",
    "    def decode(self, t, length, raw=False):\n",
    "        \"\"\"Decode encoded texts back into strs.\n",
    "        Args:\n",
    "            torch.LongTensor [length_0 + length_1 + ... length_{n - 1}]: encoded texts.\n",
    "            torch.LongTensor [n]: length of each text.\n",
    "        Raises:\n",
    "            AssertionError: when the texts and its length does not match.\n",
    "        Returns:\n",
    "            text (str or list of str): texts to convert.\n",
    "        \"\"\"\n",
    "        if length.numel() == 1:\n",
    "            length = length[0]\n",
    "            assert t.numel() == length, \"text with length: {} does not match declared length: {}\".format(t.numel(), length)\n",
    "            if raw:\n",
    "                return ''.join([self.alphabet[i - 1] for i in t])\n",
    "            else:\n",
    "                char_list = []\n",
    "                for i in range(length):\n",
    "                    if t[i] != 0 and (not (i > 0 and t[i - 1] == t[i])):\n",
    "                        char_list.append(self.alphabet[t[i] - 1])\n",
    "                return ''.join(char_list)\n",
    "        else:\n",
    "            # batch mode\n",
    "            assert t.numel() == length.sum(), \"texts with length: {} does not match declared length: {}\".format(t.numel(), length.sum())\n",
    "            texts = []\n",
    "            index = 0\n",
    "            for i in range(length.numel()):\n",
    "                l = length[i]\n",
    "                texts.append(\n",
    "                    self.decode(\n",
    "                        t[index:index + l], torch.LongTensor([l]), raw=raw))\n",
    "                index += l\n",
    "            return texts"
   ]
  },
  {
   "cell_type": "code",
   "execution_count": 3,
   "metadata": {},
   "outputs": [],
   "source": [
    "class BidirectionalLSTM(nn.Module):\n",
    "\n",
    "    def __init__(self, nIn, nHidden, nOut):\n",
    "        super(BidirectionalLSTM, self).__init__()\n",
    "\n",
    "        self.rnn = nn.LSTM(nIn, nHidden, bidirectional=True)\n",
    "        self.embedding = nn.Linear(nHidden * 2, nOut)\n",
    "\n",
    "    def forward(self, input):\n",
    "        recurrent, _ = self.rnn(input)\n",
    "        T, b, h = recurrent.size()\n",
    "        t_rec = recurrent.view(T * b, h)\n",
    "\n",
    "        output = self.embedding(t_rec)  # [T * b, nOut]\n",
    "        output = output.view(T, b, -1)\n",
    "\n",
    "        return output\n",
    "    \n",
    "class CRNN(nn.Module):\n",
    "\n",
    "    def __init__(self, imgH, nc, nclass, nh, n_rnn=2, leakyRelu=False):\n",
    "        super(CRNN, self).__init__()\n",
    "        assert imgH % 16 == 0, 'imgH has to be a multiple of 16'\n",
    "\n",
    "        ks = [3, 3, 3, 3, 3, 3, 3, 2]\n",
    "        ps = [1, 1, 1, 1, 1, 1, 0, 0]\n",
    "        ss = [1, 1, 1, 1, 1, 1, 1, 2]\n",
    "        nm = [16, 32, 128, 256, 512, 512, 512, 512]\n",
    "\n",
    "        cnn = nn.Sequential()\n",
    "\n",
    "        def convRelu(i, batchNormalization=False):\n",
    "            nIn = nc if i == 0 else nm[i - 1]\n",
    "            nOut = nm[i]\n",
    "            cnn.add_module('conv{0}'.format(i),\n",
    "                           nn.Conv2d(nIn, nOut, ks[i], ss[i], ps[i]))\n",
    "            if batchNormalization:\n",
    "                cnn.add_module('batchnorm{0}'.format(i), nn.BatchNorm2d(nOut))\n",
    "            if leakyRelu:\n",
    "                cnn.add_module('relu{0}'.format(i),\n",
    "                               nn.LeakyReLU(0.2, inplace=True))\n",
    "            else:\n",
    "                cnn.add_module('relu{0}'.format(i), nn.ReLU(True))\n",
    "\n",
    "        convRelu(0)\n",
    "        cnn.add_module('pooling{0}'.format(0), nn.MaxPool2d(2, 2))  # 64x16x64\n",
    "        convRelu(1)\n",
    "        cnn.add_module('pooling{0}'.format(1), nn.MaxPool2d(2, 2))  # 128x8x32\n",
    "        convRelu(2, True)\n",
    "        convRelu(3)\n",
    "        cnn.add_module('pooling{0}'.format(2),\n",
    "                       nn.MaxPool2d((2, 2), (2, 1), (0, 1)))  # 256x4x16\n",
    "        convRelu(4, True)\n",
    "        convRelu(5)\n",
    "        \n",
    "        cnn.add_module('pooling{0}'.format(3),\n",
    "                       nn.MaxPool2d((2, 2), (2, 1), (0, 1)))  # 512x2x16\n",
    "        convRelu(6, True)  # 512x1x16\n",
    "        convRelu(7, True)\n",
    "        \n",
    "\n",
    "        self.cnn = cnn\n",
    "        self.rnn = nn.Sequential(\n",
    "            BidirectionalLSTM(512, nh, nh),\n",
    "            BidirectionalLSTM(nh, nh, nclass))\n",
    "\n",
    "\n",
    "    def forward(self, input):\n",
    "        # conv features\n",
    "        conv = self.cnn(input)\n",
    "        b, c, h, w = conv.size()\n",
    "        assert h == 1, \"the height of conv must be 1\"\n",
    "        conv = conv.squeeze(2)\n",
    "        conv = conv.permute(2, 0, 1)  # [w, b, c]\n",
    "\n",
    "        # rnn features\n",
    "        output = self.rnn(conv)\n",
    "        \n",
    "        # add log_softmax to converge output\n",
    "        output = F.log_softmax(output, dim=2)\n",
    "\n",
    "        return output\n",
    "\n",
    "\n",
    "    def backward_hook(self, module, grad_input, grad_output):\n",
    "        for g in grad_input:\n",
    "            g[g != g] = 0   # replace all nan/inf in gradients to zero"
   ]
  },
  {
   "cell_type": "code",
   "execution_count": 4,
   "metadata": {},
   "outputs": [],
   "source": [
    "def train_on_batch_rec(images, gt_text, model_crnn, ocr_loss, optimizer, device, batch_size, converter):\n",
    "\n",
    "    model_crnn.train()\n",
    "    \n",
    "    pred_text = model_crnn(images.to(device))\n",
    "    \n",
    "    preds_size = torch.LongTensor([pred_text.size(0)] * batch_size)\n",
    "    \n",
    "    t_text, l_text = converter.encode(list(gt_text))\n",
    "    \n",
    "    loss = ocr_loss(pred_text, t_text, preds_size, l_text)\n",
    "    \n",
    "    optimizer.zero_grad()\n",
    "    loss.backward()\n",
    "    optimizer.step()\n",
    "    \n",
    "    _, decode_text = pred_text.max(2)\n",
    "    decode_text = decode_text.transpose(1, 0).contiguous().view(-1)\n",
    "    decode_text = converter.decode(decode_text.data, preds_size, raw=False)\n",
    "    \n",
    "    char_correct = 0\n",
    "    total_char = 0\n",
    "    for pred, gt in zip(decode_text, gt_text):\n",
    "        for i, pred_char in enumerate(pred):\n",
    "            if i<len(gt):\n",
    "                if pred_char == gt[i]:\n",
    "                    char_correct += 1\n",
    "        total_char += len(gt)\n",
    "            \n",
    "    acc_char = (char_correct)/float(total_char)\n",
    "    \n",
    "    total_str = 0\n",
    "    n_correct = 0\n",
    "    cer = 0\n",
    "    for pred, target in zip(decode_text, gt_text):\n",
    "        if pred == target:\n",
    "            n_correct += 1\n",
    "        else:\n",
    "            cer += distance(pred, target)/len(target)\n",
    "        total_str+=1\n",
    "            \n",
    "    acc_str = (n_correct)/total_str\n",
    "    cer = cer/total_str\n",
    "    \n",
    "    return (loss.item(), acc_char, acc_str, cer)\n",
    "\n",
    "def val_on_batch_rec(images, gt_text, model_crnn, ocr_loss, device, batch_size, converter):\n",
    "\n",
    "    model_crnn.eval()\n",
    "    \n",
    "    pred_text = model_crnn(images.to(device))\n",
    "    \n",
    "    preds_size = torch.LongTensor([pred_text.size(0)] * batch_size)\n",
    "    \n",
    "    t_text, l_text = converter.encode(list(gt_text))\n",
    "    \n",
    "    loss = ocr_loss(pred_text, t_text, preds_size, l_text)\n",
    "    \n",
    "    _, decode_text = pred_text.max(2)\n",
    "    decode_text = decode_text.transpose(1, 0).contiguous().view(-1)\n",
    "    decode_text = converter.decode(decode_text.data, preds_size, raw=False)\n",
    "    \n",
    "    char_correct = 0\n",
    "    total_char = 0\n",
    "    for pred, gt in zip(decode_text, gt_text):\n",
    "        for i, pred_char in enumerate(pred):\n",
    "            if i<len(gt):\n",
    "                if pred_char == gt[i]:\n",
    "                    char_correct += 1\n",
    "        total_char += len(gt)\n",
    "            \n",
    "    acc_char = (char_correct)/float(total_char)\n",
    "    \n",
    "    total_str = 0\n",
    "    n_correct = 0\n",
    "    cer = 0\n",
    "    for pred, target in zip(decode_text, gt_text):\n",
    "        if pred == target:\n",
    "            n_correct += 1\n",
    "        else:\n",
    "            cer += distance(pred, target)/len(target)\n",
    "        total_str+=1\n",
    "            \n",
    "    acc_str = (n_correct)/total_str\n",
    "    cer = cer/total_str\n",
    "    \n",
    "    _, preds = pred_text.max(2)\n",
    "    preds = preds.transpose(1, 0).contiguous().view(-1)\n",
    "    raw_preds = converter.decode(preds.data, preds_size, raw=True)\n",
    "    \n",
    "    return (loss.item(), acc_char, acc_str, cer, decode_text[:5], gt_text[:5], raw_preds[:5])"
   ]
  },
  {
   "cell_type": "code",
   "execution_count": 15,
   "metadata": {},
   "outputs": [],
   "source": [
    "pickle_path_train = '/home/storage/3020/KrivorotovI/db/HKR/datasets/train.pkl'\n",
    "pickle_path_val = '/home/storage/3020/KrivorotovI/db/HKR/datasets/val.pkl'\n",
    "with open(pickle_path_train, 'rb') as f:\n",
    "    full_dataset = pickle.load(f)\n",
    "alphabet = ''\n",
    "st_len = []\n",
    "for example in full_dataset:\n",
    "    alphabet += example['description']\n",
    "    st_len.append(len(example['description']))\n",
    "alphabet = list(set(alphabet))\n",
    "alphabet =''.join(alphabet)\n"
   ]
  },
  {
   "cell_type": "code",
   "execution_count": 16,
   "metadata": {},
   "outputs": [
    {
     "data": {
      "text/plain": [
       "42"
      ]
     },
     "execution_count": 16,
     "metadata": {},
     "output_type": "execute_result"
    }
   ],
   "source": [
    "max(st_len)"
   ]
  },
  {
   "cell_type": "code",
   "execution_count": 17,
   "metadata": {},
   "outputs": [
    {
     "data": {
      "text/plain": [
       "'нЛШкВоеяГ–зЯЧЬвй!чөтх р?ьҚылИ,бфКНАюДЕ—;РЙш)HцпСЫБ.эсмӨиХЭПЖ-щ…:ЗуқгМТУЮдО(oаёж'"
      ]
     },
     "execution_count": 17,
     "metadata": {},
     "output_type": "execute_result"
    }
   ],
   "source": [
    "alphabet"
   ]
  },
  {
   "cell_type": "code",
   "execution_count": 18,
   "metadata": {},
   "outputs": [],
   "source": [
    "imgH = 32 # the height of the input image to network\n",
    "imgW = 100 # the width of the input image to network\n",
    "nh = 256 # size of the lstm hidden state\n",
    "nc = 1\n",
    "nclass = len(alphabet)+1\n",
    "batch_size = 64"
   ]
  },
  {
   "cell_type": "code",
   "execution_count": 19,
   "metadata": {},
   "outputs": [],
   "source": [
    "device = torch.device(\"cuda:6\")\n",
    "converter = strLabelConverter(alphabet)\n",
    "net = CRNN(imgH, nc, nclass, nh)\n",
    "net.to(device)\n",
    "ocr_loss = CTCLoss()\n",
    "optimizer = torch.optim.RMSprop(net.parameters(), lr=0.0001)\n",
    "train_dataset = ImageDataset(pickle_path_train, num_imgs=-1)\n",
    "val_dataset = ImageDataset(pickle_path_val, num_imgs=-1)\n",
    "\n",
    "train_dataloader = DataLoader(train_dataset, batch_size=batch_size,\n",
    "                        shuffle=True, num_workers=1, drop_last = True)\n",
    "val_dataloader = DataLoader(val_dataset, batch_size=batch_size,\n",
    "                        shuffle=True, num_workers=1, drop_last = True)"
   ]
  },
  {
   "cell_type": "code",
   "execution_count": 20,
   "metadata": {},
   "outputs": [
    {
     "name": "stdout",
     "output_type": "stream",
     "text": [
      "torch.Size([64, 1, 64, 444])\n",
      "во все концы\n"
     ]
    },
    {
     "data": {
      "image/png": "[encoded data removed]",
      "text/plain": [
       "<Figure size 432x288 with 1 Axes>"
      ]
     },
     "metadata": {
      "needs_background": "light"
     },
     "output_type": "display_data"
    }
   ],
   "source": [
    "for imgs, text in train_dataloader:\n",
    "    print(imgs.shape)\n",
    "    plt.imshow(imgs[0][0], cmap = 'gray')\n",
    "    print(text[0])\n",
    "    break"
   ]
  },
  {
   "cell_type": "code",
   "execution_count": 21,
   "metadata": {},
   "outputs": [
    {
     "name": "stderr",
     "output_type": "stream",
     "text": [
      "/usr/local/lib/python3.7/site-packages/ipykernel_launcher.py:22: TqdmDeprecationWarning: This function will be removed in tqdm==5.0.0\n",
      "Please use `tqdm.notebook.tqdm` instead of `tqdm.tqdm_notebook`\n"
     ]
    },
    {
     "data": {
      "application/vnd.jupyter.widget-view+json": {
       "model_id": "3a3b5bb7fbb14c3994c87f8286dbb61e",
       "version_major": 2,
       "version_minor": 0
      },
      "text/plain": [
       "HBox(children=(FloatProgress(value=0.0, layout=Layout(flex='2'), max=711.0), HTML(value='')), layout=Layout(di…"
      ]
     },
     "metadata": {},
     "output_type": "display_data"
    },
    {
     "name": "stdout",
     "output_type": "stream",
     "text": [
      "\n"
     ]
    },
    {
     "name": "stderr",
     "output_type": "stream",
     "text": [
      "/usr/local/lib/python3.7/site-packages/ipykernel_launcher.py:53: TqdmDeprecationWarning: This function will be removed in tqdm==5.0.0\n",
      "Please use `tqdm.notebook.tqdm` instead of `tqdm.tqdm_notebook`\n"
     ]
    },
    {
     "data": {
      "application/vnd.jupyter.widget-view+json": {
       "model_id": "67a5c28137164f95b31b3b12de768060",
       "version_major": 2,
       "version_minor": 0
      },
      "text/plain": [
       "HBox(children=(FloatProgress(value=0.0, layout=Layout(flex='2'), max=146.0), HTML(value='')), layout=Layout(di…"
      ]
     },
     "metadata": {},
     "output_type": "display_data"
    },
    {
     "name": "stdout",
     "output_type": "stream",
     "text": [
      "\n",
      "Lr now: 0.0001\n",
      "А-----------------------------------------------------, => А,                  , gt: Актобе              \n",
      "К--------------------------------------в--------------, => Кв,                 , gt: мне снится плащ     \n",
      "Т-----------------------------------------------------у => Ту                  , gt: Под скальпелем      \n",
      "Т-----------------------------------------------------у => Ту                  , gt: ТАРАЗ               \n",
      "К-----------------------------------------------------у => Ку                  , gt: Кокшетау            \n"
     ]
    },
    {
     "data": {
      "application/vnd.jupyter.widget-view+json": {
       "model_id": "5c1074ce20274817af93f33e1e1b6dbe",
       "version_major": 2,
       "version_minor": 0
      },
      "text/plain": [
       "HBox(children=(FloatProgress(value=0.0, layout=Layout(flex='2'), max=711.0), HTML(value='')), layout=Layout(di…"
      ]
     },
     "metadata": {},
     "output_type": "display_data"
    },
    {
     "name": "stdout",
     "output_type": "stream",
     "text": [
      "\n"
     ]
    },
    {
     "data": {
      "application/vnd.jupyter.widget-view+json": {
       "model_id": "81faa32df70c45018d1c41d47a02918c",
       "version_major": 2,
       "version_minor": 0
      },
      "text/plain": [
       "HBox(children=(FloatProgress(value=0.0, layout=Layout(flex='2'), max=146.0), HTML(value='')), layout=Layout(di…"
      ]
     },
     "metadata": {},
     "output_type": "display_data"
    },
    {
     "name": "stdout",
     "output_type": "stream",
     "text": [
      "\n",
      "Lr now: 0.0001\n",
      "м--------й---л--ы---ее------  -о-------ии-----о--к---и- => мйлые оиоки         , gt: малые ошибки        \n",
      "к--------к--------  -с------н--------в------------л---, => кк снвл,            , gt: как сеновал,        \n",
      "А---------к---т------------ы----и---------к--а------я-- => Актыикая            , gt: Актюбинская         \n",
      "И--------------и----------------------к-------а-------, => Иика,               , gt: Ишака,              \n",
      "А-------Т--------------Ы----И---------С---К-----------Я => АТЫИСКЯ             , gt: АКТЮБИНСКАЯ         \n"
     ]
    },
    {
     "data": {
      "application/vnd.jupyter.widget-view+json": {
       "model_id": "82c65b5608054521ad01736840523230",
       "version_major": 2,
       "version_minor": 0
      },
      "text/plain": [
       "HBox(children=(FloatProgress(value=0.0, layout=Layout(flex='2'), max=711.0), HTML(value='')), layout=Layout(di…"
      ]
     },
     "metadata": {},
     "output_type": "display_data"
    },
    {
     "name": "stdout",
     "output_type": "stream",
     "text": [
      "\n"
     ]
    },
    {
     "data": {
      "application/vnd.jupyter.widget-view+json": {
       "model_id": "95df9f549ca448f2b43aa57262a486a1",
       "version_major": 2,
       "version_minor": 0
      },
      "text/plain": [
       "HBox(children=(FloatProgress(value=0.0, layout=Layout(flex='2'), max=146.0), HTML(value='')), layout=Layout(di…"
      ]
     },
     "metadata": {},
     "output_type": "display_data"
    },
    {
     "name": "stdout",
     "output_type": "stream",
     "text": [
      "\n",
      "Lr now: 0.0001\n",
      "Р-------------О--------С----------------И-----------Я-- => РОСИЯ               , gt: РОССИЯ              \n",
      "к-----а-----з---аа-----х-----сс---т-------аа----н------ => казахстан           , gt: казахстан           \n",
      "Р-----------о------с---------с-------и------------я---- => Россия              , gt: Россия              \n",
      "и-------  о-д-------м-------  п--р--о--п-у-ж---д-е-н--, => и одм пропужден,    , gt: и одним пробужден,  \n",
      "к---о--тт-----о--р---о-юю--------  дд---а----н----о---, => которою дано,       , gt: которою дано,       \n"
     ]
    },
    {
     "data": {
      "application/vnd.jupyter.widget-view+json": {
       "model_id": "8f8a469954024011965f51d8c5bc4e7a",
       "version_major": 2,
       "version_minor": 0
      },
      "text/plain": [
       "HBox(children=(FloatProgress(value=0.0, layout=Layout(flex='2'), max=711.0), HTML(value='')), layout=Layout(di…"
      ]
     },
     "metadata": {},
     "output_type": "display_data"
    },
    {
     "name": "stdout",
     "output_type": "stream",
     "text": [
      "\n"
     ]
    },
    {
     "data": {
      "application/vnd.jupyter.widget-view+json": {
       "model_id": "ace8d87fe15c4273b3475ed4e5275039",
       "version_major": 2,
       "version_minor": 0
      },
      "text/plain": [
       "HBox(children=(FloatProgress(value=0.0, layout=Layout(flex='2'), max=146.0), HTML(value='')), layout=Layout(di…"
      ]
     },
     "metadata": {},
     "output_type": "display_data"
    },
    {
     "name": "stdout",
     "output_type": "stream",
     "text": [
      "\n",
      "Lr now: 0.0001\n",
      "С-----е---------е--н------------ш---и---м----е----я--и- => Сееншимеяи          , gt: Летят шмели         \n",
      "З--а--х-а-д--н-о--х-----ааззаа---х-с-т--а--н-с-к-аа--я- => Захаднох-азахстанская, gt: Западно-Казахстанская\n",
      "п--------о----л----с--------я-----нн----------ы-------- => полсяны             , gt: поляны              \n",
      "п---о--ж-н---а----- х--о--зж---а-----л-е--н-----------, => пожна хозжален,     , gt: полно сожалении,    \n",
      "А------х--------К--а----б------н-----а----к---сс-----яя => АхКабнакся          , gt: Актюбинская         \n"
     ]
    },
    {
     "data": {
      "application/vnd.jupyter.widget-view+json": {
       "model_id": "627c7491094144ad8a04f3ad926a36ab",
       "version_major": 2,
       "version_minor": 0
      },
      "text/plain": [
       "HBox(children=(FloatProgress(value=0.0, layout=Layout(flex='2'), max=711.0), HTML(value='')), layout=Layout(di…"
      ]
     },
     "metadata": {},
     "output_type": "display_data"
    },
    {
     "name": "stdout",
     "output_type": "stream",
     "text": [
      "\n"
     ]
    },
    {
     "data": {
      "application/vnd.jupyter.widget-view+json": {
       "model_id": "3a5b84f62d16400494555e53e9566593",
       "version_major": 2,
       "version_minor": 0
      },
      "text/plain": [
       "HBox(children=(FloatProgress(value=0.0, layout=Layout(flex='2'), max=146.0), HTML(value='')), layout=Layout(di…"
      ]
     },
     "metadata": {},
     "output_type": "display_data"
    },
    {
     "name": "stdout",
     "output_type": "stream",
     "text": [
      "\n",
      "Lr now: 0.0001\n",
      "П----о--ж----а---------  -х--оо-р---о--ш------а-----я-- => Пожа хорошая        , gt: Пока хорошая        \n",
      "К-------------------а-----тг------и---н---д-с----а----- => Катгиндса           , gt: Киргизия            \n",
      "И------- -б--уу-д--д--т------  --м---о--т---н----т---ь- => И буддт мотнть      , gt: И будут мстить      \n",
      "К---а---з--ы----л--о--рр---дд--и----н----с--к--а-----я- => Казылординская      , gt: Кызылординская      \n",
      "А---------------к-----к--------сс---------------------у => Акксу               , gt: Аксу                \n"
     ]
    },
    {
     "data": {
      "application/vnd.jupyter.widget-view+json": {
       "model_id": "172a9ab89f9e4dc09cd5a64dbb084441",
       "version_major": 2,
       "version_minor": 0
      },
      "text/plain": [
       "HBox(children=(FloatProgress(value=0.0, layout=Layout(flex='2'), max=711.0), HTML(value='')), layout=Layout(di…"
      ]
     },
     "metadata": {},
     "output_type": "display_data"
    },
    {
     "name": "stdout",
     "output_type": "stream",
     "text": [
      "\n"
     ]
    },
    {
     "data": {
      "application/vnd.jupyter.widget-view+json": {
       "model_id": "2edaadcb27d44e9fa0fc31c075ae5ed1",
       "version_major": 2,
       "version_minor": 0
      },
      "text/plain": [
       "HBox(children=(FloatProgress(value=0.0, layout=Layout(flex='2'), max=146.0), HTML(value='')), layout=Layout(di…"
      ]
     },
     "metadata": {},
     "output_type": "display_data"
    },
    {
     "name": "stdout",
     "output_type": "stream",
     "text": [
      "\n",
      "Lr now: 0.0001\n",
      "Ш--------------а------х------т-------ии---н----сс--к--- => Шахтинск            , gt: Шахтинск            \n",
      "В-----о---зз---в---р----аа---т---------я-----с---ьь---- => Возвратясь          , gt: возвратясь          \n",
      "Г----д-ее-----  -в--ы----л-----  п----о--ж------а--рр-- => Где выл пожар       , gt: Где выл пожар       \n",
      "в-----о--л---н-----ы---------м------о--рр---е---й-----. => волныморей.         , gt: волны морей.        \n",
      "Т----о----  с-ерр--д--ы---к--с--я-----  т---о--с-к--а-. => То сердыкся тоска.  , gt: То сердечная тоска..\n"
     ]
    },
    {
     "data": {
      "application/vnd.jupyter.widget-view+json": {
       "model_id": "5310c0ae68594b4ab6085bbfe58e366a",
       "version_major": 2,
       "version_minor": 0
      },
      "text/plain": [
       "HBox(children=(FloatProgress(value=0.0, layout=Layout(flex='2'), max=711.0), HTML(value='')), layout=Layout(di…"
      ]
     },
     "metadata": {},
     "output_type": "display_data"
    },
    {
     "name": "stdout",
     "output_type": "stream",
     "text": [
      "\n"
     ]
    },
    {
     "data": {
      "application/vnd.jupyter.widget-view+json": {
       "model_id": "fbeb2515485948a3866941938c4272d3",
       "version_major": 2,
       "version_minor": 0
      },
      "text/plain": [
       "HBox(children=(FloatProgress(value=0.0, layout=Layout(flex='2'), max=146.0), HTML(value='')), layout=Layout(di…"
      ]
     },
     "metadata": {},
     "output_type": "display_data"
    },
    {
     "name": "stdout",
     "output_type": "stream",
     "text": [
      "\n",
      "Lr now: 0.0001\n",
      "п--е-рр-е-з--в-а-л-е--н---н--ы-го---  т---и---п---я--я- => перезваленныго типяя, gt: перехваченного плыла\n",
      "К---------------т----------о----------в-----------ь---- => Ктовь               , gt: Кровь               \n",
      "д------ж-----------и--------г---и--------т------------! => джигит!             , gt: джигит!             \n",
      "я--з--в--и---т--ее-лл-ь--н--ыы---м---- с-в--о--л--м---. => язвительным сволм.  , gt: язвительным своим.  \n",
      "с---к---о--л-ь--н----у-е--------  о--------- -с-к------ => скольнуе о ск       , gt: смолкнул бы он.     \n"
     ]
    },
    {
     "data": {
      "application/vnd.jupyter.widget-view+json": {
       "model_id": "00d044dc27e645eab2895fa8bd1370ad",
       "version_major": 2,
       "version_minor": 0
      },
      "text/plain": [
       "HBox(children=(FloatProgress(value=0.0, layout=Layout(flex='2'), max=711.0), HTML(value='')), layout=Layout(di…"
      ]
     },
     "metadata": {},
     "output_type": "display_data"
    },
    {
     "name": "stdout",
     "output_type": "stream",
     "text": [
      "\n"
     ]
    },
    {
     "data": {
      "application/vnd.jupyter.widget-view+json": {
       "model_id": "92d4109423e9442a9da7039f0129b549",
       "version_major": 2,
       "version_minor": 0
      },
      "text/plain": [
       "HBox(children=(FloatProgress(value=0.0, layout=Layout(flex='2'), max=146.0), HTML(value='')), layout=Layout(di…"
      ]
     },
     "metadata": {},
     "output_type": "display_data"
    },
    {
     "name": "stdout",
     "output_type": "stream",
     "text": [
      "\n",
      "Lr now: 0.0001\n",
      "д----------жж------и----------г---------т-------------у => джигту              , gt: джигиту             \n",
      "б-ее--с-м--еер--т---н-ы--л--и---  сст---и-х--а--м--и--? => бесмертныли стихами?, gt: бессмертными стихами?\n",
      "О-----н----и----,,,-    -т--о---м---к---а-----л-------- => Они, томкал         , gt: Они, толкаясь       \n",
      "У-------з----б---е----к-----и----с---т-------а----н---- => Узбекистан          , gt: Узбекистан          \n",
      "З------------------к-------о---------л----------------- => Зкол                , gt: Злые                \n"
     ]
    },
    {
     "data": {
      "application/vnd.jupyter.widget-view+json": {
       "model_id": "46db0a3dbf9d4aa5a7659ed836c8b238",
       "version_major": 2,
       "version_minor": 0
      },
      "text/plain": [
       "HBox(children=(FloatProgress(value=0.0, layout=Layout(flex='2'), max=711.0), HTML(value='')), layout=Layout(di…"
      ]
     },
     "metadata": {},
     "output_type": "display_data"
    },
    {
     "name": "stdout",
     "output_type": "stream",
     "text": [
      "\n"
     ]
    },
    {
     "data": {
      "application/vnd.jupyter.widget-view+json": {
       "model_id": "741630f8a87a42a4878ff1e36aa72992",
       "version_major": 2,
       "version_minor": 0
      },
      "text/plain": [
       "HBox(children=(FloatProgress(value=0.0, layout=Layout(flex='2'), max=146.0), HTML(value='')), layout=Layout(di…"
      ]
     },
     "metadata": {},
     "output_type": "display_data"
    },
    {
     "name": "stdout",
     "output_type": "stream",
     "text": [
      "\n",
      "Lr now: 0.0001\n",
      "К-----а---в---с--трр------н---у-------   -т---и------е- => Кавстрну тие        , gt: Навстречу мне       \n",
      "и--------з-----г---н--------а-------н--------ь-----я--- => изгнанья            , gt: изгнанья            \n",
      "р------------------------------о----------------------- => ро                  , gt: по                  \n",
      "И--------------  -с----е------р-----д----------р---ее-- => И сердре            , gt: И сердце            \n",
      "Б------а---л--е-к---о------- -е-----   -м----о--р----я- => Балеко е моря       , gt: Далеко с моря       \n"
     ]
    },
    {
     "data": {
      "application/vnd.jupyter.widget-view+json": {
       "model_id": "c972ad40026e43ff9943a38c1e8379dd",
       "version_major": 2,
       "version_minor": 0
      },
      "text/plain": [
       "HBox(children=(FloatProgress(value=0.0, layout=Layout(flex='2'), max=711.0), HTML(value='')), layout=Layout(di…"
      ]
     },
     "metadata": {},
     "output_type": "display_data"
    },
    {
     "name": "stdout",
     "output_type": "stream",
     "text": [
      "\n"
     ]
    },
    {
     "data": {
      "application/vnd.jupyter.widget-view+json": {
       "model_id": "64dc8c6db03c419f97ada1169f49a6a3",
       "version_major": 2,
       "version_minor": 0
      },
      "text/plain": [
       "HBox(children=(FloatProgress(value=0.0, layout=Layout(flex='2'), max=146.0), HTML(value='')), layout=Layout(di…"
      ]
     },
     "metadata": {},
     "output_type": "display_data"
    },
    {
     "name": "stdout",
     "output_type": "stream",
     "text": [
      "\n",
      "Lr now: 0.0001\n",
      "к--------------о-------р----------о--------к----------- => корок               , gt: корок               \n",
      "Т-----у--р---к----е---с---т---а----н---с---к---а-----я- => Туркестанская       , gt: Туркестанская       \n",
      "В----и----д----  -п---о---сс-тт--а---х----л--о--г---о-- => Вид постахлого      , gt: Вид постоялого      \n",
      "и--ггр----ы--  п---о-з--а---быы--в----  сс--в--о--и---. => игры позабыв свои.  , gt: игры позабыв свои,  \n",
      "п----о---с--а-----м-----и------  -п---о--сс--------ы--- => посами посы         , gt: косами косцы        \n"
     ]
    },
    {
     "data": {
      "application/vnd.jupyter.widget-view+json": {
       "model_id": "3397c03fc2cc4f8598850c56b46e438d",
       "version_major": 2,
       "version_minor": 0
      },
      "text/plain": [
       "HBox(children=(FloatProgress(value=0.0, layout=Layout(flex='2'), max=711.0), HTML(value='')), layout=Layout(di…"
      ]
     },
     "metadata": {},
     "output_type": "display_data"
    },
    {
     "name": "stdout",
     "output_type": "stream",
     "text": [
      "\n"
     ]
    },
    {
     "data": {
      "application/vnd.jupyter.widget-view+json": {
       "model_id": "f946fcab27694cfea0e9ab80fc368a4d",
       "version_major": 2,
       "version_minor": 0
      },
      "text/plain": [
       "HBox(children=(FloatProgress(value=0.0, layout=Layout(flex='2'), max=146.0), HTML(value='')), layout=Layout(di…"
      ]
     },
     "metadata": {},
     "output_type": "display_data"
    },
    {
     "name": "stdout",
     "output_type": "stream",
     "text": [
      "\n",
      "Lr now: 0.0001\n",
      "И------  -в-ссп--оо--м---н--ии---л---  -я---  т-е-б--я- => И вспомнил я тебя   , gt: И вспомнил я тебя   \n",
      "т----------в--оо----й-----   о------л--нн----и-----йй-, => твой олний,         , gt: твой синий,         \n",
      "Н-----ы----  -ж-----а----мм-----б-----к---оо---н---я--, => Ны жамбконя,        , gt: Не жалей коня,      \n",
      "к-----------л---ее-----вв-----е----р---------а--------- => клевера             , gt: клевера.            \n",
      "А----к----м-----о----лл--иии---н----сс--к----а----я---- => Акмолинская         , gt: Акмолинская         \n"
     ]
    },
    {
     "data": {
      "application/vnd.jupyter.widget-view+json": {
       "model_id": "80135a75f31643d79e9c28ba9ed4ed2b",
       "version_major": 2,
       "version_minor": 0
      },
      "text/plain": [
       "HBox(children=(FloatProgress(value=0.0, layout=Layout(flex='2'), max=711.0), HTML(value='')), layout=Layout(di…"
      ]
     },
     "metadata": {},
     "output_type": "display_data"
    },
    {
     "name": "stdout",
     "output_type": "stream",
     "text": [
      "\n"
     ]
    },
    {
     "data": {
      "application/vnd.jupyter.widget-view+json": {
       "model_id": "7a5d97dd9ce540ed8f0e70a7086ba44d",
       "version_major": 2,
       "version_minor": 0
      },
      "text/plain": [
       "HBox(children=(FloatProgress(value=0.0, layout=Layout(flex='2'), max=146.0), HTML(value='')), layout=Layout(di…"
      ]
     },
     "metadata": {},
     "output_type": "display_data"
    },
    {
     "name": "stdout",
     "output_type": "stream",
     "text": [
      "\n",
      "Lr now: 0.0001\n",
      "А-------------кк------тт-------------об---бб----а------ => Актобба             , gt: Актобе              \n",
      "З----а-----г------л---я-------т----------уу----сс---ьь- => Заглятусь           , gt: Загляжусь           \n",
      "и------   -в--о-рр---ч--а---,,-   с--о--с--а----л---ии- => и ворча, сосали     , gt: и ворча, сосали     \n",
      "в------о--йй------   с-оо--в--е-рр----ш----ии----т----, => вой совершит,       , gt: свой совершит,      \n",
      "Г----рр----у--сс-тт-----н------,,--    Н---ии---н----а- => Грустн, Нина        , gt: Грустно, Нина       \n"
     ]
    },
    {
     "data": {
      "application/vnd.jupyter.widget-view+json": {
       "model_id": "424b6e7a0b464b98804ed0267ef63675",
       "version_major": 2,
       "version_minor": 0
      },
      "text/plain": [
       "HBox(children=(FloatProgress(value=0.0, layout=Layout(flex='2'), max=711.0), HTML(value='')), layout=Layout(di…"
      ]
     },
     "metadata": {},
     "output_type": "display_data"
    },
    {
     "name": "stdout",
     "output_type": "stream",
     "text": [
      "\n"
     ]
    },
    {
     "data": {
      "application/vnd.jupyter.widget-view+json": {
       "model_id": "caa115a728ee4854843c890b40a115a9",
       "version_major": 2,
       "version_minor": 0
      },
      "text/plain": [
       "HBox(children=(FloatProgress(value=0.0, layout=Layout(flex='2'), max=146.0), HTML(value='')), layout=Layout(di…"
      ]
     },
     "metadata": {},
     "output_type": "display_data"
    },
    {
     "name": "stdout",
     "output_type": "stream",
     "text": [
      "\n",
      "Lr now: 0.0001\n",
      "П---р----о---в-----и----в---у-рр---е-----ч--иии-----т-- => Провивуречит        , gt: Противуречит        \n",
      "Ю-------жж----н----а----я----- -о---с--е--т----и----я-- => Южная осетия        , gt: Южная Осетия        \n",
      "А----к-----м------о-----л---иии---н----сс--к---а-----я- => Акмолинская         , gt: Акмолинская         \n",
      "Ж--------а-----м-----бб--ы-----лл--ь---с--к---а-----яя- => Жамбыльская         , gt: Жамбыльская         \n",
      "Т------------------я--------р-----------а----------з--з => Тяразз              , gt: Тараз               \n"
     ]
    },
    {
     "data": {
      "application/vnd.jupyter.widget-view+json": {
       "model_id": "aa48b0af6ae545bd9994609ce68d244d",
       "version_major": 2,
       "version_minor": 0
      },
      "text/plain": [
       "HBox(children=(FloatProgress(value=0.0, layout=Layout(flex='2'), max=711.0), HTML(value='')), layout=Layout(di…"
      ]
     },
     "metadata": {},
     "output_type": "display_data"
    },
    {
     "name": "stdout",
     "output_type": "stream",
     "text": [
      "\n"
     ]
    },
    {
     "data": {
      "application/vnd.jupyter.widget-view+json": {
       "model_id": "96d84ba660934988b9377d940a6180a5",
       "version_major": 2,
       "version_minor": 0
      },
      "text/plain": [
       "HBox(children=(FloatProgress(value=0.0, layout=Layout(flex='2'), max=146.0), HTML(value='')), layout=Layout(di…"
      ]
     },
     "metadata": {},
     "output_type": "display_data"
    },
    {
     "name": "stdout",
     "output_type": "stream",
     "text": [
      "\n",
      "Lr now: 0.0001\n",
      "с--о-з--н-а-- -н--и---я-----   б--е--сссс---и--л------- => созна ния бесил     , gt: сознания бессилья   \n",
      "м-------------о----и--------    р-------уу---кк----ии-- => мои руки            , gt: Мои руки            \n",
      "О------!---------   -З---а------чч--е---мм-------   -я- => О! Зачем я          , gt: О! Зачем я          \n",
      "ч--у-в-с-т--вв-у-ю--- с--о-л--ии-д--а--р--н--о--с-т---ь => чувствую солидарность, gt: чувствую солидарность\n",
      "м-----------------е-----н----------------я------------, => меня,               , gt: меня.               \n"
     ]
    },
    {
     "data": {
      "application/vnd.jupyter.widget-view+json": {
       "model_id": "16c8c633c56148ffbc09044656a70ef8",
       "version_major": 2,
       "version_minor": 0
      },
      "text/plain": [
       "HBox(children=(FloatProgress(value=0.0, layout=Layout(flex='2'), max=711.0), HTML(value='')), layout=Layout(di…"
      ]
     },
     "metadata": {},
     "output_type": "display_data"
    },
    {
     "name": "stdout",
     "output_type": "stream",
     "text": [
      "\n"
     ]
    },
    {
     "data": {
      "application/vnd.jupyter.widget-view+json": {
       "model_id": "847d39f2f5f1436486c3bef35925f369",
       "version_major": 2,
       "version_minor": 0
      },
      "text/plain": [
       "HBox(children=(FloatProgress(value=0.0, layout=Layout(flex='2'), max=146.0), HTML(value='')), layout=Layout(di…"
      ]
     },
     "metadata": {},
     "output_type": "display_data"
    },
    {
     "name": "stdout",
     "output_type": "stream",
     "text": [
      "\n",
      "Lr now: 0.0001\n",
      "Р-----ее--сс---п------уу---б----лл---иии-----к-----а--- => Республика          , gt: Республика          \n",
      "р-------------------------------------------н---------- => р-н                 , gt: р-н                 \n",
      "К-----а--кк--------  -л--о---з---д---а-----л---с----я-- => Как лоздался        , gt: Как раздался        \n",
      "Ж--------а------м-----б--ы------л--ь--сс-к----а------я- => Жамбыльская         , gt: Жамбыльская         \n",
      "А----т------ы------р----а------уу----с--к-----аа-----я- => Атырауская          , gt: Атырауская          \n"
     ]
    },
    {
     "data": {
      "application/vnd.jupyter.widget-view+json": {
       "model_id": "e998cfde14b4464fab3f0473048aaabe",
       "version_major": 2,
       "version_minor": 0
      },
      "text/plain": [
       "HBox(children=(FloatProgress(value=0.0, layout=Layout(flex='2'), max=711.0), HTML(value='')), layout=Layout(di…"
      ]
     },
     "metadata": {},
     "output_type": "display_data"
    },
    {
     "name": "stdout",
     "output_type": "stream",
     "text": [
      "\n"
     ]
    },
    {
     "data": {
      "application/vnd.jupyter.widget-view+json": {
       "model_id": "fd896e2989ea42cb8e05f2e4ccb83cf9",
       "version_major": 2,
       "version_minor": 0
      },
      "text/plain": [
       "HBox(children=(FloatProgress(value=0.0, layout=Layout(flex='2'), max=146.0), HTML(value='')), layout=Layout(di…"
      ]
     },
     "metadata": {},
     "output_type": "display_data"
    },
    {
     "name": "stdout",
     "output_type": "stream",
     "text": [
      "\n",
      "Lr now: 0.0001\n",
      "я--ззв-ии---т-е---л-ь--н--ы---и-----  с-в-о-и----м----. => язвительныи своим.  , gt: язвительным своим.  \n",
      "д------о----ббб-----е-------ж---------иии-----т-------- => добежит             , gt: добежит             \n",
      "п--рр---с-к--рр---а---с--н----а------   -лл--иии--ц--о- => прскрасна лицо      , gt: прекрасное лицо     \n",
      "Ж-------------а-----зз-------к--------е------------йй-- => Жазкей              , gt: Жаркент             \n",
      "д-------ж------------ии------гг----и-------тт---------! => джигит!             , gt: джигит!             \n"
     ]
    },
    {
     "data": {
      "application/vnd.jupyter.widget-view+json": {
       "model_id": "23a8fc0041ad4f65961a54423367a584",
       "version_major": 2,
       "version_minor": 0
      },
      "text/plain": [
       "HBox(children=(FloatProgress(value=0.0, layout=Layout(flex='2'), max=711.0), HTML(value='')), layout=Layout(di…"
      ]
     },
     "metadata": {},
     "output_type": "display_data"
    },
    {
     "name": "stdout",
     "output_type": "stream",
     "text": [
      "\n"
     ]
    },
    {
     "data": {
      "application/vnd.jupyter.widget-view+json": {
       "model_id": "927076105aff45459c98ebfbf46ec3f9",
       "version_major": 2,
       "version_minor": 0
      },
      "text/plain": [
       "HBox(children=(FloatProgress(value=0.0, layout=Layout(flex='2'), max=146.0), HTML(value='')), layout=Layout(di…"
      ]
     },
     "metadata": {},
     "output_type": "display_data"
    },
    {
     "name": "stdout",
     "output_type": "stream",
     "text": [
      "\n",
      "Lr now: 0.0001\n",
      "Ж-----------е---з----к-----аа----з----г----а-----н----- => Жезказган           , gt: Жезказган           \n",
      "О---н----и------   п---р---о--------щ--а----ю------т--- => Они прощают         , gt: Они прощают         \n",
      "Н-------а---------    зз--аа-----к----а------т------е-- => На закате           , gt: на закате           \n",
      "д----------ж---------ии-----г---иии----т----------уу--, => джигиту,            , gt: джигиту,            \n",
      "Ч-т----о---  дд-е--л--а--тт---ь--   н--аа---м-----  сс- => Что делать нам с    , gt: Что делать нам с    \n"
     ]
    },
    {
     "data": {
      "application/vnd.jupyter.widget-view+json": {
       "model_id": "9fdaad7d91e146ddb14ffcd5325d72d9",
       "version_major": 2,
       "version_minor": 0
      },
      "text/plain": [
       "HBox(children=(FloatProgress(value=0.0, layout=Layout(flex='2'), max=711.0), HTML(value='')), layout=Layout(di…"
      ]
     },
     "metadata": {},
     "output_type": "display_data"
    },
    {
     "name": "stdout",
     "output_type": "stream",
     "text": [
      "\n"
     ]
    },
    {
     "data": {
      "application/vnd.jupyter.widget-view+json": {
       "model_id": "d5fb4dfa6089457191e611fe7a083c76",
       "version_major": 2,
       "version_minor": 0
      },
      "text/plain": [
       "HBox(children=(FloatProgress(value=0.0, layout=Layout(flex='2'), max=146.0), HTML(value='')), layout=Layout(di…"
      ]
     },
     "metadata": {},
     "output_type": "display_data"
    },
    {
     "name": "stdout",
     "output_type": "stream",
     "text": [
      "\n",
      "Lr now: 0.0001\n",
      "А-------------------л------------ш-------------а------- => Алша                , gt: Алга                \n",
      "о-----------ббб---------------------лл----------------. => обл.                , gt: обл.                \n",
      "о------д-----н----о-----з---в-----уу----ч--е----н-----. => однозвучен.         , gt: однозвучен.         \n",
      "С-------------ее-------------------лл--------о--------- => Село                , gt: Село                \n",
      "У------т---о----ш----иии---й----ее-----лльь---нн----о-- => Утошийельно         , gt: Утомительно         \n"
     ]
    },
    {
     "data": {
      "application/vnd.jupyter.widget-view+json": {
       "model_id": "cdc5c502e2b8420e910a8561f890bb0b",
       "version_major": 2,
       "version_minor": 0
      },
      "text/plain": [
       "HBox(children=(FloatProgress(value=0.0, layout=Layout(flex='2'), max=711.0), HTML(value='')), layout=Layout(di…"
      ]
     },
     "metadata": {},
     "output_type": "display_data"
    },
    {
     "name": "stderr",
     "output_type": "stream",
     "text": [
      "IOPub message rate exceeded.\n",
      "The notebook server will temporarily stop sending output\n",
      "to the client in order to avoid crashing it.\n",
      "To change this limit, set the config variable\n",
      "`--NotebookApp.iopub_msg_rate_limit`.\n",
      "\n",
      "Current values:\n",
      "NotebookApp.iopub_msg_rate_limit=1000.0 (msgs/sec)\n",
      "NotebookApp.rate_limit_window=3.0 (secs)\n",
      "\n"
     ]
    },
    {
     "name": "stdout",
     "output_type": "stream",
     "text": [
      "\n"
     ]
    },
    {
     "data": {
      "application/vnd.jupyter.widget-view+json": {
       "model_id": "901abe4fad0443c18b75f78894008769",
       "version_major": 2,
       "version_minor": 0
      },
      "text/plain": [
       "HBox(children=(FloatProgress(value=0.0, layout=Layout(flex='2'), max=146.0), HTML(value='')), layout=Layout(di…"
      ]
     },
     "metadata": {},
     "output_type": "display_data"
    },
    {
     "name": "stdout",
     "output_type": "stream",
     "text": [
      "\n",
      "Lr now: 0.0001\n",
      "С--------аа------т-----------п------а-------е----вв---- => Сатпаев             , gt: Сатпаев             \n",
      "Е--------ц-е--  -л--е---н---а---е--в--и--в------е--се-е => Еце ленаевивесее    , gt: Еще не появившиес   \n",
      "н---------о----------  -о-----п----------я-----т----ь-- => но опять            , gt: но опять            \n",
      "Т------уу--р--к---е---с---т--аа---н----с--к-----а----я- => Туркестанская       , gt: Туркестанская       \n",
      "д-------жж-------иии---ггггг-----ии-------тт----------- => джигит              , gt: джигит              \n"
     ]
    },
    {
     "data": {
      "application/vnd.jupyter.widget-view+json": {
       "model_id": "ff10e205950c44c790785f3b65784867",
       "version_major": 2,
       "version_minor": 0
      },
      "text/plain": [
       "HBox(children=(FloatProgress(value=0.0, layout=Layout(flex='2'), max=711.0), HTML(value='')), layout=Layout(di…"
      ]
     },
     "metadata": {},
     "output_type": "display_data"
    },
    {
     "name": "stderr",
     "output_type": "stream",
     "text": [
      "IOPub message rate exceeded.\n",
      "The notebook server will temporarily stop sending output\n",
      "to the client in order to avoid crashing it.\n",
      "To change this limit, set the config variable\n",
      "`--NotebookApp.iopub_msg_rate_limit`.\n",
      "\n",
      "Current values:\n",
      "NotebookApp.iopub_msg_rate_limit=1000.0 (msgs/sec)\n",
      "NotebookApp.rate_limit_window=3.0 (secs)\n",
      "\n"
     ]
    },
    {
     "name": "stdout",
     "output_type": "stream",
     "text": [
      "\n"
     ]
    },
    {
     "data": {
      "application/vnd.jupyter.widget-view+json": {
       "model_id": "e3756dc2d816465ab8eb30a36923d592",
       "version_major": 2,
       "version_minor": 0
      },
      "text/plain": [
       "HBox(children=(FloatProgress(value=0.0, layout=Layout(flex='2'), max=146.0), HTML(value='')), layout=Layout(di…"
      ]
     },
     "metadata": {},
     "output_type": "display_data"
    },
    {
     "name": "stdout",
     "output_type": "stream",
     "text": [
      "\n",
      "Lr now: 0.0001\n",
      "д----------------  -н------о-----л--ее---гг---о-----л-- => д нолегол           , gt: за телегои          \n",
      "О------бб----н-----и------мм------а-----ее---т--------, => Обнимает,           , gt: Обнимает,           \n",
      "г--------р------е-----м-мм------иии----тт-------------, => греммит,            , gt: гремит,             \n",
      "В---------л-----о----т----ь-----м------а--------х-----. => Влотьмах.           , gt: впотьмах.           \n",
      "К-----------а-----н------б---ы--------сс--к---а------я- => Канбыская           , gt: Жамбылская          \n"
     ]
    },
    {
     "data": {
      "application/vnd.jupyter.widget-view+json": {
       "model_id": "0828bd815eed4cf48b8084149daf6e70",
       "version_major": 2,
       "version_minor": 0
      },
      "text/plain": [
       "HBox(children=(FloatProgress(value=0.0, layout=Layout(flex='2'), max=711.0), HTML(value='')), layout=Layout(di…"
      ]
     },
     "metadata": {},
     "output_type": "display_data"
    },
    {
     "name": "stdout",
     "output_type": "stream",
     "text": [
      "\n"
     ]
    },
    {
     "data": {
      "application/vnd.jupyter.widget-view+json": {
       "model_id": "f773e0b51957447fbfcb54ef44aa592d",
       "version_major": 2,
       "version_minor": 0
      },
      "text/plain": [
       "HBox(children=(FloatProgress(value=0.0, layout=Layout(flex='2'), max=146.0), HTML(value='')), layout=Layout(di…"
      ]
     },
     "metadata": {},
     "output_type": "display_data"
    },
    {
     "name": "stdout",
     "output_type": "stream",
     "text": [
      "\n",
      "Lr now: 0.0001\n",
      "с-ем---оо--л--к--н---у--л------  -б-ыы-------   о--н--. => семолкнул бы он.    , gt: смолкнул бы он.     \n",
      "О---нн--ии--,,  -п--рр--и---ж-----а---вв--ш---ии--сс-ь- => Они, прижавшись     , gt: Они, прижавшись     \n",
      "К----уу-д---а----??-----   ЗЗ--а---ч---е---мм------?--- => Куда? Зачем?        , gt: Куда? Зачем?        \n",
      "Р----о--ж---д---а---я----  о-рр--гг-а--н----   д--л--я- => Рождая орган для    , gt: Рождая орган для    \n",
      "м-----е-сс-т----о--г-оо---   ч-ь-уу-в--с-тт---вв--а---. => местого чьувства.   , gt: шестого чувства.    \n"
     ]
    },
    {
     "data": {
      "application/vnd.jupyter.widget-view+json": {
       "model_id": "247a7588bcc44f31b80b9d5838c37cb0",
       "version_major": 2,
       "version_minor": 0
      },
      "text/plain": [
       "HBox(children=(FloatProgress(value=0.0, layout=Layout(flex='2'), max=711.0), HTML(value='')), layout=Layout(di…"
      ]
     },
     "metadata": {},
     "output_type": "display_data"
    },
    {
     "name": "stdout",
     "output_type": "stream",
     "text": [
      "\n"
     ]
    },
    {
     "data": {
      "application/vnd.jupyter.widget-view+json": {
       "model_id": "e92d0b2ba0024797a1a25f8faf85f9ac",
       "version_major": 2,
       "version_minor": 0
      },
      "text/plain": [
       "HBox(children=(FloatProgress(value=0.0, layout=Layout(flex='2'), max=146.0), HTML(value='')), layout=Layout(di…"
      ]
     },
     "metadata": {},
     "output_type": "display_data"
    },
    {
     "name": "stdout",
     "output_type": "stream",
     "text": [
      "\n",
      "Lr now: 0.0001\n",
      "с--т---рр---у--н---уу----   б-ы---    зз-а----д--ее--л- => струну бы задел     , gt: струну бы задел     \n",
      "о--------------------тт-------------------------------- => от                  , gt: от                  \n",
      "И----  з--а---р---ж----аа---в---л--е-н---нн---ыы-----й- => И заржавленный      , gt: И заржавленный      \n",
      "К---о---с--тт--аа---н-----а-----йй---с---к---аа------я- => Костанайская        , gt: Костанайская        \n",
      "И--------------   -ж------е---н--ии-----щщ-и--н---а---, => И женищина,         , gt: И женщина,          \n"
     ]
    },
    {
     "data": {
      "application/vnd.jupyter.widget-view+json": {
       "model_id": "89ef7b7d2f4d464fa78919815bfbdfa1",
       "version_major": 2,
       "version_minor": 0
      },
      "text/plain": [
       "HBox(children=(FloatProgress(value=0.0, layout=Layout(flex='2'), max=711.0), HTML(value='')), layout=Layout(di…"
      ]
     },
     "metadata": {},
     "output_type": "display_data"
    },
    {
     "name": "stdout",
     "output_type": "stream",
     "text": [
      "\n"
     ]
    },
    {
     "data": {
      "application/vnd.jupyter.widget-view+json": {
       "model_id": "1d31942d176940d086d5e7ad9e50c714",
       "version_major": 2,
       "version_minor": 0
      },
      "text/plain": [
       "HBox(children=(FloatProgress(value=0.0, layout=Layout(flex='2'), max=146.0), HTML(value='')), layout=Layout(di…"
      ]
     },
     "metadata": {},
     "output_type": "display_data"
    },
    {
     "name": "stdout",
     "output_type": "stream",
     "text": [
      "\n",
      "Lr now: 0.0001\n",
      "И---------   -о-о-ррр----уу--------  л-----ии---ш----ь- => И оору лишь         , gt: И одну лишь         \n",
      "А-------------к--------т--------------а--------------уу => Актау               , gt: Актау               \n",
      "А------------л-----мм-------аа------т----------ыы------ => Алматы              , gt: Алматы              \n",
      "Т---------ее----м-----иии---рр-----т--------а--------уу => Темиртау            , gt: Темиртау            \n",
      "Г---рр---уу--сс--т-----н----о--,,    Н----и---н-----а-- => Грустно, Нина       , gt: Грустно, Нина       \n"
     ]
    },
    {
     "data": {
      "application/vnd.jupyter.widget-view+json": {
       "model_id": "25ceddff49424aaf8c0028d0679e269c",
       "version_major": 2,
       "version_minor": 0
      },
      "text/plain": [
       "HBox(children=(FloatProgress(value=0.0, layout=Layout(flex='2'), max=711.0), HTML(value='')), layout=Layout(di…"
      ]
     },
     "metadata": {},
     "output_type": "display_data"
    },
    {
     "name": "stdout",
     "output_type": "stream",
     "text": [
      "\n"
     ]
    },
    {
     "data": {
      "application/vnd.jupyter.widget-view+json": {
       "model_id": "1781800c1d1a441584613ddbe42d1b04",
       "version_major": 2,
       "version_minor": 0
      },
      "text/plain": [
       "HBox(children=(FloatProgress(value=0.0, layout=Layout(flex='2'), max=146.0), HTML(value='')), layout=Layout(di…"
      ]
     },
     "metadata": {},
     "output_type": "display_data"
    },
    {
     "name": "stdout",
     "output_type": "stream",
     "text": [
      "\n",
      "Lr now: 0.0001\n",
      "О--- -п--н---о--с-тт-о---йй------  -О--п--р---а---в--е- => О пностой Оправе    , gt: в простой оправе    \n",
      "с----вв--о----е---йй-----    -д---о--р----ы--ч--оо--йй- => своей дорычой       , gt: своей дорогой       \n",
      "П-----о---к---а---------  к---о---р--оо----м-----и---т- => Пока коромит        , gt: Пока хорошая        \n",
      "С-------аа-------т-----------------а-----е-----в------- => Сатаев              , gt: Сатпаев             \n",
      "З---оо-----лл---г---о----,,---   д----о-----л--гг--о--. => Золго, долго.       , gt: долго, долго.       \n"
     ]
    },
    {
     "data": {
      "application/vnd.jupyter.widget-view+json": {
       "model_id": "30a5088aac3f44588bc6341604db74b6",
       "version_major": 2,
       "version_minor": 0
      },
      "text/plain": [
       "HBox(children=(FloatProgress(value=0.0, layout=Layout(flex='2'), max=711.0), HTML(value='')), layout=Layout(di…"
      ]
     },
     "metadata": {},
     "output_type": "display_data"
    },
    {
     "name": "stdout",
     "output_type": "stream",
     "text": [
      "\n"
     ]
    },
    {
     "data": {
      "application/vnd.jupyter.widget-view+json": {
       "model_id": "aba33483ec844878b481258efbb04a06",
       "version_major": 2,
       "version_minor": 0
      },
      "text/plain": [
       "HBox(children=(FloatProgress(value=0.0, layout=Layout(flex='2'), max=146.0), HTML(value='')), layout=Layout(di…"
      ]
     },
     "metadata": {},
     "output_type": "display_data"
    },
    {
     "name": "stdout",
     "output_type": "stream",
     "text": [
      "\n",
      "Lr now: 0.0001\n",
      "с--е--а--ч-а---с--   н--а--д--о---   м-----н--о--й---?? => сеачас надо мной?   , gt: сейчас надо мной?   \n",
      "А----------лл-----м--------аа-------тт----------ы------ => Алматы              , gt: Алматы              \n",
      "в----о-----  -в----с---е---  к-----о---н----и-----ы---, => во все кониы,       , gt: во все концы,       \n",
      "и-----------------   --у----ллл--ыы----бб----к---иии--- => и улыбки            , gt: и улыбки            \n",
      "У---------шш---------аа----------рр-----аа-----------л- => Ушарал              , gt: Ушарал              \n"
     ]
    },
    {
     "data": {
      "application/vnd.jupyter.widget-view+json": {
       "model_id": "81b4f9205d0042b7824a0a35ee24fde1",
       "version_major": 2,
       "version_minor": 0
      },
      "text/plain": [
       "HBox(children=(FloatProgress(value=0.0, layout=Layout(flex='2'), max=711.0), HTML(value='')), layout=Layout(di…"
      ]
     },
     "metadata": {},
     "output_type": "display_data"
    },
    {
     "name": "stdout",
     "output_type": "stream",
     "text": [
      "\n"
     ]
    },
    {
     "data": {
      "application/vnd.jupyter.widget-view+json": {
       "model_id": "e9fd8bf387c7471f864579f8e8b2be57",
       "version_major": 2,
       "version_minor": 0
      },
      "text/plain": [
       "HBox(children=(FloatProgress(value=0.0, layout=Layout(flex='2'), max=146.0), HTML(value='')), layout=Layout(di…"
      ]
     },
     "metadata": {},
     "output_type": "display_data"
    },
    {
     "name": "stdout",
     "output_type": "stream",
     "text": [
      "\n",
      "Lr now: 0.0001\n",
      "м------о-----йй------     я----мм---------щ--ии---к---, => мой ямщик,          , gt: мой ямщик,          \n",
      "г--------рр----ее---м--------------иии----тт----------. => гремит.             , gt: гремит.             \n",
      "М--------е---рр--н----ы---йй-------   -к---рр---ууу-гг- => Мерный круг         , gt: Мерный круг         \n",
      "Е-------------сс----------------------иии-------------- => Еси                 , gt: Если                \n",
      "р------------------------------------------н----------- => р-н                 , gt: р-н                 \n"
     ]
    },
    {
     "data": {
      "application/vnd.jupyter.widget-view+json": {
       "model_id": "7734b7358117441fb05e22c6acf4e6e2",
       "version_major": 2,
       "version_minor": 0
      },
      "text/plain": [
       "HBox(children=(FloatProgress(value=0.0, layout=Layout(flex='2'), max=711.0), HTML(value='')), layout=Layout(di…"
      ]
     },
     "metadata": {},
     "output_type": "display_data"
    },
    {
     "name": "stdout",
     "output_type": "stream",
     "text": [
      "\n"
     ]
    },
    {
     "data": {
      "application/vnd.jupyter.widget-view+json": {
       "model_id": "2a967330057c4f04949dbf239835de81",
       "version_major": 2,
       "version_minor": 0
      },
      "text/plain": [
       "HBox(children=(FloatProgress(value=0.0, layout=Layout(flex='2'), max=146.0), HTML(value='')), layout=Layout(di…"
      ]
     },
     "metadata": {},
     "output_type": "display_data"
    },
    {
     "name": "stdout",
     "output_type": "stream",
     "text": [
      "\n",
      "Lr now: 0.0001\n",
      "к-------а-----з--ыы-------лл---иии-н---н-----сс----к--- => казылиннск          , gt: Казалинск           \n",
      "Н--------ии-------------  ---о------н---и-----------я-- => Ни ония             , gt: Ни огня             \n",
      "И-------н----д---е--р---б---о--рр---сс--к--------ййй--- => Индерборскй         , gt: Индерборский        \n",
      "Т---е--п--ер--ь----   -м---и--------   с--о--р--о---к-- => Теперь ми сорок     , gt: Теперь мне сорок    \n",
      "К--------О----СС------Т-----А-------Н----А-------Й----- => КОСТАНАЙ            , gt: Костанай            \n"
     ]
    },
    {
     "data": {
      "application/vnd.jupyter.widget-view+json": {
       "model_id": "8c174e3fac0c444b983cbccab1c5b46a",
       "version_major": 2,
       "version_minor": 0
      },
      "text/plain": [
       "HBox(children=(FloatProgress(value=0.0, layout=Layout(flex='2'), max=711.0), HTML(value='')), layout=Layout(di…"
      ]
     },
     "metadata": {},
     "output_type": "display_data"
    },
    {
     "name": "stdout",
     "output_type": "stream",
     "text": [
      "\n"
     ]
    },
    {
     "data": {
      "application/vnd.jupyter.widget-view+json": {
       "model_id": "bf583fb7f3b74964904161c65426e44a",
       "version_major": 2,
       "version_minor": 0
      },
      "text/plain": [
       "HBox(children=(FloatProgress(value=0.0, layout=Layout(flex='2'), max=146.0), HTML(value='')), layout=Layout(di…"
      ]
     },
     "metadata": {},
     "output_type": "display_data"
    },
    {
     "name": "stdout",
     "output_type": "stream",
     "text": [
      "\n",
      "Lr now: 0.0001\n",
      "Р----------о-------с-----е------лл----------я---------- => Роселя              , gt: Россия              \n",
      "И-------   п----о--  ии----з---н----ы---т------м-----уу => И по изнытму        , gt: И по изрытму        \n",
      "У----з---бб--е---н----и--------о---т--------аа----нн--- => Узбениотан          , gt: Узбекистан          \n",
      "Т---рр--о---йй-- -к--аа-------    б--о--р--зз--а-----я- => Трой ка борзая      , gt: Тройка борзая       \n",
      "Д---------о----е----лл----ииии---н-------к----------я-- => Доелинкя            , gt: Долинка             \n"
     ]
    },
    {
     "data": {
      "application/vnd.jupyter.widget-view+json": {
       "model_id": "6e9d3c82ea024e4486a4c433b283fab7",
       "version_major": 2,
       "version_minor": 0
      },
      "text/plain": [
       "HBox(children=(FloatProgress(value=0.0, layout=Layout(flex='2'), max=711.0), HTML(value='')), layout=Layout(di…"
      ]
     },
     "metadata": {},
     "output_type": "display_data"
    },
    {
     "name": "stdout",
     "output_type": "stream",
     "text": [
      "\n"
     ]
    },
    {
     "data": {
      "application/vnd.jupyter.widget-view+json": {
       "model_id": "69c3b75bf7b04610a33dda30d7930cde",
       "version_major": 2,
       "version_minor": 0
      },
      "text/plain": [
       "HBox(children=(FloatProgress(value=0.0, layout=Layout(flex='2'), max=146.0), HTML(value='')), layout=Layout(di…"
      ]
     },
     "metadata": {},
     "output_type": "display_data"
    },
    {
     "name": "stdout",
     "output_type": "stream",
     "text": [
      "\n",
      "Lr now: 0.0001\n",
      "н------е-----  -и-----с--к---е----тт--аа--------я-----; => не искетая;         , gt: не испытал,         \n",
      "У-----З----Б-----Е----К-----ИИ-----С-----Т---А----НН--- => УЗБЕКИСТАН          , gt: УЗБЕКИСТАН          \n",
      "к----о--т-----о--рр---о--ю-------    д-----л-нн----о--, => которою длно,       , gt: которою дано,       \n",
      "о----------ж-----------------я-------т-----------а----- => ожята               , gt: опять               \n",
      "А------кк----мм----а---лл--ии---н----сс-кк--аа------яя- => Акмалинская         , gt: Акмолинская         \n"
     ]
    },
    {
     "data": {
      "application/vnd.jupyter.widget-view+json": {
       "model_id": "01164ed30e234d7a8e8799c8fb8d1186",
       "version_major": 2,
       "version_minor": 0
      },
      "text/plain": [
       "HBox(children=(FloatProgress(value=0.0, layout=Layout(flex='2'), max=711.0), HTML(value='')), layout=Layout(di…"
      ]
     },
     "metadata": {},
     "output_type": "display_data"
    },
    {
     "name": "stdout",
     "output_type": "stream",
     "text": [
      "\n"
     ]
    },
    {
     "data": {
      "application/vnd.jupyter.widget-view+json": {
       "model_id": "c7039551e5b3456aa781ef707e1f706a",
       "version_major": 2,
       "version_minor": 0
      },
      "text/plain": [
       "HBox(children=(FloatProgress(value=0.0, layout=Layout(flex='2'), max=146.0), HTML(value='')), layout=Layout(di…"
      ]
     },
     "metadata": {},
     "output_type": "display_data"
    },
    {
     "name": "stdout",
     "output_type": "stream",
     "text": [
      "\n",
      "Lr now: 0.0001\n",
      "О--------т--------ууу----мм-----а-----н------е---нн---- => Отуманен            , gt: Отуманен            \n",
      "с-----в--е----т--------------     -о---нн-----а-------. => свет она.           , gt: свет она.           \n",
      "Ч---т----о--   с---к--а---з-аа--т----ь---    -м----н--е => Что сказать мне     , gt: Что сказать мне     \n",
      "С--Е-В--Е--Р-н--о---КК--а-з-а--Х-С-т-А--Н---С-К--А---Я- => СЕВЕРно-КазаХСтАНСКАЯ, gt: СЕВЕРНО-КАЗАХСТАНСКАЯ\n",
      "У--С--Т--Ь-------КК---А--М----Е---Н--О---Г----Р---С--К- => УСТЬ-КАМЕНОГРСК     , gt: УСТЬ-КАМЕНОГОРСК    \n"
     ]
    },
    {
     "data": {
      "application/vnd.jupyter.widget-view+json": {
       "model_id": "7028c3a5176248bbbd7db555c5e4f5f3",
       "version_major": 2,
       "version_minor": 0
      },
      "text/plain": [
       "HBox(children=(FloatProgress(value=0.0, layout=Layout(flex='2'), max=711.0), HTML(value='')), layout=Layout(di…"
      ]
     },
     "metadata": {},
     "output_type": "display_data"
    },
    {
     "name": "stdout",
     "output_type": "stream",
     "text": [
      "\n"
     ]
    },
    {
     "data": {
      "application/vnd.jupyter.widget-view+json": {
       "model_id": "0fa7bf2623d94c52b081d9d4b6fb305c",
       "version_major": 2,
       "version_minor": 0
      },
      "text/plain": [
       "HBox(children=(FloatProgress(value=0.0, layout=Layout(flex='2'), max=146.0), HTML(value='')), layout=Layout(di…"
      ]
     },
     "metadata": {},
     "output_type": "display_data"
    },
    {
     "name": "stdout",
     "output_type": "stream",
     "text": [
      "\n",
      "Lr now: 0.0001\n",
      "Р------------о----------с------с--------ии---------я--- => Россия              , gt: Россия              \n",
      "О-------т-------ууу--ммм-----аа----н------е----н------- => Отуманен            , gt: Отуманен            \n",
      "А---к----т------ю------бб--ии---н---сс--к----а------я-- => Актюбинская         , gt: Актюбинская         \n",
      "д-------р-------о------ж------------иии-------тт------- => дрожит              , gt: дрожит              \n",
      "К------аа----зз---а-----л-----ииии----нн------с---к---- => Казалинск           , gt: Казалинск           \n"
     ]
    },
    {
     "data": {
      "application/vnd.jupyter.widget-view+json": {
       "model_id": "f37ba12a371347b78fb420fa537f4ec2",
       "version_major": 2,
       "version_minor": 0
      },
      "text/plain": [
       "HBox(children=(FloatProgress(value=0.0, layout=Layout(flex='2'), max=711.0), HTML(value='')), layout=Layout(di…"
      ]
     },
     "metadata": {},
     "output_type": "display_data"
    },
    {
     "name": "stdout",
     "output_type": "stream",
     "text": [
      "\n"
     ]
    },
    {
     "data": {
      "application/vnd.jupyter.widget-view+json": {
       "model_id": "7880e1e3d1cf482f8a173ebf8b4d8e2a",
       "version_major": 2,
       "version_minor": 0
      },
      "text/plain": [
       "HBox(children=(FloatProgress(value=0.0, layout=Layout(flex='2'), max=146.0), HTML(value='')), layout=Layout(di…"
      ]
     },
     "metadata": {},
     "output_type": "display_data"
    },
    {
     "name": "stdout",
     "output_type": "stream",
     "text": [
      "\n",
      "Lr now: 0.0001\n",
      "п--ее-р--е--х-вв-а--чч-е--н-н--о-т-о---   п-л-ь---л--а- => перехваченното пльла, gt: перехваченного плыла\n",
      "Р----ее-б---я--тт---------   --у--ж-----------   н---е- => Ребят уж не         , gt: Ребят уже не        \n",
      "У----т-----оо----мм----ии-----т-----е----лл--ь--н---о-- => Утомительно         , gt: Утомительно         \n",
      "А---кк-----м------о---л---и------н----с--к-----а----я-- => Акмолинская         , gt: Акмолинская         \n",
      "А-------------к-------тт--------------а--------------уу => Актау               , gt: Актау               \n"
     ]
    },
    {
     "data": {
      "application/vnd.jupyter.widget-view+json": {
       "model_id": "064892e2ae064969b2ebf2344228b620",
       "version_major": 2,
       "version_minor": 0
      },
      "text/plain": [
       "HBox(children=(FloatProgress(value=0.0, layout=Layout(flex='2'), max=711.0), HTML(value='')), layout=Layout(di…"
      ]
     },
     "metadata": {},
     "output_type": "display_data"
    },
    {
     "name": "stdout",
     "output_type": "stream",
     "text": [
      "\n"
     ]
    },
    {
     "data": {
      "application/vnd.jupyter.widget-view+json": {
       "model_id": "de1cdf2bacf24d95880c450c1f07bcda",
       "version_major": 2,
       "version_minor": 0
      },
      "text/plain": [
       "HBox(children=(FloatProgress(value=0.0, layout=Layout(flex='2'), max=146.0), HTML(value='')), layout=Layout(di…"
      ]
     },
     "metadata": {},
     "output_type": "display_data"
    },
    {
     "name": "stdout",
     "output_type": "stream",
     "text": [
      "\n",
      "Lr now: 0.0001\n",
      "Я------   -в--х---о--д--ии---л---   в--мм---е-с-т----о- => Я входил вместо     , gt: Я входил вместо     \n",
      "С-------а-----ррр------к-------а---------н---------д--- => Сарканд             , gt: Сарканд             \n",
      "В------------оо---------йй-----н--------аа----------й-- => Войнай              , gt: Войной              \n",
      "П--------аа-------в-----ллл-----оо-----ц---а-----р----- => Павлоцар            , gt: Павлодар            \n",
      "д-------о---бб----е----ж-------иии-------ттт----------. => добежит.            , gt: добежит.            \n"
     ]
    },
    {
     "data": {
      "application/vnd.jupyter.widget-view+json": {
       "model_id": "0f2da7b794f740f1bb7322607fb4fb68",
       "version_major": 2,
       "version_minor": 0
      },
      "text/plain": [
       "HBox(children=(FloatProgress(value=0.0, layout=Layout(flex='2'), max=711.0), HTML(value='')), layout=Layout(di…"
      ]
     },
     "metadata": {},
     "output_type": "display_data"
    },
    {
     "name": "stdout",
     "output_type": "stream",
     "text": [
      "\n"
     ]
    },
    {
     "data": {
      "application/vnd.jupyter.widget-view+json": {
       "model_id": "fc86c7cd5bbf4ce18d826b66a01cd8a6",
       "version_major": 2,
       "version_minor": 0
      },
      "text/plain": [
       "HBox(children=(FloatProgress(value=0.0, layout=Layout(flex='2'), max=146.0), HTML(value='')), layout=Layout(di…"
      ]
     },
     "metadata": {},
     "output_type": "display_data"
    },
    {
     "name": "stdout",
     "output_type": "stream",
     "text": [
      "\n",
      "Lr now: 0.0001\n",
      "С-------е---рр------г----е----е---вв-----кк-------а---- => Сергеевка           , gt: Сергеевка           \n",
      "К---------о----сс-----т------аа-----нн------а-------йй- => Костанай            , gt: Костанай            \n",
      "У-----------шш-----------аа-----ррр-----аа---------л--- => Ушарал              , gt: Ушарал              \n",
      "и---сс-к---а--л-еечч--е-н---н--ы---е---   р---уу-к--ии- => искалеченные руки   , gt: искалеченные руки   \n",
      "д---------зз-вв--------оо--------р-----------аа-------, => дзвора,             , gt: двора,              \n"
     ]
    },
    {
     "data": {
      "application/vnd.jupyter.widget-view+json": {
       "model_id": "f64f2e17e303405b8ae4a2961224fce5",
       "version_major": 2,
       "version_minor": 0
      },
      "text/plain": [
       "HBox(children=(FloatProgress(value=0.0, layout=Layout(flex='2'), max=711.0), HTML(value='')), layout=Layout(di…"
      ]
     },
     "metadata": {},
     "output_type": "display_data"
    },
    {
     "name": "stdout",
     "output_type": "stream",
     "text": [
      "\n"
     ]
    },
    {
     "data": {
      "application/vnd.jupyter.widget-view+json": {
       "model_id": "232f501d131f443ba4c34e3a5d5e09b1",
       "version_major": 2,
       "version_minor": 0
      },
      "text/plain": [
       "HBox(children=(FloatProgress(value=0.0, layout=Layout(flex='2'), max=146.0), HTML(value='')), layout=Layout(di…"
      ]
     },
     "metadata": {},
     "output_type": "display_data"
    },
    {
     "name": "stdout",
     "output_type": "stream",
     "text": [
      "\n",
      "Lr now: 0.0001\n",
      "К------Ы--------З---Ы-------Л----О----Р-----Д-------А-- => КЫЗЫЛОРДА           , gt: КЫЗЫЛОРДА           \n",
      "о---   п--о-дд-в-ии-ггаа--х--,-о-------   сс--л-оо-в-ее => о подвигах,о слове  , gt: о подвигах, о славе \n",
      "Л-----и------с-------аа------кк------о---в-----с-----к- => Лисаковск           , gt: Лисаковск           \n",
      "К----рр----уу--г--л---о------з-ее-рр-----н----оо----е-- => Круглозерное        , gt: Круглоозерное       \n",
      "Р------е---в----е-----л---а------------   -о---т------- => Ревела от           , gt: Ревела от           \n"
     ]
    },
    {
     "data": {
      "application/vnd.jupyter.widget-view+json": {
       "model_id": "01d43d4155244de4bb9fd2e3cbc8aea2",
       "version_major": 2,
       "version_minor": 0
      },
      "text/plain": [
       "HBox(children=(FloatProgress(value=0.0, layout=Layout(flex='2'), max=711.0), HTML(value='')), layout=Layout(di…"
      ]
     },
     "metadata": {},
     "output_type": "display_data"
    },
    {
     "name": "stdout",
     "output_type": "stream",
     "text": [
      "\n"
     ]
    },
    {
     "data": {
      "application/vnd.jupyter.widget-view+json": {
       "model_id": "6ec0d8e4b04747509a04d6c43e28d9ea",
       "version_major": 2,
       "version_minor": 0
      },
      "text/plain": [
       "HBox(children=(FloatProgress(value=0.0, layout=Layout(flex='2'), max=146.0), HTML(value='')), layout=Layout(di…"
      ]
     },
     "metadata": {},
     "output_type": "display_data"
    },
    {
     "name": "stdout",
     "output_type": "stream",
     "text": [
      "\n",
      "Lr now: 0.0001\n",
      "В--оос-н-оочч-н-оо------К--а-зза--х-сстт-аа-н--с-к-аа-я => Восночно-Казахстанская, gt: Восточно-Казахстанская\n",
      "М--------------о-----лл--ддд-----а-----в-----и-------я- => Молдавия            , gt: Молдавия            \n",
      "К-----------к---шшшш-------еее---т---------а---------уу => Ккшетау             , gt: Кокшетау            \n",
      "П-----а----в---лл--оо---д---а---р---сс--к---аа----я---- => Павлодарская        , gt: Павлодарская        \n",
      "Ш---------------ыы-------м-------к----ее-----н------тт- => Шымкент             , gt: Шымкент             \n"
     ]
    },
    {
     "data": {
      "application/vnd.jupyter.widget-view+json": {
       "model_id": "20b3c2fa2ec846239a214809670d9472",
       "version_major": 2,
       "version_minor": 0
      },
      "text/plain": [
       "HBox(children=(FloatProgress(value=0.0, layout=Layout(flex='2'), max=711.0), HTML(value='')), layout=Layout(di…"
      ]
     },
     "metadata": {},
     "output_type": "display_data"
    },
    {
     "name": "stdout",
     "output_type": "stream",
     "text": [
      "\n"
     ]
    },
    {
     "data": {
      "application/vnd.jupyter.widget-view+json": {
       "model_id": "6ad99181625d41d397af9495d0dba422",
       "version_major": 2,
       "version_minor": 0
      },
      "text/plain": [
       "HBox(children=(FloatProgress(value=0.0, layout=Layout(flex='2'), max=146.0), HTML(value='')), layout=Layout(di…"
      ]
     },
     "metadata": {},
     "output_type": "display_data"
    },
    {
     "name": "stdout",
     "output_type": "stream",
     "text": [
      "\n",
      "Lr now: 0.0001\n",
      "я------------    сс---о----   сс--т---о----л-------я--- => я со столя          , gt: я со стола          \n",
      "А------к----т----юю-----б---ии--нн---сс--к----а-----яя- => Актюбинская         , gt: Актюбинская         \n",
      "К----а--рр----а---гг--а---н----дд--и--н---с-кк---а---я- => Карагандинская      , gt: Карагандинская      \n",
      "и----   п---а-з--е--м----н---о-ии--  -п---с-к--о--и---, => и паземнои пскои,   , gt: и неземнои покои,   \n",
      "В------    с--о--к-р---о--вв-ии------щ---н---и----цц-е- => В сокровищнице      , gt: В сокровищнице      \n"
     ]
    },
    {
     "data": {
      "application/vnd.jupyter.widget-view+json": {
       "model_id": "82b93a9a859b45d581f3cb7bda2399d1",
       "version_major": 2,
       "version_minor": 0
      },
      "text/plain": [
       "HBox(children=(FloatProgress(value=0.0, layout=Layout(flex='2'), max=711.0), HTML(value='')), layout=Layout(di…"
      ]
     },
     "metadata": {},
     "output_type": "display_data"
    },
    {
     "name": "stdout",
     "output_type": "stream",
     "text": [
      "\n"
     ]
    },
    {
     "data": {
      "application/vnd.jupyter.widget-view+json": {
       "model_id": "7bfa9b5084794a8f9ecba8d9a0614ddc",
       "version_major": 2,
       "version_minor": 0
      },
      "text/plain": [
       "HBox(children=(FloatProgress(value=0.0, layout=Layout(flex='2'), max=146.0), HTML(value='')), layout=Layout(di…"
      ]
     },
     "metadata": {},
     "output_type": "display_data"
    },
    {
     "name": "stdout",
     "output_type": "stream",
     "text": [
      "\n",
      "Lr now: 0.0001\n",
      "У-----------к------р-------а------ии-----н-------а----- => Украина             , gt: Украина             \n",
      "З--а--П--а--д---н-о-----КК-а-З--А--Х-ССТ-А--Н-ССК--А-Я- => ЗаПадно-КаЗАХСТАНСКАЯ, gt: ЗАПАДНО-КАЗАХСТАНСКАЯ\n",
      "У----сстт--ьь------КК---аа--м--е-н---о--гоорр-с-ссскк-- => Усть-Каменогорсск   , gt: Усть-Каменогорск    \n",
      "К-------а-------р---аа-------тт-------аа-------------уу => Каратау             , gt: Каратау             \n",
      "п---уу-тт----ьь--   м---о---и---  с--к----у--ч-е-н---,, => путь мои скучен,    , gt: путь мои скучен,    \n"
     ]
    },
    {
     "data": {
      "application/vnd.jupyter.widget-view+json": {
       "model_id": "34ca07ec818f4574a01698afcd262d3b",
       "version_major": 2,
       "version_minor": 0
      },
      "text/plain": [
       "HBox(children=(FloatProgress(value=0.0, layout=Layout(flex='2'), max=711.0), HTML(value='')), layout=Layout(di…"
      ]
     },
     "metadata": {},
     "output_type": "display_data"
    },
    {
     "name": "stdout",
     "output_type": "stream",
     "text": [
      "\n"
     ]
    },
    {
     "data": {
      "application/vnd.jupyter.widget-view+json": {
       "model_id": "a82df9c9650c48d595ee694734d1358d",
       "version_major": 2,
       "version_minor": 0
      },
      "text/plain": [
       "HBox(children=(FloatProgress(value=0.0, layout=Layout(flex='2'), max=146.0), HTML(value='')), layout=Layout(di…"
      ]
     },
     "metadata": {},
     "output_type": "display_data"
    },
    {
     "name": "stdout",
     "output_type": "stream",
     "text": [
      "\n",
      "Lr now: 0.0001\n",
      "У----с-т--оо----КК-аа----мм---е-нн--оо-ггг-о-ррр--с-кк- => Усто-Каменогорск    , gt: Усть-Каменогорск    \n",
      "п--а---м---я--тт--ии----------   нн---а-рр-о-д--л--ы-йй => памяти народлый     , gt: памяти народной     \n",
      "Я-----------------     вв----ее----рр-----юю----------, => Я верю,             , gt: Я верю,             \n",
      "о--------б---------ллл----а--------сс----т----------ь-- => область             , gt: Область             \n",
      "н---е--п--о--д--а--т---л--и-вв---у--ю-----   н---а--т-ь => неподатливую нать   , gt: неподатливую мать   \n"
     ]
    },
    {
     "data": {
      "application/vnd.jupyter.widget-view+json": {
       "model_id": "46f5b55875a9403093ec1fdf5dea67ef",
       "version_major": 2,
       "version_minor": 0
      },
      "text/plain": [
       "HBox(children=(FloatProgress(value=0.0, layout=Layout(flex='2'), max=711.0), HTML(value='')), layout=Layout(di…"
      ]
     },
     "metadata": {},
     "output_type": "display_data"
    },
    {
     "name": "stdout",
     "output_type": "stream",
     "text": [
      "\n"
     ]
    },
    {
     "data": {
      "application/vnd.jupyter.widget-view+json": {
       "model_id": "c1b35271e09a4b97859b7c00635de430",
       "version_major": 2,
       "version_minor": 0
      },
      "text/plain": [
       "HBox(children=(FloatProgress(value=0.0, layout=Layout(flex='2'), max=146.0), HTML(value='')), layout=Layout(di…"
      ]
     },
     "metadata": {},
     "output_type": "display_data"
    },
    {
     "name": "stdout",
     "output_type": "stream",
     "text": [
      "\n",
      "Lr now: 0.0001\n",
      "В----н--ии---мм---а--е---м------  -о-д--н---иии--мм---, => Внимаем одним,      , gt: Внимаем одним,      \n",
      "О----------    -б----а-----рр----а---------к----е-----, => О бараке,           , gt: в бараке,           \n",
      "Т--------------аа------к------и---------н---------аа--- => Такина              , gt: скакуна             \n",
      "У---стт-ь------ККК--аа--мм----е--н--оо-гг--о-рр--сс-кк- => Усть-Каменогорск    , gt: Усть-Каменогорск    \n",
      "К---аа--д---  х--о---л--о--д--в--о-----щ--ии---м---и-ь- => Кад холодвощимиь    , gt: Над холодеющими     \n"
     ]
    },
    {
     "ename": "NameError",
     "evalue": "name 'optimizer_rnn' is not defined",
     "output_type": "error",
     "traceback": [
      "\u001b[0;31m---------------------------------------------------------------------------\u001b[0m",
      "\u001b[0;31mNameError\u001b[0m                                 Traceback (most recent call last)",
      "\u001b[0;32m<ipython-input-21-b93b2610357e>\u001b[0m in \u001b[0;36m<module>\u001b[0;34m\u001b[0m\n\u001b[1;32m     81\u001b[0m \u001b[0;34m\u001b[0m\u001b[0m\n\u001b[1;32m     82\u001b[0m     \u001b[0;32mif\u001b[0m \u001b[0mepoch\u001b[0m \u001b[0;34m==\u001b[0m \u001b[0;36m40\u001b[0m\u001b[0;34m:\u001b[0m\u001b[0;34m\u001b[0m\u001b[0;34m\u001b[0m\u001b[0m\n\u001b[0;32m---> 83\u001b[0;31m         \u001b[0;32mfor\u001b[0m \u001b[0mg\u001b[0m \u001b[0;32min\u001b[0m \u001b[0moptimizer_rnn\u001b[0m\u001b[0;34m.\u001b[0m\u001b[0mparam_groups\u001b[0m\u001b[0;34m:\u001b[0m\u001b[0;34m\u001b[0m\u001b[0;34m\u001b[0m\u001b[0m\n\u001b[0m\u001b[1;32m     84\u001b[0m             \u001b[0mg\u001b[0m\u001b[0;34m[\u001b[0m\u001b[0;34m'lr'\u001b[0m\u001b[0;34m]\u001b[0m \u001b[0;34m=\u001b[0m \u001b[0mg\u001b[0m\u001b[0;34m[\u001b[0m\u001b[0;34m'lr'\u001b[0m\u001b[0;34m]\u001b[0m\u001b[0;34m*\u001b[0m\u001b[0;36m0.1\u001b[0m\u001b[0;34m\u001b[0m\u001b[0;34m\u001b[0m\u001b[0m\n\u001b[1;32m     85\u001b[0m         \u001b[0;32mfor\u001b[0m \u001b[0mg\u001b[0m \u001b[0;32min\u001b[0m \u001b[0moptimizer_conv\u001b[0m\u001b[0;34m.\u001b[0m\u001b[0mparam_groups\u001b[0m\u001b[0;34m:\u001b[0m\u001b[0;34m\u001b[0m\u001b[0;34m\u001b[0m\u001b[0m\n",
      "\u001b[0;31mNameError\u001b[0m: name 'optimizer_rnn' is not defined"
     ]
    }
   ],
   "source": [
    "ep = 100\n",
    "\n",
    "train_loss = []\n",
    "train_acc_char = []\n",
    "train_acc_str = []\n",
    "train_cer = []\n",
    "\n",
    "val_loss = []\n",
    "val_acc_char = []\n",
    "val_acc_str = []\n",
    "val_cer = []\n",
    "\n",
    "best_str_acc = 0\n",
    "\n",
    "for epoch in range(ep):\n",
    "    train_epoch_loss = []\n",
    "    \n",
    "    train_epoch_acc_char = []\n",
    "    train_epoch_acc_str = []\n",
    "    train_epoch_cer = []\n",
    "    \n",
    "    with tqdm(total = len(train_dataloader), ncols='100%') as bar_train:\n",
    "        for i, (images, gt_text) in enumerate(train_dataloader):\n",
    "\n",
    "            results = train_on_batch_rec(images, gt_text, net, ocr_loss, optimizer, device, batch_size, converter)\n",
    "            loss, acc_char, acc_str, cer = results\n",
    "            \n",
    "            train_epoch_loss.append(loss)\n",
    "            train_epoch_acc_char.append(acc_char)\n",
    "            train_epoch_acc_str.append(acc_str)\n",
    "            train_epoch_cer.append(cer)\n",
    "\n",
    "            printed_data = f\"Ep: {epoch}. Train loss: {np.mean(train_epoch_loss):.4f}.\\\n",
    "            Acc char: {np.mean(train_epoch_acc_char):.4f}.\\\n",
    "            Acc str: {np.mean(train_epoch_acc_str):.4f}.\\\n",
    "            CER: {np.mean(train_epoch_cer):.4f}.\"\n",
    "            bar_train.set_description(printed_data)\n",
    "            bar_train.update(1)\n",
    "            \n",
    "    train_loss.append(np.mean(train_epoch_loss))\n",
    "    \n",
    "    train_acc_char.append(np.mean(train_epoch_acc_char))\n",
    "    train_acc_str.append(np.mean(train_epoch_acc_str))\n",
    "    train_cer.append(np.mean(train_epoch_cer))\n",
    "    \n",
    "    \n",
    "    val_epoch_loss = []\n",
    "    \n",
    "    val_epoch_acc_char = []\n",
    "    val_epoch_acc_str = []\n",
    "    val_epoch_cer = []\n",
    "    \n",
    "    with tqdm(total = len(val_dataloader), ncols='100%') as bar_val:\n",
    "        for i, (images, gt_text) in enumerate(val_dataloader):\n",
    "\n",
    "            results = val_on_batch_rec(images, gt_text, net, ocr_loss, device, batch_size, converter)\n",
    "            loss, acc_char, acc_str, cer, decode_text, gt_text, raw_preds = results\n",
    "            \n",
    "            val_epoch_loss.append(loss)\n",
    "            val_epoch_acc_char.append(acc_char)\n",
    "            val_epoch_acc_str.append(acc_str)\n",
    "            val_epoch_cer.append(cer)\n",
    "\n",
    "            printed_data = f\"Ep: {epoch}. Val loss: {np.mean(val_epoch_loss):.4f}.\\\n",
    "            Acc char: {np.mean(val_epoch_acc_char):.4f}.\\\n",
    "            Acc str: {np.mean(val_epoch_acc_str):.4f}.\\\n",
    "            CER: {np.mean(val_epoch_cer):.4f}.\"\n",
    "            bar_val.set_description(printed_data)\n",
    "            bar_val.update(1)\n",
    "        \n",
    "    val_loss.append(np.mean(val_epoch_loss))\n",
    "    \n",
    "    val_acc_char.append(np.mean(val_epoch_acc_char))\n",
    "    val_acc_str.append(np.mean(val_epoch_acc_str))\n",
    "    val_cer.append(np.mean(val_epoch_cer))\n",
    "    \n",
    "    print('Lr now:', optimizer.param_groups[0]['lr'])\n",
    "\n",
    "    for raw_pred, pred, gt in zip(raw_preds, decode_text, gt_text):\n",
    "        print('%-20s => %-20s, gt: %-20s' % (raw_pred, pred, gt)) \n",
    "    \n",
    "    if epoch == 40:\n",
    "        for g in optimizer_rnn.param_groups:\n",
    "            g['lr'] = g['lr']*0.1\n",
    "        for g in optimizer_conv.param_groups:\n",
    "            g['lr'] = g['lr']*0.1\n",
    "        print('Lr now:', optimizer_rnn.param_groups[0]['lr'])\n",
    "        \n",
    "    if epoch == 70:\n",
    "        for g in optimizer_rnn.param_groups:\n",
    "            g['lr'] = g['lr']*0.1\n",
    "        for g in optimizer_conv.param_groups:\n",
    "            g['lr'] = g['lr']*0.1\n",
    "        print('Lr now:', optimizer_rnn.param_groups[0]['lr'])"
   ]
  },
  {
   "cell_type": "code",
   "execution_count": null,
   "metadata": {},
   "outputs": [],
   "source": []
  }
 ],
 "metadata": {
  "kernelspec": {
   "display_name": "Python 3",
   "language": "python",
   "name": "python3"
  },
  "language_info": {
   "codemirror_mode": {
    "name": "ipython",
    "version": 3
   },
   "file_extension": ".py",
   "mimetype": "text/x-python",
   "name": "python",
   "nbconvert_exporter": "python",
   "pygments_lexer": "ipython3",
   "version": "3.7.7"
  }
 },
 "nbformat": 4,
 "nbformat_minor": 4
}
