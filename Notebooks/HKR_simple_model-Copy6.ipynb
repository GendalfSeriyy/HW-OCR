{
 "cells": [
  {
   "cell_type": "code",
   "execution_count": 1,
   "metadata": {},
   "outputs": [],
   "source": [
    "import logging\n",
    "import torch.nn as nn\n",
    "import numpy as np\n",
    "from matplotlib import pyplot as plt\n",
    "import cv2\n",
    "import torch\n",
    "import torch.nn.functional as F\n",
    "import math\n",
    "import pandas as pd\n",
    "import PIL.Image as Image\n",
    "from torchvision.transforms import ToTensor, ToPILImage\n",
    "import torch.nn.functional as F\n",
    "import segmentation_models_pytorch as smp\n",
    "from collections import OrderedDict\n",
    "import torch\n",
    "import torch.nn as nn\n",
    "import PIL.Image as Image\n",
    "from torchvision.transforms import ToTensor, ToPILImage\n",
    "import torch.nn.functional as F\n",
    "import pickle\n",
    "from tqdm import tqdm_notebook as tqdm\n",
    "import torchvision\n",
    "import time\n",
    "from collections import defaultdict\n",
    "from torch.nn import CTCLoss\n",
    "from Levenshtein import distance\n",
    "import random\n",
    "from torch.utils import data\n",
    "from torch.utils.data import DataLoader"
   ]
  },
  {
   "cell_type": "code",
   "execution_count": 2,
   "metadata": {},
   "outputs": [],
   "source": [
    "class ImageDataset(data.Dataset):\n",
    "    \"\"\"\n",
    "    Dataset class for handwritten lines.\n",
    "\n",
    "    Parameters\n",
    "    ----------\n",
    "    pickle_file : str\n",
    "        Path to a dataset pickle file.\n",
    "    meta : bool\n",
    "        If True, meta data about files is provided.\n",
    "    num_imgs : int, optional (default=-1)\n",
    "        Choose only `num_imgs` imgs for processing. If set to -1, uses all available images.\n",
    "\n",
    "    \"\"\"\n",
    "\n",
    "    def __init__(self, pickle_file, meta=False, num_imgs=-1, rescale_mode=True, padding_mode=False, \n",
    "                 rescale_size=(442, 64), padding_size=(1024,128)):\n",
    "        with open(pickle_file, 'rb') as f:\n",
    "            dataset = pickle.load(f)\n",
    "        self.reference_dataset = dataset\n",
    "        self.num_imgs = num_imgs\n",
    "        self.rescale_mode = rescale_mode\n",
    "        self.padding_mode = padding_mode\n",
    "        self.rescale_size = rescale_size\n",
    "        self.padding_size = padding_size\n",
    "        if (self.num_imgs > 0) and (self.num_imgs < len(self.reference_dataset)):\n",
    "            inds = np.random.choice(np.arange(len(self.reference_dataset)),\n",
    "                                    self.num_imgs, replace=False)\n",
    "            self.reference_dataset = [self.reference_dataset[i] for i in inds]\n",
    "        self.meta = meta\n",
    "\n",
    "    def __getitem__(self, idx):\n",
    "        data = self.reference_dataset[idx]\n",
    "        img = cv2.cvtColor(cv2.imread(data['img_path']), cv2.COLOR_BGR2RGB)/255.\n",
    "        if self.rescale_mode:\n",
    "            img = cv2.resize(img, self.rescale_size)\n",
    "        elif self.padding_mode:\n",
    "            img_shape = img.shape\n",
    "            #print(img_shape)\n",
    "            koef_1 = img_shape[1]/self.padding_size[0]\n",
    "            koef_2 = img_shape[0]/self.padding_size[1]\n",
    "            use_koef = max(koef_1, koef_2)\n",
    "            if use_koef > 1.:\n",
    "                img = cv2.resize(img, (math.floor(img_shape[1]/use_koef), math.floor(img_shape[0]/use_koef)))\n",
    "                img_shape = img.shape\n",
    "            padded_image = np.ones((self.padding_size[1], self.padding_size[0], img_shape[2]))\n",
    "            #print(padded_image.shape)\n",
    "            #print(img.shape)\n",
    "            padded_image[0:img_shape[0], 0:img_shape[1], :] = img\n",
    "            img = padded_image\n",
    "            \n",
    "        img = torch.from_numpy(img).permute(2,0,1).float()\n",
    "        text = data['description']\n",
    "        width = data['width']\n",
    "        height = data['height']\n",
    "\n",
    "        if self.meta:\n",
    "            return img, text, data, width, height\n",
    "        else:\n",
    "            return img, text\n",
    "\n",
    "    def __len__(self):\n",
    "        return len(self.reference_dataset)\n",
    "    \n",
    "class strLabelConverter(object):\n",
    "    \"\"\"Convert between str and label.\n",
    "    NOTE:\n",
    "        Insert `blank` to the alphabet for CTC.\n",
    "    Args:\n",
    "        alphabet (str): set of the possible characters.\n",
    "        ignore_case (bool, default=True): whether or not to ignore all of the case.\n",
    "    \"\"\"\n",
    "\n",
    "    def __init__(self, alphabet, ignore_case=False):\n",
    "        self._ignore_case = ignore_case\n",
    "        if self._ignore_case:\n",
    "            alphabet = alphabet.lower()\n",
    "        self.alphabet = alphabet + '-'  # for `-1` index\n",
    "        #self.alphabet = alphabet\n",
    "\n",
    "        self.dict = {}\n",
    "        for i, char in enumerate(alphabet):\n",
    "            # NOTE: 0 is reserved for 'blank' required by wrap_ctc\n",
    "            self.dict[char] = i + 1\n",
    "    \n",
    "    def encode(self, text):\n",
    "        \"\"\"Support batch or single str.\n",
    "        Args:\n",
    "            text (str or list of str): texts to convert.\n",
    "        Returns:\n",
    "            torch.LongTensor [length_0 + length_1 + ... length_{n - 1}]: encoded texts.\n",
    "            torch.LongTensor [n]: length of each text.\n",
    "        \"\"\"\n",
    "\n",
    "        length = []\n",
    "        result = []\n",
    "        for item in text:            \n",
    "#             item = item.decode('utf-8','strict')\n",
    "            length.append(len(item))\n",
    "            r = []\n",
    "            for char in item:\n",
    "                index = self.dict[char]\n",
    "                # result.append(index)\n",
    "                r.append(index)\n",
    "            result.append(r)\n",
    "        \n",
    "        max_len = 0\n",
    "        for r in result:\n",
    "            if len(r) > max_len:\n",
    "                max_len = len(r)\n",
    "        \n",
    "        result_temp = []\n",
    "        for r in result:\n",
    "            for i in range(max_len - len(r)):\n",
    "                r.append(0)\n",
    "            result_temp.append(r)\n",
    "\n",
    "        text = result_temp\n",
    "        return (torch.LongTensor(text), torch.LongTensor(length))\n",
    "\n",
    "\n",
    "    def decode(self, t, length, raw=False):\n",
    "        \"\"\"Decode encoded texts back into strs.\n",
    "        Args:\n",
    "            torch.LongTensor [length_0 + length_1 + ... length_{n - 1}]: encoded texts.\n",
    "            torch.LongTensor [n]: length of each text.\n",
    "        Raises:\n",
    "            AssertionError: when the texts and its length does not match.\n",
    "        Returns:\n",
    "            text (str or list of str): texts to convert.\n",
    "        \"\"\"\n",
    "        if length.numel() == 1:\n",
    "            length = length[0]\n",
    "            assert t.numel() == length, \"text with length: {} does not match declared length: {}\".format(t.numel(), length)\n",
    "            if raw:\n",
    "                return ''.join([self.alphabet[i - 1] for i in t])\n",
    "            else:\n",
    "                char_list = []\n",
    "                for i in range(length):\n",
    "                    if t[i] != 0 and (not (i > 0 and t[i - 1] == t[i])):\n",
    "                        char_list.append(self.alphabet[t[i] - 1])\n",
    "                return ''.join(char_list)\n",
    "        else:\n",
    "            # batch mode\n",
    "            assert t.numel() == length.sum(), \"texts with length: {} does not match declared length: {}\".format(t.numel(), length.sum())\n",
    "            texts = []\n",
    "            index = 0\n",
    "            for i in range(length.numel()):\n",
    "                l = length[i]\n",
    "                texts.append(\n",
    "                    self.decode(\n",
    "                        t[index:index + l], torch.LongTensor([l]), raw=raw))\n",
    "                index += l\n",
    "            return texts"
   ]
  },
  {
   "cell_type": "code",
   "execution_count": 3,
   "metadata": {},
   "outputs": [],
   "source": [
    "class BidirectionalLSTM(nn.Module):\n",
    "\n",
    "    def __init__(self, nIn, nHidden, nOut):\n",
    "        super(BidirectionalLSTM, self).__init__()\n",
    "\n",
    "        self.rnn = nn.LSTM(nIn, nHidden, bidirectional=True)\n",
    "        self.embedding = nn.Linear(nHidden * 2, nOut)\n",
    "\n",
    "    def forward(self, input):\n",
    "        recurrent, _ = self.rnn(input)\n",
    "        T, b, h = recurrent.size()\n",
    "        t_rec = recurrent.view(T * b, h)\n",
    "\n",
    "        output = self.embedding(t_rec)  # [T * b, nOut]\n",
    "        output = output.view(T, b, -1)\n",
    "\n",
    "        return output\n",
    "    \n",
    "class CRNN(nn.Module):\n",
    "\n",
    "    def __init__(self, imgH, nc, nclass, nh, n_rnn=2, leakyRelu=False):\n",
    "        super(CRNN, self).__init__()\n",
    "        assert imgH % 16 == 0, 'imgH has to be a multiple of 16'\n",
    "\n",
    "        cnn = nn.Sequential()\n",
    "\n",
    "        def ConvBlock(in_c, out_c, k_s, padding, stride, dilation = 1, batchNorm=False, dropout = None, pooling = None, number = 0):\n",
    "            \n",
    "            cnn.add_module('conv{0}'.format(number),\n",
    "                           nn.Conv2d(in_c, out_c, k_s, stride, padding, dilation))\n",
    "            if batchNorm:\n",
    "                cnn.add_module('batchnorm{0}'.format(number), nn.BatchNorm2d(out_c))\n",
    "            cnn.add_module('relu{0}'.format(number), nn.ReLU(True))\n",
    "            if dropout is not None:\n",
    "                cnn.add_module('dropout{0}'.format(number), nn.Dropout2d(p=dropout))\n",
    "            if pooling is not None:\n",
    "                cnn.add_module('pooling{0}'.format(number), nn.MaxPool2d(*pooling))\n",
    "        '''\n",
    "        ConvBlock(in_c=nc, out_c=16, k_s=3, padding=0, stride=1, \n",
    "                  dilation = 1, batchNorm=True, dropout = None, pooling = [2,2], number=0)\n",
    "        ConvBlock(in_c=16, out_c=32, k_s=3, padding=0, stride=1, \n",
    "                  dilation = 1, batchNorm=True, dropout = 0.2, pooling = [2,2], number=1)\n",
    "        ConvBlock(in_c=32, out_c=64, k_s=3, padding=0, stride=1, \n",
    "                  dilation = 1, batchNorm=True, dropout = 0.2, pooling = [2,2], number=2)\n",
    "        ConvBlock(in_c=64, out_c=128, k_s=3, padding=0, stride=1, \n",
    "                  dilation = 1, batchNorm=True, dropout = None, pooling = [2,2], number=3)\n",
    "        ConvBlock(in_c=128, out_c=128, k_s=3, padding=0, stride=1, \n",
    "                  dilation = 1, batchNorm=True, dropout = 0.1, pooling = None, number=4)\n",
    "        ConvBlock(in_c=128, out_c=256, k_s=3, padding=0, stride=1, \n",
    "                  dilation = 1, batchNorm=True, dropout = 0.1, pooling = None, number=5)\n",
    "        #ConvBlock(in_c=128, out_c=256, k_s=3, padding=0, stride=1, \n",
    "                 # dilation = 1, batchNorm=True, dropout = None, pooling = None, number=6)\n",
    "        ConvBlock(in_c=256, out_c=512, k_s=2, padding=0, stride=1, \n",
    "                  dilation = 1, batchNorm=True, dropout = None, pooling = None, number=7)\n",
    "        '''\n",
    "        ConvBlock(in_c=nc, out_c=16, k_s=3, padding=1, stride=1, \n",
    "                  dilation = 1, batchNorm=True, dropout = None, pooling = [2,2], number=0)\n",
    "        ConvBlock(in_c=16, out_c=32, k_s=3, padding=1, stride=1, \n",
    "                  dilation = 1, batchNorm=True, dropout = 0.2, pooling = [2,2], number=1)\n",
    "        ConvBlock(in_c=32, out_c=64, k_s=3, padding=1, stride=1, \n",
    "                  dilation = 1, batchNorm=True, dropout = 0.2, pooling = None, number=2)\n",
    "        ConvBlock(in_c=64, out_c=128, k_s=3, padding=0, stride=1, \n",
    "                  dilation = 1, batchNorm=True, dropout = None, pooling = [2, 2], number=3)\n",
    "        ConvBlock(in_c=128, out_c=128, k_s=3, padding=0, stride=1, \n",
    "                  dilation = 1, batchNorm=True, dropout = 0.1, pooling = None, number=4)\n",
    "        ConvBlock(in_c=128, out_c=128, k_s=3, padding=0, stride=1, \n",
    "                  dilation = 1, batchNorm=True, dropout = 0.1, pooling = [2, 2], number=5)\n",
    "        ConvBlock(in_c=128, out_c=256, k_s=3, padding=0, stride=1, \n",
    "                  dilation = 1, batchNorm=True, dropout = None, pooling = None, number=6)\n",
    "        ConvBlock(in_c=256, out_c=512, k_s=3, padding=0, stride=1, \n",
    "                  dilation = 1, batchNorm=True, dropout = None, pooling = None, number=7)\n",
    "        \n",
    "        self.cnn = cnn\n",
    "        self.rnn = nn.Sequential(\n",
    "            BidirectionalLSTM(512, nh, nh),\n",
    "            BidirectionalLSTM(nh, nh, nclass))\n",
    "\n",
    "\n",
    "    def forward(self, input):\n",
    "        # conv features\n",
    "        conv = self.cnn(input)\n",
    "        b, c, h, w = conv.size()\n",
    "        assert h == 1, \"the height of conv must be 1\"\n",
    "        conv = conv.squeeze(2)\n",
    "        conv = conv.permute(2, 0, 1)  # [w, b, c]\n",
    "\n",
    "        # rnn features\n",
    "        output = self.rnn(conv)\n",
    "        \n",
    "        # add log_softmax to converge output\n",
    "        output = F.log_softmax(output, dim=2)\n",
    "\n",
    "        return output\n",
    "\n",
    "\n",
    "    def backward_hook(self, module, grad_input, grad_output):\n",
    "        for g in grad_input:\n",
    "            g[g != g] = 0   # replace all nan/inf in gradients to zero"
   ]
  },
  {
   "cell_type": "code",
   "execution_count": 4,
   "metadata": {},
   "outputs": [],
   "source": [
    "def train_on_batch_rec(images, gt_text, model_crnn, ocr_loss, optimizer, device, batch_size, converter):\n",
    "\n",
    "    model_crnn.train()\n",
    "    \n",
    "    pred_text = model_crnn(images.to(device))\n",
    "    \n",
    "    preds_size = torch.LongTensor([pred_text.size(0)] * batch_size)\n",
    "    \n",
    "    t_text, l_text = converter.encode(list(gt_text))\n",
    "    \n",
    "    loss = ocr_loss(pred_text, t_text, preds_size, l_text)\n",
    "    \n",
    "    optimizer.zero_grad()\n",
    "    loss.backward()\n",
    "    optimizer.step()\n",
    "    \n",
    "    _, decode_text = pred_text.max(2)\n",
    "    decode_text = decode_text.transpose(1, 0).contiguous().view(-1)\n",
    "    decode_text = converter.decode(decode_text.data, preds_size, raw=False)\n",
    "    \n",
    "    char_correct = 0\n",
    "    total_char = 0\n",
    "    for pred, gt in zip(decode_text, gt_text):\n",
    "        for i, pred_char in enumerate(pred):\n",
    "            if i<len(gt):\n",
    "                if pred_char == gt[i]:\n",
    "                    char_correct += 1\n",
    "        total_char += len(gt)\n",
    "            \n",
    "    acc_char = (char_correct)/float(total_char)\n",
    "    \n",
    "    total_str = 0\n",
    "    n_correct = 0\n",
    "    cer = 0\n",
    "    for pred, target in zip(decode_text, gt_text):\n",
    "        if pred == target:\n",
    "            n_correct += 1\n",
    "        else:\n",
    "            cer += distance(pred, target)/len(target)\n",
    "        total_str+=1\n",
    "            \n",
    "    acc_str = (n_correct)/total_str\n",
    "    cer = cer/total_str\n",
    "    \n",
    "    return (loss.item(), acc_char, acc_str, cer)\n",
    "\n",
    "def val_on_batch_rec(images, gt_text, model_crnn, ocr_loss, device, batch_size, converter):\n",
    "\n",
    "    model_crnn.eval()\n",
    "    \n",
    "    pred_text = model_crnn(images.to(device))\n",
    "    \n",
    "    preds_size = torch.LongTensor([pred_text.size(0)] * batch_size)\n",
    "    \n",
    "    t_text, l_text = converter.encode(list(gt_text))\n",
    "    \n",
    "    loss = ocr_loss(pred_text, t_text, preds_size, l_text)\n",
    "    \n",
    "    _, decode_text = pred_text.max(2)\n",
    "    decode_text = decode_text.transpose(1, 0).contiguous().view(-1)\n",
    "    decode_text = converter.decode(decode_text.data, preds_size, raw=False)\n",
    "    \n",
    "    char_correct = 0\n",
    "    total_char = 0\n",
    "    for pred, gt in zip(decode_text, gt_text):\n",
    "        for i, pred_char in enumerate(pred):\n",
    "            if i<len(gt):\n",
    "                if pred_char == gt[i]:\n",
    "                    char_correct += 1\n",
    "        total_char += len(gt)\n",
    "            \n",
    "    acc_char = (char_correct)/float(total_char)\n",
    "    \n",
    "    total_str = 0\n",
    "    n_correct = 0\n",
    "    cer = 0\n",
    "    for pred, target in zip(decode_text, gt_text):\n",
    "        if pred == target:\n",
    "            n_correct += 1\n",
    "        else:\n",
    "            cer += distance(pred, target)/len(target)\n",
    "        total_str+=1\n",
    "            \n",
    "    acc_str = (n_correct)/total_str\n",
    "    cer = cer/total_str\n",
    "    \n",
    "    _, preds = pred_text.max(2)\n",
    "    preds = preds.transpose(1, 0).contiguous().view(-1)\n",
    "    raw_preds = converter.decode(preds.data, preds_size, raw=True)\n",
    "    \n",
    "    return (loss.item(), acc_char, acc_str, cer, decode_text[:5], gt_text[:5], raw_preds[:5])"
   ]
  },
  {
   "cell_type": "code",
   "execution_count": 5,
   "metadata": {},
   "outputs": [
    {
     "data": {
      "text/plain": [
       "79"
      ]
     },
     "execution_count": 5,
     "metadata": {},
     "output_type": "execute_result"
    }
   ],
   "source": [
    "pickle_path_train = '/home/storage/3020/KrivorotovI/db/HKR/datasets/train.pkl'\n",
    "pickle_path_val = '/home/storage/3020/KrivorotovI/db/HKR/datasets/val.pkl'\n",
    "with open(pickle_path_train, 'rb') as f:\n",
    "    full_dataset = pickle.load(f)\n",
    "alphabet = ''\n",
    "for example in full_dataset:\n",
    "    alphabet += example['description']\n",
    "alphabet = list(set(alphabet))\n",
    "alphabet =''.join(alphabet)\n",
    "len(alphabet)"
   ]
  },
  {
   "cell_type": "code",
   "execution_count": 6,
   "metadata": {},
   "outputs": [],
   "source": [
    "imgH = 32 # the height of the input image to network\n",
    "imgW = 100 # the width of the input image to network\n",
    "nh = 256 # size of the lstm hidden state\n",
    "nc = 3\n",
    "nclass = len(alphabet)+1\n",
    "batch_size = 64"
   ]
  },
  {
   "cell_type": "code",
   "execution_count": 7,
   "metadata": {},
   "outputs": [],
   "source": [
    "device = torch.device(\"cuda:6\")\n",
    "converter = strLabelConverter(alphabet)\n",
    "net = CRNN(imgH, nc, nclass, nh)\n",
    "net.to(device)\n",
    "ocr_loss = CTCLoss()\n",
    "optimizer = torch.optim.RMSprop(net.parameters(), lr=0.001)\n",
    "train_dataset = ImageDataset(pickle_path_train, num_imgs=-1, rescale_mode=False, padding_mode=True)\n",
    "val_dataset = ImageDataset(pickle_path_val, num_imgs=-1, rescale_mode=False, padding_mode=True)\n",
    "\n",
    "train_dataloader = DataLoader(train_dataset, batch_size=batch_size,\n",
    "                        shuffle=True, num_workers=1, drop_last = True)\n",
    "val_dataloader = DataLoader(val_dataset, batch_size=batch_size,\n",
    "                        shuffle=True, num_workers=1, drop_last = True)"
   ]
  },
  {
   "cell_type": "code",
   "execution_count": 8,
   "metadata": {},
   "outputs": [
    {
     "name": "stdout",
     "output_type": "stream",
     "text": [
      "torch.Size([64, 3, 128, 1024])\n",
      "легкие летят\n"
     ]
    },
    {
     "data": {
      "image/png": "[encoded data removed]",
      "text/plain": [
       "<Figure size 432x288 with 1 Axes>"
      ]
     },
     "metadata": {
      "needs_background": "light"
     },
     "output_type": "display_data"
    }
   ],
   "source": [
    "for imgs, text in train_dataloader:\n",
    "    print(imgs.shape)\n",
    "    plt.imshow(imgs[0].permute(1,2,0))\n",
    "    print(text[0])\n",
    "    break"
   ]
  },
  {
   "cell_type": "code",
   "execution_count": null,
   "metadata": {},
   "outputs": [
    {
     "name": "stderr",
     "output_type": "stream",
     "text": [
      "/usr/local/lib/python3.7/site-packages/ipykernel_launcher.py:22: TqdmDeprecationWarning: This function will be removed in tqdm==5.0.0\n",
      "Please use `tqdm.notebook.tqdm` instead of `tqdm.tqdm_notebook`\n"
     ]
    },
    {
     "data": {
      "application/vnd.jupyter.widget-view+json": {
       "model_id": "d10910460c3c4629844352bcc562fa13",
       "version_major": 2,
       "version_minor": 0
      },
      "text/plain": [
       "HBox(children=(FloatProgress(value=0.0, layout=Layout(flex='2'), max=711.0), HTML(value='')), layout=Layout(di…"
      ]
     },
     "metadata": {},
     "output_type": "display_data"
    },
    {
     "name": "stdout",
     "output_type": "stream",
     "text": [
      "\n"
     ]
    },
    {
     "name": "stderr",
     "output_type": "stream",
     "text": [
      "/usr/local/lib/python3.7/site-packages/ipykernel_launcher.py:53: TqdmDeprecationWarning: This function will be removed in tqdm==5.0.0\n",
      "Please use `tqdm.notebook.tqdm` instead of `tqdm.tqdm_notebook`\n"
     ]
    },
    {
     "data": {
      "application/vnd.jupyter.widget-view+json": {
       "model_id": "b25915a855fc495b9790a4f4a9ef83d8",
       "version_major": 2,
       "version_minor": 0
      },
      "text/plain": [
       "HBox(children=(FloatProgress(value=0.0, layout=Layout(flex='2'), max=146.0), HTML(value='')), layout=Layout(di…"
      ]
     },
     "metadata": {},
     "output_type": "display_data"
    },
    {
     "name": "stdout",
     "output_type": "stream",
     "text": [
      "\n",
      "Lr now: 0.001\n",
      "А-------------------------------------------------------- => А                   , gt: Я стал              \n",
      "А-------------------------------------------------------- => А                   , gt: Алматы              \n",
      "А-------------------------------------------------------- => А                   , gt: Мерный круг         \n",
      "К-------------------------------------------------------- => К                   , gt: бесполезны мольбы   \n",
      "К-------------------------------------------------------- => К                   , gt: Карагандинская      \n"
     ]
    },
    {
     "data": {
      "application/vnd.jupyter.widget-view+json": {
       "model_id": "8f2b0b93c3d04c6088bcc2c5eeeaaed0",
       "version_major": 2,
       "version_minor": 0
      },
      "text/plain": [
       "HBox(children=(FloatProgress(value=0.0, layout=Layout(flex='2'), max=711.0), HTML(value='')), layout=Layout(di…"
      ]
     },
     "metadata": {},
     "output_type": "display_data"
    },
    {
     "name": "stdout",
     "output_type": "stream",
     "text": [
      "\n"
     ]
    },
    {
     "data": {
      "application/vnd.jupyter.widget-view+json": {
       "model_id": "2c0b2c973e844569891505eef6ba2a2c",
       "version_major": 2,
       "version_minor": 0
      },
      "text/plain": [
       "HBox(children=(FloatProgress(value=0.0, layout=Layout(flex='2'), max=146.0), HTML(value='')), layout=Layout(di…"
      ]
     },
     "metadata": {},
     "output_type": "display_data"
    },
    {
     "name": "stdout",
     "output_type": "stream",
     "text": [
      "\n",
      "Lr now: 0.001\n",
      "Н-к-и-я--  в-ба-р---------------------------------------- => Нкия вбар           , gt: Меня ветер          \n",
      "но--- п-орзд-сии-нн-и--й--------------------------------- => но порздсиний       , gt: но нездешний        \n",
      "У-р--о-ж---аа--тт----------  под-------ы----------------- => Урожат поды         , gt: ворошат корма       \n",
      "на---  зж-о-в--о-й--- сстт-а-н-а------------------------- => на зжовой стана     , gt: На древней стене    \n",
      "в- крро-с-н--о--й-- о--р-о--в-е-------------------------- => в кросной орове     , gt: в простой оправе    \n"
     ]
    },
    {
     "data": {
      "application/vnd.jupyter.widget-view+json": {
       "model_id": "5706228909e84ff0bb42fc4ca36ed94e",
       "version_major": 2,
       "version_minor": 0
      },
      "text/plain": [
       "HBox(children=(FloatProgress(value=0.0, layout=Layout(flex='2'), max=711.0), HTML(value='')), layout=Layout(di…"
      ]
     },
     "metadata": {},
     "output_type": "display_data"
    },
    {
     "name": "stdout",
     "output_type": "stream",
     "text": [
      "\n"
     ]
    },
    {
     "data": {
      "application/vnd.jupyter.widget-view+json": {
       "model_id": "640303563343442dba38776a1e120556",
       "version_major": 2,
       "version_minor": 0
      },
      "text/plain": [
       "HBox(children=(FloatProgress(value=0.0, layout=Layout(flex='2'), max=146.0), HTML(value='')), layout=Layout(di…"
      ]
     },
     "metadata": {},
     "output_type": "display_data"
    },
    {
     "name": "stdout",
     "output_type": "stream",
     "text": [
      "\n",
      "Lr now: 0.001\n",
      "К---------о------------з-а---х--с--к---а--н--с-кк-а---яя- => Козахсканская       , gt: ЮЖНО-КАЗАХСТАНСКАЯ  \n",
      "Д----ж----н---------------------------------------------- => Джн                 , gt: Костанайская        \n",
      "с--------е-------ж--------------------------------------- => сеж                 , gt: Ишака,              \n",
      "В-д--н-о--хс---у------а---------------------------------- => Вднохсуа            , gt: Звучно стрелка      \n",
      "К-о--р-а--г-а--н--д-и--н--с-к-а---я---------------------- => Корагандинская      , gt: Карагандинская      \n"
     ]
    },
    {
     "data": {
      "application/vnd.jupyter.widget-view+json": {
       "model_id": "ed30981334094961ada1b9ba08663061",
       "version_major": 2,
       "version_minor": 0
      },
      "text/plain": [
       "HBox(children=(FloatProgress(value=0.0, layout=Layout(flex='2'), max=711.0), HTML(value='')), layout=Layout(di…"
      ]
     },
     "metadata": {},
     "output_type": "display_data"
    },
    {
     "name": "stdout",
     "output_type": "stream",
     "text": [
      "\n"
     ]
    },
    {
     "data": {
      "application/vnd.jupyter.widget-view+json": {
       "model_id": "dddecd8e48d8478cb69eda38aa76ec97",
       "version_major": 2,
       "version_minor": 0
      },
      "text/plain": [
       "HBox(children=(FloatProgress(value=0.0, layout=Layout(flex='2'), max=146.0), HTML(value='')), layout=Layout(di…"
      ]
     },
     "metadata": {},
     "output_type": "display_data"
    },
    {
     "name": "stdout",
     "output_type": "stream",
     "text": [
      "\n",
      "Lr now: 0.001\n",
      "по-л--я-н-ы---------------------------------------------- => поляны              , gt: поляны              \n",
      "А---л--м----а----тт----ы--------------------------------- => Алматы              , gt: Алматы              \n",
      "М-----о--и--  -р--уу-к---и------------------------------- => Мои руки            , gt: Мои руки            \n",
      "Ж--а--м---бы--л-ь-с-к-а---я------------------------------ => Жамбыльская         , gt: Жамбыльская         \n",
      "Ре--т-у-б-лии-ка----------------------------------------- => Ретублика           , gt: Республика          \n"
     ]
    },
    {
     "data": {
      "application/vnd.jupyter.widget-view+json": {
       "model_id": "09f9fc59bbc943b88fea539d21d3d71d",
       "version_major": 2,
       "version_minor": 0
      },
      "text/plain": [
       "HBox(children=(FloatProgress(value=0.0, layout=Layout(flex='2'), max=711.0), HTML(value='')), layout=Layout(di…"
      ]
     },
     "metadata": {},
     "output_type": "display_data"
    },
    {
     "name": "stdout",
     "output_type": "stream",
     "text": [
      "\n"
     ]
    },
    {
     "data": {
      "application/vnd.jupyter.widget-view+json": {
       "model_id": "17755e36a723449fae5b8aaa22de07f7",
       "version_major": 2,
       "version_minor": 0
      },
      "text/plain": [
       "HBox(children=(FloatProgress(value=0.0, layout=Layout(flex='2'), max=146.0), HTML(value='')), layout=Layout(di…"
      ]
     },
     "metadata": {},
     "output_type": "display_data"
    },
    {
     "name": "stdout",
     "output_type": "stream",
     "text": [
      "\n",
      "Lr now: 0.001\n",
      "и----  к-р-е-п-к--а-------------------------------------- => и крепка            , gt: и крепка            \n",
      "Ус-т-ь-----К-а--м-еен-о- гго-р-ск------------------------ => Усть-Камено горск   , gt: Усть-Каменогорск    \n",
      "К-о--м--у?? -Л--ю-б-е-м--у------------------------------- => Кому? Любему        , gt: Кому? Любому        \n",
      "Р-а-ййо-н------------------------------------------------ => Район               , gt: Район               \n",
      "Ш-ыы-м--к-е-н-тт----------------------------------------- => Шымкент             , gt: Шымкент             \n"
     ]
    },
    {
     "data": {
      "application/vnd.jupyter.widget-view+json": {
       "model_id": "56da0bbe82c54a11a4f0899c2b72d013",
       "version_major": 2,
       "version_minor": 0
      },
      "text/plain": [
       "HBox(children=(FloatProgress(value=0.0, layout=Layout(flex='2'), max=711.0), HTML(value='')), layout=Layout(di…"
      ]
     },
     "metadata": {},
     "output_type": "display_data"
    },
    {
     "name": "stdout",
     "output_type": "stream",
     "text": [
      "\n"
     ]
    },
    {
     "data": {
      "application/vnd.jupyter.widget-view+json": {
       "model_id": "3bb240c4d9344e2cab7f7d45cc4321c7",
       "version_major": 2,
       "version_minor": 0
      },
      "text/plain": [
       "HBox(children=(FloatProgress(value=0.0, layout=Layout(flex='2'), max=146.0), HTML(value='')), layout=Layout(di…"
      ]
     },
     "metadata": {},
     "output_type": "display_data"
    },
    {
     "name": "stdout",
     "output_type": "stream",
     "text": [
      "\n",
      "Lr now: 0.001\n",
      "Т--е-м-ии-р---------------------------------------------- => Темир               , gt: Темир               \n",
      "к-л--я--т--в-о-й------  о-б-е--л-щ-а-лл------------------ => клятвой обелщал     , gt: клятвой обещал      \n",
      "М--а--к-и--н-с-к----------------------------------------- => Макинск             , gt: Макинск             \n",
      "Пуу-т-ь-  у-к-о--у-я------------------------------------- => Путь укоуя          , gt: Путь указуя         \n",
      "М-а-Л--Д--а-В-И-Я---------------------------------------- => МаЛДаВИЯ            , gt: МОЛДАВИЯ            \n"
     ]
    },
    {
     "data": {
      "application/vnd.jupyter.widget-view+json": {
       "model_id": "0be8d53a922f47fbb543508fc215386b",
       "version_major": 2,
       "version_minor": 0
      },
      "text/plain": [
       "HBox(children=(FloatProgress(value=0.0, layout=Layout(flex='2'), max=711.0), HTML(value='')), layout=Layout(di…"
      ]
     },
     "metadata": {},
     "output_type": "display_data"
    },
    {
     "name": "stdout",
     "output_type": "stream",
     "text": [
      "\n"
     ]
    },
    {
     "data": {
      "application/vnd.jupyter.widget-view+json": {
       "model_id": "d910385efb4c44fb85a16f062dd336ce",
       "version_major": 2,
       "version_minor": 0
      },
      "text/plain": [
       "HBox(children=(FloatProgress(value=0.0, layout=Layout(flex='2'), max=146.0), HTML(value='')), layout=Layout(di…"
      ]
     },
     "metadata": {},
     "output_type": "display_data"
    },
    {
     "name": "stdout",
     "output_type": "stream",
     "text": [
      "\n",
      "Lr now: 0.001\n",
      "Ж---т----------нннн-нн--н---н----н---н---тт-----------ссс => Жтннннннтс          , gt: Усть-Каменогорск    \n",
      "К-----з-а-а-а--д-аа--а---тт-------ссссссссс-----------ттт => Кзааадаатст         , gt: Молдавия            \n",
      "В--в------н----с----л--ннн-с--сссс---------------------кк => Ввнслнсск           , gt: Завтра к милой      \n",
      "Ж---------ж------н---а--------х-----сс----------------ттт => Жжнахст             , gt: С высоты ледника    \n",
      "В----т---ж-ж--------а--н-е----е-н---н----н------------ттт => Втжж-анеенннт       , gt: Западно Казахстанская\n"
     ]
    },
    {
     "data": {
      "application/vnd.jupyter.widget-view+json": {
       "model_id": "7e57f452bb604a818cb0d958ee19de4a",
       "version_major": 2,
       "version_minor": 0
      },
      "text/plain": [
       "HBox(children=(FloatProgress(value=0.0, layout=Layout(flex='2'), max=711.0), HTML(value='')), layout=Layout(di…"
      ]
     },
     "metadata": {},
     "output_type": "display_data"
    },
    {
     "name": "stdout",
     "output_type": "stream",
     "text": [
      "\n"
     ]
    },
    {
     "data": {
      "application/vnd.jupyter.widget-view+json": {
       "model_id": "1b6350a00de642bf99d00eefb6df11ed",
       "version_major": 2,
       "version_minor": 0
      },
      "text/plain": [
       "HBox(children=(FloatProgress(value=0.0, layout=Layout(flex='2'), max=146.0), HTML(value='')), layout=Layout(di…"
      ]
     },
     "metadata": {},
     "output_type": "display_data"
    },
    {
     "name": "stdout",
     "output_type": "stream",
     "text": [
      "\n",
      "Lr now: 0.001\n",
      "К-а-р--а-жж--а--л---------------------------------------- => Каражал             , gt: Каражал             \n",
      "ст--у-д-е-н-о--и-  т--и--ш---и-ноо-и--------------------- => студенои тишинои    , gt: студенои тишинои    \n",
      "К--и--р-а---т---а-у-------------------------------------- => Киратау             , gt: Каратау             \n",
      "А---к---т--О--б---е-------------------------------------- => АктОбе              , gt: АКТОБЕ              \n",
      "Б-а-йй--к-о--н--ы--р------------------------------------- => Байконыр            , gt: Байконыр            \n"
     ]
    },
    {
     "data": {
      "application/vnd.jupyter.widget-view+json": {
       "model_id": "54936898e9a84d3fa438d6a9adb5a0ed",
       "version_major": 2,
       "version_minor": 0
      },
      "text/plain": [
       "HBox(children=(FloatProgress(value=0.0, layout=Layout(flex='2'), max=711.0), HTML(value='')), layout=Layout(di…"
      ]
     },
     "metadata": {},
     "output_type": "display_data"
    },
    {
     "name": "stdout",
     "output_type": "stream",
     "text": [
      "\n"
     ]
    },
    {
     "data": {
      "application/vnd.jupyter.widget-view+json": {
       "model_id": "51d27b1749db4b11bb5dc91376b6469d",
       "version_major": 2,
       "version_minor": 0
      },
      "text/plain": [
       "HBox(children=(FloatProgress(value=0.0, layout=Layout(flex='2'), max=146.0), HTML(value='')), layout=Layout(di…"
      ]
     },
     "metadata": {},
     "output_type": "display_data"
    },
    {
     "name": "stdout",
     "output_type": "stream",
     "text": [
      "\n",
      "Lr now: 0.001\n",
      "М--о-лл-д-а--в-и--я-------------------------------------а => Молдавияа           , gt: Молдавия            \n",
      "Гз-а--  -т-е-л---гг-о--й--------------------------------а => Гза телгойа         , gt: за телегой          \n",
      "Узззбб-е-к---е-сс-тт--а--н------------------------------- => Узбекестан          , gt: Узбекистан          \n",
      "С-тт---е-п--нн---я----я---------------------------------а => Степняяа            , gt: Степняк             \n",
      "А--лл-мм---а---т---ы------------------------------------- => Алматы              , gt: Алматы              \n"
     ]
    },
    {
     "data": {
      "application/vnd.jupyter.widget-view+json": {
       "model_id": "c51b06a8236f4c2183d105734305504f",
       "version_major": 2,
       "version_minor": 0
      },
      "text/plain": [
       "HBox(children=(FloatProgress(value=0.0, layout=Layout(flex='2'), max=711.0), HTML(value='')), layout=Layout(di…"
      ]
     },
     "metadata": {},
     "output_type": "display_data"
    },
    {
     "name": "stdout",
     "output_type": "stream",
     "text": [
      "\n"
     ]
    },
    {
     "data": {
      "application/vnd.jupyter.widget-view+json": {
       "model_id": "b7dd9ba22abd43049fe71d76d1d6afb1",
       "version_major": 2,
       "version_minor": 0
      },
      "text/plain": [
       "HBox(children=(FloatProgress(value=0.0, layout=Layout(flex='2'), max=146.0), HTML(value='')), layout=Layout(di…"
      ]
     },
     "metadata": {},
     "output_type": "display_data"
    },
    {
     "name": "stdout",
     "output_type": "stream",
     "text": [
      "\n",
      "Lr now: 0.001\n",
      "Н--е--   в-м-е-с-т--е------------------------------------ => Не вместе           , gt: Не вместе           \n",
      "К--о-сс-т-а---н---а---й---------------------------------- => Костанай            , gt: Костанай            \n",
      "Не--  жж-а--лее-й---  к-о-н-я--,------------------------- => Не жалей коня,      , gt: Не жалей коня,      \n",
      "я-зз-в--и----т-е---л--ь---н--ыы---м------  с-в-о--иии,мхм => язвительным свои,мхм, gt: язвительным своим.  \n",
      "Т---ы---  с-т--а-л-а---  ввнноо-вь----------------------- => Ты стала вновь      , gt: Ты стала вновь      \n"
     ]
    },
    {
     "data": {
      "application/vnd.jupyter.widget-view+json": {
       "model_id": "adcf53a081964442bd8b342846659dbe",
       "version_major": 2,
       "version_minor": 0
      },
      "text/plain": [
       "HBox(children=(FloatProgress(value=0.0, layout=Layout(flex='2'), max=711.0), HTML(value='')), layout=Layout(di…"
      ]
     },
     "metadata": {},
     "output_type": "display_data"
    },
    {
     "name": "stdout",
     "output_type": "stream",
     "text": [
      "\n"
     ]
    },
    {
     "data": {
      "application/vnd.jupyter.widget-view+json": {
       "model_id": "3ae001e142504348957115694c0d019c",
       "version_major": 2,
       "version_minor": 0
      },
      "text/plain": [
       "HBox(children=(FloatProgress(value=0.0, layout=Layout(flex='2'), max=146.0), HTML(value='')), layout=Layout(di…"
      ]
     },
     "metadata": {},
     "output_type": "display_data"
    },
    {
     "name": "stdout",
     "output_type": "stream",
     "text": [
      "\n",
      "Lr now: 0.001\n",
      "о -н-е-ж--н-о-с--т--и-,  о- с-л--а-в--у-----------------  => о нежности, о славу , gt: о нежности, о славе,\n",
      "В--  сыы-р--у--о----н--о-ч-ь-------   ------------------- => В сыруоночь         , gt: В сырую ночь        \n",
      "м--о-ж--н-о-- с-о-с-т-а--в-и-т--ь- гго-р-о-д------------  => можно составить город , gt: можно составить город\n",
      "Л-е-т--и------с-т--рр-о-----а-------    ----------------- => Летистроа           , gt: ротив строгих       \n",
      "и- -осс-к-а-л--и-в--  п-а---т-ь-------------------------  => и оскалив пать      , gt: и оскалив пасть     \n"
     ]
    },
    {
     "data": {
      "application/vnd.jupyter.widget-view+json": {
       "model_id": "9de6a01d682742d4ac81c32e80ec73f1",
       "version_major": 2,
       "version_minor": 0
      },
      "text/plain": [
       "HBox(children=(FloatProgress(value=0.0, layout=Layout(flex='2'), max=711.0), HTML(value='')), layout=Layout(di…"
      ]
     },
     "metadata": {},
     "output_type": "display_data"
    },
    {
     "name": "stdout",
     "output_type": "stream",
     "text": [
      "\n"
     ]
    },
    {
     "data": {
      "application/vnd.jupyter.widget-view+json": {
       "model_id": "3ac4ed99110147908379034c4763ee75",
       "version_major": 2,
       "version_minor": 0
      },
      "text/plain": [
       "HBox(children=(FloatProgress(value=0.0, layout=Layout(flex='2'), max=146.0), HTML(value='')), layout=Layout(di…"
      ]
     },
     "metadata": {},
     "output_type": "display_data"
    },
    {
     "name": "stdout",
     "output_type": "stream",
     "text": [
      "\n",
      "Lr now: 0.001\n",
      "не-п-о-д-а-т-ллии-в-у-ю--   м--аа-т-ь-------------------- => неподатливую мать   , gt: неподатливую мать   \n",
      "и  о--д-н-и-им-  п-ро--б-у-ж--д-ет-.--------------------- => и одниим пробуждет. , gt: и одним пробужден,  \n",
      "Ш-----ы--м--к-е-н--т------------------------------------- => Шымкент             , gt: Шымкент             \n",
      "О---с--а---к--о--р--о-- в--к---а------------------------- => Осакоро вка         , gt: Осакоровка          \n",
      "Та-к---  ввс-к------------------------------------------- => Так вск             , gt: Так век             \n"
     ]
    },
    {
     "data": {
      "application/vnd.jupyter.widget-view+json": {
       "model_id": "83a8c91f0ab84496ac9467ba7c04f739",
       "version_major": 2,
       "version_minor": 0
      },
      "text/plain": [
       "HBox(children=(FloatProgress(value=0.0, layout=Layout(flex='2'), max=711.0), HTML(value='')), layout=Layout(di…"
      ]
     },
     "metadata": {},
     "output_type": "display_data"
    },
    {
     "name": "stdout",
     "output_type": "stream",
     "text": [
      "\n"
     ]
    },
    {
     "data": {
      "application/vnd.jupyter.widget-view+json": {
       "model_id": "afee1ed9f0ce4c658395a4b6bfedbcda",
       "version_major": 2,
       "version_minor": 0
      },
      "text/plain": [
       "HBox(children=(FloatProgress(value=0.0, layout=Layout(flex='2'), max=146.0), HTML(value='')), layout=Layout(di…"
      ]
     },
     "metadata": {},
     "output_type": "display_data"
    },
    {
     "name": "stdout",
     "output_type": "stream",
     "text": [
      "\n",
      "Lr now: 0.001\n",
      "Узз--а-е-т--и--с--т--а--н-------------------------------- => Узаетистан          , gt: Узбекистан          \n",
      "Г----д-е-т-  хоовва-р-т-а-------------------------------я => Гдет ховартая       , gt: Людей коварны       \n",
      "Л--е-р--н--о--й--- к-р--уу-л----------------------------- => Лерной крул         , gt: Мерный круг         \n",
      "То-т---н-я--м-ии---  к-р-о-в-ь--------------------------я => Тотнями кровья      , gt: Толчками кровь,     \n",
      "Г--е-рра--нн-о----вс---на-е-----------------------------я => Герановснаея        , gt: Прекрасно в нас     \n"
     ]
    },
    {
     "data": {
      "application/vnd.jupyter.widget-view+json": {
       "model_id": "fa33e76c303b443686dc09deacc682a5",
       "version_major": 2,
       "version_minor": 0
      },
      "text/plain": [
       "HBox(children=(FloatProgress(value=0.0, layout=Layout(flex='2'), max=711.0), HTML(value='')), layout=Layout(di…"
      ]
     },
     "metadata": {},
     "output_type": "display_data"
    },
    {
     "name": "stdout",
     "output_type": "stream",
     "text": [
      "\n"
     ]
    },
    {
     "data": {
      "application/vnd.jupyter.widget-view+json": {
       "model_id": "21f54b20271242ef886ac7c4fce76637",
       "version_major": 2,
       "version_minor": 0
      },
      "text/plain": [
       "HBox(children=(FloatProgress(value=0.0, layout=Layout(flex='2'), max=146.0), HTML(value='')), layout=Layout(di…"
      ]
     },
     "metadata": {},
     "output_type": "display_data"
    },
    {
     "name": "stdout",
     "output_type": "stream",
     "text": [
      "\n",
      "Lr now: 0.001\n",
      "Во----в-о------о---щ-а-----------------------ииииии--ссаа => Вовоощаиса          , gt: во все концы,       \n",
      "К-а--з-а-х-сс-т--а--нн--------------------------------сяя => Казахстанся         , gt: Казахстан           \n",
      "Ж-----о-с------ес--тт---иы------------кт--а-----------яяя => Жосестиыктая        , gt: проклятым роем      \n",
      "Севеер--н-о-------К--о-ззаа-х-сст-а--н-кккаяяя-яя-----яяя => СеверноКозахстанкаяяя, gt: Северно-Казахстанская\n",
      "Ж---с-т------------о---т---ь-----с-----о-кк---кк------ияя => Жстотьсоккия        , gt: УСТЬ-КАМЕНОГОРСК    \n"
     ]
    },
    {
     "data": {
      "application/vnd.jupyter.widget-view+json": {
       "model_id": "f97ce0076cd04f9cb279f3618359d176",
       "version_major": 2,
       "version_minor": 0
      },
      "text/plain": [
       "HBox(children=(FloatProgress(value=0.0, layout=Layout(flex='2'), max=711.0), HTML(value='')), layout=Layout(di…"
      ]
     },
     "metadata": {},
     "output_type": "display_data"
    },
    {
     "name": "stdout",
     "output_type": "stream",
     "text": [
      "\n"
     ]
    },
    {
     "data": {
      "application/vnd.jupyter.widget-view+json": {
       "model_id": "d028a1f44f9d4fd98fab4c6155b76ef9",
       "version_major": 2,
       "version_minor": 0
      },
      "text/plain": [
       "HBox(children=(FloatProgress(value=0.0, layout=Layout(flex='2'), max=146.0), HTML(value='')), layout=Layout(di…"
      ]
     },
     "metadata": {},
     "output_type": "display_data"
    },
    {
     "name": "stdout",
     "output_type": "stream",
     "text": [
      "\n",
      "Lr now: 0.001\n",
      "св-оя--  соов-ер------а----,---------------------------яя => своя совера,я       , gt: свой совершит       \n",
      "И--  п-о-----з-р--ы-т--м--уу--------------------------ооя => И позрытмуоя        , gt: И по изрытму        \n",
      "С-т--е---п--п----я---к---------кккккк----ккккккккк-----яя => Степпякккя          , gt: Степняк             \n",
      "П-о-л-с-к-а-м-и--  кр-о-в--,----------------------------а => Полсками кров,а     , gt: Толчками кровь,     \n",
      "К-е-м-----р--а-----------------------------------------яя => Кемрая              , gt: Темир               \n"
     ]
    },
    {
     "data": {
      "application/vnd.jupyter.widget-view+json": {
       "model_id": "b95d342dab0e4304bea2ede9e9515e68",
       "version_major": 2,
       "version_minor": 0
      },
      "text/plain": [
       "HBox(children=(FloatProgress(value=0.0, layout=Layout(flex='2'), max=711.0), HTML(value='')), layout=Layout(di…"
      ]
     },
     "metadata": {},
     "output_type": "display_data"
    },
    {
     "name": "stdout",
     "output_type": "stream",
     "text": [
      "\n"
     ]
    },
    {
     "data": {
      "application/vnd.jupyter.widget-view+json": {
       "model_id": "febe35b4b7a6416d91e63268ced4ee2d",
       "version_major": 2,
       "version_minor": 0
      },
      "text/plain": [
       "HBox(children=(FloatProgress(value=0.0, layout=Layout(flex='2'), max=146.0), HTML(value='')), layout=Layout(di…"
      ]
     },
     "metadata": {},
     "output_type": "display_data"
    },
    {
     "name": "stdout",
     "output_type": "stream",
     "text": [
      "\n",
      "Lr now: 0.001\n",
      "У-с-тт--ьь----к-а---м---н--огг--ор-сскк------------------ => Усть-камногорск     , gt: Усть-Каменогорск    \n",
      "П-а---  д-арро-гее-    з-и-м--не-й----------------------- => Па дароге зимней    , gt: По дороге зимней    \n",
      "но-вве--т--  г-ер-де-нно---,----------------------------- => новет гердено,      , gt: твоей гордыне       \n",
      "П-ее-т-рро-п-а-ввлл-о-всскк------------------------------ => Петропавловск       , gt: Петропавловск       \n",
      "Ж---а--м--бы-ллсск-а-яя---------------------------------- => Жамбылская          , gt: Жамбылская          \n"
     ]
    },
    {
     "data": {
      "application/vnd.jupyter.widget-view+json": {
       "model_id": "18568612d4054a05964bd91ca9432c01",
       "version_major": 2,
       "version_minor": 0
      },
      "text/plain": [
       "HBox(children=(FloatProgress(value=0.0, layout=Layout(flex='2'), max=711.0), HTML(value='')), layout=Layout(di…"
      ]
     },
     "metadata": {},
     "output_type": "display_data"
    },
    {
     "name": "stdout",
     "output_type": "stream",
     "text": [
      "\n"
     ]
    },
    {
     "data": {
      "application/vnd.jupyter.widget-view+json": {
       "model_id": "1956730b5ecb45649143accc57a5f716",
       "version_major": 2,
       "version_minor": 0
      },
      "text/plain": [
       "HBox(children=(FloatProgress(value=0.0, layout=Layout(flex='2'), max=146.0), HTML(value='')), layout=Layout(di…"
      ]
     },
     "metadata": {},
     "output_type": "display_data"
    },
    {
     "name": "stdout",
     "output_type": "stream",
     "text": [
      "\n",
      "Lr now: 0.001\n",
      "К--а--р-а-г-аа--н---д-ы-н--сскк-о---я------------------ии => Карагандынскояи     , gt: Карагандинская      \n",
      "А---тт----н--о------------------------------------------ш => Атнош               , gt: Астана              \n",
      "П-роо-ж--л-оо-- п--я-тт-ь-- п-е-т---о-------------------- => Прожло пять пето    , gt: Прошло пять лет,    \n",
      "А---т-ыы-р-о---у----------------------------------------ш => Атыроуш             , gt: Атырау              \n",
      "Л--е-п--яя-т-----ии--ик--и----щи------------------------, => Лепятиикищи,        , gt: Летят шмели         \n"
     ]
    },
    {
     "data": {
      "application/vnd.jupyter.widget-view+json": {
       "model_id": "83d06a7d119b4b5091e15f0d41a2b6d8",
       "version_major": 2,
       "version_minor": 0
      },
      "text/plain": [
       "HBox(children=(FloatProgress(value=0.0, layout=Layout(flex='2'), max=711.0), HTML(value='')), layout=Layout(di…"
      ]
     },
     "metadata": {},
     "output_type": "display_data"
    },
    {
     "name": "stdout",
     "output_type": "stream",
     "text": [
      "\n"
     ]
    },
    {
     "data": {
      "application/vnd.jupyter.widget-view+json": {
       "model_id": "aca1094c812a4ca2b45b30b5ec053025",
       "version_major": 2,
       "version_minor": 0
      },
      "text/plain": [
       "HBox(children=(FloatProgress(value=0.0, layout=Layout(flex='2'), max=146.0), HTML(value='')), layout=Layout(di…"
      ]
     },
     "metadata": {},
     "output_type": "display_data"
    },
    {
     "name": "stdout",
     "output_type": "stream",
     "text": [
      "\n",
      "Lr now: 0.001\n",
      "и-гг-р--ы---  п--о-д--в-ы---в-  с-вв-о--л--,,------------ => игры подвыв свол,   , gt: игры позавыв свои,  \n",
      "Протти-в--  ссттро-иик----------------------------------- => Против строик       , gt: Против строгих      \n",
      "Т---уурркк-е-с-тт---а---нн-сскк-а---я-------------------- => Туркестанская       , gt: Туркестанская       \n",
      "Злл-ы--е------------------------------------------------- => Злые                , gt: Злые                \n",
      "И--  с--к-л--а--дд-ы-в-а--юю-тт-------------------------- => И складывают        , gt: И складывают        \n"
     ]
    },
    {
     "data": {
      "application/vnd.jupyter.widget-view+json": {
       "model_id": "eb7c5b390d544bc2907731e66d409dac",
       "version_major": 2,
       "version_minor": 0
      },
      "text/plain": [
       "HBox(children=(FloatProgress(value=0.0, layout=Layout(flex='2'), max=711.0), HTML(value='')), layout=Layout(di…"
      ]
     },
     "metadata": {},
     "output_type": "display_data"
    },
    {
     "name": "stdout",
     "output_type": "stream",
     "text": [
      "\n"
     ]
    },
    {
     "data": {
      "application/vnd.jupyter.widget-view+json": {
       "model_id": "33b0960483f34fb3b0b5852fc0a946af",
       "version_major": 2,
       "version_minor": 0
      },
      "text/plain": [
       "HBox(children=(FloatProgress(value=0.0, layout=Layout(flex='2'), max=146.0), HTML(value='')), layout=Layout(di…"
      ]
     },
     "metadata": {},
     "output_type": "display_data"
    },
    {
     "name": "stdout",
     "output_type": "stream",
     "text": [
      "\n",
      "Lr now: 0.001\n",
      "За--ч-аа-г-а---н-сскк------------------------------------ => Зачаганск           , gt: Зачаганск           \n",
      "А--к--тт--а--у------------------------------------------- => Актау               , gt: Актау               \n",
      "И-   з-ваа-л--------------------------------------------- => И звал              , gt: И звал              \n",
      "П--рро-л-е-тт-еввшш--ии-й-------------------------------- => Пролетевший         , gt: Пролетевший         \n",
      "в-ходди-лл-а-- жж--а--ж---д-а----   м-оо-с-тиии---------- => входила жажда мости , gt: входила жажда мести \n"
     ]
    },
    {
     "data": {
      "application/vnd.jupyter.widget-view+json": {
       "model_id": "e5b83dd5798a41eba1ee1bc7c92c6cd2",
       "version_major": 2,
       "version_minor": 0
      },
      "text/plain": [
       "HBox(children=(FloatProgress(value=0.0, layout=Layout(flex='2'), max=711.0), HTML(value='')), layout=Layout(di…"
      ]
     },
     "metadata": {},
     "output_type": "display_data"
    },
    {
     "name": "stdout",
     "output_type": "stream",
     "text": [
      "\n"
     ]
    },
    {
     "data": {
      "application/vnd.jupyter.widget-view+json": {
       "model_id": "9894c7887f2a4b009a24cf8965e76082",
       "version_major": 2,
       "version_minor": 0
      },
      "text/plain": [
       "HBox(children=(FloatProgress(value=0.0, layout=Layout(flex='2'), max=146.0), HTML(value='')), layout=Layout(di…"
      ]
     },
     "metadata": {},
     "output_type": "display_data"
    },
    {
     "name": "stdout",
     "output_type": "stream",
     "text": [
      "\n",
      "Lr now: 0.001\n",
      "оп-я-т--ь------------------------------------------------ => опять               , gt: опять               \n",
      "М-О-Л--Д--А-В--И-Я--------------------------------------- => МОЛДАВИЯ            , gt: МОЛДАВИЯ            \n",
      "Са-р-ы-а-гга--ш------------------------------------------ => Сарыагаш            , gt: Сарыагаш            \n",
      "Ри--д-де-р----------------------------------------------- => Риддер              , gt: Риддер              \n",
      "во-л-н-ы--  м--о-р-е-й-..-------------------------------- => волны морей.        , gt: волны морей.        \n"
     ]
    },
    {
     "data": {
      "application/vnd.jupyter.widget-view+json": {
       "model_id": "193a3d5418fd4ae3ab48682fa51d3427",
       "version_major": 2,
       "version_minor": 0
      },
      "text/plain": [
       "HBox(children=(FloatProgress(value=0.0, layout=Layout(flex='2'), max=711.0), HTML(value='')), layout=Layout(di…"
      ]
     },
     "metadata": {},
     "output_type": "display_data"
    },
    {
     "name": "stdout",
     "output_type": "stream",
     "text": [
      "\n"
     ]
    },
    {
     "data": {
      "application/vnd.jupyter.widget-view+json": {
       "model_id": "abf6549180aa424096b7d7364ef47085",
       "version_major": 2,
       "version_minor": 0
      },
      "text/plain": [
       "HBox(children=(FloatProgress(value=0.0, layout=Layout(flex='2'), max=146.0), HTML(value='')), layout=Layout(di…"
      ]
     },
     "metadata": {},
     "output_type": "display_data"
    },
    {
     "name": "stdout",
     "output_type": "stream",
     "text": [
      "\n",
      "Lr now: 0.001\n",
      "м-о-жж-н--о-  соос-т--а-в-и-тт--ь--  ггорро-дд----------- => можно составить город, gt: можно составить город\n",
      "Л-у-г-а--м--и---  ка--т-я--т-с-яя------------------------ => Лугами катятся      , gt: Лугами катятся      \n",
      "К--оо-с-т-а-н--а---йй------------------------------------ => Костанай            , gt: Костанай            \n",
      "об-лл-.-------------------------------------------------- => обл.                , gt: обл.                \n",
      "А--б--аа--йй--------------------------------------------- => Абай                , gt: Абай                \n"
     ]
    },
    {
     "data": {
      "application/vnd.jupyter.widget-view+json": {
       "model_id": "cb708a19ce954f7d9832395177c992a6",
       "version_major": 2,
       "version_minor": 0
      },
      "text/plain": [
       "HBox(children=(FloatProgress(value=0.0, layout=Layout(flex='2'), max=711.0), HTML(value='')), layout=Layout(di…"
      ]
     },
     "metadata": {},
     "output_type": "display_data"
    },
    {
     "name": "stdout",
     "output_type": "stream",
     "text": [
      "\n"
     ]
    },
    {
     "data": {
      "application/vnd.jupyter.widget-view+json": {
       "model_id": "ab19412b053147e09cec17bc98fcd86e",
       "version_major": 2,
       "version_minor": 0
      },
      "text/plain": [
       "HBox(children=(FloatProgress(value=0.0, layout=Layout(flex='2'), max=146.0), HTML(value='')), layout=Layout(di…"
      ]
     },
     "metadata": {},
     "output_type": "display_data"
    },
    {
     "name": "stdout",
     "output_type": "stream",
     "text": [
      "\n",
      "Lr now: 0.001\n",
      "П-рро-хо-д-яя-т- с--------------------------------------- => Проходят с          , gt: Проходят с          \n",
      "За-пп-а-д-нно-----КК-ааззаахххсссттт--а-нннссскк--а--яя-- => Западно-Казахстанская, gt: Западно-Казахстанская\n",
      "Коостт--а-нна--й----------------------------------------- => Костанай            , gt: Костанай            \n",
      "и рруус-ск-ии-е-   п-о-лляя-н--ы------------------------- => и русские поляны    , gt: и русские поляны    \n",
      "К-ыы-ззыы-л-оорр--д--а----------------------------------- => Кызылорда           , gt: Кызылорда           \n"
     ]
    },
    {
     "data": {
      "application/vnd.jupyter.widget-view+json": {
       "model_id": "58cff758664346fe9af979d747565a18",
       "version_major": 2,
       "version_minor": 0
      },
      "text/plain": [
       "HBox(children=(FloatProgress(value=0.0, layout=Layout(flex='2'), max=711.0), HTML(value='')), layout=Layout(di…"
      ]
     },
     "metadata": {},
     "output_type": "display_data"
    },
    {
     "name": "stdout",
     "output_type": "stream",
     "text": [
      "\n"
     ]
    },
    {
     "data": {
      "application/vnd.jupyter.widget-view+json": {
       "model_id": "4d1c76550b214e378eea2580775cda30",
       "version_major": 2,
       "version_minor": 0
      },
      "text/plain": [
       "HBox(children=(FloatProgress(value=0.0, layout=Layout(flex='2'), max=146.0), HTML(value='')), layout=Layout(di…"
      ]
     },
     "metadata": {},
     "output_type": "display_data"
    },
    {
     "name": "stdout",
     "output_type": "stream",
     "text": [
      "\n",
      "Lr now: 0.001\n",
      "Ок-с-т--ы---с-к--а---а-зз-------------------------------- => Окстыскааз          , gt: Опять стога,        \n",
      "Узззббе-к-ии-стта--н--с---------------------------------- => Узбекистанс         , gt: Узбекистан          \n",
      "п----ез-----------о---л--о-----и------------------------- => пезолои             , gt: пред аналоем,       \n",
      "он--у-вви--д-е-я----в--о-ллк--а--т----------------------, => онувидеяволкат,     , gt: он увидел волка,    \n",
      "т---в-о---й---  з-о--р-д-ыы-н-е-------------------------– => твой зордыне–       , gt: твоей гордыне       \n"
     ]
    },
    {
     "data": {
      "application/vnd.jupyter.widget-view+json": {
       "model_id": "3dfe2a729cb64f3e9e75c83752161bc8",
       "version_major": 2,
       "version_minor": 0
      },
      "text/plain": [
       "HBox(children=(FloatProgress(value=0.0, layout=Layout(flex='2'), max=711.0), HTML(value='')), layout=Layout(di…"
      ]
     },
     "metadata": {},
     "output_type": "display_data"
    },
    {
     "name": "stdout",
     "output_type": "stream",
     "text": [
      "\n"
     ]
    },
    {
     "data": {
      "application/vnd.jupyter.widget-view+json": {
       "model_id": "c22dcb7258aa43429ac7e4d82eb0351f",
       "version_major": 2,
       "version_minor": 0
      },
      "text/plain": [
       "HBox(children=(FloatProgress(value=0.0, layout=Layout(flex='2'), max=146.0), HTML(value='')), layout=Layout(di…"
      ]
     },
     "metadata": {},
     "output_type": "display_data"
    },
    {
     "name": "stdout",
     "output_type": "stream",
     "text": [
      "\n",
      "Lr now: 0.001\n",
      "в-о--й--о--н--------------------------------------------и => войони              , gt: Район               \n",
      "Ж----а--р--к--е-н--тт---а-------------------------------с => Жаркентас           , gt: Жаркент             \n",
      "д-ж--ии-г-и-тт--т--------ссссссссс----------------------я => джигиттся           , gt: джигит,             \n",
      "С--у--ч---о--лл-----------------------------------------я => Сучоля              , gt: Скучно              \n",
      "М---о-ллдда-б-и-яя--------------------------------------я => Молдабияя           , gt: Молдавия            \n"
     ]
    },
    {
     "data": {
      "application/vnd.jupyter.widget-view+json": {
       "model_id": "c1a0c85420ee4d8cbe451965848767e9",
       "version_major": 2,
       "version_minor": 0
      },
      "text/plain": [
       "HBox(children=(FloatProgress(value=0.0, layout=Layout(flex='2'), max=711.0), HTML(value='')), layout=Layout(di…"
      ]
     },
     "metadata": {},
     "output_type": "display_data"
    },
    {
     "name": "stdout",
     "output_type": "stream",
     "text": [
      "\n"
     ]
    },
    {
     "data": {
      "application/vnd.jupyter.widget-view+json": {
       "model_id": "415eaae68750402a92413b410db3ab3d",
       "version_major": 2,
       "version_minor": 0
      },
      "text/plain": [
       "HBox(children=(FloatProgress(value=0.0, layout=Layout(flex='2'), max=146.0), HTML(value='')), layout=Layout(di…"
      ]
     },
     "metadata": {},
     "output_type": "display_data"
    },
    {
     "name": "stdout",
     "output_type": "stream",
     "text": [
      "\n",
      "Lr now: 0.001\n",
      "Еггоо---  жж-ии-ввии-тт--,------------------------------- => Его живит,          , gt: Его живит,          \n",
      "Р--К----------------------------------------------------- => РК                  , gt: РК                  \n",
      "Ра-йй-о-н------------------------------------------------ => Район               , gt: Район               \n",
      "К--а-з-а--х-с-тт--а-нн----------------------------------- => Казахстан           , gt: Қазахстан           \n",
      "Вы--д--  по-с--т--о--я-л-о-г-о--------------------------- => Выд постоялого      , gt: Вид постоялого      \n"
     ]
    },
    {
     "data": {
      "application/vnd.jupyter.widget-view+json": {
       "model_id": "3695d5f39b2c49158929c6d8eb5d4842",
       "version_major": 2,
       "version_minor": 0
      },
      "text/plain": [
       "HBox(children=(FloatProgress(value=0.0, layout=Layout(flex='2'), max=711.0), HTML(value='')), layout=Layout(di…"
      ]
     },
     "metadata": {},
     "output_type": "display_data"
    },
    {
     "name": "stdout",
     "output_type": "stream",
     "text": [
      "\n"
     ]
    },
    {
     "data": {
      "application/vnd.jupyter.widget-view+json": {
       "model_id": "482b39c0995e4a5b833c15c5b6972164",
       "version_major": 2,
       "version_minor": 0
      },
      "text/plain": [
       "HBox(children=(FloatProgress(value=0.0, layout=Layout(flex='2'), max=146.0), HTML(value='')), layout=Layout(di…"
      ]
     },
     "metadata": {},
     "output_type": "display_data"
    },
    {
     "name": "stdout",
     "output_type": "stream",
     "text": [
      "\n",
      "Lr now: 0.001\n",
      "Стт-о-пп--в-п-е-мм--е---м--м---------т----------ссс---ттт => Стопвпемеммтст      , gt: Что время лечит     \n",
      "сезммр-е-ж--ноо---------------------------------------ттт => сезмрежнот          , gt: и крепка.           \n",
      "горрессст--но--б----зе-мм-----нх----------------------ттт => горестнобземнхт     , gt: горестной земле,    \n",
      "Ж--к--т----а---уу-------------------------------------ття => Жктаутя             , gt: Актау               \n",
      "К--о-р--я----и---------а--я--а-аа-н-------------сс----сся => Коряиаяаансся       , gt: моряки глядят.      \n"
     ]
    },
    {
     "data": {
      "application/vnd.jupyter.widget-view+json": {
       "model_id": "24c50a35822148f18b00fb7bc902b308",
       "version_major": 2,
       "version_minor": 0
      },
      "text/plain": [
       "HBox(children=(FloatProgress(value=0.0, layout=Layout(flex='2'), max=711.0), HTML(value='')), layout=Layout(di…"
      ]
     },
     "metadata": {},
     "output_type": "display_data"
    },
    {
     "name": "stdout",
     "output_type": "stream",
     "text": [
      "\n"
     ]
    },
    {
     "data": {
      "application/vnd.jupyter.widget-view+json": {
       "model_id": "a403a46cb6f440e095e65dacb088d2f6",
       "version_major": 2,
       "version_minor": 0
      },
      "text/plain": [
       "HBox(children=(FloatProgress(value=0.0, layout=Layout(flex='2'), max=146.0), HTML(value='')), layout=Layout(di…"
      ]
     },
     "metadata": {},
     "output_type": "display_data"
    },
    {
     "name": "stdout",
     "output_type": "stream",
     "text": [
      "\n",
      "Lr now: 0.001\n",
      "со-зн-а-н-ии-я-  ббе-с-сии-л-ь-я------------------------- => сознания бессилья   , gt: сознания бессилья   \n",
      "К-о-с--т--а--н-аа--й------------------------------------- => Костанай            , gt: Костанай            \n",
      "к-а--к-ии-хх--  -у-жж-е----  н---е--т----;--------------- => каких уже нет;      , gt: каких уж нет;       \n",
      "П--а--ввлл-оо-дд-аа-р------------------------------------ => Павлодар            , gt: Павлодар            \n",
      "А-кк-тт---ююббии-н-сскк-а--я----------------------------- => Актюбинская         , gt: Актюбинская         \n"
     ]
    },
    {
     "data": {
      "application/vnd.jupyter.widget-view+json": {
       "model_id": "a33db8cec14a42498710857c027ed9aa",
       "version_major": 2,
       "version_minor": 0
      },
      "text/plain": [
       "HBox(children=(FloatProgress(value=0.0, layout=Layout(flex='2'), max=711.0), HTML(value='')), layout=Layout(di…"
      ]
     },
     "metadata": {},
     "output_type": "display_data"
    },
    {
     "name": "stdout",
     "output_type": "stream",
     "text": [
      "\n"
     ]
    },
    {
     "data": {
      "application/vnd.jupyter.widget-view+json": {
       "model_id": "a569b20654df4bc49e2b68643afb979b",
       "version_major": 2,
       "version_minor": 0
      },
      "text/plain": [
       "HBox(children=(FloatProgress(value=0.0, layout=Layout(flex='2'), max=146.0), HTML(value='')), layout=Layout(di…"
      ]
     },
     "metadata": {},
     "output_type": "display_data"
    },
    {
     "name": "stdout",
     "output_type": "stream",
     "text": [
      "\n",
      "Lr now: 0.001\n",
      "ж-и--л  уу  м--о-рр-я-.---------------------------------- => жил у моря.         , gt: жил у моря,         \n",
      "Т-урркесстаа-н------------------------------------------- => Туркестан           , gt: Туркестан           \n",
      "П----а--в--лл--одд-а--р-сс-к---а--я---------------------- => Павлодарская        , gt: Павлодарская        \n",
      "З-е-м--л-яя- дд-у-шшии-с-т-а----------------------------- => Земля душиста       , gt: Земля душиста       \n",
      "Б-оллььшшш-у--ю------------------------------------------ => Большую             , gt: Большую             \n"
     ]
    },
    {
     "data": {
      "application/vnd.jupyter.widget-view+json": {
       "model_id": "d23304f98fe543f1830173f69b2e7a09",
       "version_major": 2,
       "version_minor": 0
      },
      "text/plain": [
       "HBox(children=(FloatProgress(value=0.0, layout=Layout(flex='2'), max=711.0), HTML(value='')), layout=Layout(di…"
      ]
     },
     "metadata": {},
     "output_type": "display_data"
    },
    {
     "name": "stdout",
     "output_type": "stream",
     "text": [
      "\n"
     ]
    },
    {
     "data": {
      "application/vnd.jupyter.widget-view+json": {
       "model_id": "9d433d95bcc1484b9a2c2d7bffdd1ea4",
       "version_major": 2,
       "version_minor": 0
      },
      "text/plain": [
       "HBox(children=(FloatProgress(value=0.0, layout=Layout(flex='2'), max=146.0), HTML(value='')), layout=Layout(di…"
      ]
     },
     "metadata": {},
     "output_type": "display_data"
    },
    {
     "name": "stdout",
     "output_type": "stream",
     "text": [
      "\n",
      "Lr now: 0.001\n",
      "А--к----а---м-------------------------------------------я => Акамя               , gt: Аксаи               \n",
      "П-о- д-оррогге-  з-и-м--н-е-й--м-----------------------ии => По дороге зимнейми  , gt: По дороге зимней,   \n",
      "А--к-т--а--уу------------------------------------------сс => Актаус              , gt: Актау               \n",
      "вы--с-и--т--------мм-----------------------------------ае => выситмае            , gt: выси,               \n",
      "А---б-х--а-з-и---я-------------------------------------аа => Абхазияа            , gt: Абхазия             \n"
     ]
    },
    {
     "data": {
      "application/vnd.jupyter.widget-view+json": {
       "model_id": "410baa320774496f9cd2b0c904943aa0",
       "version_major": 2,
       "version_minor": 0
      },
      "text/plain": [
       "HBox(children=(FloatProgress(value=0.0, layout=Layout(flex='2'), max=711.0), HTML(value='')), layout=Layout(di…"
      ]
     },
     "metadata": {},
     "output_type": "display_data"
    },
    {
     "name": "stdout",
     "output_type": "stream",
     "text": [
      "\n"
     ]
    },
    {
     "data": {
      "application/vnd.jupyter.widget-view+json": {
       "model_id": "ad6c3d2ab7364aa385f18c4ee9b7444e",
       "version_major": 2,
       "version_minor": 0
      },
      "text/plain": [
       "HBox(children=(FloatProgress(value=0.0, layout=Layout(flex='2'), max=146.0), HTML(value='')), layout=Layout(di…"
      ]
     },
     "metadata": {},
     "output_type": "display_data"
    }
   ],
   "source": [
    "ep = 100\n",
    "\n",
    "train_loss = []\n",
    "train_acc_char = []\n",
    "train_acc_str = []\n",
    "train_cer = []\n",
    "\n",
    "val_loss = []\n",
    "val_acc_char = []\n",
    "val_acc_str = []\n",
    "val_cer = []\n",
    "\n",
    "best_str_acc = 0\n",
    "\n",
    "for epoch in range(ep):\n",
    "    train_epoch_loss = []\n",
    "    \n",
    "    train_epoch_acc_char = []\n",
    "    train_epoch_acc_str = []\n",
    "    train_epoch_cer = []\n",
    "    \n",
    "    with tqdm(total = len(train_dataloader), ncols='100%') as bar_train:\n",
    "        for i, (images, gt_text) in enumerate(train_dataloader):\n",
    "\n",
    "            results = train_on_batch_rec(images, gt_text, net, ocr_loss, optimizer, device, batch_size, converter)\n",
    "            loss, acc_char, acc_str, cer = results\n",
    "            \n",
    "            train_epoch_loss.append(loss)\n",
    "            train_epoch_acc_char.append(acc_char)\n",
    "            train_epoch_acc_str.append(acc_str)\n",
    "            train_epoch_cer.append(cer)\n",
    "\n",
    "            printed_data = f\"Ep: {epoch}. Train loss: {np.mean(train_epoch_loss):.4f}.\\\n",
    "            Acc char: {np.mean(train_epoch_acc_char):.4f}.\\\n",
    "            Acc str: {np.mean(train_epoch_acc_str):.4f}.\\\n",
    "            CER: {np.mean(train_epoch_cer):.4f}.\"\n",
    "            bar_train.set_description(printed_data)\n",
    "            bar_train.update(1)\n",
    "            \n",
    "    train_loss.append(np.mean(train_epoch_loss))\n",
    "    \n",
    "    train_acc_char.append(np.mean(train_epoch_acc_char))\n",
    "    train_acc_str.append(np.mean(train_epoch_acc_str))\n",
    "    train_cer.append(np.mean(train_epoch_cer))\n",
    "    \n",
    "    \n",
    "    val_epoch_loss = []\n",
    "    \n",
    "    val_epoch_acc_char = []\n",
    "    val_epoch_acc_str = []\n",
    "    val_epoch_cer = []\n",
    "    \n",
    "    with tqdm(total = len(val_dataloader), ncols='100%') as bar_val:\n",
    "        for i, (images, gt_text) in enumerate(val_dataloader):\n",
    "\n",
    "            results = val_on_batch_rec(images, gt_text, net, ocr_loss, device, batch_size, converter)\n",
    "            loss, acc_char, acc_str, cer, decode_text, gt_text, raw_preds = results\n",
    "            \n",
    "            val_epoch_loss.append(loss)\n",
    "            val_epoch_acc_char.append(acc_char)\n",
    "            val_epoch_acc_str.append(acc_str)\n",
    "            val_epoch_cer.append(cer)\n",
    "\n",
    "            printed_data = f\"Ep: {epoch}. Val loss: {np.mean(val_epoch_loss):.4f}.\\\n",
    "            Acc char: {np.mean(val_epoch_acc_char):.4f}.\\\n",
    "            Acc str: {np.mean(val_epoch_acc_str):.4f}.\\\n",
    "            CER: {np.mean(val_epoch_cer):.4f}.\"\n",
    "            bar_val.set_description(printed_data)\n",
    "            bar_val.update(1)\n",
    "        \n",
    "    val_loss.append(np.mean(val_epoch_loss))\n",
    "    \n",
    "    val_acc_char.append(np.mean(val_epoch_acc_char))\n",
    "    val_acc_str.append(np.mean(val_epoch_acc_str))\n",
    "    val_cer.append(np.mean(val_epoch_cer))\n",
    "    \n",
    "    print('Lr now:', optimizer.param_groups[0]['lr'])\n",
    "\n",
    "    for raw_pred, pred, gt in zip(raw_preds, decode_text, gt_text):\n",
    "        print('%-20s => %-20s, gt: %-20s' % (raw_pred, pred, gt)) \n",
    "    \n",
    "    if epoch == 40:\n",
    "        for g in optimizer.param_groups:\n",
    "            g['lr'] = g['lr']*0.1\n",
    "        print('Lr now:', optimizer.param_groups[0]['lr'])\n",
    "        \n",
    "    if epoch == 70:\n",
    "        for g in optimizer.param_groups:\n",
    "            g['lr'] = g['lr']*0.1\n",
    "        print('Lr now:', optimizer.param_groups[0]['lr'])"
   ]
  },
  {
   "cell_type": "code",
   "execution_count": null,
   "metadata": {},
   "outputs": [],
   "source": []
  }
 ],
 "metadata": {
  "kernelspec": {
   "display_name": "Python 3",
   "language": "python",
   "name": "python3"
  },
  "language_info": {
   "codemirror_mode": {
    "name": "ipython",
    "version": 3
   },
   "file_extension": ".py",
   "mimetype": "text/x-python",
   "name": "python",
   "nbconvert_exporter": "python",
   "pygments_lexer": "ipython3",
   "version": "3.7.7"
  }
 },
 "nbformat": 4,
 "nbformat_minor": 4
}
