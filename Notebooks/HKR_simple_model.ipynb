{
 "cells": [
  {
   "cell_type": "code",
   "execution_count": 1,
   "metadata": {},
   "outputs": [],
   "source": [
    "import logging\n",
    "import torch.nn as nn\n",
    "import numpy as np\n",
    "from matplotlib import pyplot as plt\n",
    "import cv2\n",
    "import torch\n",
    "import torch.nn.functional as F\n",
    "import math\n",
    "import pandas as pd\n",
    "import PIL.Image as Image\n",
    "from torchvision.transforms import ToTensor, ToPILImage\n",
    "import torch.nn.functional as F\n",
    "import segmentation_models_pytorch as smp\n",
    "from collections import OrderedDict\n",
    "import torch\n",
    "import torch.nn as nn\n",
    "import PIL.Image as Image\n",
    "from torchvision.transforms import ToTensor, ToPILImage\n",
    "import torch.nn.functional as F\n",
    "import pickle\n",
    "from tqdm import tqdm_notebook as tqdm\n",
    "import torchvision\n",
    "import time\n",
    "from collections import defaultdict\n",
    "from torch.nn import CTCLoss\n",
    "from Levenshtein import distance\n",
    "import random\n",
    "from torch.utils import data\n",
    "from torch.utils.data import DataLoader"
   ]
  },
  {
   "cell_type": "code",
   "execution_count": 2,
   "metadata": {},
   "outputs": [],
   "source": [
    "class ImageDataset(data.Dataset):\n",
    "    \"\"\"\n",
    "    Dataset class for handwritten lines.\n",
    "\n",
    "    Parameters\n",
    "    ----------\n",
    "    pickle_file : str\n",
    "        Path to a dataset pickle file.\n",
    "    meta : bool\n",
    "        If True, meta data about files is provided.\n",
    "    num_imgs : int, optional (default=-1)\n",
    "        Choose only `num_imgs` imgs for processing. If set to -1, uses all available images.\n",
    "\n",
    "    \"\"\"\n",
    "\n",
    "    def __init__(self, pickle_file, meta=False, num_imgs=-1):\n",
    "        with open(pickle_file, 'rb') as f:\n",
    "            dataset = pickle.load(f)\n",
    "        self.reference_dataset = dataset\n",
    "        self.num_imgs = num_imgs\n",
    "        if (self.num_imgs > 0) and (self.num_imgs < len(self.reference_dataset)):\n",
    "            inds = np.random.choice(np.arange(len(self.reference_dataset)),\n",
    "                                    self.num_imgs, replace=False)\n",
    "            self.reference_dataset = [self.reference_dataset[i] for i in inds]\n",
    "        self.meta = meta\n",
    "\n",
    "    def __getitem__(self, idx):\n",
    "        data = self.reference_dataset[idx]\n",
    "        #img = cv2.imread(data['img_path'], cv2.IMREAD_UNCHANGED) / 255.\n",
    "        img = cv2.resize(cv2.cvtColor(cv2.imread(data['img_path']), cv2.COLOR_BGR2RGB), (442, 64)) / 255.\n",
    "        img = torch.from_numpy(img).permute(2,0,1).float()\n",
    "        text = data['description']\n",
    "        width = data['width']\n",
    "        height = data['height']\n",
    "\n",
    "        if self.meta:\n",
    "            return img, text, data, width, height\n",
    "        else:\n",
    "            return img, text\n",
    "\n",
    "    def __len__(self):\n",
    "        return len(self.reference_dataset)\n",
    "    \n",
    "class strLabelConverter(object):\n",
    "    \"\"\"Convert between str and label.\n",
    "    NOTE:\n",
    "        Insert `blank` to the alphabet for CTC.\n",
    "    Args:\n",
    "        alphabet (str): set of the possible characters.\n",
    "        ignore_case (bool, default=True): whether or not to ignore all of the case.\n",
    "    \"\"\"\n",
    "\n",
    "    def __init__(self, alphabet, ignore_case=False):\n",
    "        self._ignore_case = ignore_case\n",
    "        if self._ignore_case:\n",
    "            alphabet = alphabet.lower()\n",
    "        self.alphabet = alphabet + '-'  # for `-1` index\n",
    "        #self.alphabet = alphabet\n",
    "\n",
    "        self.dict = {}\n",
    "        for i, char in enumerate(alphabet):\n",
    "            # NOTE: 0 is reserved for 'blank' required by wrap_ctc\n",
    "            self.dict[char] = i + 1\n",
    "    \n",
    "    def encode(self, text):\n",
    "        \"\"\"Support batch or single str.\n",
    "        Args:\n",
    "            text (str or list of str): texts to convert.\n",
    "        Returns:\n",
    "            torch.LongTensor [length_0 + length_1 + ... length_{n - 1}]: encoded texts.\n",
    "            torch.LongTensor [n]: length of each text.\n",
    "        \"\"\"\n",
    "\n",
    "        length = []\n",
    "        result = []\n",
    "        for item in text:            \n",
    "#             item = item.decode('utf-8','strict')\n",
    "            length.append(len(item))\n",
    "            r = []\n",
    "            for char in item:\n",
    "                index = self.dict[char]\n",
    "                # result.append(index)\n",
    "                r.append(index)\n",
    "            result.append(r)\n",
    "        \n",
    "        max_len = 0\n",
    "        for r in result:\n",
    "            if len(r) > max_len:\n",
    "                max_len = len(r)\n",
    "        \n",
    "        result_temp = []\n",
    "        for r in result:\n",
    "            for i in range(max_len - len(r)):\n",
    "                r.append(0)\n",
    "            result_temp.append(r)\n",
    "\n",
    "        text = result_temp\n",
    "        return (torch.LongTensor(text), torch.LongTensor(length))\n",
    "\n",
    "\n",
    "    def decode(self, t, length, raw=False):\n",
    "        \"\"\"Decode encoded texts back into strs.\n",
    "        Args:\n",
    "            torch.LongTensor [length_0 + length_1 + ... length_{n - 1}]: encoded texts.\n",
    "            torch.LongTensor [n]: length of each text.\n",
    "        Raises:\n",
    "            AssertionError: when the texts and its length does not match.\n",
    "        Returns:\n",
    "            text (str or list of str): texts to convert.\n",
    "        \"\"\"\n",
    "        if length.numel() == 1:\n",
    "            length = length[0]\n",
    "            assert t.numel() == length, \"text with length: {} does not match declared length: {}\".format(t.numel(), length)\n",
    "            if raw:\n",
    "                return ''.join([self.alphabet[i - 1] for i in t])\n",
    "            else:\n",
    "                char_list = []\n",
    "                for i in range(length):\n",
    "                    if t[i] != 0 and (not (i > 0 and t[i - 1] == t[i])):\n",
    "                        char_list.append(self.alphabet[t[i] - 1])\n",
    "                return ''.join(char_list)\n",
    "        else:\n",
    "            # batch mode\n",
    "            assert t.numel() == length.sum(), \"texts with length: {} does not match declared length: {}\".format(t.numel(), length.sum())\n",
    "            texts = []\n",
    "            index = 0\n",
    "            for i in range(length.numel()):\n",
    "                l = length[i]\n",
    "                texts.append(\n",
    "                    self.decode(\n",
    "                        t[index:index + l], torch.LongTensor([l]), raw=raw))\n",
    "                index += l\n",
    "            return texts"
   ]
  },
  {
   "cell_type": "code",
   "execution_count": 3,
   "metadata": {},
   "outputs": [],
   "source": [
    "class BidirectionalLSTM(nn.Module):\n",
    "\n",
    "    def __init__(self, nIn, nHidden, nOut):\n",
    "        super(BidirectionalLSTM, self).__init__()\n",
    "\n",
    "        self.rnn = nn.LSTM(nIn, nHidden, bidirectional=True)\n",
    "        self.embedding = nn.Linear(nHidden * 2, nOut)\n",
    "\n",
    "    def forward(self, input):\n",
    "        recurrent, _ = self.rnn(input)\n",
    "        T, b, h = recurrent.size()\n",
    "        t_rec = recurrent.view(T * b, h)\n",
    "\n",
    "        output = self.embedding(t_rec)  # [T * b, nOut]\n",
    "        output = output.view(T, b, -1)\n",
    "\n",
    "        return output\n",
    "    \n",
    "class CRNN(nn.Module):\n",
    "\n",
    "    def __init__(self, imgH, nc, nclass, nh, n_rnn=2, leakyRelu=False):\n",
    "        super(CRNN, self).__init__()\n",
    "        assert imgH % 16 == 0, 'imgH has to be a multiple of 16'\n",
    "\n",
    "        ks = [3, 3, 3, 3, 3, 3, 3, 2]\n",
    "        ps = [1, 1, 1, 1, 1, 1, 0, 0]\n",
    "        ss = [1, 1, 1, 1, 1, 1, 1, 2]\n",
    "        nm = [16, 32, 128, 256, 512, 512, 512, 512]\n",
    "\n",
    "        cnn = nn.Sequential()\n",
    "\n",
    "        def convRelu(i, batchNormalization=False):\n",
    "            nIn = nc if i == 0 else nm[i - 1]\n",
    "            nOut = nm[i]\n",
    "            cnn.add_module('conv{0}'.format(i),\n",
    "                           nn.Conv2d(nIn, nOut, ks[i], ss[i], ps[i]))\n",
    "            if batchNormalization:\n",
    "                cnn.add_module('batchnorm{0}'.format(i), nn.BatchNorm2d(nOut))\n",
    "            if leakyRelu:\n",
    "                cnn.add_module('relu{0}'.format(i),\n",
    "                               nn.LeakyReLU(0.2, inplace=True))\n",
    "            else:\n",
    "                cnn.add_module('relu{0}'.format(i), nn.ReLU(True))\n",
    "\n",
    "        convRelu(0)\n",
    "        cnn.add_module('pooling{0}'.format(0), nn.MaxPool2d(2, 2))  # 64x16x64\n",
    "        convRelu(1)\n",
    "        cnn.add_module('pooling{0}'.format(1), nn.MaxPool2d(2, 2))  # 128x8x32\n",
    "        convRelu(2, True)\n",
    "        convRelu(3)\n",
    "        cnn.add_module('pooling{0}'.format(2),\n",
    "                       nn.MaxPool2d((2, 2), (2, 1), (0, 1)))  # 256x4x16\n",
    "        convRelu(4, True)\n",
    "        convRelu(5)\n",
    "        \n",
    "        cnn.add_module('pooling{0}'.format(3),\n",
    "                       nn.MaxPool2d((2, 2), (2, 1), (0, 1)))  # 512x2x16\n",
    "        convRelu(6, True)  # 512x1x16\n",
    "        convRelu(7, True)\n",
    "        \n",
    "\n",
    "        self.cnn = cnn\n",
    "        self.rnn = nn.Sequential(\n",
    "            BidirectionalLSTM(512, nh, nh),\n",
    "            BidirectionalLSTM(nh, nh, nclass))\n",
    "\n",
    "\n",
    "    def forward(self, input):\n",
    "        # conv features\n",
    "        conv = self.cnn(input)\n",
    "        b, c, h, w = conv.size()\n",
    "        assert h == 1, \"the height of conv must be 1\"\n",
    "        conv = conv.squeeze(2)\n",
    "        conv = conv.permute(2, 0, 1)  # [w, b, c]\n",
    "\n",
    "        # rnn features\n",
    "        output = self.rnn(conv)\n",
    "        \n",
    "        # add log_softmax to converge output\n",
    "        output = F.log_softmax(output, dim=2)\n",
    "\n",
    "        return output\n",
    "\n",
    "\n",
    "    def backward_hook(self, module, grad_input, grad_output):\n",
    "        for g in grad_input:\n",
    "            g[g != g] = 0   # replace all nan/inf in gradients to zero"
   ]
  },
  {
   "cell_type": "code",
   "execution_count": 4,
   "metadata": {},
   "outputs": [],
   "source": [
    "def train_on_batch_rec(images, gt_text, model_crnn, ocr_loss, optimizer, device, batch_size, converter):\n",
    "\n",
    "    model_crnn.train()\n",
    "    \n",
    "    pred_text = model_crnn(images.to(device))\n",
    "    \n",
    "    preds_size = torch.LongTensor([pred_text.size(0)] * batch_size)\n",
    "    \n",
    "    t_text, l_text = converter.encode(list(gt_text))\n",
    "    \n",
    "    loss = ocr_loss(pred_text, t_text, preds_size, l_text)\n",
    "    \n",
    "    optimizer.zero_grad()\n",
    "    loss.backward()\n",
    "    optimizer.step()\n",
    "    \n",
    "    _, decode_text = pred_text.max(2)\n",
    "    decode_text = decode_text.transpose(1, 0).contiguous().view(-1)\n",
    "    decode_text = converter.decode(decode_text.data, preds_size, raw=False)\n",
    "    \n",
    "    char_correct = 0\n",
    "    total_char = 0\n",
    "    for pred, gt in zip(decode_text, gt_text):\n",
    "        for i, pred_char in enumerate(pred):\n",
    "            if i<len(gt):\n",
    "                if pred_char == gt[i]:\n",
    "                    char_correct += 1\n",
    "        total_char += len(gt)\n",
    "            \n",
    "    acc_char = (char_correct)/float(total_char)\n",
    "    \n",
    "    total_str = 0\n",
    "    n_correct = 0\n",
    "    cer = 0\n",
    "    for pred, target in zip(decode_text, gt_text):\n",
    "        if pred == target:\n",
    "            n_correct += 1\n",
    "        else:\n",
    "            cer += distance(pred, target)/len(target)\n",
    "        total_str+=1\n",
    "            \n",
    "    acc_str = (n_correct)/total_str\n",
    "    cer = cer/total_str\n",
    "    \n",
    "    return (loss.item(), acc_char, acc_str, cer)\n",
    "\n",
    "def val_on_batch_rec(images, gt_text, model_crnn, ocr_loss, device, batch_size, converter):\n",
    "\n",
    "    model_crnn.eval()\n",
    "    \n",
    "    pred_text = model_crnn(images.to(device))\n",
    "    \n",
    "    preds_size = torch.LongTensor([pred_text.size(0)] * batch_size)\n",
    "    \n",
    "    t_text, l_text = converter.encode(list(gt_text))\n",
    "    \n",
    "    loss = ocr_loss(pred_text, t_text, preds_size, l_text)\n",
    "    \n",
    "    _, decode_text = pred_text.max(2)\n",
    "    decode_text = decode_text.transpose(1, 0).contiguous().view(-1)\n",
    "    decode_text = converter.decode(decode_text.data, preds_size, raw=False)\n",
    "    \n",
    "    char_correct = 0\n",
    "    total_char = 0\n",
    "    for pred, gt in zip(decode_text, gt_text):\n",
    "        for i, pred_char in enumerate(pred):\n",
    "            if i<len(gt):\n",
    "                if pred_char == gt[i]:\n",
    "                    char_correct += 1\n",
    "        total_char += len(gt)\n",
    "            \n",
    "    acc_char = (char_correct)/float(total_char)\n",
    "    \n",
    "    total_str = 0\n",
    "    n_correct = 0\n",
    "    cer = 0\n",
    "    for pred, target in zip(decode_text, gt_text):\n",
    "        if pred == target:\n",
    "            n_correct += 1\n",
    "        else:\n",
    "            cer += distance(pred, target)/len(target)\n",
    "        total_str+=1\n",
    "            \n",
    "    acc_str = (n_correct)/total_str\n",
    "    cer = cer/total_str\n",
    "    \n",
    "    _, preds = pred_text.max(2)\n",
    "    preds = preds.transpose(1, 0).contiguous().view(-1)\n",
    "    raw_preds = converter.decode(preds.data, preds_size, raw=True)\n",
    "    \n",
    "    return (loss.item(), acc_char, acc_str, cer, decode_text[:5], gt_text[:5], raw_preds[:5])"
   ]
  },
  {
   "cell_type": "code",
   "execution_count": 5,
   "metadata": {},
   "outputs": [
    {
     "data": {
      "text/plain": [
       "79"
      ]
     },
     "execution_count": 5,
     "metadata": {},
     "output_type": "execute_result"
    }
   ],
   "source": [
    "pickle_path_train = '/home/storage/3020/KrivorotovI/db/HKR/datasets/train.pkl'\n",
    "pickle_path_val = '/home/storage/3020/KrivorotovI/db/HKR/datasets/val.pkl'\n",
    "with open(pickle_path_train, 'rb') as f:\n",
    "    full_dataset = pickle.load(f)\n",
    "alphabet = ''\n",
    "for example in full_dataset:\n",
    "    alphabet += example['description']\n",
    "alphabet = list(set(alphabet))\n",
    "alphabet =''.join(alphabet)\n",
    "len(alphabet)"
   ]
  },
  {
   "cell_type": "code",
   "execution_count": 6,
   "metadata": {},
   "outputs": [],
   "source": [
    "imgH = 32 # the height of the input image to network\n",
    "imgW = 100 # the width of the input image to network\n",
    "nh = 256 # size of the lstm hidden state\n",
    "nc = 3\n",
    "nclass = len(alphabet)+1\n",
    "batch_size = 64"
   ]
  },
  {
   "cell_type": "code",
   "execution_count": 7,
   "metadata": {},
   "outputs": [],
   "source": [
    "device = torch.device(\"cuda:7\")\n",
    "converter = strLabelConverter(alphabet)\n",
    "net = CRNN(imgH, nc, nclass, nh)\n",
    "net.to(device)\n",
    "ocr_loss = CTCLoss()\n",
    "optimizer = torch.optim.RMSprop(net.parameters(), lr=0.0001)\n",
    "train_dataset = ImageDataset(pickle_path_train, num_imgs=-1)\n",
    "val_dataset = ImageDataset(pickle_path_val, num_imgs=-1)\n",
    "\n",
    "train_dataloader = DataLoader(train_dataset, batch_size=batch_size,\n",
    "                        shuffle=True, num_workers=1, drop_last = True)\n",
    "val_dataloader = DataLoader(val_dataset, batch_size=batch_size,\n",
    "                        shuffle=True, num_workers=1, drop_last = True)"
   ]
  },
  {
   "cell_type": "code",
   "execution_count": 8,
   "metadata": {},
   "outputs": [
    {
     "name": "stdout",
     "output_type": "stream",
     "text": [
      "torch.Size([64, 3, 64, 442])\n",
      "чувствую солидарность,\n"
     ]
    },
    {
     "data": {
      "image/png": "[encoded data removed]",
      "text/plain": [
       "<Figure size 432x288 with 1 Axes>"
      ]
     },
     "metadata": {
      "needs_background": "light"
     },
     "output_type": "display_data"
    }
   ],
   "source": [
    "for imgs, text in train_dataloader:\n",
    "    print(imgs.shape)\n",
    "    plt.imshow(imgs[0].permute(1,2,0))\n",
    "    print(text[0])\n",
    "    break"
   ]
  },
  {
   "cell_type": "code",
   "execution_count": 9,
   "metadata": {},
   "outputs": [
    {
     "name": "stderr",
     "output_type": "stream",
     "text": [
      "/usr/local/lib/python3.7/site-packages/ipykernel_launcher.py:22: TqdmDeprecationWarning: This function will be removed in tqdm==5.0.0\n",
      "Please use `tqdm.notebook.tqdm` instead of `tqdm.tqdm_notebook`\n"
     ]
    },
    {
     "data": {
      "application/vnd.jupyter.widget-view+json": {
       "model_id": "e20c60b149c44239b97fce0eb800a49b",
       "version_major": 2,
       "version_minor": 0
      },
      "text/plain": [
       "HBox(children=(FloatProgress(value=0.0, layout=Layout(flex='2'), max=711.0), HTML(value='')), layout=Layout(di…"
      ]
     },
     "metadata": {},
     "output_type": "display_data"
    },
    {
     "name": "stdout",
     "output_type": "stream",
     "text": [
      "\n"
     ]
    },
    {
     "name": "stderr",
     "output_type": "stream",
     "text": [
      "/usr/local/lib/python3.7/site-packages/ipykernel_launcher.py:53: TqdmDeprecationWarning: This function will be removed in tqdm==5.0.0\n",
      "Please use `tqdm.notebook.tqdm` instead of `tqdm.tqdm_notebook`\n"
     ]
    },
    {
     "data": {
      "application/vnd.jupyter.widget-view+json": {
       "model_id": "2a7c5aa1ca004478ac04c3e30b23cf72",
       "version_major": 2,
       "version_minor": 0
      },
      "text/plain": [
       "HBox(children=(FloatProgress(value=0.0, layout=Layout(flex='2'), max=146.0), HTML(value='')), layout=Layout(di…"
      ]
     },
     "metadata": {},
     "output_type": "display_data"
    },
    {
     "name": "stdout",
     "output_type": "stream",
     "text": [
      "\n",
      "Lr now: 0.0001\n",
      "К------------------------------------------------------ => К                   , gt: Костанай            \n",
      "------------------------------------------------------- =>                     , gt: раион               \n",
      "К------------------------------------------------------ => К                   , gt: АЛМАТИНСКАЯ         \n",
      "в------------------------------------------------------ => в                   , gt: и ворча, сосали     \n",
      "К------------------------------------------------------ => К                   , gt: Актобе              \n"
     ]
    },
    {
     "data": {
      "application/vnd.jupyter.widget-view+json": {
       "model_id": "792fdb58875a42e390d11c048e2994ad",
       "version_major": 2,
       "version_minor": 0
      },
      "text/plain": [
       "HBox(children=(FloatProgress(value=0.0, layout=Layout(flex='2'), max=711.0), HTML(value='')), layout=Layout(di…"
      ]
     },
     "metadata": {},
     "output_type": "display_data"
    },
    {
     "name": "stdout",
     "output_type": "stream",
     "text": [
      "\n"
     ]
    },
    {
     "data": {
      "application/vnd.jupyter.widget-view+json": {
       "model_id": "c5a19dcf5a384294a6a0aaa2876c6f48",
       "version_major": 2,
       "version_minor": 0
      },
      "text/plain": [
       "HBox(children=(FloatProgress(value=0.0, layout=Layout(flex='2'), max=146.0), HTML(value='')), layout=Layout(di…"
      ]
     },
     "metadata": {},
     "output_type": "display_data"
    },
    {
     "name": "stdout",
     "output_type": "stream",
     "text": [
      "\n",
      "Lr now: 0.0001\n",
      "А---------------кк-------тт-------о-------бб--------е-е => Актобее             , gt: Актобе              \n",
      "Я--------  -----------------вв----------у------и------ь => Я вуиь              , gt: яд другим           \n",
      "П-----------аа-----в-------л----о--дд-----ааа---------- => Павлода             , gt: Павлодар            \n",
      "З----е-т------я--тт---  --------м------л--е-ее---м----- => Зетят млеем         , gt: Летят шмели         \n",
      "г------рр-------е-------л-----------------------н------ => грелн               , gt: гремит              \n"
     ]
    },
    {
     "data": {
      "application/vnd.jupyter.widget-view+json": {
       "model_id": "e46e7b9968d94cf48404d4960c871ce9",
       "version_major": 2,
       "version_minor": 0
      },
      "text/plain": [
       "HBox(children=(FloatProgress(value=0.0, layout=Layout(flex='2'), max=711.0), HTML(value='')), layout=Layout(di…"
      ]
     },
     "metadata": {},
     "output_type": "display_data"
    },
    {
     "name": "stdout",
     "output_type": "stream",
     "text": [
      "\n"
     ]
    },
    {
     "data": {
      "application/vnd.jupyter.widget-view+json": {
       "model_id": "18e45ab072554a74b070b9b8a12d64d8",
       "version_major": 2,
       "version_minor": 0
      },
      "text/plain": [
       "HBox(children=(FloatProgress(value=0.0, layout=Layout(flex='2'), max=146.0), HTML(value='')), layout=Layout(di…"
      ]
     },
     "metadata": {},
     "output_type": "display_data"
    },
    {
     "name": "stdout",
     "output_type": "stream",
     "text": [
      "\n",
      "Lr now: 0.0001\n",
      "в----з-----в--------в-----------д---в---в----в--------, => взввдввв,           , gt: Его живит,          \n",
      "К--------о-------------------в-------------а---------я- => Ковая               , gt: Костанай            \n",
      "Ш-------в-------в------о---я----к-----е---р-----р-----з => Шввоякеррз          , gt: Шымкент             \n",
      "А-----в-------в----------------а---------в----в-------- => Аввавв              , gt: АСТАНА              \n",
      "в---вв-в--в-в---------а-----а--ввв--в---в--в--в---вввв- => ввввваавввввв       , gt: Они, толкаясь       \n"
     ]
    },
    {
     "data": {
      "application/vnd.jupyter.widget-view+json": {
       "model_id": "358098f4c4d241cf87cf4784e19a3ffc",
       "version_major": 2,
       "version_minor": 0
      },
      "text/plain": [
       "HBox(children=(FloatProgress(value=0.0, layout=Layout(flex='2'), max=711.0), HTML(value='')), layout=Layout(di…"
      ]
     },
     "metadata": {},
     "output_type": "display_data"
    },
    {
     "name": "stdout",
     "output_type": "stream",
     "text": [
      "\n"
     ]
    },
    {
     "data": {
      "application/vnd.jupyter.widget-view+json": {
       "model_id": "89c8d4485a23416c9f9d67380e770742",
       "version_major": 2,
       "version_minor": 0
      },
      "text/plain": [
       "HBox(children=(FloatProgress(value=0.0, layout=Layout(flex='2'), max=146.0), HTML(value='')), layout=Layout(di…"
      ]
     },
     "metadata": {},
     "output_type": "display_data"
    },
    {
     "name": "stdout",
     "output_type": "stream",
     "text": [
      "\n",
      "Lr now: 0.0001\n",
      "Е----------о-   ----------ж------ии--вв---ии----т-----, => Ео живит,           , gt: Его живит,          \n",
      "К-----у---д--а---?....-..  --З---аа--чч---е---м---?..-. => Куда?.. Зачем?..    , gt: Куда?.. Зачем?..    \n",
      "А--------------------лл----------г-----------а--------- => Алга                , gt: Алга                \n",
      "в-----  ---п---рр------с----а--й-  --о--п---рр-а--в-е-- => в прсай оправе      , gt: в простой оправе    \n",
      "И-----------,,  ------нн-----ии-----ч-----ее---гг----о- => И, ничего           , gt: И, ничего           \n"
     ]
    },
    {
     "data": {
      "application/vnd.jupyter.widget-view+json": {
       "model_id": "6822024f25274202b89690d6e2084ab8",
       "version_major": 2,
       "version_minor": 0
      },
      "text/plain": [
       "HBox(children=(FloatProgress(value=0.0, layout=Layout(flex='2'), max=711.0), HTML(value='')), layout=Layout(di…"
      ]
     },
     "metadata": {},
     "output_type": "display_data"
    },
    {
     "name": "stdout",
     "output_type": "stream",
     "text": [
      "\n"
     ]
    },
    {
     "data": {
      "application/vnd.jupyter.widget-view+json": {
       "model_id": "a0300f7d39204fd6a75f274133ec630b",
       "version_major": 2,
       "version_minor": 0
      },
      "text/plain": [
       "HBox(children=(FloatProgress(value=0.0, layout=Layout(flex='2'), max=146.0), HTML(value='')), layout=Layout(di…"
      ]
     },
     "metadata": {},
     "output_type": "display_data"
    },
    {
     "name": "stdout",
     "output_type": "stream",
     "text": [
      "\n",
      "Lr now: 0.0001\n",
      "А------------лл---------м----------а------т------ыыы--- => Алматы              , gt: Алматы              \n",
      "Р----е--бб----я---т-- -----у--ж------е-  -------н----е- => Ребят уже не        , gt: Ребят уже не        \n",
      "б-а--п--о--д-нн-оо-----К-аа--а--х---а-а--н--с-к--а---я- => баподно-Каахаанская , gt: Западно-Казахстанская\n",
      "п----------оо-----гг-----о------дд--------а-----------, => погода,             , gt: погода,             \n",
      "Ш----------е----л------ы---н-----а----ии------х-----а-- => Шелынаиха           , gt: Шемонаиха           \n"
     ]
    },
    {
     "data": {
      "application/vnd.jupyter.widget-view+json": {
       "model_id": "4711c896065d467f81a12f7d0ef73d71",
       "version_major": 2,
       "version_minor": 0
      },
      "text/plain": [
       "HBox(children=(FloatProgress(value=0.0, layout=Layout(flex='2'), max=711.0), HTML(value='')), layout=Layout(di…"
      ]
     },
     "metadata": {},
     "output_type": "display_data"
    },
    {
     "name": "stdout",
     "output_type": "stream",
     "text": [
      "\n"
     ]
    },
    {
     "data": {
      "application/vnd.jupyter.widget-view+json": {
       "model_id": "e9438290eb4d4672bc7e8929f6ff5b2e",
       "version_major": 2,
       "version_minor": 0
      },
      "text/plain": [
       "HBox(children=(FloatProgress(value=0.0, layout=Layout(flex='2'), max=146.0), HTML(value='')), layout=Layout(di…"
      ]
     },
     "metadata": {},
     "output_type": "display_data"
    },
    {
     "name": "stdout",
     "output_type": "stream",
     "text": [
      "\n",
      "Lr now: 0.0001\n",
      "р-------а- -сс-с-т-----и-----л---а-----т--т---сс---я--- => ра сстилаттся       , gt: расстилаются        \n",
      "н---а---м--     --н---а--сс-л--аа--д--ии-т----ь--с---я- => нам насладиться     , gt: нам насладиться     \n",
      "в----е--л--очч--и--н----о--й-   ---о   ---дд-о--мл---а- => велочиной о домла   , gt: величиной с дома    \n",
      "А--------------Л--------М-----------------Т-----Ы------ => АЛМТЫ               , gt: АЛМАТЫ              \n",
      "У-----------------а---------нл---------я------------я-- => Уанляя              , gt: удаляя              \n"
     ]
    },
    {
     "data": {
      "application/vnd.jupyter.widget-view+json": {
       "model_id": "5f1edab6f7fe4ed29bfdcf75d73b0e22",
       "version_major": 2,
       "version_minor": 0
      },
      "text/plain": [
       "HBox(children=(FloatProgress(value=0.0, layout=Layout(flex='2'), max=711.0), HTML(value='')), layout=Layout(di…"
      ]
     },
     "metadata": {},
     "output_type": "display_data"
    },
    {
     "name": "stdout",
     "output_type": "stream",
     "text": [
      "\n"
     ]
    },
    {
     "data": {
      "application/vnd.jupyter.widget-view+json": {
       "model_id": "b97d2a25f64b41e983645d858df75fdf",
       "version_major": 2,
       "version_minor": 0
      },
      "text/plain": [
       "HBox(children=(FloatProgress(value=0.0, layout=Layout(flex='2'), max=146.0), HTML(value='')), layout=Layout(di…"
      ]
     },
     "metadata": {},
     "output_type": "display_data"
    },
    {
     "name": "stdout",
     "output_type": "stream",
     "text": [
      "\n",
      "Lr now: 0.0001\n",
      "д--------------к--------г-------------аа------------у-- => дкгау               , gt: Актау               \n",
      "н--о--  --т---ы--   ---н-е--  --е-н--и--р-е--ии--л--я-- => но ты не ениреиля   , gt: но ты не снизошла.  \n",
      "о------------пп----------ы------------т---------------- => опыт                , gt: опыт                \n",
      "н--о-  -т---ы-- --н--е--  -с-н--и---з-о-------л---а---. => но ты не снизола.   , gt: но ты не снизошла.  \n",
      "А-------л---мм----а----р------а----н----и---к--а-----я- => Алмараникая         , gt: Алматинская         \n"
     ]
    },
    {
     "data": {
      "application/vnd.jupyter.widget-view+json": {
       "model_id": "338858ca16084dc5961e123878016ddd",
       "version_major": 2,
       "version_minor": 0
      },
      "text/plain": [
       "HBox(children=(FloatProgress(value=0.0, layout=Layout(flex='2'), max=711.0), HTML(value='')), layout=Layout(di…"
      ]
     },
     "metadata": {},
     "output_type": "display_data"
    },
    {
     "name": "stdout",
     "output_type": "stream",
     "text": [
      "\n"
     ]
    },
    {
     "data": {
      "application/vnd.jupyter.widget-view+json": {
       "model_id": "829ebe874b294b7cbfd152c742f752ed",
       "version_major": 2,
       "version_minor": 0
      },
      "text/plain": [
       "HBox(children=(FloatProgress(value=0.0, layout=Layout(flex='2'), max=146.0), HTML(value='')), layout=Layout(di…"
      ]
     },
     "metadata": {},
     "output_type": "display_data"
    },
    {
     "name": "stdout",
     "output_type": "stream",
     "text": [
      "\n",
      "Lr now: 0.0001\n",
      "и--хх  -н--а--с-лее-д-с-т--вв-е-н-н-ы---й   ---е--и-тт- => их наследственный еит, gt: их наследственный щит\n",
      "Г------д--ее-   ----------т------и---шш----ии---н---аа- => Где тишина          , gt: Где тишина          \n",
      "У------в---ы--ы-----------ы----л----а-----р---а---д---- => Увыыыларад          , gt: Кызылорда           \n",
      "д-----------жж----------иии---------ии-------т------уу- => джииту              , gt: джигиту             \n",
      "Т---о--ль--н-о-  ---в-е-р--с-т--ы-  -п-о--л----а--т---я => Тольно версты полатя, gt: Только версты полосаты\n"
     ]
    },
    {
     "data": {
      "application/vnd.jupyter.widget-view+json": {
       "model_id": "f7a999ddae154da1a4b2e8f319fd4774",
       "version_major": 2,
       "version_minor": 0
      },
      "text/plain": [
       "HBox(children=(FloatProgress(value=0.0, layout=Layout(flex='2'), max=711.0), HTML(value='')), layout=Layout(di…"
      ]
     },
     "metadata": {},
     "output_type": "display_data"
    },
    {
     "name": "stdout",
     "output_type": "stream",
     "text": [
      "\n"
     ]
    },
    {
     "data": {
      "application/vnd.jupyter.widget-view+json": {
       "model_id": "8623c6b775fc4ab897998202e8905c21",
       "version_major": 2,
       "version_minor": 0
      },
      "text/plain": [
       "HBox(children=(FloatProgress(value=0.0, layout=Layout(flex='2'), max=146.0), HTML(value='')), layout=Layout(di…"
      ]
     },
     "metadata": {},
     "output_type": "display_data"
    },
    {
     "name": "stdout",
     "output_type": "stream",
     "text": [
      "\n",
      "Lr now: 0.0001\n",
      "Ж---------------е-----сс---т--------н------о--------йй- => Жестной             , gt: Жестокой            \n",
      "К------иии----р---гг------иии-----зз----иии------я----- => Киргизия            , gt: Киргизия            \n",
      "П----------р----ии-----о------зз--е----р---с----к------ => Приозерск           , gt: Приозерск           \n",
      "К-----о----к-----ш---шш------е---тт---------а--------у- => Кокшшетау           , gt: Кокшетау            \n",
      "Н------а--   ----------З----а---к-----а---т--------е--- => На Закате           , gt: на закате           \n"
     ]
    },
    {
     "data": {
      "application/vnd.jupyter.widget-view+json": {
       "model_id": "f6348a4a7c544cc5bf88750c99bd769d",
       "version_major": 2,
       "version_minor": 0
      },
      "text/plain": [
       "HBox(children=(FloatProgress(value=0.0, layout=Layout(flex='2'), max=711.0), HTML(value='')), layout=Layout(di…"
      ]
     },
     "metadata": {},
     "output_type": "display_data"
    },
    {
     "name": "stdout",
     "output_type": "stream",
     "text": [
      "\n"
     ]
    },
    {
     "data": {
      "application/vnd.jupyter.widget-view+json": {
       "model_id": "9c6a270dd3934acc8b3922679b1785ff",
       "version_major": 2,
       "version_minor": 0
      },
      "text/plain": [
       "HBox(children=(FloatProgress(value=0.0, layout=Layout(flex='2'), max=146.0), HTML(value='')), layout=Layout(di…"
      ]
     },
     "metadata": {},
     "output_type": "display_data"
    },
    {
     "name": "stdout",
     "output_type": "stream",
     "text": [
      "\n",
      "Lr now: 0.0001\n",
      "А---------л----мм-----а---т-----ии--н---с--к----а----я- => Алматинская         , gt: Алматинская         \n",
      "З--а-п--ааа-д--н--о---К--а-з-а--х--сст--а--н--сс-к--а-- => Западно-Казахстанска, gt: Западно-Казахстанская\n",
      "О-----пп------я---т---ь---,,  ----с--тт---о--гг---о---с => Опять, стогос       , gt: Опять, стога        \n",
      "и--------рр----е----м-----м---------иии----тт---------. => иреммит.            , gt: гремит.             \n",
      "С-----   ------т-----рр-----у---х----о---йй-   ----и--- => С трухой и          , gt: С трухой и          \n"
     ]
    },
    {
     "data": {
      "application/vnd.jupyter.widget-view+json": {
       "model_id": "b89d760b2f0e445b9ff6c1e085b64d84",
       "version_major": 2,
       "version_minor": 0
      },
      "text/plain": [
       "HBox(children=(FloatProgress(value=0.0, layout=Layout(flex='2'), max=711.0), HTML(value='')), layout=Layout(di…"
      ]
     },
     "metadata": {},
     "output_type": "display_data"
    },
    {
     "name": "stdout",
     "output_type": "stream",
     "text": [
      "\n"
     ]
    },
    {
     "data": {
      "application/vnd.jupyter.widget-view+json": {
       "model_id": "1fa8b7e4c1284899a7ba895a025a8baa",
       "version_major": 2,
       "version_minor": 0
      },
      "text/plain": [
       "HBox(children=(FloatProgress(value=0.0, layout=Layout(flex='2'), max=146.0), HTML(value='')), layout=Layout(di…"
      ]
     },
     "metadata": {},
     "output_type": "display_data"
    },
    {
     "name": "stdout",
     "output_type": "stream",
     "text": [
      "\n",
      "Lr now: 0.0001\n",
      "З--а--п--а--д-н-о----КК--а--з-а--х-сстт---а--н--сккаа-я => Западно-Казахстанская, gt: Западно-Казахстанская\n",
      "с---н---у----юю--т----  --п---уу-н------ц-о---в--ы---ее => снуют пунцовые      , gt: Снуют пунцовые      \n",
      "Т---о---л--ч--к---а----е----и--   ----к---р--оо--в--ь-, => Толчкаеи кровь,     , gt: Толчками кровь,     \n",
      "Д-----------о------лл------и-----н--------к------аа---- => Долинка             , gt: Долинка             \n",
      "к--   --м---а---м--е--,  -х---о--д-н--о---н--и---м---и- => к маме, ходноними   , gt: к маме, жадно пили  \n"
     ]
    },
    {
     "data": {
      "application/vnd.jupyter.widget-view+json": {
       "model_id": "58b3741c82f141efa86d699ac62aaa2e",
       "version_major": 2,
       "version_minor": 0
      },
      "text/plain": [
       "HBox(children=(FloatProgress(value=0.0, layout=Layout(flex='2'), max=711.0), HTML(value='')), layout=Layout(di…"
      ]
     },
     "metadata": {},
     "output_type": "display_data"
    },
    {
     "name": "stdout",
     "output_type": "stream",
     "text": [
      "\n"
     ]
    },
    {
     "data": {
      "application/vnd.jupyter.widget-view+json": {
       "model_id": "03a61aafd62647fb8190aa5b4d3b5bc2",
       "version_major": 2,
       "version_minor": 0
      },
      "text/plain": [
       "HBox(children=(FloatProgress(value=0.0, layout=Layout(flex='2'), max=146.0), HTML(value='')), layout=Layout(di…"
      ]
     },
     "metadata": {},
     "output_type": "display_data"
    },
    {
     "name": "stdout",
     "output_type": "stream",
     "text": [
      "\n",
      "Lr now: 0.0001\n",
      "И--- --ж--------у--н--ь-   -----п---о---б----л----е---, => И жунь побле,       , gt: И жизнь поболее,    \n",
      "К----о--н---ьь-   --------д-о--гг-о---н---ии---т------, => Конь догонит,       , gt: Конь догонит,       \n",
      "п----р--ее---д--  ----аа---н---а-----л--о--ее---т-----, => пред аналоет,       , gt: пред аналоем,       \n",
      "А--------------с-----тт----------а-------нн--------а--- => Астана              , gt: Астана              \n",
      "О------т----  ------ККК------а---с--п---------я--  --и- => От Каспя и          , gt: От Каспия и         \n"
     ]
    },
    {
     "data": {
      "application/vnd.jupyter.widget-view+json": {
       "model_id": "c5fe3529919c4674a00f4bbfcee6a6e2",
       "version_major": 2,
       "version_minor": 0
      },
      "text/plain": [
       "HBox(children=(FloatProgress(value=0.0, layout=Layout(flex='2'), max=711.0), HTML(value='')), layout=Layout(di…"
      ]
     },
     "metadata": {},
     "output_type": "display_data"
    },
    {
     "name": "stderr",
     "output_type": "stream",
     "text": [
      "IOPub message rate exceeded.\n",
      "The notebook server will temporarily stop sending output\n",
      "to the client in order to avoid crashing it.\n",
      "To change this limit, set the config variable\n",
      "`--NotebookApp.iopub_msg_rate_limit`.\n",
      "\n",
      "Current values:\n",
      "NotebookApp.iopub_msg_rate_limit=1000.0 (msgs/sec)\n",
      "NotebookApp.rate_limit_window=3.0 (secs)\n",
      "\n"
     ]
    },
    {
     "name": "stdout",
     "output_type": "stream",
     "text": [
      "\n"
     ]
    },
    {
     "data": {
      "application/vnd.jupyter.widget-view+json": {
       "model_id": "4f95beb7bcb449d692f9008bb8c81f3c",
       "version_major": 2,
       "version_minor": 0
      },
      "text/plain": [
       "HBox(children=(FloatProgress(value=0.0, layout=Layout(flex='2'), max=146.0), HTML(value='')), layout=Layout(di…"
      ]
     },
     "metadata": {},
     "output_type": "display_data"
    },
    {
     "name": "stdout",
     "output_type": "stream",
     "text": [
      "\n",
      "Lr now: 0.0001\n",
      "м-------о--р----я--к--ии-  ----г---л---я---д----я---т-- => моряки глядят       , gt: моряки глядят       \n",
      "л-------------------------------д-------а------------,, => лда,                , gt: иногда,             \n",
      "Г--------д----е---  ------------н------о---чччч-----ьь- => Где ночь            , gt: Где ночь            \n",
      "Т----------------е------к------еее-----р---------и----- => Текери              , gt: Текели              \n",
      "х-----------ллл-----а-------дд----нн------ы---------йй- => хладный             , gt: хладный             \n"
     ]
    },
    {
     "data": {
      "application/vnd.jupyter.widget-view+json": {
       "model_id": "371df1c55fee4bb7a587f5e40c5ed8d4",
       "version_major": 2,
       "version_minor": 0
      },
      "text/plain": [
       "HBox(children=(FloatProgress(value=0.0, layout=Layout(flex='2'), max=711.0), HTML(value='')), layout=Layout(di…"
      ]
     },
     "metadata": {},
     "output_type": "display_data"
    },
    {
     "name": "stdout",
     "output_type": "stream",
     "text": [
      "\n"
     ]
    },
    {
     "data": {
      "application/vnd.jupyter.widget-view+json": {
       "model_id": "35b36f0f85a445d9939cf0fec26d6437",
       "version_major": 2,
       "version_minor": 0
      },
      "text/plain": [
       "HBox(children=(FloatProgress(value=0.0, layout=Layout(flex='2'), max=146.0), HTML(value='')), layout=Layout(di…"
      ]
     },
     "metadata": {},
     "output_type": "display_data"
    },
    {
     "name": "stdout",
     "output_type": "stream",
     "text": [
      "\n",
      "Lr now: 0.0001\n",
      "м---о--ч--нн--о  ---о-с-т---оа-бв--и--т--ьь--г--ор---я- => мочно остоабвитьгоря, gt: можно составить город\n",
      "м-------оо---йй    --------я----м----------щ--ии---к--, => мой ямщик,          , gt: мой ямщик,          \n",
      "А-----------бб-----х-----а-----зз-------иии-------я---- => Абхазия             , gt: Абхазия             \n",
      "С-----------т------------р--------ии---------н-------я- => Стриня              , gt: Страна              \n",
      "Г-------аа-----------т----е----л---ее----г-----а-----и- => Гателегаи           , gt: за телегои          \n"
     ]
    },
    {
     "data": {
      "application/vnd.jupyter.widget-view+json": {
       "model_id": "6538d2bf4a11443583a3b4d34db90756",
       "version_major": 2,
       "version_minor": 0
      },
      "text/plain": [
       "HBox(children=(FloatProgress(value=0.0, layout=Layout(flex='2'), max=711.0), HTML(value='')), layout=Layout(di…"
      ]
     },
     "metadata": {},
     "output_type": "display_data"
    },
    {
     "name": "stdout",
     "output_type": "stream",
     "text": [
      "\n"
     ]
    },
    {
     "data": {
      "application/vnd.jupyter.widget-view+json": {
       "model_id": "43921af978384dde8968b1212aba309e",
       "version_major": 2,
       "version_minor": 0
      },
      "text/plain": [
       "HBox(children=(FloatProgress(value=0.0, layout=Layout(flex='2'), max=146.0), HTML(value='')), layout=Layout(di…"
      ]
     },
     "metadata": {},
     "output_type": "display_data"
    },
    {
     "name": "stdout",
     "output_type": "stream",
     "text": [
      "\n",
      "Lr now: 0.0001\n",
      "К-----------иии----рр---гг---иии------з-----иии----я--- => Киргизия            , gt: Киргизия            \n",
      "Л-----ь--е--тт--    ------п---е--ч--а-----л--ьь-нн---о- => Льет печально       , gt: Льет печально       \n",
      "с--------л--------уу------ч------нн--------о----------- => случно              , gt: скучнои             \n",
      "А------------------ккк------------сссс------------уу--- => Аксу                , gt: Аксу                \n",
      "Т------ы--  ---о--т----д-а----л--а-   -----сс-в--о---юю => Ты отдала свою      , gt: Ты отдала свою      \n"
     ]
    },
    {
     "data": {
      "application/vnd.jupyter.widget-view+json": {
       "model_id": "c593f63d327d4ffcbda27095fb091c66",
       "version_major": 2,
       "version_minor": 0
      },
      "text/plain": [
       "HBox(children=(FloatProgress(value=0.0, layout=Layout(flex='2'), max=711.0), HTML(value='')), layout=Layout(di…"
      ]
     },
     "metadata": {},
     "output_type": "display_data"
    },
    {
     "name": "stdout",
     "output_type": "stream",
     "text": [
      "\n"
     ]
    },
    {
     "data": {
      "application/vnd.jupyter.widget-view+json": {
       "model_id": "78f311d40bc74dacbcbc341b292c61af",
       "version_major": 2,
       "version_minor": 0
      },
      "text/plain": [
       "HBox(children=(FloatProgress(value=0.0, layout=Layout(flex='2'), max=146.0), HTML(value='')), layout=Layout(di…"
      ]
     },
     "metadata": {},
     "output_type": "display_data"
    },
    {
     "name": "stdout",
     "output_type": "stream",
     "text": [
      "\n",
      "Lr now: 0.0001\n",
      "н-----е-   --------и---с--п-----у--гг--а--ее---т------, => не испугает,        , gt: не испугает,        \n",
      "О--нн---и-,,  --п---р--и--жж------а--вв--шш----ии--с--ь => Они, прижавшись     , gt: Они, прижавшись     \n",
      "п-----е---р----е-----н----о-----и--------в----а----л--. => переноивал.         , gt: переночевал.        \n",
      "К----------------аа-----м------к----е----------т------- => Камкет              , gt: Шымкент             \n",
      "Н--о-  -ч--т---о-   --н---а--ш---   ---д-е--л--аа-т---ь => Но что наш делать   , gt: Но что нам делать   \n"
     ]
    },
    {
     "data": {
      "application/vnd.jupyter.widget-view+json": {
       "model_id": "f7bbaec3bf2e450f96253e89604e5e0e",
       "version_major": 2,
       "version_minor": 0
      },
      "text/plain": [
       "HBox(children=(FloatProgress(value=0.0, layout=Layout(flex='2'), max=711.0), HTML(value='')), layout=Layout(di…"
      ]
     },
     "metadata": {},
     "output_type": "display_data"
    },
    {
     "name": "stdout",
     "output_type": "stream",
     "text": [
      "\n"
     ]
    },
    {
     "data": {
      "application/vnd.jupyter.widget-view+json": {
       "model_id": "016feacb92b84e3babdc326c14567653",
       "version_major": 2,
       "version_minor": 0
      },
      "text/plain": [
       "HBox(children=(FloatProgress(value=0.0, layout=Layout(flex='2'), max=146.0), HTML(value='')), layout=Layout(di…"
      ]
     },
     "metadata": {},
     "output_type": "display_data"
    },
    {
     "name": "stdout",
     "output_type": "stream",
     "text": [
      "\n",
      "Lr now: 0.0001\n",
      "Я--   ---в--х--о--д-ии--л--   ----в---м---е--сс-т----о- => Я входил вместо     , gt: Я входил вместо     \n",
      "К-------------о---сс----т-------а-----н-----а------йй-- => Костанай            , gt: Костанай            \n",
      "К----а---р---а---г---а---н---дд-ии--н---сс--к--аа----я- => Карагандинская      , gt: Карагандинская      \n",
      "м-------о--рр---я--к---у--,,  ------п-----о----я---т--. => моряку, поят.       , gt: моряку, горят.      \n",
      "И---   -----с--мм---а---х-н----у--л-  ---б--ы--  ---я-. => И смахнул бы я.     , gt: И смахнул бы я.     \n"
     ]
    },
    {
     "data": {
      "application/vnd.jupyter.widget-view+json": {
       "model_id": "c6837abbcdf54ddf81912127a767941b",
       "version_major": 2,
       "version_minor": 0
      },
      "text/plain": [
       "HBox(children=(FloatProgress(value=0.0, layout=Layout(flex='2'), max=711.0), HTML(value='')), layout=Layout(di…"
      ]
     },
     "metadata": {},
     "output_type": "display_data"
    },
    {
     "name": "stdout",
     "output_type": "stream",
     "text": [
      "\n"
     ]
    },
    {
     "data": {
      "application/vnd.jupyter.widget-view+json": {
       "model_id": "92e492910947470799123f17e7ce6a4e",
       "version_major": 2,
       "version_minor": 0
      },
      "text/plain": [
       "HBox(children=(FloatProgress(value=0.0, layout=Layout(flex='2'), max=146.0), HTML(value='')), layout=Layout(di…"
      ]
     },
     "metadata": {},
     "output_type": "display_data"
    },
    {
     "name": "stdout",
     "output_type": "stream",
     "text": [
      "\n",
      "Lr now: 0.0001\n",
      "Д-------о--гг--о----н------ии--  ---------------е-----, => Догони е,           , gt: Догони же,          \n",
      "К---------а------зз---а-----х----с---т--------а-----н-- => Казахстан           , gt: Казахстан           \n",
      "У---------к-------рр-------а------и-------нн-------а--- => Украина             , gt: Украина             \n",
      "Я----------    -----------вв------е--р---о---------юю-- => Я верою             , gt: Я верю              \n",
      "Я--------    -------к-----р-----е----п------к------оо-- => Я крепко            , gt: Я крепко            \n"
     ]
    },
    {
     "data": {
      "application/vnd.jupyter.widget-view+json": {
       "model_id": "d5d268a35d834d109be367bae81c37cc",
       "version_major": 2,
       "version_minor": 0
      },
      "text/plain": [
       "HBox(children=(FloatProgress(value=0.0, layout=Layout(flex='2'), max=711.0), HTML(value='')), layout=Layout(di…"
      ]
     },
     "metadata": {},
     "output_type": "display_data"
    },
    {
     "name": "stdout",
     "output_type": "stream",
     "text": [
      "\n"
     ]
    },
    {
     "data": {
      "application/vnd.jupyter.widget-view+json": {
       "model_id": "da532adfc6274b7d84ced3d8209865f7",
       "version_major": 2,
       "version_minor": 0
      },
      "text/plain": [
       "HBox(children=(FloatProgress(value=0.0, layout=Layout(flex='2'), max=146.0), HTML(value='')), layout=Layout(di…"
      ]
     },
     "metadata": {},
     "output_type": "display_data"
    },
    {
     "name": "stdout",
     "output_type": "stream",
     "text": [
      "\n",
      "Lr now: 0.0001\n",
      "В--О--С-Т-О-ЧЧ-Н-ОО----КК--А-З--А-Х--С-Т-АА-Н--С-К--А-Я => ВОСТОЧНО-КАЗАХСТАНСКАЯ, gt: ВОСТОЧНО-КАЗАХСТАНСКАЯ\n",
      "п----------оо-----гг-----о------ддд-------а----------,, => погода,             , gt: погода,             \n",
      "К---------ии----рр-----г-----ииии------з----иии---яя--- => Киргизия            , gt: Киргизия            \n",
      "д-----л---я- --н---аа---с   ---с--а----д--ии-т----сс--я => для нас садится     , gt: для нас садится     \n",
      "З----аа--вв--т-р----а-  --к-  ---л----и---н----оо----й- => Завтра к линой      , gt: Завтра к милой      \n"
     ]
    },
    {
     "data": {
      "application/vnd.jupyter.widget-view+json": {
       "model_id": "bcf543ace866435eb0e435230cff8e5f",
       "version_major": 2,
       "version_minor": 0
      },
      "text/plain": [
       "HBox(children=(FloatProgress(value=0.0, layout=Layout(flex='2'), max=711.0), HTML(value='')), layout=Layout(di…"
      ]
     },
     "metadata": {},
     "output_type": "display_data"
    },
    {
     "name": "stdout",
     "output_type": "stream",
     "text": [
      "\n"
     ]
    },
    {
     "data": {
      "application/vnd.jupyter.widget-view+json": {
       "model_id": "ddad8e11852a492386e57faeae838dd8",
       "version_major": 2,
       "version_minor": 0
      },
      "text/plain": [
       "HBox(children=(FloatProgress(value=0.0, layout=Layout(flex='2'), max=146.0), HTML(value='')), layout=Layout(di…"
      ]
     },
     "metadata": {},
     "output_type": "display_data"
    },
    {
     "name": "stdout",
     "output_type": "stream",
     "text": [
      "\n",
      "Lr now: 0.0001\n",
      "А-----------с---------т------а-------нн----------а----- => Астана              , gt: АСТАНА              \n",
      "Т-------ы----,,  ---мм----ии--лл--а---я-,,  -т-----ы--- => Ты, милая, ты       , gt: Ты, милая, ты       \n",
      "С-е--в-е-т-нн-о-----К--а--зз-а--х-ссст--а--н-сс-к-аа--я => Севетно-Казахстанская, gt: Северно Казахстанская\n",
      "Д---------------о-----лл----ииии--нн-----к--------а---- => Долинка             , gt: Долинка             \n",
      "г---о--р--е---стт--н---о---йй-  ---д-ее--мм----л--ее--, => горестной демле,    , gt: горестной земле,    \n"
     ]
    },
    {
     "data": {
      "application/vnd.jupyter.widget-view+json": {
       "model_id": "fd6ab108d705450e9a8f2aa7272ebd56",
       "version_major": 2,
       "version_minor": 0
      },
      "text/plain": [
       "HBox(children=(FloatProgress(value=0.0, layout=Layout(flex='2'), max=711.0), HTML(value='')), layout=Layout(di…"
      ]
     },
     "metadata": {},
     "output_type": "display_data"
    },
    {
     "name": "stdout",
     "output_type": "stream",
     "text": [
      "\n"
     ]
    },
    {
     "data": {
      "application/vnd.jupyter.widget-view+json": {
       "model_id": "55b2142d40214fa8941fe43a42c2e064",
       "version_major": 2,
       "version_minor": 0
      },
      "text/plain": [
       "HBox(children=(FloatProgress(value=0.0, layout=Layout(flex='2'), max=146.0), HTML(value='')), layout=Layout(di…"
      ]
     },
     "metadata": {},
     "output_type": "display_data"
    },
    {
     "name": "stdout",
     "output_type": "stream",
     "text": [
      "\n",
      "Lr now: 0.0001\n",
      "Р-------------о------с-----сс---------иии-------я------ => Россия              , gt: Россия              \n",
      "в--   --зз-а-рр--ь-сс--л--я---х-  -----у--к--р-----п--. => в зарьслях укрп.    , gt: в зарослях укроп.   \n",
      "С---к---у-чч--н---о----,, -гг--р----у--с--тт-----н---о- => Скучно, грустно     , gt: Скучно, грустно     \n",
      "С---т---о--гг   ----п---р--ии--нн---ии---м---а---е--т-- => Стог принимает      , gt: Стог принимает      \n",
      "А----------------е------------------------е-------р---- => Аеер                , gt: Ленгер              \n"
     ]
    },
    {
     "data": {
      "application/vnd.jupyter.widget-view+json": {
       "model_id": "9bb0d178ceeb47adbb1f7b15dfa167df",
       "version_major": 2,
       "version_minor": 0
      },
      "text/plain": [
       "HBox(children=(FloatProgress(value=0.0, layout=Layout(flex='2'), max=711.0), HTML(value='')), layout=Layout(di…"
      ]
     },
     "metadata": {},
     "output_type": "display_data"
    },
    {
     "name": "stdout",
     "output_type": "stream",
     "text": [
      "\n"
     ]
    },
    {
     "data": {
      "application/vnd.jupyter.widget-view+json": {
       "model_id": "27106d657f794e73b450a251e509ed9f",
       "version_major": 2,
       "version_minor": 0
      },
      "text/plain": [
       "HBox(children=(FloatProgress(value=0.0, layout=Layout(flex='2'), max=146.0), HTML(value='')), layout=Layout(di…"
      ]
     },
     "metadata": {},
     "output_type": "display_data"
    },
    {
     "name": "stdout",
     "output_type": "stream",
     "text": [
      "\n",
      "Lr now: 0.0001\n",
      "ч-еерр-нн--о--и   -т----о---л-ьь--ю  --г--у--м---н---а- => чернои толью гумна  , gt: чернои толью гумна  \n",
      "З--а--п--а--д-нн-о-----ККК-ааа--з-аа-хх-ссст-а-н--с-каа => Западно-Казахстанска, gt: Западно-Казахстанская\n",
      "Н---е  --з---н--а----ю-,,  --г-д-ее  --п--р--ии----ю--т => Не знаю, где приют  , gt: Не знаю, где приют  \n",
      "А-------тт-----ыы----р---а-----у--сс---кк----а------я-- => Атырауская          , gt: Атырауская          \n",
      "А-----------К--------Т--------О---------Б---------Е---- => АКТОБЕ              , gt: АКТОБЕ              \n"
     ]
    },
    {
     "data": {
      "application/vnd.jupyter.widget-view+json": {
       "model_id": "76fb31b52d9f4b97b9c3e2e587af7930",
       "version_major": 2,
       "version_minor": 0
      },
      "text/plain": [
       "HBox(children=(FloatProgress(value=0.0, layout=Layout(flex='2'), max=711.0), HTML(value='')), layout=Layout(di…"
      ]
     },
     "metadata": {},
     "output_type": "display_data"
    },
    {
     "name": "stdout",
     "output_type": "stream",
     "text": [
      "\n"
     ]
    },
    {
     "data": {
      "application/vnd.jupyter.widget-view+json": {
       "model_id": "a0442834df1e43f88b34adb944155a47",
       "version_major": 2,
       "version_minor": 0
      },
      "text/plain": [
       "HBox(children=(FloatProgress(value=0.0, layout=Layout(flex='2'), max=146.0), HTML(value='')), layout=Layout(di…"
      ]
     },
     "metadata": {},
     "output_type": "display_data"
    },
    {
     "name": "stdout",
     "output_type": "stream",
     "text": [
      "\n",
      "Lr now: 0.0001\n",
      "в--ы--ж---жж--е-н--н---ы--хх    -----ссо-л-е--н--ии--йй => выжженных солений   , gt: выжженных селений   \n",
      "П------е-тт---р----о--п---а----в----л--о---в---сс--к--- => Петропавловск       , gt: Петропавловск       \n",
      "М---------------о-----лл-----д----а------т--------х---- => Молдатх             , gt: Молдавия            \n",
      "Р-----ррр------ее---------мм-------е-------л---------—- => Рремел—             , gt: гремел —            \n",
      "К-----а---р---а---гг--а--нн---дд--и---н--ссскк--а----я- => Карагандинская      , gt: Карагандинская      \n"
     ]
    },
    {
     "data": {
      "application/vnd.jupyter.widget-view+json": {
       "model_id": "125ea7827d4c4bfd88f27dc06a17db83",
       "version_major": 2,
       "version_minor": 0
      },
      "text/plain": [
       "HBox(children=(FloatProgress(value=0.0, layout=Layout(flex='2'), max=711.0), HTML(value='')), layout=Layout(di…"
      ]
     },
     "metadata": {},
     "output_type": "display_data"
    },
    {
     "name": "stdout",
     "output_type": "stream",
     "text": [
      "\n"
     ]
    },
    {
     "data": {
      "application/vnd.jupyter.widget-view+json": {
       "model_id": "fb82f1ad27d240c8b8d3bbf7c60810ce",
       "version_major": 2,
       "version_minor": 0
      },
      "text/plain": [
       "HBox(children=(FloatProgress(value=0.0, layout=Layout(flex='2'), max=146.0), HTML(value='')), layout=Layout(di…"
      ]
     },
     "metadata": {},
     "output_type": "display_data"
    },
    {
     "name": "stdout",
     "output_type": "stream",
     "text": [
      "\n",
      "Lr now: 0.0001\n",
      "с-------о--л---дд-о-сстт--ьь  --п---р--о---ш---л--а---! => солдость прошла!    , gt: молодость прошла!   \n",
      "У---------к-------р------а-------и-------н--------а---- => Украина             , gt: Украина             \n",
      "У---сс-тт---ь-------К--аа--м---е-н---о-гг-о--р--с--к--- => Усть-Каменогорск    , gt: Усть-Каменогорск    \n",
      "Г---л----у--ш-----ьь-   ----и--  --с---н---ее---г-----… => Глушь и снег…       , gt: Глушь и снег..      \n",
      "В----ос-т--о-ч-нноо---ККК-а-ззаа-х-сст--а--н-ссккаа--я- => Восточно-Казахстанская, gt: Восточно-Казахстанская\n"
     ]
    },
    {
     "data": {
      "application/vnd.jupyter.widget-view+json": {
       "model_id": "3be914fd82844576810403e2c4096e28",
       "version_major": 2,
       "version_minor": 0
      },
      "text/plain": [
       "HBox(children=(FloatProgress(value=0.0, layout=Layout(flex='2'), max=711.0), HTML(value='')), layout=Layout(di…"
      ]
     },
     "metadata": {},
     "output_type": "display_data"
    },
    {
     "name": "stdout",
     "output_type": "stream",
     "text": [
      "\n"
     ]
    },
    {
     "data": {
      "application/vnd.jupyter.widget-view+json": {
       "model_id": "4b6b56ca86c2453d8c59afcfcbdbe687",
       "version_major": 2,
       "version_minor": 0
      },
      "text/plain": [
       "HBox(children=(FloatProgress(value=0.0, layout=Layout(flex='2'), max=146.0), HTML(value='')), layout=Layout(di…"
      ]
     },
     "metadata": {},
     "output_type": "display_data"
    },
    {
     "name": "stdout",
     "output_type": "stream",
     "text": [
      "\n",
      "Lr now: 0.0001\n",
      "м----ы---у-ч-е--й-   -------и-   --сс-в--ы---у-н--о--йй => мыучей и свыуной    , gt: могучей и свободной \n",
      "Ю----ж--н-о-------К-а-зз-а--хх--сс-т----я-н--с-к--а---я => Южно-Казахстянская  , gt: Южно-Казахстанская  \n",
      "н---------а---------в------с---е----------дд-------т--- => навседт             , gt: навсегда            \n",
      "И------------------ш---------аа-------кк-------а-----,, => Ишака,              , gt: Ишака,              \n",
      "с----в--о-е--й-   -----с--о--в--еерр---шш------и--т---, => своей совершит,     , gt: свой совершит,      \n"
     ]
    },
    {
     "data": {
      "application/vnd.jupyter.widget-view+json": {
       "model_id": "ead36a464ada4244810743a1e7777c99",
       "version_major": 2,
       "version_minor": 0
      },
      "text/plain": [
       "HBox(children=(FloatProgress(value=0.0, layout=Layout(flex='2'), max=711.0), HTML(value='')), layout=Layout(di…"
      ]
     },
     "metadata": {},
     "output_type": "display_data"
    },
    {
     "name": "stdout",
     "output_type": "stream",
     "text": [
      "\n"
     ]
    },
    {
     "data": {
      "application/vnd.jupyter.widget-view+json": {
       "model_id": "2ecf72549d2a4981abd8a1d62550d350",
       "version_major": 2,
       "version_minor": 0
      },
      "text/plain": [
       "HBox(children=(FloatProgress(value=0.0, layout=Layout(flex='2'), max=146.0), HTML(value='')), layout=Layout(di…"
      ]
     },
     "metadata": {},
     "output_type": "display_data"
    },
    {
     "name": "stdout",
     "output_type": "stream",
     "text": [
      "\n",
      "Lr now: 0.0001\n",
      "К-----а---к---   ---н---е--к---оо-г--д--а----  ----в--. => Как некогда в.      , gt: Как некогда в       \n",
      "о--------пп-------------яя----------н-----------ьь----- => опянь               , gt: опять               \n",
      "А---------------------м-----------------аа----------уу- => Амау                , gt: Актау               \n",
      "А-------------кк-------т-----р-------а-----------уу---- => Актрау              , gt: Актау               \n",
      "А------лл---т-----к--е--бб---и---н----сс-кк---иа----яя- => Алткебинскиая       , gt: Актюбинская         \n"
     ]
    },
    {
     "data": {
      "application/vnd.jupyter.widget-view+json": {
       "model_id": "3fac8717ad774e69b46991e701590a3a",
       "version_major": 2,
       "version_minor": 0
      },
      "text/plain": [
       "HBox(children=(FloatProgress(value=0.0, layout=Layout(flex='2'), max=711.0), HTML(value='')), layout=Layout(di…"
      ]
     },
     "metadata": {},
     "output_type": "display_data"
    },
    {
     "name": "stdout",
     "output_type": "stream",
     "text": [
      "\n"
     ]
    },
    {
     "data": {
      "application/vnd.jupyter.widget-view+json": {
       "model_id": "ea534da8db684facbfd92f5010000f35",
       "version_major": 2,
       "version_minor": 0
      },
      "text/plain": [
       "HBox(children=(FloatProgress(value=0.0, layout=Layout(flex='2'), max=146.0), HTML(value='')), layout=Layout(di…"
      ]
     },
     "metadata": {},
     "output_type": "display_data"
    },
    {
     "name": "stdout",
     "output_type": "stream",
     "text": [
      "\n",
      "Lr now: 0.0001\n",
      "н-----е----у----дд--е---рр------ж------ииии---мм----оо- => неудержимо          , gt: неудержимо          \n",
      "Н------------и---   --------о---гг----н-----------яя--, => Ни огня,            , gt: Ни огня,            \n",
      "Ж---------а---п--я---б---ы----л---сс--к----аа-------яя- => Жапябылская         , gt: Жамбылская          \n",
      "г-----рр---ее-----м-------е-------л----   ----------——— => гремел —            , gt: гремел —            \n",
      "С-  --в---ы----с-с--тт---ы---  -л--е--дд--и--ии--к---а- => С выссты ледиика    , gt: С высоты ледника    \n"
     ]
    },
    {
     "data": {
      "application/vnd.jupyter.widget-view+json": {
       "model_id": "7141fc3b9cf24313ad396c05e1afff61",
       "version_major": 2,
       "version_minor": 0
      },
      "text/plain": [
       "HBox(children=(FloatProgress(value=0.0, layout=Layout(flex='2'), max=711.0), HTML(value='')), layout=Layout(di…"
      ]
     },
     "metadata": {},
     "output_type": "display_data"
    },
    {
     "name": "stdout",
     "output_type": "stream",
     "text": [
      "\n"
     ]
    },
    {
     "data": {
      "application/vnd.jupyter.widget-view+json": {
       "model_id": "74a5d902fcf34105ac57a6fb849cc22e",
       "version_major": 2,
       "version_minor": 0
      },
      "text/plain": [
       "HBox(children=(FloatProgress(value=0.0, layout=Layout(flex='2'), max=146.0), HTML(value='')), layout=Layout(di…"
      ]
     },
     "metadata": {},
     "output_type": "display_data"
    },
    {
     "name": "stdout",
     "output_type": "stream",
     "text": [
      "\n",
      "Lr now: 0.0001\n",
      "Т----о--лл-чч--к---а----м----ии-   -----к-рр---о--в--ь, => Толчками кровь,     , gt: Толчками кровь,     \n",
      "К-------аа---р-----аа----бб---а-------лл---ы-------к--- => Карабалык           , gt: Карабалык           \n",
      "Г--д-ее-  ---------в------л-   -------пп--о--ж----а-рр- => Где вл пожар        , gt: Где выл пожар —     \n",
      "К----------о---к-----шш------ее---тт-------а--------у-- => Кокшетау            , gt: Кокшетау            \n",
      "А--------к----мм-----о---лл---иии-н----ссс-кк---а----яя => Акмолинская         , gt: Акмолинская         \n"
     ]
    },
    {
     "data": {
      "application/vnd.jupyter.widget-view+json": {
       "model_id": "148b42d9f3f64d0b951f886d6e08cc8e",
       "version_major": 2,
       "version_minor": 0
      },
      "text/plain": [
       "HBox(children=(FloatProgress(value=0.0, layout=Layout(flex='2'), max=711.0), HTML(value='')), layout=Layout(di…"
      ]
     },
     "metadata": {},
     "output_type": "display_data"
    },
    {
     "name": "stdout",
     "output_type": "stream",
     "text": [
      "\n"
     ]
    },
    {
     "data": {
      "application/vnd.jupyter.widget-view+json": {
       "model_id": "75dba3a6cbae4d44ad4ab85109c3f5b8",
       "version_major": 2,
       "version_minor": 0
      },
      "text/plain": [
       "HBox(children=(FloatProgress(value=0.0, layout=Layout(flex='2'), max=146.0), HTML(value='')), layout=Layout(di…"
      ]
     },
     "metadata": {},
     "output_type": "display_data"
    },
    {
     "name": "stdout",
     "output_type": "stream",
     "text": [
      "\n",
      "Lr now: 0.0001\n",
      "Х--------рр--------о--------м-------т------а--------уу- => Хромтау             , gt: Хромтау             \n",
      "н--аа--н---е-сс-е-н--н--ы---е-  ----вв--о-йй--н---о--й- => нанесенные войной   , gt: нанесенные войной   \n",
      "Н---------о--   ------------ж-------иии-----в----ы----- => Но живы             , gt: Но живы             \n",
      "К----о---мм----уу--??   ----Л-----ю--б--оо---мм-----у-- => Кому? Любому        , gt: Кому? Любому,       \n",
      "Г-------дд--е--   --------тт----------а------н-----к--- => Где танк            , gt: Где танк            \n"
     ]
    },
    {
     "data": {
      "application/vnd.jupyter.widget-view+json": {
       "model_id": "d1ca797380a04e2792f4bd2f152d9617",
       "version_major": 2,
       "version_minor": 0
      },
      "text/plain": [
       "HBox(children=(FloatProgress(value=0.0, layout=Layout(flex='2'), max=711.0), HTML(value='')), layout=Layout(di…"
      ]
     },
     "metadata": {},
     "output_type": "display_data"
    },
    {
     "name": "stdout",
     "output_type": "stream",
     "text": [
      "\n"
     ]
    },
    {
     "data": {
      "application/vnd.jupyter.widget-view+json": {
       "model_id": "f7e8b48f95f84084bb079ed2ebd157ae",
       "version_major": 2,
       "version_minor": 0
      },
      "text/plain": [
       "HBox(children=(FloatProgress(value=0.0, layout=Layout(flex='2'), max=146.0), HTML(value='')), layout=Layout(di…"
      ]
     },
     "metadata": {},
     "output_type": "display_data"
    },
    {
     "name": "stdout",
     "output_type": "stream",
     "text": [
      "\n",
      "Lr now: 0.0001\n",
      "с-----т---рр-------ее------к--------о---з------ыы------ => стрекозы            , gt: стрекозы            \n",
      "З----а---вв--т----рр--а----,,  ---Н---ии---н----а-----, => Завтра, Нина,       , gt: Завтра, Нина,       \n",
      "н---а--д--е-вв-а--л-  --н--аа-  --се-бб-яя-  -ч--т---о. => надевал на себя что., gt: надевал на себя что \n",
      "А---------Б-------Х------А---------З-----И----------ЯЯ- => АБХАЗИЯ             , gt: Абхазия             \n",
      "З-аа-п--а-дд-нн--о----КК-а--з-а--хх-сст--а--н-сскк-а--я => Западно-Казахстанская, gt: Западно-Казахстанская\n"
     ]
    },
    {
     "data": {
      "application/vnd.jupyter.widget-view+json": {
       "model_id": "95efb43f38ce4cfaa2a4d6b75c025b56",
       "version_major": 2,
       "version_minor": 0
      },
      "text/plain": [
       "HBox(children=(FloatProgress(value=0.0, layout=Layout(flex='2'), max=711.0), HTML(value='')), layout=Layout(di…"
      ]
     },
     "metadata": {},
     "output_type": "display_data"
    },
    {
     "name": "stdout",
     "output_type": "stream",
     "text": [
      "\n"
     ]
    },
    {
     "data": {
      "application/vnd.jupyter.widget-view+json": {
       "model_id": "e908d83eb1ce470a94c6aa7dea857048",
       "version_major": 2,
       "version_minor": 0
      },
      "text/plain": [
       "HBox(children=(FloatProgress(value=0.0, layout=Layout(flex='2'), max=146.0), HTML(value='')), layout=Layout(di…"
      ]
     },
     "metadata": {},
     "output_type": "display_data"
    },
    {
     "name": "stdout",
     "output_type": "stream",
     "text": [
      "\n",
      "Lr now: 0.0001\n",
      "А-------------тт---------ыы------рр-------а---------уу- => Атырау              , gt: Атырау              \n",
      "Т--------------уу--рр----к---ее--сс--т------а----н----- => Туркестан           , gt: Туркестан           \n",
      "И---  -мм--ыы-   --л--о--м---а--е--м--   --р--у--к--и-, => И мы ломаем руки,   , gt: И мы ломаем руки,   \n",
      "А------------Л-------М------------А-------Т-------Ы---- => АЛМАТЫ              , gt: АЛМАТЫ              \n",
      "Я---------    ----з---а-----бб---уу----дд----уу--сс--ь- => Я забудусь          , gt: Я забудусь          \n"
     ]
    },
    {
     "data": {
      "application/vnd.jupyter.widget-view+json": {
       "model_id": "eea31e3c2cdd4529ab857734c6f9d553",
       "version_major": 2,
       "version_minor": 0
      },
      "text/plain": [
       "HBox(children=(FloatProgress(value=0.0, layout=Layout(flex='2'), max=711.0), HTML(value='')), layout=Layout(di…"
      ]
     },
     "metadata": {},
     "output_type": "display_data"
    },
    {
     "name": "stdout",
     "output_type": "stream",
     "text": [
      "\n"
     ]
    },
    {
     "data": {
      "application/vnd.jupyter.widget-view+json": {
       "model_id": "eff2f74d7c4048beaa9394f3337d2fc7",
       "version_major": 2,
       "version_minor": 0
      },
      "text/plain": [
       "HBox(children=(FloatProgress(value=0.0, layout=Layout(flex='2'), max=146.0), HTML(value='')), layout=Layout(di…"
      ]
     },
     "metadata": {},
     "output_type": "display_data"
    },
    {
     "name": "stdout",
     "output_type": "stream",
     "text": [
      "\n",
      "Lr now: 0.0001\n",
      "А-----------кк--------р-----с-----------инн-------и---- => Акрсини             , gt: Украина             \n",
      "А---------------------------и------гг-------а----н----- => Аиган               , gt: джигит              \n",
      "О-----с--уу-жж------д--е-нн--ыы-    ---и----д--тт----кя => Осуждены идткя      , gt: Осуждены идти       \n",
      "В----   ---с--о--к-рр--о---в--и------щщ--н----а----ц-е- => В сокровищнаце      , gt: В сокровищнице      \n",
      "м-----------о--   --------о----п-----------я-----тт--ьь => мо опять            , gt: но опять            \n"
     ]
    },
    {
     "data": {
      "application/vnd.jupyter.widget-view+json": {
       "model_id": "8b831927853d418985c57cd601083944",
       "version_major": 2,
       "version_minor": 0
      },
      "text/plain": [
       "HBox(children=(FloatProgress(value=0.0, layout=Layout(flex='2'), max=711.0), HTML(value='')), layout=Layout(di…"
      ]
     },
     "metadata": {},
     "output_type": "display_data"
    },
    {
     "name": "stdout",
     "output_type": "stream",
     "text": [
      "\n"
     ]
    },
    {
     "data": {
      "application/vnd.jupyter.widget-view+json": {
       "model_id": "0411b50795174e03a1ffd0cc40e22996",
       "version_major": 2,
       "version_minor": 0
      },
      "text/plain": [
       "HBox(children=(FloatProgress(value=0.0, layout=Layout(flex='2'), max=146.0), HTML(value='')), layout=Layout(di…"
      ]
     },
     "metadata": {},
     "output_type": "display_data"
    },
    {
     "name": "stdout",
     "output_type": "stream",
     "text": [
      "\n",
      "Lr now: 0.0001\n",
      "т-------вв--о-е--ййй   ------г---о---р---д--ы---нн--ее- => твоей гордыне       , gt: твоей гордыне       \n",
      "и--   ---т---ее--н----ии--   ----ч---у---в--с--т--в-,,- => и тени чувств,      , gt: И тени чувств,      \n",
      "А----------К------------Т-------О---------Б---------Е-- => АКТОБЕ              , gt: АКТОБЕ              \n",
      "О----п----я---тт-----ь-   ------п----а---л--н------ы--- => Опять палны         , gt: Опять полны         \n",
      "д----л---я-   ---н---а--сс-   ---ссаа--д-и--й -сс-я--,, => для нас садий ся,   , gt: для нас садится,    \n"
     ]
    },
    {
     "data": {
      "application/vnd.jupyter.widget-view+json": {
       "model_id": "02b3cc08a5694e44a6be10b3ce773e34",
       "version_major": 2,
       "version_minor": 0
      },
      "text/plain": [
       "HBox(children=(FloatProgress(value=0.0, layout=Layout(flex='2'), max=711.0), HTML(value='')), layout=Layout(di…"
      ]
     },
     "metadata": {},
     "output_type": "display_data"
    },
    {
     "name": "stdout",
     "output_type": "stream",
     "text": [
      "\n"
     ]
    },
    {
     "data": {
      "application/vnd.jupyter.widget-view+json": {
       "model_id": "9b37047be68d4189a8bdae76ab85b0e3",
       "version_major": 2,
       "version_minor": 0
      },
      "text/plain": [
       "HBox(children=(FloatProgress(value=0.0, layout=Layout(flex='2'), max=146.0), HTML(value='')), layout=Layout(di…"
      ]
     },
     "metadata": {},
     "output_type": "display_data"
    },
    {
     "name": "stdout",
     "output_type": "stream",
     "text": [
      "\n",
      "Lr now: 0.0001\n",
      "х---------------------лл------е---------------бб----,,, => хлеб,               , gt: хлеб,               \n",
      "Г--------уу---л------ы--------шш-------аа-------т------ => Гулышат             , gt: Гульшат             \n",
      "А------------л--ммм---а---тт---иии--н---ссс-к---а----я- => Алматинская         , gt: Алматинская         \n",
      "П------е--т---рр----о--п---аа----в---л--о---вв--с---к-- => Петропавловск       , gt: Петропавловск       \n",
      "д-----------о---   -------зз---аа---хх--оо---дд----аа-- => до захода           , gt: до захода           \n"
     ]
    },
    {
     "data": {
      "application/vnd.jupyter.widget-view+json": {
       "model_id": "5d5b778a67d84fc08d0281ea06e0c1b1",
       "version_major": 2,
       "version_minor": 0
      },
      "text/plain": [
       "HBox(children=(FloatProgress(value=0.0, layout=Layout(flex='2'), max=711.0), HTML(value='')), layout=Layout(di…"
      ]
     },
     "metadata": {},
     "output_type": "display_data"
    },
    {
     "name": "stdout",
     "output_type": "stream",
     "text": [
      "\n"
     ]
    },
    {
     "data": {
      "application/vnd.jupyter.widget-view+json": {
       "model_id": "7391f5192cf848ee9f50cc6b246a0fb2",
       "version_major": 2,
       "version_minor": 0
      },
      "text/plain": [
       "HBox(children=(FloatProgress(value=0.0, layout=Layout(flex='2'), max=146.0), HTML(value='')), layout=Layout(di…"
      ]
     },
     "metadata": {},
     "output_type": "display_data"
    },
    {
     "name": "stdout",
     "output_type": "stream",
     "text": [
      "\n",
      "Lr now: 0.0001\n",
      "у------   ------к-----а-----м-------ии----н-----а-----? => у камина?           , gt: у камина,           \n",
      "Ч---тт----о-  ---в--р-ее--м-е--я-  ---л-ее--ч---и--т--- => Что времея лечит    , gt: Что время лечит     \n",
      "п---ы---л--ь  -с  -н--ии--хх- -к--р--ыы---лл--о---м---; => пыль с них крылом;  , gt: пыль с них крылом;  \n",
      "К--------И-------Р-----Г-----И-------З----ИИ--------Я-- => КИРГИЗИЯ            , gt: КИРГИЗИЯ            \n",
      "к-----------л---ее-----ввв----е----рр---------а-------. => клевера.            , gt: клевера.            \n"
     ]
    },
    {
     "data": {
      "application/vnd.jupyter.widget-view+json": {
       "model_id": "4c650b715deb42aabdfbce54c5d5b123",
       "version_major": 2,
       "version_minor": 0
      },
      "text/plain": [
       "HBox(children=(FloatProgress(value=0.0, layout=Layout(flex='2'), max=711.0), HTML(value='')), layout=Layout(di…"
      ]
     },
     "metadata": {},
     "output_type": "display_data"
    },
    {
     "name": "stdout",
     "output_type": "stream",
     "text": [
      "\n"
     ]
    },
    {
     "data": {
      "application/vnd.jupyter.widget-view+json": {
       "model_id": "9d38b18cd9644f31ba03c7e98b30dd20",
       "version_major": 2,
       "version_minor": 0
      },
      "text/plain": [
       "HBox(children=(FloatProgress(value=0.0, layout=Layout(flex='2'), max=146.0), HTML(value='')), layout=Layout(di…"
      ]
     },
     "metadata": {},
     "output_type": "display_data"
    },
    {
     "name": "stdout",
     "output_type": "stream",
     "text": [
      "\n",
      "Lr now: 0.0001\n",
      "п---р--е--дд-    -----аа--н---аа----л---о--е----мм----, => пред аналоем,       , gt: пред аналоем,       \n",
      "П-----о--п---о---д--а----ю--т----сс-яя    --о--д--н--ее => Поподаются одне     , gt: Попадаются одне     \n",
      "К---------а------з-----а-----х----с-----т-----а-----н-- => Казахстан           , gt: Казахстан           \n",
      "н------е--   -----и---сс--п-----у--гг--а---е--тт------, => не испугает,        , gt: не испугает,        \n",
      "Т-----о-  ссеерр-дд-е--ч-н---а---я-   -т----о-сс-к--аа- => То сердечная тоска  , gt: То сердечная тоска  \n"
     ]
    },
    {
     "data": {
      "application/vnd.jupyter.widget-view+json": {
       "model_id": "4d5473472ab143b9bd98bbecdcebed77",
       "version_major": 2,
       "version_minor": 0
      },
      "text/plain": [
       "HBox(children=(FloatProgress(value=0.0, layout=Layout(flex='2'), max=711.0), HTML(value='')), layout=Layout(di…"
      ]
     },
     "metadata": {},
     "output_type": "display_data"
    },
    {
     "name": "stdout",
     "output_type": "stream",
     "text": [
      "\n"
     ]
    },
    {
     "data": {
      "application/vnd.jupyter.widget-view+json": {
       "model_id": "53f5873387de4a2d882d107ab5f19f09",
       "version_major": 2,
       "version_minor": 0
      },
      "text/plain": [
       "HBox(children=(FloatProgress(value=0.0, layout=Layout(flex='2'), max=146.0), HTML(value='')), layout=Layout(di…"
      ]
     },
     "metadata": {},
     "output_type": "display_data"
    },
    {
     "name": "stdout",
     "output_type": "stream",
     "text": [
      "\n",
      "Lr now: 0.0001\n",
      "Т--------а----л-----д---ы----к----о--рр---г---а----нн-- => Талдыкорган         , gt: Талдыкорган         \n",
      "С---евввее-р--о----КК--ааззаа-х--с-т---а--нн-сскк--а--я => Северо-Казахстанская, gt: Северо-Казахстанская\n",
      "н--оо  -т---ыы-  --н--е-  --о-г--л--я-нн-уу-лл-а--ссьь, => но ты не оглянулась,, gt: но ты не оглянулась,\n",
      "У-----з---б---е---кк----ии-----сс--тт-------а-----н---- => Узбекистан          , gt: Узбекистан          \n",
      "д--------жж----------иии-----г---иии-----т----------!-- => джигит!             , gt: джигит!             \n"
     ]
    },
    {
     "data": {
      "application/vnd.jupyter.widget-view+json": {
       "model_id": "8c84b7335d42426c9bd6d1e5638af331",
       "version_major": 2,
       "version_minor": 0
      },
      "text/plain": [
       "HBox(children=(FloatProgress(value=0.0, layout=Layout(flex='2'), max=711.0), HTML(value='')), layout=Layout(di…"
      ]
     },
     "metadata": {},
     "output_type": "display_data"
    },
    {
     "name": "stdout",
     "output_type": "stream",
     "text": [
      "\n"
     ]
    },
    {
     "data": {
      "application/vnd.jupyter.widget-view+json": {
       "model_id": "301e963d27ef4bd8bed44e4fc26e0619",
       "version_major": 2,
       "version_minor": 0
      },
      "text/plain": [
       "HBox(children=(FloatProgress(value=0.0, layout=Layout(flex='2'), max=146.0), HTML(value='')), layout=Layout(di…"
      ]
     },
     "metadata": {},
     "output_type": "display_data"
    },
    {
     "name": "stdout",
     "output_type": "stream",
     "text": [
      "\n",
      "Lr now: 0.0001\n",
      "А-----------сс-----тт-------------а------н----------а-- => Астана              , gt: Астана              \n",
      "А------тт------ыы-----р-----а-----у--сс--кк---аа-----я- => Атырауская          , gt: Атырауская          \n",
      "Т-------у--р---к---и--сс-тт---аа---н--сс--к----а-----я- => Туркистанская       , gt: Туркистанская       \n",
      "П-----ее-тт---рр----о--п---а----в--лл--о---вв--с--кк--- => Петропавловск       , gt: Петропавловск       \n",
      "Л----ии-ш--ь   ---б--ы-   -н--е   --ппрр-о--сст-ии-тт-ь => Лишь бы не простить , gt: Лишь бы не простить \n"
     ]
    },
    {
     "data": {
      "application/vnd.jupyter.widget-view+json": {
       "model_id": "58737722d164465d9b4d6425367ce118",
       "version_major": 2,
       "version_minor": 0
      },
      "text/plain": [
       "HBox(children=(FloatProgress(value=0.0, layout=Layout(flex='2'), max=711.0), HTML(value='')), layout=Layout(di…"
      ]
     },
     "metadata": {},
     "output_type": "display_data"
    },
    {
     "name": "stdout",
     "output_type": "stream",
     "text": [
      "\n"
     ]
    },
    {
     "data": {
      "application/vnd.jupyter.widget-view+json": {
       "model_id": "e65ac9f0749241b4922d4aefabe8cd2a",
       "version_major": 2,
       "version_minor": 0
      },
      "text/plain": [
       "HBox(children=(FloatProgress(value=0.0, layout=Layout(flex='2'), max=146.0), HTML(value='')), layout=Layout(di…"
      ]
     },
     "metadata": {},
     "output_type": "display_data"
    },
    {
     "name": "stdout",
     "output_type": "stream",
     "text": [
      "\n",
      "Lr now: 0.0001\n",
      "Т-------а------к---   ------------в----е-----к--------- => Так век             , gt: Так век             \n",
      "С----------т---------рр------аа-------нн----------а---- => Страна              , gt: Страна              \n",
      "ЗЗ-аа-п-аа-д-н--о  ---КК--азз-а-хх-сстт--а-нн-сс-к-а--я => Западно Казахстанская, gt: Западно Казахстанская\n",
      "в--х-о-д--и--л--а-  --ж----а-жж---д-аа  --мм-е-сс-т--ии => входила жажда мести , gt: входила жажда мести \n",
      "А---------йй----т-------ее---к-----е-   ----б------а--- => Айтеке ба           , gt: Айтеке би           \n"
     ]
    },
    {
     "data": {
      "application/vnd.jupyter.widget-view+json": {
       "model_id": "4ce14ee399b2436dbd89e4bf73306f33",
       "version_major": 2,
       "version_minor": 0
      },
      "text/plain": [
       "HBox(children=(FloatProgress(value=0.0, layout=Layout(flex='2'), max=711.0), HTML(value='')), layout=Layout(di…"
      ]
     },
     "metadata": {},
     "output_type": "display_data"
    },
    {
     "name": "stdout",
     "output_type": "stream",
     "text": [
      "\n"
     ]
    },
    {
     "data": {
      "application/vnd.jupyter.widget-view+json": {
       "model_id": "3a4158ce3e3444aea86ec272faa7bc1d",
       "version_major": 2,
       "version_minor": 0
      },
      "text/plain": [
       "HBox(children=(FloatProgress(value=0.0, layout=Layout(flex='2'), max=146.0), HTML(value='')), layout=Layout(di…"
      ]
     },
     "metadata": {},
     "output_type": "display_data"
    },
    {
     "name": "stdout",
     "output_type": "stream",
     "text": [
      "\n",
      "Lr now: 0.0001\n",
      "П-----------о------б----е-----л-----е-----л------ииии-- => Побелели            , gt: побелели            \n",
      "б--е--с-п--о---е--зз-н--ы--   ----м---о---с--ь--бб--ыы- => беспоезны мосьбы    , gt: бесполезны мольбы   \n",
      "А-----------------т-------ы---------р-------а-----уу--- => Атырау              , gt: АТЫРАУ              \n",
      "т---------------------ее--------бб----------я--------,, => тебя,               , gt: тебя,               \n",
      "ч---у-в-сстт--в--у--ю-  --с-о-лл-ии-д-а--н--н-о-сстт-ьь => чувствую солиданность, gt: чувствую солидарность\n"
     ]
    },
    {
     "data": {
      "application/vnd.jupyter.widget-view+json": {
       "model_id": "5538ef6ba3d649cea30ba818a2405d96",
       "version_major": 2,
       "version_minor": 0
      },
      "text/plain": [
       "HBox(children=(FloatProgress(value=0.0, layout=Layout(flex='2'), max=711.0), HTML(value='')), layout=Layout(di…"
      ]
     },
     "metadata": {},
     "output_type": "display_data"
    },
    {
     "name": "stdout",
     "output_type": "stream",
     "text": [
      "\n"
     ]
    },
    {
     "data": {
      "application/vnd.jupyter.widget-view+json": {
       "model_id": "1a8de08b70b848b89f220e6b48348ecd",
       "version_major": 2,
       "version_minor": 0
      },
      "text/plain": [
       "HBox(children=(FloatProgress(value=0.0, layout=Layout(flex='2'), max=146.0), HTML(value='')), layout=Layout(di…"
      ]
     },
     "metadata": {},
     "output_type": "display_data"
    },
    {
     "name": "stdout",
     "output_type": "stream",
     "text": [
      "\n",
      "Lr now: 0.0001\n",
      "б----ее-сс-с---м---е-р--т--нии-  ----с-т--ии--л--а--м-- => бессмертни стилам   , gt: бессмертными стихами\n",
      "Н-------е-   ------ --в------м-----е----с---тт-------е- => Не  вместе          , gt: Не. вместе          \n",
      "М--------------о------л----д-----аа----вв----ии-----я-- => Молдавия            , gt: Молдавия            \n",
      "К--------о---с--т----аа---н---а---йй---сс-кк---аа----я- => Костанайская        , gt: Костанайская        \n",
      "К--------а---р-----а-----бб---а--------лл--ы------кк--- => Карабалык           , gt: Карабалык           \n",
      "Lr now: 1e-05\n"
     ]
    },
    {
     "data": {
      "application/vnd.jupyter.widget-view+json": {
       "model_id": "636895a7274844e19138a000b6b6e2e5",
       "version_major": 2,
       "version_minor": 0
      },
      "text/plain": [
       "HBox(children=(FloatProgress(value=0.0, layout=Layout(flex='2'), max=711.0), HTML(value='')), layout=Layout(di…"
      ]
     },
     "metadata": {},
     "output_type": "display_data"
    },
    {
     "name": "stdout",
     "output_type": "stream",
     "text": [
      "\n"
     ]
    },
    {
     "data": {
      "application/vnd.jupyter.widget-view+json": {
       "model_id": "c85ebfc6f90b4340b8a8ff23d6976419",
       "version_major": 2,
       "version_minor": 0
      },
      "text/plain": [
       "HBox(children=(FloatProgress(value=0.0, layout=Layout(flex='2'), max=146.0), HTML(value='')), layout=Layout(di…"
      ]
     },
     "metadata": {},
     "output_type": "display_data"
    },
    {
     "name": "stdout",
     "output_type": "stream",
     "text": [
      "\n",
      "Lr now: 1e-05\n",
      "н--аа--дд-е-в---а--л-  -н--а-  с-ее--б--я-  чч---т----о => надевал на себя что , gt: надевал на себя что \n",
      "м-------о-----й-   -------я----л---------щ--ии---к----- => мой ялщик           , gt: мой ямцик           \n",
      "И--------  --ж----------е--нн--------у------и---к-----, => И женуик,           , gt: И женщина,          \n",
      "к------а---к---    -----сс----нн----о---вв--а------лл-- => как сновал          , gt: как сеновал         \n",
      "К-------------------у-----------п------а-----------о--- => Купао               , gt: Скучно              \n"
     ]
    },
    {
     "data": {
      "application/vnd.jupyter.widget-view+json": {
       "model_id": "a3d06f6ecebc49cd8aa8bb44a943f61a",
       "version_major": 2,
       "version_minor": 0
      },
      "text/plain": [
       "HBox(children=(FloatProgress(value=0.0, layout=Layout(flex='2'), max=711.0), HTML(value='')), layout=Layout(di…"
      ]
     },
     "metadata": {},
     "output_type": "display_data"
    },
    {
     "name": "stdout",
     "output_type": "stream",
     "text": [
      "\n"
     ]
    },
    {
     "data": {
      "application/vnd.jupyter.widget-view+json": {
       "model_id": "61cfd9fd6ecf4b0b84bbccdd4285b6e3",
       "version_major": 2,
       "version_minor": 0
      },
      "text/plain": [
       "HBox(children=(FloatProgress(value=0.0, layout=Layout(flex='2'), max=146.0), HTML(value='')), layout=Layout(di…"
      ]
     },
     "metadata": {},
     "output_type": "display_data"
    },
    {
     "name": "stdout",
     "output_type": "stream",
     "text": [
      "\n",
      "Lr now: 1e-05\n",
      "У----с-тт-ь----ККК---аа--м----е--нн--оо-г--оо-р---с--к- => Усть-Каменогорск    , gt: УСТЬ-КАМЕНОГОРСК    \n",
      "и--  ------с-с--к--а---л--о----в-   ---н---а-сс-т---ь-, => и сскалов насть,    , gt: и оскалив пасть,    \n",
      "о-------тт----------с-----тт-----------аа-----------л-- => отстал              , gt: отстал              \n",
      "А-----------------с-------Т--------а------н---------а-- => АсТана              , gt: АСТАНА              \n",
      "Ю-----жж----н---а----я-   ---О---сс-ее--тт-----ии----я- => Южная Осетия        , gt: Южная Осетия        \n"
     ]
    },
    {
     "data": {
      "application/vnd.jupyter.widget-view+json": {
       "model_id": "29d6bf58b9664ba9b4538cf9a00e3cc2",
       "version_major": 2,
       "version_minor": 0
      },
      "text/plain": [
       "HBox(children=(FloatProgress(value=0.0, layout=Layout(flex='2'), max=711.0), HTML(value='')), layout=Layout(di…"
      ]
     },
     "metadata": {},
     "output_type": "display_data"
    },
    {
     "name": "stdout",
     "output_type": "stream",
     "text": [
      "\n"
     ]
    },
    {
     "data": {
      "application/vnd.jupyter.widget-view+json": {
       "model_id": "e979fd78eba94a7bb4f78c414a0b0f82",
       "version_major": 2,
       "version_minor": 0
      },
      "text/plain": [
       "HBox(children=(FloatProgress(value=0.0, layout=Layout(flex='2'), max=146.0), HTML(value='')), layout=Layout(di…"
      ]
     },
     "metadata": {},
     "output_type": "display_data"
    },
    {
     "name": "stdout",
     "output_type": "stream",
     "text": [
      "\n",
      "Lr now: 1e-05\n",
      "л-----------------юю--------дддд-------ииии-----------, => люди,               , gt: люди,               \n",
      "К--------О-------К------Ш--------Е----т-----А--------у- => КОКШЕтАу            , gt: Кокшетау            \n",
      "Р-----------------------------------з------------------ => Рз                  , gt: РК                  \n",
      "о--б-е--д--а---л    ----ч-ее-р--тт-  --з--н---а--ее-т-- => обедал черт знает   , gt: обедал черт знает   \n",
      "Д----рр-ее--м-----я--   --сс--м----оо---л--ь--н----у-л- => Дремя смольнул      , gt: Дремля смолкнул     \n"
     ]
    },
    {
     "data": {
      "application/vnd.jupyter.widget-view+json": {
       "model_id": "14a6ab91d3f848779e82b2e833e12a69",
       "version_major": 2,
       "version_minor": 0
      },
      "text/plain": [
       "HBox(children=(FloatProgress(value=0.0, layout=Layout(flex='2'), max=711.0), HTML(value='')), layout=Layout(di…"
      ]
     },
     "metadata": {},
     "output_type": "display_data"
    },
    {
     "name": "stdout",
     "output_type": "stream",
     "text": [
      "\n"
     ]
    },
    {
     "data": {
      "application/vnd.jupyter.widget-view+json": {
       "model_id": "f81a8cb444ea4fcb94d7300cba263ab0",
       "version_major": 2,
       "version_minor": 0
      },
      "text/plain": [
       "HBox(children=(FloatProgress(value=0.0, layout=Layout(flex='2'), max=146.0), HTML(value='')), layout=Layout(di…"
      ]
     },
     "metadata": {},
     "output_type": "display_data"
    },
    {
     "name": "stdout",
     "output_type": "stream",
     "text": [
      "\n",
      "Lr now: 1e-05\n",
      "З-----а---р-----и-----в------шш------иии-----с----ьь--, => Зарившись,          , gt: Зарывшись,          \n",
      "с-   --к--ее--мм--   ---в--о-   ---ффр--рр---а--кк--е-, => с кем во фрраке,    , gt: с кем во фраке,     \n",
      "Г----р----у-сс--т-----н--о--,,, ----НН----и--нн---а---: => Грустно, Нина:      , gt: Грустно, Нина:      \n",
      "в--ы--жж--ж---е-н--н---ы--хх-   -----с-о-л-е--н--ии--йй => выжженных солений   , gt: выжженных селений   \n",
      "А---------л---мм----а----т---иии---т----ссс--к--а----яя => Алматитская         , gt: Алматитская         \n"
     ]
    },
    {
     "data": {
      "application/vnd.jupyter.widget-view+json": {
       "model_id": "4f78197ad49d4354a0ab2e9b001de328",
       "version_major": 2,
       "version_minor": 0
      },
      "text/plain": [
       "HBox(children=(FloatProgress(value=0.0, layout=Layout(flex='2'), max=711.0), HTML(value='')), layout=Layout(di…"
      ]
     },
     "metadata": {},
     "output_type": "display_data"
    },
    {
     "name": "stdout",
     "output_type": "stream",
     "text": [
      "\n"
     ]
    },
    {
     "data": {
      "application/vnd.jupyter.widget-view+json": {
       "model_id": "5f12adddf3d34f3c8a6d34697720799a",
       "version_major": 2,
       "version_minor": 0
      },
      "text/plain": [
       "HBox(children=(FloatProgress(value=0.0, layout=Layout(flex='2'), max=146.0), HTML(value='')), layout=Layout(di…"
      ]
     },
     "metadata": {},
     "output_type": "display_data"
    },
    {
     "name": "stdout",
     "output_type": "stream",
     "text": [
      "\n",
      "Lr now: 1e-05\n",
      "в-----х---о---б--лл-е---н---н-о---е-   ----в--и---с---я => вхобленное вися     , gt: влюбленное вино     \n",
      "К------а--рр--аа--гг--а--нн---д--ии--н---сс-к---а---я-- => Карагандинская      , gt: Карагандинская      \n",
      "Г----о--л--о--д--н--ыы--е   ---в--оо--л-чч-аа--т-----а- => Голодные волчата    , gt: Голодные волчата    \n",
      "М-------------О----Л-----Д-------А----ВВ-----И------Я-- => МОЛДАВИЯ            , gt: МОЛДАВИЯ            \n",
      "А--------------с----т-----аа---------н----------а------ => Астана              , gt: Астана              \n"
     ]
    },
    {
     "data": {
      "application/vnd.jupyter.widget-view+json": {
       "model_id": "27a1da3dcfa94eed937458aaae475123",
       "version_major": 2,
       "version_minor": 0
      },
      "text/plain": [
       "HBox(children=(FloatProgress(value=0.0, layout=Layout(flex='2'), max=711.0), HTML(value='')), layout=Layout(di…"
      ]
     },
     "metadata": {},
     "output_type": "display_data"
    },
    {
     "name": "stdout",
     "output_type": "stream",
     "text": [
      "\n"
     ]
    },
    {
     "data": {
      "application/vnd.jupyter.widget-view+json": {
       "model_id": "b2caac1d394145c7a6411c23ad210c80",
       "version_major": 2,
       "version_minor": 0
      },
      "text/plain": [
       "HBox(children=(FloatProgress(value=0.0, layout=Layout(flex='2'), max=146.0), HTML(value='')), layout=Layout(di…"
      ]
     },
     "metadata": {},
     "output_type": "display_data"
    },
    {
     "name": "stdout",
     "output_type": "stream",
     "text": [
      "\n",
      "Lr now: 1e-05\n",
      "П---рр--ее--к--рр--аа--с-нн---о--  --в-  --н----а----с- => Прекрасно в нас     , gt: Прекрасно в нас     \n",
      "А---------------------к------------с--------------у---- => Аксу                , gt: Аксу                \n",
      "з----а--рр---о--с--л--я--х-  --п--оо---л-ь--е--н---и--, => зарослях польени,   , gt: зарослях полыни,    \n",
      "к---------рр-------ы------------л----ь--------я------й- => крыльяй             , gt: крылья;             \n",
      "Ж-------------е---тт-----ы--------сс----а----------йй-- => Жетысай             , gt: Жетысай             \n"
     ]
    },
    {
     "data": {
      "application/vnd.jupyter.widget-view+json": {
       "model_id": "d82040ec929c4fd9abe84920d429ed0b",
       "version_major": 2,
       "version_minor": 0
      },
      "text/plain": [
       "HBox(children=(FloatProgress(value=0.0, layout=Layout(flex='2'), max=711.0), HTML(value='')), layout=Layout(di…"
      ]
     },
     "metadata": {},
     "output_type": "display_data"
    },
    {
     "name": "stdout",
     "output_type": "stream",
     "text": [
      "\n"
     ]
    },
    {
     "data": {
      "application/vnd.jupyter.widget-view+json": {
       "model_id": "f43c450c0e63470a868370c715303247",
       "version_major": 2,
       "version_minor": 0
      },
      "text/plain": [
       "HBox(children=(FloatProgress(value=0.0, layout=Layout(flex='2'), max=146.0), HTML(value='')), layout=Layout(di…"
      ]
     },
     "metadata": {},
     "output_type": "display_data"
    },
    {
     "name": "stdout",
     "output_type": "stream",
     "text": [
      "\n",
      "Lr now: 1e-05\n",
      "К-----------а------р-----а-----ж------------а-------л-- => Каражал             , gt: Каражал             \n",
      "м----е-с--я---ц-  ------м---и---м---о---у--ж----ии--й-, => месяц мимоужий,     , gt: месяц мимоезжий,    \n",
      "Ж---------а-----м-----бб--ы----лл--ь---с--кк---а----я-- => Жамбыльская         , gt: Жамбыльская         \n",
      "О--н---ии-,, -п---р--ии--ж-----а---вв--шшш------ии-сс-ь => Они, прижавшись     , gt: Они, прижавшись     \n",
      "О--------------------------------------------------,,,, => О,                  , gt: Ой,                 \n"
     ]
    },
    {
     "data": {
      "application/vnd.jupyter.widget-view+json": {
       "model_id": "4ac5ff7a106e404099abc09426cd0cbd",
       "version_major": 2,
       "version_minor": 0
      },
      "text/plain": [
       "HBox(children=(FloatProgress(value=0.0, layout=Layout(flex='2'), max=711.0), HTML(value='')), layout=Layout(di…"
      ]
     },
     "metadata": {},
     "output_type": "display_data"
    },
    {
     "name": "stdout",
     "output_type": "stream",
     "text": [
      "\n"
     ]
    },
    {
     "data": {
      "application/vnd.jupyter.widget-view+json": {
       "model_id": "f61216281ea54636b046aa4f815ef7a3",
       "version_major": 2,
       "version_minor": 0
      },
      "text/plain": [
       "HBox(children=(FloatProgress(value=0.0, layout=Layout(flex='2'), max=146.0), HTML(value='')), layout=Layout(di…"
      ]
     },
     "metadata": {},
     "output_type": "display_data"
    },
    {
     "name": "stdout",
     "output_type": "stream",
     "text": [
      "\n",
      "Lr now: 1e-05\n",
      "А---------------рр--------ыы------------сс---------ьь-- => Арысь               , gt: Арысь               \n",
      "К-------------а----р-------а---------й-----а-------у--- => Карайау             , gt: Каратау             \n",
      "И--- -т--ы-   --у--ш-----лл--я-  ---с--зз  -д--о--м--а. => И ты ушля сз дома.  , gt: и ты ушла из дома.  \n",
      "Т------------уу--рр----к---е-----сс--т--------а----н--- => Туркестан           , gt: Туркестан           \n",
      "Н---ее   ----н-----а---л--е---йй-   ---к---оо--н----я-, => Не налей коня,      , gt: Не жалей коня,      \n"
     ]
    },
    {
     "data": {
      "application/vnd.jupyter.widget-view+json": {
       "model_id": "e1314bcf0a044157acc19baa89c0f53e",
       "version_major": 2,
       "version_minor": 0
      },
      "text/plain": [
       "HBox(children=(FloatProgress(value=0.0, layout=Layout(flex='2'), max=711.0), HTML(value='')), layout=Layout(di…"
      ]
     },
     "metadata": {},
     "output_type": "display_data"
    },
    {
     "name": "stdout",
     "output_type": "stream",
     "text": [
      "\n"
     ]
    },
    {
     "data": {
      "application/vnd.jupyter.widget-view+json": {
       "model_id": "ad4fae58f4e144e89f94c0420e92cafc",
       "version_major": 2,
       "version_minor": 0
      },
      "text/plain": [
       "HBox(children=(FloatProgress(value=0.0, layout=Layout(flex='2'), max=146.0), HTML(value='')), layout=Layout(di…"
      ]
     },
     "metadata": {},
     "output_type": "display_data"
    },
    {
     "name": "stdout",
     "output_type": "stream",
     "text": [
      "\n",
      "Lr now: 1e-05\n",
      "к----а----к-    ------мм---о---л--о---дд--о---сс-т---ь- => как молодость       , gt: как молодость       \n",
      "Т--------------аа---------рр-------------ааа--------з-- => Тараз               , gt: Тараз               \n",
      "О---а---у-жж----дд-е--н---ы---   -----и---д---т-----ии- => Оауждены идти       , gt: Осуждены идти       \n",
      "П-----аа----в----л---оо-дд-оо--р----сс--к-----а-----яя- => Павлодорская        , gt: Павлодарская        \n",
      "Ж---------ее----з-----к------а---з----гг----а----н----- => Жезказган           , gt: Жезказган           \n"
     ]
    },
    {
     "data": {
      "application/vnd.jupyter.widget-view+json": {
       "model_id": "cdeb9f14c6ed452b8807cbe4020ab89c",
       "version_major": 2,
       "version_minor": 0
      },
      "text/plain": [
       "HBox(children=(FloatProgress(value=0.0, layout=Layout(flex='2'), max=711.0), HTML(value='')), layout=Layout(di…"
      ]
     },
     "metadata": {},
     "output_type": "display_data"
    },
    {
     "name": "stdout",
     "output_type": "stream",
     "text": [
      "\n"
     ]
    },
    {
     "data": {
      "application/vnd.jupyter.widget-view+json": {
       "model_id": "f23c6c8b7298499b8b1946b2c3468ac6",
       "version_major": 2,
       "version_minor": 0
      },
      "text/plain": [
       "HBox(children=(FloatProgress(value=0.0, layout=Layout(flex='2'), max=146.0), HTML(value='')), layout=Layout(di…"
      ]
     },
     "metadata": {},
     "output_type": "display_data"
    },
    {
     "name": "stdout",
     "output_type": "stream",
     "text": [
      "\n",
      "Lr now: 1e-05\n",
      "П----------а------в------лл----о----д---аа------ррр---- => Павлодар            , gt: Павлодар            \n",
      "Ш------------ё-----л--   -----сс--тт----ее--п--ь-----ю- => Шёл степью          , gt: Шёл степью          \n",
      "К-------а----зз-----а-------х---сс----т----а-----нн---- => Казахстан           , gt: Казахстан           \n",
      "Ж---------а-----м-----б---ы------л--сс-кк-----аа-----я- => Жамбылская          , gt: Жамбылская          \n",
      "и--   ---в---о--р---ч---а-,,  ---сс--о---с--аа---л---ии => и ворча, сосали     , gt: и ворча, сосали     \n"
     ]
    },
    {
     "data": {
      "application/vnd.jupyter.widget-view+json": {
       "model_id": "72b16fd728c24e849faf492d60c6cc75",
       "version_major": 2,
       "version_minor": 0
      },
      "text/plain": [
       "HBox(children=(FloatProgress(value=0.0, layout=Layout(flex='2'), max=711.0), HTML(value='')), layout=Layout(di…"
      ]
     },
     "metadata": {},
     "output_type": "display_data"
    },
    {
     "name": "stdout",
     "output_type": "stream",
     "text": [
      "\n"
     ]
    },
    {
     "data": {
      "application/vnd.jupyter.widget-view+json": {
       "model_id": "091523f2792547ff90782794c63714f7",
       "version_major": 2,
       "version_minor": 0
      },
      "text/plain": [
       "HBox(children=(FloatProgress(value=0.0, layout=Layout(flex='2'), max=146.0), HTML(value='')), layout=Layout(di…"
      ]
     },
     "metadata": {},
     "output_type": "display_data"
    },
    {
     "name": "stdout",
     "output_type": "stream",
     "text": [
      "\n",
      "Lr now: 1e-05\n",
      "В------н--и--м---а---д--м---    ----оо-д-н--ии--м----,, => Внимадм одним,      , gt: Внимаем одним,      \n",
      "н---ее  --в--о-р--о--н-   ----с--тт---е-л----н---о---йй => не ворон стелной    , gt: не ворон степной    \n",
      "У-----------р-------а--------лл---ь----сс----к--------- => Уральск             , gt: Уральск             \n",
      "с----------------------------------------------------.. => с.                  , gt: с.                  \n",
      "Ш-----------------а--------лл---к-------аа------рр----- => Шалкар              , gt: Шалкар              \n"
     ]
    },
    {
     "data": {
      "application/vnd.jupyter.widget-view+json": {
       "model_id": "26eee7dfb1304d82aa937ab92ed447cc",
       "version_major": 2,
       "version_minor": 0
      },
      "text/plain": [
       "HBox(children=(FloatProgress(value=0.0, layout=Layout(flex='2'), max=711.0), HTML(value='')), layout=Layout(di…"
      ]
     },
     "metadata": {},
     "output_type": "display_data"
    },
    {
     "name": "stdout",
     "output_type": "stream",
     "text": [
      "\n"
     ]
    },
    {
     "data": {
      "application/vnd.jupyter.widget-view+json": {
       "model_id": "65a5be3d489d47e6943625cf70a4aeed",
       "version_major": 2,
       "version_minor": 0
      },
      "text/plain": [
       "HBox(children=(FloatProgress(value=0.0, layout=Layout(flex='2'), max=146.0), HTML(value='')), layout=Layout(di…"
      ]
     },
     "metadata": {},
     "output_type": "display_data"
    },
    {
     "name": "stdout",
     "output_type": "stream",
     "text": [
      "\n",
      "Lr now: 1e-05\n",
      "м----е-с--я--цц   ----м---ии--м---о--е-зз-ж----ии---й-, => месяц мимоезжий,    , gt: месяц мимоезжий,    \n",
      "к---------ррр------------уу-----пп--------------ууу---- => крупу               , gt: крупу               \n",
      "т---ее-р---з-а-лл-ии --ж-р--и-з-ш--ь   ---м---о--юю---… => терзали жризшь мою… , gt: терзали жизнь мою.. \n",
      "р----------------------------нн------оо-----е---------- => рное                , gt: родное              \n",
      "П-------у--тт-----ьь   -------уу---к---а----з---у----я- => Путь указуя         , gt: Путь указуя         \n"
     ]
    },
    {
     "data": {
      "application/vnd.jupyter.widget-view+json": {
       "model_id": "c71201c533bd42fab4edf634e3d99c80",
       "version_major": 2,
       "version_minor": 0
      },
      "text/plain": [
       "HBox(children=(FloatProgress(value=0.0, layout=Layout(flex='2'), max=711.0), HTML(value='')), layout=Layout(di…"
      ]
     },
     "metadata": {},
     "output_type": "display_data"
    },
    {
     "name": "stdout",
     "output_type": "stream",
     "text": [
      "\n"
     ]
    },
    {
     "data": {
      "application/vnd.jupyter.widget-view+json": {
       "model_id": "d1e903cf80ee49659f9433bf5eed13db",
       "version_major": 2,
       "version_minor": 0
      },
      "text/plain": [
       "HBox(children=(FloatProgress(value=0.0, layout=Layout(flex='2'), max=146.0), HTML(value='')), layout=Layout(di…"
      ]
     },
     "metadata": {},
     "output_type": "display_data"
    },
    {
     "name": "stdout",
     "output_type": "stream",
     "text": [
      "\n",
      "Lr now: 1e-05\n",
      "Я---  --с--л--о-н---я--л--с-яя  ---в    -с-т-ее-п--яя-х => Я слонялся в степях , gt: Я слонялся в степях \n",
      "Б----------е-----сс----т------------о------б-------е--- => Бестобе             , gt: Бестобе             \n",
      "д---------жжж--------иии-----г--------иии-----т------!- => джигит!             , gt: джигит!             \n",
      "н-------а---дд---   ------м------ие---чч--е-----м------ => над миечем          , gt: над мечом           \n",
      "н----е-   ----н-----а----г---лл---яя---дд---я---с-ьь--. => не наглядясь.       , gt: не наглядясь.       \n"
     ]
    },
    {
     "data": {
      "application/vnd.jupyter.widget-view+json": {
       "model_id": "79cd6c03653d4bb9bf39faa6701e8098",
       "version_major": 2,
       "version_minor": 0
      },
      "text/plain": [
       "HBox(children=(FloatProgress(value=0.0, layout=Layout(flex='2'), max=711.0), HTML(value='')), layout=Layout(di…"
      ]
     },
     "metadata": {},
     "output_type": "display_data"
    },
    {
     "name": "stdout",
     "output_type": "stream",
     "text": [
      "\n"
     ]
    },
    {
     "data": {
      "application/vnd.jupyter.widget-view+json": {
       "model_id": "26f3ee1d2ad645bd9fd1e919d5e59388",
       "version_major": 2,
       "version_minor": 0
      },
      "text/plain": [
       "HBox(children=(FloatProgress(value=0.0, layout=Layout(flex='2'), max=146.0), HTML(value='')), layout=Layout(di…"
      ]
     },
     "metadata": {},
     "output_type": "display_data"
    },
    {
     "name": "stdout",
     "output_type": "stream",
     "text": [
      "\n",
      "Lr now: 1e-05\n",
      "К---------а-----зз--а-----хх--сс---тт------а------н---- => Казахстан           , gt: Казахстан           \n",
      "с----в---о--й-   -----сс--о--в--ее--р---ш------иии--т-- => свой совершит       , gt: свой совершит       \n",
      "Т--------------уу---р----к---ее--сс--тт-----а----н----- => Туркестан           , gt: Туркестан           \n",
      "К----оо--н--ь-   ----------д---о---гг-оо--н----ии--тт-- => Конь догонит        , gt: Конь догонит        \n",
      "У-----ж-р---  ----н--е-  ----н---ее-чч--т----и---т----. => Ужр не нечтит.      , gt: Уж не мечтать       \n"
     ]
    },
    {
     "data": {
      "application/vnd.jupyter.widget-view+json": {
       "model_id": "b068e385c47c43dea642df35a1f09032",
       "version_major": 2,
       "version_minor": 0
      },
      "text/plain": [
       "HBox(children=(FloatProgress(value=0.0, layout=Layout(flex='2'), max=711.0), HTML(value='')), layout=Layout(di…"
      ]
     },
     "metadata": {},
     "output_type": "display_data"
    },
    {
     "name": "stdout",
     "output_type": "stream",
     "text": [
      "\n"
     ]
    },
    {
     "data": {
      "application/vnd.jupyter.widget-view+json": {
       "model_id": "130ae8ea1bed49a7ad8cc80107fe43ab",
       "version_major": 2,
       "version_minor": 0
      },
      "text/plain": [
       "HBox(children=(FloatProgress(value=0.0, layout=Layout(flex='2'), max=146.0), HTML(value='')), layout=Layout(di…"
      ]
     },
     "metadata": {},
     "output_type": "display_data"
    },
    {
     "name": "stdout",
     "output_type": "stream",
     "text": [
      "\n",
      "Lr now: 1e-05\n",
      "А----------------к-----тт------------аа-------------уу- => Актау               , gt: Актау               \n",
      "М---------------о--л-----д----аа-----вв---ии---------я- => Молдавия            , gt: Молдавия            \n",
      "П-----------аа----в------лл---оо-----д------а-----р---- => Павлодар            , gt: Павлодар            \n",
      "С----------т--------рр-------а-------нн--------аа------ => Страна              , gt: Страна              \n",
      "о----   ---------жж--------иии----з---н----иии------?-- => о жизни?            , gt: о жизни?            \n"
     ]
    },
    {
     "data": {
      "application/vnd.jupyter.widget-view+json": {
       "model_id": "3741955d15974c828c7fa7570a02e697",
       "version_major": 2,
       "version_minor": 0
      },
      "text/plain": [
       "HBox(children=(FloatProgress(value=0.0, layout=Layout(flex='2'), max=711.0), HTML(value='')), layout=Layout(di…"
      ]
     },
     "metadata": {},
     "output_type": "display_data"
    },
    {
     "name": "stdout",
     "output_type": "stream",
     "text": [
      "\n"
     ]
    },
    {
     "data": {
      "application/vnd.jupyter.widget-view+json": {
       "model_id": "37e81c3d14d64086bcb6e84eed29b70c",
       "version_major": 2,
       "version_minor": 0
      },
      "text/plain": [
       "HBox(children=(FloatProgress(value=0.0, layout=Layout(flex='2'), max=146.0), HTML(value='')), layout=Layout(di…"
      ]
     },
     "metadata": {},
     "output_type": "display_data"
    },
    {
     "name": "stdout",
     "output_type": "stream",
     "text": [
      "\n",
      "Lr now: 1e-05\n",
      "Г-----------у-------ллл---ь------шшш----г---а------т--- => Гульшгат            , gt: Гульшат             \n",
      "Д----рр--е--м---лл--я-   ---с--м----о---л--к--н---у--я- => Дремля смолкнуя     , gt: Дремля смолкнул     \n",
      "А------------лл-------я--------а-------тт-----------ы-- => Аляаты              , gt: Алматы              \n",
      "с-----м----е-----юю--т--с--яя-  ---сс-  ---в--о--з----у => смеются с возу      , gt: смеются с возу      \n",
      "А--------сс-----тт----------а-------н----------а------- => Астана              , gt: Астана              \n"
     ]
    },
    {
     "data": {
      "application/vnd.jupyter.widget-view+json": {
       "model_id": "9f3f093c48ec45d885d3ccb3564661a2",
       "version_major": 2,
       "version_minor": 0
      },
      "text/plain": [
       "HBox(children=(FloatProgress(value=0.0, layout=Layout(flex='2'), max=711.0), HTML(value='')), layout=Layout(di…"
      ]
     },
     "metadata": {},
     "output_type": "display_data"
    },
    {
     "name": "stdout",
     "output_type": "stream",
     "text": [
      "\n"
     ]
    },
    {
     "data": {
      "application/vnd.jupyter.widget-view+json": {
       "model_id": "9e7fca2228304441986f5f03df08bd39",
       "version_major": 2,
       "version_minor": 0
      },
      "text/plain": [
       "HBox(children=(FloatProgress(value=0.0, layout=Layout(flex='2'), max=146.0), HTML(value='')), layout=Layout(di…"
      ]
     },
     "metadata": {},
     "output_type": "display_data"
    },
    {
     "name": "stdout",
     "output_type": "stream",
     "text": [
      "\n",
      "Lr now: 1e-05\n",
      "Ш------е----л--  ---------сс-т----е----п----ь-----юю--, => Шел степью,         , gt: Шёл степью,         \n",
      "Б-------е---л-----о----рр------у--с---сс---иии-----яя-- => Белоруссия          , gt: Белоруссия          \n",
      "К---р--и-чч---и--тт--   --н---а--шш---  ---д---у--х---, => Кричит наш дух,     , gt: Кричит наш дух,     \n",
      "Н----------и-----  -----------------------к--------!--- => Ни к!               , gt: чем сон!            \n",
      "К------аа---н-----д---ы------а----гг---а-----шшш------- => Кандыагаш           , gt: Кандыагаш           \n"
     ]
    },
    {
     "data": {
      "application/vnd.jupyter.widget-view+json": {
       "model_id": "48b94e3f68fc4000a74f06e2499af8de",
       "version_major": 2,
       "version_minor": 0
      },
      "text/plain": [
       "HBox(children=(FloatProgress(value=0.0, layout=Layout(flex='2'), max=711.0), HTML(value='')), layout=Layout(di…"
      ]
     },
     "metadata": {},
     "output_type": "display_data"
    },
    {
     "name": "stdout",
     "output_type": "stream",
     "text": [
      "\n"
     ]
    },
    {
     "data": {
      "application/vnd.jupyter.widget-view+json": {
       "model_id": "b4498bfb529b4d9097b8ca019be9c85d",
       "version_major": 2,
       "version_minor": 0
      },
      "text/plain": [
       "HBox(children=(FloatProgress(value=0.0, layout=Layout(flex='2'), max=146.0), HTML(value='')), layout=Layout(di…"
      ]
     },
     "metadata": {},
     "output_type": "display_data"
    },
    {
     "name": "stdout",
     "output_type": "stream",
     "text": [
      "\n",
      "Lr now: 1e-05\n",
      "з-----в---у---е--  -----п----о-----е---т-----е--------; => звуе поете;         , gt: звук полетел;       \n",
      "Л----и-шш--ь-  -бб-ы-  --н--е  -п-р--о-с--т---ии-т---ь- => Лишь бы не простить , gt: Лишь бы не простить \n",
      "А----------й----р-----е---кк----е--  -------бб----ии--- => Айреке би           , gt: Айтеке би           \n",
      "О--н---ии-,, -п---р--ии--ж-----а---вв--ш--------ии-сс-ь => Они, прижавшись     , gt: Они, прижавшись     \n",
      "И-----------------шшш---------а-------к------аа-------. => Ишака.              , gt: Ишака.              \n"
     ]
    },
    {
     "data": {
      "application/vnd.jupyter.widget-view+json": {
       "model_id": "0f03667b7043461588d83cb44bc61edb",
       "version_major": 2,
       "version_minor": 0
      },
      "text/plain": [
       "HBox(children=(FloatProgress(value=0.0, layout=Layout(flex='2'), max=711.0), HTML(value='')), layout=Layout(di…"
      ]
     },
     "metadata": {},
     "output_type": "display_data"
    },
    {
     "name": "stdout",
     "output_type": "stream",
     "text": [
      "\n"
     ]
    },
    {
     "data": {
      "application/vnd.jupyter.widget-view+json": {
       "model_id": "038d39decad542f9adc108a4fc666eba",
       "version_major": 2,
       "version_minor": 0
      },
      "text/plain": [
       "HBox(children=(FloatProgress(value=0.0, layout=Layout(flex='2'), max=146.0), HTML(value='')), layout=Layout(di…"
      ]
     },
     "metadata": {},
     "output_type": "display_data"
    },
    {
     "name": "stdout",
     "output_type": "stream",
     "text": [
      "\n",
      "Lr now: 1e-05\n",
      "С---лл-е--дд--ии--тт   --п---о-рр---о--й--  ----з----а- => Следит порой за     , gt: Следит порой за     \n",
      "П-----а----в---лл--оо---дд---аа----р----сс-кк---а----я- => Павлодарская        , gt: Павлодарская        \n",
      "р--------------а-----------ш----------о------н--------- => рашон               , gt: раион               \n",
      "о---------т------  ----с----т----------а-----------лл-- => от стал             , gt: от стал             \n",
      "и---  -----о--сс-к--а----т--и----в--   ---п--а-----тт-ь => и оскатив пать      , gt: и оскалив пасть     \n"
     ]
    },
    {
     "data": {
      "application/vnd.jupyter.widget-view+json": {
       "model_id": "bd8f86fedcba4d418c0ace978be8f54d",
       "version_major": 2,
       "version_minor": 0
      },
      "text/plain": [
       "HBox(children=(FloatProgress(value=0.0, layout=Layout(flex='2'), max=711.0), HTML(value='')), layout=Layout(di…"
      ]
     },
     "metadata": {},
     "output_type": "display_data"
    },
    {
     "name": "stdout",
     "output_type": "stream",
     "text": [
      "\n"
     ]
    },
    {
     "data": {
      "application/vnd.jupyter.widget-view+json": {
       "model_id": "28c5c1c365fd46ff8b9650f6ea9e0e23",
       "version_major": 2,
       "version_minor": 0
      },
      "text/plain": [
       "HBox(children=(FloatProgress(value=0.0, layout=Layout(flex='2'), max=146.0), HTML(value='')), layout=Layout(di…"
      ]
     },
     "metadata": {},
     "output_type": "display_data"
    },
    {
     "name": "stdout",
     "output_type": "stream",
     "text": [
      "\n",
      "Lr now: 1e-05\n",
      "к-------------рр---------оо-------вв--------ь---------. => кровь.              , gt: кровь.              \n",
      "б---е--с--п---о--л-е--з-н---ы--   --м---о--л--ь--б--ы-- => бесполезны мольбы   , gt: бесполезны мольбы   \n",
      "В----   ---с--ы----р-----у-----ю-   -----н---оо--ч---ьь => В сырую ночь        , gt: В сырую ночь        \n",
      "А-------тт-----ыы----р---а-----у--сс---к-----а------я-- => Атырауская          , gt: Атырауская          \n",
      "Т--------ее-----м----------иии--------р---------------- => Темир               , gt: Темир               \n"
     ]
    },
    {
     "data": {
      "application/vnd.jupyter.widget-view+json": {
       "model_id": "2166e0a8fa0444a1a2750c8e7412b1d5",
       "version_major": 2,
       "version_minor": 0
      },
      "text/plain": [
       "HBox(children=(FloatProgress(value=0.0, layout=Layout(flex='2'), max=711.0), HTML(value='')), layout=Layout(di…"
      ]
     },
     "metadata": {},
     "output_type": "display_data"
    },
    {
     "name": "stdout",
     "output_type": "stream",
     "text": [
      "\n"
     ]
    },
    {
     "data": {
      "application/vnd.jupyter.widget-view+json": {
       "model_id": "0d33b11a4b0c424890dfe53727b19a3e",
       "version_major": 2,
       "version_minor": 0
      },
      "text/plain": [
       "HBox(children=(FloatProgress(value=0.0, layout=Layout(flex='2'), max=146.0), HTML(value='')), layout=Layout(di…"
      ]
     },
     "metadata": {},
     "output_type": "display_data"
    },
    {
     "name": "stdout",
     "output_type": "stream",
     "text": [
      "\n",
      "Lr now: 1e-05\n",
      "К----а--рр---а--г--аа--н---д--ииии-нн-ссс-к-----а----я- => Карагандинская      , gt: Карагандинская      \n",
      "Н----о   --ч---т-ь   --н--а---м---  ---д-е--лл--а---т-ь => Но чть нам делать   , gt: Но что нам делать   \n",
      "з---ее---л-ее--н----е--е--тт-----   ------е---лл--ь---, => зеленеет ель,       , gt: зеленеет ель,       \n",
      "Т----------------аа-------рр----------аа------------з-- => Тараз               , gt: Тараз               \n",
      "Ю-------ж---нн--а----яя-   -------О--с-ее--т-----ии--я- => Южная Осетия        , gt: Южная Осетия        \n"
     ]
    },
    {
     "data": {
      "application/vnd.jupyter.widget-view+json": {
       "model_id": "24160a0c1a224c848a69e88ee362344d",
       "version_major": 2,
       "version_minor": 0
      },
      "text/plain": [
       "HBox(children=(FloatProgress(value=0.0, layout=Layout(flex='2'), max=711.0), HTML(value='')), layout=Layout(di…"
      ]
     },
     "metadata": {},
     "output_type": "display_data"
    },
    {
     "name": "stdout",
     "output_type": "stream",
     "text": [
      "\n"
     ]
    },
    {
     "data": {
      "application/vnd.jupyter.widget-view+json": {
       "model_id": "4847e35b1e7a40938216cf26e87e6d4c",
       "version_major": 2,
       "version_minor": 0
      },
      "text/plain": [
       "HBox(children=(FloatProgress(value=0.0, layout=Layout(flex='2'), max=146.0), HTML(value='')), layout=Layout(di…"
      ]
     },
     "metadata": {},
     "output_type": "display_data"
    },
    {
     "name": "stdout",
     "output_type": "stream",
     "text": [
      "\n",
      "Lr now: 1e-05\n",
      "У-------з---б--ее--кк----ии----с---тт------аа-----нн--- => Узбекистан          , gt: Узбекистан          \n",
      "я--   --о-з--и--рр--а--л-  --п--о---л---м--ии--рр--а--, => я озирал полмира,   , gt: я озирал полмира,   \n",
      "Ю----жж--нн--оо----К--а-з-аа--х-с-т---аа--н--сскк--а--я => Южно-Казахстанская  , gt: Южно-Казахстанская  \n",
      "з-----в--у--к--   -------п---о---л-ее--т-----е--лл----; => звук полетел;       , gt: звук полетел;       \n",
      "о--------------п-------------яя---------тт-------ьь---- => опять               , gt: опять               \n"
     ]
    },
    {
     "data": {
      "application/vnd.jupyter.widget-view+json": {
       "model_id": "6cd1daa0022049f9a1aa51b1930656e7",
       "version_major": 2,
       "version_minor": 0
      },
      "text/plain": [
       "HBox(children=(FloatProgress(value=0.0, layout=Layout(flex='2'), max=711.0), HTML(value='')), layout=Layout(di…"
      ]
     },
     "metadata": {},
     "output_type": "display_data"
    },
    {
     "name": "stdout",
     "output_type": "stream",
     "text": [
      "\n"
     ]
    },
    {
     "data": {
      "application/vnd.jupyter.widget-view+json": {
       "model_id": "551aff277d5a484aabf58690ee216ab4",
       "version_major": 2,
       "version_minor": 0
      },
      "text/plain": [
       "HBox(children=(FloatProgress(value=0.0, layout=Layout(flex='2'), max=146.0), HTML(value='')), layout=Layout(di…"
      ]
     },
     "metadata": {},
     "output_type": "display_data"
    },
    {
     "name": "stdout",
     "output_type": "stream",
     "text": [
      "\n",
      "Lr now: 1e-05\n",
      "П------а---в---лл---о----дд--а----рр---сс-ккк--аа---яя- => Павлодарская        , gt: Павлодарская        \n",
      "С--------------------е--------------л-------------о---- => Село                , gt: Село                \n",
      "П-------------а----вв-----лл-----оо----дд---а-----рр--- => Павлодар            , gt: Павлодар            \n",
      "К----о---м-----уу--??   ----Л-----ю--б--оо---м------у-- => Кому? Любому        , gt: Кому? Любому,       \n",
      "У----с-т---ь----КК--а-с--мм---е--н---оо-г--ео-рр--с--к- => Усть-Касменогеорск  , gt: Усть-Каменогорск    \n"
     ]
    },
    {
     "data": {
      "application/vnd.jupyter.widget-view+json": {
       "model_id": "6118e81977ed4202915122238601601e",
       "version_major": 2,
       "version_minor": 0
      },
      "text/plain": [
       "HBox(children=(FloatProgress(value=0.0, layout=Layout(flex='2'), max=711.0), HTML(value='')), layout=Layout(di…"
      ]
     },
     "metadata": {},
     "output_type": "display_data"
    },
    {
     "name": "stdout",
     "output_type": "stream",
     "text": [
      "\n"
     ]
    },
    {
     "data": {
      "application/vnd.jupyter.widget-view+json": {
       "model_id": "af55d2c832034321bcd3ef156666f7dc",
       "version_major": 2,
       "version_minor": 0
      },
      "text/plain": [
       "HBox(children=(FloatProgress(value=0.0, layout=Layout(flex='2'), max=146.0), HTML(value='')), layout=Layout(di…"
      ]
     },
     "metadata": {},
     "output_type": "display_data"
    },
    {
     "name": "stdout",
     "output_type": "stream",
     "text": [
      "\n",
      "Lr now: 1e-05\n",
      "п----------о----ггггг-----оо-------дд----а-----------,, => погода,             , gt: погода,             \n",
      "Ю----жжж--н-о------КК--аазз-а--х-сс-т---а--н-сс-к-аа-яя => Южно-Казахстанская  , gt: Южно-Казахстанская  \n",
      "У----с--т----ьь---------К-а---м--ее--н--о-гг-о--р--с-кк => Усть-Каменогорск    , gt: Усть-Каменогорск    \n",
      "Ш-------------ыы--------м------кк-----е---н--------т--- => Шымкент             , gt: Шымкент             \n",
      "н---а-  -т----у-мм--а--н---н--ы---х--  --г-о-рр--а--х-- => на туманных горах   , gt: на туманных горах   \n"
     ]
    },
    {
     "data": {
      "application/vnd.jupyter.widget-view+json": {
       "model_id": "0cd64da12e104ceeb6c04993205e077d",
       "version_major": 2,
       "version_minor": 0
      },
      "text/plain": [
       "HBox(children=(FloatProgress(value=0.0, layout=Layout(flex='2'), max=711.0), HTML(value='')), layout=Layout(di…"
      ]
     },
     "metadata": {},
     "output_type": "display_data"
    },
    {
     "name": "stdout",
     "output_type": "stream",
     "text": [
      "\n"
     ]
    },
    {
     "data": {
      "application/vnd.jupyter.widget-view+json": {
       "model_id": "60d0b638d95d42448fb7c574444f4108",
       "version_major": 2,
       "version_minor": 0
      },
      "text/plain": [
       "HBox(children=(FloatProgress(value=0.0, layout=Layout(flex='2'), max=146.0), HTML(value='')), layout=Layout(di…"
      ]
     },
     "metadata": {},
     "output_type": "display_data"
    },
    {
     "name": "stdout",
     "output_type": "stream",
     "text": [
      "\n",
      "Lr now: 1e-05\n",
      "З------------------л---------о--------------я---------- => Злоя                , gt: Злые                \n",
      "С---е-ввее-р--о-----КК-а-з-аа-х--с-т---а--нн-сскк--а--я => Северо-Казахстанская, gt: Северо-Казахстанская\n",
      "Ш-----------------аа--------лл-----к------а------р----- => Шалкар              , gt: Шалкар              \n",
      "К------О---С----Т----А---Н----А---Й----С---К----А----Я- => КОСТАНАЙСКАЯ        , gt: КОСТАНАЙСКАЯ        \n",
      "к---а---ч---а----я-   -----к---о--л-ыы----б--е---л--ь-. => качая колыбель.     , gt: качая колыбель.     \n"
     ]
    },
    {
     "data": {
      "application/vnd.jupyter.widget-view+json": {
       "model_id": "b5b439b2788549f6a44ea41e25f98630",
       "version_major": 2,
       "version_minor": 0
      },
      "text/plain": [
       "HBox(children=(FloatProgress(value=0.0, layout=Layout(flex='2'), max=711.0), HTML(value='')), layout=Layout(di…"
      ]
     },
     "metadata": {},
     "output_type": "display_data"
    },
    {
     "name": "stdout",
     "output_type": "stream",
     "text": [
      "\n"
     ]
    },
    {
     "data": {
      "application/vnd.jupyter.widget-view+json": {
       "model_id": "d4c7b04c823b45e0ad798eea177b3ac6",
       "version_major": 2,
       "version_minor": 0
      },
      "text/plain": [
       "HBox(children=(FloatProgress(value=0.0, layout=Layout(flex='2'), max=146.0), HTML(value='')), layout=Layout(di…"
      ]
     },
     "metadata": {},
     "output_type": "display_data"
    },
    {
     "name": "stdout",
     "output_type": "stream",
     "text": [
      "\n",
      "Lr now: 1e-05\n",
      "т--еерр-е---ш---е--л- --н--о---  ----и--в--ы----о--о--- => терешел но ивыоо    , gt: терешел на шепот    \n",
      "А------------бб----хх----а--------з-------иии--------я- => Абхазия             , gt: Абхазия             \n",
      "Н----------а---   ------гг--рр-------уу-----дд-----ии-- => На груди            , gt: На груди            \n",
      "и------------зз-  -----н----------ее----гг--------оо--- => из него             , gt: из него             \n",
      "В-------ео---нн-о--й----,,  ---в--о---л----ии---н---у-, => Веоной, волину,     , gt: Верней, волчицу,    \n"
     ]
    },
    {
     "data": {
      "application/vnd.jupyter.widget-view+json": {
       "model_id": "4d31c54df606470583498ea7c36cd4e9",
       "version_major": 2,
       "version_minor": 0
      },
      "text/plain": [
       "HBox(children=(FloatProgress(value=0.0, layout=Layout(flex='2'), max=711.0), HTML(value='')), layout=Layout(di…"
      ]
     },
     "metadata": {},
     "output_type": "display_data"
    },
    {
     "name": "stdout",
     "output_type": "stream",
     "text": [
      "\n"
     ]
    },
    {
     "data": {
      "application/vnd.jupyter.widget-view+json": {
       "model_id": "71fa6c85e3a8416097245ecf823d4736",
       "version_major": 2,
       "version_minor": 0
      },
      "text/plain": [
       "HBox(children=(FloatProgress(value=0.0, layout=Layout(flex='2'), max=146.0), HTML(value='')), layout=Layout(di…"
      ]
     },
     "metadata": {},
     "output_type": "display_data"
    },
    {
     "name": "stdout",
     "output_type": "stream",
     "text": [
      "\n",
      "Lr now: 1e-05\n",
      "п----р--ее--д-  -----а---н----а-----л---о--ее---м-----, => пред аналоем,       , gt: пред аналоем,       \n",
      "Т--оо-л-ь----ю--  --в--ерр-стт-ы-  -п--о--л-о-сс-а--тыы => Толью версты полосаты, gt: Только версты полосаты\n",
      "Ш---------ё----л---  ------с---н----е---п----ь------о-, => Шёл снепьо,         , gt: Шёл степью,         \n",
      "У----------к------рр------а---------иии---нн-------а--- => Украина             , gt: Украина             \n",
      "А----------т-----------ыы--------р-------аа---------уу- => Атырау              , gt: Атырау              \n"
     ]
    },
    {
     "data": {
      "application/vnd.jupyter.widget-view+json": {
       "model_id": "2fa7579b77b74c53928ec99194d4db65",
       "version_major": 2,
       "version_minor": 0
      },
      "text/plain": [
       "HBox(children=(FloatProgress(value=0.0, layout=Layout(flex='2'), max=711.0), HTML(value='')), layout=Layout(di…"
      ]
     },
     "metadata": {},
     "output_type": "display_data"
    },
    {
     "name": "stdout",
     "output_type": "stream",
     "text": [
      "\n"
     ]
    },
    {
     "data": {
      "application/vnd.jupyter.widget-view+json": {
       "model_id": "1d1a63d457854656ab8ef9a7b9d0e42b",
       "version_major": 2,
       "version_minor": 0
      },
      "text/plain": [
       "HBox(children=(FloatProgress(value=0.0, layout=Layout(flex='2'), max=146.0), HTML(value='')), layout=Layout(di…"
      ]
     },
     "metadata": {},
     "output_type": "display_data"
    },
    {
     "name": "stdout",
     "output_type": "stream",
     "text": [
      "\n",
      "Lr now: 1e-05\n",
      "к-  -мм--а---м--е-,,  -жж---а--д-н--о    ---п--и--л--ии => к маме, жадно пили  , gt: к маме, жадно пили  \n",
      "г--дд--е--  --------в--ы----л-  ----п--о--ж--с--а---р-- => где выл пожсар      , gt: где выл пожар       \n",
      "ч-----уу-ж------д--ы----х--   --сс--н---о-гг--о---вв--, => чуждых сногов,      , gt: чуждых снегов;      \n",
      "Т---в---а---р---ьь  --сс--к----о--л-----з--к---аа----я- => Тварь сколзкая      , gt: Тварь скользкая     \n",
      "в---------с---е--   ---------з---в------у---к----и----, => все звуки,          , gt: все звуки,          \n"
     ]
    },
    {
     "data": {
      "application/vnd.jupyter.widget-view+json": {
       "model_id": "ebf45d18324c40c9a614ff294c42eafd",
       "version_major": 2,
       "version_minor": 0
      },
      "text/plain": [
       "HBox(children=(FloatProgress(value=0.0, layout=Layout(flex='2'), max=711.0), HTML(value='')), layout=Layout(di…"
      ]
     },
     "metadata": {},
     "output_type": "display_data"
    },
    {
     "name": "stdout",
     "output_type": "stream",
     "text": [
      "\n"
     ]
    },
    {
     "data": {
      "application/vnd.jupyter.widget-view+json": {
       "model_id": "d8119a29f745451988d65287d2a2917d",
       "version_major": 2,
       "version_minor": 0
      },
      "text/plain": [
       "HBox(children=(FloatProgress(value=0.0, layout=Layout(flex='2'), max=146.0), HTML(value='')), layout=Layout(di…"
      ]
     },
     "metadata": {},
     "output_type": "display_data"
    },
    {
     "name": "stdout",
     "output_type": "stream",
     "text": [
      "\n",
      "Lr now: 1e-05\n",
      "Т--------а--------к----   ---------вв---ее-----к------- => Так век             , gt: Так век             \n",
      "Ч--тоо- -м---е--нн----йй-  --в-сс-к-о--з--м----и--к--а- => Что менй вскозмика  , gt: что меня вскормила  \n",
      "А-----------л-----мм--------а-------тт-----------ы----- => Алматы              , gt: Алматы              \n",
      "В----  ---о--тт----д--е---лл--ь---н---о--с--т-----и---, => В отдельности,      , gt: В отдельности,      \n",
      "П-------ее--т----рр--о---п---а---вв---л---о--вв--сс-к-- => Петропавловск       , gt: Петропавловск       \n"
     ]
    },
    {
     "data": {
      "application/vnd.jupyter.widget-view+json": {
       "model_id": "c012286024ef46a48189afed9ddd4c9b",
       "version_major": 2,
       "version_minor": 0
      },
      "text/plain": [
       "HBox(children=(FloatProgress(value=0.0, layout=Layout(flex='2'), max=711.0), HTML(value='')), layout=Layout(di…"
      ]
     },
     "metadata": {},
     "output_type": "display_data"
    },
    {
     "name": "stdout",
     "output_type": "stream",
     "text": [
      "\n"
     ]
    },
    {
     "data": {
      "application/vnd.jupyter.widget-view+json": {
       "model_id": "2d02b961574545ee9e1bc5d5a4b8a8f5",
       "version_major": 2,
       "version_minor": 0
      },
      "text/plain": [
       "HBox(children=(FloatProgress(value=0.0, layout=Layout(flex='2'), max=146.0), HTML(value='')), layout=Layout(di…"
      ]
     },
     "metadata": {},
     "output_type": "display_data"
    },
    {
     "name": "stdout",
     "output_type": "stream",
     "text": [
      "\n",
      "Lr now: 1e-05\n",
      "б---------------ее------жж----------иии-------ттт------ => бежит               , gt: бежит               \n",
      "Е--------------------сс------------иии----------------- => Еси                 , gt: Есик                \n",
      "О---т--кк---и---нн----у---в-   ------л---а---п------ы-- => Откинув лапы        , gt: Откинув лапы        \n",
      "г-----р------ее----б-------у----тт---------   -----ии-- => гребут и            , gt: Гребут и            \n",
      "У-------р---------аа--------лл----ь-------с-----кк----- => Уральск             , gt: Уральск             \n",
      "Lr now: 1.0000000000000002e-06\n"
     ]
    },
    {
     "data": {
      "application/vnd.jupyter.widget-view+json": {
       "model_id": "ecf83c4c42ad4f159421ebe2a57b5e56",
       "version_major": 2,
       "version_minor": 0
      },
      "text/plain": [
       "HBox(children=(FloatProgress(value=0.0, layout=Layout(flex='2'), max=711.0), HTML(value='')), layout=Layout(di…"
      ]
     },
     "metadata": {},
     "output_type": "display_data"
    },
    {
     "name": "stdout",
     "output_type": "stream",
     "text": [
      "\n"
     ]
    },
    {
     "data": {
      "application/vnd.jupyter.widget-view+json": {
       "model_id": "a7651510b91a4c2f8dac3ca0868f4c8c",
       "version_major": 2,
       "version_minor": 0
      },
      "text/plain": [
       "HBox(children=(FloatProgress(value=0.0, layout=Layout(flex='2'), max=146.0), HTML(value='')), layout=Layout(di…"
      ]
     },
     "metadata": {},
     "output_type": "display_data"
    },
    {
     "name": "stdout",
     "output_type": "stream",
     "text": [
      "\n",
      "Lr now: 1.0000000000000002e-06\n",
      "К------а--р---а---гг-а---нн---дд--иии--н--сс-к---а---я- => Карагандинская      , gt: Карагандинская      \n",
      "Т-----ы--   ---о-тт---дд-а-лл-а--   ----сс--вв-оо----ю- => Ты отдала свою      , gt: Ты отдала свою      \n",
      "Д------а---лл-ее-к----о-   ---с-  ----м----о--рр----я-- => Далеко с моря       , gt: Далеко с моря       \n",
      "К--------о----к-----шш-------е-----т-------аа------уу-- => Кокшетау            , gt: Кокшетау            \n",
      "н---о -т----ы-  -нн-ее   --с-н--ии--з-о--шш---л--а----. => но ты не снизошла.  , gt: но ты не снизошла.  \n"
     ]
    },
    {
     "data": {
      "application/vnd.jupyter.widget-view+json": {
       "model_id": "87c4753dbf274234988f7db7e02ae7d8",
       "version_major": 2,
       "version_minor": 0
      },
      "text/plain": [
       "HBox(children=(FloatProgress(value=0.0, layout=Layout(flex='2'), max=711.0), HTML(value='')), layout=Layout(di…"
      ]
     },
     "metadata": {},
     "output_type": "display_data"
    },
    {
     "name": "stdout",
     "output_type": "stream",
     "text": [
      "\n"
     ]
    },
    {
     "data": {
      "application/vnd.jupyter.widget-view+json": {
       "model_id": "1ebda712a68347e6ba82cfab1f9889d4",
       "version_major": 2,
       "version_minor": 0
      },
      "text/plain": [
       "HBox(children=(FloatProgress(value=0.0, layout=Layout(flex='2'), max=146.0), HTML(value='')), layout=Layout(di…"
      ]
     },
     "metadata": {},
     "output_type": "display_data"
    },
    {
     "name": "stdout",
     "output_type": "stream",
     "text": [
      "\n",
      "Lr now: 1.0000000000000002e-06\n",
      "А-----------------к------т----------о------бб----ее---- => Актобе              , gt: Актобе              \n",
      "П-----А-----В-----Л----О------Д------------А-------Р--- => ПАВЛОДАР            , gt: ПАВЛОДАР            \n",
      "п-------о-------лл------я-----н---------ы-------------- => поляны              , gt: поляны              \n",
      "Н---о-   --п-о--кк-а--  ------м---н--е-  -----р---о--т- => Но пока мне рот     , gt: Но пока мне рот     \n",
      "К------рр--и--ч--иии--т---  -н--а---м------д---у---х--, => Кричит намдух,      , gt: Кричит наш дух,     \n"
     ]
    },
    {
     "data": {
      "application/vnd.jupyter.widget-view+json": {
       "model_id": "0e683a253c29437bbcf333286f68dd23",
       "version_major": 2,
       "version_minor": 0
      },
      "text/plain": [
       "HBox(children=(FloatProgress(value=0.0, layout=Layout(flex='2'), max=711.0), HTML(value='')), layout=Layout(di…"
      ]
     },
     "metadata": {},
     "output_type": "display_data"
    },
    {
     "name": "stdout",
     "output_type": "stream",
     "text": [
      "\n"
     ]
    },
    {
     "data": {
      "application/vnd.jupyter.widget-view+json": {
       "model_id": "8709114f1bcc412c97ebc7790c5738b9",
       "version_major": 2,
       "version_minor": 0
      },
      "text/plain": [
       "HBox(children=(FloatProgress(value=0.0, layout=Layout(flex='2'), max=146.0), HTML(value='')), layout=Layout(di…"
      ]
     },
     "metadata": {},
     "output_type": "display_data"
    },
    {
     "name": "stdout",
     "output_type": "stream",
     "text": [
      "\n",
      "Lr now: 1.0000000000000002e-06\n",
      "С------- ----тт---рр----уу---х-----о------йй-  ------и- => С трухой и          , gt: С трухой и          \n",
      "е-------ггг--о--  -------п-----ии----т---а----е---т---- => его питает          , gt: его питает          \n",
      "А---------тт---ыы----------р--------аа--------------у-- => Атырау              , gt: Атырау              \n",
      "Ш---------------ы---------мм-------к-----е---н-----т--- => Шымкент             , gt: Шымкент             \n",
      "р--------------о------б------нн---------ооо-----ее----- => робное              , gt: родное              \n"
     ]
    },
    {
     "data": {
      "application/vnd.jupyter.widget-view+json": {
       "model_id": "d8f89964ca25435aacf616fac418510c",
       "version_major": 2,
       "version_minor": 0
      },
      "text/plain": [
       "HBox(children=(FloatProgress(value=0.0, layout=Layout(flex='2'), max=711.0), HTML(value='')), layout=Layout(di…"
      ]
     },
     "metadata": {},
     "output_type": "display_data"
    },
    {
     "name": "stdout",
     "output_type": "stream",
     "text": [
      "\n"
     ]
    },
    {
     "data": {
      "application/vnd.jupyter.widget-view+json": {
       "model_id": "ecc0c2f7e9cb47ff9c4003139abf209e",
       "version_major": 2,
       "version_minor": 0
      },
      "text/plain": [
       "HBox(children=(FloatProgress(value=0.0, layout=Layout(flex='2'), max=146.0), HTML(value='')), layout=Layout(di…"
      ]
     },
     "metadata": {},
     "output_type": "display_data"
    },
    {
     "name": "stdout",
     "output_type": "stream",
     "text": [
      "\n",
      "Lr now: 1.0000000000000002e-06\n",
      "Ш-------------е------тт-----н--------с------а-----ййй-- => Шетнсай             , gt: Жетысай             \n",
      "Ш------------------------------------------------------ => Ш                   , gt: Шу                  \n",
      "п--ы---л-ь-  --с-  -н--и-и-х--  -кк-р--ы---лл-о--м----; => пыль с ниих крылом; , gt: пыль с них крылом;  \n",
      "п--------оо----б-----е------лл---е------лл------ии----, => побелели,           , gt: побелели,           \n",
      "И--------н-----д---е--рр--б--о---р----с--кк---ии----й-- => Индерборский        , gt: Индерборский        \n"
     ]
    },
    {
     "data": {
      "application/vnd.jupyter.widget-view+json": {
       "model_id": "def9464739b542c28e714cf619292f83",
       "version_major": 2,
       "version_minor": 0
      },
      "text/plain": [
       "HBox(children=(FloatProgress(value=0.0, layout=Layout(flex='2'), max=711.0), HTML(value='')), layout=Layout(di…"
      ]
     },
     "metadata": {},
     "output_type": "display_data"
    },
    {
     "name": "stdout",
     "output_type": "stream",
     "text": [
      "\n"
     ]
    },
    {
     "data": {
      "application/vnd.jupyter.widget-view+json": {
       "model_id": "014f206bcade4da4ae671f2ae9838a34",
       "version_major": 2,
       "version_minor": 0
      },
      "text/plain": [
       "HBox(children=(FloatProgress(value=0.0, layout=Layout(flex='2'), max=146.0), HTML(value='')), layout=Layout(di…"
      ]
     },
     "metadata": {},
     "output_type": "display_data"
    },
    {
     "name": "stdout",
     "output_type": "stream",
     "text": [
      "\n",
      "Lr now: 1.0000000000000002e-06\n",
      "К--------аа----п------ч------аа-----гг----ааа--------йй => Капчагай            , gt: Капчагай            \n",
      "Ж------а-----м----бб--ыы----л---ь--сс--кк----а------я-- => Жамбыльская         , gt: Жамбыльская         \n",
      "А-----кк----мм----о-----л----иии--н-----сс--к--а------я => Акмолинская         , gt: Акмолинская         \n",
      "ч--------а-------с----оо-------вв------а-----------я--- => часовая             , gt: часовая             \n",
      "н------ее-  ----ии---сс--н----ы----т---а--------я-----, => не иснытая,         , gt: не испытал,         \n"
     ]
    },
    {
     "data": {
      "application/vnd.jupyter.widget-view+json": {
       "model_id": "ad35344a7d1e485095ded7be83a77a48",
       "version_major": 2,
       "version_minor": 0
      },
      "text/plain": [
       "HBox(children=(FloatProgress(value=0.0, layout=Layout(flex='2'), max=711.0), HTML(value='')), layout=Layout(di…"
      ]
     },
     "metadata": {},
     "output_type": "display_data"
    },
    {
     "name": "stdout",
     "output_type": "stream",
     "text": [
      "\n"
     ]
    },
    {
     "data": {
      "application/vnd.jupyter.widget-view+json": {
       "model_id": "358f014b5b254f258b7ad863e85e34e7",
       "version_major": 2,
       "version_minor": 0
      },
      "text/plain": [
       "HBox(children=(FloatProgress(value=0.0, layout=Layout(flex='2'), max=146.0), HTML(value='')), layout=Layout(di…"
      ]
     },
     "metadata": {},
     "output_type": "display_data"
    },
    {
     "name": "stdout",
     "output_type": "stream",
     "text": [
      "\n",
      "Lr now: 1.0000000000000002e-06\n",
      "А------------сс-----тт-----------а--------н--------а--- => Астана              , gt: Астана              \n",
      "Ч------т--о--  -----м------и---р--   -----д----л----я-- => Что мир для         , gt: Что мир для         \n",
      "о-----бб----н-----иии----мм---------а-----е----тт------ => обнимает            , gt: обнимает            \n",
      "М-----------о--  --------ж----------ии-------в-----ы--- => Мо живы             , gt: Но живы             \n",
      "И-------,,,  ----д----о---к----у---ч----н-----ы-----х-- => И, докучных         , gt: И, докучных         \n"
     ]
    },
    {
     "data": {
      "application/vnd.jupyter.widget-view+json": {
       "model_id": "4c4da2a02f8247308de3f1aa33478dba",
       "version_major": 2,
       "version_minor": 0
      },
      "text/plain": [
       "HBox(children=(FloatProgress(value=0.0, layout=Layout(flex='2'), max=711.0), HTML(value='')), layout=Layout(di…"
      ]
     },
     "metadata": {},
     "output_type": "display_data"
    },
    {
     "name": "stdout",
     "output_type": "stream",
     "text": [
      "\n"
     ]
    },
    {
     "data": {
      "application/vnd.jupyter.widget-view+json": {
       "model_id": "14e4ff58032644969068d4e203a619e1",
       "version_major": 2,
       "version_minor": 0
      },
      "text/plain": [
       "HBox(children=(FloatProgress(value=0.0, layout=Layout(flex='2'), max=146.0), HTML(value='')), layout=Layout(di…"
      ]
     },
     "metadata": {},
     "output_type": "display_data"
    },
    {
     "name": "stdout",
     "output_type": "stream",
     "text": [
      "\n",
      "Lr now: 1.0000000000000002e-06\n",
      "Я---------   -----с-----тт----------а-----------лл----- => Я стал              , gt: Я стал              \n",
      "С-ее-в-ер--н--о----КК--а--з-аа--хс-тт---а-нн-сскк-а--я- => Северно-Казахстанская, gt: Северно-Казахстанская\n",
      "Г------------д---ее-  ------т---------а----н------к---- => Где танк            , gt: Где танк            \n",
      "А------------С--------Т--------А--------НН---------АА-- => АСТАНА              , gt: АСТАНА              \n",
      "б----у--дд----у--т-   ------м-----с-т---ии--т-----ь---. => будут мстить.       , gt: будут мстить.       \n"
     ]
    },
    {
     "data": {
      "application/vnd.jupyter.widget-view+json": {
       "model_id": "699a868ce0074fc7b5e23300dbb1f3f2",
       "version_major": 2,
       "version_minor": 0
      },
      "text/plain": [
       "HBox(children=(FloatProgress(value=0.0, layout=Layout(flex='2'), max=711.0), HTML(value='')), layout=Layout(di…"
      ]
     },
     "metadata": {},
     "output_type": "display_data"
    },
    {
     "name": "stdout",
     "output_type": "stream",
     "text": [
      "\n"
     ]
    },
    {
     "data": {
      "application/vnd.jupyter.widget-view+json": {
       "model_id": "1cb1523540914c47b57d6e20c4496b9e",
       "version_major": 2,
       "version_minor": 0
      },
      "text/plain": [
       "HBox(children=(FloatProgress(value=0.0, layout=Layout(flex='2'), max=146.0), HTML(value='')), layout=Layout(di…"
      ]
     },
     "metadata": {},
     "output_type": "display_data"
    },
    {
     "name": "stdout",
     "output_type": "stream",
     "text": [
      "\n",
      "Lr now: 1.0000000000000002e-06\n",
      "о--т----   ---сс--т----р---а----д--аа---н----ь---л----, => от страданьл,       , gt: от страданья,       \n",
      "м------о-рр-----я--к----у-,,  -г----о-рр-----яя--т----- => моряку, горят       , gt: моряку, горят.      \n",
      "т---------вв--о-----йй-  --с---ии----н------ии------йй, => твой синий,         , gt: твой синий,         \n",
      "У--с--т----ь-----КК-а----мм--е--н---ы-----о--р---сс--к- => Усть-Каменыорск     , gt: Усть-Каменогорск    \n",
      "Д------рр------у--г--  -------д-----р-------у---гг--у-- => Друг другу          , gt: Друг другу          \n"
     ]
    },
    {
     "data": {
      "application/vnd.jupyter.widget-view+json": {
       "model_id": "e382293e71334b85a318ce02364fb32c",
       "version_major": 2,
       "version_minor": 0
      },
      "text/plain": [
       "HBox(children=(FloatProgress(value=0.0, layout=Layout(flex='2'), max=711.0), HTML(value='')), layout=Layout(di…"
      ]
     },
     "metadata": {},
     "output_type": "display_data"
    },
    {
     "name": "stdout",
     "output_type": "stream",
     "text": [
      "\n"
     ]
    },
    {
     "data": {
      "application/vnd.jupyter.widget-view+json": {
       "model_id": "a9bf228504924073ab4e81e7d3eefb68",
       "version_major": 2,
       "version_minor": 0
      },
      "text/plain": [
       "HBox(children=(FloatProgress(value=0.0, layout=Layout(flex='2'), max=146.0), HTML(value='')), layout=Layout(di…"
      ]
     },
     "metadata": {},
     "output_type": "display_data"
    },
    {
     "name": "stdout",
     "output_type": "stream",
     "text": [
      "\n",
      "Lr now: 1.0000000000000002e-06\n",
      "А-------л----мм----а---тт-----ии--н---сс--к---аа----я-- => Алматинская         , gt: Алматинская         \n",
      "н---е-  ---з--н--а----я-  ---о-  ---л----ю--б--в--и---, => не зная о любви,    , gt: не зная о любви,    \n",
      "с-----------в-------оо--------------юю----------------… => свою…               , gt: свою…               \n",
      "П--р---о---ш--л--о--   -------п----я---ь-   ----л-е-т-, => Прошло пяь лет,     , gt: Прошло пять лет,    \n",
      "К---------о-----с---тт---------аа----н------аа-------й- => Костанай            , gt: Костанай            \n"
     ]
    },
    {
     "data": {
      "application/vnd.jupyter.widget-view+json": {
       "model_id": "9dd0e6ce462a4a8f90aec212b3fc9afd",
       "version_major": 2,
       "version_minor": 0
      },
      "text/plain": [
       "HBox(children=(FloatProgress(value=0.0, layout=Layout(flex='2'), max=711.0), HTML(value='')), layout=Layout(di…"
      ]
     },
     "metadata": {},
     "output_type": "display_data"
    },
    {
     "name": "stdout",
     "output_type": "stream",
     "text": [
      "\n"
     ]
    },
    {
     "data": {
      "application/vnd.jupyter.widget-view+json": {
       "model_id": "b4f9d724f29b46708b5477add63aec24",
       "version_major": 2,
       "version_minor": 0
      },
      "text/plain": [
       "HBox(children=(FloatProgress(value=0.0, layout=Layout(flex='2'), max=146.0), HTML(value='')), layout=Layout(di…"
      ]
     },
     "metadata": {},
     "output_type": "display_data"
    },
    {
     "name": "stdout",
     "output_type": "stream",
     "text": [
      "\n",
      "Lr now: 1.0000000000000002e-06\n",
      "А-----к---т------ю----б-----и----н---ссс--кк---а-----яя => Актюбинская         , gt: Актюбинская         \n",
      "с-----т--рр--------ее------н--------о---з------ыы------ => стренозы            , gt: стрекозы            \n",
      "А-------Л---М-------А---Т---И----Н-----С--К-----А----Я- => АЛМАТИНСКАЯ         , gt: АЛМАТИНСКАЯ         \n",
      "В----  ---с--ы----р------у----ю-   ------н----о--чч--ь- => В сырую ночь        , gt: в сырую ночь        \n",
      "Д---и--н-о-г-о--з--в-ерр--яя   ---в-  к---е--т---к--у-, => Диногозверя в кетку,, gt: Дикого зверя в клетку,\n"
     ]
    },
    {
     "data": {
      "application/vnd.jupyter.widget-view+json": {
       "model_id": "12ffbdd4c1434001bf41a833bbc85aed",
       "version_major": 2,
       "version_minor": 0
      },
      "text/plain": [
       "HBox(children=(FloatProgress(value=0.0, layout=Layout(flex='2'), max=711.0), HTML(value='')), layout=Layout(di…"
      ]
     },
     "metadata": {},
     "output_type": "display_data"
    },
    {
     "name": "stdout",
     "output_type": "stream",
     "text": [
      "\n"
     ]
    },
    {
     "data": {
      "application/vnd.jupyter.widget-view+json": {
       "model_id": "e8f9bd4407ff40ffb5d8b438787006a8",
       "version_major": 2,
       "version_minor": 0
      },
      "text/plain": [
       "HBox(children=(FloatProgress(value=0.0, layout=Layout(flex='2'), max=146.0), HTML(value='')), layout=Layout(di…"
      ]
     },
     "metadata": {},
     "output_type": "display_data"
    },
    {
     "name": "stdout",
     "output_type": "stream",
     "text": [
      "\n",
      "Lr now: 1.0000000000000002e-06\n",
      "в--------лл--------ююю----бб-----лл------ё-------н----- => влюблён             , gt: влюблён             \n",
      "о-  ---п--о-д--в--и--г-а--хх--,,  ---о  -с-лл-аа---в-е- => о подвигах, о славе , gt: о подвигах, о славе \n",
      "З----ее--мм----л----я-  ---д--у--шш----и---сс--т----а-- => Земля душиста       , gt: Земля душиста       \n",
      "Ж------а----мм------б---ы----лл----с---кк----а-------я- => Жамбылская          , gt: Жамбылская          \n",
      "Ш--------е----л-   ---ч---е----л----о---в---е---к-----. => Шел человек.        , gt: Шел человек.        \n"
     ]
    },
    {
     "data": {
      "application/vnd.jupyter.widget-view+json": {
       "model_id": "864ce77682ed4bc380c77c03a9696ebc",
       "version_major": 2,
       "version_minor": 0
      },
      "text/plain": [
       "HBox(children=(FloatProgress(value=0.0, layout=Layout(flex='2'), max=711.0), HTML(value='')), layout=Layout(di…"
      ]
     },
     "metadata": {},
     "output_type": "display_data"
    },
    {
     "name": "stdout",
     "output_type": "stream",
     "text": [
      "\n"
     ]
    },
    {
     "data": {
      "application/vnd.jupyter.widget-view+json": {
       "model_id": "100cdee8a95d487c97bb55ef81e8bd8d",
       "version_major": 2,
       "version_minor": 0
      },
      "text/plain": [
       "HBox(children=(FloatProgress(value=0.0, layout=Layout(flex='2'), max=146.0), HTML(value='')), layout=Layout(di…"
      ]
     },
     "metadata": {},
     "output_type": "display_data"
    },
    {
     "name": "stdout",
     "output_type": "stream",
     "text": [
      "\n",
      "Lr now: 1.0000000000000002e-06\n",
      "М-----------аа------кк---------и---н-------с-------к--- => Макинск             , gt: Макинск             \n",
      "С------------аа-------р---------а---------н---------ьь- => Сарань              , gt: Сарань              \n",
      "В------н--и--м---а---е--м---    ----оо-д-н--ии--м----,, => Внимаем одним,      , gt: Внимаем одним,      \n",
      "Т------у--р---к---е--с--т-----а---н----сс-кк--аа-----я- => Туркестанская       , gt: Туркестанская       \n",
      "о----т----чч--ии---з---н---ыы--   ---м------оо--е----й- => отчизны моей        , gt: отчизны моей        \n"
     ]
    },
    {
     "data": {
      "application/vnd.jupyter.widget-view+json": {
       "model_id": "7026b4ce7a9142378aba12bf04b94b63",
       "version_major": 2,
       "version_minor": 0
      },
      "text/plain": [
       "HBox(children=(FloatProgress(value=0.0, layout=Layout(flex='2'), max=711.0), HTML(value='')), layout=Layout(di…"
      ]
     },
     "metadata": {},
     "output_type": "display_data"
    },
    {
     "name": "stdout",
     "output_type": "stream",
     "text": [
      "\n"
     ]
    },
    {
     "data": {
      "application/vnd.jupyter.widget-view+json": {
       "model_id": "b52cdd85d1954dacb4dbeca7bb04bd65",
       "version_major": 2,
       "version_minor": 0
      },
      "text/plain": [
       "HBox(children=(FloatProgress(value=0.0, layout=Layout(flex='2'), max=146.0), HTML(value='')), layout=Layout(di…"
      ]
     },
     "metadata": {},
     "output_type": "display_data"
    },
    {
     "name": "stdout",
     "output_type": "stream",
     "text": [
      "\n",
      "Lr now: 1.0000000000000002e-06\n",
      "Т-------у-рр---к--е--с-тт-----а---нн--сс-к----аа-----я- => Туркестанская       , gt: Туркестанская       \n",
      "Б---------ы---  ----------о---в----и---дд--ее--лл---и-- => Бы овидели          , gt: Вы обидели          \n",
      "А------лл----мм----а----тт---ии--н---сс-кк---аа------я- => Алматинская         , gt: Алматинская         \n",
      "Л----уу-г-аа---м----ии--   ---к--а--т----я--т---сс--я-- => Лугами катятся      , gt: Лугами катятся      \n",
      "Ж----------а-----кк---а--------оо----з-------е-----нн-- => Жакаозен            , gt: Жанаозен            \n"
     ]
    },
    {
     "data": {
      "application/vnd.jupyter.widget-view+json": {
       "model_id": "d9c4a4a7b45a4fe3a388512fca1b3df2",
       "version_major": 2,
       "version_minor": 0
      },
      "text/plain": [
       "HBox(children=(FloatProgress(value=0.0, layout=Layout(flex='2'), max=711.0), HTML(value='')), layout=Layout(di…"
      ]
     },
     "metadata": {},
     "output_type": "display_data"
    },
    {
     "name": "stdout",
     "output_type": "stream",
     "text": [
      "\n"
     ]
    },
    {
     "data": {
      "application/vnd.jupyter.widget-view+json": {
       "model_id": "7a6cf53531c648478065b044137a15f1",
       "version_major": 2,
       "version_minor": 0
      },
      "text/plain": [
       "HBox(children=(FloatProgress(value=0.0, layout=Layout(flex='2'), max=146.0), HTML(value='')), layout=Layout(di…"
      ]
     },
     "metadata": {},
     "output_type": "display_data"
    },
    {
     "name": "stdout",
     "output_type": "stream",
     "text": [
      "\n",
      "Lr now: 1.0000000000000002e-06\n",
      "Ж---------а-----м-----бб--ы----лл-ьь---с--кк---а-----я- => Жамбыльская         , gt: Жамбыльская         \n",
      "С--------тт-----е-----п------нн------------я----к------ => Степняк             , gt: Степняк             \n",
      "Б----------аа------й-----ы-----нн-----ш---------аа----- => Байынша             , gt: Тайынша             \n",
      "И------,  --дд---о----к-----у---чч----н-----ы------х--- => И, докучных         , gt: И, докучных         \n",
      "О-----------б-----л------и------м----о----е----тт------ => Облимоет            , gt: обнимает            \n"
     ]
    },
    {
     "data": {
      "application/vnd.jupyter.widget-view+json": {
       "model_id": "cb2edacc6a374e789ef74625d8f060c1",
       "version_major": 2,
       "version_minor": 0
      },
      "text/plain": [
       "HBox(children=(FloatProgress(value=0.0, layout=Layout(flex='2'), max=711.0), HTML(value='')), layout=Layout(di…"
      ]
     },
     "metadata": {},
     "output_type": "display_data"
    },
    {
     "name": "stdout",
     "output_type": "stream",
     "text": [
      "\n"
     ]
    },
    {
     "data": {
      "application/vnd.jupyter.widget-view+json": {
       "model_id": "6354dce824b24d7aa2d6b2fc10551383",
       "version_major": 2,
       "version_minor": 0
      },
      "text/plain": [
       "HBox(children=(FloatProgress(value=0.0, layout=Layout(flex='2'), max=146.0), HTML(value='')), layout=Layout(di…"
      ]
     },
     "metadata": {},
     "output_type": "display_data"
    },
    {
     "name": "stdout",
     "output_type": "stream",
     "text": [
      "\n",
      "Lr now: 1.0000000000000002e-06\n",
      "О----п-----я----т-----ь    -----------о---дд---нн---аа- => Опять одна          , gt: Опять одна          \n",
      "В----з-ы----в--а-лл--и-  -кк-  --м------щщ-е-н---ь---ю- => Взывали к мщенью    , gt: Взывали к мщенью    \n",
      "С--п-е-р--в--а-  ------и-з--м---у--чч-ии-вв--ш---ии-с-ь => Сперва измучившись  , gt: Сперва измучившись, \n",
      "о---------тт-------------------т-----------аа-------л-- => оттал               , gt: отстал              \n",
      "А------------ТТ-----Ы-------------Р-------АА--------У-- => АТЫРАУ              , gt: АТЫРАУ              \n"
     ]
    },
    {
     "data": {
      "application/vnd.jupyter.widget-view+json": {
       "model_id": "cf306272a38b422ca547a99ba278d454",
       "version_major": 2,
       "version_minor": 0
      },
      "text/plain": [
       "HBox(children=(FloatProgress(value=0.0, layout=Layout(flex='2'), max=711.0), HTML(value='')), layout=Layout(di…"
      ]
     },
     "metadata": {},
     "output_type": "display_data"
    },
    {
     "name": "stdout",
     "output_type": "stream",
     "text": [
      "\n"
     ]
    },
    {
     "data": {
      "application/vnd.jupyter.widget-view+json": {
       "model_id": "322fe84670b94ff1a483cfddadcff1b1",
       "version_major": 2,
       "version_minor": 0
      },
      "text/plain": [
       "HBox(children=(FloatProgress(value=0.0, layout=Layout(flex='2'), max=146.0), HTML(value='')), layout=Layout(di…"
      ]
     },
     "metadata": {},
     "output_type": "display_data"
    },
    {
     "name": "stdout",
     "output_type": "stream",
     "text": [
      "\n",
      "Lr now: 1.0000000000000002e-06\n",
      "Г-----------у-----л-----ь-----шшш-------аа----т-------- => Гульшат             , gt: Гульшат             \n",
      "н--а-  -т----у--м--а--н--н--ы--х--  ---г-о-рр-а---х---, => на туманных горах,  , gt: на туманных горах,  \n",
      "к---аа--ч---а----я    --------к--о--лл--ы---б--е---л--ь => качая колыбель      , gt: качая колыбель      \n",
      "У------м------е---р-----ш------ии----х--,  ----н-----о- => Умерших, но         , gt: Умерших, но         \n",
      "с----у--х--------у-------ю--  --вв----о----дд---уу----. => сухую воду.         , gt: сухую воду.         \n"
     ]
    },
    {
     "data": {
      "application/vnd.jupyter.widget-view+json": {
       "model_id": "f0cf504cab604f0fb076daf2cc6ccb33",
       "version_major": 2,
       "version_minor": 0
      },
      "text/plain": [
       "HBox(children=(FloatProgress(value=0.0, layout=Layout(flex='2'), max=711.0), HTML(value='')), layout=Layout(di…"
      ]
     },
     "metadata": {},
     "output_type": "display_data"
    },
    {
     "name": "stdout",
     "output_type": "stream",
     "text": [
      "\n"
     ]
    },
    {
     "data": {
      "application/vnd.jupyter.widget-view+json": {
       "model_id": "4cbeb18d368b41cab0207603eef2eb7f",
       "version_major": 2,
       "version_minor": 0
      },
      "text/plain": [
       "HBox(children=(FloatProgress(value=0.0, layout=Layout(flex='2'), max=146.0), HTML(value='')), layout=Layout(di…"
      ]
     },
     "metadata": {},
     "output_type": "display_data"
    },
    {
     "name": "stdout",
     "output_type": "stream",
     "text": [
      "\n",
      "Lr now: 1.0000000000000002e-06\n",
      "А----------б------х------а----------------иии-----я---- => Абхаия              , gt: Абхазия             \n",
      "к------аа---к--    -------о---бб--лл----а-----к---аа--, => как облака,         , gt: как облака,         \n",
      "п-----утт-ь-   ----м----о--й-   --сс--к---у--ч--е--м--, => путь мой скучем,    , gt: путь мой скучен,    \n",
      "Ю-----ж----нн--о----КК--а-з-аа-хх--с-т--а--н-сскк-а--я- => Южно-Казахстанская  , gt: Южно-Казахстанская  \n",
      "А-----------л------м-----------а--------т------ыы------ => Алматы              , gt: Алматы              \n"
     ]
    },
    {
     "data": {
      "application/vnd.jupyter.widget-view+json": {
       "model_id": "486934e7b28f4a2182391e4528646227",
       "version_major": 2,
       "version_minor": 0
      },
      "text/plain": [
       "HBox(children=(FloatProgress(value=0.0, layout=Layout(flex='2'), max=711.0), HTML(value='')), layout=Layout(di…"
      ]
     },
     "metadata": {},
     "output_type": "display_data"
    },
    {
     "name": "stdout",
     "output_type": "stream",
     "text": [
      "\n"
     ]
    },
    {
     "data": {
      "application/vnd.jupyter.widget-view+json": {
       "model_id": "215624f6df734fb1804f0db55b11ca3e",
       "version_major": 2,
       "version_minor": 0
      },
      "text/plain": [
       "HBox(children=(FloatProgress(value=0.0, layout=Layout(flex='2'), max=146.0), HTML(value='')), layout=Layout(di…"
      ]
     },
     "metadata": {},
     "output_type": "display_data"
    },
    {
     "name": "stdout",
     "output_type": "stream",
     "text": [
      "\n",
      "Lr now: 1.0000000000000002e-06\n",
      "М------------о----л---д-----аа-----в-----ии--------яя-- => Молдавия            , gt: Молдавия            \n",
      "н-----е-   ---------ии---сс-п----у----г---а---е--т----, => не испугает,        , gt: не испугает,        \n",
      "н------аа------д--   ------мм-----е---чч---о------м---- => над мечом           , gt: над мечом           \n",
      "А---------лл----м------а---тт---ии-нн--сс--кк---а---яя- => Алматинская         , gt: Алматинская         \n",
      "Т---------у-рр---к--ее-----сс-тт---а--нн-сс-кк-аа---я-- => Туркестанская       , gt: Туркестанская       \n"
     ]
    },
    {
     "data": {
      "application/vnd.jupyter.widget-view+json": {
       "model_id": "8719a1334aeb4715a76c49c0f4067787",
       "version_major": 2,
       "version_minor": 0
      },
      "text/plain": [
       "HBox(children=(FloatProgress(value=0.0, layout=Layout(flex='2'), max=711.0), HTML(value='')), layout=Layout(di…"
      ]
     },
     "metadata": {},
     "output_type": "display_data"
    },
    {
     "name": "stdout",
     "output_type": "stream",
     "text": [
      "\n"
     ]
    },
    {
     "data": {
      "application/vnd.jupyter.widget-view+json": {
       "model_id": "6d5d80636f6d4f57b2ccab2bc15ac0f1",
       "version_major": 2,
       "version_minor": 0
      },
      "text/plain": [
       "HBox(children=(FloatProgress(value=0.0, layout=Layout(flex='2'), max=146.0), HTML(value='')), layout=Layout(di…"
      ]
     },
     "metadata": {},
     "output_type": "display_data"
    },
    {
     "name": "stdout",
     "output_type": "stream",
     "text": [
      "\n",
      "Lr now: 1.0000000000000002e-06\n",
      "Т-----о- -с-е-р-ддее-ч--н--а---я-  -тт---о-сс-к--а----… => То сердечная тоска… , gt: То сердечная тоска… \n",
      "В------    -------к----о----т---о--рр-----о------м----- => В котором           , gt: В котором           \n",
      "А---к------т---------ю--бб---ии---н---сс---к----а-----я => Актюбинская         , gt: Актюбинская         \n",
      "У--------зз---б---е---к------и----с---т----а-------н--- => Узбекистан          , gt: Узбекистан          \n",
      "Ж---------а----м-----б---ы-----лл--ь--сс--к---а-----яя- => Жамбыльская         , gt: Жамбыльская         \n"
     ]
    },
    {
     "data": {
      "application/vnd.jupyter.widget-view+json": {
       "model_id": "3183e520a7a64c309d708555370b2801",
       "version_major": 2,
       "version_minor": 0
      },
      "text/plain": [
       "HBox(children=(FloatProgress(value=0.0, layout=Layout(flex='2'), max=711.0), HTML(value='')), layout=Layout(di…"
      ]
     },
     "metadata": {},
     "output_type": "display_data"
    },
    {
     "name": "stdout",
     "output_type": "stream",
     "text": [
      "\n"
     ]
    },
    {
     "data": {
      "application/vnd.jupyter.widget-view+json": {
       "model_id": "c632d763eb6744f6809deb0bccc00ed4",
       "version_major": 2,
       "version_minor": 0
      },
      "text/plain": [
       "HBox(children=(FloatProgress(value=0.0, layout=Layout(flex='2'), max=146.0), HTML(value='')), layout=Layout(di…"
      ]
     },
     "metadata": {},
     "output_type": "display_data"
    },
    {
     "name": "stdout",
     "output_type": "stream",
     "text": [
      "\n",
      "Lr now: 1.0000000000000002e-06\n",
      "м---------------------ее------н------------------яя---- => меня                , gt: меня                \n",
      "д--------жж----------ии----гг----иии---тт----------уу-- => джигиту             , gt: джигиту             \n",
      "л-----------------у---ннн----------а------------------, => луна,               , gt: луна,               \n",
      "д----е--в--и--ч-ь-ии--м--   ---к---у-п--а--н-ьь-е--м--- => девичьим купаньем   , gt: девичьим купаньем   \n",
      "К-----а--рр--а---г--а---н---дд--ии--нн--сс-к----а----я- => Карагандинская      , gt: Карагандинская      \n"
     ]
    },
    {
     "data": {
      "application/vnd.jupyter.widget-view+json": {
       "model_id": "06d78b91e77d4ea68e8bbd0dd109336a",
       "version_major": 2,
       "version_minor": 0
      },
      "text/plain": [
       "HBox(children=(FloatProgress(value=0.0, layout=Layout(flex='2'), max=711.0), HTML(value='')), layout=Layout(di…"
      ]
     },
     "metadata": {},
     "output_type": "display_data"
    },
    {
     "name": "stdout",
     "output_type": "stream",
     "text": [
      "\n"
     ]
    },
    {
     "data": {
      "application/vnd.jupyter.widget-view+json": {
       "model_id": "3cee494e96de4d71b1b1b71f1c20b55f",
       "version_major": 2,
       "version_minor": 0
      },
      "text/plain": [
       "HBox(children=(FloatProgress(value=0.0, layout=Layout(flex='2'), max=146.0), HTML(value='')), layout=Layout(di…"
      ]
     },
     "metadata": {},
     "output_type": "display_data"
    },
    {
     "name": "stdout",
     "output_type": "stream",
     "text": [
      "\n",
      "Lr now: 1.0000000000000002e-06\n",
      "Я-----   ----л----ю--бб--л----ю-   ---тт----е--б--яя--, => Я люблю тебя,       , gt: Я люблю тебя,       \n",
      "К---------ы------з---ы----л----о-----ррр------дд---а--- => Кызылорда           , gt: Кызылорда           \n",
      "д----л--я-  --нн---а--с-  ------с-а---д--ии--тт---сс-я, => для нас садится,    , gt: для нас садится,    \n",
      "К---------а----зз---а------лл----иии---нн------сс--кк-- => Казалинск           , gt: Казалинск           \n",
      "П------е--тт----р----о---п---аа---в---ллл--о--вв-сс--к- => Петропавловск       , gt: Петропавловск       \n"
     ]
    },
    {
     "data": {
      "application/vnd.jupyter.widget-view+json": {
       "model_id": "f83a7edfc08f4cd58caa15f516cef31f",
       "version_major": 2,
       "version_minor": 0
      },
      "text/plain": [
       "HBox(children=(FloatProgress(value=0.0, layout=Layout(flex='2'), max=711.0), HTML(value='')), layout=Layout(di…"
      ]
     },
     "metadata": {},
     "output_type": "display_data"
    },
    {
     "name": "stdout",
     "output_type": "stream",
     "text": [
      "\n"
     ]
    },
    {
     "data": {
      "application/vnd.jupyter.widget-view+json": {
       "model_id": "ca14a2ea052d412e9199f9cc6c531e5f",
       "version_major": 2,
       "version_minor": 0
      },
      "text/plain": [
       "HBox(children=(FloatProgress(value=0.0, layout=Layout(flex='2'), max=146.0), HTML(value='')), layout=Layout(di…"
      ]
     },
     "metadata": {},
     "output_type": "display_data"
    },
    {
     "name": "stdout",
     "output_type": "stream",
     "text": [
      "\n",
      "Lr now: 1.0000000000000002e-06\n",
      "А----К----М------О----Л----И----Н-----С----К----А----Я- => АКМОЛИНСКАЯ         , gt: АКМОЛИНСКАЯ         \n",
      "З--аа-п-аа-д-н--о---КК--а-зз-а-ххссстт---а--н-сск--а--я => Западно-Казахстанская, gt: Западно-Казахстанская\n",
      "п--р--ее-к--рр---а--сс-н---о---е-   -----лл--ии---ц--о- => прекрасное лицо     , gt: прекрасное лицо     \n",
      "н--а-  -----т---у--м--аа--н--н-ы--х-   ---гг-орр--а-х-, => на туманных горах,  , gt: на туманных горах,  \n",
      "Г----д-ее-  -----в--ыы---лл-   --п----о--ж--ж---аа--р-- => Где выл пожжар      , gt: Где выл пожар       \n"
     ]
    },
    {
     "data": {
      "application/vnd.jupyter.widget-view+json": {
       "model_id": "ff2e5bb76a14415e82092e97406d261d",
       "version_major": 2,
       "version_minor": 0
      },
      "text/plain": [
       "HBox(children=(FloatProgress(value=0.0, layout=Layout(flex='2'), max=711.0), HTML(value='')), layout=Layout(di…"
      ]
     },
     "metadata": {},
     "output_type": "display_data"
    },
    {
     "name": "stdout",
     "output_type": "stream",
     "text": [
      "\n"
     ]
    },
    {
     "data": {
      "application/vnd.jupyter.widget-view+json": {
       "model_id": "9c4193eaab4049d889e8b98f88fe6367",
       "version_major": 2,
       "version_minor": 0
      },
      "text/plain": [
       "HBox(children=(FloatProgress(value=0.0, layout=Layout(flex='2'), max=146.0), HTML(value='')), layout=Layout(di…"
      ]
     },
     "metadata": {},
     "output_type": "display_data"
    },
    {
     "name": "stdout",
     "output_type": "stream",
     "text": [
      "\n",
      "Lr now: 1.0000000000000002e-06\n",
      "П-----е--т-----р--о----п---а----в----л--о---в---сс---к- => Петропавловск       , gt: Петропавловск       \n",
      "К--------ИИ------Р------ГГ---ИИ-------З-----ИИ------Я-- => КИРГИЗИЯ            , gt: КИРГИЗИЯ            \n",
      "А-----   -----в---с---т----р--е--тт----яя--т-----с---я- => А встретятся        , gt: А встретятся        \n",
      "т--е-р--зз-а---л--и-  --ж---ии-з--н--ь-   --м---о--и-о. => терзали жизнь моио. , gt: терзали жизнь мою.  \n",
      "Т-----ы--   ---о--т--д-а--с-л--а--   ---сс-в---о-----ю- => Ты отдасла свою     , gt: Ты отдала свою      \n"
     ]
    },
    {
     "data": {
      "application/vnd.jupyter.widget-view+json": {
       "model_id": "300f772fe07b406fbb6c1c9e478516aa",
       "version_major": 2,
       "version_minor": 0
      },
      "text/plain": [
       "HBox(children=(FloatProgress(value=0.0, layout=Layout(flex='2'), max=711.0), HTML(value='')), layout=Layout(di…"
      ]
     },
     "metadata": {},
     "output_type": "display_data"
    },
    {
     "name": "stdout",
     "output_type": "stream",
     "text": [
      "\n"
     ]
    },
    {
     "data": {
      "application/vnd.jupyter.widget-view+json": {
       "model_id": "064bac6e06e64c77a0f0999999890524",
       "version_major": 2,
       "version_minor": 0
      },
      "text/plain": [
       "HBox(children=(FloatProgress(value=0.0, layout=Layout(flex='2'), max=146.0), HTML(value='')), layout=Layout(di…"
      ]
     },
     "metadata": {},
     "output_type": "display_data"
    },
    {
     "name": "stdout",
     "output_type": "stream",
     "text": [
      "\n",
      "Lr now: 1.0000000000000002e-06\n",
      "О---сс---у-жж----д--е--н----ы---  ----ии---д--т---л--е- => Осуждены идтле      , gt: Осуждены идти       \n",
      "К---------уу----шш-----ь------сс---а-----р------ы------ => Кушьсары            , gt: Кульсары            \n",
      "Я------   ---зз---вв--аа---л--   ---тт--ее---б----яя--, => Я звал тебя,        , gt: Я звал тебя,        \n",
      "П-------а--вв----лл---о---дд-аа--рр--сс-кк----а------я- => Павлодарская        , gt: Павлодарская        \n",
      "З--------а----гг----лл------ ----ж--------уу---сс---ьь- => Загл жусь           , gt: Загляжусь           \n"
     ]
    },
    {
     "data": {
      "application/vnd.jupyter.widget-view+json": {
       "model_id": "a297d3e4948b4aef91870f7c2b6d41da",
       "version_major": 2,
       "version_minor": 0
      },
      "text/plain": [
       "HBox(children=(FloatProgress(value=0.0, layout=Layout(flex='2'), max=711.0), HTML(value='')), layout=Layout(di…"
      ]
     },
     "metadata": {},
     "output_type": "display_data"
    },
    {
     "name": "stdout",
     "output_type": "stream",
     "text": [
      "\n"
     ]
    },
    {
     "data": {
      "application/vnd.jupyter.widget-view+json": {
       "model_id": "159042b14e30422fa2ec34e0a82a9a04",
       "version_major": 2,
       "version_minor": 0
      },
      "text/plain": [
       "HBox(children=(FloatProgress(value=0.0, layout=Layout(flex='2'), max=146.0), HTML(value='')), layout=Layout(di…"
      ]
     },
     "metadata": {},
     "output_type": "display_data"
    },
    {
     "name": "stdout",
     "output_type": "stream",
     "text": [
      "\n",
      "Lr now: 1.0000000000000002e-06\n",
      "З-------ы------р------я---нн-----о----в-----сс---к----- => Зыряновск           , gt: Зыряновск           \n",
      "П-------ее--рр----е---д--  -------м-----нн----о-----йй- => Перед мной          , gt: Перед мной          \n",
      "К-----а--кк--   ------мм------а---лл--ь------ии---к---, => Как мальик,         , gt: Как мальчик,        \n",
      "И----   -зз-а---р--жж----а--вв--л-е--н----н----ы-----й- => И заржавленный      , gt: И заржавленный      \n",
      "р-----------оо---------дд-----нн-------оо-------ее----- => родное              , gt: родное              \n"
     ]
    },
    {
     "data": {
      "application/vnd.jupyter.widget-view+json": {
       "model_id": "0b125692874a4d9a86b5b64ff6f95da3",
       "version_major": 2,
       "version_minor": 0
      },
      "text/plain": [
       "HBox(children=(FloatProgress(value=0.0, layout=Layout(flex='2'), max=711.0), HTML(value='')), layout=Layout(di…"
      ]
     },
     "metadata": {},
     "output_type": "display_data"
    },
    {
     "name": "stdout",
     "output_type": "stream",
     "text": [
      "\n"
     ]
    },
    {
     "data": {
      "application/vnd.jupyter.widget-view+json": {
       "model_id": "0f1b1cf67c3a449b9730c67b6381f6f9",
       "version_major": 2,
       "version_minor": 0
      },
      "text/plain": [
       "HBox(children=(FloatProgress(value=0.0, layout=Layout(flex='2'), max=146.0), HTML(value='')), layout=Layout(di…"
      ]
     },
     "metadata": {},
     "output_type": "display_data"
    },
    {
     "name": "stdout",
     "output_type": "stream",
     "text": [
      "\n",
      "Lr now: 1.0000000000000002e-06\n",
      "ч--т---о-  --м--е--н--яя-  --в-е--к--ор---м-------л-а-, => что меня векормла,  , gt: что меня вскормила, \n",
      "Р------------------------КК---------------------------- => РК                  , gt: РК                  \n",
      "Б---------е----лл---о----р-----уу---с----с----иии----я- => Белоруссия          , gt: БЕЛОРУССИЯ          \n",
      "И----------------шшшш---------а-------н--------а------, => Ишана,              , gt: Ишака,              \n",
      "П-------аа---в---ллл--о--дд---а---р-----с---к--------я- => Павлодарскя         , gt: Павлодарская        \n"
     ]
    },
    {
     "data": {
      "application/vnd.jupyter.widget-view+json": {
       "model_id": "d0f0f8e5a2154a00b7daf661ed8a92a2",
       "version_major": 2,
       "version_minor": 0
      },
      "text/plain": [
       "HBox(children=(FloatProgress(value=0.0, layout=Layout(flex='2'), max=711.0), HTML(value='')), layout=Layout(di…"
      ]
     },
     "metadata": {},
     "output_type": "display_data"
    },
    {
     "name": "stdout",
     "output_type": "stream",
     "text": [
      "\n"
     ]
    },
    {
     "data": {
      "application/vnd.jupyter.widget-view+json": {
       "model_id": "37042d39177143a09528f7204b0614e2",
       "version_major": 2,
       "version_minor": 0
      },
      "text/plain": [
       "HBox(children=(FloatProgress(value=0.0, layout=Layout(flex='2'), max=146.0), HTML(value='')), layout=Layout(di…"
      ]
     },
     "metadata": {},
     "output_type": "display_data"
    },
    {
     "name": "stdout",
     "output_type": "stream",
     "text": [
      "\n",
      "Lr now: 1.0000000000000002e-06\n",
      "В----------   ---------с---тт---------о--гг----а------, => В стога,            , gt: В стога,            \n",
      "Ю------жж------н----аа---я-   -----О---с-е--т---ии---я- => Южная Осетия        , gt: Южная Осетия        \n",
      "и---   --з--а---л--е--ч---и--л-аа-   ----р--а--н---ы--, => и залечила раны,    , gt: и залечила раны,    \n",
      "Я-----------    ---------д------д-------------о-----ь-- => Я ддоь              , gt: Я здесь             \n",
      "п----------оо------гг-----оо--------дд-----аа---------, => погода,             , gt: погода,             \n"
     ]
    },
    {
     "data": {
      "application/vnd.jupyter.widget-view+json": {
       "model_id": "1d03363a64e043ae8501c2b62a1249da",
       "version_major": 2,
       "version_minor": 0
      },
      "text/plain": [
       "HBox(children=(FloatProgress(value=0.0, layout=Layout(flex='2'), max=711.0), HTML(value='')), layout=Layout(di…"
      ]
     },
     "metadata": {},
     "output_type": "display_data"
    },
    {
     "name": "stdout",
     "output_type": "stream",
     "text": [
      "\n"
     ]
    },
    {
     "data": {
      "application/vnd.jupyter.widget-view+json": {
       "model_id": "0eaf3a603cfe43cc956e7bdf1b0cb17b",
       "version_major": 2,
       "version_minor": 0
      },
      "text/plain": [
       "HBox(children=(FloatProgress(value=0.0, layout=Layout(flex='2'), max=146.0), HTML(value='')), layout=Layout(di…"
      ]
     },
     "metadata": {},
     "output_type": "display_data"
    },
    {
     "name": "stdout",
     "output_type": "stream",
     "text": [
      "\n",
      "Lr now: 1.0000000000000002e-06\n",
      "О----к----т--------я----б---рр----сс---к-----и-----йй-- => Октябрский          , gt: Октябрский          \n",
      "с------в------я-----р---кк------а------------м--------- => свяркам             , gt: связкам             \n",
      "о-----------п----------------я------тт-------------ьь-- => опять               , gt: опять               \n",
      "К--------оо---сс--т---------аа-----н------аа---------й- => Костанай            , gt: Костанай            \n",
      "з----а--в--е-т-----н---оо--е   ---п---о---л--ь----ц-о-. => заветное польцо.    , gt: заветное кольцо.    \n"
     ]
    },
    {
     "data": {
      "application/vnd.jupyter.widget-view+json": {
       "model_id": "b8aa5d21df364321a729da9992d55316",
       "version_major": 2,
       "version_minor": 0
      },
      "text/plain": [
       "HBox(children=(FloatProgress(value=0.0, layout=Layout(flex='2'), max=711.0), HTML(value='')), layout=Layout(di…"
      ]
     },
     "metadata": {},
     "output_type": "display_data"
    },
    {
     "name": "stdout",
     "output_type": "stream",
     "text": [
      "\n"
     ]
    },
    {
     "data": {
      "application/vnd.jupyter.widget-view+json": {
       "model_id": "e3faa0cf4e00455c8f7265a96507c120",
       "version_major": 2,
       "version_minor": 0
      },
      "text/plain": [
       "HBox(children=(FloatProgress(value=0.0, layout=Layout(flex='2'), max=146.0), HTML(value='')), layout=Layout(di…"
      ]
     },
     "metadata": {},
     "output_type": "display_data"
    },
    {
     "name": "stdout",
     "output_type": "stream",
     "text": [
      "\n",
      "Lr now: 1.0000000000000002e-06\n",
      "в-----   -----бб-----а------рр-----аа------кк----ее---, => в бараке,           , gt: в бараке,           \n",
      "с--  ---рр---о--з--о--в--о--й-   ----зз--а---рр--е---й- => с розовой зарей     , gt: с розовой зарей     \n",
      "К-------------------у-----------х------а--------------- => Куха                , gt: Скучно              \n",
      "Я---------    ------------зз-----дд---ее------с-----ьь- => Я здесь             , gt: Я здесь             \n",
      "м-------------------ее------нн--------------я---------. => меня.               , gt: меня.               \n"
     ]
    }
   ],
   "source": [
    "ep = 100\n",
    "\n",
    "train_loss = []\n",
    "train_acc_char = []\n",
    "train_acc_str = []\n",
    "train_cer = []\n",
    "\n",
    "val_loss = []\n",
    "val_acc_char = []\n",
    "val_acc_str = []\n",
    "val_cer = []\n",
    "\n",
    "best_str_acc = 0\n",
    "\n",
    "for epoch in range(ep):\n",
    "    train_epoch_loss = []\n",
    "    \n",
    "    train_epoch_acc_char = []\n",
    "    train_epoch_acc_str = []\n",
    "    train_epoch_cer = []\n",
    "    \n",
    "    with tqdm(total = len(train_dataloader), ncols='100%') as bar_train:\n",
    "        for i, (images, gt_text) in enumerate(train_dataloader):\n",
    "\n",
    "            results = train_on_batch_rec(images, gt_text, net, ocr_loss, optimizer, device, batch_size, converter)\n",
    "            loss, acc_char, acc_str, cer = results\n",
    "            \n",
    "            train_epoch_loss.append(loss)\n",
    "            train_epoch_acc_char.append(acc_char)\n",
    "            train_epoch_acc_str.append(acc_str)\n",
    "            train_epoch_cer.append(cer)\n",
    "\n",
    "            printed_data = f\"Ep: {epoch}. Train loss: {np.mean(train_epoch_loss):.4f}.\\\n",
    "            Acc char: {np.mean(train_epoch_acc_char):.4f}.\\\n",
    "            Acc str: {np.mean(train_epoch_acc_str):.4f}.\\\n",
    "            CER: {np.mean(train_epoch_cer):.4f}.\"\n",
    "            bar_train.set_description(printed_data)\n",
    "            bar_train.update(1)\n",
    "            \n",
    "    train_loss.append(np.mean(train_epoch_loss))\n",
    "    \n",
    "    train_acc_char.append(np.mean(train_epoch_acc_char))\n",
    "    train_acc_str.append(np.mean(train_epoch_acc_str))\n",
    "    train_cer.append(np.mean(train_epoch_cer))\n",
    "    \n",
    "    \n",
    "    val_epoch_loss = []\n",
    "    \n",
    "    val_epoch_acc_char = []\n",
    "    val_epoch_acc_str = []\n",
    "    val_epoch_cer = []\n",
    "    \n",
    "    with tqdm(total = len(val_dataloader), ncols='100%') as bar_val:\n",
    "        for i, (images, gt_text) in enumerate(val_dataloader):\n",
    "\n",
    "            results = val_on_batch_rec(images, gt_text, net, ocr_loss, device, batch_size, converter)\n",
    "            loss, acc_char, acc_str, cer, decode_text, gt_text, raw_preds = results\n",
    "            \n",
    "            val_epoch_loss.append(loss)\n",
    "            val_epoch_acc_char.append(acc_char)\n",
    "            val_epoch_acc_str.append(acc_str)\n",
    "            val_epoch_cer.append(cer)\n",
    "\n",
    "            printed_data = f\"Ep: {epoch}. Val loss: {np.mean(val_epoch_loss):.4f}.\\\n",
    "            Acc char: {np.mean(val_epoch_acc_char):.4f}.\\\n",
    "            Acc str: {np.mean(val_epoch_acc_str):.4f}.\\\n",
    "            CER: {np.mean(val_epoch_cer):.4f}.\"\n",
    "            bar_val.set_description(printed_data)\n",
    "            bar_val.update(1)\n",
    "        \n",
    "    val_loss.append(np.mean(val_epoch_loss))\n",
    "    \n",
    "    val_acc_char.append(np.mean(val_epoch_acc_char))\n",
    "    val_acc_str.append(np.mean(val_epoch_acc_str))\n",
    "    val_cer.append(np.mean(val_epoch_cer))\n",
    "    \n",
    "    print('Lr now:', optimizer.param_groups[0]['lr'])\n",
    "\n",
    "    for raw_pred, pred, gt in zip(raw_preds, decode_text, gt_text):\n",
    "        print('%-20s => %-20s, gt: %-20s' % (raw_pred, pred, gt)) \n",
    "    \n",
    "    if epoch == 40:\n",
    "        for g in optimizer.param_groups:\n",
    "            g['lr'] = g['lr']*0.1\n",
    "        print('Lr now:', optimizer.param_groups[0]['lr'])\n",
    "        \n",
    "    if epoch == 70:\n",
    "        for g in optimizer.param_groups:\n",
    "            g['lr'] = g['lr']*0.1\n",
    "        print('Lr now:', optimizer.param_groups[0]['lr'])"
   ]
  },
  {
   "cell_type": "code",
   "execution_count": null,
   "metadata": {},
   "outputs": [],
   "source": []
  }
 ],
 "metadata": {
  "kernelspec": {
   "display_name": "Python 3",
   "language": "python",
   "name": "python3"
  },
  "language_info": {
   "codemirror_mode": {
    "name": "ipython",
    "version": 3
   },
   "file_extension": ".py",
   "mimetype": "text/x-python",
   "name": "python",
   "nbconvert_exporter": "python",
   "pygments_lexer": "ipython3",
   "version": "3.7.7"
  }
 },
 "nbformat": 4,
 "nbformat_minor": 4
}
