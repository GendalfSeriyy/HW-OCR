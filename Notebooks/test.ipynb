{
 "cells": [
  {
   "cell_type": "code",
   "execution_count": 1,
   "metadata": {},
   "outputs": [],
   "source": [
    "import sys\n",
    "sys.path.append('../../HW-OCR/')\n",
    "from hwocr.trainer import Trainer\n",
    "import torch\n",
    "from matplotlib import pyplot as plt"
   ]
  },
  {
   "cell_type": "markdown",
   "metadata": {},
   "source": [
    "# Test CRNN model"
   ]
  },
  {
   "cell_type": "code",
   "execution_count": 2,
   "metadata": {},
   "outputs": [],
   "source": [
    "trainer = Trainer.load(load_folder='../pretrained_models/CRNN_1',\n",
    "                       load_policy='last',\n",
    "                       device='cuda:2')"
   ]
  },
  {
   "cell_type": "code",
   "execution_count": 5,
   "metadata": {},
   "outputs": [
    {
     "data": {
      "application/vnd.jupyter.widget-view+json": {
       "model_id": "8947bd89eabe4acb921b95a113c9be0f",
       "version_major": 2,
       "version_minor": 0
      },
      "text/plain": [
       "HBox(children=(FloatProgress(value=0.0, layout=Layout(flex='2'), max=74.0), HTML(value='')), layout=Layout(dis…"
      ]
     },
     "metadata": {},
     "output_type": "display_data"
    },
    {
     "name": "stdout",
     "output_type": "stream",
     "text": [
      "\n",
      "К----ы--зз--ыы--лл--оо-рр---д---ии--н----с-кк----а--я- => Кызылординская      , gt: Кызылординская      \n",
      "М-------а----н--ггг--и---с-т---аа----у---с-к----а---я- => Мангистауская       , gt: Мангистауская       \n",
      "С-----------е-----------м------------е-----------йй--- => Семей               , gt: Семей               \n",
      "Т-----е-----щ--а--л--юю  вв--------е-рр--ии---т---ьь-, => Тещалю верить,      , gt: обещаю верить,      \n",
      "К--------а---рр------аа-гг------а----н-----дд------а-- => Караганда           , gt: Караганда           \n",
      "Lr now: 0.001\n",
      "CER: 0.13888011820618887\n",
      "WER: 0.42787514076576577\n"
     ]
    }
   ],
   "source": [
    "trainer.validate(iterator = trainer.test1_iterator, test = True)"
   ]
  },
  {
   "cell_type": "code",
   "execution_count": 7,
   "metadata": {},
   "outputs": [
    {
     "data": {
      "application/vnd.jupyter.widget-view+json": {
       "model_id": "7b5f8db2d2d14c98b5b39da94cf7cc07",
       "version_major": 2,
       "version_minor": 0
      },
      "text/plain": [
       "HBox(children=(FloatProgress(value=0.0, layout=Layout(flex='2'), max=78.0), HTML(value='')), layout=Layout(dis…"
      ]
     },
     "metadata": {},
     "output_type": "display_data"
    },
    {
     "name": "stdout",
     "output_type": "stream",
     "text": [
      "\n",
      "В--  г------усс--тт---оо--йй   л-----о-----щщ-и--н--е- => В густой лощине     , gt: В густой лощине     \n",
      "Н-------аа---сс---тт-------а---вв----шш------ии----йй- => Наставший           , gt: Наставший           \n",
      "И----  пп-----о  -и-----з--р----ыы---тт---оо--мм---у-- => И по изрытому       , gt: И по изрытому       \n",
      "П----е--рр---е---дд-  мм--------------н------о-----йй- => Перед мной          , gt: Перед мной          \n",
      "в------о---з-----вв--р------а-----тт-----яяя---ссс--ь- => возвратясь          , gt: возвратясь          \n",
      "Lr now: 0.001\n",
      "CER: 0.031154880878331584\n",
      "WER: 0.10730836004273502\n"
     ]
    }
   ],
   "source": [
    "trainer.validate(iterator = trainer.test2_iterator, test = True)"
   ]
  },
  {
   "cell_type": "markdown",
   "metadata": {},
   "source": [
    "# Test CRNN model with augmentations"
   ]
  },
  {
   "cell_type": "code",
   "execution_count": 3,
   "metadata": {},
   "outputs": [],
   "source": [
    "trainer = Trainer.load(load_folder='../pretrained_models/CRNN_1_aug',\n",
    "                       load_policy='last',\n",
    "                       device='cuda:2')"
   ]
  },
  {
   "cell_type": "code",
   "execution_count": 4,
   "metadata": {},
   "outputs": [
    {
     "data": {
      "application/vnd.jupyter.widget-view+json": {
       "model_id": "ad6cc4a951924acaa8db93bb93c27613",
       "version_major": 2,
       "version_minor": 0
      },
      "text/plain": [
       "HBox(children=(FloatProgress(value=0.0, layout=Layout(flex='2'), max=74.0), HTML(value='')), layout=Layout(dis…"
      ]
     },
     "metadata": {},
     "output_type": "display_data"
    },
    {
     "name": "stdout",
     "output_type": "stream",
     "text": [
      "\n",
      "К----ы--з---ы---лл--о--р---д---ии---н----с-кк---а---я- => Кызылординская      , gt: Кызылординская      \n",
      "М-----а-----м----гг-ии--ссттт-а----у----сс-кк--а----я- => Мамгистауская       , gt: Мангистауская       \n",
      "С---------е------------м-----------е-----------йй----- => Семей               , gt: Семей               \n",
      "о----ее----щ---а---ю-------  -в---ее--р--я---т----ь--, => оещаю верять,       , gt: обещаю верить,      \n",
      "К-------а----р------а-----г---а------н-----дд-----а--- => Караганда           , gt: Караганда           \n",
      "Lr now: 0.001\n",
      "CER: 0.13995219675206358\n",
      "WER: 0.40816793355855857\n"
     ]
    }
   ],
   "source": [
    "trainer.validate(iterator = trainer.test1_iterator, test = True)"
   ]
  },
  {
   "cell_type": "code",
   "execution_count": 5,
   "metadata": {},
   "outputs": [
    {
     "data": {
      "application/vnd.jupyter.widget-view+json": {
       "model_id": "d2b81c16b31d41cda56502cd29fbc282",
       "version_major": 2,
       "version_minor": 0
      },
      "text/plain": [
       "HBox(children=(FloatProgress(value=0.0, layout=Layout(flex='2'), max=78.0), HTML(value='')), layout=Layout(dis…"
      ]
     },
     "metadata": {},
     "output_type": "display_data"
    },
    {
     "name": "stdout",
     "output_type": "stream",
     "text": [
      "\n",
      "В---   гг--у--с-тт----о--й----  -л---о-----щ--и--н-ее- => В густой лощине     , gt: В густой лощине     \n",
      "Н-----а-----с----т-------а-----в---шш------иии-----й-- => Наставший           , gt: Наставший           \n",
      "И-----  -п----о--   и---з--р----ы---тт----о---мм---у-- => И по изрытому       , gt: И по изрытому       \n",
      "П----е--р---ее---д----  --мм---------н------о-----й--- => Перед мной          , gt: Перед мной          \n",
      "в-----оо---з-----в---р----а-----т--------я-----ссс-ьь- => возвратясь          , gt: возвратясь          \n",
      "Lr now: 0.001\n",
      "CER: 0.02675159254290353\n",
      "WER: 0.08741319444444444\n"
     ]
    }
   ],
   "source": [
    "trainer.validate(iterator = trainer.test2_iterator, test = True)"
   ]
  },
  {
   "cell_type": "markdown",
   "metadata": {},
   "source": [
    "# Test FCNN model"
   ]
  },
  {
   "cell_type": "code",
   "execution_count": 6,
   "metadata": {},
   "outputs": [],
   "source": [
    "trainer = Trainer.load(load_folder='../pretrained_models/FCNN_1',\n",
    "                       load_policy='last',\n",
    "                       device='cuda:2')"
   ]
  },
  {
   "cell_type": "code",
   "execution_count": 9,
   "metadata": {},
   "outputs": [
    {
     "data": {
      "application/vnd.jupyter.widget-view+json": {
       "model_id": "4b74e76dd4a54a28844149ba4d56911a",
       "version_major": 2,
       "version_minor": 0
      },
      "text/plain": [
       "HBox(children=(FloatProgress(value=0.0, layout=Layout(flex='2'), max=74.0), HTML(value='')), layout=Layout(dis…"
      ]
     },
     "metadata": {},
     "output_type": "display_data"
    },
    {
     "name": "stdout",
     "output_type": "stream",
     "text": [
      "\n",
      "Кы---з--ы----л-оо---р---д---и----н--с---к---ая => Кызылординская      , gt: Кызылординская      \n",
      "М-а------м----г-ии--сс-тт-а------у--с---к-аа-я => Мамгистауская       , gt: Мангистауская       \n",
      "С----е--------м----------------е------------йй => Семей               , gt: Семей               \n",
      "Ззе-----щ-а----юю-------  -в--е---р--и---тт-ь, => Ззещаю верить,      , gt: обещаю верить,      \n",
      "К---а-----р-----а-----гг--а-------н-----д----а => Караганда           , gt: Караганда           \n",
      "Lr now: 0.001\n",
      "CER: 0.16449794068146237\n",
      "WER: 0.5658783783783784\n"
     ]
    }
   ],
   "source": [
    "trainer.validate(iterator = trainer.test1_iterator, test = True)"
   ]
  },
  {
   "cell_type": "code",
   "execution_count": 10,
   "metadata": {},
   "outputs": [
    {
     "data": {
      "application/vnd.jupyter.widget-view+json": {
       "model_id": "b8a1814b8f4543c89502f5d4710da7da",
       "version_major": 2,
       "version_minor": 0
      },
      "text/plain": [
       "HBox(children=(FloatProgress(value=0.0, layout=Layout(flex='2'), max=78.0), HTML(value='')), layout=Layout(dis…"
      ]
     },
     "metadata": {},
     "output_type": "display_data"
    },
    {
     "name": "stdout",
     "output_type": "stream",
     "text": [
      "\n",
      "В-  г---у-с--тт---о--йй----  -л--о------щ-и-не => В густой лощине     , gt: В густой лощине     \n",
      "Н-аа-----с----тт-----а-----вв---ш-------ии---й => Наставший           , gt: Наставший           \n",
      "И--  -п--о----- -и--з---р---ы----т----о---м-уу => И по изрытому       , gt: И по изрытому       \n",
      "Пе---рр--е---д-----  --л----е----н------о----й => Перед леной         , gt: Перед мной          \n",
      "в-оо---зз----в----р---а------тт------яя---сссь => возвратясь          , gt: возвратясь          \n",
      "Lr now: 0.001\n",
      "CER: 0.0835586120989128\n",
      "WER: 0.32914997329059825\n"
     ]
    }
   ],
   "source": [
    "trainer.validate(iterator = trainer.test2_iterator, test = True)"
   ]
  },
  {
   "cell_type": "markdown",
   "metadata": {},
   "source": [
    "# Test CRNN-attention model"
   ]
  },
  {
   "cell_type": "code",
   "execution_count": 7,
   "metadata": {},
   "outputs": [],
   "source": [
    "trainer = Trainer.load(load_folder='../pretrained_models/Atten_CRNN_1',\n",
    "                       load_policy='last',\n",
    "                       device='cuda:2')"
   ]
  },
  {
   "cell_type": "code",
   "execution_count": 12,
   "metadata": {},
   "outputs": [
    {
     "data": {
      "application/vnd.jupyter.widget-view+json": {
       "model_id": "a0645ebdd2994d54a94c0dad32c92103",
       "version_major": 2,
       "version_minor": 0
      },
      "text/plain": [
       "HBox(children=(FloatProgress(value=0.0, layout=Layout(flex='2'), max=4773.0), HTML(value='')), layout=Layout(d…"
      ]
     },
     "metadata": {},
     "output_type": "display_data"
    },
    {
     "name": "stdout",
     "output_type": "stream",
     "text": [
      "\n",
      "Lr now: 0.0001\n",
      "CER: 0.20708520953092038\n",
      "WER: 0.48732453383616176\n"
     ]
    }
   ],
   "source": [
    "trainer.validate(iterator = trainer.test1_iterator, test = True)"
   ]
  },
  {
   "cell_type": "code",
   "execution_count": 13,
   "metadata": {},
   "outputs": [
    {
     "data": {
      "application/vnd.jupyter.widget-view+json": {
       "model_id": "21161fba0aa143219102222c7329abbc",
       "version_major": 2,
       "version_minor": 0
      },
      "text/plain": [
       "HBox(children=(FloatProgress(value=0.0, layout=Layout(flex='2'), max=5043.0), HTML(value='')), layout=Layout(d…"
      ]
     },
     "metadata": {},
     "output_type": "display_data"
    },
    {
     "name": "stdout",
     "output_type": "stream",
     "text": [
      "\n",
      "Lr now: 0.0001\n",
      "CER: 0.04379607461843268\n",
      "WER: 0.13149580276290568\n"
     ]
    }
   ],
   "source": [
    "trainer.validate(iterator = trainer.test2_iterator, test = True)"
   ]
  },
  {
   "cell_type": "markdown",
   "metadata": {},
   "source": []
  }
 ],
 "metadata": {
  "kernelspec": {
   "display_name": "Python 3",
   "language": "python",
   "name": "python3"
  },
  "language_info": {
   "codemirror_mode": {
    "name": "ipython",
    "version": 3
   },
   "file_extension": ".py",
   "mimetype": "text/x-python",
   "name": "python",
   "nbconvert_exporter": "python",
   "pygments_lexer": "ipython3",
   "version": "3.7.7"
  }
 },
 "nbformat": 4,
 "nbformat_minor": 4
}
